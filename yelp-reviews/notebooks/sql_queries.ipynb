{
 "cells": [
  {
   "cell_type": "code",
   "execution_count": 1,
   "id": "c72b644a",
   "metadata": {},
   "outputs": [],
   "source": [
    "import pandas as pd\n",
    "import plotly.express as px\n",
    "from plotly import graph_objects as go"
   ]
  },
  {
   "cell_type": "markdown",
   "id": "394d0cba",
   "metadata": {},
   "source": [
    "## Connect to Snowflake"
   ]
  },
  {
   "cell_type": "code",
   "execution_count": 2,
   "id": "7a22cf51",
   "metadata": {},
   "outputs": [],
   "source": [
    "import snowflake.connector\n",
    "from snowflake_credentials import snowflake_params\n",
    "\n",
    "conn = snowflake.connector.connect(\n",
    "    user=snowflake_params['user'],\n",
    "    password=snowflake_params['password'],\n",
    "    account=snowflake_params['account'],\n",
    "    warehouse=snowflake_params['warehouse'],\n",
    "    database=snowflake_params['database'],\n",
    "    schema=snowflake_params['schema'],\n",
    "    role=snowflake_params['role']\n",
    ")\n",
    "\n",
    "cur = conn.cursor()"
   ]
  },
  {
   "cell_type": "markdown",
   "id": "127ba17d",
   "metadata": {},
   "source": [
    "## Table Data Preview"
   ]
  },
  {
   "cell_type": "markdown",
   "id": "f45f8099",
   "metadata": {},
   "source": [
    "### Yelp Businesses Table"
   ]
  },
  {
   "cell_type": "code",
   "execution_count": 11,
   "id": "52e587fb",
   "metadata": {},
   "outputs": [
    {
     "name": "stdout",
     "output_type": "stream",
     "text": [
      "There are 150,346 records in the Yelp businesses table.\n"
     ]
    },
    {
     "data": {
      "text/html": [
       "<style type=\"text/css\">\n",
       "#T_30c85 caption {\n",
       "  text-align: left;\n",
       "}\n",
       "</style>\n",
       "<table id=\"T_30c85\">\n",
       "  <caption><span style=\"font-size: 20px;\">Table 1: Yelp Businesses Table Preview</span></caption>\n",
       "  <thead>\n",
       "    <tr>\n",
       "      <th class=\"blank level0\" >&nbsp;</th>\n",
       "      <th id=\"T_30c85_level0_col0\" class=\"col_heading level0 col0\" >NAME</th>\n",
       "      <th id=\"T_30c85_level0_col1\" class=\"col_heading level0 col1\" >BUSINESS_ID</th>\n",
       "      <th id=\"T_30c85_level0_col2\" class=\"col_heading level0 col2\" >IS_OPEN</th>\n",
       "      <th id=\"T_30c85_level0_col3\" class=\"col_heading level0 col3\" >REVIEW_COUNT</th>\n",
       "      <th id=\"T_30c85_level0_col4\" class=\"col_heading level0 col4\" >STARS</th>\n",
       "      <th id=\"T_30c85_level0_col5\" class=\"col_heading level0 col5\" >CATEGORIES</th>\n",
       "      <th id=\"T_30c85_level0_col6\" class=\"col_heading level0 col6\" >STATE</th>\n",
       "      <th id=\"T_30c85_level0_col7\" class=\"col_heading level0 col7\" >CITY</th>\n",
       "      <th id=\"T_30c85_level0_col8\" class=\"col_heading level0 col8\" >POSTAL_CODE</th>\n",
       "      <th id=\"T_30c85_level0_col9\" class=\"col_heading level0 col9\" >LATITUDE</th>\n",
       "      <th id=\"T_30c85_level0_col10\" class=\"col_heading level0 col10\" >LONGITUDE</th>\n",
       "    </tr>\n",
       "  </thead>\n",
       "  <tbody>\n",
       "    <tr>\n",
       "      <th id=\"T_30c85_level0_row0\" class=\"row_heading level0 row0\" >0</th>\n",
       "      <td id=\"T_30c85_row0_col0\" class=\"data row0 col0\" >Abby Rappoport, LAC, CMQ</td>\n",
       "      <td id=\"T_30c85_row0_col1\" class=\"data row0 col1\" >Pns2l4eNsfO8kk83dixA6A</td>\n",
       "      <td id=\"T_30c85_row0_col2\" class=\"data row0 col2\" >0</td>\n",
       "      <td id=\"T_30c85_row0_col3\" class=\"data row0 col3\" >7</td>\n",
       "      <td id=\"T_30c85_row0_col4\" class=\"data row0 col4\" >5.000000</td>\n",
       "      <td id=\"T_30c85_row0_col5\" class=\"data row0 col5\" >Doctors, Traditional Chinese Medicine, Naturopathic/Holistic, Acupuncture, Health & Medical, Nutritionists</td>\n",
       "      <td id=\"T_30c85_row0_col6\" class=\"data row0 col6\" >CA</td>\n",
       "      <td id=\"T_30c85_row0_col7\" class=\"data row0 col7\" >Santa Barbara</td>\n",
       "      <td id=\"T_30c85_row0_col8\" class=\"data row0 col8\" >93101</td>\n",
       "      <td id=\"T_30c85_row0_col9\" class=\"data row0 col9\" >34.426679</td>\n",
       "      <td id=\"T_30c85_row0_col10\" class=\"data row0 col10\" >-119.711197</td>\n",
       "    </tr>\n",
       "    <tr>\n",
       "      <th id=\"T_30c85_level0_row1\" class=\"row_heading level0 row1\" >1</th>\n",
       "      <td id=\"T_30c85_row1_col0\" class=\"data row1 col0\" >The UPS Store</td>\n",
       "      <td id=\"T_30c85_row1_col1\" class=\"data row1 col1\" >mpf3x-BjTdTEA3yCZrAYPw</td>\n",
       "      <td id=\"T_30c85_row1_col2\" class=\"data row1 col2\" >1</td>\n",
       "      <td id=\"T_30c85_row1_col3\" class=\"data row1 col3\" >15</td>\n",
       "      <td id=\"T_30c85_row1_col4\" class=\"data row1 col4\" >3.000000</td>\n",
       "      <td id=\"T_30c85_row1_col5\" class=\"data row1 col5\" >Shipping Centers, Local Services, Notaries, Mailbox Centers, Printing Services</td>\n",
       "      <td id=\"T_30c85_row1_col6\" class=\"data row1 col6\" >MO</td>\n",
       "      <td id=\"T_30c85_row1_col7\" class=\"data row1 col7\" >Affton</td>\n",
       "      <td id=\"T_30c85_row1_col8\" class=\"data row1 col8\" >63123</td>\n",
       "      <td id=\"T_30c85_row1_col9\" class=\"data row1 col9\" >38.551126</td>\n",
       "      <td id=\"T_30c85_row1_col10\" class=\"data row1 col10\" >-90.335695</td>\n",
       "    </tr>\n",
       "    <tr>\n",
       "      <th id=\"T_30c85_level0_row2\" class=\"row_heading level0 row2\" >2</th>\n",
       "      <td id=\"T_30c85_row2_col0\" class=\"data row2 col0\" >Target</td>\n",
       "      <td id=\"T_30c85_row2_col1\" class=\"data row2 col1\" >tUFrWirKiKi_TAnsVWINQQ</td>\n",
       "      <td id=\"T_30c85_row2_col2\" class=\"data row2 col2\" >0</td>\n",
       "      <td id=\"T_30c85_row2_col3\" class=\"data row2 col3\" >22</td>\n",
       "      <td id=\"T_30c85_row2_col4\" class=\"data row2 col4\" >3.500000</td>\n",
       "      <td id=\"T_30c85_row2_col5\" class=\"data row2 col5\" >Department Stores, Shopping, Fashion, Home & Garden, Electronics, Furniture Stores</td>\n",
       "      <td id=\"T_30c85_row2_col6\" class=\"data row2 col6\" >AZ</td>\n",
       "      <td id=\"T_30c85_row2_col7\" class=\"data row2 col7\" >Tucson</td>\n",
       "      <td id=\"T_30c85_row2_col8\" class=\"data row2 col8\" >85711</td>\n",
       "      <td id=\"T_30c85_row2_col9\" class=\"data row2 col9\" >32.223236</td>\n",
       "      <td id=\"T_30c85_row2_col10\" class=\"data row2 col10\" >-110.880452</td>\n",
       "    </tr>\n",
       "    <tr>\n",
       "      <th id=\"T_30c85_level0_row3\" class=\"row_heading level0 row3\" >3</th>\n",
       "      <td id=\"T_30c85_row3_col0\" class=\"data row3 col0\" >St Honore Pastries</td>\n",
       "      <td id=\"T_30c85_row3_col1\" class=\"data row3 col1\" >MTSW4McQd7CbVtyjqoe9mw</td>\n",
       "      <td id=\"T_30c85_row3_col2\" class=\"data row3 col2\" >1</td>\n",
       "      <td id=\"T_30c85_row3_col3\" class=\"data row3 col3\" >80</td>\n",
       "      <td id=\"T_30c85_row3_col4\" class=\"data row3 col4\" >4.000000</td>\n",
       "      <td id=\"T_30c85_row3_col5\" class=\"data row3 col5\" >Restaurants, Food, Bubble Tea, Coffee & Tea, Bakeries</td>\n",
       "      <td id=\"T_30c85_row3_col6\" class=\"data row3 col6\" >PA</td>\n",
       "      <td id=\"T_30c85_row3_col7\" class=\"data row3 col7\" >Philadelphia</td>\n",
       "      <td id=\"T_30c85_row3_col8\" class=\"data row3 col8\" >19107</td>\n",
       "      <td id=\"T_30c85_row3_col9\" class=\"data row3 col9\" >39.955505</td>\n",
       "      <td id=\"T_30c85_row3_col10\" class=\"data row3 col10\" >-75.155564</td>\n",
       "    </tr>\n",
       "    <tr>\n",
       "      <th id=\"T_30c85_level0_row4\" class=\"row_heading level0 row4\" >4</th>\n",
       "      <td id=\"T_30c85_row4_col0\" class=\"data row4 col0\" >Perkiomen Valley Brewery</td>\n",
       "      <td id=\"T_30c85_row4_col1\" class=\"data row4 col1\" >mWMc6_wTdE0EUBKIGXDVfA</td>\n",
       "      <td id=\"T_30c85_row4_col2\" class=\"data row4 col2\" >1</td>\n",
       "      <td id=\"T_30c85_row4_col3\" class=\"data row4 col3\" >13</td>\n",
       "      <td id=\"T_30c85_row4_col4\" class=\"data row4 col4\" >4.500000</td>\n",
       "      <td id=\"T_30c85_row4_col5\" class=\"data row4 col5\" >Brewpubs, Breweries, Food</td>\n",
       "      <td id=\"T_30c85_row4_col6\" class=\"data row4 col6\" >PA</td>\n",
       "      <td id=\"T_30c85_row4_col7\" class=\"data row4 col7\" >Green Lane</td>\n",
       "      <td id=\"T_30c85_row4_col8\" class=\"data row4 col8\" >18054</td>\n",
       "      <td id=\"T_30c85_row4_col9\" class=\"data row4 col9\" >40.338183</td>\n",
       "      <td id=\"T_30c85_row4_col10\" class=\"data row4 col10\" >-75.471659</td>\n",
       "    </tr>\n",
       "  </tbody>\n",
       "</table>\n"
      ],
      "text/plain": [
       "<pandas.io.formats.style.Styler at 0x229d47bdbd0>"
      ]
     },
     "metadata": {},
     "output_type": "display_data"
    }
   ],
   "source": [
    "businesses_count = cur.execute('''\n",
    "                               SELECT COUNT(*)\n",
    "                               FROM yelp_businesses\n",
    "                               ''').fetch_pandas_all()\n",
    "\n",
    "print(f'There are {businesses_count['COUNT(*)'][0]:,} records in the Yelp businesses table.')\n",
    "\n",
    "df = cur.execute('''\n",
    "                 SELECT *\n",
    "                 FROM yelp_businesses \n",
    "                 LIMIT 5\n",
    "                 ''').fetch_pandas_all()\n",
    "\n",
    "styles = [{\n",
    "    'selector': 'caption', 'props': 'text-align: left;'\n",
    "}]\n",
    "\n",
    "display(df.style.set_caption('<span style=\"font-size: 20px;\">Table 1: Yelp Businesses Table Preview</span>').set_table_styles(styles))"
   ]
  },
  {
   "cell_type": "markdown",
   "id": "36993216",
   "metadata": {},
   "source": [
    "### Yelp Reviews Table"
   ]
  },
  {
   "cell_type": "code",
   "execution_count": 15,
   "id": "c2e09727",
   "metadata": {},
   "outputs": [
    {
     "name": "stdout",
     "output_type": "stream",
     "text": [
      "There are 6,990,280 records in the Yelp reviews table.\n"
     ]
    },
    {
     "data": {
      "text/html": [
       "<style type=\"text/css\">\n",
       "#T_f574b caption {\n",
       "  text-align: left;\n",
       "}\n",
       "</style>\n",
       "<table id=\"T_f574b\">\n",
       "  <caption><span style=\"font-size: 20px;\">Table 2: Yelp Reviews Table Preview</span></caption>\n",
       "  <thead>\n",
       "    <tr>\n",
       "      <th class=\"blank level0\" >&nbsp;</th>\n",
       "      <th id=\"T_f574b_level0_col0\" class=\"col_heading level0 col0\" >BUSINESS_ID</th>\n",
       "      <th id=\"T_f574b_level0_col1\" class=\"col_heading level0 col1\" >REVIEW_ID</th>\n",
       "      <th id=\"T_f574b_level0_col2\" class=\"col_heading level0 col2\" >USER_ID</th>\n",
       "      <th id=\"T_f574b_level0_col3\" class=\"col_heading level0 col3\" >REVIEW_DATE</th>\n",
       "      <th id=\"T_f574b_level0_col4\" class=\"col_heading level0 col4\" >USER_REVIEW</th>\n",
       "      <th id=\"T_f574b_level0_col5\" class=\"col_heading level0 col5\" >STARS</th>\n",
       "      <th id=\"T_f574b_level0_col6\" class=\"col_heading level0 col6\" >COOL_VOTES</th>\n",
       "      <th id=\"T_f574b_level0_col7\" class=\"col_heading level0 col7\" >FUNNY_VOTES</th>\n",
       "      <th id=\"T_f574b_level0_col8\" class=\"col_heading level0 col8\" >USEFUL_VOTES</th>\n",
       "    </tr>\n",
       "  </thead>\n",
       "  <tbody>\n",
       "    <tr>\n",
       "      <th id=\"T_f574b_level0_row0\" class=\"row_heading level0 row0\" >0</th>\n",
       "      <td id=\"T_f574b_row0_col0\" class=\"data row0 col0\" >iRIHK8-EwpeffwvoO4nzIA</td>\n",
       "      <td id=\"T_f574b_row0_col1\" class=\"data row0 col1\" >oXpWjOG2rue-2bHbjvDZIQ</td>\n",
       "      <td id=\"T_f574b_row0_col2\" class=\"data row0 col2\" >1uHAAjOX18Px4OibCMI3pg</td>\n",
       "      <td id=\"T_f574b_row0_col3\" class=\"data row0 col3\" >2018-10-04</td>\n",
       "      <td id=\"T_f574b_row0_col4\" class=\"data row0 col4\" >Awesome spot. This is one of my favorite places in St. Louis. Its best to go on Saturdays when the bands are there playing. The food is great and restaurant atmosphere is great. This visit we had our beers and tasted a lot of the menu while the band was playing. Some of the stand out items we tastes were the voodoo shrimp, the crawfish mac n cheese, the oysters, and blackened red snapper tacos.  The sauce on the voodoo shrimp were my favorite thing all day. The shrimp are lightly fried with a spicy flavorful sauce. The crawfish mac n cheese had plenty of cheese and crawfish tails to be really filling. The oysters served were large and fresh. The blackened red snapper tacoses were seasoned really good and hit the spot.</td>\n",
       "      <td id=\"T_f574b_row0_col5\" class=\"data row0 col5\" >5</td>\n",
       "      <td id=\"T_f574b_row0_col6\" class=\"data row0 col6\" >0</td>\n",
       "      <td id=\"T_f574b_row0_col7\" class=\"data row0 col7\" >0</td>\n",
       "      <td id=\"T_f574b_row0_col8\" class=\"data row0 col8\" >0</td>\n",
       "    </tr>\n",
       "  </tbody>\n",
       "</table>\n"
      ],
      "text/plain": [
       "<pandas.io.formats.style.Styler at 0x229d47bdbd0>"
      ]
     },
     "metadata": {},
     "output_type": "display_data"
    }
   ],
   "source": [
    "reviews_count = cur.execute('''\n",
    "                               SELECT COUNT(*)\n",
    "                               FROM yelp_reviews\n",
    "                               ''').fetch_pandas_all()\n",
    "\n",
    "print(f'There are {reviews_count['COUNT(*)'][0]:,} records in the Yelp reviews table.')\n",
    "\n",
    "df = cur.execute('''\n",
    "                 SELECT *\n",
    "                 FROM yelp_reviews \n",
    "                 LIMIT 1\n",
    "                 ''').fetch_pandas_all()\n",
    "\n",
    "styles = [{\n",
    "    'selector': 'caption', 'props': 'text-align: left;'\n",
    "}]\n",
    "\n",
    "display(df.style.set_caption('<span style=\"font-size: 20px;\">Table 2: Yelp Reviews Table Preview</span>').set_table_styles(styles))"
   ]
  },
  {
   "cell_type": "markdown",
   "id": "4cc91b99",
   "metadata": {},
   "source": [
    "### Yelp Users Table"
   ]
  },
  {
   "cell_type": "code",
   "execution_count": 16,
   "id": "12e5e80d",
   "metadata": {},
   "outputs": [
    {
     "name": "stdout",
     "output_type": "stream",
     "text": [
      "There are 1,987,897 records in the Yelp users table.\n"
     ]
    },
    {
     "data": {
      "text/html": [
       "<style type=\"text/css\">\n",
       "#T_5fdb8 caption {\n",
       "  text-align: left;\n",
       "}\n",
       "</style>\n",
       "<table id=\"T_5fdb8\">\n",
       "  <caption><span style=\"font-size: 20px;\">Table 3: Yelp Users Table Preview</span></caption>\n",
       "  <thead>\n",
       "    <tr>\n",
       "      <th class=\"blank level0\" >&nbsp;</th>\n",
       "      <th id=\"T_5fdb8_level0_col0\" class=\"col_heading level0 col0\" >FIRST_NAME</th>\n",
       "      <th id=\"T_5fdb8_level0_col1\" class=\"col_heading level0 col1\" >USER_ID</th>\n",
       "      <th id=\"T_5fdb8_level0_col2\" class=\"col_heading level0 col2\" >YELPING_SINCE</th>\n",
       "      <th id=\"T_5fdb8_level0_col3\" class=\"col_heading level0 col3\" >REVIEW_COUNT</th>\n",
       "      <th id=\"T_5fdb8_level0_col4\" class=\"col_heading level0 col4\" >AVG_STARS</th>\n",
       "      <th id=\"T_5fdb8_level0_col5\" class=\"col_heading level0 col5\" >FANS</th>\n",
       "      <th id=\"T_5fdb8_level0_col6\" class=\"col_heading level0 col6\" >COOL_COMPLIMENTS</th>\n",
       "      <th id=\"T_5fdb8_level0_col7\" class=\"col_heading level0 col7\" >CUTE_COMPLIMENTS</th>\n",
       "      <th id=\"T_5fdb8_level0_col8\" class=\"col_heading level0 col8\" >FUNNY_COMPLIMENTS</th>\n",
       "      <th id=\"T_5fdb8_level0_col9\" class=\"col_heading level0 col9\" >HOT_COMPLIMENTS</th>\n",
       "      <th id=\"T_5fdb8_level0_col10\" class=\"col_heading level0 col10\" >LIST_COMPLIMENTS</th>\n",
       "      <th id=\"T_5fdb8_level0_col11\" class=\"col_heading level0 col11\" >MORE_COMPLIMENTS</th>\n",
       "      <th id=\"T_5fdb8_level0_col12\" class=\"col_heading level0 col12\" >NOTE_COMPLIMENTS</th>\n",
       "      <th id=\"T_5fdb8_level0_col13\" class=\"col_heading level0 col13\" >PHOTO_COMPLIMENTS</th>\n",
       "      <th id=\"T_5fdb8_level0_col14\" class=\"col_heading level0 col14\" >PLAIN_COMPLIMENTS</th>\n",
       "      <th id=\"T_5fdb8_level0_col15\" class=\"col_heading level0 col15\" >PROFILE_COMPLIMENTS</th>\n",
       "      <th id=\"T_5fdb8_level0_col16\" class=\"col_heading level0 col16\" >WRITER_COMPLIMENTS</th>\n",
       "      <th id=\"T_5fdb8_level0_col17\" class=\"col_heading level0 col17\" >COOL_VOTES</th>\n",
       "      <th id=\"T_5fdb8_level0_col18\" class=\"col_heading level0 col18\" >ELITE</th>\n",
       "      <th id=\"T_5fdb8_level0_col19\" class=\"col_heading level0 col19\" >FUNNY_VOTES</th>\n",
       "      <th id=\"T_5fdb8_level0_col20\" class=\"col_heading level0 col20\" >USEFUL_VOTES</th>\n",
       "    </tr>\n",
       "  </thead>\n",
       "  <tbody>\n",
       "    <tr>\n",
       "      <th id=\"T_5fdb8_level0_row0\" class=\"row_heading level0 row0\" >0</th>\n",
       "      <td id=\"T_5fdb8_row0_col0\" class=\"data row0 col0\" >Thomas</td>\n",
       "      <td id=\"T_5fdb8_row0_col1\" class=\"data row0 col1\" >dXZLLcy6klelF1O1wL_vzw</td>\n",
       "      <td id=\"T_5fdb8_row0_col2\" class=\"data row0 col2\" >2015-07-24</td>\n",
       "      <td id=\"T_5fdb8_row0_col3\" class=\"data row0 col3\" >11</td>\n",
       "      <td id=\"T_5fdb8_row0_col4\" class=\"data row0 col4\" >4.450000</td>\n",
       "      <td id=\"T_5fdb8_row0_col5\" class=\"data row0 col5\" >1</td>\n",
       "      <td id=\"T_5fdb8_row0_col6\" class=\"data row0 col6\" >0</td>\n",
       "      <td id=\"T_5fdb8_row0_col7\" class=\"data row0 col7\" >0</td>\n",
       "      <td id=\"T_5fdb8_row0_col8\" class=\"data row0 col8\" >0</td>\n",
       "      <td id=\"T_5fdb8_row0_col9\" class=\"data row0 col9\" >0</td>\n",
       "      <td id=\"T_5fdb8_row0_col10\" class=\"data row0 col10\" >0</td>\n",
       "      <td id=\"T_5fdb8_row0_col11\" class=\"data row0 col11\" >0</td>\n",
       "      <td id=\"T_5fdb8_row0_col12\" class=\"data row0 col12\" >0</td>\n",
       "      <td id=\"T_5fdb8_row0_col13\" class=\"data row0 col13\" >0</td>\n",
       "      <td id=\"T_5fdb8_row0_col14\" class=\"data row0 col14\" >0</td>\n",
       "      <td id=\"T_5fdb8_row0_col15\" class=\"data row0 col15\" >0</td>\n",
       "      <td id=\"T_5fdb8_row0_col16\" class=\"data row0 col16\" >0</td>\n",
       "      <td id=\"T_5fdb8_row0_col17\" class=\"data row0 col17\" >0</td>\n",
       "      <td id=\"T_5fdb8_row0_col18\" class=\"data row0 col18\" ></td>\n",
       "      <td id=\"T_5fdb8_row0_col19\" class=\"data row0 col19\" >0</td>\n",
       "      <td id=\"T_5fdb8_row0_col20\" class=\"data row0 col20\" >2</td>\n",
       "    </tr>\n",
       "    <tr>\n",
       "      <th id=\"T_5fdb8_level0_row1\" class=\"row_heading level0 row1\" >1</th>\n",
       "      <td id=\"T_5fdb8_row1_col0\" class=\"data row1 col0\" >Jeremias JMan</td>\n",
       "      <td id=\"T_5fdb8_row1_col1\" class=\"data row1 col1\" >eaiIXArF07R0MGtu4h-6kg</td>\n",
       "      <td id=\"T_5fdb8_row1_col2\" class=\"data row1 col2\" >2015-10-29</td>\n",
       "      <td id=\"T_5fdb8_row1_col3\" class=\"data row1 col3\" >19</td>\n",
       "      <td id=\"T_5fdb8_row1_col4\" class=\"data row1 col4\" >4.420000</td>\n",
       "      <td id=\"T_5fdb8_row1_col5\" class=\"data row1 col5\" >1</td>\n",
       "      <td id=\"T_5fdb8_row1_col6\" class=\"data row1 col6\" >0</td>\n",
       "      <td id=\"T_5fdb8_row1_col7\" class=\"data row1 col7\" >0</td>\n",
       "      <td id=\"T_5fdb8_row1_col8\" class=\"data row1 col8\" >0</td>\n",
       "      <td id=\"T_5fdb8_row1_col9\" class=\"data row1 col9\" >0</td>\n",
       "      <td id=\"T_5fdb8_row1_col10\" class=\"data row1 col10\" >0</td>\n",
       "      <td id=\"T_5fdb8_row1_col11\" class=\"data row1 col11\" >0</td>\n",
       "      <td id=\"T_5fdb8_row1_col12\" class=\"data row1 col12\" >0</td>\n",
       "      <td id=\"T_5fdb8_row1_col13\" class=\"data row1 col13\" >0</td>\n",
       "      <td id=\"T_5fdb8_row1_col14\" class=\"data row1 col14\" >0</td>\n",
       "      <td id=\"T_5fdb8_row1_col15\" class=\"data row1 col15\" >0</td>\n",
       "      <td id=\"T_5fdb8_row1_col16\" class=\"data row1 col16\" >0</td>\n",
       "      <td id=\"T_5fdb8_row1_col17\" class=\"data row1 col17\" >2</td>\n",
       "      <td id=\"T_5fdb8_row1_col18\" class=\"data row1 col18\" ></td>\n",
       "      <td id=\"T_5fdb8_row1_col19\" class=\"data row1 col19\" >9</td>\n",
       "      <td id=\"T_5fdb8_row1_col20\" class=\"data row1 col20\" >9</td>\n",
       "    </tr>\n",
       "    <tr>\n",
       "      <th id=\"T_5fdb8_level0_row2\" class=\"row_heading level0 row2\" >2</th>\n",
       "      <td id=\"T_5fdb8_row2_col0\" class=\"data row2 col0\" >Dolly</td>\n",
       "      <td id=\"T_5fdb8_row2_col1\" class=\"data row2 col1\" >T_Fsemvyy8IsoB90-sS0sQ</td>\n",
       "      <td id=\"T_5fdb8_row2_col2\" class=\"data row2 col2\" >2014-05-05</td>\n",
       "      <td id=\"T_5fdb8_row2_col3\" class=\"data row2 col3\" >48</td>\n",
       "      <td id=\"T_5fdb8_row2_col4\" class=\"data row2 col4\" >4.320000</td>\n",
       "      <td id=\"T_5fdb8_row2_col5\" class=\"data row2 col5\" >5</td>\n",
       "      <td id=\"T_5fdb8_row2_col6\" class=\"data row2 col6\" >1</td>\n",
       "      <td id=\"T_5fdb8_row2_col7\" class=\"data row2 col7\" >1</td>\n",
       "      <td id=\"T_5fdb8_row2_col8\" class=\"data row2 col8\" >1</td>\n",
       "      <td id=\"T_5fdb8_row2_col9\" class=\"data row2 col9\" >2</td>\n",
       "      <td id=\"T_5fdb8_row2_col10\" class=\"data row2 col10\" >0</td>\n",
       "      <td id=\"T_5fdb8_row2_col11\" class=\"data row2 col11\" >0</td>\n",
       "      <td id=\"T_5fdb8_row2_col12\" class=\"data row2 col12\" >0</td>\n",
       "      <td id=\"T_5fdb8_row2_col13\" class=\"data row2 col13\" >0</td>\n",
       "      <td id=\"T_5fdb8_row2_col14\" class=\"data row2 col14\" >1</td>\n",
       "      <td id=\"T_5fdb8_row2_col15\" class=\"data row2 col15\" >0</td>\n",
       "      <td id=\"T_5fdb8_row2_col16\" class=\"data row2 col16\" >0</td>\n",
       "      <td id=\"T_5fdb8_row2_col17\" class=\"data row2 col17\" >13</td>\n",
       "      <td id=\"T_5fdb8_row2_col18\" class=\"data row2 col18\" ></td>\n",
       "      <td id=\"T_5fdb8_row2_col19\" class=\"data row2 col19\" >10</td>\n",
       "      <td id=\"T_5fdb8_row2_col20\" class=\"data row2 col20\" >38</td>\n",
       "    </tr>\n",
       "    <tr>\n",
       "      <th id=\"T_5fdb8_level0_row3\" class=\"row_heading level0 row3\" >3</th>\n",
       "      <td id=\"T_5fdb8_row3_col0\" class=\"data row3 col0\" >Ellyse</td>\n",
       "      <td id=\"T_5fdb8_row3_col1\" class=\"data row3 col1\" >EaRd_4nFnPs8Fei-H2ZmVA</td>\n",
       "      <td id=\"T_5fdb8_row3_col2\" class=\"data row3 col2\" >2013-07-18</td>\n",
       "      <td id=\"T_5fdb8_row3_col3\" class=\"data row3 col3\" >427</td>\n",
       "      <td id=\"T_5fdb8_row3_col4\" class=\"data row3 col4\" >4.310000</td>\n",
       "      <td id=\"T_5fdb8_row3_col5\" class=\"data row3 col5\" >61</td>\n",
       "      <td id=\"T_5fdb8_row3_col6\" class=\"data row3 col6\" >31</td>\n",
       "      <td id=\"T_5fdb8_row3_col7\" class=\"data row3 col7\" >0</td>\n",
       "      <td id=\"T_5fdb8_row3_col8\" class=\"data row3 col8\" >31</td>\n",
       "      <td id=\"T_5fdb8_row3_col9\" class=\"data row3 col9\" >5</td>\n",
       "      <td id=\"T_5fdb8_row3_col10\" class=\"data row3 col10\" >0</td>\n",
       "      <td id=\"T_5fdb8_row3_col11\" class=\"data row3 col11\" >2</td>\n",
       "      <td id=\"T_5fdb8_row3_col12\" class=\"data row3 col12\" >8</td>\n",
       "      <td id=\"T_5fdb8_row3_col13\" class=\"data row3 col13\" >17</td>\n",
       "      <td id=\"T_5fdb8_row3_col14\" class=\"data row3 col14\" >15</td>\n",
       "      <td id=\"T_5fdb8_row3_col15\" class=\"data row3 col15\" >0</td>\n",
       "      <td id=\"T_5fdb8_row3_col16\" class=\"data row3 col16\" >23</td>\n",
       "      <td id=\"T_5fdb8_row3_col17\" class=\"data row3 col17\" >420</td>\n",
       "      <td id=\"T_5fdb8_row3_col18\" class=\"data row3 col18\" >2017,2018,2019,20,20</td>\n",
       "      <td id=\"T_5fdb8_row3_col19\" class=\"data row3 col19\" >108</td>\n",
       "      <td id=\"T_5fdb8_row3_col20\" class=\"data row3 col20\" >823</td>\n",
       "    </tr>\n",
       "    <tr>\n",
       "      <th id=\"T_5fdb8_level0_row4\" class=\"row_heading level0 row4\" >4</th>\n",
       "      <td id=\"T_5fdb8_row4_col0\" class=\"data row4 col0\" >Julie</td>\n",
       "      <td id=\"T_5fdb8_row4_col1\" class=\"data row4 col1\" >yqpqFUXIkKBYP5QQ-5jZpA</td>\n",
       "      <td id=\"T_5fdb8_row4_col2\" class=\"data row4 col2\" >2013-06-13</td>\n",
       "      <td id=\"T_5fdb8_row4_col3\" class=\"data row4 col3\" >48</td>\n",
       "      <td id=\"T_5fdb8_row4_col4\" class=\"data row4 col4\" >3.340000</td>\n",
       "      <td id=\"T_5fdb8_row4_col5\" class=\"data row4 col5\" >1</td>\n",
       "      <td id=\"T_5fdb8_row4_col6\" class=\"data row4 col6\" >1</td>\n",
       "      <td id=\"T_5fdb8_row4_col7\" class=\"data row4 col7\" >0</td>\n",
       "      <td id=\"T_5fdb8_row4_col8\" class=\"data row4 col8\" >1</td>\n",
       "      <td id=\"T_5fdb8_row4_col9\" class=\"data row4 col9\" >0</td>\n",
       "      <td id=\"T_5fdb8_row4_col10\" class=\"data row4 col10\" >0</td>\n",
       "      <td id=\"T_5fdb8_row4_col11\" class=\"data row4 col11\" >0</td>\n",
       "      <td id=\"T_5fdb8_row4_col12\" class=\"data row4 col12\" >1</td>\n",
       "      <td id=\"T_5fdb8_row4_col13\" class=\"data row4 col13\" >0</td>\n",
       "      <td id=\"T_5fdb8_row4_col14\" class=\"data row4 col14\" >0</td>\n",
       "      <td id=\"T_5fdb8_row4_col15\" class=\"data row4 col15\" >0</td>\n",
       "      <td id=\"T_5fdb8_row4_col16\" class=\"data row4 col16\" >0</td>\n",
       "      <td id=\"T_5fdb8_row4_col17\" class=\"data row4 col17\" >17</td>\n",
       "      <td id=\"T_5fdb8_row4_col18\" class=\"data row4 col18\" ></td>\n",
       "      <td id=\"T_5fdb8_row4_col19\" class=\"data row4 col19\" >28</td>\n",
       "      <td id=\"T_5fdb8_row4_col20\" class=\"data row4 col20\" >62</td>\n",
       "    </tr>\n",
       "  </tbody>\n",
       "</table>\n"
      ],
      "text/plain": [
       "<pandas.io.formats.style.Styler at 0x229d47bdbd0>"
      ]
     },
     "metadata": {},
     "output_type": "display_data"
    }
   ],
   "source": [
    "users_count = cur.execute('''\n",
    "                               SELECT COUNT(*)\n",
    "                               FROM yelp_users\n",
    "                               ''').fetch_pandas_all()\n",
    "\n",
    "print(f'There are {users_count['COUNT(*)'][0]:,} records in the Yelp users table.')\n",
    "\n",
    "df = cur.execute('''\n",
    "                 SELECT *\n",
    "                 FROM yelp_users \n",
    "                 LIMIT 5\n",
    "                 ''').fetch_pandas_all()\n",
    "\n",
    "styles = [{\n",
    "    'selector': 'caption', 'props': 'text-align: left;'\n",
    "}]\n",
    "\n",
    "display(df.style.set_caption('<span style=\"font-size: 20px;\">Table 3: Yelp Users Table Preview</span>').set_table_styles(styles))"
   ]
  },
  {
   "cell_type": "markdown",
   "id": "3bf30867",
   "metadata": {},
   "source": [
    "### Yelp Tips Table"
   ]
  },
  {
   "cell_type": "code",
   "execution_count": 17,
   "id": "3023a7ca",
   "metadata": {},
   "outputs": [
    {
     "name": "stdout",
     "output_type": "stream",
     "text": [
      "There are 908,915 records in the Yelp tips table.\n"
     ]
    },
    {
     "data": {
      "text/html": [
       "<style type=\"text/css\">\n",
       "#T_9eb47 caption {\n",
       "  text-align: left;\n",
       "}\n",
       "</style>\n",
       "<table id=\"T_9eb47\">\n",
       "  <caption><span style=\"font-size: 20px;\">Table 4: Yelp Tips Table Preview</span></caption>\n",
       "  <thead>\n",
       "    <tr>\n",
       "      <th class=\"blank level0\" >&nbsp;</th>\n",
       "      <th id=\"T_9eb47_level0_col0\" class=\"col_heading level0 col0\" >BUSINESS_ID</th>\n",
       "      <th id=\"T_9eb47_level0_col1\" class=\"col_heading level0 col1\" >USER_ID</th>\n",
       "      <th id=\"T_9eb47_level0_col2\" class=\"col_heading level0 col2\" >DATE</th>\n",
       "      <th id=\"T_9eb47_level0_col3\" class=\"col_heading level0 col3\" >TIP</th>\n",
       "      <th id=\"T_9eb47_level0_col4\" class=\"col_heading level0 col4\" >COMPLIMENT_COUNT</th>\n",
       "    </tr>\n",
       "  </thead>\n",
       "  <tbody>\n",
       "    <tr>\n",
       "      <th id=\"T_9eb47_level0_row0\" class=\"row_heading level0 row0\" >0</th>\n",
       "      <td id=\"T_9eb47_row0_col0\" class=\"data row0 col0\" >WnHG_obpmHazbngTdu570Q</td>\n",
       "      <td id=\"T_9eb47_row0_col1\" class=\"data row0 col1\" >_Wkf2RNDnBuqMOpzSqmZXw</td>\n",
       "      <td id=\"T_9eb47_row0_col2\" class=\"data row0 col2\" >2015-08-14</td>\n",
       "      <td id=\"T_9eb47_row0_col3\" class=\"data row0 col3\" >Only a couple more weeks</td>\n",
       "      <td id=\"T_9eb47_row0_col4\" class=\"data row0 col4\" >0</td>\n",
       "    </tr>\n",
       "    <tr>\n",
       "      <th id=\"T_9eb47_level0_row1\" class=\"row_heading level0 row1\" >1</th>\n",
       "      <td id=\"T_9eb47_row1_col0\" class=\"data row1 col0\" >c-CAcdH2-12g1sQUQfy5xw</td>\n",
       "      <td id=\"T_9eb47_row1_col1\" class=\"data row1 col1\" >xnuEEuMfvCNLFMtaZf7asw</td>\n",
       "      <td id=\"T_9eb47_row1_col2\" class=\"data row1 col2\" >2016-03-20</td>\n",
       "      <td id=\"T_9eb47_row1_col3\" class=\"data row1 col3\" >Get here early!!</td>\n",
       "      <td id=\"T_9eb47_row1_col4\" class=\"data row1 col4\" >0</td>\n",
       "    </tr>\n",
       "    <tr>\n",
       "      <th id=\"T_9eb47_level0_row2\" class=\"row_heading level0 row2\" >2</th>\n",
       "      <td id=\"T_9eb47_row2_col0\" class=\"data row2 col0\" >wj8XtPyuREj8_0GQz3LZ6w</td>\n",
       "      <td id=\"T_9eb47_row2_col1\" class=\"data row2 col1\" >W0DJOPsSwcAj0uqCJG8iLw</td>\n",
       "      <td id=\"T_9eb47_row2_col2\" class=\"data row2 col2\" >2015-08-14</td>\n",
       "      <td id=\"T_9eb47_row2_col3\" class=\"data row2 col3\" >If you have not tried this place what are you waiting for? Just GO NOW!</td>\n",
       "      <td id=\"T_9eb47_row2_col4\" class=\"data row2 col4\" >0</td>\n",
       "    </tr>\n",
       "    <tr>\n",
       "      <th id=\"T_9eb47_level0_row3\" class=\"row_heading level0 row3\" >3</th>\n",
       "      <td id=\"T_9eb47_row3_col0\" class=\"data row3 col0\" >l8vwslfqKq1yxlmgVi-M0Q</td>\n",
       "      <td id=\"T_9eb47_row3_col1\" class=\"data row3 col1\" >AED6tP0v4aMPd9-YtjPcPg</td>\n",
       "      <td id=\"T_9eb47_row3_col2\" class=\"data row3 col2\" >2015-05-11</td>\n",
       "      <td id=\"T_9eb47_row3_col3\" class=\"data row3 col3\" >Check out the third floor lounge for nice city views and a relaxed place to have a couple cocktails.  It's tough to find a good lounge in St. Louis!</td>\n",
       "      <td id=\"T_9eb47_row3_col4\" class=\"data row3 col4\" >0</td>\n",
       "    </tr>\n",
       "    <tr>\n",
       "      <th id=\"T_9eb47_level0_row4\" class=\"row_heading level0 row4\" >4</th>\n",
       "      <td id=\"T_9eb47_row4_col0\" class=\"data row4 col0\" >KZe5kpIHWVuJl6WgNYzceg</td>\n",
       "      <td id=\"T_9eb47_row4_col1\" class=\"data row4 col1\" >9UZlB3fHVe2JBvPw4kRb5g</td>\n",
       "      <td id=\"T_9eb47_row4_col2\" class=\"data row4 col2\" >2012-03-03</td>\n",
       "      <td id=\"T_9eb47_row4_col3\" class=\"data row4 col3\" >Pancakes with Breakfast Trick?</td>\n",
       "      <td id=\"T_9eb47_row4_col4\" class=\"data row4 col4\" >0</td>\n",
       "    </tr>\n",
       "  </tbody>\n",
       "</table>\n"
      ],
      "text/plain": [
       "<pandas.io.formats.style.Styler at 0x229d47bdbd0>"
      ]
     },
     "metadata": {},
     "output_type": "display_data"
    }
   ],
   "source": [
    "tips_count = cur.execute('''\n",
    "                               SELECT COUNT(*)\n",
    "                               FROM yelp_tips\n",
    "                               ''').fetch_pandas_all()\n",
    "\n",
    "print(f'There are {tips_count['COUNT(*)'][0]:,} records in the Yelp tips table.')\n",
    "\n",
    "df = cur.execute('''\n",
    "                 SELECT *\n",
    "                 FROM yelp_tips \n",
    "                 LIMIT 5\n",
    "                 ''').fetch_pandas_all()\n",
    "\n",
    "styles = [{\n",
    "    'selector': 'caption', 'props': 'text-align: left;'\n",
    "}]\n",
    "\n",
    "display(df.style.set_caption('<span style=\"font-size: 20px;\">Table 4: Yelp Tips Table Preview</span>').set_table_styles(styles))"
   ]
  },
  {
   "cell_type": "markdown",
   "id": "3080f1e6",
   "metadata": {},
   "source": [
    "## Category-Level Analysis"
   ]
  },
  {
   "cell_type": "markdown",
   "id": "4ec38dfc",
   "metadata": {},
   "source": [
    "### Count of Categories"
   ]
  },
  {
   "cell_type": "code",
   "execution_count": 18,
   "id": "d06b8f5f",
   "metadata": {},
   "outputs": [
    {
     "data": {
      "text/html": [
       "<style type=\"text/css\">\n",
       "#T_213e4 caption {\n",
       "  text-align: left;\n",
       "}\n",
       "</style>\n",
       "<table id=\"T_213e4\">\n",
       "  <caption><span style=\"font-size: 20px;\">Table 5: Count of Categories</span></caption>\n",
       "  <thead>\n",
       "    <tr>\n",
       "      <th class=\"blank level0\" >&nbsp;</th>\n",
       "      <th id=\"T_213e4_level0_col0\" class=\"col_heading level0 col0\" >NUM_OF_CATEGORIES</th>\n",
       "    </tr>\n",
       "  </thead>\n",
       "  <tbody>\n",
       "    <tr>\n",
       "      <th id=\"T_213e4_level0_row0\" class=\"row_heading level0 row0\" >0</th>\n",
       "      <td id=\"T_213e4_row0_col0\" class=\"data row0 col0\" >1311</td>\n",
       "    </tr>\n",
       "  </tbody>\n",
       "</table>\n"
      ],
      "text/plain": [
       "<pandas.io.formats.style.Styler at 0x229d47bdbd0>"
      ]
     },
     "metadata": {},
     "output_type": "display_data"
    }
   ],
   "source": [
    "# Count of categories in Yelp dataset\n",
    "df = cur.execute('''\n",
    "                 WITH cat_count AS (\n",
    "                    -- split the categories column so each business has a row for each category it has\n",
    "                    SELECT \n",
    "                        TRIM(A.value) AS category\n",
    "                    FROM yelp_businesses,\n",
    "                    LATERAL SPLIT_TO_TABLE(categories, ',') A\n",
    "                )\n",
    "\n",
    "                SELECT COUNT(DISTINCT category) AS num_of_categories\n",
    "                FROM cat_count;\n",
    "                 ''').fetch_pandas_all()\n",
    "\n",
    "styles = [{\n",
    "    'selector': 'caption', 'props': 'text-align: left;'\n",
    "}]\n",
    "\n",
    "display(df.style.set_caption('<span style=\"font-size: 20px;\">Table 5: Count of Categories</span>').set_table_styles(styles))"
   ]
  },
  {
   "cell_type": "markdown",
   "id": "8fe31def",
   "metadata": {},
   "source": [
    "### Top 20 Categories by Number of Businesses"
   ]
  },
  {
   "cell_type": "code",
   "execution_count": 19,
   "id": "824b5a9c",
   "metadata": {},
   "outputs": [
    {
     "data": {
      "text/html": [
       "<style type=\"text/css\">\n",
       "#T_ee5c6 caption {\n",
       "  text-align: left;\n",
       "}\n",
       "</style>\n",
       "<table id=\"T_ee5c6\">\n",
       "  <caption><span style=\"font-size: 20px;\">Table 6: Top 20 Categories by Business Count</span></caption>\n",
       "  <thead>\n",
       "    <tr>\n",
       "      <th class=\"blank level0\" >&nbsp;</th>\n",
       "      <th id=\"T_ee5c6_level0_col0\" class=\"col_heading level0 col0\" >CATEGORY</th>\n",
       "      <th id=\"T_ee5c6_level0_col1\" class=\"col_heading level0 col1\" >NUM_OF_BUSINESSES</th>\n",
       "      <th id=\"T_ee5c6_level0_col2\" class=\"col_heading level0 col2\" >AVG_RATING</th>\n",
       "    </tr>\n",
       "  </thead>\n",
       "  <tbody>\n",
       "    <tr>\n",
       "      <th id=\"T_ee5c6_level0_row0\" class=\"row_heading level0 row0\" >0</th>\n",
       "      <td id=\"T_ee5c6_row0_col0\" class=\"data row0 col0\" >Restaurants</td>\n",
       "      <td id=\"T_ee5c6_row0_col1\" class=\"data row0 col1\" >52268</td>\n",
       "      <td id=\"T_ee5c6_row0_col2\" class=\"data row0 col2\" >3.520000</td>\n",
       "    </tr>\n",
       "    <tr>\n",
       "      <th id=\"T_ee5c6_level0_row1\" class=\"row_heading level0 row1\" >1</th>\n",
       "      <td id=\"T_ee5c6_row1_col0\" class=\"data row1 col0\" >Food</td>\n",
       "      <td id=\"T_ee5c6_row1_col1\" class=\"data row1 col1\" >27781</td>\n",
       "      <td id=\"T_ee5c6_row1_col2\" class=\"data row1 col2\" >3.670000</td>\n",
       "    </tr>\n",
       "    <tr>\n",
       "      <th id=\"T_ee5c6_level0_row2\" class=\"row_heading level0 row2\" >2</th>\n",
       "      <td id=\"T_ee5c6_row2_col0\" class=\"data row2 col0\" >Shopping</td>\n",
       "      <td id=\"T_ee5c6_row2_col1\" class=\"data row2 col1\" >24395</td>\n",
       "      <td id=\"T_ee5c6_row2_col2\" class=\"data row2 col2\" >3.620000</td>\n",
       "    </tr>\n",
       "    <tr>\n",
       "      <th id=\"T_ee5c6_level0_row3\" class=\"row_heading level0 row3\" >3</th>\n",
       "      <td id=\"T_ee5c6_row3_col0\" class=\"data row3 col0\" >Home Services</td>\n",
       "      <td id=\"T_ee5c6_row3_col1\" class=\"data row3 col1\" >14356</td>\n",
       "      <td id=\"T_ee5c6_row3_col2\" class=\"data row3 col2\" >3.460000</td>\n",
       "    </tr>\n",
       "    <tr>\n",
       "      <th id=\"T_ee5c6_level0_row4\" class=\"row_heading level0 row4\" >4</th>\n",
       "      <td id=\"T_ee5c6_row4_col0\" class=\"data row4 col0\" >Beauty & Spas</td>\n",
       "      <td id=\"T_ee5c6_row4_col1\" class=\"data row4 col1\" >14292</td>\n",
       "      <td id=\"T_ee5c6_row4_col2\" class=\"data row4 col2\" >3.810000</td>\n",
       "    </tr>\n",
       "    <tr>\n",
       "      <th id=\"T_ee5c6_level0_row5\" class=\"row_heading level0 row5\" >5</th>\n",
       "      <td id=\"T_ee5c6_row5_col0\" class=\"data row5 col0\" >Nightlife</td>\n",
       "      <td id=\"T_ee5c6_row5_col1\" class=\"data row5 col1\" >12281</td>\n",
       "      <td id=\"T_ee5c6_row5_col2\" class=\"data row5 col2\" >3.660000</td>\n",
       "    </tr>\n",
       "    <tr>\n",
       "      <th id=\"T_ee5c6_level0_row6\" class=\"row_heading level0 row6\" >6</th>\n",
       "      <td id=\"T_ee5c6_row6_col0\" class=\"data row6 col0\" >Health & Medical</td>\n",
       "      <td id=\"T_ee5c6_row6_col1\" class=\"data row6 col1\" >11890</td>\n",
       "      <td id=\"T_ee5c6_row6_col2\" class=\"data row6 col2\" >3.630000</td>\n",
       "    </tr>\n",
       "    <tr>\n",
       "      <th id=\"T_ee5c6_level0_row7\" class=\"row_heading level0 row7\" >7</th>\n",
       "      <td id=\"T_ee5c6_row7_col0\" class=\"data row7 col0\" >Local Services</td>\n",
       "      <td id=\"T_ee5c6_row7_col1\" class=\"data row7 col1\" >11198</td>\n",
       "      <td id=\"T_ee5c6_row7_col2\" class=\"data row7 col2\" >3.620000</td>\n",
       "    </tr>\n",
       "    <tr>\n",
       "      <th id=\"T_ee5c6_level0_row8\" class=\"row_heading level0 row8\" >8</th>\n",
       "      <td id=\"T_ee5c6_row8_col0\" class=\"data row8 col0\" >Bars</td>\n",
       "      <td id=\"T_ee5c6_row8_col1\" class=\"data row8 col1\" >11065</td>\n",
       "      <td id=\"T_ee5c6_row8_col2\" class=\"data row8 col2\" >3.650000</td>\n",
       "    </tr>\n",
       "    <tr>\n",
       "      <th id=\"T_ee5c6_level0_row9\" class=\"row_heading level0 row9\" >9</th>\n",
       "      <td id=\"T_ee5c6_row9_col0\" class=\"data row9 col0\" >Automotive</td>\n",
       "      <td id=\"T_ee5c6_row9_col1\" class=\"data row9 col1\" >10773</td>\n",
       "      <td id=\"T_ee5c6_row9_col2\" class=\"data row9 col2\" >3.510000</td>\n",
       "    </tr>\n",
       "    <tr>\n",
       "      <th id=\"T_ee5c6_level0_row10\" class=\"row_heading level0 row10\" >10</th>\n",
       "      <td id=\"T_ee5c6_row10_col0\" class=\"data row10 col0\" >Event Planning & Services</td>\n",
       "      <td id=\"T_ee5c6_row10_col1\" class=\"data row10 col1\" >9895</td>\n",
       "      <td id=\"T_ee5c6_row10_col2\" class=\"data row10 col2\" >3.690000</td>\n",
       "    </tr>\n",
       "    <tr>\n",
       "      <th id=\"T_ee5c6_level0_row11\" class=\"row_heading level0 row11\" >11</th>\n",
       "      <td id=\"T_ee5c6_row11_col0\" class=\"data row11 col0\" >Sandwiches</td>\n",
       "      <td id=\"T_ee5c6_row11_col1\" class=\"data row11 col1\" >8366</td>\n",
       "      <td id=\"T_ee5c6_row11_col2\" class=\"data row11 col2\" >3.540000</td>\n",
       "    </tr>\n",
       "    <tr>\n",
       "      <th id=\"T_ee5c6_level0_row12\" class=\"row_heading level0 row12\" >12</th>\n",
       "      <td id=\"T_ee5c6_row12_col0\" class=\"data row12 col0\" >American (Traditional)</td>\n",
       "      <td id=\"T_ee5c6_row12_col1\" class=\"data row12 col1\" >8139</td>\n",
       "      <td id=\"T_ee5c6_row12_col2\" class=\"data row12 col2\" >3.400000</td>\n",
       "    </tr>\n",
       "    <tr>\n",
       "      <th id=\"T_ee5c6_level0_row13\" class=\"row_heading level0 row13\" >13</th>\n",
       "      <td id=\"T_ee5c6_row13_col0\" class=\"data row13 col0\" >Active Life</td>\n",
       "      <td id=\"T_ee5c6_row13_col1\" class=\"data row13 col1\" >7687</td>\n",
       "      <td id=\"T_ee5c6_row13_col2\" class=\"data row13 col2\" >4.010000</td>\n",
       "    </tr>\n",
       "    <tr>\n",
       "      <th id=\"T_ee5c6_level0_row14\" class=\"row_heading level0 row14\" >14</th>\n",
       "      <td id=\"T_ee5c6_row14_col0\" class=\"data row14 col0\" >Pizza</td>\n",
       "      <td id=\"T_ee5c6_row14_col1\" class=\"data row14 col1\" >7093</td>\n",
       "      <td id=\"T_ee5c6_row14_col2\" class=\"data row14 col2\" >3.350000</td>\n",
       "    </tr>\n",
       "    <tr>\n",
       "      <th id=\"T_ee5c6_level0_row15\" class=\"row_heading level0 row15\" >15</th>\n",
       "      <td id=\"T_ee5c6_row15_col0\" class=\"data row15 col0\" >Coffee & Tea</td>\n",
       "      <td id=\"T_ee5c6_row15_col1\" class=\"data row15 col1\" >6703</td>\n",
       "      <td id=\"T_ee5c6_row15_col2\" class=\"data row15 col2\" >3.520000</td>\n",
       "    </tr>\n",
       "    <tr>\n",
       "      <th id=\"T_ee5c6_level0_row16\" class=\"row_heading level0 row16\" >16</th>\n",
       "      <td id=\"T_ee5c6_row16_col0\" class=\"data row16 col0\" >Fast Food</td>\n",
       "      <td id=\"T_ee5c6_row16_col1\" class=\"data row16 col1\" >6472</td>\n",
       "      <td id=\"T_ee5c6_row16_col2\" class=\"data row16 col2\" >2.630000</td>\n",
       "    </tr>\n",
       "    <tr>\n",
       "      <th id=\"T_ee5c6_level0_row17\" class=\"row_heading level0 row17\" >17</th>\n",
       "      <td id=\"T_ee5c6_row17_col0\" class=\"data row17 col0\" >Breakfast & Brunch</td>\n",
       "      <td id=\"T_ee5c6_row17_col1\" class=\"data row17 col1\" >6239</td>\n",
       "      <td id=\"T_ee5c6_row17_col2\" class=\"data row17 col2\" >3.570000</td>\n",
       "    </tr>\n",
       "    <tr>\n",
       "      <th id=\"T_ee5c6_level0_row18\" class=\"row_heading level0 row18\" >18</th>\n",
       "      <td id=\"T_ee5c6_row18_col0\" class=\"data row18 col0\" >American (New)</td>\n",
       "      <td id=\"T_ee5c6_row18_col1\" class=\"data row18 col1\" >6097</td>\n",
       "      <td id=\"T_ee5c6_row18_col2\" class=\"data row18 col2\" >3.590000</td>\n",
       "    </tr>\n",
       "    <tr>\n",
       "      <th id=\"T_ee5c6_level0_row19\" class=\"row_heading level0 row19\" >19</th>\n",
       "      <td id=\"T_ee5c6_row19_col0\" class=\"data row19 col0\" >Hotels & Travel</td>\n",
       "      <td id=\"T_ee5c6_row19_col1\" class=\"data row19 col1\" >5857</td>\n",
       "      <td id=\"T_ee5c6_row19_col2\" class=\"data row19 col2\" >3.250000</td>\n",
       "    </tr>\n",
       "  </tbody>\n",
       "</table>\n"
      ],
      "text/plain": [
       "<pandas.io.formats.style.Styler at 0x229d47bdbd0>"
      ]
     },
     "metadata": {},
     "output_type": "display_data"
    }
   ],
   "source": [
    "# Top 20 categories of all businesses on Yelp.\n",
    "df = cur.execute('''\n",
    "                 WITH cat AS (\n",
    "                    -- split the categories column so each business has a row for each category it has\n",
    "                    SELECT business_id, stars,\n",
    "                    TRIM(A.value) AS category\n",
    "                    FROM yelp_businesses,\n",
    "                    LATERAL SPLIT_TO_TABLE(categories, ',') A\n",
    "                )\n",
    "\n",
    "                SELECT category, COUNT(DISTINCT business_id) AS num_of_businesses, ROUND(AVG(stars), 2) AS avg_rating\n",
    "                FROM cat\n",
    "                GROUP BY 1\n",
    "                ORDER BY 2 DESC\n",
    "                LIMIT 20;\n",
    "                 ''').fetch_pandas_all()\n",
    "\n",
    "styles = [{\n",
    "    'selector': 'caption', 'props': 'text-align: left;'\n",
    "}]\n",
    "\n",
    "display(df.style.set_caption('<span style=\"font-size: 20px;\">Table 6: Top 20 Categories by Business Count</span>').set_table_styles(styles))"
   ]
  },
  {
   "cell_type": "markdown",
   "id": "fcdfb9ea",
   "metadata": {},
   "source": [
    "### Top 20 Categories by Number of Reviews"
   ]
  },
  {
   "cell_type": "code",
   "execution_count": 20,
   "id": "465850ed",
   "metadata": {},
   "outputs": [
    {
     "data": {
      "text/html": [
       "<style type=\"text/css\">\n",
       "#T_c06c6 caption {\n",
       "  text-align: left;\n",
       "}\n",
       "</style>\n",
       "<table id=\"T_c06c6\">\n",
       "  <caption><span style=\"font-size: 20px;\">Table 7: Top 20 Categories by Review Volume</span></caption>\n",
       "  <thead>\n",
       "    <tr>\n",
       "      <th class=\"blank level0\" >&nbsp;</th>\n",
       "      <th id=\"T_c06c6_level0_col0\" class=\"col_heading level0 col0\" >CATEGORY</th>\n",
       "      <th id=\"T_c06c6_level0_col1\" class=\"col_heading level0 col1\" >NUM_OF_REVIEWS</th>\n",
       "      <th id=\"T_c06c6_level0_col2\" class=\"col_heading level0 col2\" >NUM_OF_BUSINESSES</th>\n",
       "      <th id=\"T_c06c6_level0_col3\" class=\"col_heading level0 col3\" >AVG_RATING</th>\n",
       "    </tr>\n",
       "  </thead>\n",
       "  <tbody>\n",
       "    <tr>\n",
       "      <th id=\"T_c06c6_level0_row0\" class=\"row_heading level0 row0\" >0</th>\n",
       "      <td id=\"T_c06c6_row0_col0\" class=\"data row0 col0\" >Restaurants</td>\n",
       "      <td id=\"T_c06c6_row0_col1\" class=\"data row0 col1\" >4561279</td>\n",
       "      <td id=\"T_c06c6_row0_col2\" class=\"data row0 col2\" >52268</td>\n",
       "      <td id=\"T_c06c6_row0_col3\" class=\"data row0 col3\" >3.520000</td>\n",
       "    </tr>\n",
       "    <tr>\n",
       "      <th id=\"T_c06c6_level0_row1\" class=\"row_heading level0 row1\" >1</th>\n",
       "      <td id=\"T_c06c6_row1_col0\" class=\"data row1 col0\" >Food</td>\n",
       "      <td id=\"T_c06c6_row1_col1\" class=\"data row1 col1\" >1752281</td>\n",
       "      <td id=\"T_c06c6_row1_col2\" class=\"data row1 col2\" >27781</td>\n",
       "      <td id=\"T_c06c6_row1_col3\" class=\"data row1 col3\" >3.670000</td>\n",
       "    </tr>\n",
       "    <tr>\n",
       "      <th id=\"T_c06c6_level0_row2\" class=\"row_heading level0 row2\" >2</th>\n",
       "      <td id=\"T_c06c6_row2_col0\" class=\"data row2 col0\" >Nightlife</td>\n",
       "      <td id=\"T_c06c6_row2_col1\" class=\"data row2 col1\" >1488163</td>\n",
       "      <td id=\"T_c06c6_row2_col2\" class=\"data row2 col2\" >12281</td>\n",
       "      <td id=\"T_c06c6_row2_col3\" class=\"data row2 col3\" >3.660000</td>\n",
       "    </tr>\n",
       "    <tr>\n",
       "      <th id=\"T_c06c6_level0_row3\" class=\"row_heading level0 row3\" >3</th>\n",
       "      <td id=\"T_c06c6_row3_col0\" class=\"data row3 col0\" >Bars</td>\n",
       "      <td id=\"T_c06c6_row3_col1\" class=\"data row3 col1\" >1406415</td>\n",
       "      <td id=\"T_c06c6_row3_col2\" class=\"data row3 col2\" >11065</td>\n",
       "      <td id=\"T_c06c6_row3_col3\" class=\"data row3 col3\" >3.650000</td>\n",
       "    </tr>\n",
       "    <tr>\n",
       "      <th id=\"T_c06c6_level0_row4\" class=\"row_heading level0 row4\" >4</th>\n",
       "      <td id=\"T_c06c6_row4_col0\" class=\"data row4 col0\" >American (Traditional)</td>\n",
       "      <td id=\"T_c06c6_row4_col1\" class=\"data row4 col1\" >976483</td>\n",
       "      <td id=\"T_c06c6_row4_col2\" class=\"data row4 col2\" >8139</td>\n",
       "      <td id=\"T_c06c6_row4_col3\" class=\"data row4 col3\" >3.400000</td>\n",
       "    </tr>\n",
       "    <tr>\n",
       "      <th id=\"T_c06c6_level0_row5\" class=\"row_heading level0 row5\" >5</th>\n",
       "      <td id=\"T_c06c6_row5_col0\" class=\"data row5 col0\" >American (New)</td>\n",
       "      <td id=\"T_c06c6_row5_col1\" class=\"data row5 col1\" >950560</td>\n",
       "      <td id=\"T_c06c6_row5_col2\" class=\"data row5 col2\" >6097</td>\n",
       "      <td id=\"T_c06c6_row5_col3\" class=\"data row5 col3\" >3.590000</td>\n",
       "    </tr>\n",
       "    <tr>\n",
       "      <th id=\"T_c06c6_level0_row6\" class=\"row_heading level0 row6\" >6</th>\n",
       "      <td id=\"T_c06c6_row6_col0\" class=\"data row6 col0\" >Breakfast & Brunch</td>\n",
       "      <td id=\"T_c06c6_row6_col1\" class=\"data row6 col1\" >839467</td>\n",
       "      <td id=\"T_c06c6_row6_col2\" class=\"data row6 col2\" >6239</td>\n",
       "      <td id=\"T_c06c6_row6_col3\" class=\"data row6 col3\" >3.570000</td>\n",
       "    </tr>\n",
       "    <tr>\n",
       "      <th id=\"T_c06c6_level0_row7\" class=\"row_heading level0 row7\" >7</th>\n",
       "      <td id=\"T_c06c6_row7_col0\" class=\"data row7 col0\" >Sandwiches</td>\n",
       "      <td id=\"T_c06c6_row7_col1\" class=\"data row7 col1\" >669139</td>\n",
       "      <td id=\"T_c06c6_row7_col2\" class=\"data row7 col2\" >8366</td>\n",
       "      <td id=\"T_c06c6_row7_col3\" class=\"data row7 col3\" >3.540000</td>\n",
       "    </tr>\n",
       "    <tr>\n",
       "      <th id=\"T_c06c6_level0_row8\" class=\"row_heading level0 row8\" >8</th>\n",
       "      <td id=\"T_c06c6_row8_col0\" class=\"data row8 col0\" >Seafood</td>\n",
       "      <td id=\"T_c06c6_row8_col1\" class=\"data row8 col1\" >600183</td>\n",
       "      <td id=\"T_c06c6_row8_col2\" class=\"data row8 col2\" >3539</td>\n",
       "      <td id=\"T_c06c6_row8_col3\" class=\"data row8 col3\" >3.670000</td>\n",
       "    </tr>\n",
       "    <tr>\n",
       "      <th id=\"T_c06c6_level0_row9\" class=\"row_heading level0 row9\" >9</th>\n",
       "      <td id=\"T_c06c6_row9_col0\" class=\"data row9 col0\" >Event Planning & Services</td>\n",
       "      <td id=\"T_c06c6_row9_col1\" class=\"data row9 col1\" >591442</td>\n",
       "      <td id=\"T_c06c6_row9_col2\" class=\"data row9 col2\" >9895</td>\n",
       "      <td id=\"T_c06c6_row9_col3\" class=\"data row9 col3\" >3.690000</td>\n",
       "    </tr>\n",
       "    <tr>\n",
       "      <th id=\"T_c06c6_level0_row10\" class=\"row_heading level0 row10\" >10</th>\n",
       "      <td id=\"T_c06c6_row10_col0\" class=\"data row10 col0\" >Shopping</td>\n",
       "      <td id=\"T_c06c6_row10_col1\" class=\"data row10 col1\" >505372</td>\n",
       "      <td id=\"T_c06c6_row10_col2\" class=\"data row10 col2\" >24395</td>\n",
       "      <td id=\"T_c06c6_row10_col3\" class=\"data row10 col3\" >3.620000</td>\n",
       "    </tr>\n",
       "    <tr>\n",
       "      <th id=\"T_c06c6_level0_row11\" class=\"row_heading level0 row11\" >11</th>\n",
       "      <td id=\"T_c06c6_row11_col0\" class=\"data row11 col0\" >Pizza</td>\n",
       "      <td id=\"T_c06c6_row11_col1\" class=\"data row11 col1\" >456944</td>\n",
       "      <td id=\"T_c06c6_row11_col2\" class=\"data row11 col2\" >7093</td>\n",
       "      <td id=\"T_c06c6_row11_col3\" class=\"data row11 col3\" >3.350000</td>\n",
       "    </tr>\n",
       "    <tr>\n",
       "      <th id=\"T_c06c6_level0_row12\" class=\"row_heading level0 row12\" >12</th>\n",
       "      <td id=\"T_c06c6_row12_col0\" class=\"data row12 col0\" >Burgers</td>\n",
       "      <td id=\"T_c06c6_row12_col1\" class=\"data row12 col1\" >429866</td>\n",
       "      <td id=\"T_c06c6_row12_col2\" class=\"data row12 col2\" >5636</td>\n",
       "      <td id=\"T_c06c6_row12_col3\" class=\"data row12 col3\" >2.930000</td>\n",
       "    </tr>\n",
       "    <tr>\n",
       "      <th id=\"T_c06c6_level0_row13\" class=\"row_heading level0 row13\" >13</th>\n",
       "      <td id=\"T_c06c6_row13_col0\" class=\"data row13 col0\" >Coffee & Tea</td>\n",
       "      <td id=\"T_c06c6_row13_col1\" class=\"data row13 col1\" >428230</td>\n",
       "      <td id=\"T_c06c6_row13_col2\" class=\"data row13 col2\" >6703</td>\n",
       "      <td id=\"T_c06c6_row13_col3\" class=\"data row13 col3\" >3.520000</td>\n",
       "    </tr>\n",
       "    <tr>\n",
       "      <th id=\"T_c06c6_level0_row14\" class=\"row_heading level0 row14\" >14</th>\n",
       "      <td id=\"T_c06c6_row14_col0\" class=\"data row14 col0\" >Italian</td>\n",
       "      <td id=\"T_c06c6_row14_col1\" class=\"data row14 col1\" >422530</td>\n",
       "      <td id=\"T_c06c6_row14_col2\" class=\"data row14 col2\" >4573</td>\n",
       "      <td id=\"T_c06c6_row14_col3\" class=\"data row14 col3\" >3.510000</td>\n",
       "    </tr>\n",
       "    <tr>\n",
       "      <th id=\"T_c06c6_level0_row15\" class=\"row_heading level0 row15\" >15</th>\n",
       "      <td id=\"T_c06c6_row15_col0\" class=\"data row15 col0\" >Mexican</td>\n",
       "      <td id=\"T_c06c6_row15_col1\" class=\"data row15 col1\" >416307</td>\n",
       "      <td id=\"T_c06c6_row15_col2\" class=\"data row15 col2\" >4600</td>\n",
       "      <td id=\"T_c06c6_row15_col3\" class=\"data row15 col3\" >3.520000</td>\n",
       "    </tr>\n",
       "    <tr>\n",
       "      <th id=\"T_c06c6_level0_row16\" class=\"row_heading level0 row16\" >16</th>\n",
       "      <td id=\"T_c06c6_row16_col0\" class=\"data row16 col0\" >Beauty & Spas</td>\n",
       "      <td id=\"T_c06c6_row16_col1\" class=\"data row16 col1\" >354203</td>\n",
       "      <td id=\"T_c06c6_row16_col2\" class=\"data row16 col2\" >14292</td>\n",
       "      <td id=\"T_c06c6_row16_col3\" class=\"data row16 col3\" >3.810000</td>\n",
       "    </tr>\n",
       "    <tr>\n",
       "      <th id=\"T_c06c6_level0_row17\" class=\"row_heading level0 row17\" >17</th>\n",
       "      <td id=\"T_c06c6_row17_col0\" class=\"data row17 col0\" >Arts & Entertainment</td>\n",
       "      <td id=\"T_c06c6_row17_col1\" class=\"data row17 col1\" >335139</td>\n",
       "      <td id=\"T_c06c6_row17_col2\" class=\"data row17 col2\" >5434</td>\n",
       "      <td id=\"T_c06c6_row17_col3\" class=\"data row17 col3\" >3.980000</td>\n",
       "    </tr>\n",
       "    <tr>\n",
       "      <th id=\"T_c06c6_level0_row18\" class=\"row_heading level0 row18\" >18</th>\n",
       "      <td id=\"T_c06c6_row18_col0\" class=\"data row18 col0\" >Cocktail Bars</td>\n",
       "      <td id=\"T_c06c6_row18_col1\" class=\"data row18 col1\" >328110</td>\n",
       "      <td id=\"T_c06c6_row18_col2\" class=\"data row18 col2\" >1718</td>\n",
       "      <td id=\"T_c06c6_row18_col3\" class=\"data row18 col3\" >3.900000</td>\n",
       "    </tr>\n",
       "    <tr>\n",
       "      <th id=\"T_c06c6_level0_row19\" class=\"row_heading level0 row19\" >19</th>\n",
       "      <td id=\"T_c06c6_row19_col0\" class=\"data row19 col0\" >Salad</td>\n",
       "      <td id=\"T_c06c6_row19_col1\" class=\"data row19 col1\" >321566</td>\n",
       "      <td id=\"T_c06c6_row19_col2\" class=\"data row19 col2\" >3064</td>\n",
       "      <td id=\"T_c06c6_row19_col3\" class=\"data row19 col3\" >3.650000</td>\n",
       "    </tr>\n",
       "  </tbody>\n",
       "</table>\n"
      ],
      "text/plain": [
       "<pandas.io.formats.style.Styler at 0x229d47bdbd0>"
      ]
     },
     "metadata": {},
     "output_type": "display_data"
    }
   ],
   "source": [
    "# Top 20 categories by number of reviews\n",
    "df = cur.execute('''\n",
    "                 WITH cat AS (\n",
    "                    -- split the categories column so each business has a row for each category it has\n",
    "                    SELECT business_id, stars, review_count,\n",
    "                    TRIM(A.value) AS category\n",
    "                    FROM yelp_businesses,\n",
    "                    LATERAL SPLIT_TO_TABLE(categories, ',') A\n",
    "                )\n",
    "\n",
    "                SELECT category, SUM(review_count) AS num_of_reviews, COUNT(DISTINCT business_id) AS num_of_businesses, ROUND(AVG(stars), 2) AS avg_rating\n",
    "                FROM cat\n",
    "                GROUP BY 1  \n",
    "                ORDER BY 2 DESC\n",
    "                LIMIT 20;\n",
    "                 ''').fetch_pandas_all()\n",
    "\n",
    "styles = [{\n",
    "    'selector': 'caption', 'props': 'text-align: left;'\n",
    "}]\n",
    "\n",
    "display(df.style.set_caption('<span style=\"font-size: 20px;\">Table 7: Top 20 Categories by Review Volume</span>').set_table_styles(styles))"
   ]
  },
  {
   "cell_type": "markdown",
   "id": "dacd9a9b",
   "metadata": {},
   "source": [
    "### Top 20 Categories by Average Star Rating (Min 1000 Reviews)"
   ]
  },
  {
   "cell_type": "code",
   "execution_count": 22,
   "id": "c5ec5842",
   "metadata": {},
   "outputs": [
    {
     "data": {
      "text/html": [
       "<style type=\"text/css\">\n",
       "#T_be8ad caption {\n",
       "  text-align: left;\n",
       "}\n",
       "</style>\n",
       "<table id=\"T_be8ad\">\n",
       "  <caption><span style=\"font-size: 20px;\">Table 8: Top 20 Categories by Average Rating (Min 1000 Reviews)</span></caption>\n",
       "  <thead>\n",
       "    <tr>\n",
       "      <th class=\"blank level0\" >&nbsp;</th>\n",
       "      <th id=\"T_be8ad_level0_col0\" class=\"col_heading level0 col0\" >CATEGORY</th>\n",
       "      <th id=\"T_be8ad_level0_col1\" class=\"col_heading level0 col1\" >NUM_OF_REVIEWS</th>\n",
       "      <th id=\"T_be8ad_level0_col2\" class=\"col_heading level0 col2\" >NUM_OF_BUSINESSES</th>\n",
       "      <th id=\"T_be8ad_level0_col3\" class=\"col_heading level0 col3\" >AVG_RATING</th>\n",
       "    </tr>\n",
       "  </thead>\n",
       "  <tbody>\n",
       "    <tr>\n",
       "      <th id=\"T_be8ad_level0_row0\" class=\"row_heading level0 row0\" >0</th>\n",
       "      <td id=\"T_be8ad_row0_col0\" class=\"data row0 col0\" >Art Tours</td>\n",
       "      <td id=\"T_be8ad_row0_col1\" class=\"data row0 col1\" >1962</td>\n",
       "      <td id=\"T_be8ad_row0_col2\" class=\"data row0 col2\" >18</td>\n",
       "      <td id=\"T_be8ad_row0_col3\" class=\"data row0 col3\" >4.860000</td>\n",
       "    </tr>\n",
       "    <tr>\n",
       "      <th id=\"T_be8ad_level0_row1\" class=\"row_heading level0 row1\" >1</th>\n",
       "      <td id=\"T_be8ad_row1_col0\" class=\"data row1 col0\" >Bike tours</td>\n",
       "      <td id=\"T_be8ad_row1_col1\" class=\"data row1 col1\" >1714</td>\n",
       "      <td id=\"T_be8ad_row1_col2\" class=\"data row1 col2\" >32</td>\n",
       "      <td id=\"T_be8ad_row1_col3\" class=\"data row1 col3\" >4.750000</td>\n",
       "    </tr>\n",
       "    <tr>\n",
       "      <th id=\"T_be8ad_level0_row2\" class=\"row_heading level0 row2\" >2</th>\n",
       "      <td id=\"T_be8ad_row2_col0\" class=\"data row2 col0\" >Sugaring</td>\n",
       "      <td id=\"T_be8ad_row2_col1\" class=\"data row2 col1\" >1549</td>\n",
       "      <td id=\"T_be8ad_row2_col2\" class=\"data row2 col2\" >39</td>\n",
       "      <td id=\"T_be8ad_row2_col3\" class=\"data row2 col3\" >4.690000</td>\n",
       "    </tr>\n",
       "    <tr>\n",
       "      <th id=\"T_be8ad_level0_row3\" class=\"row_heading level0 row3\" >3</th>\n",
       "      <td id=\"T_be8ad_row3_col0\" class=\"data row3 col0\" >Reiki</td>\n",
       "      <td id=\"T_be8ad_row3_col1\" class=\"data row3 col1\" >3048</td>\n",
       "      <td id=\"T_be8ad_row3_col2\" class=\"data row3 col2\" >201</td>\n",
       "      <td id=\"T_be8ad_row3_col3\" class=\"data row3 col3\" >4.680000</td>\n",
       "    </tr>\n",
       "    <tr>\n",
       "      <th id=\"T_be8ad_level0_row4\" class=\"row_heading level0 row4\" >4</th>\n",
       "      <td id=\"T_be8ad_row4_col0\" class=\"data row4 col0\" >Photo Booth Rentals</td>\n",
       "      <td id=\"T_be8ad_row4_col1\" class=\"data row4 col1\" >1618</td>\n",
       "      <td id=\"T_be8ad_row4_col2\" class=\"data row4 col2\" >92</td>\n",
       "      <td id=\"T_be8ad_row4_col3\" class=\"data row4 col3\" >4.680000</td>\n",
       "    </tr>\n",
       "    <tr>\n",
       "      <th id=\"T_be8ad_level0_row5\" class=\"row_heading level0 row5\" >5</th>\n",
       "      <td id=\"T_be8ad_row5_col0\" class=\"data row5 col0\" >Beer Tours</td>\n",
       "      <td id=\"T_be8ad_row5_col1\" class=\"data row5 col1\" >2949</td>\n",
       "      <td id=\"T_be8ad_row5_col2\" class=\"data row5 col2\" >51</td>\n",
       "      <td id=\"T_be8ad_row5_col3\" class=\"data row5 col3\" >4.650000</td>\n",
       "    </tr>\n",
       "    <tr>\n",
       "      <th id=\"T_be8ad_level0_row6\" class=\"row_heading level0 row6\" >6</th>\n",
       "      <td id=\"T_be8ad_row6_col0\" class=\"data row6 col0\" >Meditation Centers</td>\n",
       "      <td id=\"T_be8ad_row6_col1\" class=\"data row6 col1\" >1451</td>\n",
       "      <td id=\"T_be8ad_row6_col2\" class=\"data row6 col2\" >99</td>\n",
       "      <td id=\"T_be8ad_row6_col3\" class=\"data row6 col3\" >4.630000</td>\n",
       "    </tr>\n",
       "    <tr>\n",
       "      <th id=\"T_be8ad_level0_row7\" class=\"row_heading level0 row7\" >7</th>\n",
       "      <td id=\"T_be8ad_row7_col0\" class=\"data row7 col0\" >Barre Classes</td>\n",
       "      <td id=\"T_be8ad_row7_col1\" class=\"data row7 col1\" >2926</td>\n",
       "      <td id=\"T_be8ad_row7_col2\" class=\"data row7 col2\" >158</td>\n",
       "      <td id=\"T_be8ad_row7_col3\" class=\"data row7 col3\" >4.610000</td>\n",
       "    </tr>\n",
       "    <tr>\n",
       "      <th id=\"T_be8ad_level0_row8\" class=\"row_heading level0 row8\" >8</th>\n",
       "      <td id=\"T_be8ad_row8_col0\" class=\"data row8 col0\" >DJs</td>\n",
       "      <td id=\"T_be8ad_row8_col1\" class=\"data row8 col1\" >2276</td>\n",
       "      <td id=\"T_be8ad_row8_col2\" class=\"data row8 col2\" >127</td>\n",
       "      <td id=\"T_be8ad_row8_col3\" class=\"data row8 col3\" >4.570000</td>\n",
       "    </tr>\n",
       "    <tr>\n",
       "      <th id=\"T_be8ad_level0_row9\" class=\"row_heading level0 row9\" >9</th>\n",
       "      <td id=\"T_be8ad_row9_col0\" class=\"data row9 col0\" >Personal Chefs</td>\n",
       "      <td id=\"T_be8ad_row9_col1\" class=\"data row9 col1\" >4552</td>\n",
       "      <td id=\"T_be8ad_row9_col2\" class=\"data row9 col2\" >116</td>\n",
       "      <td id=\"T_be8ad_row9_col3\" class=\"data row9 col3\" >4.570000</td>\n",
       "    </tr>\n",
       "    <tr>\n",
       "      <th id=\"T_be8ad_level0_row10\" class=\"row_heading level0 row10\" >10</th>\n",
       "      <td id=\"T_be8ad_row10_col0\" class=\"data row10 col0\" >Axe Throwing</td>\n",
       "      <td id=\"T_be8ad_row10_col1\" class=\"data row10 col1\" >1856</td>\n",
       "      <td id=\"T_be8ad_row10_col2\" class=\"data row10 col2\" >53</td>\n",
       "      <td id=\"T_be8ad_row10_col3\" class=\"data row10 col3\" >4.560000</td>\n",
       "    </tr>\n",
       "    <tr>\n",
       "      <th id=\"T_be8ad_level0_row11\" class=\"row_heading level0 row11\" >11</th>\n",
       "      <td id=\"T_be8ad_row11_col0\" class=\"data row11 col0\" >Paint & Sip</td>\n",
       "      <td id=\"T_be8ad_row11_col1\" class=\"data row11 col1\" >2822</td>\n",
       "      <td id=\"T_be8ad_row11_col2\" class=\"data row11 col2\" >109</td>\n",
       "      <td id=\"T_be8ad_row11_col3\" class=\"data row11 col3\" >4.560000</td>\n",
       "    </tr>\n",
       "    <tr>\n",
       "      <th id=\"T_be8ad_level0_row12\" class=\"row_heading level0 row12\" >12</th>\n",
       "      <td id=\"T_be8ad_row12_col0\" class=\"data row12 col0\" >Team Building Activities</td>\n",
       "      <td id=\"T_be8ad_row12_col1\" class=\"data row12 col1\" >5145</td>\n",
       "      <td id=\"T_be8ad_row12_col2\" class=\"data row12 col2\" >136</td>\n",
       "      <td id=\"T_be8ad_row12_col3\" class=\"data row12 col3\" >4.560000</td>\n",
       "    </tr>\n",
       "    <tr>\n",
       "      <th id=\"T_be8ad_level0_row13\" class=\"row_heading level0 row13\" >13</th>\n",
       "      <td id=\"T_be8ad_row13_col0\" class=\"data row13 col0\" >Food Tours</td>\n",
       "      <td id=\"T_be8ad_row13_col1\" class=\"data row13 col1\" >3133</td>\n",
       "      <td id=\"T_be8ad_row13_col2\" class=\"data row13 col2\" >62</td>\n",
       "      <td id=\"T_be8ad_row13_col3\" class=\"data row13 col3\" >4.560000</td>\n",
       "    </tr>\n",
       "    <tr>\n",
       "      <th id=\"T_be8ad_level0_row14\" class=\"row_heading level0 row14\" >14</th>\n",
       "      <td id=\"T_be8ad_row14_col0\" class=\"data row14 col0\" >Life Coach</td>\n",
       "      <td id=\"T_be8ad_row14_col1\" class=\"data row14 col1\" >1831</td>\n",
       "      <td id=\"T_be8ad_row14_col2\" class=\"data row14 col2\" >130</td>\n",
       "      <td id=\"T_be8ad_row14_col3\" class=\"data row14 col3\" >4.550000</td>\n",
       "    </tr>\n",
       "    <tr>\n",
       "      <th id=\"T_be8ad_level0_row15\" class=\"row_heading level0 row15\" >15</th>\n",
       "      <td id=\"T_be8ad_row15_col0\" class=\"data row15 col0\" >Pilates</td>\n",
       "      <td id=\"T_be8ad_row15_col1\" class=\"data row15 col1\" >5224</td>\n",
       "      <td id=\"T_be8ad_row15_col2\" class=\"data row15 col2\" >294</td>\n",
       "      <td id=\"T_be8ad_row15_col3\" class=\"data row15 col3\" >4.540000</td>\n",
       "    </tr>\n",
       "    <tr>\n",
       "      <th id=\"T_be8ad_level0_row16\" class=\"row_heading level0 row16\" >16</th>\n",
       "      <td id=\"T_be8ad_row16_col0\" class=\"data row16 col0\" >Cideries</td>\n",
       "      <td id=\"T_be8ad_row16_col1\" class=\"data row16 col1\" >1650</td>\n",
       "      <td id=\"T_be8ad_row16_col2\" class=\"data row16 col2\" >25</td>\n",
       "      <td id=\"T_be8ad_row16_col3\" class=\"data row16 col3\" >4.540000</td>\n",
       "    </tr>\n",
       "    <tr>\n",
       "      <th id=\"T_be8ad_level0_row17\" class=\"row_heading level0 row17\" >17</th>\n",
       "      <td id=\"T_be8ad_row17_col0\" class=\"data row17 col0\" >Boat Tours</td>\n",
       "      <td id=\"T_be8ad_row17_col1\" class=\"data row17 col1\" >5736</td>\n",
       "      <td id=\"T_be8ad_row17_col2\" class=\"data row17 col2\" >61</td>\n",
       "      <td id=\"T_be8ad_row17_col3\" class=\"data row17 col3\" >4.540000</td>\n",
       "    </tr>\n",
       "    <tr>\n",
       "      <th id=\"T_be8ad_level0_row18\" class=\"row_heading level0 row18\" >18</th>\n",
       "      <td id=\"T_be8ad_row18_col0\" class=\"data row18 col0\" >Event Photography</td>\n",
       "      <td id=\"T_be8ad_row18_col1\" class=\"data row18 col1\" >4246</td>\n",
       "      <td id=\"T_be8ad_row18_col2\" class=\"data row18 col2\" >325</td>\n",
       "      <td id=\"T_be8ad_row18_col3\" class=\"data row18 col3\" >4.540000</td>\n",
       "    </tr>\n",
       "    <tr>\n",
       "      <th id=\"T_be8ad_level0_row19\" class=\"row_heading level0 row19\" >19</th>\n",
       "      <td id=\"T_be8ad_row19_col0\" class=\"data row19 col0\" >Traditional Chinese Medicine</td>\n",
       "      <td id=\"T_be8ad_row19_col1\" class=\"data row19 col1\" >3346</td>\n",
       "      <td id=\"T_be8ad_row19_col2\" class=\"data row19 col2\" >174</td>\n",
       "      <td id=\"T_be8ad_row19_col3\" class=\"data row19 col3\" >4.530000</td>\n",
       "    </tr>\n",
       "  </tbody>\n",
       "</table>\n"
      ],
      "text/plain": [
       "<pandas.io.formats.style.Styler at 0x229d47bdbd0>"
      ]
     },
     "metadata": {},
     "output_type": "display_data"
    }
   ],
   "source": [
    "# Top 20 categories by average star rating (minimum 1000 reviews)\n",
    "df = cur.execute('''\n",
    "                 WITH cat AS (\n",
    "                    -- split the categories column so each business has a row for each category it has\n",
    "                    SELECT business_id, stars, review_count,\n",
    "                    TRIM(A.value) AS category\n",
    "                    FROM yelp_businesses,\n",
    "                    LATERAL SPLIT_TO_TABLE(categories, ',') A\n",
    "                )\n",
    "\n",
    "                SELECT category, SUM(review_count) AS num_of_reviews, COUNT(DISTINCT business_id) AS num_of_businesses, ROUND(AVG(stars), 2) AS avg_rating\n",
    "                FROM cat\n",
    "                GROUP BY 1  \n",
    "                HAVING SUM(review_count) >= 1000\n",
    "                ORDER BY 4 DESC\n",
    "                LIMIT 20;\n",
    "                 ''').fetch_pandas_all()\n",
    "\n",
    "styles = [{\n",
    "    'selector': 'caption', 'props': 'text-align: left;'\n",
    "}]\n",
    "\n",
    "display(df.style.set_caption('<span style=\"font-size: 20px;\">Table 8: Top 20 Categories by Average Rating (Min 1000 Reviews)</span>').set_table_styles(styles))"
   ]
  },
  {
   "cell_type": "markdown",
   "id": "03201ad1",
   "metadata": {},
   "source": [
    "### Bottom 20 Categories by Average Star Rating (Min 1000 Reviews)"
   ]
  },
  {
   "cell_type": "code",
   "execution_count": 23,
   "id": "e6d9f5e4",
   "metadata": {},
   "outputs": [
    {
     "data": {
      "text/html": [
       "<style type=\"text/css\">\n",
       "#T_9475a caption {\n",
       "  text-align: left;\n",
       "}\n",
       "</style>\n",
       "<table id=\"T_9475a\">\n",
       "  <caption><span style=\"font-size: 20px;\">Table 9: Bottom 20 Categories by Average Rating (Min 1000 Reviews)</span></caption>\n",
       "  <thead>\n",
       "    <tr>\n",
       "      <th class=\"blank level0\" >&nbsp;</th>\n",
       "      <th id=\"T_9475a_level0_col0\" class=\"col_heading level0 col0\" >CATEGORY</th>\n",
       "      <th id=\"T_9475a_level0_col1\" class=\"col_heading level0 col1\" >NUM_OF_REVIEWS</th>\n",
       "      <th id=\"T_9475a_level0_col2\" class=\"col_heading level0 col2\" >NUM_OF_BUSINESSES</th>\n",
       "      <th id=\"T_9475a_level0_col3\" class=\"col_heading level0 col3\" >AVG_RATING</th>\n",
       "    </tr>\n",
       "  </thead>\n",
       "  <tbody>\n",
       "    <tr>\n",
       "      <th id=\"T_9475a_level0_row0\" class=\"row_heading level0 row0\" >0</th>\n",
       "      <td id=\"T_9475a_row0_col0\" class=\"data row0 col0\" >Television Service Providers</td>\n",
       "      <td id=\"T_9475a_row0_col1\" class=\"data row0 col1\" >4253</td>\n",
       "      <td id=\"T_9475a_row0_col2\" class=\"data row0 col2\" >159</td>\n",
       "      <td id=\"T_9475a_row0_col3\" class=\"data row0 col3\" >2.050000</td>\n",
       "    </tr>\n",
       "    <tr>\n",
       "      <th id=\"T_9475a_level0_row1\" class=\"row_heading level0 row1\" >1</th>\n",
       "      <td id=\"T_9475a_row1_col0\" class=\"data row1 col0\" >University Housing</td>\n",
       "      <td id=\"T_9475a_row1_col1\" class=\"data row1 col1\" >2630</td>\n",
       "      <td id=\"T_9475a_row1_col2\" class=\"data row1 col2\" >122</td>\n",
       "      <td id=\"T_9475a_row1_col3\" class=\"data row1 col3\" >2.330000</td>\n",
       "    </tr>\n",
       "    <tr>\n",
       "      <th id=\"T_9475a_level0_row2\" class=\"row_heading level0 row2\" >2</th>\n",
       "      <td id=\"T_9475a_row2_col0\" class=\"data row2 col0\" >Internet Service Providers</td>\n",
       "      <td id=\"T_9475a_row2_col1\" class=\"data row2 col1\" >7947</td>\n",
       "      <td id=\"T_9475a_row2_col2\" class=\"data row2 col2\" >356</td>\n",
       "      <td id=\"T_9475a_row2_col3\" class=\"data row2 col3\" >2.340000</td>\n",
       "    </tr>\n",
       "    <tr>\n",
       "      <th id=\"T_9475a_level0_row3\" class=\"row_heading level0 row3\" >3</th>\n",
       "      <td id=\"T_9475a_row3_col0\" class=\"data row3 col0\" >Property Management</td>\n",
       "      <td id=\"T_9475a_row3_col1\" class=\"data row3 col1\" >12282</td>\n",
       "      <td id=\"T_9475a_row3_col2\" class=\"data row3 col2\" >759</td>\n",
       "      <td id=\"T_9475a_row3_col3\" class=\"data row3 col3\" >2.500000</td>\n",
       "    </tr>\n",
       "    <tr>\n",
       "      <th id=\"T_9475a_level0_row4\" class=\"row_heading level0 row4\" >4</th>\n",
       "      <td id=\"T_9475a_row4_col0\" class=\"data row4 col0\" >Post Offices</td>\n",
       "      <td id=\"T_9475a_row4_col1\" class=\"data row4 col1\" >5284</td>\n",
       "      <td id=\"T_9475a_row4_col2\" class=\"data row4 col2\" >327</td>\n",
       "      <td id=\"T_9475a_row4_col3\" class=\"data row4 col3\" >2.560000</td>\n",
       "    </tr>\n",
       "    <tr>\n",
       "      <th id=\"T_9475a_level0_row5\" class=\"row_heading level0 row5\" >5</th>\n",
       "      <td id=\"T_9475a_row5_col0\" class=\"data row5 col0\" >Apartments</td>\n",
       "      <td id=\"T_9475a_row5_col1\" class=\"data row5 col1\" >28510</td>\n",
       "      <td id=\"T_9475a_row5_col2\" class=\"data row5 col2\" >1921</td>\n",
       "      <td id=\"T_9475a_row5_col3\" class=\"data row5 col3\" >2.580000</td>\n",
       "    </tr>\n",
       "    <tr>\n",
       "      <th id=\"T_9475a_level0_row6\" class=\"row_heading level0 row6\" >6</th>\n",
       "      <td id=\"T_9475a_row6_col0\" class=\"data row6 col0\" >Parking</td>\n",
       "      <td id=\"T_9475a_row6_col1\" class=\"data row6 col1\" >9327</td>\n",
       "      <td id=\"T_9475a_row6_col2\" class=\"data row6 col2\" >243</td>\n",
       "      <td id=\"T_9475a_row6_col3\" class=\"data row6 col3\" >2.610000</td>\n",
       "    </tr>\n",
       "    <tr>\n",
       "      <th id=\"T_9475a_level0_row7\" class=\"row_heading level0 row7\" >7</th>\n",
       "      <td id=\"T_9475a_row7_col0\" class=\"data row7 col0\" >Truck Rental</td>\n",
       "      <td id=\"T_9475a_row7_col1\" class=\"data row7 col1\" >3633</td>\n",
       "      <td id=\"T_9475a_row7_col2\" class=\"data row7 col2\" >206</td>\n",
       "      <td id=\"T_9475a_row7_col3\" class=\"data row7 col3\" >2.610000</td>\n",
       "    </tr>\n",
       "    <tr>\n",
       "      <th id=\"T_9475a_level0_row8\" class=\"row_heading level0 row8\" >8</th>\n",
       "      <td id=\"T_9475a_row8_col0\" class=\"data row8 col0\" >Utilities</td>\n",
       "      <td id=\"T_9475a_row8_col1\" class=\"data row8 col1\" >2276</td>\n",
       "      <td id=\"T_9475a_row8_col2\" class=\"data row8 col2\" >102</td>\n",
       "      <td id=\"T_9475a_row8_col3\" class=\"data row8 col3\" >2.630000</td>\n",
       "    </tr>\n",
       "    <tr>\n",
       "      <th id=\"T_9475a_level0_row9\" class=\"row_heading level0 row9\" >9</th>\n",
       "      <td id=\"T_9475a_row9_col0\" class=\"data row9 col0\" >Fast Food</td>\n",
       "      <td id=\"T_9475a_row9_col1\" class=\"data row9 col1\" >224529</td>\n",
       "      <td id=\"T_9475a_row9_col2\" class=\"data row9 col2\" >6472</td>\n",
       "      <td id=\"T_9475a_row9_col3\" class=\"data row9 col3\" >2.630000</td>\n",
       "    </tr>\n",
       "    <tr>\n",
       "      <th id=\"T_9475a_level0_row10\" class=\"row_heading level0 row10\" >10</th>\n",
       "      <td id=\"T_9475a_row10_col0\" class=\"data row10 col0\" >Banks & Credit Unions</td>\n",
       "      <td id=\"T_9475a_row10_col1\" class=\"data row10 col1\" >7577</td>\n",
       "      <td id=\"T_9475a_row10_col2\" class=\"data row10 col2\" >749</td>\n",
       "      <td id=\"T_9475a_row10_col3\" class=\"data row10 col3\" >2.640000</td>\n",
       "    </tr>\n",
       "    <tr>\n",
       "      <th id=\"T_9475a_level0_row11\" class=\"row_heading level0 row11\" >11</th>\n",
       "      <td id=\"T_9475a_row11_col0\" class=\"data row11 col0\" >Airlines</td>\n",
       "      <td id=\"T_9475a_row11_col1\" class=\"data row11 col1\" >6018</td>\n",
       "      <td id=\"T_9475a_row11_col2\" class=\"data row11 col2\" >118</td>\n",
       "      <td id=\"T_9475a_row11_col3\" class=\"data row11 col3\" >2.650000</td>\n",
       "    </tr>\n",
       "    <tr>\n",
       "      <th id=\"T_9475a_level0_row12\" class=\"row_heading level0 row12\" >12</th>\n",
       "      <td id=\"T_9475a_row12_col0\" class=\"data row12 col0\" >Telecommunications</td>\n",
       "      <td id=\"T_9475a_row12_col1\" class=\"data row12 col1\" >5735</td>\n",
       "      <td id=\"T_9475a_row12_col2\" class=\"data row12 col2\" >397</td>\n",
       "      <td id=\"T_9475a_row12_col3\" class=\"data row12 col3\" >2.700000</td>\n",
       "    </tr>\n",
       "    <tr>\n",
       "      <th id=\"T_9475a_level0_row13\" class=\"row_heading level0 row13\" >13</th>\n",
       "      <td id=\"T_9475a_row13_col0\" class=\"data row13 col0\" >Pharmacy</td>\n",
       "      <td id=\"T_9475a_row13_col1\" class=\"data row13 col1\" >8109</td>\n",
       "      <td id=\"T_9475a_row13_col2\" class=\"data row13 col2\" >503</td>\n",
       "      <td id=\"T_9475a_row13_col3\" class=\"data row13 col3\" >2.730000</td>\n",
       "    </tr>\n",
       "    <tr>\n",
       "      <th id=\"T_9475a_level0_row14\" class=\"row_heading level0 row14\" >14</th>\n",
       "      <td id=\"T_9475a_row14_col0\" class=\"data row14 col0\" >Propane</td>\n",
       "      <td id=\"T_9475a_row14_col1\" class=\"data row14 col1\" >2428</td>\n",
       "      <td id=\"T_9475a_row14_col2\" class=\"data row14 col2\" >147</td>\n",
       "      <td id=\"T_9475a_row14_col3\" class=\"data row14 col3\" >2.760000</td>\n",
       "    </tr>\n",
       "    <tr>\n",
       "      <th id=\"T_9475a_level0_row15\" class=\"row_heading level0 row15\" >15</th>\n",
       "      <td id=\"T_9475a_row15_col0\" class=\"data row15 col0\" >Car Rental</td>\n",
       "      <td id=\"T_9475a_row15_col1\" class=\"data row15 col1\" >24378</td>\n",
       "      <td id=\"T_9475a_row15_col2\" class=\"data row15 col2\" >670</td>\n",
       "      <td id=\"T_9475a_row15_col3\" class=\"data row15 col3\" >2.760000</td>\n",
       "    </tr>\n",
       "    <tr>\n",
       "      <th id=\"T_9475a_level0_row16\" class=\"row_heading level0 row16\" >16</th>\n",
       "      <td id=\"T_9475a_row16_col0\" class=\"data row16 col0\" >Drugstores</td>\n",
       "      <td id=\"T_9475a_row16_col1\" class=\"data row16 col1\" >30531</td>\n",
       "      <td id=\"T_9475a_row16_col2\" class=\"data row16 col2\" >1630</td>\n",
       "      <td id=\"T_9475a_row16_col3\" class=\"data row16 col3\" >2.780000</td>\n",
       "    </tr>\n",
       "    <tr>\n",
       "      <th id=\"T_9475a_level0_row17\" class=\"row_heading level0 row17\" >17</th>\n",
       "      <td id=\"T_9475a_row17_col0\" class=\"data row17 col0\" >Emergency Rooms</td>\n",
       "      <td id=\"T_9475a_row17_col1\" class=\"data row17 col1\" >2654</td>\n",
       "      <td id=\"T_9475a_row17_col2\" class=\"data row17 col2\" >93</td>\n",
       "      <td id=\"T_9475a_row17_col3\" class=\"data row17 col3\" >2.820000</td>\n",
       "    </tr>\n",
       "    <tr>\n",
       "      <th id=\"T_9475a_level0_row18\" class=\"row_heading level0 row18\" >18</th>\n",
       "      <td id=\"T_9475a_row18_col0\" class=\"data row18 col0\" >Mobile Phones</td>\n",
       "      <td id=\"T_9475a_row18_col1\" class=\"data row18 col1\" >20714</td>\n",
       "      <td id=\"T_9475a_row18_col2\" class=\"data row18 col2\" >952</td>\n",
       "      <td id=\"T_9475a_row18_col3\" class=\"data row18 col3\" >2.830000</td>\n",
       "    </tr>\n",
       "    <tr>\n",
       "      <th id=\"T_9475a_level0_row19\" class=\"row_heading level0 row19\" >19</th>\n",
       "      <td id=\"T_9475a_row19_col0\" class=\"data row19 col0\" >Hospitals</td>\n",
       "      <td id=\"T_9475a_row19_col1\" class=\"data row19 col1\" >10762</td>\n",
       "      <td id=\"T_9475a_row19_col2\" class=\"data row19 col2\" >395</td>\n",
       "      <td id=\"T_9475a_row19_col3\" class=\"data row19 col3\" >2.840000</td>\n",
       "    </tr>\n",
       "  </tbody>\n",
       "</table>\n"
      ],
      "text/plain": [
       "<pandas.io.formats.style.Styler at 0x229d462b390>"
      ]
     },
     "metadata": {},
     "output_type": "display_data"
    }
   ],
   "source": [
    "# Bottom 20 categories by average star rating (minimum 1000 reviews)\n",
    "df = cur.execute('''\n",
    "                 WITH cat AS (\n",
    "                    -- split the categories column so each business has a row for each category it has\n",
    "                    SELECT business_id, stars, review_count,\n",
    "                    TRIM(A.value) AS category\n",
    "                    FROM yelp_businesses,\n",
    "                    LATERAL SPLIT_TO_TABLE(categories, ',') A\n",
    "                )\n",
    "\n",
    "                SELECT category, SUM(review_count) AS num_of_reviews, COUNT(DISTINCT business_id) AS num_of_businesses, ROUND(AVG(stars), 2) AS avg_rating\n",
    "                FROM cat\n",
    "                GROUP BY 1  \n",
    "                HAVING SUM(review_count) >= 1000\n",
    "                ORDER BY 4\n",
    "                LIMIT 20;\n",
    "                 ''').fetch_pandas_all()\n",
    "\n",
    "styles = [{\n",
    "    'selector': 'caption', 'props': 'text-align: left;'\n",
    "}]\n",
    "\n",
    "display(df.style.set_caption('<span style=\"font-size: 20px;\">Table 9: Bottom 20 Categories by Average Rating (Min 1000 Reviews)</span>').set_table_styles(styles))"
   ]
  },
  {
   "cell_type": "markdown",
   "id": "3da2cc2c",
   "metadata": {},
   "source": [
    "### Overrated Categories"
   ]
  },
  {
   "cell_type": "code",
   "execution_count": 24,
   "id": "899e5525",
   "metadata": {},
   "outputs": [
    {
     "data": {
      "text/html": [
       "<style type=\"text/css\">\n",
       "#T_5a214 caption {\n",
       "  text-align: left;\n",
       "}\n",
       "</style>\n",
       "<table id=\"T_5a214\">\n",
       "  <caption><span style=\"font-size: 20px;\">Table 10: Categories with High Average Rating and Low Review Volume</span></caption>\n",
       "  <thead>\n",
       "    <tr>\n",
       "      <th class=\"blank level0\" >&nbsp;</th>\n",
       "      <th id=\"T_5a214_level0_col0\" class=\"col_heading level0 col0\" >CATEGORY</th>\n",
       "      <th id=\"T_5a214_level0_col1\" class=\"col_heading level0 col1\" >NUM_OF_REVIEWS</th>\n",
       "      <th id=\"T_5a214_level0_col2\" class=\"col_heading level0 col2\" >NUM_OF_BUSINESSES</th>\n",
       "      <th id=\"T_5a214_level0_col3\" class=\"col_heading level0 col3\" >AVG_RATING</th>\n",
       "    </tr>\n",
       "  </thead>\n",
       "  <tbody>\n",
       "    <tr>\n",
       "      <th id=\"T_5a214_level0_row0\" class=\"row_heading level0 row0\" >0</th>\n",
       "      <td id=\"T_5a214_row0_col0\" class=\"data row0 col0\" >Metal Detector Services</td>\n",
       "      <td id=\"T_5a214_row0_col1\" class=\"data row0 col1\" >6</td>\n",
       "      <td id=\"T_5a214_row0_col2\" class=\"data row0 col2\" >1</td>\n",
       "      <td id=\"T_5a214_row0_col3\" class=\"data row0 col3\" >5.000000</td>\n",
       "    </tr>\n",
       "    <tr>\n",
       "      <th id=\"T_5a214_level0_row1\" class=\"row_heading level0 row1\" >1</th>\n",
       "      <td id=\"T_5a214_row1_col0\" class=\"data row1 col0\" >Patent Law</td>\n",
       "      <td id=\"T_5a214_row1_col1\" class=\"data row1 col1\" >6</td>\n",
       "      <td id=\"T_5a214_row1_col2\" class=\"data row1 col2\" >1</td>\n",
       "      <td id=\"T_5a214_row1_col3\" class=\"data row1 col3\" >5.000000</td>\n",
       "    </tr>\n",
       "    <tr>\n",
       "      <th id=\"T_5a214_level0_row2\" class=\"row_heading level0 row2\" >2</th>\n",
       "      <td id=\"T_5a214_row2_col0\" class=\"data row2 col0\" >Karaoke Rental</td>\n",
       "      <td id=\"T_5a214_row2_col1\" class=\"data row2 col1\" >7</td>\n",
       "      <td id=\"T_5a214_row2_col2\" class=\"data row2 col2\" >1</td>\n",
       "      <td id=\"T_5a214_row2_col3\" class=\"data row2 col3\" >5.000000</td>\n",
       "    </tr>\n",
       "    <tr>\n",
       "      <th id=\"T_5a214_level0_row3\" class=\"row_heading level0 row3\" >3</th>\n",
       "      <td id=\"T_5a214_row3_col0\" class=\"data row3 col0\" >Circus Schools</td>\n",
       "      <td id=\"T_5a214_row3_col1\" class=\"data row3 col1\" >9</td>\n",
       "      <td id=\"T_5a214_row3_col2\" class=\"data row3 col2\" >1</td>\n",
       "      <td id=\"T_5a214_row3_col3\" class=\"data row3 col3\" >5.000000</td>\n",
       "    </tr>\n",
       "    <tr>\n",
       "      <th id=\"T_5a214_level0_row4\" class=\"row_heading level0 row4\" >4</th>\n",
       "      <td id=\"T_5a214_row4_col0\" class=\"data row4 col0\" >Bubble Soccer</td>\n",
       "      <td id=\"T_5a214_row4_col1\" class=\"data row4 col1\" >13</td>\n",
       "      <td id=\"T_5a214_row4_col2\" class=\"data row4 col2\" >1</td>\n",
       "      <td id=\"T_5a214_row4_col3\" class=\"data row4 col3\" >5.000000</td>\n",
       "    </tr>\n",
       "    <tr>\n",
       "      <th id=\"T_5a214_level0_row5\" class=\"row_heading level0 row5\" >5</th>\n",
       "      <td id=\"T_5a214_row5_col0\" class=\"data row5 col0\" >Mohels</td>\n",
       "      <td id=\"T_5a214_row5_col1\" class=\"data row5 col1\" >14</td>\n",
       "      <td id=\"T_5a214_row5_col2\" class=\"data row5 col2\" >1</td>\n",
       "      <td id=\"T_5a214_row5_col3\" class=\"data row5 col3\" >5.000000</td>\n",
       "    </tr>\n",
       "    <tr>\n",
       "      <th id=\"T_5a214_level0_row6\" class=\"row_heading level0 row6\" >6</th>\n",
       "      <td id=\"T_5a214_row6_col0\" class=\"data row6 col0\" >Art Consultants</td>\n",
       "      <td id=\"T_5a214_row6_col1\" class=\"data row6 col1\" >15</td>\n",
       "      <td id=\"T_5a214_row6_col2\" class=\"data row6 col2\" >2</td>\n",
       "      <td id=\"T_5a214_row6_col3\" class=\"data row6 col3\" >5.000000</td>\n",
       "    </tr>\n",
       "    <tr>\n",
       "      <th id=\"T_5a214_level0_row7\" class=\"row_heading level0 row7\" >7</th>\n",
       "      <td id=\"T_5a214_row7_col0\" class=\"data row7 col0\" >Calligraphy</td>\n",
       "      <td id=\"T_5a214_row7_col1\" class=\"data row7 col1\" >16</td>\n",
       "      <td id=\"T_5a214_row7_col2\" class=\"data row7 col2\" >2</td>\n",
       "      <td id=\"T_5a214_row7_col3\" class=\"data row7 col3\" >5.000000</td>\n",
       "    </tr>\n",
       "    <tr>\n",
       "      <th id=\"T_5a214_level0_row8\" class=\"row_heading level0 row8\" >8</th>\n",
       "      <td id=\"T_5a214_row8_col0\" class=\"data row8 col0\" >Water Suppliers</td>\n",
       "      <td id=\"T_5a214_row8_col1\" class=\"data row8 col1\" >17</td>\n",
       "      <td id=\"T_5a214_row8_col2\" class=\"data row8 col2\" >1</td>\n",
       "      <td id=\"T_5a214_row8_col3\" class=\"data row8 col3\" >5.000000</td>\n",
       "    </tr>\n",
       "    <tr>\n",
       "      <th id=\"T_5a214_level0_row9\" class=\"row_heading level0 row9\" >9</th>\n",
       "      <td id=\"T_5a214_row9_col0\" class=\"data row9 col0\" >Silent Disco</td>\n",
       "      <td id=\"T_5a214_row9_col1\" class=\"data row9 col1\" >37</td>\n",
       "      <td id=\"T_5a214_row9_col2\" class=\"data row9 col2\" >2</td>\n",
       "      <td id=\"T_5a214_row9_col3\" class=\"data row9 col3\" >5.000000</td>\n",
       "    </tr>\n",
       "    <tr>\n",
       "      <th id=\"T_5a214_level0_row10\" class=\"row_heading level0 row10\" >10</th>\n",
       "      <td id=\"T_5a214_row10_col0\" class=\"data row10 col0\" >Childproofing</td>\n",
       "      <td id=\"T_5a214_row10_col1\" class=\"data row10 col1\" >39</td>\n",
       "      <td id=\"T_5a214_row10_col2\" class=\"data row10 col2\" >3</td>\n",
       "      <td id=\"T_5a214_row10_col3\" class=\"data row10 col3\" >5.000000</td>\n",
       "    </tr>\n",
       "    <tr>\n",
       "      <th id=\"T_5a214_level0_row11\" class=\"row_heading level0 row11\" >11</th>\n",
       "      <td id=\"T_5a214_row11_col0\" class=\"data row11 col0\" >Cheese Tasting Classes</td>\n",
       "      <td id=\"T_5a214_row11_col1\" class=\"data row11 col1\" >51</td>\n",
       "      <td id=\"T_5a214_row11_col2\" class=\"data row11 col2\" >2</td>\n",
       "      <td id=\"T_5a214_row11_col3\" class=\"data row11 col3\" >5.000000</td>\n",
       "    </tr>\n",
       "    <tr>\n",
       "      <th id=\"T_5a214_level0_row12\" class=\"row_heading level0 row12\" >12</th>\n",
       "      <td id=\"T_5a214_row12_col0\" class=\"data row12 col0\" >Experiences</td>\n",
       "      <td id=\"T_5a214_row12_col1\" class=\"data row12 col1\" >56</td>\n",
       "      <td id=\"T_5a214_row12_col2\" class=\"data row12 col2\" >2</td>\n",
       "      <td id=\"T_5a214_row12_col3\" class=\"data row12 col3\" >5.000000</td>\n",
       "    </tr>\n",
       "    <tr>\n",
       "      <th id=\"T_5a214_level0_row13\" class=\"row_heading level0 row13\" >13</th>\n",
       "      <td id=\"T_5a214_row13_col0\" class=\"data row13 col0\" >Sport Equipment Hire</td>\n",
       "      <td id=\"T_5a214_row13_col1\" class=\"data row13 col1\" >65</td>\n",
       "      <td id=\"T_5a214_row13_col2\" class=\"data row13 col2\" >1</td>\n",
       "      <td id=\"T_5a214_row13_col3\" class=\"data row13 col3\" >5.000000</td>\n",
       "    </tr>\n",
       "    <tr>\n",
       "      <th id=\"T_5a214_level0_row14\" class=\"row_heading level0 row14\" >14</th>\n",
       "      <td id=\"T_5a214_row14_col0\" class=\"data row14 col0\" >Somali</td>\n",
       "      <td id=\"T_5a214_row14_col1\" class=\"data row14 col1\" >135</td>\n",
       "      <td id=\"T_5a214_row14_col2\" class=\"data row14 col2\" >2</td>\n",
       "      <td id=\"T_5a214_row14_col3\" class=\"data row14 col3\" >5.000000</td>\n",
       "    </tr>\n",
       "    <tr>\n",
       "      <th id=\"T_5a214_level0_row15\" class=\"row_heading level0 row15\" >15</th>\n",
       "      <td id=\"T_5a214_row15_col0\" class=\"data row15 col0\" >Real Estate Photography</td>\n",
       "      <td id=\"T_5a214_row15_col1\" class=\"data row15 col1\" >339</td>\n",
       "      <td id=\"T_5a214_row15_col2\" class=\"data row15 col2\" >32</td>\n",
       "      <td id=\"T_5a214_row15_col3\" class=\"data row15 col3\" >4.910000</td>\n",
       "    </tr>\n",
       "    <tr>\n",
       "      <th id=\"T_5a214_level0_row16\" class=\"row_heading level0 row16\" >16</th>\n",
       "      <td id=\"T_5a214_row16_col0\" class=\"data row16 col0\" >Undersea/Hyperbaric Medicine</td>\n",
       "      <td id=\"T_5a214_row16_col1\" class=\"data row16 col1\" >65</td>\n",
       "      <td id=\"T_5a214_row16_col2\" class=\"data row16 col2\" >5</td>\n",
       "      <td id=\"T_5a214_row16_col3\" class=\"data row16 col3\" >4.900000</td>\n",
       "    </tr>\n",
       "    <tr>\n",
       "      <th id=\"T_5a214_level0_row17\" class=\"row_heading level0 row17\" >17</th>\n",
       "      <td id=\"T_5a214_row17_col0\" class=\"data row17 col0\" >Gerontologists</td>\n",
       "      <td id=\"T_5a214_row17_col1\" class=\"data row17 col1\" >32</td>\n",
       "      <td id=\"T_5a214_row17_col2\" class=\"data row17 col2\" >4</td>\n",
       "      <td id=\"T_5a214_row17_col3\" class=\"data row17 col3\" >4.880000</td>\n",
       "    </tr>\n",
       "    <tr>\n",
       "      <th id=\"T_5a214_level0_row18\" class=\"row_heading level0 row18\" >18</th>\n",
       "      <td id=\"T_5a214_row18_col0\" class=\"data row18 col0\" >Art Tours</td>\n",
       "      <td id=\"T_5a214_row18_col1\" class=\"data row18 col1\" >1962</td>\n",
       "      <td id=\"T_5a214_row18_col2\" class=\"data row18 col2\" >18</td>\n",
       "      <td id=\"T_5a214_row18_col3\" class=\"data row18 col3\" >4.860000</td>\n",
       "    </tr>\n",
       "    <tr>\n",
       "      <th id=\"T_5a214_level0_row19\" class=\"row_heading level0 row19\" >19</th>\n",
       "      <td id=\"T_5a214_row19_col0\" class=\"data row19 col0\" >Boudoir Photography</td>\n",
       "      <td id=\"T_5a214_row19_col1\" class=\"data row19 col1\" >392</td>\n",
       "      <td id=\"T_5a214_row19_col2\" class=\"data row19 col2\" >37</td>\n",
       "      <td id=\"T_5a214_row19_col3\" class=\"data row19 col3\" >4.840000</td>\n",
       "    </tr>\n",
       "  </tbody>\n",
       "</table>\n"
      ],
      "text/plain": [
       "<pandas.io.formats.style.Styler at 0x229d462b390>"
      ]
     },
     "metadata": {},
     "output_type": "display_data"
    }
   ],
   "source": [
    "# Categories with high stars and low engagement\n",
    "df = cur.execute('''\n",
    "                 WITH cat AS (\n",
    "                    -- split the categories column so each business has a row for each category it has\n",
    "                    SELECT business_id, stars, review_count,\n",
    "                    TRIM(A.value) AS category\n",
    "                    FROM yelp_businesses,\n",
    "                    LATERAL SPLIT_TO_TABLE(categories, ',') A\n",
    "                )\n",
    "\n",
    "                SELECT category, SUM(review_count) AS num_of_reviews, COUNT(DISTINCT business_id) AS num_of_businesses, ROUND(AVG(stars), 2) AS avg_rating\n",
    "                FROM cat\n",
    "                GROUP BY 1  \n",
    "                ORDER BY 4 DESC, 2\n",
    "                LIMIT 20;\n",
    "                 ''').fetch_pandas_all()\n",
    "\n",
    "styles = [{\n",
    "    'selector': 'caption', 'props': 'text-align: left;'\n",
    "}]\n",
    "\n",
    "display(df.style.set_caption('<span style=\"font-size: 20px;\">Table 10: Categories with High Average Rating and Low Review Volume</span>').set_table_styles(styles))"
   ]
  },
  {
   "cell_type": "markdown",
   "id": "35227642",
   "metadata": {},
   "source": [
    "## Rating Distribution Overview"
   ]
  },
  {
   "cell_type": "markdown",
   "id": "5cc19301",
   "metadata": {},
   "source": [
    "### Total Review Volume for Each Star Rating"
   ]
  },
  {
   "cell_type": "code",
   "execution_count": 26,
   "id": "d27f6780",
   "metadata": {},
   "outputs": [
    {
     "data": {
      "text/html": [
       "<style type=\"text/css\">\n",
       "#T_070dc caption {\n",
       "  text-align: left;\n",
       "}\n",
       "</style>\n",
       "<table id=\"T_070dc\">\n",
       "  <caption><span style=\"font-size: 20px;\">Table 11: Review Volume by Star Rating</span></caption>\n",
       "  <thead>\n",
       "    <tr>\n",
       "      <th class=\"blank level0\" >&nbsp;</th>\n",
       "      <th id=\"T_070dc_level0_col0\" class=\"col_heading level0 col0\" >REVIEW_RATING</th>\n",
       "      <th id=\"T_070dc_level0_col1\" class=\"col_heading level0 col1\" >NUM_REVIEWS</th>\n",
       "    </tr>\n",
       "  </thead>\n",
       "  <tbody>\n",
       "    <tr>\n",
       "      <th id=\"T_070dc_level0_row0\" class=\"row_heading level0 row0\" >0</th>\n",
       "      <td id=\"T_070dc_row0_col0\" class=\"data row0 col0\" >1 Star</td>\n",
       "      <td id=\"T_070dc_row0_col1\" class=\"data row0 col1\" >1069561</td>\n",
       "    </tr>\n",
       "    <tr>\n",
       "      <th id=\"T_070dc_level0_row1\" class=\"row_heading level0 row1\" >1</th>\n",
       "      <td id=\"T_070dc_row1_col0\" class=\"data row1 col0\" >2 Star</td>\n",
       "      <td id=\"T_070dc_row1_col1\" class=\"data row1 col1\" >544240</td>\n",
       "    </tr>\n",
       "    <tr>\n",
       "      <th id=\"T_070dc_level0_row2\" class=\"row_heading level0 row2\" >2</th>\n",
       "      <td id=\"T_070dc_row2_col0\" class=\"data row2 col0\" >3 Star</td>\n",
       "      <td id=\"T_070dc_row2_col1\" class=\"data row2 col1\" >691934</td>\n",
       "    </tr>\n",
       "    <tr>\n",
       "      <th id=\"T_070dc_level0_row3\" class=\"row_heading level0 row3\" >3</th>\n",
       "      <td id=\"T_070dc_row3_col0\" class=\"data row3 col0\" >4 Star</td>\n",
       "      <td id=\"T_070dc_row3_col1\" class=\"data row3 col1\" >1452918</td>\n",
       "    </tr>\n",
       "    <tr>\n",
       "      <th id=\"T_070dc_level0_row4\" class=\"row_heading level0 row4\" >4</th>\n",
       "      <td id=\"T_070dc_row4_col0\" class=\"data row4 col0\" >5 Star</td>\n",
       "      <td id=\"T_070dc_row4_col1\" class=\"data row4 col1\" >3231627</td>\n",
       "    </tr>\n",
       "  </tbody>\n",
       "</table>\n"
      ],
      "text/plain": [
       "<pandas.io.formats.style.Styler at 0x229d462b390>"
      ]
     },
     "metadata": {},
     "output_type": "display_data"
    }
   ],
   "source": [
    "# Count of reviews for each star value 1-5\n",
    "df = cur.execute('''\n",
    "                 SELECT '1 Star' AS review_rating, COUNT(review_id) AS num_reviews FROM yelp_reviews WHERE stars = 1\n",
    "                 UNION\n",
    "                 SELECT '2 Star' AS review_rating, COUNT(review_id) AS num_reviews FROM yelp_reviews WHERE stars = 2\n",
    "                 UNION\n",
    "                 SELECT '3 Star' AS review_rating, COUNT(review_id) AS num_reviews FROM yelp_reviews WHERE stars = 3\n",
    "                 UNION\n",
    "                 SELECT '4 Star' AS review_rating, COUNT(review_id) AS num_reviews FROM yelp_reviews WHERE stars = 4\n",
    "                 UNION\n",
    "                 SELECT '5 Star' AS review_rating, COUNT(review_id) AS num_reviews FROM yelp_reviews WHERE stars = 5\n",
    "                 ORDER BY 1;\n",
    "                 ''').fetch_pandas_all()\n",
    "\n",
    "styles = [{\n",
    "    'selector': 'caption', 'props': 'text-align: left;'\n",
    "}]\n",
    "\n",
    "display(df.style.set_caption('<span style=\"font-size: 20px;\">Table 11: Review Volume by Star Rating</span>').set_table_styles(styles))"
   ]
  },
  {
   "cell_type": "markdown",
   "id": "8f6f1329",
   "metadata": {},
   "source": [
    "### Counts of Each Star Rating per Business"
   ]
  },
  {
   "cell_type": "code",
   "execution_count": 28,
   "id": "5a96e8ba",
   "metadata": {},
   "outputs": [
    {
     "data": {
      "text/html": [
       "<style type=\"text/css\">\n",
       "#T_be244 caption {\n",
       "  text-align: left;\n",
       "}\n",
       "</style>\n",
       "<table id=\"T_be244\">\n",
       "  <caption><span style=\"font-size: 20px;\">Table 12: Star Rating Breakdown by Business</span></caption>\n",
       "  <thead>\n",
       "    <tr>\n",
       "      <th class=\"blank level0\" >&nbsp;</th>\n",
       "      <th id=\"T_be244_level0_col0\" class=\"col_heading level0 col0\" >BUSINESS_ID</th>\n",
       "      <th id=\"T_be244_level0_col1\" class=\"col_heading level0 col1\" >ONE_STAR_REVIEWS</th>\n",
       "      <th id=\"T_be244_level0_col2\" class=\"col_heading level0 col2\" >TWO_STAR_REVIEWS</th>\n",
       "      <th id=\"T_be244_level0_col3\" class=\"col_heading level0 col3\" >THREE_STAR_REVIEWS</th>\n",
       "      <th id=\"T_be244_level0_col4\" class=\"col_heading level0 col4\" >FOUR_STAR_REVIEWS</th>\n",
       "      <th id=\"T_be244_level0_col5\" class=\"col_heading level0 col5\" >FIVE_STAR_REVIEWS</th>\n",
       "      <th id=\"T_be244_level0_col6\" class=\"col_heading level0 col6\" >TOTAL_REVIEWS</th>\n",
       "      <th id=\"T_be244_level0_col7\" class=\"col_heading level0 col7\" >TOTAL_STARS</th>\n",
       "    </tr>\n",
       "  </thead>\n",
       "  <tbody>\n",
       "    <tr>\n",
       "      <th id=\"T_be244_level0_row0\" class=\"row_heading level0 row0\" >0</th>\n",
       "      <td id=\"T_be244_row0_col0\" class=\"data row0 col0\" >7ATYjTIgM3jUlt4UM3IypQ</td>\n",
       "      <td id=\"T_be244_row0_col1\" class=\"data row0 col1\" >1</td>\n",
       "      <td id=\"T_be244_row0_col2\" class=\"data row0 col2\" >3</td>\n",
       "      <td id=\"T_be244_row0_col3\" class=\"data row0 col3\" >2</td>\n",
       "      <td id=\"T_be244_row0_col4\" class=\"data row0 col4\" >21</td>\n",
       "      <td id=\"T_be244_row0_col5\" class=\"data row0 col5\" >124</td>\n",
       "      <td id=\"T_be244_row0_col6\" class=\"data row0 col6\" >151</td>\n",
       "      <td id=\"T_be244_row0_col7\" class=\"data row0 col7\" >717</td>\n",
       "    </tr>\n",
       "    <tr>\n",
       "      <th id=\"T_be244_level0_row1\" class=\"row_heading level0 row1\" >1</th>\n",
       "      <td id=\"T_be244_row1_col0\" class=\"data row1 col0\" >CLEWowfkj-wKYJlQDqT1aw</td>\n",
       "      <td id=\"T_be244_row1_col1\" class=\"data row1 col1\" >7</td>\n",
       "      <td id=\"T_be244_row1_col2\" class=\"data row1 col2\" >5</td>\n",
       "      <td id=\"T_be244_row1_col3\" class=\"data row1 col3\" >1</td>\n",
       "      <td id=\"T_be244_row1_col4\" class=\"data row1 col4\" >4</td>\n",
       "      <td id=\"T_be244_row1_col5\" class=\"data row1 col5\" >38</td>\n",
       "      <td id=\"T_be244_row1_col6\" class=\"data row1 col6\" >55</td>\n",
       "      <td id=\"T_be244_row1_col7\" class=\"data row1 col7\" >226</td>\n",
       "    </tr>\n",
       "    <tr>\n",
       "      <th id=\"T_be244_level0_row2\" class=\"row_heading level0 row2\" >2</th>\n",
       "      <td id=\"T_be244_row2_col0\" class=\"data row2 col0\" >oBhJuukGRqPVvYBfTkhuZA</td>\n",
       "      <td id=\"T_be244_row2_col1\" class=\"data row2 col1\" >33</td>\n",
       "      <td id=\"T_be244_row2_col2\" class=\"data row2 col2\" >42</td>\n",
       "      <td id=\"T_be244_row2_col3\" class=\"data row2 col3\" >68</td>\n",
       "      <td id=\"T_be244_row2_col4\" class=\"data row2 col4\" >140</td>\n",
       "      <td id=\"T_be244_row2_col5\" class=\"data row2 col5\" >118</td>\n",
       "      <td id=\"T_be244_row2_col6\" class=\"data row2 col6\" >401</td>\n",
       "      <td id=\"T_be244_row2_col7\" class=\"data row2 col7\" >1471</td>\n",
       "    </tr>\n",
       "    <tr>\n",
       "      <th id=\"T_be244_level0_row3\" class=\"row_heading level0 row3\" >3</th>\n",
       "      <td id=\"T_be244_row3_col0\" class=\"data row3 col0\" >pUVRCYL8rT4I5Ry5FYkRsA</td>\n",
       "      <td id=\"T_be244_row3_col1\" class=\"data row3 col1\" >7</td>\n",
       "      <td id=\"T_be244_row3_col2\" class=\"data row3 col2\" >3</td>\n",
       "      <td id=\"T_be244_row3_col3\" class=\"data row3 col3\" >5</td>\n",
       "      <td id=\"T_be244_row3_col4\" class=\"data row3 col4\" >21</td>\n",
       "      <td id=\"T_be244_row3_col5\" class=\"data row3 col5\" >70</td>\n",
       "      <td id=\"T_be244_row3_col6\" class=\"data row3 col6\" >106</td>\n",
       "      <td id=\"T_be244_row3_col7\" class=\"data row3 col7\" >462</td>\n",
       "    </tr>\n",
       "    <tr>\n",
       "      <th id=\"T_be244_level0_row4\" class=\"row_heading level0 row4\" >4</th>\n",
       "      <td id=\"T_be244_row4_col0\" class=\"data row4 col0\" >sLgnx_WFCjEoPsS6NwU70Q</td>\n",
       "      <td id=\"T_be244_row4_col1\" class=\"data row4 col1\" >20</td>\n",
       "      <td id=\"T_be244_row4_col2\" class=\"data row4 col2\" >28</td>\n",
       "      <td id=\"T_be244_row4_col3\" class=\"data row4 col3\" >37</td>\n",
       "      <td id=\"T_be244_row4_col4\" class=\"data row4 col4\" >47</td>\n",
       "      <td id=\"T_be244_row4_col5\" class=\"data row4 col5\" >138</td>\n",
       "      <td id=\"T_be244_row4_col6\" class=\"data row4 col6\" >270</td>\n",
       "      <td id=\"T_be244_row4_col7\" class=\"data row4 col7\" >1065</td>\n",
       "    </tr>\n",
       "    <tr>\n",
       "      <th id=\"T_be244_level0_row5\" class=\"row_heading level0 row5\" >5</th>\n",
       "      <td id=\"T_be244_row5_col0\" class=\"data row5 col0\" >FHNIvNgh3fS7VZQq2Y3dsA</td>\n",
       "      <td id=\"T_be244_row5_col1\" class=\"data row5 col1\" >15</td>\n",
       "      <td id=\"T_be244_row5_col2\" class=\"data row5 col2\" >62</td>\n",
       "      <td id=\"T_be244_row5_col3\" class=\"data row5 col3\" >140</td>\n",
       "      <td id=\"T_be244_row5_col4\" class=\"data row5 col4\" >266</td>\n",
       "      <td id=\"T_be244_row5_col5\" class=\"data row5 col5\" >368</td>\n",
       "      <td id=\"T_be244_row5_col6\" class=\"data row5 col6\" >851</td>\n",
       "      <td id=\"T_be244_row5_col7\" class=\"data row5 col7\" >3463</td>\n",
       "    </tr>\n",
       "    <tr>\n",
       "      <th id=\"T_be244_level0_row6\" class=\"row_heading level0 row6\" >6</th>\n",
       "      <td id=\"T_be244_row6_col0\" class=\"data row6 col0\" >gGyqnAlpFrka_qzpO7j4lQ</td>\n",
       "      <td id=\"T_be244_row6_col1\" class=\"data row6 col1\" >16</td>\n",
       "      <td id=\"T_be244_row6_col2\" class=\"data row6 col2\" >12</td>\n",
       "      <td id=\"T_be244_row6_col3\" class=\"data row6 col3\" >43</td>\n",
       "      <td id=\"T_be244_row6_col4\" class=\"data row6 col4\" >182</td>\n",
       "      <td id=\"T_be244_row6_col5\" class=\"data row6 col5\" >276</td>\n",
       "      <td id=\"T_be244_row6_col6\" class=\"data row6 col6\" >529</td>\n",
       "      <td id=\"T_be244_row6_col7\" class=\"data row6 col7\" >2277</td>\n",
       "    </tr>\n",
       "    <tr>\n",
       "      <th id=\"T_be244_level0_row7\" class=\"row_heading level0 row7\" >7</th>\n",
       "      <td id=\"T_be244_row7_col0\" class=\"data row7 col0\" >Dv6RfXLYe1atjgz3Xf4GGw</td>\n",
       "      <td id=\"T_be244_row7_col1\" class=\"data row7 col1\" >33</td>\n",
       "      <td id=\"T_be244_row7_col2\" class=\"data row7 col2\" >53</td>\n",
       "      <td id=\"T_be244_row7_col3\" class=\"data row7 col3\" >112</td>\n",
       "      <td id=\"T_be244_row7_col4\" class=\"data row7 col4\" >377</td>\n",
       "      <td id=\"T_be244_row7_col5\" class=\"data row7 col5\" >541</td>\n",
       "      <td id=\"T_be244_row7_col6\" class=\"data row7 col6\" >1116</td>\n",
       "      <td id=\"T_be244_row7_col7\" class=\"data row7 col7\" >4688</td>\n",
       "    </tr>\n",
       "    <tr>\n",
       "      <th id=\"T_be244_level0_row8\" class=\"row_heading level0 row8\" >8</th>\n",
       "      <td id=\"T_be244_row8_col0\" class=\"data row8 col0\" >s3FRhtaNU8dt-mKkLKUQaQ</td>\n",
       "      <td id=\"T_be244_row8_col1\" class=\"data row8 col1\" >47</td>\n",
       "      <td id=\"T_be244_row8_col2\" class=\"data row8 col2\" >41</td>\n",
       "      <td id=\"T_be244_row8_col3\" class=\"data row8 col3\" >42</td>\n",
       "      <td id=\"T_be244_row8_col4\" class=\"data row8 col4\" >62</td>\n",
       "      <td id=\"T_be244_row8_col5\" class=\"data row8 col5\" >22</td>\n",
       "      <td id=\"T_be244_row8_col6\" class=\"data row8 col6\" >214</td>\n",
       "      <td id=\"T_be244_row8_col7\" class=\"data row8 col7\" >613</td>\n",
       "    </tr>\n",
       "    <tr>\n",
       "      <th id=\"T_be244_level0_row9\" class=\"row_heading level0 row9\" >9</th>\n",
       "      <td id=\"T_be244_row9_col0\" class=\"data row9 col0\" >hy5GpGXAna-5qrb3zNub6g</td>\n",
       "      <td id=\"T_be244_row9_col1\" class=\"data row9 col1\" >42</td>\n",
       "      <td id=\"T_be244_row9_col2\" class=\"data row9 col2\" >31</td>\n",
       "      <td id=\"T_be244_row9_col3\" class=\"data row9 col3\" >28</td>\n",
       "      <td id=\"T_be244_row9_col4\" class=\"data row9 col4\" >37</td>\n",
       "      <td id=\"T_be244_row9_col5\" class=\"data row9 col5\" >41</td>\n",
       "      <td id=\"T_be244_row9_col6\" class=\"data row9 col6\" >179</td>\n",
       "      <td id=\"T_be244_row9_col7\" class=\"data row9 col7\" >541</td>\n",
       "    </tr>\n",
       "  </tbody>\n",
       "</table>\n"
      ],
      "text/plain": [
       "<pandas.io.formats.style.Styler at 0x229d60e6850>"
      ]
     },
     "metadata": {},
     "output_type": "display_data"
    }
   ],
   "source": [
    "# Count of reviews with each star value by business\n",
    "df = cur.execute('''\n",
    "                 SELECT \n",
    "                    business_id, \n",
    "                    SUM(CASE WHEN stars=1 THEN 1 ELSE 0 END) AS one_star_reviews,\n",
    "                    SUM(CASE WHEN stars=2 THEN 1 ELSE 0 END) AS two_star_reviews,\n",
    "                    SUM(CASE WHEN stars=3 THEN 1 ELSE 0 END) AS three_star_reviews,\n",
    "                    SUM(CASE WHEN stars=4 THEN 1 ELSE 0 END) AS four_star_reviews,\n",
    "                    SUM(CASE WHEN stars=5 THEN 1 ELSE 0 END) AS five_star_reviews,\n",
    "                    COUNT(*) AS total_reviews,\n",
    "                    SUM(stars) AS total_stars\n",
    "                 FROM yelp_reviews\n",
    "                 GROUP BY 1\n",
    "                 LIMIT 10;\n",
    "                 ''').fetch_pandas_all()\n",
    "\n",
    "styles = [{\n",
    "    'selector': 'caption', 'props': 'text-align: left;'\n",
    "}]\n",
    "\n",
    "display(df.style.set_caption('<span style=\"font-size: 20px;\">Table 12: Star Rating Breakdown by Business</span>').set_table_styles(styles))"
   ]
  },
  {
   "cell_type": "markdown",
   "id": "6a46f457",
   "metadata": {},
   "source": [
    "### \"True\" Average Star Rating & Percent of 1 & 5 Star Reviews"
   ]
  },
  {
   "cell_type": "code",
   "execution_count": 29,
   "id": "6bfff26b",
   "metadata": {},
   "outputs": [
    {
     "data": {
      "text/html": [
       "<style type=\"text/css\">\n",
       "#T_8344f caption {\n",
       "  text-align: left;\n",
       "}\n",
       "</style>\n",
       "<table id=\"T_8344f\">\n",
       "  <caption><span style=\"font-size: 20px;\">Table 13: \"True\" Average Star Rating & Percentage of 1 & 5 Star Reviews</span></caption>\n",
       "  <thead>\n",
       "    <tr>\n",
       "      <th class=\"blank level0\" >&nbsp;</th>\n",
       "      <th id=\"T_8344f_level0_col0\" class=\"col_heading level0 col0\" >NAME</th>\n",
       "      <th id=\"T_8344f_level0_col1\" class=\"col_heading level0 col1\" >CITY</th>\n",
       "      <th id=\"T_8344f_level0_col2\" class=\"col_heading level0 col2\" >STATE</th>\n",
       "      <th id=\"T_8344f_level0_col3\" class=\"col_heading level0 col3\" >TOTAL_REVIEWS</th>\n",
       "      <th id=\"T_8344f_level0_col4\" class=\"col_heading level0 col4\" >TOTAL_STARS</th>\n",
       "      <th id=\"T_8344f_level0_col5\" class=\"col_heading level0 col5\" >TRUE_AVG_RATING</th>\n",
       "      <th id=\"T_8344f_level0_col6\" class=\"col_heading level0 col6\" >ROUNDED_AVG_RATING</th>\n",
       "      <th id=\"T_8344f_level0_col7\" class=\"col_heading level0 col7\" >FIVE_STAR_PCT</th>\n",
       "      <th id=\"T_8344f_level0_col8\" class=\"col_heading level0 col8\" >ONE_STAR_PCT</th>\n",
       "    </tr>\n",
       "  </thead>\n",
       "  <tbody>\n",
       "    <tr>\n",
       "      <th id=\"T_8344f_level0_row0\" class=\"row_heading level0 row0\" >0</th>\n",
       "      <td id=\"T_8344f_row0_col0\" class=\"data row0 col0\" >The Gables Apartments</td>\n",
       "      <td id=\"T_8344f_row0_col1\" class=\"data row0 col1\" >Greenwood</td>\n",
       "      <td id=\"T_8344f_row0_col2\" class=\"data row0 col2\" >IN</td>\n",
       "      <td id=\"T_8344f_row0_col3\" class=\"data row0 col3\" >12</td>\n",
       "      <td id=\"T_8344f_row0_col4\" class=\"data row0 col4\" >16</td>\n",
       "      <td id=\"T_8344f_row0_col5\" class=\"data row0 col5\" >1.33</td>\n",
       "      <td id=\"T_8344f_row0_col6\" class=\"data row0 col6\" >1.500000</td>\n",
       "      <td id=\"T_8344f_row0_col7\" class=\"data row0 col7\" >0.00</td>\n",
       "      <td id=\"T_8344f_row0_col8\" class=\"data row0 col8\" >83.33</td>\n",
       "    </tr>\n",
       "    <tr>\n",
       "      <th id=\"T_8344f_level0_row1\" class=\"row_heading level0 row1\" >1</th>\n",
       "      <td id=\"T_8344f_row1_col0\" class=\"data row1 col0\" >Schiano's Pizza</td>\n",
       "      <td id=\"T_8344f_row1_col1\" class=\"data row1 col1\" >Warminster</td>\n",
       "      <td id=\"T_8344f_row1_col2\" class=\"data row1 col2\" >PA</td>\n",
       "      <td id=\"T_8344f_row1_col3\" class=\"data row1 col3\" >29</td>\n",
       "      <td id=\"T_8344f_row1_col4\" class=\"data row1 col4\" >83</td>\n",
       "      <td id=\"T_8344f_row1_col5\" class=\"data row1 col5\" >2.86</td>\n",
       "      <td id=\"T_8344f_row1_col6\" class=\"data row1 col6\" >3.000000</td>\n",
       "      <td id=\"T_8344f_row1_col7\" class=\"data row1 col7\" >31.03</td>\n",
       "      <td id=\"T_8344f_row1_col8\" class=\"data row1 col8\" >41.38</td>\n",
       "    </tr>\n",
       "    <tr>\n",
       "      <th id=\"T_8344f_level0_row2\" class=\"row_heading level0 row2\" >2</th>\n",
       "      <td id=\"T_8344f_row2_col0\" class=\"data row2 col0\" >Caliber Collision</td>\n",
       "      <td id=\"T_8344f_row2_col1\" class=\"data row2 col1\" >Largo</td>\n",
       "      <td id=\"T_8344f_row2_col2\" class=\"data row2 col2\" >FL</td>\n",
       "      <td id=\"T_8344f_row2_col3\" class=\"data row2 col3\" >10</td>\n",
       "      <td id=\"T_8344f_row2_col4\" class=\"data row2 col4\" >34</td>\n",
       "      <td id=\"T_8344f_row2_col5\" class=\"data row2 col5\" >3.40</td>\n",
       "      <td id=\"T_8344f_row2_col6\" class=\"data row2 col6\" >3.500000</td>\n",
       "      <td id=\"T_8344f_row2_col7\" class=\"data row2 col7\" >50.00</td>\n",
       "      <td id=\"T_8344f_row2_col8\" class=\"data row2 col8\" >30.00</td>\n",
       "    </tr>\n",
       "    <tr>\n",
       "      <th id=\"T_8344f_level0_row3\" class=\"row_heading level0 row3\" >3</th>\n",
       "      <td id=\"T_8344f_row3_col0\" class=\"data row3 col0\" >Gail Marcus</td>\n",
       "      <td id=\"T_8344f_row3_col1\" class=\"data row3 col1\" >Philadelphia</td>\n",
       "      <td id=\"T_8344f_row3_col2\" class=\"data row3 col2\" >PA</td>\n",
       "      <td id=\"T_8344f_row3_col3\" class=\"data row3 col3\" >9</td>\n",
       "      <td id=\"T_8344f_row3_col4\" class=\"data row3 col4\" >45</td>\n",
       "      <td id=\"T_8344f_row3_col5\" class=\"data row3 col5\" >5.00</td>\n",
       "      <td id=\"T_8344f_row3_col6\" class=\"data row3 col6\" >5.000000</td>\n",
       "      <td id=\"T_8344f_row3_col7\" class=\"data row3 col7\" >100.00</td>\n",
       "      <td id=\"T_8344f_row3_col8\" class=\"data row3 col8\" >0.00</td>\n",
       "    </tr>\n",
       "    <tr>\n",
       "      <th id=\"T_8344f_level0_row4\" class=\"row_heading level0 row4\" >4</th>\n",
       "      <td id=\"T_8344f_row4_col0\" class=\"data row4 col0\" >Employ Health</td>\n",
       "      <td id=\"T_8344f_row4_col1\" class=\"data row4 col1\" >Nashville</td>\n",
       "      <td id=\"T_8344f_row4_col2\" class=\"data row4 col2\" >TN</td>\n",
       "      <td id=\"T_8344f_row4_col3\" class=\"data row4 col3\" >10</td>\n",
       "      <td id=\"T_8344f_row4_col4\" class=\"data row4 col4\" >50</td>\n",
       "      <td id=\"T_8344f_row4_col5\" class=\"data row4 col5\" >5.00</td>\n",
       "      <td id=\"T_8344f_row4_col6\" class=\"data row4 col6\" >5.000000</td>\n",
       "      <td id=\"T_8344f_row4_col7\" class=\"data row4 col7\" >100.00</td>\n",
       "      <td id=\"T_8344f_row4_col8\" class=\"data row4 col8\" >0.00</td>\n",
       "    </tr>\n",
       "    <tr>\n",
       "      <th id=\"T_8344f_level0_row5\" class=\"row_heading level0 row5\" >5</th>\n",
       "      <td id=\"T_8344f_row5_col0\" class=\"data row5 col0\" >Value Vet</td>\n",
       "      <td id=\"T_8344f_row5_col1\" class=\"data row5 col1\" >Nashville</td>\n",
       "      <td id=\"T_8344f_row5_col2\" class=\"data row5 col2\" >TN</td>\n",
       "      <td id=\"T_8344f_row5_col3\" class=\"data row5 col3\" >51</td>\n",
       "      <td id=\"T_8344f_row5_col4\" class=\"data row5 col4\" >184</td>\n",
       "      <td id=\"T_8344f_row5_col5\" class=\"data row5 col5\" >3.61</td>\n",
       "      <td id=\"T_8344f_row5_col6\" class=\"data row5 col6\" >3.500000</td>\n",
       "      <td id=\"T_8344f_row5_col7\" class=\"data row5 col7\" >47.06</td>\n",
       "      <td id=\"T_8344f_row5_col8\" class=\"data row5 col8\" >15.69</td>\n",
       "    </tr>\n",
       "    <tr>\n",
       "      <th id=\"T_8344f_level0_row6\" class=\"row_heading level0 row6\" >6</th>\n",
       "      <td id=\"T_8344f_row6_col0\" class=\"data row6 col0\" >America's Mattress of Tucson</td>\n",
       "      <td id=\"T_8344f_row6_col1\" class=\"data row6 col1\" >Tucson</td>\n",
       "      <td id=\"T_8344f_row6_col2\" class=\"data row6 col2\" >AZ</td>\n",
       "      <td id=\"T_8344f_row6_col3\" class=\"data row6 col3\" >7</td>\n",
       "      <td id=\"T_8344f_row6_col4\" class=\"data row6 col4\" >35</td>\n",
       "      <td id=\"T_8344f_row6_col5\" class=\"data row6 col5\" >5.00</td>\n",
       "      <td id=\"T_8344f_row6_col6\" class=\"data row6 col6\" >5.000000</td>\n",
       "      <td id=\"T_8344f_row6_col7\" class=\"data row6 col7\" >100.00</td>\n",
       "      <td id=\"T_8344f_row6_col8\" class=\"data row6 col8\" >0.00</td>\n",
       "    </tr>\n",
       "    <tr>\n",
       "      <th id=\"T_8344f_level0_row7\" class=\"row_heading level0 row7\" >7</th>\n",
       "      <td id=\"T_8344f_row7_col0\" class=\"data row7 col0\" >Terry House Bed & Breakfast</td>\n",
       "      <td id=\"T_8344f_row7_col1\" class=\"data row7 col1\" >New Castle</td>\n",
       "      <td id=\"T_8344f_row7_col2\" class=\"data row7 col2\" >DE</td>\n",
       "      <td id=\"T_8344f_row7_col3\" class=\"data row7 col3\" >5</td>\n",
       "      <td id=\"T_8344f_row7_col4\" class=\"data row7 col4\" >22</td>\n",
       "      <td id=\"T_8344f_row7_col5\" class=\"data row7 col5\" >4.40</td>\n",
       "      <td id=\"T_8344f_row7_col6\" class=\"data row7 col6\" >4.500000</td>\n",
       "      <td id=\"T_8344f_row7_col7\" class=\"data row7 col7\" >40.00</td>\n",
       "      <td id=\"T_8344f_row7_col8\" class=\"data row7 col8\" >0.00</td>\n",
       "    </tr>\n",
       "    <tr>\n",
       "      <th id=\"T_8344f_level0_row8\" class=\"row_heading level0 row8\" >8</th>\n",
       "      <td id=\"T_8344f_row8_col0\" class=\"data row8 col0\" >Little Caesers Pizza</td>\n",
       "      <td id=\"T_8344f_row8_col1\" class=\"data row8 col1\" >Souderton</td>\n",
       "      <td id=\"T_8344f_row8_col2\" class=\"data row8 col2\" >PA</td>\n",
       "      <td id=\"T_8344f_row8_col3\" class=\"data row8 col3\" >5</td>\n",
       "      <td id=\"T_8344f_row8_col4\" class=\"data row8 col4\" >17</td>\n",
       "      <td id=\"T_8344f_row8_col5\" class=\"data row8 col5\" >3.40</td>\n",
       "      <td id=\"T_8344f_row8_col6\" class=\"data row8 col6\" >3.500000</td>\n",
       "      <td id=\"T_8344f_row8_col7\" class=\"data row8 col7\" >60.00</td>\n",
       "      <td id=\"T_8344f_row8_col8\" class=\"data row8 col8\" >40.00</td>\n",
       "    </tr>\n",
       "    <tr>\n",
       "      <th id=\"T_8344f_level0_row9\" class=\"row_heading level0 row9\" >9</th>\n",
       "      <td id=\"T_8344f_row9_col0\" class=\"data row9 col0\" >Piano Gastrolounge</td>\n",
       "      <td id=\"T_8344f_row9_col1\" class=\"data row9 col1\" >Santa Barbara</td>\n",
       "      <td id=\"T_8344f_row9_col2\" class=\"data row9 col2\" >CA</td>\n",
       "      <td id=\"T_8344f_row9_col3\" class=\"data row9 col3\" >24</td>\n",
       "      <td id=\"T_8344f_row9_col4\" class=\"data row9 col4\" >78</td>\n",
       "      <td id=\"T_8344f_row9_col5\" class=\"data row9 col5\" >3.25</td>\n",
       "      <td id=\"T_8344f_row9_col6\" class=\"data row9 col6\" >3.500000</td>\n",
       "      <td id=\"T_8344f_row9_col7\" class=\"data row9 col7\" >25.00</td>\n",
       "      <td id=\"T_8344f_row9_col8\" class=\"data row9 col8\" >29.17</td>\n",
       "    </tr>\n",
       "    <tr>\n",
       "      <th id=\"T_8344f_level0_row10\" class=\"row_heading level0 row10\" >10</th>\n",
       "      <td id=\"T_8344f_row10_col0\" class=\"data row10 col0\" >Moo Dang</td>\n",
       "      <td id=\"T_8344f_row10_col1\" class=\"data row10 col1\" >Reno</td>\n",
       "      <td id=\"T_8344f_row10_col2\" class=\"data row10 col2\" >NV</td>\n",
       "      <td id=\"T_8344f_row10_col3\" class=\"data row10 col3\" >648</td>\n",
       "      <td id=\"T_8344f_row10_col4\" class=\"data row10 col4\" >2763</td>\n",
       "      <td id=\"T_8344f_row10_col5\" class=\"data row10 col5\" >4.26</td>\n",
       "      <td id=\"T_8344f_row10_col6\" class=\"data row10 col6\" >4.000000</td>\n",
       "      <td id=\"T_8344f_row10_col7\" class=\"data row10 col7\" >58.80</td>\n",
       "      <td id=\"T_8344f_row10_col8\" class=\"data row10 col8\" >4.17</td>\n",
       "    </tr>\n",
       "    <tr>\n",
       "      <th id=\"T_8344f_level0_row11\" class=\"row_heading level0 row11\" >11</th>\n",
       "      <td id=\"T_8344f_row11_col0\" class=\"data row11 col0\" >Holiday Inn Express & Suites Oro Valley-Tucson North</td>\n",
       "      <td id=\"T_8344f_row11_col1\" class=\"data row11 col1\" >Oro Valley</td>\n",
       "      <td id=\"T_8344f_row11_col2\" class=\"data row11 col2\" >AZ</td>\n",
       "      <td id=\"T_8344f_row11_col3\" class=\"data row11 col3\" >19</td>\n",
       "      <td id=\"T_8344f_row11_col4\" class=\"data row11 col4\" >69</td>\n",
       "      <td id=\"T_8344f_row11_col5\" class=\"data row11 col5\" >3.63</td>\n",
       "      <td id=\"T_8344f_row11_col6\" class=\"data row11 col6\" >3.500000</td>\n",
       "      <td id=\"T_8344f_row11_col7\" class=\"data row11 col7\" >36.84</td>\n",
       "      <td id=\"T_8344f_row11_col8\" class=\"data row11 col8\" >10.53</td>\n",
       "    </tr>\n",
       "    <tr>\n",
       "      <th id=\"T_8344f_level0_row12\" class=\"row_heading level0 row12\" >12</th>\n",
       "      <td id=\"T_8344f_row12_col0\" class=\"data row12 col0\" >Dunkin'</td>\n",
       "      <td id=\"T_8344f_row12_col1\" class=\"data row12 col1\" >Blue Bell</td>\n",
       "      <td id=\"T_8344f_row12_col2\" class=\"data row12 col2\" >PA</td>\n",
       "      <td id=\"T_8344f_row12_col3\" class=\"data row12 col3\" >9</td>\n",
       "      <td id=\"T_8344f_row12_col4\" class=\"data row12 col4\" >16</td>\n",
       "      <td id=\"T_8344f_row12_col5\" class=\"data row12 col5\" >1.78</td>\n",
       "      <td id=\"T_8344f_row12_col6\" class=\"data row12 col6\" >1.500000</td>\n",
       "      <td id=\"T_8344f_row12_col7\" class=\"data row12 col7\" >0.00</td>\n",
       "      <td id=\"T_8344f_row12_col8\" class=\"data row12 col8\" >55.56</td>\n",
       "    </tr>\n",
       "    <tr>\n",
       "      <th id=\"T_8344f_level0_row13\" class=\"row_heading level0 row13\" >13</th>\n",
       "      <td id=\"T_8344f_row13_col0\" class=\"data row13 col0\" >Panera Bread</td>\n",
       "      <td id=\"T_8344f_row13_col1\" class=\"data row13 col1\" >Mt Juliet</td>\n",
       "      <td id=\"T_8344f_row13_col2\" class=\"data row13 col2\" >TN</td>\n",
       "      <td id=\"T_8344f_row13_col3\" class=\"data row13 col3\" >57</td>\n",
       "      <td id=\"T_8344f_row13_col4\" class=\"data row13 col4\" >138</td>\n",
       "      <td id=\"T_8344f_row13_col5\" class=\"data row13 col5\" >2.42</td>\n",
       "      <td id=\"T_8344f_row13_col6\" class=\"data row13 col6\" >2.500000</td>\n",
       "      <td id=\"T_8344f_row13_col7\" class=\"data row13 col7\" >8.77</td>\n",
       "      <td id=\"T_8344f_row13_col8\" class=\"data row13 col8\" >35.09</td>\n",
       "    </tr>\n",
       "    <tr>\n",
       "      <th id=\"T_8344f_level0_row14\" class=\"row_heading level0 row14\" >14</th>\n",
       "      <td id=\"T_8344f_row14_col0\" class=\"data row14 col0\" >Grand Traverse Pie Co</td>\n",
       "      <td id=\"T_8344f_row14_col1\" class=\"data row14 col1\" >Indianapolis</td>\n",
       "      <td id=\"T_8344f_row14_col2\" class=\"data row14 col2\" >IN</td>\n",
       "      <td id=\"T_8344f_row14_col3\" class=\"data row14 col3\" >5</td>\n",
       "      <td id=\"T_8344f_row14_col4\" class=\"data row14 col4\" >19</td>\n",
       "      <td id=\"T_8344f_row14_col5\" class=\"data row14 col5\" >3.80</td>\n",
       "      <td id=\"T_8344f_row14_col6\" class=\"data row14 col6\" >4.000000</td>\n",
       "      <td id=\"T_8344f_row14_col7\" class=\"data row14 col7\" >0.00</td>\n",
       "      <td id=\"T_8344f_row14_col8\" class=\"data row14 col8\" >0.00</td>\n",
       "    </tr>\n",
       "    <tr>\n",
       "      <th id=\"T_8344f_level0_row15\" class=\"row_heading level0 row15\" >15</th>\n",
       "      <td id=\"T_8344f_row15_col0\" class=\"data row15 col0\" >Four Seasons Campground</td>\n",
       "      <td id=\"T_8344f_row15_col1\" class=\"data row15 col1\" >Pilesgrove</td>\n",
       "      <td id=\"T_8344f_row15_col2\" class=\"data row15 col2\" >NJ</td>\n",
       "      <td id=\"T_8344f_row15_col3\" class=\"data row15 col3\" >17</td>\n",
       "      <td id=\"T_8344f_row15_col4\" class=\"data row15 col4\" >57</td>\n",
       "      <td id=\"T_8344f_row15_col5\" class=\"data row15 col5\" >3.35</td>\n",
       "      <td id=\"T_8344f_row15_col6\" class=\"data row15 col6\" >3.500000</td>\n",
       "      <td id=\"T_8344f_row15_col7\" class=\"data row15 col7\" >47.06</td>\n",
       "      <td id=\"T_8344f_row15_col8\" class=\"data row15 col8\" >17.65</td>\n",
       "    </tr>\n",
       "    <tr>\n",
       "      <th id=\"T_8344f_level0_row16\" class=\"row_heading level0 row16\" >16</th>\n",
       "      <td id=\"T_8344f_row16_col0\" class=\"data row16 col0\" >Randall Hedrick, DDS - St Petersburg Endodontics</td>\n",
       "      <td id=\"T_8344f_row16_col1\" class=\"data row16 col1\" >Saint Petersburg</td>\n",
       "      <td id=\"T_8344f_row16_col2\" class=\"data row16 col2\" >FL</td>\n",
       "      <td id=\"T_8344f_row16_col3\" class=\"data row16 col3\" >5</td>\n",
       "      <td id=\"T_8344f_row16_col4\" class=\"data row16 col4\" >25</td>\n",
       "      <td id=\"T_8344f_row16_col5\" class=\"data row16 col5\" >5.00</td>\n",
       "      <td id=\"T_8344f_row16_col6\" class=\"data row16 col6\" >5.000000</td>\n",
       "      <td id=\"T_8344f_row16_col7\" class=\"data row16 col7\" >100.00</td>\n",
       "      <td id=\"T_8344f_row16_col8\" class=\"data row16 col8\" >0.00</td>\n",
       "    </tr>\n",
       "    <tr>\n",
       "      <th id=\"T_8344f_level0_row17\" class=\"row_heading level0 row17\" >17</th>\n",
       "      <td id=\"T_8344f_row17_col0\" class=\"data row17 col0\" >Goodyear Auto Service</td>\n",
       "      <td id=\"T_8344f_row17_col1\" class=\"data row17 col1\" >Tarpon Springs</td>\n",
       "      <td id=\"T_8344f_row17_col2\" class=\"data row17 col2\" >FL</td>\n",
       "      <td id=\"T_8344f_row17_col3\" class=\"data row17 col3\" >15</td>\n",
       "      <td id=\"T_8344f_row17_col4\" class=\"data row17 col4\" >54</td>\n",
       "      <td id=\"T_8344f_row17_col5\" class=\"data row17 col5\" >3.60</td>\n",
       "      <td id=\"T_8344f_row17_col6\" class=\"data row17 col6\" >3.500000</td>\n",
       "      <td id=\"T_8344f_row17_col7\" class=\"data row17 col7\" >60.00</td>\n",
       "      <td id=\"T_8344f_row17_col8\" class=\"data row17 col8\" >33.33</td>\n",
       "    </tr>\n",
       "    <tr>\n",
       "      <th id=\"T_8344f_level0_row18\" class=\"row_heading level0 row18\" >18</th>\n",
       "      <td id=\"T_8344f_row18_col0\" class=\"data row18 col0\" >Pizza Hut</td>\n",
       "      <td id=\"T_8344f_row18_col1\" class=\"data row18 col1\" >Saint Charles</td>\n",
       "      <td id=\"T_8344f_row18_col2\" class=\"data row18 col2\" >MO</td>\n",
       "      <td id=\"T_8344f_row18_col3\" class=\"data row18 col3\" >14</td>\n",
       "      <td id=\"T_8344f_row18_col4\" class=\"data row18 col4\" >25</td>\n",
       "      <td id=\"T_8344f_row18_col5\" class=\"data row18 col5\" >1.79</td>\n",
       "      <td id=\"T_8344f_row18_col6\" class=\"data row18 col6\" >2.000000</td>\n",
       "      <td id=\"T_8344f_row18_col7\" class=\"data row18 col7\" >14.29</td>\n",
       "      <td id=\"T_8344f_row18_col8\" class=\"data row18 col8\" >78.57</td>\n",
       "    </tr>\n",
       "    <tr>\n",
       "      <th id=\"T_8344f_level0_row19\" class=\"row_heading level0 row19\" >19</th>\n",
       "      <td id=\"T_8344f_row19_col0\" class=\"data row19 col0\" >Tillys</td>\n",
       "      <td id=\"T_8344f_row19_col1\" class=\"data row19 col1\" >Reno</td>\n",
       "      <td id=\"T_8344f_row19_col2\" class=\"data row19 col2\" >NV</td>\n",
       "      <td id=\"T_8344f_row19_col3\" class=\"data row19 col3\" >12</td>\n",
       "      <td id=\"T_8344f_row19_col4\" class=\"data row19 col4\" >29</td>\n",
       "      <td id=\"T_8344f_row19_col5\" class=\"data row19 col5\" >2.42</td>\n",
       "      <td id=\"T_8344f_row19_col6\" class=\"data row19 col6\" >2.500000</td>\n",
       "      <td id=\"T_8344f_row19_col7\" class=\"data row19 col7\" >16.67</td>\n",
       "      <td id=\"T_8344f_row19_col8\" class=\"data row19 col8\" >41.67</td>\n",
       "    </tr>\n",
       "  </tbody>\n",
       "</table>\n"
      ],
      "text/plain": [
       "<pandas.io.formats.style.Styler at 0x229d60e6850>"
      ]
     },
     "metadata": {},
     "output_type": "display_data"
    }
   ],
   "source": [
    "# True star average for each business and percentage of five star and one star reviews to total reviews\n",
    "df = cur.execute('''\n",
    "                WITH cte AS (\n",
    "                    SELECT \n",
    "                        business_id, \n",
    "                        SUM(CASE WHEN stars=1 THEN 1 ELSE 0 END) AS one_star_reviews,\n",
    "                        SUM(CASE WHEN stars=2 THEN 1 ELSE 0 END) AS two_star_reviews,\n",
    "                        SUM(CASE WHEN stars=3 THEN 1 ELSE 0 END) AS three_star_reviews,\n",
    "                        SUM(CASE WHEN stars=4 THEN 1 ELSE 0 END) AS four_star_reviews,\n",
    "                        SUM(CASE WHEN stars=5 THEN 1 ELSE 0 END) AS five_star_reviews,\n",
    "                        COUNT(*) AS total_reviews,\n",
    "                        SUM(stars) AS total_stars,\n",
    "                        ROUND(AVG(stars), 2) AS true_avg_rating\n",
    "                    FROM yelp_reviews\n",
    "                    GROUP BY 1\n",
    "                 )\n",
    "\n",
    "                SELECT \n",
    "                    yb.name, yb.city, yb.state, total_reviews, total_stars,\n",
    "                    true_avg_rating,\n",
    "                    yb.stars AS rounded_avg_rating,\n",
    "                    ROUND(five_star_reviews / total_reviews * 100, 2) AS five_star_pct,\n",
    "                    ROUND(one_star_reviews / total_reviews * 100, 2) AS one_star_pct,\n",
    "                FROM cte\n",
    "                JOIN yelp_businesses yb\n",
    "                    ON cte.business_id = yb.business_id\n",
    "                LIMIT 20;\n",
    "                ''').fetch_pandas_all()\n",
    "\n",
    "styles = [{\n",
    "    'selector': 'caption', 'props': 'text-align: left;'\n",
    "}]\n",
    "\n",
    "display(df.style.set_caption('<span style=\"font-size: 20px;\">Table 13: \"True\" Average Star Rating & Percentage of 1 & 5 Star Reviews</span>').set_table_styles(styles))"
   ]
  },
  {
   "cell_type": "markdown",
   "id": "1174a670",
   "metadata": {},
   "source": [
    "## Time Series of Review Volume & Star Metrics"
   ]
  },
  {
   "cell_type": "markdown",
   "id": "98dba3b9",
   "metadata": {},
   "source": [
    "### Monthly Review Volume & Star Metrics"
   ]
  },
  {
   "cell_type": "code",
   "execution_count": 30,
   "id": "de95ab25",
   "metadata": {},
   "outputs": [
    {
     "data": {
      "text/html": [
       "<style type=\"text/css\">\n",
       "#T_fb927 caption {\n",
       "  text-align: left;\n",
       "}\n",
       "</style>\n",
       "<table id=\"T_fb927\">\n",
       "  <caption><span style=\"font-size: 20px;\">Table 14: Monthly Review Volume & Star Metrics</span></caption>\n",
       "  <thead>\n",
       "    <tr>\n",
       "      <th class=\"blank level0\" >&nbsp;</th>\n",
       "      <th id=\"T_fb927_level0_col0\" class=\"col_heading level0 col0\" >MONTH</th>\n",
       "      <th id=\"T_fb927_level0_col1\" class=\"col_heading level0 col1\" >ONE_STAR_REVIEWS</th>\n",
       "      <th id=\"T_fb927_level0_col2\" class=\"col_heading level0 col2\" >TWO_STAR_REVIEWS</th>\n",
       "      <th id=\"T_fb927_level0_col3\" class=\"col_heading level0 col3\" >THREE_STAR_REVIEWS</th>\n",
       "      <th id=\"T_fb927_level0_col4\" class=\"col_heading level0 col4\" >FOUR_STAR_REVIEWS</th>\n",
       "      <th id=\"T_fb927_level0_col5\" class=\"col_heading level0 col5\" >FIVE_STAR_REVIEWS</th>\n",
       "      <th id=\"T_fb927_level0_col6\" class=\"col_heading level0 col6\" >TOTAL_REVIEWS</th>\n",
       "      <th id=\"T_fb927_level0_col7\" class=\"col_heading level0 col7\" >TOTAL_STARS</th>\n",
       "      <th id=\"T_fb927_level0_col8\" class=\"col_heading level0 col8\" >AVG_RATING</th>\n",
       "    </tr>\n",
       "  </thead>\n",
       "  <tbody>\n",
       "    <tr>\n",
       "      <th id=\"T_fb927_level0_row0\" class=\"row_heading level0 row0\" >0</th>\n",
       "      <td id=\"T_fb927_row0_col0\" class=\"data row0 col0\" >1</td>\n",
       "      <td id=\"T_fb927_row0_col1\" class=\"data row0 col1\" >86852</td>\n",
       "      <td id=\"T_fb927_row0_col2\" class=\"data row0 col2\" >46047</td>\n",
       "      <td id=\"T_fb927_row0_col3\" class=\"data row0 col3\" >61474</td>\n",
       "      <td id=\"T_fb927_row0_col4\" class=\"data row0 col4\" >131145</td>\n",
       "      <td id=\"T_fb927_row0_col5\" class=\"data row0 col5\" >279014</td>\n",
       "      <td id=\"T_fb927_row0_col6\" class=\"data row0 col6\" >604532</td>\n",
       "      <td id=\"T_fb927_row0_col7\" class=\"data row0 col7\" >2283018</td>\n",
       "      <td id=\"T_fb927_row0_col8\" class=\"data row0 col8\" >3.78</td>\n",
       "    </tr>\n",
       "    <tr>\n",
       "      <th id=\"T_fb927_level0_row1\" class=\"row_heading level0 row1\" >1</th>\n",
       "      <td id=\"T_fb927_row1_col0\" class=\"data row1 col0\" >2</td>\n",
       "      <td id=\"T_fb927_row1_col1\" class=\"data row1 col1\" >80051</td>\n",
       "      <td id=\"T_fb927_row1_col2\" class=\"data row1 col2\" >42503</td>\n",
       "      <td id=\"T_fb927_row1_col3\" class=\"data row1 col3\" >54620</td>\n",
       "      <td id=\"T_fb927_row1_col4\" class=\"data row1 col4\" >116561</td>\n",
       "      <td id=\"T_fb927_row1_col5\" class=\"data row1 col5\" >250390</td>\n",
       "      <td id=\"T_fb927_row1_col6\" class=\"data row1 col6\" >544125</td>\n",
       "      <td id=\"T_fb927_row1_col7\" class=\"data row1 col7\" >2047111</td>\n",
       "      <td id=\"T_fb927_row1_col8\" class=\"data row1 col8\" >3.76</td>\n",
       "    </tr>\n",
       "    <tr>\n",
       "      <th id=\"T_fb927_level0_row2\" class=\"row_heading level0 row2\" >2</th>\n",
       "      <td id=\"T_fb927_row2_col0\" class=\"data row2 col0\" >3</td>\n",
       "      <td id=\"T_fb927_row2_col1\" class=\"data row2 col1\" >87976</td>\n",
       "      <td id=\"T_fb927_row2_col2\" class=\"data row2 col2\" >46933</td>\n",
       "      <td id=\"T_fb927_row2_col3\" class=\"data row2 col3\" >60527</td>\n",
       "      <td id=\"T_fb927_row2_col4\" class=\"data row2 col4\" >127924</td>\n",
       "      <td id=\"T_fb927_row2_col5\" class=\"data row2 col5\" >275195</td>\n",
       "      <td id=\"T_fb927_row2_col6\" class=\"data row2 col6\" >598555</td>\n",
       "      <td id=\"T_fb927_row2_col7\" class=\"data row2 col7\" >2251094</td>\n",
       "      <td id=\"T_fb927_row2_col8\" class=\"data row2 col8\" >3.76</td>\n",
       "    </tr>\n",
       "    <tr>\n",
       "      <th id=\"T_fb927_level0_row3\" class=\"row_heading level0 row3\" >3</th>\n",
       "      <td id=\"T_fb927_row3_col0\" class=\"data row3 col0\" >4</td>\n",
       "      <td id=\"T_fb927_row3_col1\" class=\"data row3 col1\" >82676</td>\n",
       "      <td id=\"T_fb927_row3_col2\" class=\"data row3 col2\" >43029</td>\n",
       "      <td id=\"T_fb927_row3_col3\" class=\"data row3 col3\" >55083</td>\n",
       "      <td id=\"T_fb927_row3_col4\" class=\"data row3 col4\" >116372</td>\n",
       "      <td id=\"T_fb927_row3_col5\" class=\"data row3 col5\" >254311</td>\n",
       "      <td id=\"T_fb927_row3_col6\" class=\"data row3 col6\" >551471</td>\n",
       "      <td id=\"T_fb927_row3_col7\" class=\"data row3 col7\" >2071026</td>\n",
       "      <td id=\"T_fb927_row3_col8\" class=\"data row3 col8\" >3.76</td>\n",
       "    </tr>\n",
       "    <tr>\n",
       "      <th id=\"T_fb927_level0_row4\" class=\"row_heading level0 row4\" >4</th>\n",
       "      <td id=\"T_fb927_row4_col0\" class=\"data row4 col0\" >5</td>\n",
       "      <td id=\"T_fb927_row4_col1\" class=\"data row4 col1\" >91994</td>\n",
       "      <td id=\"T_fb927_row4_col2\" class=\"data row4 col2\" >46318</td>\n",
       "      <td id=\"T_fb927_row4_col3\" class=\"data row4 col3\" >58076</td>\n",
       "      <td id=\"T_fb927_row4_col4\" class=\"data row4 col4\" >120991</td>\n",
       "      <td id=\"T_fb927_row4_col5\" class=\"data row4 col5\" >269196</td>\n",
       "      <td id=\"T_fb927_row4_col6\" class=\"data row4 col6\" >586575</td>\n",
       "      <td id=\"T_fb927_row4_col7\" class=\"data row4 col7\" >2188802</td>\n",
       "      <td id=\"T_fb927_row4_col8\" class=\"data row4 col8\" >3.73</td>\n",
       "    </tr>\n",
       "    <tr>\n",
       "      <th id=\"T_fb927_level0_row5\" class=\"row_heading level0 row5\" >5</th>\n",
       "      <td id=\"T_fb927_row5_col0\" class=\"data row5 col0\" >6</td>\n",
       "      <td id=\"T_fb927_row5_col1\" class=\"data row5 col1\" >93282</td>\n",
       "      <td id=\"T_fb927_row5_col2\" class=\"data row5 col2\" >46701</td>\n",
       "      <td id=\"T_fb927_row5_col3\" class=\"data row5 col3\" >58791</td>\n",
       "      <td id=\"T_fb927_row5_col4\" class=\"data row5 col4\" >123158</td>\n",
       "      <td id=\"T_fb927_row5_col5\" class=\"data row5 col5\" >279805</td>\n",
       "      <td id=\"T_fb927_row5_col6\" class=\"data row5 col6\" >601737</td>\n",
       "      <td id=\"T_fb927_row5_col7\" class=\"data row5 col7\" >2254714</td>\n",
       "      <td id=\"T_fb927_row5_col8\" class=\"data row5 col8\" >3.75</td>\n",
       "    </tr>\n",
       "    <tr>\n",
       "      <th id=\"T_fb927_level0_row6\" class=\"row_heading level0 row6\" >6</th>\n",
       "      <td id=\"T_fb927_row6_col0\" class=\"data row6 col0\" >7</td>\n",
       "      <td id=\"T_fb927_row6_col1\" class=\"data row6 col1\" >100135</td>\n",
       "      <td id=\"T_fb927_row6_col2\" class=\"data row6 col2\" >51170</td>\n",
       "      <td id=\"T_fb927_row6_col3\" class=\"data row6 col3\" >64669</td>\n",
       "      <td id=\"T_fb927_row6_col4\" class=\"data row6 col4\" >135171</td>\n",
       "      <td id=\"T_fb927_row6_col5\" class=\"data row6 col5\" >303482</td>\n",
       "      <td id=\"T_fb927_row6_col6\" class=\"data row6 col6\" >654627</td>\n",
       "      <td id=\"T_fb927_row6_col7\" class=\"data row6 col7\" >2454576</td>\n",
       "      <td id=\"T_fb927_row6_col8\" class=\"data row6 col8\" >3.75</td>\n",
       "    </tr>\n",
       "    <tr>\n",
       "      <th id=\"T_fb927_level0_row7\" class=\"row_heading level0 row7\" >7</th>\n",
       "      <td id=\"T_fb927_row7_col0\" class=\"data row7 col0\" >8</td>\n",
       "      <td id=\"T_fb927_row7_col1\" class=\"data row7 col1\" >98608</td>\n",
       "      <td id=\"T_fb927_row7_col2\" class=\"data row7 col2\" >49976</td>\n",
       "      <td id=\"T_fb927_row7_col3\" class=\"data row7 col3\" >62289</td>\n",
       "      <td id=\"T_fb927_row7_col4\" class=\"data row7 col4\" >129710</td>\n",
       "      <td id=\"T_fb927_row7_col5\" class=\"data row7 col5\" >295801</td>\n",
       "      <td id=\"T_fb927_row7_col6\" class=\"data row7 col6\" >636384</td>\n",
       "      <td id=\"T_fb927_row7_col7\" class=\"data row7 col7\" >2383272</td>\n",
       "      <td id=\"T_fb927_row7_col8\" class=\"data row7 col8\" >3.75</td>\n",
       "    </tr>\n",
       "    <tr>\n",
       "      <th id=\"T_fb927_level0_row8\" class=\"row_heading level0 row8\" >8</th>\n",
       "      <td id=\"T_fb927_row8_col0\" class=\"data row8 col0\" >9</td>\n",
       "      <td id=\"T_fb927_row8_col1\" class=\"data row8 col1\" >89705</td>\n",
       "      <td id=\"T_fb927_row8_col2\" class=\"data row8 col2\" >44552</td>\n",
       "      <td id=\"T_fb927_row8_col3\" class=\"data row8 col3\" >55136</td>\n",
       "      <td id=\"T_fb927_row8_col4\" class=\"data row8 col4\" >114482</td>\n",
       "      <td id=\"T_fb927_row8_col5\" class=\"data row8 col5\" >261499</td>\n",
       "      <td id=\"T_fb927_row8_col6\" class=\"data row8 col6\" >565374</td>\n",
       "      <td id=\"T_fb927_row8_col7\" class=\"data row8 col7\" >2109640</td>\n",
       "      <td id=\"T_fb927_row8_col8\" class=\"data row8 col8\" >3.73</td>\n",
       "    </tr>\n",
       "    <tr>\n",
       "      <th id=\"T_fb927_level0_row9\" class=\"row_heading level0 row9\" >9</th>\n",
       "      <td id=\"T_fb927_row9_col0\" class=\"data row9 col0\" >10</td>\n",
       "      <td id=\"T_fb927_row9_col1\" class=\"data row9 col1\" >89243</td>\n",
       "      <td id=\"T_fb927_row9_col2\" class=\"data row9 col2\" >44267</td>\n",
       "      <td id=\"T_fb927_row9_col3\" class=\"data row9 col3\" >55856</td>\n",
       "      <td id=\"T_fb927_row9_col4\" class=\"data row9 col4\" >115923</td>\n",
       "      <td id=\"T_fb927_row9_col5\" class=\"data row9 col5\" >266520</td>\n",
       "      <td id=\"T_fb927_row9_col6\" class=\"data row9 col6\" >571809</td>\n",
       "      <td id=\"T_fb927_row9_col7\" class=\"data row9 col7\" >2141637</td>\n",
       "      <td id=\"T_fb927_row9_col8\" class=\"data row9 col8\" >3.75</td>\n",
       "    </tr>\n",
       "    <tr>\n",
       "      <th id=\"T_fb927_level0_row10\" class=\"row_heading level0 row10\" >10</th>\n",
       "      <td id=\"T_fb927_row10_col0\" class=\"data row10 col0\" >11</td>\n",
       "      <td id=\"T_fb927_row10_col1\" class=\"data row10 col1\" >81428</td>\n",
       "      <td id=\"T_fb927_row10_col2\" class=\"data row10 col2\" >40714</td>\n",
       "      <td id=\"T_fb927_row10_col3\" class=\"data row10 col3\" >52333</td>\n",
       "      <td id=\"T_fb927_row10_col4\" class=\"data row10 col4\" >110394</td>\n",
       "      <td id=\"T_fb927_row10_col5\" class=\"data row10 col5\" >246649</td>\n",
       "      <td id=\"T_fb927_row10_col6\" class=\"data row10 col6\" >531518</td>\n",
       "      <td id=\"T_fb927_row10_col7\" class=\"data row10 col7\" >1994676</td>\n",
       "      <td id=\"T_fb927_row10_col8\" class=\"data row10 col8\" >3.75</td>\n",
       "    </tr>\n",
       "    <tr>\n",
       "      <th id=\"T_fb927_level0_row11\" class=\"row_heading level0 row11\" >11</th>\n",
       "      <td id=\"T_fb927_row11_col0\" class=\"data row11 col0\" >12</td>\n",
       "      <td id=\"T_fb927_row11_col1\" class=\"data row11 col1\" >87611</td>\n",
       "      <td id=\"T_fb927_row11_col2\" class=\"data row11 col2\" >42030</td>\n",
       "      <td id=\"T_fb927_row11_col3\" class=\"data row11 col3\" >53080</td>\n",
       "      <td id=\"T_fb927_row11_col4\" class=\"data row11 col4\" >111087</td>\n",
       "      <td id=\"T_fb927_row11_col5\" class=\"data row11 col5\" >249765</td>\n",
       "      <td id=\"T_fb927_row11_col6\" class=\"data row11 col6\" >543573</td>\n",
       "      <td id=\"T_fb927_row11_col7\" class=\"data row11 col7\" >2024084</td>\n",
       "      <td id=\"T_fb927_row11_col8\" class=\"data row11 col8\" >3.72</td>\n",
       "    </tr>\n",
       "  </tbody>\n",
       "</table>\n"
      ],
      "text/plain": [
       "<pandas.io.formats.style.Styler at 0x229d60e6850>"
      ]
     },
     "metadata": {},
     "output_type": "display_data"
    },
    {
     "data": {
      "application/vnd.plotly.v1+json": {
       "config": {
        "plotlyServerURL": "https://plot.ly"
       },
       "data": [
        {
         "hovertemplate": "Star Rating=1 Star<br>Month=%{x}<br>Review Count=%{y}<extra></extra>",
         "legendgroup": "1 Star",
         "line": {
          "color": "#636efa",
          "dash": "solid"
         },
         "marker": {
          "symbol": "circle"
         },
         "mode": "lines",
         "name": "1 Star",
         "orientation": "v",
         "showlegend": true,
         "type": "scatter",
         "x": {
          "bdata": "AQIDBAUGBwgJCgsM",
          "dtype": "i1"
         },
         "xaxis": "x",
         "y": {
          "bdata": "RFMBALM4AQCoVwEA9EIBAFpnAQBibAEAJ4cBADCBAQBpXgEAm1wBABQ+AQA7VgEA",
          "dtype": "i4"
         },
         "yaxis": "y"
        },
        {
         "hovertemplate": "Star Rating=2 Star<br>Month=%{x}<br>Review Count=%{y}<extra></extra>",
         "legendgroup": "2 Star",
         "line": {
          "color": "#EF553B",
          "dash": "solid"
         },
         "marker": {
          "symbol": "circle"
         },
         "mode": "lines",
         "name": "2 Star",
         "orientation": "v",
         "showlegend": true,
         "type": "scatter",
         "x": {
          "bdata": "AQIDBAUGBwgJCgsM",
          "dtype": "i1"
         },
         "xaxis": "x",
         "y": {
          "bdata": "37MAAAemAABVtwAAFagAAO60AABttgAA4scAADjDAAAIrgAA66wAAAqfAAAupAAA",
          "dtype": "i4"
         },
         "yaxis": "y"
        },
        {
         "hovertemplate": "Star Rating=3 Star<br>Month=%{x}<br>Review Count=%{y}<extra></extra>",
         "legendgroup": "3 Star",
         "line": {
          "color": "#00cc96",
          "dash": "solid"
         },
         "marker": {
          "symbol": "circle"
         },
         "mode": "lines",
         "name": "3 Star",
         "orientation": "v",
         "showlegend": true,
         "type": "scatter",
         "x": {
          "bdata": "AQIDBAUGBwgJCgsM",
          "dtype": "i1"
         },
         "xaxis": "x",
         "y": {
          "bdata": "IvAAAFzVAABv7AAAK9cAANziAACn5QAAnfwAAFHzAABg1wAAMNoAAG3MAABYzwAA",
          "dtype": "i4"
         },
         "yaxis": "y"
        },
        {
         "hovertemplate": "Star Rating=4 Star<br>Month=%{x}<br>Review Count=%{y}<extra></extra>",
         "legendgroup": "4 Star",
         "line": {
          "color": "#ab63fa",
          "dash": "solid"
         },
         "marker": {
          "symbol": "circle"
         },
         "mode": "lines",
         "name": "4 Star",
         "orientation": "v",
         "showlegend": true,
         "type": "scatter",
         "x": {
          "bdata": "AQIDBAUGBwgJCgsM",
          "dtype": "i1"
         },
         "xaxis": "x",
         "y": {
          "bdata": "SQACAFHHAQC08wEAlMYBAJ/YAQAW4QEAAxACAK76AQAyvwEA08QBADqvAQDvsQEA",
          "dtype": "i4"
         },
         "yaxis": "y"
        },
        {
         "hovertemplate": "Star Rating=5 Star<br>Month=%{x}<br>Review Count=%{y}<extra></extra>",
         "legendgroup": "5 Star",
         "line": {
          "color": "#FFA15A",
          "dash": "solid"
         },
         "marker": {
          "symbol": "circle"
         },
         "mode": "lines",
         "name": "5 Star",
         "orientation": "v",
         "showlegend": true,
         "type": "scatter",
         "x": {
          "bdata": "AQIDBAUGBwgJCgsM",
          "dtype": "i1"
         },
         "xaxis": "x",
         "y": {
          "bdata": "5kEEABbSAwD7MgQAZ+EDAIwbBAD9RAQAeqEEAHmDBAB7/QMAGBEEAHnDAwClzwMA",
          "dtype": "i4"
         },
         "yaxis": "y"
        }
       ],
       "layout": {
        "legend": {
         "title": {
          "text": "Star Rating"
         },
         "tracegroupgap": 0
        },
        "template": {
         "data": {
          "bar": [
           {
            "error_x": {
             "color": "#2a3f5f"
            },
            "error_y": {
             "color": "#2a3f5f"
            },
            "marker": {
             "line": {
              "color": "#E5ECF6",
              "width": 0.5
             },
             "pattern": {
              "fillmode": "overlay",
              "size": 10,
              "solidity": 0.2
             }
            },
            "type": "bar"
           }
          ],
          "barpolar": [
           {
            "marker": {
             "line": {
              "color": "#E5ECF6",
              "width": 0.5
             },
             "pattern": {
              "fillmode": "overlay",
              "size": 10,
              "solidity": 0.2
             }
            },
            "type": "barpolar"
           }
          ],
          "carpet": [
           {
            "aaxis": {
             "endlinecolor": "#2a3f5f",
             "gridcolor": "white",
             "linecolor": "white",
             "minorgridcolor": "white",
             "startlinecolor": "#2a3f5f"
            },
            "baxis": {
             "endlinecolor": "#2a3f5f",
             "gridcolor": "white",
             "linecolor": "white",
             "minorgridcolor": "white",
             "startlinecolor": "#2a3f5f"
            },
            "type": "carpet"
           }
          ],
          "choropleth": [
           {
            "colorbar": {
             "outlinewidth": 0,
             "ticks": ""
            },
            "type": "choropleth"
           }
          ],
          "contour": [
           {
            "colorbar": {
             "outlinewidth": 0,
             "ticks": ""
            },
            "colorscale": [
             [
              0,
              "#0d0887"
             ],
             [
              0.1111111111111111,
              "#46039f"
             ],
             [
              0.2222222222222222,
              "#7201a8"
             ],
             [
              0.3333333333333333,
              "#9c179e"
             ],
             [
              0.4444444444444444,
              "#bd3786"
             ],
             [
              0.5555555555555556,
              "#d8576b"
             ],
             [
              0.6666666666666666,
              "#ed7953"
             ],
             [
              0.7777777777777778,
              "#fb9f3a"
             ],
             [
              0.8888888888888888,
              "#fdca26"
             ],
             [
              1,
              "#f0f921"
             ]
            ],
            "type": "contour"
           }
          ],
          "contourcarpet": [
           {
            "colorbar": {
             "outlinewidth": 0,
             "ticks": ""
            },
            "type": "contourcarpet"
           }
          ],
          "heatmap": [
           {
            "colorbar": {
             "outlinewidth": 0,
             "ticks": ""
            },
            "colorscale": [
             [
              0,
              "#0d0887"
             ],
             [
              0.1111111111111111,
              "#46039f"
             ],
             [
              0.2222222222222222,
              "#7201a8"
             ],
             [
              0.3333333333333333,
              "#9c179e"
             ],
             [
              0.4444444444444444,
              "#bd3786"
             ],
             [
              0.5555555555555556,
              "#d8576b"
             ],
             [
              0.6666666666666666,
              "#ed7953"
             ],
             [
              0.7777777777777778,
              "#fb9f3a"
             ],
             [
              0.8888888888888888,
              "#fdca26"
             ],
             [
              1,
              "#f0f921"
             ]
            ],
            "type": "heatmap"
           }
          ],
          "histogram": [
           {
            "marker": {
             "pattern": {
              "fillmode": "overlay",
              "size": 10,
              "solidity": 0.2
             }
            },
            "type": "histogram"
           }
          ],
          "histogram2d": [
           {
            "colorbar": {
             "outlinewidth": 0,
             "ticks": ""
            },
            "colorscale": [
             [
              0,
              "#0d0887"
             ],
             [
              0.1111111111111111,
              "#46039f"
             ],
             [
              0.2222222222222222,
              "#7201a8"
             ],
             [
              0.3333333333333333,
              "#9c179e"
             ],
             [
              0.4444444444444444,
              "#bd3786"
             ],
             [
              0.5555555555555556,
              "#d8576b"
             ],
             [
              0.6666666666666666,
              "#ed7953"
             ],
             [
              0.7777777777777778,
              "#fb9f3a"
             ],
             [
              0.8888888888888888,
              "#fdca26"
             ],
             [
              1,
              "#f0f921"
             ]
            ],
            "type": "histogram2d"
           }
          ],
          "histogram2dcontour": [
           {
            "colorbar": {
             "outlinewidth": 0,
             "ticks": ""
            },
            "colorscale": [
             [
              0,
              "#0d0887"
             ],
             [
              0.1111111111111111,
              "#46039f"
             ],
             [
              0.2222222222222222,
              "#7201a8"
             ],
             [
              0.3333333333333333,
              "#9c179e"
             ],
             [
              0.4444444444444444,
              "#bd3786"
             ],
             [
              0.5555555555555556,
              "#d8576b"
             ],
             [
              0.6666666666666666,
              "#ed7953"
             ],
             [
              0.7777777777777778,
              "#fb9f3a"
             ],
             [
              0.8888888888888888,
              "#fdca26"
             ],
             [
              1,
              "#f0f921"
             ]
            ],
            "type": "histogram2dcontour"
           }
          ],
          "mesh3d": [
           {
            "colorbar": {
             "outlinewidth": 0,
             "ticks": ""
            },
            "type": "mesh3d"
           }
          ],
          "parcoords": [
           {
            "line": {
             "colorbar": {
              "outlinewidth": 0,
              "ticks": ""
             }
            },
            "type": "parcoords"
           }
          ],
          "pie": [
           {
            "automargin": true,
            "type": "pie"
           }
          ],
          "scatter": [
           {
            "fillpattern": {
             "fillmode": "overlay",
             "size": 10,
             "solidity": 0.2
            },
            "type": "scatter"
           }
          ],
          "scatter3d": [
           {
            "line": {
             "colorbar": {
              "outlinewidth": 0,
              "ticks": ""
             }
            },
            "marker": {
             "colorbar": {
              "outlinewidth": 0,
              "ticks": ""
             }
            },
            "type": "scatter3d"
           }
          ],
          "scattercarpet": [
           {
            "marker": {
             "colorbar": {
              "outlinewidth": 0,
              "ticks": ""
             }
            },
            "type": "scattercarpet"
           }
          ],
          "scattergeo": [
           {
            "marker": {
             "colorbar": {
              "outlinewidth": 0,
              "ticks": ""
             }
            },
            "type": "scattergeo"
           }
          ],
          "scattergl": [
           {
            "marker": {
             "colorbar": {
              "outlinewidth": 0,
              "ticks": ""
             }
            },
            "type": "scattergl"
           }
          ],
          "scattermap": [
           {
            "marker": {
             "colorbar": {
              "outlinewidth": 0,
              "ticks": ""
             }
            },
            "type": "scattermap"
           }
          ],
          "scattermapbox": [
           {
            "marker": {
             "colorbar": {
              "outlinewidth": 0,
              "ticks": ""
             }
            },
            "type": "scattermapbox"
           }
          ],
          "scatterpolar": [
           {
            "marker": {
             "colorbar": {
              "outlinewidth": 0,
              "ticks": ""
             }
            },
            "type": "scatterpolar"
           }
          ],
          "scatterpolargl": [
           {
            "marker": {
             "colorbar": {
              "outlinewidth": 0,
              "ticks": ""
             }
            },
            "type": "scatterpolargl"
           }
          ],
          "scatterternary": [
           {
            "marker": {
             "colorbar": {
              "outlinewidth": 0,
              "ticks": ""
             }
            },
            "type": "scatterternary"
           }
          ],
          "surface": [
           {
            "colorbar": {
             "outlinewidth": 0,
             "ticks": ""
            },
            "colorscale": [
             [
              0,
              "#0d0887"
             ],
             [
              0.1111111111111111,
              "#46039f"
             ],
             [
              0.2222222222222222,
              "#7201a8"
             ],
             [
              0.3333333333333333,
              "#9c179e"
             ],
             [
              0.4444444444444444,
              "#bd3786"
             ],
             [
              0.5555555555555556,
              "#d8576b"
             ],
             [
              0.6666666666666666,
              "#ed7953"
             ],
             [
              0.7777777777777778,
              "#fb9f3a"
             ],
             [
              0.8888888888888888,
              "#fdca26"
             ],
             [
              1,
              "#f0f921"
             ]
            ],
            "type": "surface"
           }
          ],
          "table": [
           {
            "cells": {
             "fill": {
              "color": "#EBF0F8"
             },
             "line": {
              "color": "white"
             }
            },
            "header": {
             "fill": {
              "color": "#C8D4E3"
             },
             "line": {
              "color": "white"
             }
            },
            "type": "table"
           }
          ]
         },
         "layout": {
          "annotationdefaults": {
           "arrowcolor": "#2a3f5f",
           "arrowhead": 0,
           "arrowwidth": 1
          },
          "autotypenumbers": "strict",
          "coloraxis": {
           "colorbar": {
            "outlinewidth": 0,
            "ticks": ""
           }
          },
          "colorscale": {
           "diverging": [
            [
             0,
             "#8e0152"
            ],
            [
             0.1,
             "#c51b7d"
            ],
            [
             0.2,
             "#de77ae"
            ],
            [
             0.3,
             "#f1b6da"
            ],
            [
             0.4,
             "#fde0ef"
            ],
            [
             0.5,
             "#f7f7f7"
            ],
            [
             0.6,
             "#e6f5d0"
            ],
            [
             0.7,
             "#b8e186"
            ],
            [
             0.8,
             "#7fbc41"
            ],
            [
             0.9,
             "#4d9221"
            ],
            [
             1,
             "#276419"
            ]
           ],
           "sequential": [
            [
             0,
             "#0d0887"
            ],
            [
             0.1111111111111111,
             "#46039f"
            ],
            [
             0.2222222222222222,
             "#7201a8"
            ],
            [
             0.3333333333333333,
             "#9c179e"
            ],
            [
             0.4444444444444444,
             "#bd3786"
            ],
            [
             0.5555555555555556,
             "#d8576b"
            ],
            [
             0.6666666666666666,
             "#ed7953"
            ],
            [
             0.7777777777777778,
             "#fb9f3a"
            ],
            [
             0.8888888888888888,
             "#fdca26"
            ],
            [
             1,
             "#f0f921"
            ]
           ],
           "sequentialminus": [
            [
             0,
             "#0d0887"
            ],
            [
             0.1111111111111111,
             "#46039f"
            ],
            [
             0.2222222222222222,
             "#7201a8"
            ],
            [
             0.3333333333333333,
             "#9c179e"
            ],
            [
             0.4444444444444444,
             "#bd3786"
            ],
            [
             0.5555555555555556,
             "#d8576b"
            ],
            [
             0.6666666666666666,
             "#ed7953"
            ],
            [
             0.7777777777777778,
             "#fb9f3a"
            ],
            [
             0.8888888888888888,
             "#fdca26"
            ],
            [
             1,
             "#f0f921"
            ]
           ]
          },
          "colorway": [
           "#636efa",
           "#EF553B",
           "#00cc96",
           "#ab63fa",
           "#FFA15A",
           "#19d3f3",
           "#FF6692",
           "#B6E880",
           "#FF97FF",
           "#FECB52"
          ],
          "font": {
           "color": "#2a3f5f"
          },
          "geo": {
           "bgcolor": "white",
           "lakecolor": "white",
           "landcolor": "#E5ECF6",
           "showlakes": true,
           "showland": true,
           "subunitcolor": "white"
          },
          "hoverlabel": {
           "align": "left"
          },
          "hovermode": "closest",
          "mapbox": {
           "style": "light"
          },
          "paper_bgcolor": "white",
          "plot_bgcolor": "#E5ECF6",
          "polar": {
           "angularaxis": {
            "gridcolor": "white",
            "linecolor": "white",
            "ticks": ""
           },
           "bgcolor": "#E5ECF6",
           "radialaxis": {
            "gridcolor": "white",
            "linecolor": "white",
            "ticks": ""
           }
          },
          "scene": {
           "xaxis": {
            "backgroundcolor": "#E5ECF6",
            "gridcolor": "white",
            "gridwidth": 2,
            "linecolor": "white",
            "showbackground": true,
            "ticks": "",
            "zerolinecolor": "white"
           },
           "yaxis": {
            "backgroundcolor": "#E5ECF6",
            "gridcolor": "white",
            "gridwidth": 2,
            "linecolor": "white",
            "showbackground": true,
            "ticks": "",
            "zerolinecolor": "white"
           },
           "zaxis": {
            "backgroundcolor": "#E5ECF6",
            "gridcolor": "white",
            "gridwidth": 2,
            "linecolor": "white",
            "showbackground": true,
            "ticks": "",
            "zerolinecolor": "white"
           }
          },
          "shapedefaults": {
           "line": {
            "color": "#2a3f5f"
           }
          },
          "ternary": {
           "aaxis": {
            "gridcolor": "white",
            "linecolor": "white",
            "ticks": ""
           },
           "baxis": {
            "gridcolor": "white",
            "linecolor": "white",
            "ticks": ""
           },
           "bgcolor": "#E5ECF6",
           "caxis": {
            "gridcolor": "white",
            "linecolor": "white",
            "ticks": ""
           }
          },
          "title": {
           "x": 0.05
          },
          "xaxis": {
           "automargin": true,
           "gridcolor": "white",
           "linecolor": "white",
           "ticks": "",
           "title": {
            "standoff": 15
           },
           "zerolinecolor": "white",
           "zerolinewidth": 2
          },
          "yaxis": {
           "automargin": true,
           "gridcolor": "white",
           "linecolor": "white",
           "ticks": "",
           "title": {
            "standoff": 15
           },
           "zerolinecolor": "white",
           "zerolinewidth": 2
          }
         }
        },
        "title": {
         "text": "Figure 1: Monthly Yelp Review Star Ratings Trends"
        },
        "xaxis": {
         "anchor": "y",
         "domain": [
          0,
          1
         ],
         "title": {
          "text": "Month"
         }
        },
        "yaxis": {
         "anchor": "x",
         "domain": [
          0,
          1
         ],
         "title": {
          "text": "Review Count"
         }
        }
       }
      }
     },
     "metadata": {},
     "output_type": "display_data"
    },
    {
     "data": {
      "application/vnd.plotly.v1+json": {
       "config": {
        "plotlyServerURL": "https://plot.ly"
       },
       "data": [
        {
         "hovertemplate": "Month=%{x}<br>Review Count=%{marker.color}<extra></extra>",
         "legendgroup": "",
         "marker": {
          "color": {
           "bdata": "dDkJAH1NCAAbIgkAL2oIAE/zCACJLgkAI/0JAOC1CQB+oAgAobkIAD4cCABVSwgA",
           "dtype": "i4"
          },
          "coloraxis": "coloraxis",
          "pattern": {
           "shape": ""
          }
         },
         "name": "",
         "orientation": "v",
         "showlegend": false,
         "textposition": "auto",
         "type": "bar",
         "x": {
          "bdata": "AQIDBAUGBwgJCgsM",
          "dtype": "i1"
         },
         "xaxis": "x",
         "y": {
          "bdata": "dDkJAH1NCAAbIgkAL2oIAE/zCACJLgkAI/0JAOC1CQB+oAgAobkIAD4cCABVSwgA",
          "dtype": "i4"
         },
         "yaxis": "y"
        }
       ],
       "layout": {
        "barmode": "relative",
        "coloraxis": {
         "colorbar": {
          "title": {
           "text": "Review Count"
          }
         },
         "colorscale": [
          [
           0,
           "#0d0887"
          ],
          [
           0.1111111111111111,
           "#46039f"
          ],
          [
           0.2222222222222222,
           "#7201a8"
          ],
          [
           0.3333333333333333,
           "#9c179e"
          ],
          [
           0.4444444444444444,
           "#bd3786"
          ],
          [
           0.5555555555555556,
           "#d8576b"
          ],
          [
           0.6666666666666666,
           "#ed7953"
          ],
          [
           0.7777777777777778,
           "#fb9f3a"
          ],
          [
           0.8888888888888888,
           "#fdca26"
          ],
          [
           1,
           "#f0f921"
          ]
         ]
        },
        "legend": {
         "tracegroupgap": 0
        },
        "template": {
         "data": {
          "bar": [
           {
            "error_x": {
             "color": "#2a3f5f"
            },
            "error_y": {
             "color": "#2a3f5f"
            },
            "marker": {
             "line": {
              "color": "#E5ECF6",
              "width": 0.5
             },
             "pattern": {
              "fillmode": "overlay",
              "size": 10,
              "solidity": 0.2
             }
            },
            "type": "bar"
           }
          ],
          "barpolar": [
           {
            "marker": {
             "line": {
              "color": "#E5ECF6",
              "width": 0.5
             },
             "pattern": {
              "fillmode": "overlay",
              "size": 10,
              "solidity": 0.2
             }
            },
            "type": "barpolar"
           }
          ],
          "carpet": [
           {
            "aaxis": {
             "endlinecolor": "#2a3f5f",
             "gridcolor": "white",
             "linecolor": "white",
             "minorgridcolor": "white",
             "startlinecolor": "#2a3f5f"
            },
            "baxis": {
             "endlinecolor": "#2a3f5f",
             "gridcolor": "white",
             "linecolor": "white",
             "minorgridcolor": "white",
             "startlinecolor": "#2a3f5f"
            },
            "type": "carpet"
           }
          ],
          "choropleth": [
           {
            "colorbar": {
             "outlinewidth": 0,
             "ticks": ""
            },
            "type": "choropleth"
           }
          ],
          "contour": [
           {
            "colorbar": {
             "outlinewidth": 0,
             "ticks": ""
            },
            "colorscale": [
             [
              0,
              "#0d0887"
             ],
             [
              0.1111111111111111,
              "#46039f"
             ],
             [
              0.2222222222222222,
              "#7201a8"
             ],
             [
              0.3333333333333333,
              "#9c179e"
             ],
             [
              0.4444444444444444,
              "#bd3786"
             ],
             [
              0.5555555555555556,
              "#d8576b"
             ],
             [
              0.6666666666666666,
              "#ed7953"
             ],
             [
              0.7777777777777778,
              "#fb9f3a"
             ],
             [
              0.8888888888888888,
              "#fdca26"
             ],
             [
              1,
              "#f0f921"
             ]
            ],
            "type": "contour"
           }
          ],
          "contourcarpet": [
           {
            "colorbar": {
             "outlinewidth": 0,
             "ticks": ""
            },
            "type": "contourcarpet"
           }
          ],
          "heatmap": [
           {
            "colorbar": {
             "outlinewidth": 0,
             "ticks": ""
            },
            "colorscale": [
             [
              0,
              "#0d0887"
             ],
             [
              0.1111111111111111,
              "#46039f"
             ],
             [
              0.2222222222222222,
              "#7201a8"
             ],
             [
              0.3333333333333333,
              "#9c179e"
             ],
             [
              0.4444444444444444,
              "#bd3786"
             ],
             [
              0.5555555555555556,
              "#d8576b"
             ],
             [
              0.6666666666666666,
              "#ed7953"
             ],
             [
              0.7777777777777778,
              "#fb9f3a"
             ],
             [
              0.8888888888888888,
              "#fdca26"
             ],
             [
              1,
              "#f0f921"
             ]
            ],
            "type": "heatmap"
           }
          ],
          "histogram": [
           {
            "marker": {
             "pattern": {
              "fillmode": "overlay",
              "size": 10,
              "solidity": 0.2
             }
            },
            "type": "histogram"
           }
          ],
          "histogram2d": [
           {
            "colorbar": {
             "outlinewidth": 0,
             "ticks": ""
            },
            "colorscale": [
             [
              0,
              "#0d0887"
             ],
             [
              0.1111111111111111,
              "#46039f"
             ],
             [
              0.2222222222222222,
              "#7201a8"
             ],
             [
              0.3333333333333333,
              "#9c179e"
             ],
             [
              0.4444444444444444,
              "#bd3786"
             ],
             [
              0.5555555555555556,
              "#d8576b"
             ],
             [
              0.6666666666666666,
              "#ed7953"
             ],
             [
              0.7777777777777778,
              "#fb9f3a"
             ],
             [
              0.8888888888888888,
              "#fdca26"
             ],
             [
              1,
              "#f0f921"
             ]
            ],
            "type": "histogram2d"
           }
          ],
          "histogram2dcontour": [
           {
            "colorbar": {
             "outlinewidth": 0,
             "ticks": ""
            },
            "colorscale": [
             [
              0,
              "#0d0887"
             ],
             [
              0.1111111111111111,
              "#46039f"
             ],
             [
              0.2222222222222222,
              "#7201a8"
             ],
             [
              0.3333333333333333,
              "#9c179e"
             ],
             [
              0.4444444444444444,
              "#bd3786"
             ],
             [
              0.5555555555555556,
              "#d8576b"
             ],
             [
              0.6666666666666666,
              "#ed7953"
             ],
             [
              0.7777777777777778,
              "#fb9f3a"
             ],
             [
              0.8888888888888888,
              "#fdca26"
             ],
             [
              1,
              "#f0f921"
             ]
            ],
            "type": "histogram2dcontour"
           }
          ],
          "mesh3d": [
           {
            "colorbar": {
             "outlinewidth": 0,
             "ticks": ""
            },
            "type": "mesh3d"
           }
          ],
          "parcoords": [
           {
            "line": {
             "colorbar": {
              "outlinewidth": 0,
              "ticks": ""
             }
            },
            "type": "parcoords"
           }
          ],
          "pie": [
           {
            "automargin": true,
            "type": "pie"
           }
          ],
          "scatter": [
           {
            "fillpattern": {
             "fillmode": "overlay",
             "size": 10,
             "solidity": 0.2
            },
            "type": "scatter"
           }
          ],
          "scatter3d": [
           {
            "line": {
             "colorbar": {
              "outlinewidth": 0,
              "ticks": ""
             }
            },
            "marker": {
             "colorbar": {
              "outlinewidth": 0,
              "ticks": ""
             }
            },
            "type": "scatter3d"
           }
          ],
          "scattercarpet": [
           {
            "marker": {
             "colorbar": {
              "outlinewidth": 0,
              "ticks": ""
             }
            },
            "type": "scattercarpet"
           }
          ],
          "scattergeo": [
           {
            "marker": {
             "colorbar": {
              "outlinewidth": 0,
              "ticks": ""
             }
            },
            "type": "scattergeo"
           }
          ],
          "scattergl": [
           {
            "marker": {
             "colorbar": {
              "outlinewidth": 0,
              "ticks": ""
             }
            },
            "type": "scattergl"
           }
          ],
          "scattermap": [
           {
            "marker": {
             "colorbar": {
              "outlinewidth": 0,
              "ticks": ""
             }
            },
            "type": "scattermap"
           }
          ],
          "scattermapbox": [
           {
            "marker": {
             "colorbar": {
              "outlinewidth": 0,
              "ticks": ""
             }
            },
            "type": "scattermapbox"
           }
          ],
          "scatterpolar": [
           {
            "marker": {
             "colorbar": {
              "outlinewidth": 0,
              "ticks": ""
             }
            },
            "type": "scatterpolar"
           }
          ],
          "scatterpolargl": [
           {
            "marker": {
             "colorbar": {
              "outlinewidth": 0,
              "ticks": ""
             }
            },
            "type": "scatterpolargl"
           }
          ],
          "scatterternary": [
           {
            "marker": {
             "colorbar": {
              "outlinewidth": 0,
              "ticks": ""
             }
            },
            "type": "scatterternary"
           }
          ],
          "surface": [
           {
            "colorbar": {
             "outlinewidth": 0,
             "ticks": ""
            },
            "colorscale": [
             [
              0,
              "#0d0887"
             ],
             [
              0.1111111111111111,
              "#46039f"
             ],
             [
              0.2222222222222222,
              "#7201a8"
             ],
             [
              0.3333333333333333,
              "#9c179e"
             ],
             [
              0.4444444444444444,
              "#bd3786"
             ],
             [
              0.5555555555555556,
              "#d8576b"
             ],
             [
              0.6666666666666666,
              "#ed7953"
             ],
             [
              0.7777777777777778,
              "#fb9f3a"
             ],
             [
              0.8888888888888888,
              "#fdca26"
             ],
             [
              1,
              "#f0f921"
             ]
            ],
            "type": "surface"
           }
          ],
          "table": [
           {
            "cells": {
             "fill": {
              "color": "#EBF0F8"
             },
             "line": {
              "color": "white"
             }
            },
            "header": {
             "fill": {
              "color": "#C8D4E3"
             },
             "line": {
              "color": "white"
             }
            },
            "type": "table"
           }
          ]
         },
         "layout": {
          "annotationdefaults": {
           "arrowcolor": "#2a3f5f",
           "arrowhead": 0,
           "arrowwidth": 1
          },
          "autotypenumbers": "strict",
          "coloraxis": {
           "colorbar": {
            "outlinewidth": 0,
            "ticks": ""
           }
          },
          "colorscale": {
           "diverging": [
            [
             0,
             "#8e0152"
            ],
            [
             0.1,
             "#c51b7d"
            ],
            [
             0.2,
             "#de77ae"
            ],
            [
             0.3,
             "#f1b6da"
            ],
            [
             0.4,
             "#fde0ef"
            ],
            [
             0.5,
             "#f7f7f7"
            ],
            [
             0.6,
             "#e6f5d0"
            ],
            [
             0.7,
             "#b8e186"
            ],
            [
             0.8,
             "#7fbc41"
            ],
            [
             0.9,
             "#4d9221"
            ],
            [
             1,
             "#276419"
            ]
           ],
           "sequential": [
            [
             0,
             "#0d0887"
            ],
            [
             0.1111111111111111,
             "#46039f"
            ],
            [
             0.2222222222222222,
             "#7201a8"
            ],
            [
             0.3333333333333333,
             "#9c179e"
            ],
            [
             0.4444444444444444,
             "#bd3786"
            ],
            [
             0.5555555555555556,
             "#d8576b"
            ],
            [
             0.6666666666666666,
             "#ed7953"
            ],
            [
             0.7777777777777778,
             "#fb9f3a"
            ],
            [
             0.8888888888888888,
             "#fdca26"
            ],
            [
             1,
             "#f0f921"
            ]
           ],
           "sequentialminus": [
            [
             0,
             "#0d0887"
            ],
            [
             0.1111111111111111,
             "#46039f"
            ],
            [
             0.2222222222222222,
             "#7201a8"
            ],
            [
             0.3333333333333333,
             "#9c179e"
            ],
            [
             0.4444444444444444,
             "#bd3786"
            ],
            [
             0.5555555555555556,
             "#d8576b"
            ],
            [
             0.6666666666666666,
             "#ed7953"
            ],
            [
             0.7777777777777778,
             "#fb9f3a"
            ],
            [
             0.8888888888888888,
             "#fdca26"
            ],
            [
             1,
             "#f0f921"
            ]
           ]
          },
          "colorway": [
           "#636efa",
           "#EF553B",
           "#00cc96",
           "#ab63fa",
           "#FFA15A",
           "#19d3f3",
           "#FF6692",
           "#B6E880",
           "#FF97FF",
           "#FECB52"
          ],
          "font": {
           "color": "#2a3f5f"
          },
          "geo": {
           "bgcolor": "white",
           "lakecolor": "white",
           "landcolor": "#E5ECF6",
           "showlakes": true,
           "showland": true,
           "subunitcolor": "white"
          },
          "hoverlabel": {
           "align": "left"
          },
          "hovermode": "closest",
          "mapbox": {
           "style": "light"
          },
          "paper_bgcolor": "white",
          "plot_bgcolor": "#E5ECF6",
          "polar": {
           "angularaxis": {
            "gridcolor": "white",
            "linecolor": "white",
            "ticks": ""
           },
           "bgcolor": "#E5ECF6",
           "radialaxis": {
            "gridcolor": "white",
            "linecolor": "white",
            "ticks": ""
           }
          },
          "scene": {
           "xaxis": {
            "backgroundcolor": "#E5ECF6",
            "gridcolor": "white",
            "gridwidth": 2,
            "linecolor": "white",
            "showbackground": true,
            "ticks": "",
            "zerolinecolor": "white"
           },
           "yaxis": {
            "backgroundcolor": "#E5ECF6",
            "gridcolor": "white",
            "gridwidth": 2,
            "linecolor": "white",
            "showbackground": true,
            "ticks": "",
            "zerolinecolor": "white"
           },
           "zaxis": {
            "backgroundcolor": "#E5ECF6",
            "gridcolor": "white",
            "gridwidth": 2,
            "linecolor": "white",
            "showbackground": true,
            "ticks": "",
            "zerolinecolor": "white"
           }
          },
          "shapedefaults": {
           "line": {
            "color": "#2a3f5f"
           }
          },
          "ternary": {
           "aaxis": {
            "gridcolor": "white",
            "linecolor": "white",
            "ticks": ""
           },
           "baxis": {
            "gridcolor": "white",
            "linecolor": "white",
            "ticks": ""
           },
           "bgcolor": "#E5ECF6",
           "caxis": {
            "gridcolor": "white",
            "linecolor": "white",
            "ticks": ""
           }
          },
          "title": {
           "x": 0.05
          },
          "xaxis": {
           "automargin": true,
           "gridcolor": "white",
           "linecolor": "white",
           "ticks": "",
           "title": {
            "standoff": 15
           },
           "zerolinecolor": "white",
           "zerolinewidth": 2
          },
          "yaxis": {
           "automargin": true,
           "gridcolor": "white",
           "linecolor": "white",
           "ticks": "",
           "title": {
            "standoff": 15
           },
           "zerolinecolor": "white",
           "zerolinewidth": 2
          }
         }
        },
        "title": {
         "text": "Figure 2: Monthly Yelp Review Volume Trends"
        },
        "xaxis": {
         "anchor": "y",
         "domain": [
          0,
          1
         ],
         "title": {
          "text": "Month"
         }
        },
        "yaxis": {
         "anchor": "x",
         "domain": [
          0,
          1
         ],
         "title": {
          "text": "Review Count"
         }
        }
       }
      }
     },
     "metadata": {},
     "output_type": "display_data"
    }
   ],
   "source": [
    "# Months with the highest total reviews and highest average star rating\n",
    "df = cur.execute('''\n",
    "                SELECT \n",
    "                    MONTH(review_date) AS month,\n",
    "                    SUM(CASE WHEN stars=1 THEN 1 ELSE 0 END) AS one_star_reviews,\n",
    "                    SUM(CASE WHEN stars=2 THEN 1 ELSE 0 END) AS two_star_reviews,\n",
    "                    SUM(CASE WHEN stars=3 THEN 1 ELSE 0 END) AS three_star_reviews,\n",
    "                    SUM(CASE WHEN stars=4 THEN 1 ELSE 0 END) AS four_star_reviews,\n",
    "                    SUM(CASE WHEN stars=5 THEN 1 ELSE 0 END) AS five_star_reviews,\n",
    "                    COUNT(*) AS total_reviews,\n",
    "                    SUM(stars) AS total_stars,\n",
    "                    ROUND(AVG(stars), 2) avg_rating\n",
    "                FROM yelp_reviews\n",
    "                GROUP BY 1\n",
    "                ORDER BY 1;\n",
    "                 ''').fetch_pandas_all()\n",
    "\n",
    "styles = [{\n",
    "    'selector': 'caption', 'props': 'text-align: left;'\n",
    "}]\n",
    "\n",
    "display(df.style.set_caption('<span style=\"font-size: 20px;\">Table 14: Monthly Review Volume & Star Metrics</span>').set_table_styles(styles))\n",
    "\n",
    "# Rename columns for readability in charts\n",
    "df.rename(columns={'ONE_STAR_REVIEWS': '1 Star', 'TWO_STAR_REVIEWS': '2 Star', 'THREE_STAR_REVIEWS': '3 Star', 'FOUR_STAR_REVIEWS': '4 Star', 'FIVE_STAR_REVIEWS': '5 Star', 'TOTAL_REVIEWS': 'Total Reviews',\n",
    "                   'AVG_RATING': 'Average Rating'}, inplace=True)\n",
    "\n",
    "# Generate line chart for review count for each star value by month\n",
    "fig = px.line(\n",
    "    df,\n",
    "    x='MONTH',\n",
    "    y=[\n",
    "        '1 Star',\n",
    "        '2 Star',\n",
    "        '3 Star',\n",
    "        '4 Star',\n",
    "        '5 Star'\n",
    "    ],\n",
    "    labels={\n",
    "        'value': 'Review Count',\n",
    "        'variable': 'Star Rating',\n",
    "        'MONTH': 'Month'\n",
    "    },\n",
    "    title='Figure 1: Monthly Yelp Review Star Ratings Trends'\n",
    ")\n",
    "fig.show()\n",
    "\n",
    "# Generate bar chart for monthly review volume by month\n",
    "fig = px.bar(\n",
    "    df, \n",
    "    x='MONTH', \n",
    "    y='Total Reviews', \n",
    "    color='Total Reviews', \n",
    "    labels={'MONTH': 'Month', 'Total Reviews': 'Review Count'}, \n",
    "    title='Figure 2: Monthly Yelp Review Volume Trends'\n",
    ")\n",
    "fig.show()"
   ]
  },
  {
   "cell_type": "markdown",
   "id": "3ba53b98",
   "metadata": {},
   "source": [
    "### Monthly Review Volume & Star Metrics by Year"
   ]
  },
  {
   "cell_type": "code",
   "execution_count": 32,
   "id": "9ff30fbc",
   "metadata": {},
   "outputs": [
    {
     "data": {
      "text/html": [
       "<style type=\"text/css\">\n",
       "#T_4406f caption {\n",
       "  text-align: left;\n",
       "}\n",
       "</style>\n",
       "<table id=\"T_4406f\">\n",
       "  <caption><span style=\"font-size: 20px;\">Table 15: Monthly Review Volume & Star Metrics by Year</span></caption>\n",
       "  <thead>\n",
       "    <tr>\n",
       "      <th class=\"blank level0\" >&nbsp;</th>\n",
       "      <th id=\"T_4406f_level0_col0\" class=\"col_heading level0 col0\" >YEAR</th>\n",
       "      <th id=\"T_4406f_level0_col1\" class=\"col_heading level0 col1\" >MONTH</th>\n",
       "      <th id=\"T_4406f_level0_col2\" class=\"col_heading level0 col2\" >ONE_STAR_REVIEWS</th>\n",
       "      <th id=\"T_4406f_level0_col3\" class=\"col_heading level0 col3\" >TWO_STAR_REVIEWS</th>\n",
       "      <th id=\"T_4406f_level0_col4\" class=\"col_heading level0 col4\" >THREE_STAR_REVIEWS</th>\n",
       "      <th id=\"T_4406f_level0_col5\" class=\"col_heading level0 col5\" >FOUR_STAR_REVIEWS</th>\n",
       "      <th id=\"T_4406f_level0_col6\" class=\"col_heading level0 col6\" >FIVE_STAR_REVIEWS</th>\n",
       "      <th id=\"T_4406f_level0_col7\" class=\"col_heading level0 col7\" >TOTAL_REVIEWS</th>\n",
       "      <th id=\"T_4406f_level0_col8\" class=\"col_heading level0 col8\" >TOTAL_STARS</th>\n",
       "      <th id=\"T_4406f_level0_col9\" class=\"col_heading level0 col9\" >AVG_RATING</th>\n",
       "    </tr>\n",
       "  </thead>\n",
       "  <tbody>\n",
       "    <tr>\n",
       "      <th id=\"T_4406f_level0_row0\" class=\"row_heading level0 row0\" >0</th>\n",
       "      <td id=\"T_4406f_row0_col0\" class=\"data row0 col0\" >2005</td>\n",
       "      <td id=\"T_4406f_row0_col1\" class=\"data row0 col1\" >2</td>\n",
       "      <td id=\"T_4406f_row0_col2\" class=\"data row0 col2\" >0</td>\n",
       "      <td id=\"T_4406f_row0_col3\" class=\"data row0 col3\" >0</td>\n",
       "      <td id=\"T_4406f_row0_col4\" class=\"data row0 col4\" >0</td>\n",
       "      <td id=\"T_4406f_row0_col5\" class=\"data row0 col5\" >2</td>\n",
       "      <td id=\"T_4406f_row0_col6\" class=\"data row0 col6\" >1</td>\n",
       "      <td id=\"T_4406f_row0_col7\" class=\"data row0 col7\" >3</td>\n",
       "      <td id=\"T_4406f_row0_col8\" class=\"data row0 col8\" >13</td>\n",
       "      <td id=\"T_4406f_row0_col9\" class=\"data row0 col9\" >4.33</td>\n",
       "    </tr>\n",
       "    <tr>\n",
       "      <th id=\"T_4406f_level0_row1\" class=\"row_heading level0 row1\" >1</th>\n",
       "      <td id=\"T_4406f_row1_col0\" class=\"data row1 col0\" >2005</td>\n",
       "      <td id=\"T_4406f_row1_col1\" class=\"data row1 col1\" >3</td>\n",
       "      <td id=\"T_4406f_row1_col2\" class=\"data row1 col2\" >5</td>\n",
       "      <td id=\"T_4406f_row1_col3\" class=\"data row1 col3\" >8</td>\n",
       "      <td id=\"T_4406f_row1_col4\" class=\"data row1 col4\" >18</td>\n",
       "      <td id=\"T_4406f_row1_col5\" class=\"data row1 col5\" >20</td>\n",
       "      <td id=\"T_4406f_row1_col6\" class=\"data row1 col6\" >23</td>\n",
       "      <td id=\"T_4406f_row1_col7\" class=\"data row1 col7\" >74</td>\n",
       "      <td id=\"T_4406f_row1_col8\" class=\"data row1 col8\" >270</td>\n",
       "      <td id=\"T_4406f_row1_col9\" class=\"data row1 col9\" >3.65</td>\n",
       "    </tr>\n",
       "    <tr>\n",
       "      <th id=\"T_4406f_level0_row2\" class=\"row_heading level0 row2\" >2</th>\n",
       "      <td id=\"T_4406f_row2_col0\" class=\"data row2 col0\" >2005</td>\n",
       "      <td id=\"T_4406f_row2_col1\" class=\"data row2 col1\" >4</td>\n",
       "      <td id=\"T_4406f_row2_col2\" class=\"data row2 col2\" >1</td>\n",
       "      <td id=\"T_4406f_row2_col3\" class=\"data row2 col3\" >0</td>\n",
       "      <td id=\"T_4406f_row2_col4\" class=\"data row2 col4\" >4</td>\n",
       "      <td id=\"T_4406f_row2_col5\" class=\"data row2 col5\" >10</td>\n",
       "      <td id=\"T_4406f_row2_col6\" class=\"data row2 col6\" >11</td>\n",
       "      <td id=\"T_4406f_row2_col7\" class=\"data row2 col7\" >26</td>\n",
       "      <td id=\"T_4406f_row2_col8\" class=\"data row2 col8\" >108</td>\n",
       "      <td id=\"T_4406f_row2_col9\" class=\"data row2 col9\" >4.15</td>\n",
       "    </tr>\n",
       "    <tr>\n",
       "      <th id=\"T_4406f_level0_row3\" class=\"row_heading level0 row3\" >3</th>\n",
       "      <td id=\"T_4406f_row3_col0\" class=\"data row3 col0\" >2005</td>\n",
       "      <td id=\"T_4406f_row3_col1\" class=\"data row3 col1\" >5</td>\n",
       "      <td id=\"T_4406f_row3_col2\" class=\"data row3 col2\" >1</td>\n",
       "      <td id=\"T_4406f_row3_col3\" class=\"data row3 col3\" >7</td>\n",
       "      <td id=\"T_4406f_row3_col4\" class=\"data row3 col4\" >16</td>\n",
       "      <td id=\"T_4406f_row3_col5\" class=\"data row3 col5\" >42</td>\n",
       "      <td id=\"T_4406f_row3_col6\" class=\"data row3 col6\" >42</td>\n",
       "      <td id=\"T_4406f_row3_col7\" class=\"data row3 col7\" >108</td>\n",
       "      <td id=\"T_4406f_row3_col8\" class=\"data row3 col8\" >441</td>\n",
       "      <td id=\"T_4406f_row3_col9\" class=\"data row3 col9\" >4.08</td>\n",
       "    </tr>\n",
       "    <tr>\n",
       "      <th id=\"T_4406f_level0_row4\" class=\"row_heading level0 row4\" >4</th>\n",
       "      <td id=\"T_4406f_row4_col0\" class=\"data row4 col0\" >2005</td>\n",
       "      <td id=\"T_4406f_row4_col1\" class=\"data row4 col1\" >6</td>\n",
       "      <td id=\"T_4406f_row4_col2\" class=\"data row4 col2\" >2</td>\n",
       "      <td id=\"T_4406f_row4_col3\" class=\"data row4 col3\" >2</td>\n",
       "      <td id=\"T_4406f_row4_col4\" class=\"data row4 col4\" >4</td>\n",
       "      <td id=\"T_4406f_row4_col5\" class=\"data row4 col5\" >15</td>\n",
       "      <td id=\"T_4406f_row4_col6\" class=\"data row4 col6\" >15</td>\n",
       "      <td id=\"T_4406f_row4_col7\" class=\"data row4 col7\" >38</td>\n",
       "      <td id=\"T_4406f_row4_col8\" class=\"data row4 col8\" >153</td>\n",
       "      <td id=\"T_4406f_row4_col9\" class=\"data row4 col9\" >4.03</td>\n",
       "    </tr>\n",
       "    <tr>\n",
       "      <th id=\"T_4406f_level0_row5\" class=\"row_heading level0 row5\" >199</th>\n",
       "      <td id=\"T_4406f_row5_col0\" class=\"data row5 col0\" >2021</td>\n",
       "      <td id=\"T_4406f_row5_col1\" class=\"data row5 col1\" >9</td>\n",
       "      <td id=\"T_4406f_row5_col2\" class=\"data row5 col2\" >10470</td>\n",
       "      <td id=\"T_4406f_row5_col3\" class=\"data row5 col3\" >3295</td>\n",
       "      <td id=\"T_4406f_row5_col4\" class=\"data row5 col4\" >3348</td>\n",
       "      <td id=\"T_4406f_row5_col5\" class=\"data row5 col5\" >5775</td>\n",
       "      <td id=\"T_4406f_row5_col6\" class=\"data row5 col6\" >23509</td>\n",
       "      <td id=\"T_4406f_row5_col7\" class=\"data row5 col7\" >46397</td>\n",
       "      <td id=\"T_4406f_row5_col8\" class=\"data row5 col8\" >167749</td>\n",
       "      <td id=\"T_4406f_row5_col9\" class=\"data row5 col9\" >3.62</td>\n",
       "    </tr>\n",
       "    <tr>\n",
       "      <th id=\"T_4406f_level0_row6\" class=\"row_heading level0 row6\" >200</th>\n",
       "      <td id=\"T_4406f_row6_col0\" class=\"data row6 col0\" >2021</td>\n",
       "      <td id=\"T_4406f_row6_col1\" class=\"data row6 col1\" >10</td>\n",
       "      <td id=\"T_4406f_row6_col2\" class=\"data row6 col2\" >10539</td>\n",
       "      <td id=\"T_4406f_row6_col3\" class=\"data row6 col3\" >3510</td>\n",
       "      <td id=\"T_4406f_row6_col4\" class=\"data row6 col4\" >3567</td>\n",
       "      <td id=\"T_4406f_row6_col5\" class=\"data row6 col5\" >6507</td>\n",
       "      <td id=\"T_4406f_row6_col6\" class=\"data row6 col6\" >25181</td>\n",
       "      <td id=\"T_4406f_row6_col7\" class=\"data row6 col7\" >49304</td>\n",
       "      <td id=\"T_4406f_row6_col8\" class=\"data row6 col8\" >180193</td>\n",
       "      <td id=\"T_4406f_row6_col9\" class=\"data row6 col9\" >3.65</td>\n",
       "    </tr>\n",
       "    <tr>\n",
       "      <th id=\"T_4406f_level0_row7\" class=\"row_heading level0 row7\" >201</th>\n",
       "      <td id=\"T_4406f_row7_col0\" class=\"data row7 col0\" >2021</td>\n",
       "      <td id=\"T_4406f_row7_col1\" class=\"data row7 col1\" >11</td>\n",
       "      <td id=\"T_4406f_row7_col2\" class=\"data row7 col2\" >9426</td>\n",
       "      <td id=\"T_4406f_row7_col3\" class=\"data row7 col3\" >3180</td>\n",
       "      <td id=\"T_4406f_row7_col4\" class=\"data row7 col4\" >3193</td>\n",
       "      <td id=\"T_4406f_row7_col5\" class=\"data row7 col5\" >6290</td>\n",
       "      <td id=\"T_4406f_row7_col6\" class=\"data row7 col6\" >23135</td>\n",
       "      <td id=\"T_4406f_row7_col7\" class=\"data row7 col7\" >45224</td>\n",
       "      <td id=\"T_4406f_row7_col8\" class=\"data row7 col8\" >166200</td>\n",
       "      <td id=\"T_4406f_row7_col9\" class=\"data row7 col9\" >3.68</td>\n",
       "    </tr>\n",
       "    <tr>\n",
       "      <th id=\"T_4406f_level0_row8\" class=\"row_heading level0 row8\" >202</th>\n",
       "      <td id=\"T_4406f_row8_col0\" class=\"data row8 col0\" >2021</td>\n",
       "      <td id=\"T_4406f_row8_col1\" class=\"data row8 col1\" >12</td>\n",
       "      <td id=\"T_4406f_row8_col2\" class=\"data row8 col2\" >10175</td>\n",
       "      <td id=\"T_4406f_row8_col3\" class=\"data row8 col3\" >3219</td>\n",
       "      <td id=\"T_4406f_row8_col4\" class=\"data row8 col4\" >3601</td>\n",
       "      <td id=\"T_4406f_row8_col5\" class=\"data row8 col5\" >6768</td>\n",
       "      <td id=\"T_4406f_row8_col6\" class=\"data row8 col6\" >24716</td>\n",
       "      <td id=\"T_4406f_row8_col7\" class=\"data row8 col7\" >48479</td>\n",
       "      <td id=\"T_4406f_row8_col8\" class=\"data row8 col8\" >178068</td>\n",
       "      <td id=\"T_4406f_row8_col9\" class=\"data row8 col9\" >3.67</td>\n",
       "    </tr>\n",
       "    <tr>\n",
       "      <th id=\"T_4406f_level0_row9\" class=\"row_heading level0 row9\" >203</th>\n",
       "      <td id=\"T_4406f_row9_col0\" class=\"data row9 col0\" >2022</td>\n",
       "      <td id=\"T_4406f_row9_col1\" class=\"data row9 col1\" >1</td>\n",
       "      <td id=\"T_4406f_row9_col2\" class=\"data row9 col2\" >6607</td>\n",
       "      <td id=\"T_4406f_row9_col3\" class=\"data row9 col3\" >1959</td>\n",
       "      <td id=\"T_4406f_row9_col4\" class=\"data row9 col4\" >2183</td>\n",
       "      <td id=\"T_4406f_row9_col5\" class=\"data row9 col5\" >4351</td>\n",
       "      <td id=\"T_4406f_row9_col6\" class=\"data row9 col6\" >16565</td>\n",
       "      <td id=\"T_4406f_row9_col7\" class=\"data row9 col7\" >31665</td>\n",
       "      <td id=\"T_4406f_row9_col8\" class=\"data row9 col8\" >117303</td>\n",
       "      <td id=\"T_4406f_row9_col9\" class=\"data row9 col9\" >3.70</td>\n",
       "    </tr>\n",
       "  </tbody>\n",
       "</table>\n"
      ],
      "text/plain": [
       "<pandas.io.formats.style.Styler at 0x229d999d310>"
      ]
     },
     "metadata": {},
     "output_type": "display_data"
    },
    {
     "data": {
      "application/vnd.plotly.v1+json": {
       "config": {
        "plotlyServerURL": "https://plot.ly"
       },
       "data": [
        {
         "hovertemplate": "Star Rating=1 Star<br>Month-Year=%{x}<br>Review Count=%{y}<extra></extra>",
         "legendgroup": "1 Star",
         "line": {
          "color": "#636efa",
          "dash": "solid"
         },
         "marker": {
          "symbol": "circle"
         },
         "mode": "lines",
         "name": "1 Star",
         "showlegend": true,
         "type": "scattergl",
         "x": [
          "02/2005",
          "03/2005",
          "04/2005",
          "05/2005",
          "06/2005",
          "07/2005",
          "08/2005",
          "09/2005",
          "10/2005",
          "11/2005",
          "12/2005",
          "01/2006",
          "02/2006",
          "03/2006",
          "04/2006",
          "05/2006",
          "06/2006",
          "07/2006",
          "08/2006",
          "09/2006",
          "10/2006",
          "11/2006",
          "12/2006",
          "01/2007",
          "02/2007",
          "03/2007",
          "04/2007",
          "05/2007",
          "06/2007",
          "07/2007",
          "08/2007",
          "09/2007",
          "10/2007",
          "11/2007",
          "12/2007",
          "01/2008",
          "02/2008",
          "03/2008",
          "04/2008",
          "05/2008",
          "06/2008",
          "07/2008",
          "08/2008",
          "09/2008",
          "10/2008",
          "11/2008",
          "12/2008",
          "01/2009",
          "02/2009",
          "03/2009",
          "04/2009",
          "05/2009",
          "06/2009",
          "07/2009",
          "08/2009",
          "09/2009",
          "10/2009",
          "11/2009",
          "12/2009",
          "01/2010",
          "02/2010",
          "03/2010",
          "04/2010",
          "05/2010",
          "06/2010",
          "07/2010",
          "08/2010",
          "09/2010",
          "10/2010",
          "11/2010",
          "12/2010",
          "01/2011",
          "02/2011",
          "03/2011",
          "04/2011",
          "05/2011",
          "06/2011",
          "07/2011",
          "08/2011",
          "09/2011",
          "10/2011",
          "11/2011",
          "12/2011",
          "01/2012",
          "02/2012",
          "03/2012",
          "04/2012",
          "05/2012",
          "06/2012",
          "07/2012",
          "08/2012",
          "09/2012",
          "10/2012",
          "11/2012",
          "12/2012",
          "01/2013",
          "02/2013",
          "03/2013",
          "04/2013",
          "05/2013",
          "06/2013",
          "07/2013",
          "08/2013",
          "09/2013",
          "10/2013",
          "11/2013",
          "12/2013",
          "01/2014",
          "02/2014",
          "03/2014",
          "04/2014",
          "05/2014",
          "06/2014",
          "07/2014",
          "08/2014",
          "09/2014",
          "10/2014",
          "11/2014",
          "12/2014",
          "01/2015",
          "02/2015",
          "03/2015",
          "04/2015",
          "05/2015",
          "06/2015",
          "07/2015",
          "08/2015",
          "09/2015",
          "10/2015",
          "11/2015",
          "12/2015",
          "01/2016",
          "02/2016",
          "03/2016",
          "04/2016",
          "05/2016",
          "06/2016",
          "07/2016",
          "08/2016",
          "09/2016",
          "10/2016",
          "11/2016",
          "12/2016",
          "01/2017",
          "02/2017",
          "03/2017",
          "04/2017",
          "05/2017",
          "06/2017",
          "07/2017",
          "08/2017",
          "09/2017",
          "10/2017",
          "11/2017",
          "12/2017",
          "01/2018",
          "02/2018",
          "03/2018",
          "04/2018",
          "05/2018",
          "06/2018",
          "07/2018",
          "08/2018",
          "09/2018",
          "10/2018",
          "11/2018",
          "12/2018",
          "01/2019",
          "02/2019",
          "03/2019",
          "04/2019",
          "05/2019",
          "06/2019",
          "07/2019",
          "08/2019",
          "09/2019",
          "10/2019",
          "11/2019",
          "12/2019",
          "01/2020",
          "02/2020",
          "03/2020",
          "04/2020",
          "05/2020",
          "06/2020",
          "07/2020",
          "08/2020",
          "09/2020",
          "10/2020",
          "11/2020",
          "12/2020",
          "01/2021",
          "02/2021",
          "03/2021",
          "04/2021",
          "05/2021",
          "06/2021",
          "07/2021",
          "08/2021",
          "09/2021",
          "10/2021",
          "11/2021",
          "12/2021",
          "01/2022"
         ],
         "xaxis": "x",
         "y": {
          "bdata": "AAAFAAEAAQACAAkAAgAEAAAAAwADAA0ABQAFAAsACgAGABQACgAOABUAEAAKABwAOQAyACwAJwAoAEYAUQA6AEQARgBJAHkAdQCHAKAAlgDVACIB9wD+AOYA0gAAAUcBZgG8AakBswGkAf8BLQLRAcsB5wHTAdYCngLhAh4DAgM1A7wD6AMGBAME4gM9BGwFMwUjBiIGogYdB98H9QeIBwYHaQe+B+sIDAm3CToJ/An3CYcLKwtbCtAKBQqaCpIMGwxdDYAN/Q6fDuYPlxE8EGsQ6Q+kEIwScRFWFCgUCBa5FmoaDhrdFmoXJhf6GPka+xrvH4gdKSEmIRAjryRDILchOB4FIQIjoyPcJI8kdycCKNkp3SfiJNIj8B+VI6Mk1SPdKdcpoi10LLMuDyyqKMUpWSXNKC0qiSqiMZwvIDMOM443ZDXZL4AulyvFMEYuXC9HOLUz4zewOII4qDZ6MkUwqyy6LXwskCzaHjMSfBvFIWomxCZEJaUkDh46H7QfSR9QKd8qeS/5LBswly/mKCsp0iS/J88Z",
          "dtype": "i2"
         },
         "yaxis": "y"
        },
        {
         "hovertemplate": "Star Rating=2 Star<br>Month-Year=%{x}<br>Review Count=%{y}<extra></extra>",
         "legendgroup": "2 Star",
         "line": {
          "color": "#EF553B",
          "dash": "solid"
         },
         "marker": {
          "symbol": "circle"
         },
         "mode": "lines",
         "name": "2 Star",
         "showlegend": true,
         "type": "scattergl",
         "x": [
          "02/2005",
          "03/2005",
          "04/2005",
          "05/2005",
          "06/2005",
          "07/2005",
          "08/2005",
          "09/2005",
          "10/2005",
          "11/2005",
          "12/2005",
          "01/2006",
          "02/2006",
          "03/2006",
          "04/2006",
          "05/2006",
          "06/2006",
          "07/2006",
          "08/2006",
          "09/2006",
          "10/2006",
          "11/2006",
          "12/2006",
          "01/2007",
          "02/2007",
          "03/2007",
          "04/2007",
          "05/2007",
          "06/2007",
          "07/2007",
          "08/2007",
          "09/2007",
          "10/2007",
          "11/2007",
          "12/2007",
          "01/2008",
          "02/2008",
          "03/2008",
          "04/2008",
          "05/2008",
          "06/2008",
          "07/2008",
          "08/2008",
          "09/2008",
          "10/2008",
          "11/2008",
          "12/2008",
          "01/2009",
          "02/2009",
          "03/2009",
          "04/2009",
          "05/2009",
          "06/2009",
          "07/2009",
          "08/2009",
          "09/2009",
          "10/2009",
          "11/2009",
          "12/2009",
          "01/2010",
          "02/2010",
          "03/2010",
          "04/2010",
          "05/2010",
          "06/2010",
          "07/2010",
          "08/2010",
          "09/2010",
          "10/2010",
          "11/2010",
          "12/2010",
          "01/2011",
          "02/2011",
          "03/2011",
          "04/2011",
          "05/2011",
          "06/2011",
          "07/2011",
          "08/2011",
          "09/2011",
          "10/2011",
          "11/2011",
          "12/2011",
          "01/2012",
          "02/2012",
          "03/2012",
          "04/2012",
          "05/2012",
          "06/2012",
          "07/2012",
          "08/2012",
          "09/2012",
          "10/2012",
          "11/2012",
          "12/2012",
          "01/2013",
          "02/2013",
          "03/2013",
          "04/2013",
          "05/2013",
          "06/2013",
          "07/2013",
          "08/2013",
          "09/2013",
          "10/2013",
          "11/2013",
          "12/2013",
          "01/2014",
          "02/2014",
          "03/2014",
          "04/2014",
          "05/2014",
          "06/2014",
          "07/2014",
          "08/2014",
          "09/2014",
          "10/2014",
          "11/2014",
          "12/2014",
          "01/2015",
          "02/2015",
          "03/2015",
          "04/2015",
          "05/2015",
          "06/2015",
          "07/2015",
          "08/2015",
          "09/2015",
          "10/2015",
          "11/2015",
          "12/2015",
          "01/2016",
          "02/2016",
          "03/2016",
          "04/2016",
          "05/2016",
          "06/2016",
          "07/2016",
          "08/2016",
          "09/2016",
          "10/2016",
          "11/2016",
          "12/2016",
          "01/2017",
          "02/2017",
          "03/2017",
          "04/2017",
          "05/2017",
          "06/2017",
          "07/2017",
          "08/2017",
          "09/2017",
          "10/2017",
          "11/2017",
          "12/2017",
          "01/2018",
          "02/2018",
          "03/2018",
          "04/2018",
          "05/2018",
          "06/2018",
          "07/2018",
          "08/2018",
          "09/2018",
          "10/2018",
          "11/2018",
          "12/2018",
          "01/2019",
          "02/2019",
          "03/2019",
          "04/2019",
          "05/2019",
          "06/2019",
          "07/2019",
          "08/2019",
          "09/2019",
          "10/2019",
          "11/2019",
          "12/2019",
          "01/2020",
          "02/2020",
          "03/2020",
          "04/2020",
          "05/2020",
          "06/2020",
          "07/2020",
          "08/2020",
          "09/2020",
          "10/2020",
          "11/2020",
          "12/2020",
          "01/2021",
          "02/2021",
          "03/2021",
          "04/2021",
          "05/2021",
          "06/2021",
          "07/2021",
          "08/2021",
          "09/2021",
          "10/2021",
          "11/2021",
          "12/2021",
          "01/2022"
         ],
         "xaxis": "x",
         "y": {
          "bdata": "AAAIAAAABwACABgAAQABAAMABAAEAAoACAAJAAsACgANABMAJQAeABYAFgATADsAiwBwAEYATABPAIQAaABWAH4AaQBZAJoAngDTAPkA8wBNAdsBBwKiAYoBrwFyASYC3AFOAh8CMgI9ArIC3gJtAoYCXQKmAhcEbgMYBIwDqgO6A60ERQXBBOIEkgTtBIAG9AULB+kGCwc3BysIOQgbB+cGDwf9BioJbgjxCHsIogjkCLsJRgm5COAIjQjiCLIKxQndC8oKOQtuCzcM4QxbDLAL+gtSC7oM9AvsDrwNLg8SD7kQaRG5DlsOcg4wD/URsBCrEokRFxPqEsUUNxVWErASGxFoEdUT5hPvFH4TphW/E7YVzRReEpIS+w8sEbwSCxKIFCkVAxbCFT0XPhVmE0MTjBE7EsgTlBNNF3UWJBfwFsEZzxaeFPQTtxHeE28UNhQfGEQVwxb4FmkXSxZyFEgTYxH+EbgShRLUCtQEBwdMCj4LhAzSCxkMuQkaCZEKgQp0DnkOABCRDwMR1w/fDLYNbAyTDKcH",
          "dtype": "i2"
         },
         "yaxis": "y"
        },
        {
         "hovertemplate": "Star Rating=3 Star<br>Month-Year=%{x}<br>Review Count=%{y}<extra></extra>",
         "legendgroup": "3 Star",
         "line": {
          "color": "#00cc96",
          "dash": "solid"
         },
         "marker": {
          "symbol": "circle"
         },
         "mode": "lines",
         "name": "3 Star",
         "showlegend": true,
         "type": "scattergl",
         "x": [
          "02/2005",
          "03/2005",
          "04/2005",
          "05/2005",
          "06/2005",
          "07/2005",
          "08/2005",
          "09/2005",
          "10/2005",
          "11/2005",
          "12/2005",
          "01/2006",
          "02/2006",
          "03/2006",
          "04/2006",
          "05/2006",
          "06/2006",
          "07/2006",
          "08/2006",
          "09/2006",
          "10/2006",
          "11/2006",
          "12/2006",
          "01/2007",
          "02/2007",
          "03/2007",
          "04/2007",
          "05/2007",
          "06/2007",
          "07/2007",
          "08/2007",
          "09/2007",
          "10/2007",
          "11/2007",
          "12/2007",
          "01/2008",
          "02/2008",
          "03/2008",
          "04/2008",
          "05/2008",
          "06/2008",
          "07/2008",
          "08/2008",
          "09/2008",
          "10/2008",
          "11/2008",
          "12/2008",
          "01/2009",
          "02/2009",
          "03/2009",
          "04/2009",
          "05/2009",
          "06/2009",
          "07/2009",
          "08/2009",
          "09/2009",
          "10/2009",
          "11/2009",
          "12/2009",
          "01/2010",
          "02/2010",
          "03/2010",
          "04/2010",
          "05/2010",
          "06/2010",
          "07/2010",
          "08/2010",
          "09/2010",
          "10/2010",
          "11/2010",
          "12/2010",
          "01/2011",
          "02/2011",
          "03/2011",
          "04/2011",
          "05/2011",
          "06/2011",
          "07/2011",
          "08/2011",
          "09/2011",
          "10/2011",
          "11/2011",
          "12/2011",
          "01/2012",
          "02/2012",
          "03/2012",
          "04/2012",
          "05/2012",
          "06/2012",
          "07/2012",
          "08/2012",
          "09/2012",
          "10/2012",
          "11/2012",
          "12/2012",
          "01/2013",
          "02/2013",
          "03/2013",
          "04/2013",
          "05/2013",
          "06/2013",
          "07/2013",
          "08/2013",
          "09/2013",
          "10/2013",
          "11/2013",
          "12/2013",
          "01/2014",
          "02/2014",
          "03/2014",
          "04/2014",
          "05/2014",
          "06/2014",
          "07/2014",
          "08/2014",
          "09/2014",
          "10/2014",
          "11/2014",
          "12/2014",
          "01/2015",
          "02/2015",
          "03/2015",
          "04/2015",
          "05/2015",
          "06/2015",
          "07/2015",
          "08/2015",
          "09/2015",
          "10/2015",
          "11/2015",
          "12/2015",
          "01/2016",
          "02/2016",
          "03/2016",
          "04/2016",
          "05/2016",
          "06/2016",
          "07/2016",
          "08/2016",
          "09/2016",
          "10/2016",
          "11/2016",
          "12/2016",
          "01/2017",
          "02/2017",
          "03/2017",
          "04/2017",
          "05/2017",
          "06/2017",
          "07/2017",
          "08/2017",
          "09/2017",
          "10/2017",
          "11/2017",
          "12/2017",
          "01/2018",
          "02/2018",
          "03/2018",
          "04/2018",
          "05/2018",
          "06/2018",
          "07/2018",
          "08/2018",
          "09/2018",
          "10/2018",
          "11/2018",
          "12/2018",
          "01/2019",
          "02/2019",
          "03/2019",
          "04/2019",
          "05/2019",
          "06/2019",
          "07/2019",
          "08/2019",
          "09/2019",
          "10/2019",
          "11/2019",
          "12/2019",
          "01/2020",
          "02/2020",
          "03/2020",
          "04/2020",
          "05/2020",
          "06/2020",
          "07/2020",
          "08/2020",
          "09/2020",
          "10/2020",
          "11/2020",
          "12/2020",
          "01/2021",
          "02/2021",
          "03/2021",
          "04/2021",
          "05/2021",
          "06/2021",
          "07/2021",
          "08/2021",
          "09/2021",
          "10/2021",
          "11/2021",
          "12/2021",
          "01/2022"
         ],
         "xaxis": "x",
         "y": {
          "bdata": "AAASAAQAEAAEAEQACwASAAIADgAQACEAFgAhACAAJgAdAD0AXwBIAFQAVwBCAJYAYwEmAcMAmAC/ACoBDwEPAfsABAHZAFMBagHqAZ0CXAIFA+QDWQRZAyMEmAM3A1MEowPvA6MDlQO8A4cEzAQ3BDwEQwQABUkHTgYXB04G3QbnBpIHfQjxB4gICwinCM8KhApHDFILlwvACxIOzQxLCzYL3wsRC6sORA0eDhgNJQ18DZkOrw1gDF8NuAwTDXoR7w4nEWUQbhB1EDMRJhJFEWIQmxBEEN0ShxBvFP0SxBR6E2gWZBYFE88TjRJ5EzUYhxU7GLIWfBhwGKYaohqMFpkWiRWXFL0ZBBlYGqkXMRkPGGcakxhfFV4UIBRPEwUYkhVSGegYnhrqGmgcPhmuFv4XHhbCFf0Y/hbcG/Ia1BpsGnMdBhrqFlIXuBTJFmoYuhZhG9kYjRmXGtMaJhqyF1gW9RNgFIQVkhTcDEUExgYJCTsLeAw4DKQMcgqMCkIL4wotDpcO4A9/ELkRGRAUDe8NeQwRDocI",
          "dtype": "i2"
         },
         "yaxis": "y"
        },
        {
         "hovertemplate": "Star Rating=4 Star<br>Month-Year=%{x}<br>Review Count=%{y}<extra></extra>",
         "legendgroup": "4 Star",
         "line": {
          "color": "#ab63fa",
          "dash": "solid"
         },
         "marker": {
          "symbol": "circle"
         },
         "mode": "lines",
         "name": "4 Star",
         "showlegend": true,
         "type": "scattergl",
         "x": [
          "02/2005",
          "03/2005",
          "04/2005",
          "05/2005",
          "06/2005",
          "07/2005",
          "08/2005",
          "09/2005",
          "10/2005",
          "11/2005",
          "12/2005",
          "01/2006",
          "02/2006",
          "03/2006",
          "04/2006",
          "05/2006",
          "06/2006",
          "07/2006",
          "08/2006",
          "09/2006",
          "10/2006",
          "11/2006",
          "12/2006",
          "01/2007",
          "02/2007",
          "03/2007",
          "04/2007",
          "05/2007",
          "06/2007",
          "07/2007",
          "08/2007",
          "09/2007",
          "10/2007",
          "11/2007",
          "12/2007",
          "01/2008",
          "02/2008",
          "03/2008",
          "04/2008",
          "05/2008",
          "06/2008",
          "07/2008",
          "08/2008",
          "09/2008",
          "10/2008",
          "11/2008",
          "12/2008",
          "01/2009",
          "02/2009",
          "03/2009",
          "04/2009",
          "05/2009",
          "06/2009",
          "07/2009",
          "08/2009",
          "09/2009",
          "10/2009",
          "11/2009",
          "12/2009",
          "01/2010",
          "02/2010",
          "03/2010",
          "04/2010",
          "05/2010",
          "06/2010",
          "07/2010",
          "08/2010",
          "09/2010",
          "10/2010",
          "11/2010",
          "12/2010",
          "01/2011",
          "02/2011",
          "03/2011",
          "04/2011",
          "05/2011",
          "06/2011",
          "07/2011",
          "08/2011",
          "09/2011",
          "10/2011",
          "11/2011",
          "12/2011",
          "01/2012",
          "02/2012",
          "03/2012",
          "04/2012",
          "05/2012",
          "06/2012",
          "07/2012",
          "08/2012",
          "09/2012",
          "10/2012",
          "11/2012",
          "12/2012",
          "01/2013",
          "02/2013",
          "03/2013",
          "04/2013",
          "05/2013",
          "06/2013",
          "07/2013",
          "08/2013",
          "09/2013",
          "10/2013",
          "11/2013",
          "12/2013",
          "01/2014",
          "02/2014",
          "03/2014",
          "04/2014",
          "05/2014",
          "06/2014",
          "07/2014",
          "08/2014",
          "09/2014",
          "10/2014",
          "11/2014",
          "12/2014",
          "01/2015",
          "02/2015",
          "03/2015",
          "04/2015",
          "05/2015",
          "06/2015",
          "07/2015",
          "08/2015",
          "09/2015",
          "10/2015",
          "11/2015",
          "12/2015",
          "01/2016",
          "02/2016",
          "03/2016",
          "04/2016",
          "05/2016",
          "06/2016",
          "07/2016",
          "08/2016",
          "09/2016",
          "10/2016",
          "11/2016",
          "12/2016",
          "01/2017",
          "02/2017",
          "03/2017",
          "04/2017",
          "05/2017",
          "06/2017",
          "07/2017",
          "08/2017",
          "09/2017",
          "10/2017",
          "11/2017",
          "12/2017",
          "01/2018",
          "02/2018",
          "03/2018",
          "04/2018",
          "05/2018",
          "06/2018",
          "07/2018",
          "08/2018",
          "09/2018",
          "10/2018",
          "11/2018",
          "12/2018",
          "01/2019",
          "02/2019",
          "03/2019",
          "04/2019",
          "05/2019",
          "06/2019",
          "07/2019",
          "08/2019",
          "09/2019",
          "10/2019",
          "11/2019",
          "12/2019",
          "01/2020",
          "02/2020",
          "03/2020",
          "04/2020",
          "05/2020",
          "06/2020",
          "07/2020",
          "08/2020",
          "09/2020",
          "10/2020",
          "11/2020",
          "12/2020",
          "01/2021",
          "02/2021",
          "03/2021",
          "04/2021",
          "05/2021",
          "06/2021",
          "07/2021",
          "08/2021",
          "09/2021",
          "10/2021",
          "11/2021",
          "12/2021",
          "01/2022"
         ],
         "xaxis": "x",
         "y": {
          "bdata": "AgAUAAoAKgAPAGQAFgAWABIAHQAjAEwASQBEAEcAVgA8AI8AowCcAJIAoACsAC4B4gGsAZ0BHwGHATQCKwIHAhMCAQKYAQsDRQP1A14F2gUvBt0HnQgFB5EHLQduBsMILQeqCLAHbgcdCEQJ6QkACQkJPAk1Cb8PLw3FDpgN1Q3TDW4RXhIvER0SdxHyEeUYQRdIGhkZYRnKGfYcZRzKF3IXBxhyF8kfSR1uHvIbVxyXHfwfLR2AGzgcTRwZHMcl3x+wJV0jqyPLI+wmXinjJHcjDyQFJFIrXCVCLlgqJC2yLBwygDETKyErgCrIKk81tS9LNBczpDTaNMM6VToRMlEyWi8gLiU6EDefOec0oDbRMw05sDP3LFgs3SiyKV0yRi+bNA80yzZZOOk5+DTlLgwxYS7+LEI0IDDzOdw2yTY3N0894DNMLjAvFSw9LpIxli3WNm8wVTL2Ml00BDPRLa8skyfHKGEq3Cq/G/wJzA2sEsYV4RdsFyQY5xRXFXYWIRWXGuwZYxxqHSgftByPFmsZkhhwGv8Q",
          "dtype": "i2"
         },
         "yaxis": "y"
        },
        {
         "hovertemplate": "Star Rating=5 Star<br>Month-Year=%{x}<br>Review Count=%{y}<extra></extra>",
         "legendgroup": "5 Star",
         "line": {
          "color": "#FFA15A",
          "dash": "solid"
         },
         "marker": {
          "symbol": "circle"
         },
         "mode": "lines",
         "name": "5 Star",
         "showlegend": true,
         "type": "scattergl",
         "x": [
          "02/2005",
          "03/2005",
          "04/2005",
          "05/2005",
          "06/2005",
          "07/2005",
          "08/2005",
          "09/2005",
          "10/2005",
          "11/2005",
          "12/2005",
          "01/2006",
          "02/2006",
          "03/2006",
          "04/2006",
          "05/2006",
          "06/2006",
          "07/2006",
          "08/2006",
          "09/2006",
          "10/2006",
          "11/2006",
          "12/2006",
          "01/2007",
          "02/2007",
          "03/2007",
          "04/2007",
          "05/2007",
          "06/2007",
          "07/2007",
          "08/2007",
          "09/2007",
          "10/2007",
          "11/2007",
          "12/2007",
          "01/2008",
          "02/2008",
          "03/2008",
          "04/2008",
          "05/2008",
          "06/2008",
          "07/2008",
          "08/2008",
          "09/2008",
          "10/2008",
          "11/2008",
          "12/2008",
          "01/2009",
          "02/2009",
          "03/2009",
          "04/2009",
          "05/2009",
          "06/2009",
          "07/2009",
          "08/2009",
          "09/2009",
          "10/2009",
          "11/2009",
          "12/2009",
          "01/2010",
          "02/2010",
          "03/2010",
          "04/2010",
          "05/2010",
          "06/2010",
          "07/2010",
          "08/2010",
          "09/2010",
          "10/2010",
          "11/2010",
          "12/2010",
          "01/2011",
          "02/2011",
          "03/2011",
          "04/2011",
          "05/2011",
          "06/2011",
          "07/2011",
          "08/2011",
          "09/2011",
          "10/2011",
          "11/2011",
          "12/2011",
          "01/2012",
          "02/2012",
          "03/2012",
          "04/2012",
          "05/2012",
          "06/2012",
          "07/2012",
          "08/2012",
          "09/2012",
          "10/2012",
          "11/2012",
          "12/2012",
          "01/2013",
          "02/2013",
          "03/2013",
          "04/2013",
          "05/2013",
          "06/2013",
          "07/2013",
          "08/2013",
          "09/2013",
          "10/2013",
          "11/2013",
          "12/2013",
          "01/2014",
          "02/2014",
          "03/2014",
          "04/2014",
          "05/2014",
          "06/2014",
          "07/2014",
          "08/2014",
          "09/2014",
          "10/2014",
          "11/2014",
          "12/2014",
          "01/2015",
          "02/2015",
          "03/2015",
          "04/2015",
          "05/2015",
          "06/2015",
          "07/2015",
          "08/2015",
          "09/2015",
          "10/2015",
          "11/2015",
          "12/2015",
          "01/2016",
          "02/2016",
          "03/2016",
          "04/2016",
          "05/2016",
          "06/2016",
          "07/2016",
          "08/2016",
          "09/2016",
          "10/2016",
          "11/2016",
          "12/2016",
          "01/2017",
          "02/2017",
          "03/2017",
          "04/2017",
          "05/2017",
          "06/2017",
          "07/2017",
          "08/2017",
          "09/2017",
          "10/2017",
          "11/2017",
          "12/2017",
          "01/2018",
          "02/2018",
          "03/2018",
          "04/2018",
          "05/2018",
          "06/2018",
          "07/2018",
          "08/2018",
          "09/2018",
          "10/2018",
          "11/2018",
          "12/2018",
          "01/2019",
          "02/2019",
          "03/2019",
          "04/2019",
          "05/2019",
          "06/2019",
          "07/2019",
          "08/2019",
          "09/2019",
          "10/2019",
          "11/2019",
          "12/2019",
          "01/2020",
          "02/2020",
          "03/2020",
          "04/2020",
          "05/2020",
          "06/2020",
          "07/2020",
          "08/2020",
          "09/2020",
          "10/2020",
          "11/2020",
          "12/2020",
          "01/2021",
          "02/2021",
          "03/2021",
          "04/2021",
          "05/2021",
          "06/2021",
          "07/2021",
          "08/2021",
          "09/2021",
          "10/2021",
          "11/2021",
          "12/2021",
          "01/2022"
         ],
         "xaxis": "x",
         "y": {
          "bdata": "AQAAABcAAAALAAAAKgAAAA8AAAA6AAAAHgAAABgAAAAQAAAAFAAAACwAAABZAAAATQAAAEwAAABHAAAAUAAAAEgAAACSAAAAuwAAAL0AAACgAAAAjQAAALwAAAAHAQAAgwEAAE8BAACFAQAAYgEAALgBAABUAgAAjgIAAPwBAADFAQAArQEAAJIBAADOAgAA8gIAAKsDAAANBQAAFQUAANsEAACdBQAA6AUAAAUFAAD+BAAACwUAACEFAADTBgAAsAUAACgHAACIBgAAoQYAAC4HAABACAAAxwgAAMkHAACfBwAA5wcAAI4HAAAEDAAAwAoAAIUMAAB/CwAAOQwAAGcMAAChDwAAqhAAAGYPAAAyDwAAVRAAADYQAADGFQAAjxQAALYYAACtFgAAdhcAAPIYAABrHAAAehwAAJUYAAAaFwAAURgAAPsXAAAvIAAAmx0AAP8eAAAUHgAA9x0AAPkfAADNIgAAUSIAAHcfAAD3HwAA+R4AAO8eAABWKQAAaSQAAAgqAACfKAAALyoAAA4rAAA2LwAAwzQAAEMxAACtMAAAijEAABUxAABKPAAAzTUAAKRCAACAPwAAb0QAAM5FAADrTwAA0VAAAO1FAABvSQAAIUcAAP9GAABNWAAADlEAAKleAABmXQAA+mIAAK5lAABucAAAMHIAABZkAACIaAAAQGEAAIheAAAgcwAALnMAAOp5AAAvdAAAyHoAAAB6AAAShQAArXoAAK1tAADDbgAAk2IAAONnAAB2eAAAA3QAAF6EAADggwAAIYoAAP2LAAChlQAAuosAAIN7AADpgQAAVHcAAHJ2AAB4hwAAr4IAAKWdAADEmgAAaZoAAHCgAAA+rwAAg58AAHSOAABVjwAAYIMAAAiIAADPlgAA4I8AAAGnAAC2mgAAFqAAANmkAAA7pgAApKYAAHaQAABIjQAAln4AAK59AAC4hgAA/ocAABJhAABzMAAAbkUAAEBYAADBZwAAYG0AADVnAAB5aQAAc1wAACleAAC1ZQAAt10AAOdyAAA6cAAA5nUAAIN3AAAoegAAPHAAANVbAABdYgAAX1oAAIxgAAC1QAAA",
          "dtype": "i4"
         },
         "yaxis": "y"
        }
       ],
       "layout": {
        "legend": {
         "title": {
          "text": "Star Rating"
         },
         "tracegroupgap": 0
        },
        "template": {
         "data": {
          "bar": [
           {
            "error_x": {
             "color": "#2a3f5f"
            },
            "error_y": {
             "color": "#2a3f5f"
            },
            "marker": {
             "line": {
              "color": "#E5ECF6",
              "width": 0.5
             },
             "pattern": {
              "fillmode": "overlay",
              "size": 10,
              "solidity": 0.2
             }
            },
            "type": "bar"
           }
          ],
          "barpolar": [
           {
            "marker": {
             "line": {
              "color": "#E5ECF6",
              "width": 0.5
             },
             "pattern": {
              "fillmode": "overlay",
              "size": 10,
              "solidity": 0.2
             }
            },
            "type": "barpolar"
           }
          ],
          "carpet": [
           {
            "aaxis": {
             "endlinecolor": "#2a3f5f",
             "gridcolor": "white",
             "linecolor": "white",
             "minorgridcolor": "white",
             "startlinecolor": "#2a3f5f"
            },
            "baxis": {
             "endlinecolor": "#2a3f5f",
             "gridcolor": "white",
             "linecolor": "white",
             "minorgridcolor": "white",
             "startlinecolor": "#2a3f5f"
            },
            "type": "carpet"
           }
          ],
          "choropleth": [
           {
            "colorbar": {
             "outlinewidth": 0,
             "ticks": ""
            },
            "type": "choropleth"
           }
          ],
          "contour": [
           {
            "colorbar": {
             "outlinewidth": 0,
             "ticks": ""
            },
            "colorscale": [
             [
              0,
              "#0d0887"
             ],
             [
              0.1111111111111111,
              "#46039f"
             ],
             [
              0.2222222222222222,
              "#7201a8"
             ],
             [
              0.3333333333333333,
              "#9c179e"
             ],
             [
              0.4444444444444444,
              "#bd3786"
             ],
             [
              0.5555555555555556,
              "#d8576b"
             ],
             [
              0.6666666666666666,
              "#ed7953"
             ],
             [
              0.7777777777777778,
              "#fb9f3a"
             ],
             [
              0.8888888888888888,
              "#fdca26"
             ],
             [
              1,
              "#f0f921"
             ]
            ],
            "type": "contour"
           }
          ],
          "contourcarpet": [
           {
            "colorbar": {
             "outlinewidth": 0,
             "ticks": ""
            },
            "type": "contourcarpet"
           }
          ],
          "heatmap": [
           {
            "colorbar": {
             "outlinewidth": 0,
             "ticks": ""
            },
            "colorscale": [
             [
              0,
              "#0d0887"
             ],
             [
              0.1111111111111111,
              "#46039f"
             ],
             [
              0.2222222222222222,
              "#7201a8"
             ],
             [
              0.3333333333333333,
              "#9c179e"
             ],
             [
              0.4444444444444444,
              "#bd3786"
             ],
             [
              0.5555555555555556,
              "#d8576b"
             ],
             [
              0.6666666666666666,
              "#ed7953"
             ],
             [
              0.7777777777777778,
              "#fb9f3a"
             ],
             [
              0.8888888888888888,
              "#fdca26"
             ],
             [
              1,
              "#f0f921"
             ]
            ],
            "type": "heatmap"
           }
          ],
          "histogram": [
           {
            "marker": {
             "pattern": {
              "fillmode": "overlay",
              "size": 10,
              "solidity": 0.2
             }
            },
            "type": "histogram"
           }
          ],
          "histogram2d": [
           {
            "colorbar": {
             "outlinewidth": 0,
             "ticks": ""
            },
            "colorscale": [
             [
              0,
              "#0d0887"
             ],
             [
              0.1111111111111111,
              "#46039f"
             ],
             [
              0.2222222222222222,
              "#7201a8"
             ],
             [
              0.3333333333333333,
              "#9c179e"
             ],
             [
              0.4444444444444444,
              "#bd3786"
             ],
             [
              0.5555555555555556,
              "#d8576b"
             ],
             [
              0.6666666666666666,
              "#ed7953"
             ],
             [
              0.7777777777777778,
              "#fb9f3a"
             ],
             [
              0.8888888888888888,
              "#fdca26"
             ],
             [
              1,
              "#f0f921"
             ]
            ],
            "type": "histogram2d"
           }
          ],
          "histogram2dcontour": [
           {
            "colorbar": {
             "outlinewidth": 0,
             "ticks": ""
            },
            "colorscale": [
             [
              0,
              "#0d0887"
             ],
             [
              0.1111111111111111,
              "#46039f"
             ],
             [
              0.2222222222222222,
              "#7201a8"
             ],
             [
              0.3333333333333333,
              "#9c179e"
             ],
             [
              0.4444444444444444,
              "#bd3786"
             ],
             [
              0.5555555555555556,
              "#d8576b"
             ],
             [
              0.6666666666666666,
              "#ed7953"
             ],
             [
              0.7777777777777778,
              "#fb9f3a"
             ],
             [
              0.8888888888888888,
              "#fdca26"
             ],
             [
              1,
              "#f0f921"
             ]
            ],
            "type": "histogram2dcontour"
           }
          ],
          "mesh3d": [
           {
            "colorbar": {
             "outlinewidth": 0,
             "ticks": ""
            },
            "type": "mesh3d"
           }
          ],
          "parcoords": [
           {
            "line": {
             "colorbar": {
              "outlinewidth": 0,
              "ticks": ""
             }
            },
            "type": "parcoords"
           }
          ],
          "pie": [
           {
            "automargin": true,
            "type": "pie"
           }
          ],
          "scatter": [
           {
            "fillpattern": {
             "fillmode": "overlay",
             "size": 10,
             "solidity": 0.2
            },
            "type": "scatter"
           }
          ],
          "scatter3d": [
           {
            "line": {
             "colorbar": {
              "outlinewidth": 0,
              "ticks": ""
             }
            },
            "marker": {
             "colorbar": {
              "outlinewidth": 0,
              "ticks": ""
             }
            },
            "type": "scatter3d"
           }
          ],
          "scattercarpet": [
           {
            "marker": {
             "colorbar": {
              "outlinewidth": 0,
              "ticks": ""
             }
            },
            "type": "scattercarpet"
           }
          ],
          "scattergeo": [
           {
            "marker": {
             "colorbar": {
              "outlinewidth": 0,
              "ticks": ""
             }
            },
            "type": "scattergeo"
           }
          ],
          "scattergl": [
           {
            "marker": {
             "colorbar": {
              "outlinewidth": 0,
              "ticks": ""
             }
            },
            "type": "scattergl"
           }
          ],
          "scattermap": [
           {
            "marker": {
             "colorbar": {
              "outlinewidth": 0,
              "ticks": ""
             }
            },
            "type": "scattermap"
           }
          ],
          "scattermapbox": [
           {
            "marker": {
             "colorbar": {
              "outlinewidth": 0,
              "ticks": ""
             }
            },
            "type": "scattermapbox"
           }
          ],
          "scatterpolar": [
           {
            "marker": {
             "colorbar": {
              "outlinewidth": 0,
              "ticks": ""
             }
            },
            "type": "scatterpolar"
           }
          ],
          "scatterpolargl": [
           {
            "marker": {
             "colorbar": {
              "outlinewidth": 0,
              "ticks": ""
             }
            },
            "type": "scatterpolargl"
           }
          ],
          "scatterternary": [
           {
            "marker": {
             "colorbar": {
              "outlinewidth": 0,
              "ticks": ""
             }
            },
            "type": "scatterternary"
           }
          ],
          "surface": [
           {
            "colorbar": {
             "outlinewidth": 0,
             "ticks": ""
            },
            "colorscale": [
             [
              0,
              "#0d0887"
             ],
             [
              0.1111111111111111,
              "#46039f"
             ],
             [
              0.2222222222222222,
              "#7201a8"
             ],
             [
              0.3333333333333333,
              "#9c179e"
             ],
             [
              0.4444444444444444,
              "#bd3786"
             ],
             [
              0.5555555555555556,
              "#d8576b"
             ],
             [
              0.6666666666666666,
              "#ed7953"
             ],
             [
              0.7777777777777778,
              "#fb9f3a"
             ],
             [
              0.8888888888888888,
              "#fdca26"
             ],
             [
              1,
              "#f0f921"
             ]
            ],
            "type": "surface"
           }
          ],
          "table": [
           {
            "cells": {
             "fill": {
              "color": "#EBF0F8"
             },
             "line": {
              "color": "white"
             }
            },
            "header": {
             "fill": {
              "color": "#C8D4E3"
             },
             "line": {
              "color": "white"
             }
            },
            "type": "table"
           }
          ]
         },
         "layout": {
          "annotationdefaults": {
           "arrowcolor": "#2a3f5f",
           "arrowhead": 0,
           "arrowwidth": 1
          },
          "autotypenumbers": "strict",
          "coloraxis": {
           "colorbar": {
            "outlinewidth": 0,
            "ticks": ""
           }
          },
          "colorscale": {
           "diverging": [
            [
             0,
             "#8e0152"
            ],
            [
             0.1,
             "#c51b7d"
            ],
            [
             0.2,
             "#de77ae"
            ],
            [
             0.3,
             "#f1b6da"
            ],
            [
             0.4,
             "#fde0ef"
            ],
            [
             0.5,
             "#f7f7f7"
            ],
            [
             0.6,
             "#e6f5d0"
            ],
            [
             0.7,
             "#b8e186"
            ],
            [
             0.8,
             "#7fbc41"
            ],
            [
             0.9,
             "#4d9221"
            ],
            [
             1,
             "#276419"
            ]
           ],
           "sequential": [
            [
             0,
             "#0d0887"
            ],
            [
             0.1111111111111111,
             "#46039f"
            ],
            [
             0.2222222222222222,
             "#7201a8"
            ],
            [
             0.3333333333333333,
             "#9c179e"
            ],
            [
             0.4444444444444444,
             "#bd3786"
            ],
            [
             0.5555555555555556,
             "#d8576b"
            ],
            [
             0.6666666666666666,
             "#ed7953"
            ],
            [
             0.7777777777777778,
             "#fb9f3a"
            ],
            [
             0.8888888888888888,
             "#fdca26"
            ],
            [
             1,
             "#f0f921"
            ]
           ],
           "sequentialminus": [
            [
             0,
             "#0d0887"
            ],
            [
             0.1111111111111111,
             "#46039f"
            ],
            [
             0.2222222222222222,
             "#7201a8"
            ],
            [
             0.3333333333333333,
             "#9c179e"
            ],
            [
             0.4444444444444444,
             "#bd3786"
            ],
            [
             0.5555555555555556,
             "#d8576b"
            ],
            [
             0.6666666666666666,
             "#ed7953"
            ],
            [
             0.7777777777777778,
             "#fb9f3a"
            ],
            [
             0.8888888888888888,
             "#fdca26"
            ],
            [
             1,
             "#f0f921"
            ]
           ]
          },
          "colorway": [
           "#636efa",
           "#EF553B",
           "#00cc96",
           "#ab63fa",
           "#FFA15A",
           "#19d3f3",
           "#FF6692",
           "#B6E880",
           "#FF97FF",
           "#FECB52"
          ],
          "font": {
           "color": "#2a3f5f"
          },
          "geo": {
           "bgcolor": "white",
           "lakecolor": "white",
           "landcolor": "#E5ECF6",
           "showlakes": true,
           "showland": true,
           "subunitcolor": "white"
          },
          "hoverlabel": {
           "align": "left"
          },
          "hovermode": "closest",
          "mapbox": {
           "style": "light"
          },
          "paper_bgcolor": "white",
          "plot_bgcolor": "#E5ECF6",
          "polar": {
           "angularaxis": {
            "gridcolor": "white",
            "linecolor": "white",
            "ticks": ""
           },
           "bgcolor": "#E5ECF6",
           "radialaxis": {
            "gridcolor": "white",
            "linecolor": "white",
            "ticks": ""
           }
          },
          "scene": {
           "xaxis": {
            "backgroundcolor": "#E5ECF6",
            "gridcolor": "white",
            "gridwidth": 2,
            "linecolor": "white",
            "showbackground": true,
            "ticks": "",
            "zerolinecolor": "white"
           },
           "yaxis": {
            "backgroundcolor": "#E5ECF6",
            "gridcolor": "white",
            "gridwidth": 2,
            "linecolor": "white",
            "showbackground": true,
            "ticks": "",
            "zerolinecolor": "white"
           },
           "zaxis": {
            "backgroundcolor": "#E5ECF6",
            "gridcolor": "white",
            "gridwidth": 2,
            "linecolor": "white",
            "showbackground": true,
            "ticks": "",
            "zerolinecolor": "white"
           }
          },
          "shapedefaults": {
           "line": {
            "color": "#2a3f5f"
           }
          },
          "ternary": {
           "aaxis": {
            "gridcolor": "white",
            "linecolor": "white",
            "ticks": ""
           },
           "baxis": {
            "gridcolor": "white",
            "linecolor": "white",
            "ticks": ""
           },
           "bgcolor": "#E5ECF6",
           "caxis": {
            "gridcolor": "white",
            "linecolor": "white",
            "ticks": ""
           }
          },
          "title": {
           "x": 0.05
          },
          "xaxis": {
           "automargin": true,
           "gridcolor": "white",
           "linecolor": "white",
           "ticks": "",
           "title": {
            "standoff": 15
           },
           "zerolinecolor": "white",
           "zerolinewidth": 2
          },
          "yaxis": {
           "automargin": true,
           "gridcolor": "white",
           "linecolor": "white",
           "ticks": "",
           "title": {
            "standoff": 15
           },
           "zerolinecolor": "white",
           "zerolinewidth": 2
          }
         }
        },
        "title": {
         "text": "Figure 3: Monthly Yelp Star Rating Counts by Year"
        },
        "xaxis": {
         "anchor": "y",
         "domain": [
          0,
          1
         ],
         "title": {
          "text": "Month-Year"
         }
        },
        "yaxis": {
         "anchor": "x",
         "domain": [
          0,
          1
         ],
         "title": {
          "text": "Review Count"
         }
        }
       }
      }
     },
     "metadata": {},
     "output_type": "display_data"
    },
    {
     "data": {
      "application/vnd.plotly.v1+json": {
       "config": {
        "plotlyServerURL": "https://plot.ly"
       },
       "data": [
        {
         "hovertemplate": "Month-Year=%{x}<br>Review Count=%{y}<extra></extra>",
         "legendgroup": "",
         "line": {
          "color": "#636efa",
          "dash": "solid"
         },
         "marker": {
          "symbol": "circle"
         },
         "mode": "lines",
         "name": "",
         "orientation": "v",
         "showlegend": false,
         "type": "scatter",
         "x": [
          "02/2005",
          "03/2005",
          "04/2005",
          "05/2005",
          "06/2005",
          "07/2005",
          "08/2005",
          "09/2005",
          "10/2005",
          "11/2005",
          "12/2005",
          "01/2006",
          "02/2006",
          "03/2006",
          "04/2006",
          "05/2006",
          "06/2006",
          "07/2006",
          "08/2006",
          "09/2006",
          "10/2006",
          "11/2006",
          "12/2006",
          "01/2007",
          "02/2007",
          "03/2007",
          "04/2007",
          "05/2007",
          "06/2007",
          "07/2007",
          "08/2007",
          "09/2007",
          "10/2007",
          "11/2007",
          "12/2007",
          "01/2008",
          "02/2008",
          "03/2008",
          "04/2008",
          "05/2008",
          "06/2008",
          "07/2008",
          "08/2008",
          "09/2008",
          "10/2008",
          "11/2008",
          "12/2008",
          "01/2009",
          "02/2009",
          "03/2009",
          "04/2009",
          "05/2009",
          "06/2009",
          "07/2009",
          "08/2009",
          "09/2009",
          "10/2009",
          "11/2009",
          "12/2009",
          "01/2010",
          "02/2010",
          "03/2010",
          "04/2010",
          "05/2010",
          "06/2010",
          "07/2010",
          "08/2010",
          "09/2010",
          "10/2010",
          "11/2010",
          "12/2010",
          "01/2011",
          "02/2011",
          "03/2011",
          "04/2011",
          "05/2011",
          "06/2011",
          "07/2011",
          "08/2011",
          "09/2011",
          "10/2011",
          "11/2011",
          "12/2011",
          "01/2012",
          "02/2012",
          "03/2012",
          "04/2012",
          "05/2012",
          "06/2012",
          "07/2012",
          "08/2012",
          "09/2012",
          "10/2012",
          "11/2012",
          "12/2012",
          "01/2013",
          "02/2013",
          "03/2013",
          "04/2013",
          "05/2013",
          "06/2013",
          "07/2013",
          "08/2013",
          "09/2013",
          "10/2013",
          "11/2013",
          "12/2013",
          "01/2014",
          "02/2014",
          "03/2014",
          "04/2014",
          "05/2014",
          "06/2014",
          "07/2014",
          "08/2014",
          "09/2014",
          "10/2014",
          "11/2014",
          "12/2014",
          "01/2015",
          "02/2015",
          "03/2015",
          "04/2015",
          "05/2015",
          "06/2015",
          "07/2015",
          "08/2015",
          "09/2015",
          "10/2015",
          "11/2015",
          "12/2015",
          "01/2016",
          "02/2016",
          "03/2016",
          "04/2016",
          "05/2016",
          "06/2016",
          "07/2016",
          "08/2016",
          "09/2016",
          "10/2016",
          "11/2016",
          "12/2016",
          "01/2017",
          "02/2017",
          "03/2017",
          "04/2017",
          "05/2017",
          "06/2017",
          "07/2017",
          "08/2017",
          "09/2017",
          "10/2017",
          "11/2017",
          "12/2017",
          "01/2018",
          "02/2018",
          "03/2018",
          "04/2018",
          "05/2018",
          "06/2018",
          "07/2018",
          "08/2018",
          "09/2018",
          "10/2018",
          "11/2018",
          "12/2018",
          "01/2019",
          "02/2019",
          "03/2019",
          "04/2019",
          "05/2019",
          "06/2019",
          "07/2019",
          "08/2019",
          "09/2019",
          "10/2019",
          "11/2019",
          "12/2019",
          "01/2020",
          "02/2020",
          "03/2020",
          "04/2020",
          "05/2020",
          "06/2020",
          "07/2020",
          "08/2020",
          "09/2020",
          "10/2020",
          "11/2020",
          "12/2020",
          "01/2021",
          "02/2021",
          "03/2021",
          "04/2021",
          "05/2021",
          "06/2021",
          "07/2021",
          "08/2021",
          "09/2021",
          "10/2021",
          "11/2021",
          "12/2021",
          "01/2022"
         ],
         "xaxis": "x",
         "y": {
          "bdata": "AwAAAEoAAAAaAAAAbAAAACYAAAADAQAAQgAAAEUAAAAnAAAARgAAAGYAAADdAAAAuQAAAL8AAADEAAAA4AAAALQAAACFAQAA7AEAAM0BAACxAQAAqgEAAMcBAAAiAwAAjAUAAMMEAABXBAAAjAMAAHUEAAB8BgAAgQYAAKIFAACVBQAAYQUAAKUEAAA/CAAAtAgAAOQKAAChDgAA1A4AADEQAABbFAAA3BUAAAMSAAAiEwAAURIAADgRAABWFwAAwhMAAMsXAACjFQAAiRUAAOgWAAC8GgAAhxwAAD4ZAAA1GQAAqhkAADwaAAD5KQAASSQAAFopAAAPJgAAlycAABAoAAAKMQAAsjQAAE0xAAC8MgAASzIAAPkzAABmRQAAe0EAAHNMAAAjSAAAG0oAANBMAAB9VwAA2lUAAE1KAACvRwAAr0oAADlJAAC4YAAAolkAADNeAADTWAAAEVoAAOddAACkZgAAnmEAAGtaAAA+XQAAkFoAAJdbAADbdwAAF2kAABl6AACrdAAAfngAAFt5AABygwAAv44AAAKEAAChgAAAF4IAAFSBAAC/mQAAFYkAAJeoAAC5ngAAjasAAMWrAACSwwAALMQAAJupAAAkrgAAxqkAAGqtAAC/0gAA9cEAAMndAABA1gAAWuQAAAjnAACs/QAADQEBAEzfAADZ5QAAdtUAAKzTAADZ/QAAy/oAAKwHAQDM+AAAtgcBAKEBAQAVGAEAmgMBAEPnAADd5QAAe88AAKXZAAA3+gAAu+4AALAQAQDXDwEALx8BAHYhAQDiMQEAPRsBACb9AAD7BwEAuPIAADr0AACsEgEA6gcBAGM8AQCjMgEASjYBABE8AQBPWwEAnDkBACEYAQBLGAEAewEBALERAQCAIwEAwhcBAJ5JAQD3LAEAnjoBAA5CAQBWRQEAwUABAOUcAQDcEwEALPgAAI36AADRBQEAgQYBAFuzAAC7VQAAg3wAAAagAABqugAAAcUAAO+7AAD/vgAAk6MAAGCmAACysQAAhacAAG/TAAAV0gAAouEAAPbhAAAn7AAAd9wAAD21AACYwAAAqLAAAF+9AACxewAA",
          "dtype": "i4"
         },
         "yaxis": "y"
        }
       ],
       "layout": {
        "legend": {
         "tracegroupgap": 0
        },
        "template": {
         "data": {
          "bar": [
           {
            "error_x": {
             "color": "#2a3f5f"
            },
            "error_y": {
             "color": "#2a3f5f"
            },
            "marker": {
             "line": {
              "color": "#E5ECF6",
              "width": 0.5
             },
             "pattern": {
              "fillmode": "overlay",
              "size": 10,
              "solidity": 0.2
             }
            },
            "type": "bar"
           }
          ],
          "barpolar": [
           {
            "marker": {
             "line": {
              "color": "#E5ECF6",
              "width": 0.5
             },
             "pattern": {
              "fillmode": "overlay",
              "size": 10,
              "solidity": 0.2
             }
            },
            "type": "barpolar"
           }
          ],
          "carpet": [
           {
            "aaxis": {
             "endlinecolor": "#2a3f5f",
             "gridcolor": "white",
             "linecolor": "white",
             "minorgridcolor": "white",
             "startlinecolor": "#2a3f5f"
            },
            "baxis": {
             "endlinecolor": "#2a3f5f",
             "gridcolor": "white",
             "linecolor": "white",
             "minorgridcolor": "white",
             "startlinecolor": "#2a3f5f"
            },
            "type": "carpet"
           }
          ],
          "choropleth": [
           {
            "colorbar": {
             "outlinewidth": 0,
             "ticks": ""
            },
            "type": "choropleth"
           }
          ],
          "contour": [
           {
            "colorbar": {
             "outlinewidth": 0,
             "ticks": ""
            },
            "colorscale": [
             [
              0,
              "#0d0887"
             ],
             [
              0.1111111111111111,
              "#46039f"
             ],
             [
              0.2222222222222222,
              "#7201a8"
             ],
             [
              0.3333333333333333,
              "#9c179e"
             ],
             [
              0.4444444444444444,
              "#bd3786"
             ],
             [
              0.5555555555555556,
              "#d8576b"
             ],
             [
              0.6666666666666666,
              "#ed7953"
             ],
             [
              0.7777777777777778,
              "#fb9f3a"
             ],
             [
              0.8888888888888888,
              "#fdca26"
             ],
             [
              1,
              "#f0f921"
             ]
            ],
            "type": "contour"
           }
          ],
          "contourcarpet": [
           {
            "colorbar": {
             "outlinewidth": 0,
             "ticks": ""
            },
            "type": "contourcarpet"
           }
          ],
          "heatmap": [
           {
            "colorbar": {
             "outlinewidth": 0,
             "ticks": ""
            },
            "colorscale": [
             [
              0,
              "#0d0887"
             ],
             [
              0.1111111111111111,
              "#46039f"
             ],
             [
              0.2222222222222222,
              "#7201a8"
             ],
             [
              0.3333333333333333,
              "#9c179e"
             ],
             [
              0.4444444444444444,
              "#bd3786"
             ],
             [
              0.5555555555555556,
              "#d8576b"
             ],
             [
              0.6666666666666666,
              "#ed7953"
             ],
             [
              0.7777777777777778,
              "#fb9f3a"
             ],
             [
              0.8888888888888888,
              "#fdca26"
             ],
             [
              1,
              "#f0f921"
             ]
            ],
            "type": "heatmap"
           }
          ],
          "histogram": [
           {
            "marker": {
             "pattern": {
              "fillmode": "overlay",
              "size": 10,
              "solidity": 0.2
             }
            },
            "type": "histogram"
           }
          ],
          "histogram2d": [
           {
            "colorbar": {
             "outlinewidth": 0,
             "ticks": ""
            },
            "colorscale": [
             [
              0,
              "#0d0887"
             ],
             [
              0.1111111111111111,
              "#46039f"
             ],
             [
              0.2222222222222222,
              "#7201a8"
             ],
             [
              0.3333333333333333,
              "#9c179e"
             ],
             [
              0.4444444444444444,
              "#bd3786"
             ],
             [
              0.5555555555555556,
              "#d8576b"
             ],
             [
              0.6666666666666666,
              "#ed7953"
             ],
             [
              0.7777777777777778,
              "#fb9f3a"
             ],
             [
              0.8888888888888888,
              "#fdca26"
             ],
             [
              1,
              "#f0f921"
             ]
            ],
            "type": "histogram2d"
           }
          ],
          "histogram2dcontour": [
           {
            "colorbar": {
             "outlinewidth": 0,
             "ticks": ""
            },
            "colorscale": [
             [
              0,
              "#0d0887"
             ],
             [
              0.1111111111111111,
              "#46039f"
             ],
             [
              0.2222222222222222,
              "#7201a8"
             ],
             [
              0.3333333333333333,
              "#9c179e"
             ],
             [
              0.4444444444444444,
              "#bd3786"
             ],
             [
              0.5555555555555556,
              "#d8576b"
             ],
             [
              0.6666666666666666,
              "#ed7953"
             ],
             [
              0.7777777777777778,
              "#fb9f3a"
             ],
             [
              0.8888888888888888,
              "#fdca26"
             ],
             [
              1,
              "#f0f921"
             ]
            ],
            "type": "histogram2dcontour"
           }
          ],
          "mesh3d": [
           {
            "colorbar": {
             "outlinewidth": 0,
             "ticks": ""
            },
            "type": "mesh3d"
           }
          ],
          "parcoords": [
           {
            "line": {
             "colorbar": {
              "outlinewidth": 0,
              "ticks": ""
             }
            },
            "type": "parcoords"
           }
          ],
          "pie": [
           {
            "automargin": true,
            "type": "pie"
           }
          ],
          "scatter": [
           {
            "fillpattern": {
             "fillmode": "overlay",
             "size": 10,
             "solidity": 0.2
            },
            "type": "scatter"
           }
          ],
          "scatter3d": [
           {
            "line": {
             "colorbar": {
              "outlinewidth": 0,
              "ticks": ""
             }
            },
            "marker": {
             "colorbar": {
              "outlinewidth": 0,
              "ticks": ""
             }
            },
            "type": "scatter3d"
           }
          ],
          "scattercarpet": [
           {
            "marker": {
             "colorbar": {
              "outlinewidth": 0,
              "ticks": ""
             }
            },
            "type": "scattercarpet"
           }
          ],
          "scattergeo": [
           {
            "marker": {
             "colorbar": {
              "outlinewidth": 0,
              "ticks": ""
             }
            },
            "type": "scattergeo"
           }
          ],
          "scattergl": [
           {
            "marker": {
             "colorbar": {
              "outlinewidth": 0,
              "ticks": ""
             }
            },
            "type": "scattergl"
           }
          ],
          "scattermap": [
           {
            "marker": {
             "colorbar": {
              "outlinewidth": 0,
              "ticks": ""
             }
            },
            "type": "scattermap"
           }
          ],
          "scattermapbox": [
           {
            "marker": {
             "colorbar": {
              "outlinewidth": 0,
              "ticks": ""
             }
            },
            "type": "scattermapbox"
           }
          ],
          "scatterpolar": [
           {
            "marker": {
             "colorbar": {
              "outlinewidth": 0,
              "ticks": ""
             }
            },
            "type": "scatterpolar"
           }
          ],
          "scatterpolargl": [
           {
            "marker": {
             "colorbar": {
              "outlinewidth": 0,
              "ticks": ""
             }
            },
            "type": "scatterpolargl"
           }
          ],
          "scatterternary": [
           {
            "marker": {
             "colorbar": {
              "outlinewidth": 0,
              "ticks": ""
             }
            },
            "type": "scatterternary"
           }
          ],
          "surface": [
           {
            "colorbar": {
             "outlinewidth": 0,
             "ticks": ""
            },
            "colorscale": [
             [
              0,
              "#0d0887"
             ],
             [
              0.1111111111111111,
              "#46039f"
             ],
             [
              0.2222222222222222,
              "#7201a8"
             ],
             [
              0.3333333333333333,
              "#9c179e"
             ],
             [
              0.4444444444444444,
              "#bd3786"
             ],
             [
              0.5555555555555556,
              "#d8576b"
             ],
             [
              0.6666666666666666,
              "#ed7953"
             ],
             [
              0.7777777777777778,
              "#fb9f3a"
             ],
             [
              0.8888888888888888,
              "#fdca26"
             ],
             [
              1,
              "#f0f921"
             ]
            ],
            "type": "surface"
           }
          ],
          "table": [
           {
            "cells": {
             "fill": {
              "color": "#EBF0F8"
             },
             "line": {
              "color": "white"
             }
            },
            "header": {
             "fill": {
              "color": "#C8D4E3"
             },
             "line": {
              "color": "white"
             }
            },
            "type": "table"
           }
          ]
         },
         "layout": {
          "annotationdefaults": {
           "arrowcolor": "#2a3f5f",
           "arrowhead": 0,
           "arrowwidth": 1
          },
          "autotypenumbers": "strict",
          "coloraxis": {
           "colorbar": {
            "outlinewidth": 0,
            "ticks": ""
           }
          },
          "colorscale": {
           "diverging": [
            [
             0,
             "#8e0152"
            ],
            [
             0.1,
             "#c51b7d"
            ],
            [
             0.2,
             "#de77ae"
            ],
            [
             0.3,
             "#f1b6da"
            ],
            [
             0.4,
             "#fde0ef"
            ],
            [
             0.5,
             "#f7f7f7"
            ],
            [
             0.6,
             "#e6f5d0"
            ],
            [
             0.7,
             "#b8e186"
            ],
            [
             0.8,
             "#7fbc41"
            ],
            [
             0.9,
             "#4d9221"
            ],
            [
             1,
             "#276419"
            ]
           ],
           "sequential": [
            [
             0,
             "#0d0887"
            ],
            [
             0.1111111111111111,
             "#46039f"
            ],
            [
             0.2222222222222222,
             "#7201a8"
            ],
            [
             0.3333333333333333,
             "#9c179e"
            ],
            [
             0.4444444444444444,
             "#bd3786"
            ],
            [
             0.5555555555555556,
             "#d8576b"
            ],
            [
             0.6666666666666666,
             "#ed7953"
            ],
            [
             0.7777777777777778,
             "#fb9f3a"
            ],
            [
             0.8888888888888888,
             "#fdca26"
            ],
            [
             1,
             "#f0f921"
            ]
           ],
           "sequentialminus": [
            [
             0,
             "#0d0887"
            ],
            [
             0.1111111111111111,
             "#46039f"
            ],
            [
             0.2222222222222222,
             "#7201a8"
            ],
            [
             0.3333333333333333,
             "#9c179e"
            ],
            [
             0.4444444444444444,
             "#bd3786"
            ],
            [
             0.5555555555555556,
             "#d8576b"
            ],
            [
             0.6666666666666666,
             "#ed7953"
            ],
            [
             0.7777777777777778,
             "#fb9f3a"
            ],
            [
             0.8888888888888888,
             "#fdca26"
            ],
            [
             1,
             "#f0f921"
            ]
           ]
          },
          "colorway": [
           "#636efa",
           "#EF553B",
           "#00cc96",
           "#ab63fa",
           "#FFA15A",
           "#19d3f3",
           "#FF6692",
           "#B6E880",
           "#FF97FF",
           "#FECB52"
          ],
          "font": {
           "color": "#2a3f5f"
          },
          "geo": {
           "bgcolor": "white",
           "lakecolor": "white",
           "landcolor": "#E5ECF6",
           "showlakes": true,
           "showland": true,
           "subunitcolor": "white"
          },
          "hoverlabel": {
           "align": "left"
          },
          "hovermode": "closest",
          "mapbox": {
           "style": "light"
          },
          "paper_bgcolor": "white",
          "plot_bgcolor": "#E5ECF6",
          "polar": {
           "angularaxis": {
            "gridcolor": "white",
            "linecolor": "white",
            "ticks": ""
           },
           "bgcolor": "#E5ECF6",
           "radialaxis": {
            "gridcolor": "white",
            "linecolor": "white",
            "ticks": ""
           }
          },
          "scene": {
           "xaxis": {
            "backgroundcolor": "#E5ECF6",
            "gridcolor": "white",
            "gridwidth": 2,
            "linecolor": "white",
            "showbackground": true,
            "ticks": "",
            "zerolinecolor": "white"
           },
           "yaxis": {
            "backgroundcolor": "#E5ECF6",
            "gridcolor": "white",
            "gridwidth": 2,
            "linecolor": "white",
            "showbackground": true,
            "ticks": "",
            "zerolinecolor": "white"
           },
           "zaxis": {
            "backgroundcolor": "#E5ECF6",
            "gridcolor": "white",
            "gridwidth": 2,
            "linecolor": "white",
            "showbackground": true,
            "ticks": "",
            "zerolinecolor": "white"
           }
          },
          "shapedefaults": {
           "line": {
            "color": "#2a3f5f"
           }
          },
          "ternary": {
           "aaxis": {
            "gridcolor": "white",
            "linecolor": "white",
            "ticks": ""
           },
           "baxis": {
            "gridcolor": "white",
            "linecolor": "white",
            "ticks": ""
           },
           "bgcolor": "#E5ECF6",
           "caxis": {
            "gridcolor": "white",
            "linecolor": "white",
            "ticks": ""
           }
          },
          "title": {
           "x": 0.05
          },
          "xaxis": {
           "automargin": true,
           "gridcolor": "white",
           "linecolor": "white",
           "ticks": "",
           "title": {
            "standoff": 15
           },
           "zerolinecolor": "white",
           "zerolinewidth": 2
          },
          "yaxis": {
           "automargin": true,
           "gridcolor": "white",
           "linecolor": "white",
           "ticks": "",
           "title": {
            "standoff": 15
           },
           "zerolinecolor": "white",
           "zerolinewidth": 2
          }
         }
        },
        "title": {
         "text": "Figure 4: Monthly Yelp Review Volume by Year"
        },
        "xaxis": {
         "anchor": "y",
         "domain": [
          0,
          1
         ],
         "title": {
          "text": "Month-Year"
         }
        },
        "yaxis": {
         "anchor": "x",
         "domain": [
          0,
          1
         ],
         "title": {
          "text": "Review Count"
         }
        }
       }
      }
     },
     "metadata": {},
     "output_type": "display_data"
    },
    {
     "data": {
      "application/vnd.plotly.v1+json": {
       "config": {
        "plotlyServerURL": "https://plot.ly"
       },
       "data": [
        {
         "hovertemplate": "Month-Year=%{x}<br>Average Star Rating=%{y}<extra></extra>",
         "legendgroup": "",
         "line": {
          "color": "#636efa",
          "dash": "solid"
         },
         "marker": {
          "symbol": "circle"
         },
         "mode": "lines",
         "name": "",
         "orientation": "v",
         "showlegend": false,
         "type": "scatter",
         "x": [
          "02/2005",
          "03/2005",
          "04/2005",
          "05/2005",
          "06/2005",
          "07/2005",
          "08/2005",
          "09/2005",
          "10/2005",
          "11/2005",
          "12/2005",
          "01/2006",
          "02/2006",
          "03/2006",
          "04/2006",
          "05/2006",
          "06/2006",
          "07/2006",
          "08/2006",
          "09/2006",
          "10/2006",
          "11/2006",
          "12/2006",
          "01/2007",
          "02/2007",
          "03/2007",
          "04/2007",
          "05/2007",
          "06/2007",
          "07/2007",
          "08/2007",
          "09/2007",
          "10/2007",
          "11/2007",
          "12/2007",
          "01/2008",
          "02/2008",
          "03/2008",
          "04/2008",
          "05/2008",
          "06/2008",
          "07/2008",
          "08/2008",
          "09/2008",
          "10/2008",
          "11/2008",
          "12/2008",
          "01/2009",
          "02/2009",
          "03/2009",
          "04/2009",
          "05/2009",
          "06/2009",
          "07/2009",
          "08/2009",
          "09/2009",
          "10/2009",
          "11/2009",
          "12/2009",
          "01/2010",
          "02/2010",
          "03/2010",
          "04/2010",
          "05/2010",
          "06/2010",
          "07/2010",
          "08/2010",
          "09/2010",
          "10/2010",
          "11/2010",
          "12/2010",
          "01/2011",
          "02/2011",
          "03/2011",
          "04/2011",
          "05/2011",
          "06/2011",
          "07/2011",
          "08/2011",
          "09/2011",
          "10/2011",
          "11/2011",
          "12/2011",
          "01/2012",
          "02/2012",
          "03/2012",
          "04/2012",
          "05/2012",
          "06/2012",
          "07/2012",
          "08/2012",
          "09/2012",
          "10/2012",
          "11/2012",
          "12/2012",
          "01/2013",
          "02/2013",
          "03/2013",
          "04/2013",
          "05/2013",
          "06/2013",
          "07/2013",
          "08/2013",
          "09/2013",
          "10/2013",
          "11/2013",
          "12/2013",
          "01/2014",
          "02/2014",
          "03/2014",
          "04/2014",
          "05/2014",
          "06/2014",
          "07/2014",
          "08/2014",
          "09/2014",
          "10/2014",
          "11/2014",
          "12/2014",
          "01/2015",
          "02/2015",
          "03/2015",
          "04/2015",
          "05/2015",
          "06/2015",
          "07/2015",
          "08/2015",
          "09/2015",
          "10/2015",
          "11/2015",
          "12/2015",
          "01/2016",
          "02/2016",
          "03/2016",
          "04/2016",
          "05/2016",
          "06/2016",
          "07/2016",
          "08/2016",
          "09/2016",
          "10/2016",
          "11/2016",
          "12/2016",
          "01/2017",
          "02/2017",
          "03/2017",
          "04/2017",
          "05/2017",
          "06/2017",
          "07/2017",
          "08/2017",
          "09/2017",
          "10/2017",
          "11/2017",
          "12/2017",
          "01/2018",
          "02/2018",
          "03/2018",
          "04/2018",
          "05/2018",
          "06/2018",
          "07/2018",
          "08/2018",
          "09/2018",
          "10/2018",
          "11/2018",
          "12/2018",
          "01/2019",
          "02/2019",
          "03/2019",
          "04/2019",
          "05/2019",
          "06/2019",
          "07/2019",
          "08/2019",
          "09/2019",
          "10/2019",
          "11/2019",
          "12/2019",
          "01/2020",
          "02/2020",
          "03/2020",
          "04/2020",
          "05/2020",
          "06/2020",
          "07/2020",
          "08/2020",
          "09/2020",
          "10/2020",
          "11/2020",
          "12/2020",
          "01/2021",
          "02/2021",
          "03/2021",
          "04/2021",
          "05/2021",
          "06/2021",
          "07/2021",
          "08/2021",
          "09/2021",
          "10/2021",
          "11/2021",
          "12/2021",
          "01/2022"
         ],
         "xaxis": "x",
         "y": [
          4.33,
          3.65,
          4.15,
          4.08,
          4.03,
          3.67,
          4.17,
          3.88,
          4.21,
          3.84,
          4.11,
          3.99,
          4.13,
          4.05,
          3.92,
          3.96,
          3.99,
          3.97,
          3.98,
          4.03,
          3.93,
          3.91,
          4.12,
          3.89,
          3.71,
          3.73,
          3.93,
          3.93,
          3.97,
          3.89,
          3.96,
          3.92,
          3.82,
          3.82,
          3.82,
          3.86,
          3.88,
          3.86,
          3.91,
          3.94,
          3.8,
          3.74,
          3.75,
          3.75,
          3.74,
          3.76,
          3.77,
          3.76,
          3.7,
          3.72,
          3.71,
          3.7,
          3.74,
          3.71,
          3.71,
          3.73,
          3.72,
          3.74,
          3.69,
          3.72,
          3.72,
          3.72,
          3.7,
          3.72,
          3.71,
          3.75,
          3.73,
          3.71,
          3.7,
          3.75,
          3.71,
          3.74,
          3.73,
          3.74,
          3.71,
          3.7,
          3.71,
          3.71,
          3.71,
          3.68,
          3.68,
          3.68,
          3.67,
          3.71,
          3.69,
          3.68,
          3.69,
          3.66,
          3.69,
          3.67,
          3.68,
          3.67,
          3.66,
          3.68,
          3.65,
          3.71,
          3.67,
          3.68,
          3.68,
          3.65,
          3.67,
          3.68,
          3.69,
          3.69,
          3.69,
          3.7,
          3.69,
          3.74,
          3.72,
          3.74,
          3.73,
          3.72,
          3.72,
          3.72,
          3.72,
          3.72,
          3.74,
          3.73,
          3.69,
          3.75,
          3.72,
          3.72,
          3.75,
          3.72,
          3.74,
          3.76,
          3.75,
          3.75,
          3.75,
          3.77,
          3.72,
          3.78,
          3.77,
          3.78,
          3.77,
          3.76,
          3.76,
          3.78,
          3.76,
          3.74,
          3.76,
          3.76,
          3.74,
          3.8,
          3.79,
          3.78,
          3.78,
          3.76,
          3.78,
          3.79,
          3.79,
          3.76,
          3.78,
          3.79,
          3.75,
          3.8,
          3.78,
          3.79,
          3.8,
          3.77,
          3.79,
          3.79,
          3.77,
          3.77,
          3.79,
          3.78,
          3.73,
          3.82,
          3.78,
          3.77,
          3.77,
          3.75,
          3.76,
          3.76,
          3.79,
          3.75,
          3.77,
          3.75,
          3.73,
          3.78,
          3.79,
          3.83,
          3.77,
          3.73,
          3.73,
          3.76,
          3.77,
          3.76,
          3.78,
          3.83,
          3.83,
          3.85,
          3.81,
          3.75,
          3.71,
          3.68,
          3.72,
          3.69,
          3.64,
          3.62,
          3.65,
          3.68,
          3.67,
          3.7
         ],
         "yaxis": "y"
        }
       ],
       "layout": {
        "legend": {
         "tracegroupgap": 0
        },
        "template": {
         "data": {
          "bar": [
           {
            "error_x": {
             "color": "#2a3f5f"
            },
            "error_y": {
             "color": "#2a3f5f"
            },
            "marker": {
             "line": {
              "color": "#E5ECF6",
              "width": 0.5
             },
             "pattern": {
              "fillmode": "overlay",
              "size": 10,
              "solidity": 0.2
             }
            },
            "type": "bar"
           }
          ],
          "barpolar": [
           {
            "marker": {
             "line": {
              "color": "#E5ECF6",
              "width": 0.5
             },
             "pattern": {
              "fillmode": "overlay",
              "size": 10,
              "solidity": 0.2
             }
            },
            "type": "barpolar"
           }
          ],
          "carpet": [
           {
            "aaxis": {
             "endlinecolor": "#2a3f5f",
             "gridcolor": "white",
             "linecolor": "white",
             "minorgridcolor": "white",
             "startlinecolor": "#2a3f5f"
            },
            "baxis": {
             "endlinecolor": "#2a3f5f",
             "gridcolor": "white",
             "linecolor": "white",
             "minorgridcolor": "white",
             "startlinecolor": "#2a3f5f"
            },
            "type": "carpet"
           }
          ],
          "choropleth": [
           {
            "colorbar": {
             "outlinewidth": 0,
             "ticks": ""
            },
            "type": "choropleth"
           }
          ],
          "contour": [
           {
            "colorbar": {
             "outlinewidth": 0,
             "ticks": ""
            },
            "colorscale": [
             [
              0,
              "#0d0887"
             ],
             [
              0.1111111111111111,
              "#46039f"
             ],
             [
              0.2222222222222222,
              "#7201a8"
             ],
             [
              0.3333333333333333,
              "#9c179e"
             ],
             [
              0.4444444444444444,
              "#bd3786"
             ],
             [
              0.5555555555555556,
              "#d8576b"
             ],
             [
              0.6666666666666666,
              "#ed7953"
             ],
             [
              0.7777777777777778,
              "#fb9f3a"
             ],
             [
              0.8888888888888888,
              "#fdca26"
             ],
             [
              1,
              "#f0f921"
             ]
            ],
            "type": "contour"
           }
          ],
          "contourcarpet": [
           {
            "colorbar": {
             "outlinewidth": 0,
             "ticks": ""
            },
            "type": "contourcarpet"
           }
          ],
          "heatmap": [
           {
            "colorbar": {
             "outlinewidth": 0,
             "ticks": ""
            },
            "colorscale": [
             [
              0,
              "#0d0887"
             ],
             [
              0.1111111111111111,
              "#46039f"
             ],
             [
              0.2222222222222222,
              "#7201a8"
             ],
             [
              0.3333333333333333,
              "#9c179e"
             ],
             [
              0.4444444444444444,
              "#bd3786"
             ],
             [
              0.5555555555555556,
              "#d8576b"
             ],
             [
              0.6666666666666666,
              "#ed7953"
             ],
             [
              0.7777777777777778,
              "#fb9f3a"
             ],
             [
              0.8888888888888888,
              "#fdca26"
             ],
             [
              1,
              "#f0f921"
             ]
            ],
            "type": "heatmap"
           }
          ],
          "histogram": [
           {
            "marker": {
             "pattern": {
              "fillmode": "overlay",
              "size": 10,
              "solidity": 0.2
             }
            },
            "type": "histogram"
           }
          ],
          "histogram2d": [
           {
            "colorbar": {
             "outlinewidth": 0,
             "ticks": ""
            },
            "colorscale": [
             [
              0,
              "#0d0887"
             ],
             [
              0.1111111111111111,
              "#46039f"
             ],
             [
              0.2222222222222222,
              "#7201a8"
             ],
             [
              0.3333333333333333,
              "#9c179e"
             ],
             [
              0.4444444444444444,
              "#bd3786"
             ],
             [
              0.5555555555555556,
              "#d8576b"
             ],
             [
              0.6666666666666666,
              "#ed7953"
             ],
             [
              0.7777777777777778,
              "#fb9f3a"
             ],
             [
              0.8888888888888888,
              "#fdca26"
             ],
             [
              1,
              "#f0f921"
             ]
            ],
            "type": "histogram2d"
           }
          ],
          "histogram2dcontour": [
           {
            "colorbar": {
             "outlinewidth": 0,
             "ticks": ""
            },
            "colorscale": [
             [
              0,
              "#0d0887"
             ],
             [
              0.1111111111111111,
              "#46039f"
             ],
             [
              0.2222222222222222,
              "#7201a8"
             ],
             [
              0.3333333333333333,
              "#9c179e"
             ],
             [
              0.4444444444444444,
              "#bd3786"
             ],
             [
              0.5555555555555556,
              "#d8576b"
             ],
             [
              0.6666666666666666,
              "#ed7953"
             ],
             [
              0.7777777777777778,
              "#fb9f3a"
             ],
             [
              0.8888888888888888,
              "#fdca26"
             ],
             [
              1,
              "#f0f921"
             ]
            ],
            "type": "histogram2dcontour"
           }
          ],
          "mesh3d": [
           {
            "colorbar": {
             "outlinewidth": 0,
             "ticks": ""
            },
            "type": "mesh3d"
           }
          ],
          "parcoords": [
           {
            "line": {
             "colorbar": {
              "outlinewidth": 0,
              "ticks": ""
             }
            },
            "type": "parcoords"
           }
          ],
          "pie": [
           {
            "automargin": true,
            "type": "pie"
           }
          ],
          "scatter": [
           {
            "fillpattern": {
             "fillmode": "overlay",
             "size": 10,
             "solidity": 0.2
            },
            "type": "scatter"
           }
          ],
          "scatter3d": [
           {
            "line": {
             "colorbar": {
              "outlinewidth": 0,
              "ticks": ""
             }
            },
            "marker": {
             "colorbar": {
              "outlinewidth": 0,
              "ticks": ""
             }
            },
            "type": "scatter3d"
           }
          ],
          "scattercarpet": [
           {
            "marker": {
             "colorbar": {
              "outlinewidth": 0,
              "ticks": ""
             }
            },
            "type": "scattercarpet"
           }
          ],
          "scattergeo": [
           {
            "marker": {
             "colorbar": {
              "outlinewidth": 0,
              "ticks": ""
             }
            },
            "type": "scattergeo"
           }
          ],
          "scattergl": [
           {
            "marker": {
             "colorbar": {
              "outlinewidth": 0,
              "ticks": ""
             }
            },
            "type": "scattergl"
           }
          ],
          "scattermap": [
           {
            "marker": {
             "colorbar": {
              "outlinewidth": 0,
              "ticks": ""
             }
            },
            "type": "scattermap"
           }
          ],
          "scattermapbox": [
           {
            "marker": {
             "colorbar": {
              "outlinewidth": 0,
              "ticks": ""
             }
            },
            "type": "scattermapbox"
           }
          ],
          "scatterpolar": [
           {
            "marker": {
             "colorbar": {
              "outlinewidth": 0,
              "ticks": ""
             }
            },
            "type": "scatterpolar"
           }
          ],
          "scatterpolargl": [
           {
            "marker": {
             "colorbar": {
              "outlinewidth": 0,
              "ticks": ""
             }
            },
            "type": "scatterpolargl"
           }
          ],
          "scatterternary": [
           {
            "marker": {
             "colorbar": {
              "outlinewidth": 0,
              "ticks": ""
             }
            },
            "type": "scatterternary"
           }
          ],
          "surface": [
           {
            "colorbar": {
             "outlinewidth": 0,
             "ticks": ""
            },
            "colorscale": [
             [
              0,
              "#0d0887"
             ],
             [
              0.1111111111111111,
              "#46039f"
             ],
             [
              0.2222222222222222,
              "#7201a8"
             ],
             [
              0.3333333333333333,
              "#9c179e"
             ],
             [
              0.4444444444444444,
              "#bd3786"
             ],
             [
              0.5555555555555556,
              "#d8576b"
             ],
             [
              0.6666666666666666,
              "#ed7953"
             ],
             [
              0.7777777777777778,
              "#fb9f3a"
             ],
             [
              0.8888888888888888,
              "#fdca26"
             ],
             [
              1,
              "#f0f921"
             ]
            ],
            "type": "surface"
           }
          ],
          "table": [
           {
            "cells": {
             "fill": {
              "color": "#EBF0F8"
             },
             "line": {
              "color": "white"
             }
            },
            "header": {
             "fill": {
              "color": "#C8D4E3"
             },
             "line": {
              "color": "white"
             }
            },
            "type": "table"
           }
          ]
         },
         "layout": {
          "annotationdefaults": {
           "arrowcolor": "#2a3f5f",
           "arrowhead": 0,
           "arrowwidth": 1
          },
          "autotypenumbers": "strict",
          "coloraxis": {
           "colorbar": {
            "outlinewidth": 0,
            "ticks": ""
           }
          },
          "colorscale": {
           "diverging": [
            [
             0,
             "#8e0152"
            ],
            [
             0.1,
             "#c51b7d"
            ],
            [
             0.2,
             "#de77ae"
            ],
            [
             0.3,
             "#f1b6da"
            ],
            [
             0.4,
             "#fde0ef"
            ],
            [
             0.5,
             "#f7f7f7"
            ],
            [
             0.6,
             "#e6f5d0"
            ],
            [
             0.7,
             "#b8e186"
            ],
            [
             0.8,
             "#7fbc41"
            ],
            [
             0.9,
             "#4d9221"
            ],
            [
             1,
             "#276419"
            ]
           ],
           "sequential": [
            [
             0,
             "#0d0887"
            ],
            [
             0.1111111111111111,
             "#46039f"
            ],
            [
             0.2222222222222222,
             "#7201a8"
            ],
            [
             0.3333333333333333,
             "#9c179e"
            ],
            [
             0.4444444444444444,
             "#bd3786"
            ],
            [
             0.5555555555555556,
             "#d8576b"
            ],
            [
             0.6666666666666666,
             "#ed7953"
            ],
            [
             0.7777777777777778,
             "#fb9f3a"
            ],
            [
             0.8888888888888888,
             "#fdca26"
            ],
            [
             1,
             "#f0f921"
            ]
           ],
           "sequentialminus": [
            [
             0,
             "#0d0887"
            ],
            [
             0.1111111111111111,
             "#46039f"
            ],
            [
             0.2222222222222222,
             "#7201a8"
            ],
            [
             0.3333333333333333,
             "#9c179e"
            ],
            [
             0.4444444444444444,
             "#bd3786"
            ],
            [
             0.5555555555555556,
             "#d8576b"
            ],
            [
             0.6666666666666666,
             "#ed7953"
            ],
            [
             0.7777777777777778,
             "#fb9f3a"
            ],
            [
             0.8888888888888888,
             "#fdca26"
            ],
            [
             1,
             "#f0f921"
            ]
           ]
          },
          "colorway": [
           "#636efa",
           "#EF553B",
           "#00cc96",
           "#ab63fa",
           "#FFA15A",
           "#19d3f3",
           "#FF6692",
           "#B6E880",
           "#FF97FF",
           "#FECB52"
          ],
          "font": {
           "color": "#2a3f5f"
          },
          "geo": {
           "bgcolor": "white",
           "lakecolor": "white",
           "landcolor": "#E5ECF6",
           "showlakes": true,
           "showland": true,
           "subunitcolor": "white"
          },
          "hoverlabel": {
           "align": "left"
          },
          "hovermode": "closest",
          "mapbox": {
           "style": "light"
          },
          "paper_bgcolor": "white",
          "plot_bgcolor": "#E5ECF6",
          "polar": {
           "angularaxis": {
            "gridcolor": "white",
            "linecolor": "white",
            "ticks": ""
           },
           "bgcolor": "#E5ECF6",
           "radialaxis": {
            "gridcolor": "white",
            "linecolor": "white",
            "ticks": ""
           }
          },
          "scene": {
           "xaxis": {
            "backgroundcolor": "#E5ECF6",
            "gridcolor": "white",
            "gridwidth": 2,
            "linecolor": "white",
            "showbackground": true,
            "ticks": "",
            "zerolinecolor": "white"
           },
           "yaxis": {
            "backgroundcolor": "#E5ECF6",
            "gridcolor": "white",
            "gridwidth": 2,
            "linecolor": "white",
            "showbackground": true,
            "ticks": "",
            "zerolinecolor": "white"
           },
           "zaxis": {
            "backgroundcolor": "#E5ECF6",
            "gridcolor": "white",
            "gridwidth": 2,
            "linecolor": "white",
            "showbackground": true,
            "ticks": "",
            "zerolinecolor": "white"
           }
          },
          "shapedefaults": {
           "line": {
            "color": "#2a3f5f"
           }
          },
          "ternary": {
           "aaxis": {
            "gridcolor": "white",
            "linecolor": "white",
            "ticks": ""
           },
           "baxis": {
            "gridcolor": "white",
            "linecolor": "white",
            "ticks": ""
           },
           "bgcolor": "#E5ECF6",
           "caxis": {
            "gridcolor": "white",
            "linecolor": "white",
            "ticks": ""
           }
          },
          "title": {
           "x": 0.05
          },
          "xaxis": {
           "automargin": true,
           "gridcolor": "white",
           "linecolor": "white",
           "ticks": "",
           "title": {
            "standoff": 15
           },
           "zerolinecolor": "white",
           "zerolinewidth": 2
          },
          "yaxis": {
           "automargin": true,
           "gridcolor": "white",
           "linecolor": "white",
           "ticks": "",
           "title": {
            "standoff": 15
           },
           "zerolinecolor": "white",
           "zerolinewidth": 2
          }
         }
        },
        "title": {
         "text": "Figure 5: Monthly Average Yelp Star Rating by Year"
        },
        "xaxis": {
         "anchor": "y",
         "domain": [
          0,
          1
         ],
         "title": {
          "text": "Month-Year"
         }
        },
        "yaxis": {
         "anchor": "x",
         "domain": [
          0,
          1
         ],
         "title": {
          "text": "Average Star Rating"
         }
        }
       }
      }
     },
     "metadata": {},
     "output_type": "display_data"
    }
   ],
   "source": [
    "# Total reviews by each star amount and the average star review for each month in every year\n",
    "df = cur.execute('''\n",
    "                SELECT \n",
    "                    YEAR(review_date) AS year,\n",
    "                    MONTH(review_date) AS month,\n",
    "                    SUM(CASE WHEN stars=1 THEN 1 ELSE 0 END) AS one_star_reviews,\n",
    "                    SUM(CASE WHEN stars=2 THEN 1 ELSE 0 END) AS two_star_reviews,\n",
    "                    SUM(CASE WHEN stars=3 THEN 1 ELSE 0 END) AS three_star_reviews,\n",
    "                    SUM(CASE WHEN stars=4 THEN 1 ELSE 0 END) AS four_star_reviews,\n",
    "                    SUM(CASE WHEN stars=5 THEN 1 ELSE 0 END) AS five_star_reviews,\n",
    "                    COUNT(*) AS total_reviews,\n",
    "                    SUM(stars) AS total_stars,\n",
    "                    ROUND(AVG(stars), 2) avg_rating\n",
    "                FROM yelp_reviews\n",
    "                GROUP BY 1, 2\n",
    "                ORDER BY 1, 2;\n",
    "                 ''').fetch_pandas_all()\n",
    "\n",
    "df_preview = pd.concat([df.head(5), df.tail(5)])\n",
    "\n",
    "styles = [{\n",
    "    'selector': 'caption', 'props': 'text-align: left;'\n",
    "}]\n",
    "\n",
    "display(df_preview.style.set_caption('<span style=\"font-size: 20px;\">Table 15: Monthly Review Volume & Star Metrics by Year</span>').set_table_styles(styles))\n",
    "\n",
    "# Rename columns for readability in charts\n",
    "df.rename(columns={'ONE_STAR_REVIEWS': '1 Star', 'TWO_STAR_REVIEWS': '2 Star', 'THREE_STAR_REVIEWS': '3 Star', 'FOUR_STAR_REVIEWS': '4 Star', 'FIVE_STAR_REVIEWS': '5 Star', 'TOTAL_REVIEWS': 'Total Reviews',\n",
    "                   'AVG_RATING': 'Average Rating'}, inplace=True)\n",
    "\n",
    "# Create a date column from year and month\n",
    "df['date'] = df['MONTH'].astype(str).str.zfill(2) + '/' + df['YEAR'].astype(str)\n",
    "\n",
    "# Melt into long format for counts of reviews with each star value\n",
    "long_df = df.melt(\n",
    "    id_vars=['date'],\n",
    "    value_vars=['1 Star','2 Star','3 Star','4 Star','5 Star'],\n",
    "    var_name='star',\n",
    "    value_name='count'\n",
    ")\n",
    "\n",
    "# Plot time series of star value counts by year and month\n",
    "fig = px.line(\n",
    "    long_df,\n",
    "    x='date',\n",
    "    y='count',\n",
    "    color='star',\n",
    "    labels={\n",
    "        'date':'Month-Year',\n",
    "        'count':'Review Count',\n",
    "        'star':'Star Rating'\n",
    "    },\n",
    "    title='Figure 3: Monthly Yelp Star Rating Counts by Year'\n",
    ")\n",
    "fig.show()\n",
    "\n",
    "# Melt into long format for total review counts for each month\n",
    "long_df = df.melt(\n",
    "    id_vars=['date'],\n",
    "    value_vars=['Total Reviews'],\n",
    "    var_name='reviews',\n",
    "    value_name='count'\n",
    ")\n",
    "\n",
    "# Plot time series of total reviews by year and month\n",
    "fig = px.line(\n",
    "    long_df, \n",
    "    x='date', \n",
    "    y='count', \n",
    "    labels={\n",
    "        'date': 'Month-Year',\n",
    "        'count': 'Review Count'\n",
    "        }, \n",
    "    title='Figure 4: Monthly Yelp Review Volume by Year'\n",
    ")\n",
    "fig.show()\n",
    "\n",
    "# Melt into long format for average star rating for each month\n",
    "long_df = df.melt(\n",
    "    id_vars=['date'],\n",
    "    value_vars=['Average Rating'],\n",
    "    var_name='avg_rating',\n",
    "    value_name='count'\n",
    ")\n",
    "\n",
    "# Plot time series of average star rating by year and month\n",
    "fig = px.line(\n",
    "    long_df, \n",
    "    x='date', \n",
    "    y='count', \n",
    "    labels={\n",
    "        'date': 'Month-Year',\n",
    "        'count': 'Average Star Rating'\n",
    "        }, \n",
    "    title='Figure 5: Monthly Average Yelp Star Rating by Year'\n",
    ")\n",
    "fig.show()"
   ]
  },
  {
   "cell_type": "markdown",
   "id": "392e9386",
   "metadata": {},
   "source": [
    "### Quarterly Review Volume & Star Metrics"
   ]
  },
  {
   "cell_type": "code",
   "execution_count": 33,
   "id": "3efd4419",
   "metadata": {},
   "outputs": [
    {
     "data": {
      "text/html": [
       "<style type=\"text/css\">\n",
       "#T_b00af caption {\n",
       "  text-align: left;\n",
       "}\n",
       "</style>\n",
       "<table id=\"T_b00af\">\n",
       "  <caption><span style=\"font-size: 20px;\">Table 16: Quarterly Review Volume & Star Metrics</span></caption>\n",
       "  <thead>\n",
       "    <tr>\n",
       "      <th class=\"blank level0\" >&nbsp;</th>\n",
       "      <th id=\"T_b00af_level0_col0\" class=\"col_heading level0 col0\" >QUARTER</th>\n",
       "      <th id=\"T_b00af_level0_col1\" class=\"col_heading level0 col1\" >ONE_STAR_REVIEWS</th>\n",
       "      <th id=\"T_b00af_level0_col2\" class=\"col_heading level0 col2\" >TWO_STAR_REVIEWS</th>\n",
       "      <th id=\"T_b00af_level0_col3\" class=\"col_heading level0 col3\" >THREE_STAR_REVIEWS</th>\n",
       "      <th id=\"T_b00af_level0_col4\" class=\"col_heading level0 col4\" >FOUR_STAR_REVIEWS</th>\n",
       "      <th id=\"T_b00af_level0_col5\" class=\"col_heading level0 col5\" >FIVE_STAR_REVIEWS</th>\n",
       "      <th id=\"T_b00af_level0_col6\" class=\"col_heading level0 col6\" >TOTAL_REVIEWS</th>\n",
       "      <th id=\"T_b00af_level0_col7\" class=\"col_heading level0 col7\" >TOTAL_STARS</th>\n",
       "      <th id=\"T_b00af_level0_col8\" class=\"col_heading level0 col8\" >AVG_RATING</th>\n",
       "    </tr>\n",
       "  </thead>\n",
       "  <tbody>\n",
       "    <tr>\n",
       "      <th id=\"T_b00af_level0_row0\" class=\"row_heading level0 row0\" >0</th>\n",
       "      <td id=\"T_b00af_row0_col0\" class=\"data row0 col0\" >1</td>\n",
       "      <td id=\"T_b00af_row0_col1\" class=\"data row0 col1\" >254879</td>\n",
       "      <td id=\"T_b00af_row0_col2\" class=\"data row0 col2\" >135483</td>\n",
       "      <td id=\"T_b00af_row0_col3\" class=\"data row0 col3\" >176621</td>\n",
       "      <td id=\"T_b00af_row0_col4\" class=\"data row0 col4\" >375630</td>\n",
       "      <td id=\"T_b00af_row0_col5\" class=\"data row0 col5\" >804599</td>\n",
       "      <td id=\"T_b00af_row0_col6\" class=\"data row0 col6\" >1747212</td>\n",
       "      <td id=\"T_b00af_row0_col7\" class=\"data row0 col7\" >6581223</td>\n",
       "      <td id=\"T_b00af_row0_col8\" class=\"data row0 col8\" >3.77</td>\n",
       "    </tr>\n",
       "    <tr>\n",
       "      <th id=\"T_b00af_level0_row1\" class=\"row_heading level0 row1\" >1</th>\n",
       "      <td id=\"T_b00af_row1_col0\" class=\"data row1 col0\" >2</td>\n",
       "      <td id=\"T_b00af_row1_col1\" class=\"data row1 col1\" >267952</td>\n",
       "      <td id=\"T_b00af_row1_col2\" class=\"data row1 col2\" >136048</td>\n",
       "      <td id=\"T_b00af_row1_col3\" class=\"data row1 col3\" >171950</td>\n",
       "      <td id=\"T_b00af_row1_col4\" class=\"data row1 col4\" >360521</td>\n",
       "      <td id=\"T_b00af_row1_col5\" class=\"data row1 col5\" >803312</td>\n",
       "      <td id=\"T_b00af_row1_col6\" class=\"data row1 col6\" >1739783</td>\n",
       "      <td id=\"T_b00af_row1_col7\" class=\"data row1 col7\" >6514542</td>\n",
       "      <td id=\"T_b00af_row1_col8\" class=\"data row1 col8\" >3.74</td>\n",
       "    </tr>\n",
       "    <tr>\n",
       "      <th id=\"T_b00af_level0_row2\" class=\"row_heading level0 row2\" >2</th>\n",
       "      <td id=\"T_b00af_row2_col0\" class=\"data row2 col0\" >3</td>\n",
       "      <td id=\"T_b00af_row2_col1\" class=\"data row2 col1\" >288448</td>\n",
       "      <td id=\"T_b00af_row2_col2\" class=\"data row2 col2\" >145698</td>\n",
       "      <td id=\"T_b00af_row2_col3\" class=\"data row2 col3\" >182094</td>\n",
       "      <td id=\"T_b00af_row2_col4\" class=\"data row2 col4\" >379363</td>\n",
       "      <td id=\"T_b00af_row2_col5\" class=\"data row2 col5\" >860782</td>\n",
       "      <td id=\"T_b00af_row2_col6\" class=\"data row2 col6\" >1856385</td>\n",
       "      <td id=\"T_b00af_row2_col7\" class=\"data row2 col7\" >6947488</td>\n",
       "      <td id=\"T_b00af_row2_col8\" class=\"data row2 col8\" >3.74</td>\n",
       "    </tr>\n",
       "    <tr>\n",
       "      <th id=\"T_b00af_level0_row3\" class=\"row_heading level0 row3\" >3</th>\n",
       "      <td id=\"T_b00af_row3_col0\" class=\"data row3 col0\" >4</td>\n",
       "      <td id=\"T_b00af_row3_col1\" class=\"data row3 col1\" >258282</td>\n",
       "      <td id=\"T_b00af_row3_col2\" class=\"data row3 col2\" >127011</td>\n",
       "      <td id=\"T_b00af_row3_col3\" class=\"data row3 col3\" >161269</td>\n",
       "      <td id=\"T_b00af_row3_col4\" class=\"data row3 col4\" >337404</td>\n",
       "      <td id=\"T_b00af_row3_col5\" class=\"data row3 col5\" >762934</td>\n",
       "      <td id=\"T_b00af_row3_col6\" class=\"data row3 col6\" >1646900</td>\n",
       "      <td id=\"T_b00af_row3_col7\" class=\"data row3 col7\" >6160397</td>\n",
       "      <td id=\"T_b00af_row3_col8\" class=\"data row3 col8\" >3.74</td>\n",
       "    </tr>\n",
       "  </tbody>\n",
       "</table>\n"
      ],
      "text/plain": [
       "<pandas.io.formats.style.Styler at 0x229d999df90>"
      ]
     },
     "metadata": {},
     "output_type": "display_data"
    },
    {
     "data": {
      "application/vnd.plotly.v1+json": {
       "config": {
        "plotlyServerURL": "https://plot.ly"
       },
       "data": [
        {
         "hovertemplate": "Star Rating=1 Star<br>Quarter=%{x}<br>Review Count=%{y}<extra></extra>",
         "legendgroup": "1 Star",
         "line": {
          "color": "#636efa",
          "dash": "solid"
         },
         "marker": {
          "symbol": "circle"
         },
         "mode": "lines",
         "name": "1 Star",
         "orientation": "v",
         "showlegend": true,
         "type": "scatter",
         "x": {
          "bdata": "AQIDBA==",
          "dtype": "i1"
         },
         "xaxis": "x",
         "y": {
          "bdata": "n+MDALAWBADAZgQA6vADAA==",
          "dtype": "i4"
         },
         "yaxis": "y"
        },
        {
         "hovertemplate": "Star Rating=2 Star<br>Quarter=%{x}<br>Review Count=%{y}<extra></extra>",
         "legendgroup": "2 Star",
         "line": {
          "color": "#EF553B",
          "dash": "solid"
         },
         "marker": {
          "symbol": "circle"
         },
         "mode": "lines",
         "name": "2 Star",
         "orientation": "v",
         "showlegend": true,
         "type": "scatter",
         "x": {
          "bdata": "AQIDBA==",
          "dtype": "i1"
         },
         "xaxis": "x",
         "y": {
          "bdata": "OxECAHATAgAiOQIAI/ABAA==",
          "dtype": "i4"
         },
         "yaxis": "y"
        },
        {
         "hovertemplate": "Star Rating=3 Star<br>Quarter=%{x}<br>Review Count=%{y}<extra></extra>",
         "legendgroup": "3 Star",
         "line": {
          "color": "#00cc96",
          "dash": "solid"
         },
         "marker": {
          "symbol": "circle"
         },
         "mode": "lines",
         "name": "3 Star",
         "orientation": "v",
         "showlegend": true,
         "type": "scatter",
         "x": {
          "bdata": "AQIDBA==",
          "dtype": "i1"
         },
         "xaxis": "x",
         "y": {
          "bdata": "7bECAK6fAgBOxwIA9XUCAA==",
          "dtype": "i4"
         },
         "yaxis": "y"
        },
        {
         "hovertemplate": "Star Rating=4 Star<br>Quarter=%{x}<br>Review Count=%{y}<extra></extra>",
         "legendgroup": "4 Star",
         "line": {
          "color": "#ab63fa",
          "dash": "solid"
         },
         "marker": {
          "symbol": "circle"
         },
         "mode": "lines",
         "name": "4 Star",
         "orientation": "v",
         "showlegend": true,
         "type": "scatter",
         "x": {
          "bdata": "AQIDBA==",
          "dtype": "i1"
         },
         "xaxis": "x",
         "y": {
          "bdata": "TrsFAEmABQDjyQUA/CUFAA==",
          "dtype": "i4"
         },
         "yaxis": "y"
        },
        {
         "hovertemplate": "Star Rating=5 Star<br>Quarter=%{x}<br>Review Count=%{y}<extra></extra>",
         "legendgroup": "5 Star",
         "line": {
          "color": "#FFA15A",
          "dash": "solid"
         },
         "marker": {
          "symbol": "circle"
         },
         "mode": "lines",
         "name": "5 Star",
         "orientation": "v",
         "showlegend": true,
         "type": "scatter",
         "x": {
          "bdata": "AQIDBA==",
          "dtype": "i1"
         },
         "xaxis": "x",
         "y": {
          "bdata": "90YMAPBBDABuIg0ANqQLAA==",
          "dtype": "i4"
         },
         "yaxis": "y"
        }
       ],
       "layout": {
        "legend": {
         "title": {
          "text": "Star Rating"
         },
         "tracegroupgap": 0
        },
        "template": {
         "data": {
          "bar": [
           {
            "error_x": {
             "color": "#2a3f5f"
            },
            "error_y": {
             "color": "#2a3f5f"
            },
            "marker": {
             "line": {
              "color": "#E5ECF6",
              "width": 0.5
             },
             "pattern": {
              "fillmode": "overlay",
              "size": 10,
              "solidity": 0.2
             }
            },
            "type": "bar"
           }
          ],
          "barpolar": [
           {
            "marker": {
             "line": {
              "color": "#E5ECF6",
              "width": 0.5
             },
             "pattern": {
              "fillmode": "overlay",
              "size": 10,
              "solidity": 0.2
             }
            },
            "type": "barpolar"
           }
          ],
          "carpet": [
           {
            "aaxis": {
             "endlinecolor": "#2a3f5f",
             "gridcolor": "white",
             "linecolor": "white",
             "minorgridcolor": "white",
             "startlinecolor": "#2a3f5f"
            },
            "baxis": {
             "endlinecolor": "#2a3f5f",
             "gridcolor": "white",
             "linecolor": "white",
             "minorgridcolor": "white",
             "startlinecolor": "#2a3f5f"
            },
            "type": "carpet"
           }
          ],
          "choropleth": [
           {
            "colorbar": {
             "outlinewidth": 0,
             "ticks": ""
            },
            "type": "choropleth"
           }
          ],
          "contour": [
           {
            "colorbar": {
             "outlinewidth": 0,
             "ticks": ""
            },
            "colorscale": [
             [
              0,
              "#0d0887"
             ],
             [
              0.1111111111111111,
              "#46039f"
             ],
             [
              0.2222222222222222,
              "#7201a8"
             ],
             [
              0.3333333333333333,
              "#9c179e"
             ],
             [
              0.4444444444444444,
              "#bd3786"
             ],
             [
              0.5555555555555556,
              "#d8576b"
             ],
             [
              0.6666666666666666,
              "#ed7953"
             ],
             [
              0.7777777777777778,
              "#fb9f3a"
             ],
             [
              0.8888888888888888,
              "#fdca26"
             ],
             [
              1,
              "#f0f921"
             ]
            ],
            "type": "contour"
           }
          ],
          "contourcarpet": [
           {
            "colorbar": {
             "outlinewidth": 0,
             "ticks": ""
            },
            "type": "contourcarpet"
           }
          ],
          "heatmap": [
           {
            "colorbar": {
             "outlinewidth": 0,
             "ticks": ""
            },
            "colorscale": [
             [
              0,
              "#0d0887"
             ],
             [
              0.1111111111111111,
              "#46039f"
             ],
             [
              0.2222222222222222,
              "#7201a8"
             ],
             [
              0.3333333333333333,
              "#9c179e"
             ],
             [
              0.4444444444444444,
              "#bd3786"
             ],
             [
              0.5555555555555556,
              "#d8576b"
             ],
             [
              0.6666666666666666,
              "#ed7953"
             ],
             [
              0.7777777777777778,
              "#fb9f3a"
             ],
             [
              0.8888888888888888,
              "#fdca26"
             ],
             [
              1,
              "#f0f921"
             ]
            ],
            "type": "heatmap"
           }
          ],
          "histogram": [
           {
            "marker": {
             "pattern": {
              "fillmode": "overlay",
              "size": 10,
              "solidity": 0.2
             }
            },
            "type": "histogram"
           }
          ],
          "histogram2d": [
           {
            "colorbar": {
             "outlinewidth": 0,
             "ticks": ""
            },
            "colorscale": [
             [
              0,
              "#0d0887"
             ],
             [
              0.1111111111111111,
              "#46039f"
             ],
             [
              0.2222222222222222,
              "#7201a8"
             ],
             [
              0.3333333333333333,
              "#9c179e"
             ],
             [
              0.4444444444444444,
              "#bd3786"
             ],
             [
              0.5555555555555556,
              "#d8576b"
             ],
             [
              0.6666666666666666,
              "#ed7953"
             ],
             [
              0.7777777777777778,
              "#fb9f3a"
             ],
             [
              0.8888888888888888,
              "#fdca26"
             ],
             [
              1,
              "#f0f921"
             ]
            ],
            "type": "histogram2d"
           }
          ],
          "histogram2dcontour": [
           {
            "colorbar": {
             "outlinewidth": 0,
             "ticks": ""
            },
            "colorscale": [
             [
              0,
              "#0d0887"
             ],
             [
              0.1111111111111111,
              "#46039f"
             ],
             [
              0.2222222222222222,
              "#7201a8"
             ],
             [
              0.3333333333333333,
              "#9c179e"
             ],
             [
              0.4444444444444444,
              "#bd3786"
             ],
             [
              0.5555555555555556,
              "#d8576b"
             ],
             [
              0.6666666666666666,
              "#ed7953"
             ],
             [
              0.7777777777777778,
              "#fb9f3a"
             ],
             [
              0.8888888888888888,
              "#fdca26"
             ],
             [
              1,
              "#f0f921"
             ]
            ],
            "type": "histogram2dcontour"
           }
          ],
          "mesh3d": [
           {
            "colorbar": {
             "outlinewidth": 0,
             "ticks": ""
            },
            "type": "mesh3d"
           }
          ],
          "parcoords": [
           {
            "line": {
             "colorbar": {
              "outlinewidth": 0,
              "ticks": ""
             }
            },
            "type": "parcoords"
           }
          ],
          "pie": [
           {
            "automargin": true,
            "type": "pie"
           }
          ],
          "scatter": [
           {
            "fillpattern": {
             "fillmode": "overlay",
             "size": 10,
             "solidity": 0.2
            },
            "type": "scatter"
           }
          ],
          "scatter3d": [
           {
            "line": {
             "colorbar": {
              "outlinewidth": 0,
              "ticks": ""
             }
            },
            "marker": {
             "colorbar": {
              "outlinewidth": 0,
              "ticks": ""
             }
            },
            "type": "scatter3d"
           }
          ],
          "scattercarpet": [
           {
            "marker": {
             "colorbar": {
              "outlinewidth": 0,
              "ticks": ""
             }
            },
            "type": "scattercarpet"
           }
          ],
          "scattergeo": [
           {
            "marker": {
             "colorbar": {
              "outlinewidth": 0,
              "ticks": ""
             }
            },
            "type": "scattergeo"
           }
          ],
          "scattergl": [
           {
            "marker": {
             "colorbar": {
              "outlinewidth": 0,
              "ticks": ""
             }
            },
            "type": "scattergl"
           }
          ],
          "scattermap": [
           {
            "marker": {
             "colorbar": {
              "outlinewidth": 0,
              "ticks": ""
             }
            },
            "type": "scattermap"
           }
          ],
          "scattermapbox": [
           {
            "marker": {
             "colorbar": {
              "outlinewidth": 0,
              "ticks": ""
             }
            },
            "type": "scattermapbox"
           }
          ],
          "scatterpolar": [
           {
            "marker": {
             "colorbar": {
              "outlinewidth": 0,
              "ticks": ""
             }
            },
            "type": "scatterpolar"
           }
          ],
          "scatterpolargl": [
           {
            "marker": {
             "colorbar": {
              "outlinewidth": 0,
              "ticks": ""
             }
            },
            "type": "scatterpolargl"
           }
          ],
          "scatterternary": [
           {
            "marker": {
             "colorbar": {
              "outlinewidth": 0,
              "ticks": ""
             }
            },
            "type": "scatterternary"
           }
          ],
          "surface": [
           {
            "colorbar": {
             "outlinewidth": 0,
             "ticks": ""
            },
            "colorscale": [
             [
              0,
              "#0d0887"
             ],
             [
              0.1111111111111111,
              "#46039f"
             ],
             [
              0.2222222222222222,
              "#7201a8"
             ],
             [
              0.3333333333333333,
              "#9c179e"
             ],
             [
              0.4444444444444444,
              "#bd3786"
             ],
             [
              0.5555555555555556,
              "#d8576b"
             ],
             [
              0.6666666666666666,
              "#ed7953"
             ],
             [
              0.7777777777777778,
              "#fb9f3a"
             ],
             [
              0.8888888888888888,
              "#fdca26"
             ],
             [
              1,
              "#f0f921"
             ]
            ],
            "type": "surface"
           }
          ],
          "table": [
           {
            "cells": {
             "fill": {
              "color": "#EBF0F8"
             },
             "line": {
              "color": "white"
             }
            },
            "header": {
             "fill": {
              "color": "#C8D4E3"
             },
             "line": {
              "color": "white"
             }
            },
            "type": "table"
           }
          ]
         },
         "layout": {
          "annotationdefaults": {
           "arrowcolor": "#2a3f5f",
           "arrowhead": 0,
           "arrowwidth": 1
          },
          "autotypenumbers": "strict",
          "coloraxis": {
           "colorbar": {
            "outlinewidth": 0,
            "ticks": ""
           }
          },
          "colorscale": {
           "diverging": [
            [
             0,
             "#8e0152"
            ],
            [
             0.1,
             "#c51b7d"
            ],
            [
             0.2,
             "#de77ae"
            ],
            [
             0.3,
             "#f1b6da"
            ],
            [
             0.4,
             "#fde0ef"
            ],
            [
             0.5,
             "#f7f7f7"
            ],
            [
             0.6,
             "#e6f5d0"
            ],
            [
             0.7,
             "#b8e186"
            ],
            [
             0.8,
             "#7fbc41"
            ],
            [
             0.9,
             "#4d9221"
            ],
            [
             1,
             "#276419"
            ]
           ],
           "sequential": [
            [
             0,
             "#0d0887"
            ],
            [
             0.1111111111111111,
             "#46039f"
            ],
            [
             0.2222222222222222,
             "#7201a8"
            ],
            [
             0.3333333333333333,
             "#9c179e"
            ],
            [
             0.4444444444444444,
             "#bd3786"
            ],
            [
             0.5555555555555556,
             "#d8576b"
            ],
            [
             0.6666666666666666,
             "#ed7953"
            ],
            [
             0.7777777777777778,
             "#fb9f3a"
            ],
            [
             0.8888888888888888,
             "#fdca26"
            ],
            [
             1,
             "#f0f921"
            ]
           ],
           "sequentialminus": [
            [
             0,
             "#0d0887"
            ],
            [
             0.1111111111111111,
             "#46039f"
            ],
            [
             0.2222222222222222,
             "#7201a8"
            ],
            [
             0.3333333333333333,
             "#9c179e"
            ],
            [
             0.4444444444444444,
             "#bd3786"
            ],
            [
             0.5555555555555556,
             "#d8576b"
            ],
            [
             0.6666666666666666,
             "#ed7953"
            ],
            [
             0.7777777777777778,
             "#fb9f3a"
            ],
            [
             0.8888888888888888,
             "#fdca26"
            ],
            [
             1,
             "#f0f921"
            ]
           ]
          },
          "colorway": [
           "#636efa",
           "#EF553B",
           "#00cc96",
           "#ab63fa",
           "#FFA15A",
           "#19d3f3",
           "#FF6692",
           "#B6E880",
           "#FF97FF",
           "#FECB52"
          ],
          "font": {
           "color": "#2a3f5f"
          },
          "geo": {
           "bgcolor": "white",
           "lakecolor": "white",
           "landcolor": "#E5ECF6",
           "showlakes": true,
           "showland": true,
           "subunitcolor": "white"
          },
          "hoverlabel": {
           "align": "left"
          },
          "hovermode": "closest",
          "mapbox": {
           "style": "light"
          },
          "paper_bgcolor": "white",
          "plot_bgcolor": "#E5ECF6",
          "polar": {
           "angularaxis": {
            "gridcolor": "white",
            "linecolor": "white",
            "ticks": ""
           },
           "bgcolor": "#E5ECF6",
           "radialaxis": {
            "gridcolor": "white",
            "linecolor": "white",
            "ticks": ""
           }
          },
          "scene": {
           "xaxis": {
            "backgroundcolor": "#E5ECF6",
            "gridcolor": "white",
            "gridwidth": 2,
            "linecolor": "white",
            "showbackground": true,
            "ticks": "",
            "zerolinecolor": "white"
           },
           "yaxis": {
            "backgroundcolor": "#E5ECF6",
            "gridcolor": "white",
            "gridwidth": 2,
            "linecolor": "white",
            "showbackground": true,
            "ticks": "",
            "zerolinecolor": "white"
           },
           "zaxis": {
            "backgroundcolor": "#E5ECF6",
            "gridcolor": "white",
            "gridwidth": 2,
            "linecolor": "white",
            "showbackground": true,
            "ticks": "",
            "zerolinecolor": "white"
           }
          },
          "shapedefaults": {
           "line": {
            "color": "#2a3f5f"
           }
          },
          "ternary": {
           "aaxis": {
            "gridcolor": "white",
            "linecolor": "white",
            "ticks": ""
           },
           "baxis": {
            "gridcolor": "white",
            "linecolor": "white",
            "ticks": ""
           },
           "bgcolor": "#E5ECF6",
           "caxis": {
            "gridcolor": "white",
            "linecolor": "white",
            "ticks": ""
           }
          },
          "title": {
           "x": 0.05
          },
          "xaxis": {
           "automargin": true,
           "gridcolor": "white",
           "linecolor": "white",
           "ticks": "",
           "title": {
            "standoff": 15
           },
           "zerolinecolor": "white",
           "zerolinewidth": 2
          },
          "yaxis": {
           "automargin": true,
           "gridcolor": "white",
           "linecolor": "white",
           "ticks": "",
           "title": {
            "standoff": 15
           },
           "zerolinecolor": "white",
           "zerolinewidth": 2
          }
         }
        },
        "title": {
         "text": "Figure 6: Quarterly Yelp Review Star Rating Trends"
        },
        "xaxis": {
         "anchor": "y",
         "domain": [
          0,
          1
         ],
         "dtick": 1,
         "title": {
          "text": "Quarter"
         }
        },
        "yaxis": {
         "anchor": "x",
         "domain": [
          0,
          1
         ],
         "title": {
          "text": "Review Count"
         }
        }
       }
      }
     },
     "metadata": {},
     "output_type": "display_data"
    },
    {
     "data": {
      "application/vnd.plotly.v1+json": {
       "config": {
        "plotlyServerURL": "https://plot.ly"
       },
       "data": [
        {
         "hovertemplate": "Quarter=%{x}<br>Review Count=%{marker.color}<extra></extra>",
         "legendgroup": "",
         "marker": {
          "color": {
           "bdata": "DKkaAAeMGgCBUxwANCEZAA==",
           "dtype": "i4"
          },
          "coloraxis": "coloraxis",
          "pattern": {
           "shape": ""
          }
         },
         "name": "",
         "orientation": "v",
         "showlegend": false,
         "textposition": "auto",
         "type": "bar",
         "x": {
          "bdata": "AQIDBA==",
          "dtype": "i1"
         },
         "xaxis": "x",
         "y": {
          "bdata": "DKkaAAeMGgCBUxwANCEZAA==",
          "dtype": "i4"
         },
         "yaxis": "y"
        }
       ],
       "layout": {
        "barmode": "relative",
        "coloraxis": {
         "colorbar": {
          "title": {
           "text": "Review Count"
          }
         },
         "colorscale": [
          [
           0,
           "#0d0887"
          ],
          [
           0.1111111111111111,
           "#46039f"
          ],
          [
           0.2222222222222222,
           "#7201a8"
          ],
          [
           0.3333333333333333,
           "#9c179e"
          ],
          [
           0.4444444444444444,
           "#bd3786"
          ],
          [
           0.5555555555555556,
           "#d8576b"
          ],
          [
           0.6666666666666666,
           "#ed7953"
          ],
          [
           0.7777777777777778,
           "#fb9f3a"
          ],
          [
           0.8888888888888888,
           "#fdca26"
          ],
          [
           1,
           "#f0f921"
          ]
         ]
        },
        "legend": {
         "tracegroupgap": 0
        },
        "template": {
         "data": {
          "bar": [
           {
            "error_x": {
             "color": "#2a3f5f"
            },
            "error_y": {
             "color": "#2a3f5f"
            },
            "marker": {
             "line": {
              "color": "#E5ECF6",
              "width": 0.5
             },
             "pattern": {
              "fillmode": "overlay",
              "size": 10,
              "solidity": 0.2
             }
            },
            "type": "bar"
           }
          ],
          "barpolar": [
           {
            "marker": {
             "line": {
              "color": "#E5ECF6",
              "width": 0.5
             },
             "pattern": {
              "fillmode": "overlay",
              "size": 10,
              "solidity": 0.2
             }
            },
            "type": "barpolar"
           }
          ],
          "carpet": [
           {
            "aaxis": {
             "endlinecolor": "#2a3f5f",
             "gridcolor": "white",
             "linecolor": "white",
             "minorgridcolor": "white",
             "startlinecolor": "#2a3f5f"
            },
            "baxis": {
             "endlinecolor": "#2a3f5f",
             "gridcolor": "white",
             "linecolor": "white",
             "minorgridcolor": "white",
             "startlinecolor": "#2a3f5f"
            },
            "type": "carpet"
           }
          ],
          "choropleth": [
           {
            "colorbar": {
             "outlinewidth": 0,
             "ticks": ""
            },
            "type": "choropleth"
           }
          ],
          "contour": [
           {
            "colorbar": {
             "outlinewidth": 0,
             "ticks": ""
            },
            "colorscale": [
             [
              0,
              "#0d0887"
             ],
             [
              0.1111111111111111,
              "#46039f"
             ],
             [
              0.2222222222222222,
              "#7201a8"
             ],
             [
              0.3333333333333333,
              "#9c179e"
             ],
             [
              0.4444444444444444,
              "#bd3786"
             ],
             [
              0.5555555555555556,
              "#d8576b"
             ],
             [
              0.6666666666666666,
              "#ed7953"
             ],
             [
              0.7777777777777778,
              "#fb9f3a"
             ],
             [
              0.8888888888888888,
              "#fdca26"
             ],
             [
              1,
              "#f0f921"
             ]
            ],
            "type": "contour"
           }
          ],
          "contourcarpet": [
           {
            "colorbar": {
             "outlinewidth": 0,
             "ticks": ""
            },
            "type": "contourcarpet"
           }
          ],
          "heatmap": [
           {
            "colorbar": {
             "outlinewidth": 0,
             "ticks": ""
            },
            "colorscale": [
             [
              0,
              "#0d0887"
             ],
             [
              0.1111111111111111,
              "#46039f"
             ],
             [
              0.2222222222222222,
              "#7201a8"
             ],
             [
              0.3333333333333333,
              "#9c179e"
             ],
             [
              0.4444444444444444,
              "#bd3786"
             ],
             [
              0.5555555555555556,
              "#d8576b"
             ],
             [
              0.6666666666666666,
              "#ed7953"
             ],
             [
              0.7777777777777778,
              "#fb9f3a"
             ],
             [
              0.8888888888888888,
              "#fdca26"
             ],
             [
              1,
              "#f0f921"
             ]
            ],
            "type": "heatmap"
           }
          ],
          "histogram": [
           {
            "marker": {
             "pattern": {
              "fillmode": "overlay",
              "size": 10,
              "solidity": 0.2
             }
            },
            "type": "histogram"
           }
          ],
          "histogram2d": [
           {
            "colorbar": {
             "outlinewidth": 0,
             "ticks": ""
            },
            "colorscale": [
             [
              0,
              "#0d0887"
             ],
             [
              0.1111111111111111,
              "#46039f"
             ],
             [
              0.2222222222222222,
              "#7201a8"
             ],
             [
              0.3333333333333333,
              "#9c179e"
             ],
             [
              0.4444444444444444,
              "#bd3786"
             ],
             [
              0.5555555555555556,
              "#d8576b"
             ],
             [
              0.6666666666666666,
              "#ed7953"
             ],
             [
              0.7777777777777778,
              "#fb9f3a"
             ],
             [
              0.8888888888888888,
              "#fdca26"
             ],
             [
              1,
              "#f0f921"
             ]
            ],
            "type": "histogram2d"
           }
          ],
          "histogram2dcontour": [
           {
            "colorbar": {
             "outlinewidth": 0,
             "ticks": ""
            },
            "colorscale": [
             [
              0,
              "#0d0887"
             ],
             [
              0.1111111111111111,
              "#46039f"
             ],
             [
              0.2222222222222222,
              "#7201a8"
             ],
             [
              0.3333333333333333,
              "#9c179e"
             ],
             [
              0.4444444444444444,
              "#bd3786"
             ],
             [
              0.5555555555555556,
              "#d8576b"
             ],
             [
              0.6666666666666666,
              "#ed7953"
             ],
             [
              0.7777777777777778,
              "#fb9f3a"
             ],
             [
              0.8888888888888888,
              "#fdca26"
             ],
             [
              1,
              "#f0f921"
             ]
            ],
            "type": "histogram2dcontour"
           }
          ],
          "mesh3d": [
           {
            "colorbar": {
             "outlinewidth": 0,
             "ticks": ""
            },
            "type": "mesh3d"
           }
          ],
          "parcoords": [
           {
            "line": {
             "colorbar": {
              "outlinewidth": 0,
              "ticks": ""
             }
            },
            "type": "parcoords"
           }
          ],
          "pie": [
           {
            "automargin": true,
            "type": "pie"
           }
          ],
          "scatter": [
           {
            "fillpattern": {
             "fillmode": "overlay",
             "size": 10,
             "solidity": 0.2
            },
            "type": "scatter"
           }
          ],
          "scatter3d": [
           {
            "line": {
             "colorbar": {
              "outlinewidth": 0,
              "ticks": ""
             }
            },
            "marker": {
             "colorbar": {
              "outlinewidth": 0,
              "ticks": ""
             }
            },
            "type": "scatter3d"
           }
          ],
          "scattercarpet": [
           {
            "marker": {
             "colorbar": {
              "outlinewidth": 0,
              "ticks": ""
             }
            },
            "type": "scattercarpet"
           }
          ],
          "scattergeo": [
           {
            "marker": {
             "colorbar": {
              "outlinewidth": 0,
              "ticks": ""
             }
            },
            "type": "scattergeo"
           }
          ],
          "scattergl": [
           {
            "marker": {
             "colorbar": {
              "outlinewidth": 0,
              "ticks": ""
             }
            },
            "type": "scattergl"
           }
          ],
          "scattermap": [
           {
            "marker": {
             "colorbar": {
              "outlinewidth": 0,
              "ticks": ""
             }
            },
            "type": "scattermap"
           }
          ],
          "scattermapbox": [
           {
            "marker": {
             "colorbar": {
              "outlinewidth": 0,
              "ticks": ""
             }
            },
            "type": "scattermapbox"
           }
          ],
          "scatterpolar": [
           {
            "marker": {
             "colorbar": {
              "outlinewidth": 0,
              "ticks": ""
             }
            },
            "type": "scatterpolar"
           }
          ],
          "scatterpolargl": [
           {
            "marker": {
             "colorbar": {
              "outlinewidth": 0,
              "ticks": ""
             }
            },
            "type": "scatterpolargl"
           }
          ],
          "scatterternary": [
           {
            "marker": {
             "colorbar": {
              "outlinewidth": 0,
              "ticks": ""
             }
            },
            "type": "scatterternary"
           }
          ],
          "surface": [
           {
            "colorbar": {
             "outlinewidth": 0,
             "ticks": ""
            },
            "colorscale": [
             [
              0,
              "#0d0887"
             ],
             [
              0.1111111111111111,
              "#46039f"
             ],
             [
              0.2222222222222222,
              "#7201a8"
             ],
             [
              0.3333333333333333,
              "#9c179e"
             ],
             [
              0.4444444444444444,
              "#bd3786"
             ],
             [
              0.5555555555555556,
              "#d8576b"
             ],
             [
              0.6666666666666666,
              "#ed7953"
             ],
             [
              0.7777777777777778,
              "#fb9f3a"
             ],
             [
              0.8888888888888888,
              "#fdca26"
             ],
             [
              1,
              "#f0f921"
             ]
            ],
            "type": "surface"
           }
          ],
          "table": [
           {
            "cells": {
             "fill": {
              "color": "#EBF0F8"
             },
             "line": {
              "color": "white"
             }
            },
            "header": {
             "fill": {
              "color": "#C8D4E3"
             },
             "line": {
              "color": "white"
             }
            },
            "type": "table"
           }
          ]
         },
         "layout": {
          "annotationdefaults": {
           "arrowcolor": "#2a3f5f",
           "arrowhead": 0,
           "arrowwidth": 1
          },
          "autotypenumbers": "strict",
          "coloraxis": {
           "colorbar": {
            "outlinewidth": 0,
            "ticks": ""
           }
          },
          "colorscale": {
           "diverging": [
            [
             0,
             "#8e0152"
            ],
            [
             0.1,
             "#c51b7d"
            ],
            [
             0.2,
             "#de77ae"
            ],
            [
             0.3,
             "#f1b6da"
            ],
            [
             0.4,
             "#fde0ef"
            ],
            [
             0.5,
             "#f7f7f7"
            ],
            [
             0.6,
             "#e6f5d0"
            ],
            [
             0.7,
             "#b8e186"
            ],
            [
             0.8,
             "#7fbc41"
            ],
            [
             0.9,
             "#4d9221"
            ],
            [
             1,
             "#276419"
            ]
           ],
           "sequential": [
            [
             0,
             "#0d0887"
            ],
            [
             0.1111111111111111,
             "#46039f"
            ],
            [
             0.2222222222222222,
             "#7201a8"
            ],
            [
             0.3333333333333333,
             "#9c179e"
            ],
            [
             0.4444444444444444,
             "#bd3786"
            ],
            [
             0.5555555555555556,
             "#d8576b"
            ],
            [
             0.6666666666666666,
             "#ed7953"
            ],
            [
             0.7777777777777778,
             "#fb9f3a"
            ],
            [
             0.8888888888888888,
             "#fdca26"
            ],
            [
             1,
             "#f0f921"
            ]
           ],
           "sequentialminus": [
            [
             0,
             "#0d0887"
            ],
            [
             0.1111111111111111,
             "#46039f"
            ],
            [
             0.2222222222222222,
             "#7201a8"
            ],
            [
             0.3333333333333333,
             "#9c179e"
            ],
            [
             0.4444444444444444,
             "#bd3786"
            ],
            [
             0.5555555555555556,
             "#d8576b"
            ],
            [
             0.6666666666666666,
             "#ed7953"
            ],
            [
             0.7777777777777778,
             "#fb9f3a"
            ],
            [
             0.8888888888888888,
             "#fdca26"
            ],
            [
             1,
             "#f0f921"
            ]
           ]
          },
          "colorway": [
           "#636efa",
           "#EF553B",
           "#00cc96",
           "#ab63fa",
           "#FFA15A",
           "#19d3f3",
           "#FF6692",
           "#B6E880",
           "#FF97FF",
           "#FECB52"
          ],
          "font": {
           "color": "#2a3f5f"
          },
          "geo": {
           "bgcolor": "white",
           "lakecolor": "white",
           "landcolor": "#E5ECF6",
           "showlakes": true,
           "showland": true,
           "subunitcolor": "white"
          },
          "hoverlabel": {
           "align": "left"
          },
          "hovermode": "closest",
          "mapbox": {
           "style": "light"
          },
          "paper_bgcolor": "white",
          "plot_bgcolor": "#E5ECF6",
          "polar": {
           "angularaxis": {
            "gridcolor": "white",
            "linecolor": "white",
            "ticks": ""
           },
           "bgcolor": "#E5ECF6",
           "radialaxis": {
            "gridcolor": "white",
            "linecolor": "white",
            "ticks": ""
           }
          },
          "scene": {
           "xaxis": {
            "backgroundcolor": "#E5ECF6",
            "gridcolor": "white",
            "gridwidth": 2,
            "linecolor": "white",
            "showbackground": true,
            "ticks": "",
            "zerolinecolor": "white"
           },
           "yaxis": {
            "backgroundcolor": "#E5ECF6",
            "gridcolor": "white",
            "gridwidth": 2,
            "linecolor": "white",
            "showbackground": true,
            "ticks": "",
            "zerolinecolor": "white"
           },
           "zaxis": {
            "backgroundcolor": "#E5ECF6",
            "gridcolor": "white",
            "gridwidth": 2,
            "linecolor": "white",
            "showbackground": true,
            "ticks": "",
            "zerolinecolor": "white"
           }
          },
          "shapedefaults": {
           "line": {
            "color": "#2a3f5f"
           }
          },
          "ternary": {
           "aaxis": {
            "gridcolor": "white",
            "linecolor": "white",
            "ticks": ""
           },
           "baxis": {
            "gridcolor": "white",
            "linecolor": "white",
            "ticks": ""
           },
           "bgcolor": "#E5ECF6",
           "caxis": {
            "gridcolor": "white",
            "linecolor": "white",
            "ticks": ""
           }
          },
          "title": {
           "x": 0.05
          },
          "xaxis": {
           "automargin": true,
           "gridcolor": "white",
           "linecolor": "white",
           "ticks": "",
           "title": {
            "standoff": 15
           },
           "zerolinecolor": "white",
           "zerolinewidth": 2
          },
          "yaxis": {
           "automargin": true,
           "gridcolor": "white",
           "linecolor": "white",
           "ticks": "",
           "title": {
            "standoff": 15
           },
           "zerolinecolor": "white",
           "zerolinewidth": 2
          }
         }
        },
        "title": {
         "text": "Figure 7: Quarterly Yelp Review Volume Trends"
        },
        "xaxis": {
         "anchor": "y",
         "domain": [
          0,
          1
         ],
         "dtick": 1,
         "title": {
          "text": "Quarter"
         }
        },
        "yaxis": {
         "anchor": "x",
         "domain": [
          0,
          1
         ],
         "title": {
          "text": "Review Count"
         }
        }
       }
      }
     },
     "metadata": {},
     "output_type": "display_data"
    }
   ],
   "source": [
    "# Reviews by quarter\n",
    "df = cur.execute('''\n",
    "                SELECT \n",
    "                    QUARTER(review_date) AS quarter,\n",
    "                    SUM(CASE WHEN stars=1 THEN 1 ELSE 0 END) AS one_star_reviews,\n",
    "                    SUM(CASE WHEN stars=2 THEN 1 ELSE 0 END) AS two_star_reviews,\n",
    "                    SUM(CASE WHEN stars=3 THEN 1 ELSE 0 END) AS three_star_reviews,\n",
    "                    SUM(CASE WHEN stars=4 THEN 1 ELSE 0 END) AS four_star_reviews,\n",
    "                    SUM(CASE WHEN stars=5 THEN 1 ELSE 0 END) AS five_star_reviews,\n",
    "                    COUNT(*) AS total_reviews,\n",
    "                    SUM(stars) AS total_stars,\n",
    "                    ROUND(AVG(stars), 2) avg_rating\n",
    "                FROM yelp_reviews\n",
    "                GROUP BY 1\n",
    "                ORDER BY 1;\n",
    "                 ''').fetch_pandas_all()\n",
    "\n",
    "styles = [{\n",
    "    'selector': 'caption', 'props': 'text-align: left;'\n",
    "}]\n",
    "\n",
    "display(df.style.set_caption('<span style=\"font-size: 20px;\">Table 16: Quarterly Review Volume & Star Metrics</span>').set_table_styles(styles))\n",
    "\n",
    "# Rename columns for readability in charts\n",
    "df.rename(columns={'ONE_STAR_REVIEWS': '1 Star', 'TWO_STAR_REVIEWS': '2 Star', 'THREE_STAR_REVIEWS': '3 Star', 'FOUR_STAR_REVIEWS': '4 Star', 'FIVE_STAR_REVIEWS': '5 Star', 'TOTAL_REVIEWS': 'Total Reviews',\n",
    "                   'AVG_RATING': 'Average Rating'}, inplace=True)\n",
    "\n",
    "# Generate line chart for review count for each star value by quarter\n",
    "fig = px.line(\n",
    "    df,\n",
    "    x='QUARTER',\n",
    "    y=[\n",
    "        '1 Star',\n",
    "        '2 Star',\n",
    "        '3 Star',\n",
    "        '4 Star',\n",
    "        '5 Star'\n",
    "    ],\n",
    "    labels={\n",
    "        'value': 'Review Count',\n",
    "        'variable': 'Star Rating',\n",
    "        'QUARTER': 'Quarter'\n",
    "    },\n",
    "    title='Figure 6: Quarterly Yelp Review Star Rating Trends'\n",
    ")\n",
    "fig.update_xaxes(dtick=1)\n",
    "fig.show()\n",
    "\n",
    "# Generate bar chart for monthly review volume by quarter\n",
    "fig = px.bar(\n",
    "    df,\n",
    "    x='QUARTER', \n",
    "    y='Total Reviews', \n",
    "    color='Total Reviews', \n",
    "    labels={'QUARTER': 'Quarter', 'Total Reviews': 'Review Count'},\n",
    "    title='Figure 7: Quarterly Yelp Review Volume Trends'\n",
    ")\n",
    "fig.update_xaxes(dtick=1)\n",
    "fig.show()"
   ]
  },
  {
   "cell_type": "markdown",
   "id": "6455043b",
   "metadata": {},
   "source": [
    "### Quarterly Review Volume & Star Metrics by Year"
   ]
  },
  {
   "cell_type": "code",
   "execution_count": 34,
   "id": "c73fcba0",
   "metadata": {},
   "outputs": [
    {
     "data": {
      "text/html": [
       "<style type=\"text/css\">\n",
       "#T_22483 caption {\n",
       "  text-align: left;\n",
       "}\n",
       "</style>\n",
       "<table id=\"T_22483\">\n",
       "  <caption><span style=\"font-size: 20px;\">Table 17: Monthly Review Volume & Star Metrics</span></caption>\n",
       "  <thead>\n",
       "    <tr>\n",
       "      <th class=\"blank level0\" >&nbsp;</th>\n",
       "      <th id=\"T_22483_level0_col0\" class=\"col_heading level0 col0\" >YEAR</th>\n",
       "      <th id=\"T_22483_level0_col1\" class=\"col_heading level0 col1\" >QUARTER</th>\n",
       "      <th id=\"T_22483_level0_col2\" class=\"col_heading level0 col2\" >ONE_STAR_REVIEWS</th>\n",
       "      <th id=\"T_22483_level0_col3\" class=\"col_heading level0 col3\" >TWO_STAR_REVIEWS</th>\n",
       "      <th id=\"T_22483_level0_col4\" class=\"col_heading level0 col4\" >THREE_STAR_REVIEWS</th>\n",
       "      <th id=\"T_22483_level0_col5\" class=\"col_heading level0 col5\" >FOUR_STAR_REVIEWS</th>\n",
       "      <th id=\"T_22483_level0_col6\" class=\"col_heading level0 col6\" >FIVE_STAR_REVIEWS</th>\n",
       "      <th id=\"T_22483_level0_col7\" class=\"col_heading level0 col7\" >TOTAL_REVIEWS</th>\n",
       "      <th id=\"T_22483_level0_col8\" class=\"col_heading level0 col8\" >TOTAL_STARS</th>\n",
       "      <th id=\"T_22483_level0_col9\" class=\"col_heading level0 col9\" >AVG_RATING</th>\n",
       "    </tr>\n",
       "  </thead>\n",
       "  <tbody>\n",
       "    <tr>\n",
       "      <th id=\"T_22483_level0_row0\" class=\"row_heading level0 row0\" >0</th>\n",
       "      <td id=\"T_22483_row0_col0\" class=\"data row0 col0\" >2005</td>\n",
       "      <td id=\"T_22483_row0_col1\" class=\"data row0 col1\" >1</td>\n",
       "      <td id=\"T_22483_row0_col2\" class=\"data row0 col2\" >5</td>\n",
       "      <td id=\"T_22483_row0_col3\" class=\"data row0 col3\" >8</td>\n",
       "      <td id=\"T_22483_row0_col4\" class=\"data row0 col4\" >18</td>\n",
       "      <td id=\"T_22483_row0_col5\" class=\"data row0 col5\" >22</td>\n",
       "      <td id=\"T_22483_row0_col6\" class=\"data row0 col6\" >24</td>\n",
       "      <td id=\"T_22483_row0_col7\" class=\"data row0 col7\" >77</td>\n",
       "      <td id=\"T_22483_row0_col8\" class=\"data row0 col8\" >283</td>\n",
       "      <td id=\"T_22483_row0_col9\" class=\"data row0 col9\" >3.68</td>\n",
       "    </tr>\n",
       "    <tr>\n",
       "      <th id=\"T_22483_level0_row1\" class=\"row_heading level0 row1\" >1</th>\n",
       "      <td id=\"T_22483_row1_col0\" class=\"data row1 col0\" >2005</td>\n",
       "      <td id=\"T_22483_row1_col1\" class=\"data row1 col1\" >2</td>\n",
       "      <td id=\"T_22483_row1_col2\" class=\"data row1 col2\" >4</td>\n",
       "      <td id=\"T_22483_row1_col3\" class=\"data row1 col3\" >9</td>\n",
       "      <td id=\"T_22483_row1_col4\" class=\"data row1 col4\" >24</td>\n",
       "      <td id=\"T_22483_row1_col5\" class=\"data row1 col5\" >67</td>\n",
       "      <td id=\"T_22483_row1_col6\" class=\"data row1 col6\" >68</td>\n",
       "      <td id=\"T_22483_row1_col7\" class=\"data row1 col7\" >172</td>\n",
       "      <td id=\"T_22483_row1_col8\" class=\"data row1 col8\" >702</td>\n",
       "      <td id=\"T_22483_row1_col9\" class=\"data row1 col9\" >4.08</td>\n",
       "    </tr>\n",
       "    <tr>\n",
       "      <th id=\"T_22483_level0_row2\" class=\"row_heading level0 row2\" >2</th>\n",
       "      <td id=\"T_22483_row2_col0\" class=\"data row2 col0\" >2005</td>\n",
       "      <td id=\"T_22483_row2_col1\" class=\"data row2 col1\" >3</td>\n",
       "      <td id=\"T_22483_row2_col2\" class=\"data row2 col2\" >15</td>\n",
       "      <td id=\"T_22483_row2_col3\" class=\"data row2 col3\" >26</td>\n",
       "      <td id=\"T_22483_row2_col4\" class=\"data row2 col4\" >97</td>\n",
       "      <td id=\"T_22483_row2_col5\" class=\"data row2 col5\" >144</td>\n",
       "      <td id=\"T_22483_row2_col6\" class=\"data row2 col6\" >112</td>\n",
       "      <td id=\"T_22483_row2_col7\" class=\"data row2 col7\" >394</td>\n",
       "      <td id=\"T_22483_row2_col8\" class=\"data row2 col8\" >1494</td>\n",
       "      <td id=\"T_22483_row2_col9\" class=\"data row2 col9\" >3.79</td>\n",
       "    </tr>\n",
       "    <tr>\n",
       "      <th id=\"T_22483_level0_row3\" class=\"row_heading level0 row3\" >3</th>\n",
       "      <td id=\"T_22483_row3_col0\" class=\"data row3 col0\" >2005</td>\n",
       "      <td id=\"T_22483_row3_col1\" class=\"data row3 col1\" >4</td>\n",
       "      <td id=\"T_22483_row3_col2\" class=\"data row3 col2\" >6</td>\n",
       "      <td id=\"T_22483_row3_col3\" class=\"data row3 col3\" >11</td>\n",
       "      <td id=\"T_22483_row3_col4\" class=\"data row3 col4\" >32</td>\n",
       "      <td id=\"T_22483_row3_col5\" class=\"data row3 col5\" >82</td>\n",
       "      <td id=\"T_22483_row3_col6\" class=\"data row3 col6\" >80</td>\n",
       "      <td id=\"T_22483_row3_col7\" class=\"data row3 col7\" >211</td>\n",
       "      <td id=\"T_22483_row3_col8\" class=\"data row3 col8\" >852</td>\n",
       "      <td id=\"T_22483_row3_col9\" class=\"data row3 col9\" >4.04</td>\n",
       "    </tr>\n",
       "    <tr>\n",
       "      <th id=\"T_22483_level0_row4\" class=\"row_heading level0 row4\" >4</th>\n",
       "      <td id=\"T_22483_row4_col0\" class=\"data row4 col0\" >2006</td>\n",
       "      <td id=\"T_22483_row4_col1\" class=\"data row4 col1\" >1</td>\n",
       "      <td id=\"T_22483_row4_col2\" class=\"data row4 col2\" >23</td>\n",
       "      <td id=\"T_22483_row4_col3\" class=\"data row4 col3\" >27</td>\n",
       "      <td id=\"T_22483_row4_col4\" class=\"data row4 col4\" >88</td>\n",
       "      <td id=\"T_22483_row4_col5\" class=\"data row4 col5\" >217</td>\n",
       "      <td id=\"T_22483_row4_col6\" class=\"data row4 col6\" >242</td>\n",
       "      <td id=\"T_22483_row4_col7\" class=\"data row4 col7\" >597</td>\n",
       "      <td id=\"T_22483_row4_col8\" class=\"data row4 col8\" >2419</td>\n",
       "      <td id=\"T_22483_row4_col9\" class=\"data row4 col9\" >4.05</td>\n",
       "    </tr>\n",
       "    <tr>\n",
       "      <th id=\"T_22483_level0_row5\" class=\"row_heading level0 row5\" >64</th>\n",
       "      <td id=\"T_22483_row5_col0\" class=\"data row5 col0\" >2021</td>\n",
       "      <td id=\"T_22483_row5_col1\" class=\"data row5 col1\" >1</td>\n",
       "      <td id=\"T_22483_row5_col2\" class=\"data row5 col2\" >26701</td>\n",
       "      <td id=\"T_22483_row5_col3\" class=\"data row5 col3\" >9094</td>\n",
       "      <td id=\"T_22483_row5_col4\" class=\"data row5 col4\" >9298</td>\n",
       "      <td id=\"T_22483_row5_col5\" class=\"data row5 col5\" >17966</td>\n",
       "      <td id=\"T_22483_row5_col6\" class=\"data row5 col6\" >79443</td>\n",
       "      <td id=\"T_22483_row5_col7\" class=\"data row5 col7\" >142502</td>\n",
       "      <td id=\"T_22483_row5_col8\" class=\"data row5 col8\" >541862</td>\n",
       "      <td id=\"T_22483_row5_col9\" class=\"data row5 col9\" >3.80</td>\n",
       "    </tr>\n",
       "    <tr>\n",
       "      <th id=\"T_22483_level0_row6\" class=\"row_heading level0 row6\" >65</th>\n",
       "      <td id=\"T_22483_row6_col0\" class=\"data row6 col0\" >2021</td>\n",
       "      <td id=\"T_22483_row6_col1\" class=\"data row6 col1\" >2</td>\n",
       "      <td id=\"T_22483_row6_col2\" class=\"data row6 col2\" >34641</td>\n",
       "      <td id=\"T_22483_row6_col3\" class=\"data row6 col3\" >11786</td>\n",
       "      <td id=\"T_22483_row6_col4\" class=\"data row6 col4\" >12022</td>\n",
       "      <td id=\"T_22483_row6_col5\" class=\"data row6 col5\" >21433</td>\n",
       "      <td id=\"T_22483_row6_col6\" class=\"data row6 col6\" >89507</td>\n",
       "      <td id=\"T_22483_row6_col7\" class=\"data row6 col7\" >169389</td>\n",
       "      <td id=\"T_22483_row6_col8\" class=\"data row6 col8\" >627546</td>\n",
       "      <td id=\"T_22483_row6_col9\" class=\"data row6 col9\" >3.70</td>\n",
       "    </tr>\n",
       "    <tr>\n",
       "      <th id=\"T_22483_level0_row7\" class=\"row_heading level0 row7\" >66</th>\n",
       "      <td id=\"T_22483_row7_col0\" class=\"data row7 col0\" >2021</td>\n",
       "      <td id=\"T_22483_row7_col1\" class=\"data row7 col1\" >3</td>\n",
       "      <td id=\"T_22483_row7_col2\" class=\"data row7 col2\" >34968</td>\n",
       "      <td id=\"T_22483_row7_col3\" class=\"data row7 col3\" >11705</td>\n",
       "      <td id=\"T_22483_row7_col4\" class=\"data row7 col4\" >12006</td>\n",
       "      <td id=\"T_22483_row7_col5\" class=\"data row7 col5\" >21099</td>\n",
       "      <td id=\"T_22483_row7_col6\" class=\"data row7 col6\" >83513</td>\n",
       "      <td id=\"T_22483_row7_col7\" class=\"data row7 col7\" >163291</td>\n",
       "      <td id=\"T_22483_row7_col8\" class=\"data row7 col8\" >596357</td>\n",
       "      <td id=\"T_22483_row7_col9\" class=\"data row7 col9\" >3.65</td>\n",
       "    </tr>\n",
       "    <tr>\n",
       "      <th id=\"T_22483_level0_row8\" class=\"row_heading level0 row8\" >67</th>\n",
       "      <td id=\"T_22483_row8_col0\" class=\"data row8 col0\" >2021</td>\n",
       "      <td id=\"T_22483_row8_col1\" class=\"data row8 col1\" >4</td>\n",
       "      <td id=\"T_22483_row8_col2\" class=\"data row8 col2\" >30140</td>\n",
       "      <td id=\"T_22483_row8_col3\" class=\"data row8 col3\" >9909</td>\n",
       "      <td id=\"T_22483_row8_col4\" class=\"data row8 col4\" >10361</td>\n",
       "      <td id=\"T_22483_row8_col5\" class=\"data row8 col5\" >19565</td>\n",
       "      <td id=\"T_22483_row8_col6\" class=\"data row8 col6\" >73032</td>\n",
       "      <td id=\"T_22483_row8_col7\" class=\"data row8 col7\" >143007</td>\n",
       "      <td id=\"T_22483_row8_col8\" class=\"data row8 col8\" >524461</td>\n",
       "      <td id=\"T_22483_row8_col9\" class=\"data row8 col9\" >3.67</td>\n",
       "    </tr>\n",
       "    <tr>\n",
       "      <th id=\"T_22483_level0_row9\" class=\"row_heading level0 row9\" >68</th>\n",
       "      <td id=\"T_22483_row9_col0\" class=\"data row9 col0\" >2022</td>\n",
       "      <td id=\"T_22483_row9_col1\" class=\"data row9 col1\" >1</td>\n",
       "      <td id=\"T_22483_row9_col2\" class=\"data row9 col2\" >6607</td>\n",
       "      <td id=\"T_22483_row9_col3\" class=\"data row9 col3\" >1959</td>\n",
       "      <td id=\"T_22483_row9_col4\" class=\"data row9 col4\" >2183</td>\n",
       "      <td id=\"T_22483_row9_col5\" class=\"data row9 col5\" >4351</td>\n",
       "      <td id=\"T_22483_row9_col6\" class=\"data row9 col6\" >16565</td>\n",
       "      <td id=\"T_22483_row9_col7\" class=\"data row9 col7\" >31665</td>\n",
       "      <td id=\"T_22483_row9_col8\" class=\"data row9 col8\" >117303</td>\n",
       "      <td id=\"T_22483_row9_col9\" class=\"data row9 col9\" >3.70</td>\n",
       "    </tr>\n",
       "  </tbody>\n",
       "</table>\n"
      ],
      "text/plain": [
       "<pandas.io.formats.style.Styler at 0x229d999df90>"
      ]
     },
     "metadata": {},
     "output_type": "display_data"
    },
    {
     "data": {
      "application/vnd.plotly.v1+json": {
       "config": {
        "plotlyServerURL": "https://plot.ly"
       },
       "data": [
        {
         "hovertemplate": "Star Rating=1 Star<br>Quarter-Year=%{x}<br>Review Count=%{y}<extra></extra>",
         "legendgroup": "1 Star",
         "line": {
          "color": "#636efa",
          "dash": "solid"
         },
         "marker": {
          "symbol": "circle"
         },
         "mode": "lines",
         "name": "1 Star",
         "orientation": "v",
         "showlegend": true,
         "type": "scatter",
         "x": [
          "Q1-2005",
          "Q2-2005",
          "Q3-2005",
          "Q4-2005",
          "Q1-2006",
          "Q2-2006",
          "Q3-2006",
          "Q4-2006",
          "Q1-2007",
          "Q2-2007",
          "Q3-2007",
          "Q4-2007",
          "Q1-2008",
          "Q2-2008",
          "Q3-2008",
          "Q4-2008",
          "Q1-2009",
          "Q2-2009",
          "Q3-2009",
          "Q4-2009",
          "Q1-2010",
          "Q2-2010",
          "Q3-2010",
          "Q4-2010",
          "Q1-2011",
          "Q2-2011",
          "Q3-2011",
          "Q4-2011",
          "Q1-2012",
          "Q2-2012",
          "Q3-2012",
          "Q4-2012",
          "Q1-2013",
          "Q2-2013",
          "Q3-2013",
          "Q4-2013",
          "Q1-2014",
          "Q2-2014",
          "Q3-2014",
          "Q4-2014",
          "Q1-2015",
          "Q2-2015",
          "Q3-2015",
          "Q4-2015",
          "Q1-2016",
          "Q2-2016",
          "Q3-2016",
          "Q4-2016",
          "Q1-2017",
          "Q2-2017",
          "Q3-2017",
          "Q4-2017",
          "Q1-2018",
          "Q2-2018",
          "Q3-2018",
          "Q4-2018",
          "Q1-2019",
          "Q2-2019",
          "Q3-2019",
          "Q4-2019",
          "Q1-2020",
          "Q2-2020",
          "Q3-2020",
          "Q4-2020",
          "Q1-2021",
          "Q2-2021",
          "Q3-2021",
          "Q4-2021",
          "Q1-2022"
         ],
         "xaxis": "x",
         "y": {
          "bdata": "BQAAAAQAAAAPAAAABgAAABcAAAAbAAAALAAAAC8AAACHAAAAewAAANEAAADTAAAAdQEAAAsCAAAXAwAAuAIAAGkEAAAABQAA/QUAAIUFAABVCAAAVQkAAKoLAAAiDAAAwhAAAOETAABcFwAALRYAAK4bAAAtHQAADSEAAG8fAAAKJgAAHCsAALkxAAD4MAAAUzgAAOlAAABVSwAAikcAAONVAADXXwAAAmgAAPRgAACBawAACHQAAJh2AABXZwAAVXIAAO2DAABsgwAA63cAAFiGAADKlQAAy5wAANyKAADplQAASKQAAKShAACqigAA5ncAAHRPAABycgAA7WEAAE1oAABRhwAAmIgAALx1AADPGQAA",
          "dtype": "i4"
         },
         "yaxis": "y"
        },
        {
         "hovertemplate": "Star Rating=2 Star<br>Quarter-Year=%{x}<br>Review Count=%{y}<extra></extra>",
         "legendgroup": "2 Star",
         "line": {
          "color": "#EF553B",
          "dash": "solid"
         },
         "marker": {
          "symbol": "circle"
         },
         "mode": "lines",
         "name": "2 Star",
         "orientation": "v",
         "showlegend": true,
         "type": "scatter",
         "x": [
          "Q1-2005",
          "Q2-2005",
          "Q3-2005",
          "Q4-2005",
          "Q1-2006",
          "Q2-2006",
          "Q3-2006",
          "Q4-2006",
          "Q1-2007",
          "Q2-2007",
          "Q3-2007",
          "Q4-2007",
          "Q1-2008",
          "Q2-2008",
          "Q3-2008",
          "Q4-2008",
          "Q1-2009",
          "Q2-2009",
          "Q3-2009",
          "Q4-2009",
          "Q1-2010",
          "Q2-2010",
          "Q3-2010",
          "Q4-2010",
          "Q1-2011",
          "Q2-2011",
          "Q3-2011",
          "Q4-2011",
          "Q1-2012",
          "Q2-2012",
          "Q3-2012",
          "Q4-2012",
          "Q1-2013",
          "Q2-2013",
          "Q3-2013",
          "Q4-2013",
          "Q1-2014",
          "Q2-2014",
          "Q3-2014",
          "Q4-2014",
          "Q1-2015",
          "Q2-2015",
          "Q3-2015",
          "Q4-2015",
          "Q1-2016",
          "Q2-2016",
          "Q3-2016",
          "Q4-2016",
          "Q1-2017",
          "Q2-2017",
          "Q3-2017",
          "Q4-2017",
          "Q1-2018",
          "Q2-2018",
          "Q3-2018",
          "Q4-2018",
          "Q1-2019",
          "Q2-2019",
          "Q3-2019",
          "Q4-2019",
          "Q1-2020",
          "Q2-2020",
          "Q3-2020",
          "Q4-2020",
          "Q1-2021",
          "Q2-2021",
          "Q3-2021",
          "Q4-2021",
          "Q1-2022"
         ],
         "xaxis": "x",
         "y": {
          "bdata": "CAAJABoACwAbACIAVgA/ADYB4QBCAUABCwI5A4QFqwRQBo4G/QeJB50L8AqzDmEOfxMrFX8X8xSJGgEauhtPGlQgcSFzJfwimif8K9sw/StQNYo3UjwzNao84zzhPLkzTznuQOE/CjepPolELkWJOcRA/0ImQqk2ETAnFpQj7B6GIwouuS21JqcH",
          "dtype": "i2"
         },
         "yaxis": "y"
        },
        {
         "hovertemplate": "Star Rating=3 Star<br>Quarter-Year=%{x}<br>Review Count=%{y}<extra></extra>",
         "legendgroup": "3 Star",
         "line": {
          "color": "#00cc96",
          "dash": "solid"
         },
         "marker": {
          "symbol": "circle"
         },
         "mode": "lines",
         "name": "3 Star",
         "orientation": "v",
         "showlegend": true,
         "type": "scatter",
         "x": [
          "Q1-2005",
          "Q2-2005",
          "Q3-2005",
          "Q4-2005",
          "Q1-2006",
          "Q2-2006",
          "Q3-2006",
          "Q4-2006",
          "Q1-2007",
          "Q2-2007",
          "Q3-2007",
          "Q4-2007",
          "Q1-2008",
          "Q2-2008",
          "Q3-2008",
          "Q4-2008",
          "Q1-2009",
          "Q2-2009",
          "Q3-2009",
          "Q4-2009",
          "Q1-2010",
          "Q2-2010",
          "Q3-2010",
          "Q4-2010",
          "Q1-2011",
          "Q2-2011",
          "Q3-2011",
          "Q4-2011",
          "Q1-2012",
          "Q2-2012",
          "Q3-2012",
          "Q4-2012",
          "Q1-2013",
          "Q2-2013",
          "Q3-2013",
          "Q4-2013",
          "Q1-2014",
          "Q2-2014",
          "Q3-2014",
          "Q4-2014",
          "Q1-2015",
          "Q2-2015",
          "Q3-2015",
          "Q4-2015",
          "Q1-2016",
          "Q2-2016",
          "Q3-2016",
          "Q4-2016",
          "Q1-2017",
          "Q2-2017",
          "Q3-2017",
          "Q4-2017",
          "Q1-2018",
          "Q2-2018",
          "Q3-2018",
          "Q4-2018",
          "Q1-2019",
          "Q2-2019",
          "Q3-2019",
          "Q4-2019",
          "Q1-2020",
          "Q2-2020",
          "Q3-2020",
          "Q4-2020",
          "Q1-2021",
          "Q2-2021",
          "Q3-2021",
          "Q4-2021",
          "Q1-2022"
         ],
         "xaxis": "x",
         "y": {
          "bdata": "EgAYAGEAIABYAGMA5ADtAB8DGgJIA9gCpwT+B5YL8grlC/QKig1/Da4UEhQAGDoZmiGpIiomJiINKrknqCgqJ5AxSDGeNEEx0zc7O9E/1Tn3RZ5H1Eu5QBlN6UhZSM076UZwTlRM3kPXSzJQY07TQoVK/UyrTK0+8jYUFOsjoiFSJPYu5i55KIcI",
          "dtype": "i2"
         },
         "yaxis": "y"
        },
        {
         "hovertemplate": "Star Rating=4 Star<br>Quarter-Year=%{x}<br>Review Count=%{y}<extra></extra>",
         "legendgroup": "4 Star",
         "line": {
          "color": "#ab63fa",
          "dash": "solid"
         },
         "marker": {
          "symbol": "circle"
         },
         "mode": "lines",
         "name": "4 Star",
         "orientation": "v",
         "showlegend": true,
         "type": "scatter",
         "x": [
          "Q1-2005",
          "Q2-2005",
          "Q3-2005",
          "Q4-2005",
          "Q1-2006",
          "Q2-2006",
          "Q3-2006",
          "Q4-2006",
          "Q1-2007",
          "Q2-2007",
          "Q3-2007",
          "Q4-2007",
          "Q1-2008",
          "Q2-2008",
          "Q3-2008",
          "Q4-2008",
          "Q1-2009",
          "Q2-2009",
          "Q3-2009",
          "Q4-2009",
          "Q1-2010",
          "Q2-2010",
          "Q3-2010",
          "Q4-2010",
          "Q1-2011",
          "Q2-2011",
          "Q3-2011",
          "Q4-2011",
          "Q1-2012",
          "Q2-2012",
          "Q3-2012",
          "Q4-2012",
          "Q1-2013",
          "Q2-2013",
          "Q3-2013",
          "Q4-2013",
          "Q1-2014",
          "Q2-2014",
          "Q3-2014",
          "Q4-2014",
          "Q1-2015",
          "Q2-2015",
          "Q3-2015",
          "Q4-2015",
          "Q1-2016",
          "Q2-2016",
          "Q3-2016",
          "Q4-2016",
          "Q1-2017",
          "Q2-2017",
          "Q3-2017",
          "Q4-2017",
          "Q1-2018",
          "Q2-2018",
          "Q3-2018",
          "Q4-2018",
          "Q1-2019",
          "Q2-2019",
          "Q3-2019",
          "Q4-2019",
          "Q1-2020",
          "Q2-2020",
          "Q3-2020",
          "Q4-2020",
          "Q1-2021",
          "Q2-2021",
          "Q3-2021",
          "Q4-2021",
          "Q1-2022"
         ],
         "xaxis": "x",
         "y": {
          "bdata": "FgAAAEMAAACQAAAAUgAAANkAAADZAAAAzgEAAN4BAAC8BAAAQwQAAGYGAACsBQAARQoAAGcRAAB/FwAALBUAAJoYAAA7FwAALRwAAHobAACzKwAAQCkAAPs0AACGNQAAbkoAAERMAAAlUQAA60YAAIBbAADgVQAAqVgAAJ5UAABWawAA02oAAC11AACLawAA8H4AAC6EAACvjgAAaYAAAE+ZAACVnAAAKacAAMuPAADUqgAAWJ8AALSZAADnfgAAPpYAADOjAADGnQAAa4wAAFWeAADcpAAAe58AAIKJAAD+lQAAupUAADKVAAAJfQAA/HAAAHQqAAATRQAAYkIAAC5GAAC5UwAAa1IAAG1MAAD/EAAA",
          "dtype": "i4"
         },
         "yaxis": "y"
        },
        {
         "hovertemplate": "Star Rating=5 Star<br>Quarter-Year=%{x}<br>Review Count=%{y}<extra></extra>",
         "legendgroup": "5 Star",
         "line": {
          "color": "#FFA15A",
          "dash": "solid"
         },
         "marker": {
          "symbol": "circle"
         },
         "mode": "lines",
         "name": "5 Star",
         "orientation": "v",
         "showlegend": true,
         "type": "scatter",
         "x": [
          "Q1-2005",
          "Q2-2005",
          "Q3-2005",
          "Q4-2005",
          "Q1-2006",
          "Q2-2006",
          "Q3-2006",
          "Q4-2006",
          "Q1-2007",
          "Q2-2007",
          "Q3-2007",
          "Q4-2007",
          "Q1-2008",
          "Q2-2008",
          "Q3-2008",
          "Q4-2008",
          "Q1-2009",
          "Q2-2009",
          "Q3-2009",
          "Q4-2009",
          "Q1-2010",
          "Q2-2010",
          "Q3-2010",
          "Q4-2010",
          "Q1-2011",
          "Q2-2011",
          "Q3-2011",
          "Q4-2011",
          "Q1-2012",
          "Q2-2012",
          "Q3-2012",
          "Q4-2012",
          "Q1-2013",
          "Q2-2013",
          "Q3-2013",
          "Q4-2013",
          "Q1-2014",
          "Q2-2014",
          "Q3-2014",
          "Q4-2014",
          "Q1-2015",
          "Q2-2015",
          "Q3-2015",
          "Q4-2015",
          "Q1-2016",
          "Q2-2016",
          "Q3-2016",
          "Q4-2016",
          "Q1-2017",
          "Q2-2017",
          "Q3-2017",
          "Q4-2017",
          "Q1-2018",
          "Q2-2018",
          "Q3-2018",
          "Q4-2018",
          "Q1-2019",
          "Q2-2019",
          "Q3-2019",
          "Q4-2019",
          "Q1-2020",
          "Q2-2020",
          "Q3-2020",
          "Q4-2020",
          "Q1-2021",
          "Q2-2021",
          "Q3-2021",
          "Q4-2021",
          "Q1-2022"
         ],
         "xaxis": "x",
         "y": {
          "bdata": "GAAAAEQAAABwAAAAUAAAAPIAAADfAAAACgIAAOkBAADZAwAAnwQAAN4GAAAEBQAAawkAAP0OAACKEAAAKg8AAKsTAABXFAAA0BgAABQXAABJIwAAHyQAALEvAAC9LwAAC0MAABVHAAB6UQAAZkcAAMlcAAAEXAAAlWQAAN9dAADHdwAA3H0AADyVAABMkwAAu7QAAL3JAACp5gAAj9cAAAQIAQAOJgEAtEYBAFAoAQA4YAEA92gBAGxtAQA5OQEA13ABAP6ZAQDenAEAr28BAMynAQCd1QEANd0BAL2aAQCwzQEApd8BAFXdAQCMiQEAyG8BACHOAABWPAEAFSQBAFM2AQCjXQEAOUYBAEgdAQC1QAAA",
          "dtype": "i4"
         },
         "yaxis": "y"
        }
       ],
       "layout": {
        "legend": {
         "title": {
          "text": "Star Rating"
         },
         "tracegroupgap": 0
        },
        "template": {
         "data": {
          "bar": [
           {
            "error_x": {
             "color": "#2a3f5f"
            },
            "error_y": {
             "color": "#2a3f5f"
            },
            "marker": {
             "line": {
              "color": "#E5ECF6",
              "width": 0.5
             },
             "pattern": {
              "fillmode": "overlay",
              "size": 10,
              "solidity": 0.2
             }
            },
            "type": "bar"
           }
          ],
          "barpolar": [
           {
            "marker": {
             "line": {
              "color": "#E5ECF6",
              "width": 0.5
             },
             "pattern": {
              "fillmode": "overlay",
              "size": 10,
              "solidity": 0.2
             }
            },
            "type": "barpolar"
           }
          ],
          "carpet": [
           {
            "aaxis": {
             "endlinecolor": "#2a3f5f",
             "gridcolor": "white",
             "linecolor": "white",
             "minorgridcolor": "white",
             "startlinecolor": "#2a3f5f"
            },
            "baxis": {
             "endlinecolor": "#2a3f5f",
             "gridcolor": "white",
             "linecolor": "white",
             "minorgridcolor": "white",
             "startlinecolor": "#2a3f5f"
            },
            "type": "carpet"
           }
          ],
          "choropleth": [
           {
            "colorbar": {
             "outlinewidth": 0,
             "ticks": ""
            },
            "type": "choropleth"
           }
          ],
          "contour": [
           {
            "colorbar": {
             "outlinewidth": 0,
             "ticks": ""
            },
            "colorscale": [
             [
              0,
              "#0d0887"
             ],
             [
              0.1111111111111111,
              "#46039f"
             ],
             [
              0.2222222222222222,
              "#7201a8"
             ],
             [
              0.3333333333333333,
              "#9c179e"
             ],
             [
              0.4444444444444444,
              "#bd3786"
             ],
             [
              0.5555555555555556,
              "#d8576b"
             ],
             [
              0.6666666666666666,
              "#ed7953"
             ],
             [
              0.7777777777777778,
              "#fb9f3a"
             ],
             [
              0.8888888888888888,
              "#fdca26"
             ],
             [
              1,
              "#f0f921"
             ]
            ],
            "type": "contour"
           }
          ],
          "contourcarpet": [
           {
            "colorbar": {
             "outlinewidth": 0,
             "ticks": ""
            },
            "type": "contourcarpet"
           }
          ],
          "heatmap": [
           {
            "colorbar": {
             "outlinewidth": 0,
             "ticks": ""
            },
            "colorscale": [
             [
              0,
              "#0d0887"
             ],
             [
              0.1111111111111111,
              "#46039f"
             ],
             [
              0.2222222222222222,
              "#7201a8"
             ],
             [
              0.3333333333333333,
              "#9c179e"
             ],
             [
              0.4444444444444444,
              "#bd3786"
             ],
             [
              0.5555555555555556,
              "#d8576b"
             ],
             [
              0.6666666666666666,
              "#ed7953"
             ],
             [
              0.7777777777777778,
              "#fb9f3a"
             ],
             [
              0.8888888888888888,
              "#fdca26"
             ],
             [
              1,
              "#f0f921"
             ]
            ],
            "type": "heatmap"
           }
          ],
          "histogram": [
           {
            "marker": {
             "pattern": {
              "fillmode": "overlay",
              "size": 10,
              "solidity": 0.2
             }
            },
            "type": "histogram"
           }
          ],
          "histogram2d": [
           {
            "colorbar": {
             "outlinewidth": 0,
             "ticks": ""
            },
            "colorscale": [
             [
              0,
              "#0d0887"
             ],
             [
              0.1111111111111111,
              "#46039f"
             ],
             [
              0.2222222222222222,
              "#7201a8"
             ],
             [
              0.3333333333333333,
              "#9c179e"
             ],
             [
              0.4444444444444444,
              "#bd3786"
             ],
             [
              0.5555555555555556,
              "#d8576b"
             ],
             [
              0.6666666666666666,
              "#ed7953"
             ],
             [
              0.7777777777777778,
              "#fb9f3a"
             ],
             [
              0.8888888888888888,
              "#fdca26"
             ],
             [
              1,
              "#f0f921"
             ]
            ],
            "type": "histogram2d"
           }
          ],
          "histogram2dcontour": [
           {
            "colorbar": {
             "outlinewidth": 0,
             "ticks": ""
            },
            "colorscale": [
             [
              0,
              "#0d0887"
             ],
             [
              0.1111111111111111,
              "#46039f"
             ],
             [
              0.2222222222222222,
              "#7201a8"
             ],
             [
              0.3333333333333333,
              "#9c179e"
             ],
             [
              0.4444444444444444,
              "#bd3786"
             ],
             [
              0.5555555555555556,
              "#d8576b"
             ],
             [
              0.6666666666666666,
              "#ed7953"
             ],
             [
              0.7777777777777778,
              "#fb9f3a"
             ],
             [
              0.8888888888888888,
              "#fdca26"
             ],
             [
              1,
              "#f0f921"
             ]
            ],
            "type": "histogram2dcontour"
           }
          ],
          "mesh3d": [
           {
            "colorbar": {
             "outlinewidth": 0,
             "ticks": ""
            },
            "type": "mesh3d"
           }
          ],
          "parcoords": [
           {
            "line": {
             "colorbar": {
              "outlinewidth": 0,
              "ticks": ""
             }
            },
            "type": "parcoords"
           }
          ],
          "pie": [
           {
            "automargin": true,
            "type": "pie"
           }
          ],
          "scatter": [
           {
            "fillpattern": {
             "fillmode": "overlay",
             "size": 10,
             "solidity": 0.2
            },
            "type": "scatter"
           }
          ],
          "scatter3d": [
           {
            "line": {
             "colorbar": {
              "outlinewidth": 0,
              "ticks": ""
             }
            },
            "marker": {
             "colorbar": {
              "outlinewidth": 0,
              "ticks": ""
             }
            },
            "type": "scatter3d"
           }
          ],
          "scattercarpet": [
           {
            "marker": {
             "colorbar": {
              "outlinewidth": 0,
              "ticks": ""
             }
            },
            "type": "scattercarpet"
           }
          ],
          "scattergeo": [
           {
            "marker": {
             "colorbar": {
              "outlinewidth": 0,
              "ticks": ""
             }
            },
            "type": "scattergeo"
           }
          ],
          "scattergl": [
           {
            "marker": {
             "colorbar": {
              "outlinewidth": 0,
              "ticks": ""
             }
            },
            "type": "scattergl"
           }
          ],
          "scattermap": [
           {
            "marker": {
             "colorbar": {
              "outlinewidth": 0,
              "ticks": ""
             }
            },
            "type": "scattermap"
           }
          ],
          "scattermapbox": [
           {
            "marker": {
             "colorbar": {
              "outlinewidth": 0,
              "ticks": ""
             }
            },
            "type": "scattermapbox"
           }
          ],
          "scatterpolar": [
           {
            "marker": {
             "colorbar": {
              "outlinewidth": 0,
              "ticks": ""
             }
            },
            "type": "scatterpolar"
           }
          ],
          "scatterpolargl": [
           {
            "marker": {
             "colorbar": {
              "outlinewidth": 0,
              "ticks": ""
             }
            },
            "type": "scatterpolargl"
           }
          ],
          "scatterternary": [
           {
            "marker": {
             "colorbar": {
              "outlinewidth": 0,
              "ticks": ""
             }
            },
            "type": "scatterternary"
           }
          ],
          "surface": [
           {
            "colorbar": {
             "outlinewidth": 0,
             "ticks": ""
            },
            "colorscale": [
             [
              0,
              "#0d0887"
             ],
             [
              0.1111111111111111,
              "#46039f"
             ],
             [
              0.2222222222222222,
              "#7201a8"
             ],
             [
              0.3333333333333333,
              "#9c179e"
             ],
             [
              0.4444444444444444,
              "#bd3786"
             ],
             [
              0.5555555555555556,
              "#d8576b"
             ],
             [
              0.6666666666666666,
              "#ed7953"
             ],
             [
              0.7777777777777778,
              "#fb9f3a"
             ],
             [
              0.8888888888888888,
              "#fdca26"
             ],
             [
              1,
              "#f0f921"
             ]
            ],
            "type": "surface"
           }
          ],
          "table": [
           {
            "cells": {
             "fill": {
              "color": "#EBF0F8"
             },
             "line": {
              "color": "white"
             }
            },
            "header": {
             "fill": {
              "color": "#C8D4E3"
             },
             "line": {
              "color": "white"
             }
            },
            "type": "table"
           }
          ]
         },
         "layout": {
          "annotationdefaults": {
           "arrowcolor": "#2a3f5f",
           "arrowhead": 0,
           "arrowwidth": 1
          },
          "autotypenumbers": "strict",
          "coloraxis": {
           "colorbar": {
            "outlinewidth": 0,
            "ticks": ""
           }
          },
          "colorscale": {
           "diverging": [
            [
             0,
             "#8e0152"
            ],
            [
             0.1,
             "#c51b7d"
            ],
            [
             0.2,
             "#de77ae"
            ],
            [
             0.3,
             "#f1b6da"
            ],
            [
             0.4,
             "#fde0ef"
            ],
            [
             0.5,
             "#f7f7f7"
            ],
            [
             0.6,
             "#e6f5d0"
            ],
            [
             0.7,
             "#b8e186"
            ],
            [
             0.8,
             "#7fbc41"
            ],
            [
             0.9,
             "#4d9221"
            ],
            [
             1,
             "#276419"
            ]
           ],
           "sequential": [
            [
             0,
             "#0d0887"
            ],
            [
             0.1111111111111111,
             "#46039f"
            ],
            [
             0.2222222222222222,
             "#7201a8"
            ],
            [
             0.3333333333333333,
             "#9c179e"
            ],
            [
             0.4444444444444444,
             "#bd3786"
            ],
            [
             0.5555555555555556,
             "#d8576b"
            ],
            [
             0.6666666666666666,
             "#ed7953"
            ],
            [
             0.7777777777777778,
             "#fb9f3a"
            ],
            [
             0.8888888888888888,
             "#fdca26"
            ],
            [
             1,
             "#f0f921"
            ]
           ],
           "sequentialminus": [
            [
             0,
             "#0d0887"
            ],
            [
             0.1111111111111111,
             "#46039f"
            ],
            [
             0.2222222222222222,
             "#7201a8"
            ],
            [
             0.3333333333333333,
             "#9c179e"
            ],
            [
             0.4444444444444444,
             "#bd3786"
            ],
            [
             0.5555555555555556,
             "#d8576b"
            ],
            [
             0.6666666666666666,
             "#ed7953"
            ],
            [
             0.7777777777777778,
             "#fb9f3a"
            ],
            [
             0.8888888888888888,
             "#fdca26"
            ],
            [
             1,
             "#f0f921"
            ]
           ]
          },
          "colorway": [
           "#636efa",
           "#EF553B",
           "#00cc96",
           "#ab63fa",
           "#FFA15A",
           "#19d3f3",
           "#FF6692",
           "#B6E880",
           "#FF97FF",
           "#FECB52"
          ],
          "font": {
           "color": "#2a3f5f"
          },
          "geo": {
           "bgcolor": "white",
           "lakecolor": "white",
           "landcolor": "#E5ECF6",
           "showlakes": true,
           "showland": true,
           "subunitcolor": "white"
          },
          "hoverlabel": {
           "align": "left"
          },
          "hovermode": "closest",
          "mapbox": {
           "style": "light"
          },
          "paper_bgcolor": "white",
          "plot_bgcolor": "#E5ECF6",
          "polar": {
           "angularaxis": {
            "gridcolor": "white",
            "linecolor": "white",
            "ticks": ""
           },
           "bgcolor": "#E5ECF6",
           "radialaxis": {
            "gridcolor": "white",
            "linecolor": "white",
            "ticks": ""
           }
          },
          "scene": {
           "xaxis": {
            "backgroundcolor": "#E5ECF6",
            "gridcolor": "white",
            "gridwidth": 2,
            "linecolor": "white",
            "showbackground": true,
            "ticks": "",
            "zerolinecolor": "white"
           },
           "yaxis": {
            "backgroundcolor": "#E5ECF6",
            "gridcolor": "white",
            "gridwidth": 2,
            "linecolor": "white",
            "showbackground": true,
            "ticks": "",
            "zerolinecolor": "white"
           },
           "zaxis": {
            "backgroundcolor": "#E5ECF6",
            "gridcolor": "white",
            "gridwidth": 2,
            "linecolor": "white",
            "showbackground": true,
            "ticks": "",
            "zerolinecolor": "white"
           }
          },
          "shapedefaults": {
           "line": {
            "color": "#2a3f5f"
           }
          },
          "ternary": {
           "aaxis": {
            "gridcolor": "white",
            "linecolor": "white",
            "ticks": ""
           },
           "baxis": {
            "gridcolor": "white",
            "linecolor": "white",
            "ticks": ""
           },
           "bgcolor": "#E5ECF6",
           "caxis": {
            "gridcolor": "white",
            "linecolor": "white",
            "ticks": ""
           }
          },
          "title": {
           "x": 0.05
          },
          "xaxis": {
           "automargin": true,
           "gridcolor": "white",
           "linecolor": "white",
           "ticks": "",
           "title": {
            "standoff": 15
           },
           "zerolinecolor": "white",
           "zerolinewidth": 2
          },
          "yaxis": {
           "automargin": true,
           "gridcolor": "white",
           "linecolor": "white",
           "ticks": "",
           "title": {
            "standoff": 15
           },
           "zerolinecolor": "white",
           "zerolinewidth": 2
          }
         }
        },
        "title": {
         "text": "Figure 8: Quarterly Yelp Star Rating Counts by Year"
        },
        "xaxis": {
         "anchor": "y",
         "domain": [
          0,
          1
         ],
         "title": {
          "text": "Quarter-Year"
         }
        },
        "yaxis": {
         "anchor": "x",
         "domain": [
          0,
          1
         ],
         "title": {
          "text": "Review Count"
         }
        }
       }
      }
     },
     "metadata": {},
     "output_type": "display_data"
    },
    {
     "data": {
      "application/vnd.plotly.v1+json": {
       "config": {
        "plotlyServerURL": "https://plot.ly"
       },
       "data": [
        {
         "hovertemplate": "Quarter-Year=%{x}<br>Review Count=%{y}<extra></extra>",
         "legendgroup": "",
         "line": {
          "color": "#636efa",
          "dash": "solid"
         },
         "marker": {
          "symbol": "circle"
         },
         "mode": "lines",
         "name": "",
         "orientation": "v",
         "showlegend": false,
         "type": "scatter",
         "x": [
          "Q1-2005",
          "Q2-2005",
          "Q3-2005",
          "Q4-2005",
          "Q1-2006",
          "Q2-2006",
          "Q3-2006",
          "Q4-2006",
          "Q1-2007",
          "Q2-2007",
          "Q3-2007",
          "Q4-2007",
          "Q1-2008",
          "Q2-2008",
          "Q3-2008",
          "Q4-2008",
          "Q1-2009",
          "Q2-2009",
          "Q3-2009",
          "Q4-2009",
          "Q1-2010",
          "Q2-2010",
          "Q3-2010",
          "Q4-2010",
          "Q1-2011",
          "Q2-2011",
          "Q3-2011",
          "Q4-2011",
          "Q1-2012",
          "Q2-2012",
          "Q3-2012",
          "Q4-2012",
          "Q1-2013",
          "Q2-2013",
          "Q3-2013",
          "Q4-2013",
          "Q1-2014",
          "Q2-2014",
          "Q3-2014",
          "Q4-2014",
          "Q1-2015",
          "Q2-2015",
          "Q3-2015",
          "Q4-2015",
          "Q1-2016",
          "Q2-2016",
          "Q3-2016",
          "Q4-2016",
          "Q1-2017",
          "Q2-2017",
          "Q3-2017",
          "Q4-2017",
          "Q1-2018",
          "Q2-2018",
          "Q3-2018",
          "Q4-2018",
          "Q1-2019",
          "Q2-2019",
          "Q3-2019",
          "Q4-2019",
          "Q1-2020",
          "Q2-2020",
          "Q3-2020",
          "Q4-2020",
          "Q1-2021",
          "Q2-2021",
          "Q3-2021",
          "Q4-2021",
          "Q1-2022"
         ],
         "xaxis": "x",
         "y": {
          "bdata": "TQAAAKwAAACKAQAA0wAAAFUCAABYAgAAPgUAACIFAABxDQAAWAwAAJ8SAACbDwAA1xsAAKYtAAA6PAAAqzYAAONCAAAUQgAAgVAAABtNAACcdwAAtnUAAAmXAAAAmQAAVNMAAA7fAACk9wAAl9sAAI0YAQDLEAEArSIBAGUTAQALWwEAhGYBADOWAQAMhAEAa8sBAAv2AQBZMQIAVAUCAH1yAgCioQIABd4CAPuOAgBQAAMAIwIDAPICAwD9jgIAovkCAHxQAwBFSgMA7e4CAPlWAwD+pAMADK0DAHcrAwDghAMAo6kDAPyiAwCVBgMArb8CAERyAQBaOwIA8ggCAKYsAgCtlQIA230CAJ8uAgCxewAA",
          "dtype": "i4"
         },
         "yaxis": "y"
        }
       ],
       "layout": {
        "legend": {
         "tracegroupgap": 0
        },
        "template": {
         "data": {
          "bar": [
           {
            "error_x": {
             "color": "#2a3f5f"
            },
            "error_y": {
             "color": "#2a3f5f"
            },
            "marker": {
             "line": {
              "color": "#E5ECF6",
              "width": 0.5
             },
             "pattern": {
              "fillmode": "overlay",
              "size": 10,
              "solidity": 0.2
             }
            },
            "type": "bar"
           }
          ],
          "barpolar": [
           {
            "marker": {
             "line": {
              "color": "#E5ECF6",
              "width": 0.5
             },
             "pattern": {
              "fillmode": "overlay",
              "size": 10,
              "solidity": 0.2
             }
            },
            "type": "barpolar"
           }
          ],
          "carpet": [
           {
            "aaxis": {
             "endlinecolor": "#2a3f5f",
             "gridcolor": "white",
             "linecolor": "white",
             "minorgridcolor": "white",
             "startlinecolor": "#2a3f5f"
            },
            "baxis": {
             "endlinecolor": "#2a3f5f",
             "gridcolor": "white",
             "linecolor": "white",
             "minorgridcolor": "white",
             "startlinecolor": "#2a3f5f"
            },
            "type": "carpet"
           }
          ],
          "choropleth": [
           {
            "colorbar": {
             "outlinewidth": 0,
             "ticks": ""
            },
            "type": "choropleth"
           }
          ],
          "contour": [
           {
            "colorbar": {
             "outlinewidth": 0,
             "ticks": ""
            },
            "colorscale": [
             [
              0,
              "#0d0887"
             ],
             [
              0.1111111111111111,
              "#46039f"
             ],
             [
              0.2222222222222222,
              "#7201a8"
             ],
             [
              0.3333333333333333,
              "#9c179e"
             ],
             [
              0.4444444444444444,
              "#bd3786"
             ],
             [
              0.5555555555555556,
              "#d8576b"
             ],
             [
              0.6666666666666666,
              "#ed7953"
             ],
             [
              0.7777777777777778,
              "#fb9f3a"
             ],
             [
              0.8888888888888888,
              "#fdca26"
             ],
             [
              1,
              "#f0f921"
             ]
            ],
            "type": "contour"
           }
          ],
          "contourcarpet": [
           {
            "colorbar": {
             "outlinewidth": 0,
             "ticks": ""
            },
            "type": "contourcarpet"
           }
          ],
          "heatmap": [
           {
            "colorbar": {
             "outlinewidth": 0,
             "ticks": ""
            },
            "colorscale": [
             [
              0,
              "#0d0887"
             ],
             [
              0.1111111111111111,
              "#46039f"
             ],
             [
              0.2222222222222222,
              "#7201a8"
             ],
             [
              0.3333333333333333,
              "#9c179e"
             ],
             [
              0.4444444444444444,
              "#bd3786"
             ],
             [
              0.5555555555555556,
              "#d8576b"
             ],
             [
              0.6666666666666666,
              "#ed7953"
             ],
             [
              0.7777777777777778,
              "#fb9f3a"
             ],
             [
              0.8888888888888888,
              "#fdca26"
             ],
             [
              1,
              "#f0f921"
             ]
            ],
            "type": "heatmap"
           }
          ],
          "histogram": [
           {
            "marker": {
             "pattern": {
              "fillmode": "overlay",
              "size": 10,
              "solidity": 0.2
             }
            },
            "type": "histogram"
           }
          ],
          "histogram2d": [
           {
            "colorbar": {
             "outlinewidth": 0,
             "ticks": ""
            },
            "colorscale": [
             [
              0,
              "#0d0887"
             ],
             [
              0.1111111111111111,
              "#46039f"
             ],
             [
              0.2222222222222222,
              "#7201a8"
             ],
             [
              0.3333333333333333,
              "#9c179e"
             ],
             [
              0.4444444444444444,
              "#bd3786"
             ],
             [
              0.5555555555555556,
              "#d8576b"
             ],
             [
              0.6666666666666666,
              "#ed7953"
             ],
             [
              0.7777777777777778,
              "#fb9f3a"
             ],
             [
              0.8888888888888888,
              "#fdca26"
             ],
             [
              1,
              "#f0f921"
             ]
            ],
            "type": "histogram2d"
           }
          ],
          "histogram2dcontour": [
           {
            "colorbar": {
             "outlinewidth": 0,
             "ticks": ""
            },
            "colorscale": [
             [
              0,
              "#0d0887"
             ],
             [
              0.1111111111111111,
              "#46039f"
             ],
             [
              0.2222222222222222,
              "#7201a8"
             ],
             [
              0.3333333333333333,
              "#9c179e"
             ],
             [
              0.4444444444444444,
              "#bd3786"
             ],
             [
              0.5555555555555556,
              "#d8576b"
             ],
             [
              0.6666666666666666,
              "#ed7953"
             ],
             [
              0.7777777777777778,
              "#fb9f3a"
             ],
             [
              0.8888888888888888,
              "#fdca26"
             ],
             [
              1,
              "#f0f921"
             ]
            ],
            "type": "histogram2dcontour"
           }
          ],
          "mesh3d": [
           {
            "colorbar": {
             "outlinewidth": 0,
             "ticks": ""
            },
            "type": "mesh3d"
           }
          ],
          "parcoords": [
           {
            "line": {
             "colorbar": {
              "outlinewidth": 0,
              "ticks": ""
             }
            },
            "type": "parcoords"
           }
          ],
          "pie": [
           {
            "automargin": true,
            "type": "pie"
           }
          ],
          "scatter": [
           {
            "fillpattern": {
             "fillmode": "overlay",
             "size": 10,
             "solidity": 0.2
            },
            "type": "scatter"
           }
          ],
          "scatter3d": [
           {
            "line": {
             "colorbar": {
              "outlinewidth": 0,
              "ticks": ""
             }
            },
            "marker": {
             "colorbar": {
              "outlinewidth": 0,
              "ticks": ""
             }
            },
            "type": "scatter3d"
           }
          ],
          "scattercarpet": [
           {
            "marker": {
             "colorbar": {
              "outlinewidth": 0,
              "ticks": ""
             }
            },
            "type": "scattercarpet"
           }
          ],
          "scattergeo": [
           {
            "marker": {
             "colorbar": {
              "outlinewidth": 0,
              "ticks": ""
             }
            },
            "type": "scattergeo"
           }
          ],
          "scattergl": [
           {
            "marker": {
             "colorbar": {
              "outlinewidth": 0,
              "ticks": ""
             }
            },
            "type": "scattergl"
           }
          ],
          "scattermap": [
           {
            "marker": {
             "colorbar": {
              "outlinewidth": 0,
              "ticks": ""
             }
            },
            "type": "scattermap"
           }
          ],
          "scattermapbox": [
           {
            "marker": {
             "colorbar": {
              "outlinewidth": 0,
              "ticks": ""
             }
            },
            "type": "scattermapbox"
           }
          ],
          "scatterpolar": [
           {
            "marker": {
             "colorbar": {
              "outlinewidth": 0,
              "ticks": ""
             }
            },
            "type": "scatterpolar"
           }
          ],
          "scatterpolargl": [
           {
            "marker": {
             "colorbar": {
              "outlinewidth": 0,
              "ticks": ""
             }
            },
            "type": "scatterpolargl"
           }
          ],
          "scatterternary": [
           {
            "marker": {
             "colorbar": {
              "outlinewidth": 0,
              "ticks": ""
             }
            },
            "type": "scatterternary"
           }
          ],
          "surface": [
           {
            "colorbar": {
             "outlinewidth": 0,
             "ticks": ""
            },
            "colorscale": [
             [
              0,
              "#0d0887"
             ],
             [
              0.1111111111111111,
              "#46039f"
             ],
             [
              0.2222222222222222,
              "#7201a8"
             ],
             [
              0.3333333333333333,
              "#9c179e"
             ],
             [
              0.4444444444444444,
              "#bd3786"
             ],
             [
              0.5555555555555556,
              "#d8576b"
             ],
             [
              0.6666666666666666,
              "#ed7953"
             ],
             [
              0.7777777777777778,
              "#fb9f3a"
             ],
             [
              0.8888888888888888,
              "#fdca26"
             ],
             [
              1,
              "#f0f921"
             ]
            ],
            "type": "surface"
           }
          ],
          "table": [
           {
            "cells": {
             "fill": {
              "color": "#EBF0F8"
             },
             "line": {
              "color": "white"
             }
            },
            "header": {
             "fill": {
              "color": "#C8D4E3"
             },
             "line": {
              "color": "white"
             }
            },
            "type": "table"
           }
          ]
         },
         "layout": {
          "annotationdefaults": {
           "arrowcolor": "#2a3f5f",
           "arrowhead": 0,
           "arrowwidth": 1
          },
          "autotypenumbers": "strict",
          "coloraxis": {
           "colorbar": {
            "outlinewidth": 0,
            "ticks": ""
           }
          },
          "colorscale": {
           "diverging": [
            [
             0,
             "#8e0152"
            ],
            [
             0.1,
             "#c51b7d"
            ],
            [
             0.2,
             "#de77ae"
            ],
            [
             0.3,
             "#f1b6da"
            ],
            [
             0.4,
             "#fde0ef"
            ],
            [
             0.5,
             "#f7f7f7"
            ],
            [
             0.6,
             "#e6f5d0"
            ],
            [
             0.7,
             "#b8e186"
            ],
            [
             0.8,
             "#7fbc41"
            ],
            [
             0.9,
             "#4d9221"
            ],
            [
             1,
             "#276419"
            ]
           ],
           "sequential": [
            [
             0,
             "#0d0887"
            ],
            [
             0.1111111111111111,
             "#46039f"
            ],
            [
             0.2222222222222222,
             "#7201a8"
            ],
            [
             0.3333333333333333,
             "#9c179e"
            ],
            [
             0.4444444444444444,
             "#bd3786"
            ],
            [
             0.5555555555555556,
             "#d8576b"
            ],
            [
             0.6666666666666666,
             "#ed7953"
            ],
            [
             0.7777777777777778,
             "#fb9f3a"
            ],
            [
             0.8888888888888888,
             "#fdca26"
            ],
            [
             1,
             "#f0f921"
            ]
           ],
           "sequentialminus": [
            [
             0,
             "#0d0887"
            ],
            [
             0.1111111111111111,
             "#46039f"
            ],
            [
             0.2222222222222222,
             "#7201a8"
            ],
            [
             0.3333333333333333,
             "#9c179e"
            ],
            [
             0.4444444444444444,
             "#bd3786"
            ],
            [
             0.5555555555555556,
             "#d8576b"
            ],
            [
             0.6666666666666666,
             "#ed7953"
            ],
            [
             0.7777777777777778,
             "#fb9f3a"
            ],
            [
             0.8888888888888888,
             "#fdca26"
            ],
            [
             1,
             "#f0f921"
            ]
           ]
          },
          "colorway": [
           "#636efa",
           "#EF553B",
           "#00cc96",
           "#ab63fa",
           "#FFA15A",
           "#19d3f3",
           "#FF6692",
           "#B6E880",
           "#FF97FF",
           "#FECB52"
          ],
          "font": {
           "color": "#2a3f5f"
          },
          "geo": {
           "bgcolor": "white",
           "lakecolor": "white",
           "landcolor": "#E5ECF6",
           "showlakes": true,
           "showland": true,
           "subunitcolor": "white"
          },
          "hoverlabel": {
           "align": "left"
          },
          "hovermode": "closest",
          "mapbox": {
           "style": "light"
          },
          "paper_bgcolor": "white",
          "plot_bgcolor": "#E5ECF6",
          "polar": {
           "angularaxis": {
            "gridcolor": "white",
            "linecolor": "white",
            "ticks": ""
           },
           "bgcolor": "#E5ECF6",
           "radialaxis": {
            "gridcolor": "white",
            "linecolor": "white",
            "ticks": ""
           }
          },
          "scene": {
           "xaxis": {
            "backgroundcolor": "#E5ECF6",
            "gridcolor": "white",
            "gridwidth": 2,
            "linecolor": "white",
            "showbackground": true,
            "ticks": "",
            "zerolinecolor": "white"
           },
           "yaxis": {
            "backgroundcolor": "#E5ECF6",
            "gridcolor": "white",
            "gridwidth": 2,
            "linecolor": "white",
            "showbackground": true,
            "ticks": "",
            "zerolinecolor": "white"
           },
           "zaxis": {
            "backgroundcolor": "#E5ECF6",
            "gridcolor": "white",
            "gridwidth": 2,
            "linecolor": "white",
            "showbackground": true,
            "ticks": "",
            "zerolinecolor": "white"
           }
          },
          "shapedefaults": {
           "line": {
            "color": "#2a3f5f"
           }
          },
          "ternary": {
           "aaxis": {
            "gridcolor": "white",
            "linecolor": "white",
            "ticks": ""
           },
           "baxis": {
            "gridcolor": "white",
            "linecolor": "white",
            "ticks": ""
           },
           "bgcolor": "#E5ECF6",
           "caxis": {
            "gridcolor": "white",
            "linecolor": "white",
            "ticks": ""
           }
          },
          "title": {
           "x": 0.05
          },
          "xaxis": {
           "automargin": true,
           "gridcolor": "white",
           "linecolor": "white",
           "ticks": "",
           "title": {
            "standoff": 15
           },
           "zerolinecolor": "white",
           "zerolinewidth": 2
          },
          "yaxis": {
           "automargin": true,
           "gridcolor": "white",
           "linecolor": "white",
           "ticks": "",
           "title": {
            "standoff": 15
           },
           "zerolinecolor": "white",
           "zerolinewidth": 2
          }
         }
        },
        "title": {
         "text": "Figure 9: Quarterly Yelp Review Volume by Year"
        },
        "xaxis": {
         "anchor": "y",
         "domain": [
          0,
          1
         ],
         "title": {
          "text": "Quarter-Year"
         }
        },
        "yaxis": {
         "anchor": "x",
         "domain": [
          0,
          1
         ],
         "title": {
          "text": "Review Count"
         }
        }
       }
      }
     },
     "metadata": {},
     "output_type": "display_data"
    },
    {
     "data": {
      "application/vnd.plotly.v1+json": {
       "config": {
        "plotlyServerURL": "https://plot.ly"
       },
       "data": [
        {
         "hovertemplate": "Quarter-Year=%{x}<br>Average Star Rating=%{y}<extra></extra>",
         "legendgroup": "",
         "line": {
          "color": "#636efa",
          "dash": "solid"
         },
         "marker": {
          "symbol": "circle"
         },
         "mode": "lines",
         "name": "",
         "orientation": "v",
         "showlegend": false,
         "type": "scatter",
         "x": [
          "Q1-2005",
          "Q2-2005",
          "Q3-2005",
          "Q4-2005",
          "Q1-2006",
          "Q2-2006",
          "Q3-2006",
          "Q4-2006",
          "Q1-2007",
          "Q2-2007",
          "Q3-2007",
          "Q4-2007",
          "Q1-2008",
          "Q2-2008",
          "Q3-2008",
          "Q4-2008",
          "Q1-2009",
          "Q2-2009",
          "Q3-2009",
          "Q4-2009",
          "Q1-2010",
          "Q2-2010",
          "Q3-2010",
          "Q4-2010",
          "Q1-2011",
          "Q2-2011",
          "Q3-2011",
          "Q4-2011",
          "Q1-2012",
          "Q2-2012",
          "Q3-2012",
          "Q4-2012",
          "Q1-2013",
          "Q2-2013",
          "Q3-2013",
          "Q4-2013",
          "Q1-2014",
          "Q2-2014",
          "Q3-2014",
          "Q4-2014",
          "Q1-2015",
          "Q2-2015",
          "Q3-2015",
          "Q4-2015",
          "Q1-2016",
          "Q2-2016",
          "Q3-2016",
          "Q4-2016",
          "Q1-2017",
          "Q2-2017",
          "Q3-2017",
          "Q4-2017",
          "Q1-2018",
          "Q2-2018",
          "Q3-2018",
          "Q4-2018",
          "Q1-2019",
          "Q2-2019",
          "Q3-2019",
          "Q4-2019",
          "Q1-2020",
          "Q2-2020",
          "Q3-2020",
          "Q4-2020",
          "Q1-2021",
          "Q2-2021",
          "Q3-2021",
          "Q4-2021",
          "Q1-2022"
         ],
         "xaxis": "x",
         "y": [
          3.68,
          4.08,
          3.79,
          4.04,
          4.05,
          3.96,
          3.99,
          3.99,
          3.76,
          3.94,
          3.93,
          3.82,
          3.87,
          3.88,
          3.75,
          3.76,
          3.73,
          3.72,
          3.72,
          3.71,
          3.72,
          3.71,
          3.73,
          3.72,
          3.74,
          3.71,
          3.7,
          3.68,
          3.7,
          3.68,
          3.67,
          3.67,
          3.69,
          3.67,
          3.69,
          3.69,
          3.73,
          3.72,
          3.72,
          3.72,
          3.73,
          3.74,
          3.75,
          3.75,
          3.78,
          3.76,
          3.76,
          3.76,
          3.79,
          3.77,
          3.78,
          3.77,
          3.79,
          3.79,
          3.78,
          3.77,
          3.79,
          3.76,
          3.77,
          3.75,
          3.8,
          3.74,
          3.77,
          3.81,
          3.8,
          3.7,
          3.65,
          3.67,
          3.7
         ],
         "yaxis": "y"
        }
       ],
       "layout": {
        "legend": {
         "tracegroupgap": 0
        },
        "template": {
         "data": {
          "bar": [
           {
            "error_x": {
             "color": "#2a3f5f"
            },
            "error_y": {
             "color": "#2a3f5f"
            },
            "marker": {
             "line": {
              "color": "#E5ECF6",
              "width": 0.5
             },
             "pattern": {
              "fillmode": "overlay",
              "size": 10,
              "solidity": 0.2
             }
            },
            "type": "bar"
           }
          ],
          "barpolar": [
           {
            "marker": {
             "line": {
              "color": "#E5ECF6",
              "width": 0.5
             },
             "pattern": {
              "fillmode": "overlay",
              "size": 10,
              "solidity": 0.2
             }
            },
            "type": "barpolar"
           }
          ],
          "carpet": [
           {
            "aaxis": {
             "endlinecolor": "#2a3f5f",
             "gridcolor": "white",
             "linecolor": "white",
             "minorgridcolor": "white",
             "startlinecolor": "#2a3f5f"
            },
            "baxis": {
             "endlinecolor": "#2a3f5f",
             "gridcolor": "white",
             "linecolor": "white",
             "minorgridcolor": "white",
             "startlinecolor": "#2a3f5f"
            },
            "type": "carpet"
           }
          ],
          "choropleth": [
           {
            "colorbar": {
             "outlinewidth": 0,
             "ticks": ""
            },
            "type": "choropleth"
           }
          ],
          "contour": [
           {
            "colorbar": {
             "outlinewidth": 0,
             "ticks": ""
            },
            "colorscale": [
             [
              0,
              "#0d0887"
             ],
             [
              0.1111111111111111,
              "#46039f"
             ],
             [
              0.2222222222222222,
              "#7201a8"
             ],
             [
              0.3333333333333333,
              "#9c179e"
             ],
             [
              0.4444444444444444,
              "#bd3786"
             ],
             [
              0.5555555555555556,
              "#d8576b"
             ],
             [
              0.6666666666666666,
              "#ed7953"
             ],
             [
              0.7777777777777778,
              "#fb9f3a"
             ],
             [
              0.8888888888888888,
              "#fdca26"
             ],
             [
              1,
              "#f0f921"
             ]
            ],
            "type": "contour"
           }
          ],
          "contourcarpet": [
           {
            "colorbar": {
             "outlinewidth": 0,
             "ticks": ""
            },
            "type": "contourcarpet"
           }
          ],
          "heatmap": [
           {
            "colorbar": {
             "outlinewidth": 0,
             "ticks": ""
            },
            "colorscale": [
             [
              0,
              "#0d0887"
             ],
             [
              0.1111111111111111,
              "#46039f"
             ],
             [
              0.2222222222222222,
              "#7201a8"
             ],
             [
              0.3333333333333333,
              "#9c179e"
             ],
             [
              0.4444444444444444,
              "#bd3786"
             ],
             [
              0.5555555555555556,
              "#d8576b"
             ],
             [
              0.6666666666666666,
              "#ed7953"
             ],
             [
              0.7777777777777778,
              "#fb9f3a"
             ],
             [
              0.8888888888888888,
              "#fdca26"
             ],
             [
              1,
              "#f0f921"
             ]
            ],
            "type": "heatmap"
           }
          ],
          "histogram": [
           {
            "marker": {
             "pattern": {
              "fillmode": "overlay",
              "size": 10,
              "solidity": 0.2
             }
            },
            "type": "histogram"
           }
          ],
          "histogram2d": [
           {
            "colorbar": {
             "outlinewidth": 0,
             "ticks": ""
            },
            "colorscale": [
             [
              0,
              "#0d0887"
             ],
             [
              0.1111111111111111,
              "#46039f"
             ],
             [
              0.2222222222222222,
              "#7201a8"
             ],
             [
              0.3333333333333333,
              "#9c179e"
             ],
             [
              0.4444444444444444,
              "#bd3786"
             ],
             [
              0.5555555555555556,
              "#d8576b"
             ],
             [
              0.6666666666666666,
              "#ed7953"
             ],
             [
              0.7777777777777778,
              "#fb9f3a"
             ],
             [
              0.8888888888888888,
              "#fdca26"
             ],
             [
              1,
              "#f0f921"
             ]
            ],
            "type": "histogram2d"
           }
          ],
          "histogram2dcontour": [
           {
            "colorbar": {
             "outlinewidth": 0,
             "ticks": ""
            },
            "colorscale": [
             [
              0,
              "#0d0887"
             ],
             [
              0.1111111111111111,
              "#46039f"
             ],
             [
              0.2222222222222222,
              "#7201a8"
             ],
             [
              0.3333333333333333,
              "#9c179e"
             ],
             [
              0.4444444444444444,
              "#bd3786"
             ],
             [
              0.5555555555555556,
              "#d8576b"
             ],
             [
              0.6666666666666666,
              "#ed7953"
             ],
             [
              0.7777777777777778,
              "#fb9f3a"
             ],
             [
              0.8888888888888888,
              "#fdca26"
             ],
             [
              1,
              "#f0f921"
             ]
            ],
            "type": "histogram2dcontour"
           }
          ],
          "mesh3d": [
           {
            "colorbar": {
             "outlinewidth": 0,
             "ticks": ""
            },
            "type": "mesh3d"
           }
          ],
          "parcoords": [
           {
            "line": {
             "colorbar": {
              "outlinewidth": 0,
              "ticks": ""
             }
            },
            "type": "parcoords"
           }
          ],
          "pie": [
           {
            "automargin": true,
            "type": "pie"
           }
          ],
          "scatter": [
           {
            "fillpattern": {
             "fillmode": "overlay",
             "size": 10,
             "solidity": 0.2
            },
            "type": "scatter"
           }
          ],
          "scatter3d": [
           {
            "line": {
             "colorbar": {
              "outlinewidth": 0,
              "ticks": ""
             }
            },
            "marker": {
             "colorbar": {
              "outlinewidth": 0,
              "ticks": ""
             }
            },
            "type": "scatter3d"
           }
          ],
          "scattercarpet": [
           {
            "marker": {
             "colorbar": {
              "outlinewidth": 0,
              "ticks": ""
             }
            },
            "type": "scattercarpet"
           }
          ],
          "scattergeo": [
           {
            "marker": {
             "colorbar": {
              "outlinewidth": 0,
              "ticks": ""
             }
            },
            "type": "scattergeo"
           }
          ],
          "scattergl": [
           {
            "marker": {
             "colorbar": {
              "outlinewidth": 0,
              "ticks": ""
             }
            },
            "type": "scattergl"
           }
          ],
          "scattermap": [
           {
            "marker": {
             "colorbar": {
              "outlinewidth": 0,
              "ticks": ""
             }
            },
            "type": "scattermap"
           }
          ],
          "scattermapbox": [
           {
            "marker": {
             "colorbar": {
              "outlinewidth": 0,
              "ticks": ""
             }
            },
            "type": "scattermapbox"
           }
          ],
          "scatterpolar": [
           {
            "marker": {
             "colorbar": {
              "outlinewidth": 0,
              "ticks": ""
             }
            },
            "type": "scatterpolar"
           }
          ],
          "scatterpolargl": [
           {
            "marker": {
             "colorbar": {
              "outlinewidth": 0,
              "ticks": ""
             }
            },
            "type": "scatterpolargl"
           }
          ],
          "scatterternary": [
           {
            "marker": {
             "colorbar": {
              "outlinewidth": 0,
              "ticks": ""
             }
            },
            "type": "scatterternary"
           }
          ],
          "surface": [
           {
            "colorbar": {
             "outlinewidth": 0,
             "ticks": ""
            },
            "colorscale": [
             [
              0,
              "#0d0887"
             ],
             [
              0.1111111111111111,
              "#46039f"
             ],
             [
              0.2222222222222222,
              "#7201a8"
             ],
             [
              0.3333333333333333,
              "#9c179e"
             ],
             [
              0.4444444444444444,
              "#bd3786"
             ],
             [
              0.5555555555555556,
              "#d8576b"
             ],
             [
              0.6666666666666666,
              "#ed7953"
             ],
             [
              0.7777777777777778,
              "#fb9f3a"
             ],
             [
              0.8888888888888888,
              "#fdca26"
             ],
             [
              1,
              "#f0f921"
             ]
            ],
            "type": "surface"
           }
          ],
          "table": [
           {
            "cells": {
             "fill": {
              "color": "#EBF0F8"
             },
             "line": {
              "color": "white"
             }
            },
            "header": {
             "fill": {
              "color": "#C8D4E3"
             },
             "line": {
              "color": "white"
             }
            },
            "type": "table"
           }
          ]
         },
         "layout": {
          "annotationdefaults": {
           "arrowcolor": "#2a3f5f",
           "arrowhead": 0,
           "arrowwidth": 1
          },
          "autotypenumbers": "strict",
          "coloraxis": {
           "colorbar": {
            "outlinewidth": 0,
            "ticks": ""
           }
          },
          "colorscale": {
           "diverging": [
            [
             0,
             "#8e0152"
            ],
            [
             0.1,
             "#c51b7d"
            ],
            [
             0.2,
             "#de77ae"
            ],
            [
             0.3,
             "#f1b6da"
            ],
            [
             0.4,
             "#fde0ef"
            ],
            [
             0.5,
             "#f7f7f7"
            ],
            [
             0.6,
             "#e6f5d0"
            ],
            [
             0.7,
             "#b8e186"
            ],
            [
             0.8,
             "#7fbc41"
            ],
            [
             0.9,
             "#4d9221"
            ],
            [
             1,
             "#276419"
            ]
           ],
           "sequential": [
            [
             0,
             "#0d0887"
            ],
            [
             0.1111111111111111,
             "#46039f"
            ],
            [
             0.2222222222222222,
             "#7201a8"
            ],
            [
             0.3333333333333333,
             "#9c179e"
            ],
            [
             0.4444444444444444,
             "#bd3786"
            ],
            [
             0.5555555555555556,
             "#d8576b"
            ],
            [
             0.6666666666666666,
             "#ed7953"
            ],
            [
             0.7777777777777778,
             "#fb9f3a"
            ],
            [
             0.8888888888888888,
             "#fdca26"
            ],
            [
             1,
             "#f0f921"
            ]
           ],
           "sequentialminus": [
            [
             0,
             "#0d0887"
            ],
            [
             0.1111111111111111,
             "#46039f"
            ],
            [
             0.2222222222222222,
             "#7201a8"
            ],
            [
             0.3333333333333333,
             "#9c179e"
            ],
            [
             0.4444444444444444,
             "#bd3786"
            ],
            [
             0.5555555555555556,
             "#d8576b"
            ],
            [
             0.6666666666666666,
             "#ed7953"
            ],
            [
             0.7777777777777778,
             "#fb9f3a"
            ],
            [
             0.8888888888888888,
             "#fdca26"
            ],
            [
             1,
             "#f0f921"
            ]
           ]
          },
          "colorway": [
           "#636efa",
           "#EF553B",
           "#00cc96",
           "#ab63fa",
           "#FFA15A",
           "#19d3f3",
           "#FF6692",
           "#B6E880",
           "#FF97FF",
           "#FECB52"
          ],
          "font": {
           "color": "#2a3f5f"
          },
          "geo": {
           "bgcolor": "white",
           "lakecolor": "white",
           "landcolor": "#E5ECF6",
           "showlakes": true,
           "showland": true,
           "subunitcolor": "white"
          },
          "hoverlabel": {
           "align": "left"
          },
          "hovermode": "closest",
          "mapbox": {
           "style": "light"
          },
          "paper_bgcolor": "white",
          "plot_bgcolor": "#E5ECF6",
          "polar": {
           "angularaxis": {
            "gridcolor": "white",
            "linecolor": "white",
            "ticks": ""
           },
           "bgcolor": "#E5ECF6",
           "radialaxis": {
            "gridcolor": "white",
            "linecolor": "white",
            "ticks": ""
           }
          },
          "scene": {
           "xaxis": {
            "backgroundcolor": "#E5ECF6",
            "gridcolor": "white",
            "gridwidth": 2,
            "linecolor": "white",
            "showbackground": true,
            "ticks": "",
            "zerolinecolor": "white"
           },
           "yaxis": {
            "backgroundcolor": "#E5ECF6",
            "gridcolor": "white",
            "gridwidth": 2,
            "linecolor": "white",
            "showbackground": true,
            "ticks": "",
            "zerolinecolor": "white"
           },
           "zaxis": {
            "backgroundcolor": "#E5ECF6",
            "gridcolor": "white",
            "gridwidth": 2,
            "linecolor": "white",
            "showbackground": true,
            "ticks": "",
            "zerolinecolor": "white"
           }
          },
          "shapedefaults": {
           "line": {
            "color": "#2a3f5f"
           }
          },
          "ternary": {
           "aaxis": {
            "gridcolor": "white",
            "linecolor": "white",
            "ticks": ""
           },
           "baxis": {
            "gridcolor": "white",
            "linecolor": "white",
            "ticks": ""
           },
           "bgcolor": "#E5ECF6",
           "caxis": {
            "gridcolor": "white",
            "linecolor": "white",
            "ticks": ""
           }
          },
          "title": {
           "x": 0.05
          },
          "xaxis": {
           "automargin": true,
           "gridcolor": "white",
           "linecolor": "white",
           "ticks": "",
           "title": {
            "standoff": 15
           },
           "zerolinecolor": "white",
           "zerolinewidth": 2
          },
          "yaxis": {
           "automargin": true,
           "gridcolor": "white",
           "linecolor": "white",
           "ticks": "",
           "title": {
            "standoff": 15
           },
           "zerolinecolor": "white",
           "zerolinewidth": 2
          }
         }
        },
        "title": {
         "text": "Figure 10: Quarterly Average Yelp Star Rating by Year"
        },
        "xaxis": {
         "anchor": "y",
         "domain": [
          0,
          1
         ],
         "title": {
          "text": "Quarter-Year"
         }
        },
        "yaxis": {
         "anchor": "x",
         "domain": [
          0,
          1
         ],
         "title": {
          "text": "Average Star Rating"
         }
        }
       }
      }
     },
     "metadata": {},
     "output_type": "display_data"
    }
   ],
   "source": [
    "# Reviews by year and quarter\n",
    "df = cur.execute('''\n",
    "                SELECT \n",
    "                    YEAR(review_date) AS year,\n",
    "                    QUARTER(review_date) AS quarter,\n",
    "                    SUM(CASE WHEN stars=1 THEN 1 ELSE 0 END) AS one_star_reviews,\n",
    "                    SUM(CASE WHEN stars=2 THEN 1 ELSE 0 END) AS two_star_reviews,\n",
    "                    SUM(CASE WHEN stars=3 THEN 1 ELSE 0 END) AS three_star_reviews,\n",
    "                    SUM(CASE WHEN stars=4 THEN 1 ELSE 0 END) AS four_star_reviews,\n",
    "                    SUM(CASE WHEN stars=5 THEN 1 ELSE 0 END) AS five_star_reviews,\n",
    "                    COUNT(*) AS total_reviews,\n",
    "                    SUM(stars) AS total_stars,\n",
    "                    ROUND(AVG(stars), 2) avg_rating\n",
    "                FROM yelp_reviews\n",
    "                GROUP BY 1, 2\n",
    "                ORDER BY 1, 2;\n",
    "                 ''').fetch_pandas_all()\n",
    "\n",
    "df_preview = pd.concat([df.head(), df.tail()])\n",
    "styles = [{\n",
    "    'selector': 'caption', 'props': 'text-align: left;'\n",
    "}]\n",
    "\n",
    "display(df_preview.style.set_caption('<span style=\"font-size: 20px;\">Table 17: Monthly Review Volume & Star Metrics</span>').set_table_styles(styles))\n",
    "\n",
    "# Rename columns for readability in charts\n",
    "df.rename(columns={'ONE_STAR_REVIEWS': '1 Star', 'TWO_STAR_REVIEWS': '2 Star', 'THREE_STAR_REVIEWS': '3 Star', 'FOUR_STAR_REVIEWS': '4 Star', 'FIVE_STAR_REVIEWS': '5 Star', 'TOTAL_REVIEWS': 'Total Reviews',\n",
    "                   'AVG_RATING': 'Average Rating'}, inplace=True)\n",
    "\n",
    "# Create a date column from year and quarter\n",
    "df['date'] = 'Q' + df['QUARTER'].astype(str) + '-' + df['YEAR'].astype(str)\n",
    "\n",
    "# Melt into long format for counts of reviews with each star value\n",
    "long_df = df.melt(\n",
    "    id_vars=['date'],\n",
    "    value_vars=['1 Star','2 Star','3 Star','4 Star','5 Star'],\n",
    "    var_name='star',\n",
    "    value_name='count'\n",
    ")\n",
    "\n",
    "# Plot time series of star value counts by year and quarter\n",
    "fig = px.line(\n",
    "    long_df,\n",
    "    x='date',\n",
    "    y='count',\n",
    "    color='star',\n",
    "    labels={\n",
    "        'date':'Quarter-Year',\n",
    "        'count':'Review Count',\n",
    "        'star':'Star Rating'\n",
    "    },\n",
    "    title='Figure 8: Quarterly Yelp Star Rating Counts by Year'\n",
    ")\n",
    "fig.show()\n",
    "\n",
    "# Melt into long format for total review counts for each quarter\n",
    "long_df = df.melt(\n",
    "    id_vars=['date'],\n",
    "    value_vars=['Total Reviews'],\n",
    "    var_name='reviews',\n",
    "    value_name='count'\n",
    ")\n",
    "\n",
    "# Plot time series of total reviews by year and quarter\n",
    "fig = px.line(\n",
    "    long_df, \n",
    "    x='date', \n",
    "    y='count', \n",
    "    labels={\n",
    "        'date': 'Quarter-Year',\n",
    "        'count': 'Review Count'\n",
    "        }, \n",
    "    title='Figure 9: Quarterly Yelp Review Volume by Year'\n",
    ")\n",
    "fig.show()\n",
    "\n",
    "# Melt into long format for average star rating for each quarter\n",
    "long_df = df.melt(\n",
    "    id_vars=['date'],\n",
    "    value_vars=['Average Rating'],\n",
    "    var_name='avg_stars',\n",
    "    value_name='count'\n",
    ")\n",
    "\n",
    "# Plot time series of average star rating by year and quarter\n",
    "fig = px.line(\n",
    "    long_df, \n",
    "    x='date', \n",
    "    y='count', \n",
    "    labels={\n",
    "        'date': 'Quarter-Year',\n",
    "        'count': 'Average Star Rating'\n",
    "        }, \n",
    "    title='Figure 10: Quarterly Average Yelp Star Rating by Year'\n",
    ")\n",
    "fig.show()"
   ]
  },
  {
   "cell_type": "markdown",
   "id": "d93264c1",
   "metadata": {},
   "source": [
    "## Geographic Breakdown"
   ]
  },
  {
   "cell_type": "markdown",
   "id": "690e96a2",
   "metadata": {},
   "source": [
    "### Number of Business and Average Star Rating by State"
   ]
  },
  {
   "cell_type": "code",
   "execution_count": 36,
   "id": "a97dc195",
   "metadata": {},
   "outputs": [
    {
     "data": {
      "text/html": [
       "<style type=\"text/css\">\n",
       "#T_73c6b caption {\n",
       "  text-align: left;\n",
       "}\n",
       "</style>\n",
       "<table id=\"T_73c6b\">\n",
       "  <caption><span style=\"font-size: 20px;\">Table 18: Business Volume by State</span></caption>\n",
       "  <thead>\n",
       "    <tr>\n",
       "      <th class=\"blank level0\" >&nbsp;</th>\n",
       "      <th id=\"T_73c6b_level0_col0\" class=\"col_heading level0 col0\" >STATE</th>\n",
       "      <th id=\"T_73c6b_level0_col1\" class=\"col_heading level0 col1\" >NUM_BUSINESSES</th>\n",
       "      <th id=\"T_73c6b_level0_col2\" class=\"col_heading level0 col2\" >AVG_RATING</th>\n",
       "    </tr>\n",
       "  </thead>\n",
       "  <tbody>\n",
       "    <tr>\n",
       "      <th id=\"T_73c6b_level0_row0\" class=\"row_heading level0 row0\" >0</th>\n",
       "      <td id=\"T_73c6b_row0_col0\" class=\"data row0 col0\" >PA</td>\n",
       "      <td id=\"T_73c6b_row0_col1\" class=\"data row0 col1\" >34039</td>\n",
       "      <td id=\"T_73c6b_row0_col2\" class=\"data row0 col2\" >3.70</td>\n",
       "    </tr>\n",
       "    <tr>\n",
       "      <th id=\"T_73c6b_level0_row1\" class=\"row_heading level0 row1\" >1</th>\n",
       "      <td id=\"T_73c6b_row1_col0\" class=\"data row1 col0\" >FL</td>\n",
       "      <td id=\"T_73c6b_row1_col1\" class=\"data row1 col1\" >26330</td>\n",
       "      <td id=\"T_73c6b_row1_col2\" class=\"data row1 col2\" >3.76</td>\n",
       "    </tr>\n",
       "    <tr>\n",
       "      <th id=\"T_73c6b_level0_row2\" class=\"row_heading level0 row2\" >2</th>\n",
       "      <td id=\"T_73c6b_row2_col0\" class=\"data row2 col0\" >TN</td>\n",
       "      <td id=\"T_73c6b_row2_col1\" class=\"data row2 col1\" >12056</td>\n",
       "      <td id=\"T_73c6b_row2_col2\" class=\"data row2 col2\" >3.76</td>\n",
       "    </tr>\n",
       "    <tr>\n",
       "      <th id=\"T_73c6b_level0_row3\" class=\"row_heading level0 row3\" >3</th>\n",
       "      <td id=\"T_73c6b_row3_col0\" class=\"data row3 col0\" >IN</td>\n",
       "      <td id=\"T_73c6b_row3_col1\" class=\"data row3 col1\" >11247</td>\n",
       "      <td id=\"T_73c6b_row3_col2\" class=\"data row3 col2\" >3.79</td>\n",
       "    </tr>\n",
       "    <tr>\n",
       "      <th id=\"T_73c6b_level0_row4\" class=\"row_heading level0 row4\" >4</th>\n",
       "      <td id=\"T_73c6b_row4_col0\" class=\"data row4 col0\" >MO</td>\n",
       "      <td id=\"T_73c6b_row4_col1\" class=\"data row4 col1\" >10913</td>\n",
       "      <td id=\"T_73c6b_row4_col2\" class=\"data row4 col2\" >3.73</td>\n",
       "    </tr>\n",
       "    <tr>\n",
       "      <th id=\"T_73c6b_level0_row5\" class=\"row_heading level0 row5\" >5</th>\n",
       "      <td id=\"T_73c6b_row5_col0\" class=\"data row5 col0\" >LA</td>\n",
       "      <td id=\"T_73c6b_row5_col1\" class=\"data row5 col1\" >9924</td>\n",
       "      <td id=\"T_73c6b_row5_col2\" class=\"data row5 col2\" >3.88</td>\n",
       "    </tr>\n",
       "    <tr>\n",
       "      <th id=\"T_73c6b_level0_row6\" class=\"row_heading level0 row6\" >6</th>\n",
       "      <td id=\"T_73c6b_row6_col0\" class=\"data row6 col0\" >AZ</td>\n",
       "      <td id=\"T_73c6b_row6_col1\" class=\"data row6 col1\" >9912</td>\n",
       "      <td id=\"T_73c6b_row6_col2\" class=\"data row6 col2\" >3.69</td>\n",
       "    </tr>\n",
       "    <tr>\n",
       "      <th id=\"T_73c6b_level0_row7\" class=\"row_heading level0 row7\" >7</th>\n",
       "      <td id=\"T_73c6b_row7_col0\" class=\"data row7 col0\" >NJ</td>\n",
       "      <td id=\"T_73c6b_row7_col1\" class=\"data row7 col1\" >8536</td>\n",
       "      <td id=\"T_73c6b_row7_col2\" class=\"data row7 col2\" >3.56</td>\n",
       "    </tr>\n",
       "    <tr>\n",
       "      <th id=\"T_73c6b_level0_row8\" class=\"row_heading level0 row8\" >8</th>\n",
       "      <td id=\"T_73c6b_row8_col0\" class=\"data row8 col0\" >NV</td>\n",
       "      <td id=\"T_73c6b_row8_col1\" class=\"data row8 col1\" >7715</td>\n",
       "      <td id=\"T_73c6b_row8_col2\" class=\"data row8 col2\" >3.73</td>\n",
       "    </tr>\n",
       "    <tr>\n",
       "      <th id=\"T_73c6b_level0_row9\" class=\"row_heading level0 row9\" >9</th>\n",
       "      <td id=\"T_73c6b_row9_col0\" class=\"data row9 col0\" >AB</td>\n",
       "      <td id=\"T_73c6b_row9_col1\" class=\"data row9 col1\" >5573</td>\n",
       "      <td id=\"T_73c6b_row9_col2\" class=\"data row9 col2\" >3.57</td>\n",
       "    </tr>\n",
       "    <tr>\n",
       "      <th id=\"T_73c6b_level0_row10\" class=\"row_heading level0 row10\" >10</th>\n",
       "      <td id=\"T_73c6b_row10_col0\" class=\"data row10 col0\" >CA</td>\n",
       "      <td id=\"T_73c6b_row10_col1\" class=\"data row10 col1\" >5203</td>\n",
       "      <td id=\"T_73c6b_row10_col2\" class=\"data row10 col2\" >3.96</td>\n",
       "    </tr>\n",
       "    <tr>\n",
       "      <th id=\"T_73c6b_level0_row11\" class=\"row_heading level0 row11\" >11</th>\n",
       "      <td id=\"T_73c6b_row11_col0\" class=\"data row11 col0\" >ID</td>\n",
       "      <td id=\"T_73c6b_row11_col1\" class=\"data row11 col1\" >4467</td>\n",
       "      <td id=\"T_73c6b_row11_col2\" class=\"data row11 col2\" >3.76</td>\n",
       "    </tr>\n",
       "    <tr>\n",
       "      <th id=\"T_73c6b_level0_row12\" class=\"row_heading level0 row12\" >12</th>\n",
       "      <td id=\"T_73c6b_row12_col0\" class=\"data row12 col0\" >DE</td>\n",
       "      <td id=\"T_73c6b_row12_col1\" class=\"data row12 col1\" >2265</td>\n",
       "      <td id=\"T_73c6b_row12_col2\" class=\"data row12 col2\" >3.51</td>\n",
       "    </tr>\n",
       "    <tr>\n",
       "      <th id=\"T_73c6b_level0_row13\" class=\"row_heading level0 row13\" >13</th>\n",
       "      <td id=\"T_73c6b_row13_col0\" class=\"data row13 col0\" >IL</td>\n",
       "      <td id=\"T_73c6b_row13_col1\" class=\"data row13 col1\" >2145</td>\n",
       "      <td id=\"T_73c6b_row13_col2\" class=\"data row13 col2\" >3.51</td>\n",
       "    </tr>\n",
       "    <tr>\n",
       "      <th id=\"T_73c6b_level0_row14\" class=\"row_heading level0 row14\" >14</th>\n",
       "      <td id=\"T_73c6b_row14_col0\" class=\"data row14 col0\" >TX</td>\n",
       "      <td id=\"T_73c6b_row14_col1\" class=\"data row14 col1\" >4</td>\n",
       "      <td id=\"T_73c6b_row14_col2\" class=\"data row14 col2\" >2.51</td>\n",
       "    </tr>\n",
       "    <tr>\n",
       "      <th id=\"T_73c6b_level0_row15\" class=\"row_heading level0 row15\" >15</th>\n",
       "      <td id=\"T_73c6b_row15_col0\" class=\"data row15 col0\" >CO</td>\n",
       "      <td id=\"T_73c6b_row15_col1\" class=\"data row15 col1\" >3</td>\n",
       "      <td id=\"T_73c6b_row15_col2\" class=\"data row15 col2\" >3.97</td>\n",
       "    </tr>\n",
       "    <tr>\n",
       "      <th id=\"T_73c6b_level0_row16\" class=\"row_heading level0 row16\" >16</th>\n",
       "      <td id=\"T_73c6b_row16_col0\" class=\"data row16 col0\" >MA</td>\n",
       "      <td id=\"T_73c6b_row16_col1\" class=\"data row16 col1\" >2</td>\n",
       "      <td id=\"T_73c6b_row16_col2\" class=\"data row16 col2\" >1.30</td>\n",
       "    </tr>\n",
       "    <tr>\n",
       "      <th id=\"T_73c6b_level0_row17\" class=\"row_heading level0 row17\" >17</th>\n",
       "      <td id=\"T_73c6b_row17_col0\" class=\"data row17 col0\" >HI</td>\n",
       "      <td id=\"T_73c6b_row17_col1\" class=\"data row17 col1\" >2</td>\n",
       "      <td id=\"T_73c6b_row17_col2\" class=\"data row17 col2\" >4.15</td>\n",
       "    </tr>\n",
       "    <tr>\n",
       "      <th id=\"T_73c6b_level0_row18\" class=\"row_heading level0 row18\" >18</th>\n",
       "      <td id=\"T_73c6b_row18_col0\" class=\"data row18 col0\" >WA</td>\n",
       "      <td id=\"T_73c6b_row18_col1\" class=\"data row18 col1\" >2</td>\n",
       "      <td id=\"T_73c6b_row18_col2\" class=\"data row18 col2\" >3.68</td>\n",
       "    </tr>\n",
       "    <tr>\n",
       "      <th id=\"T_73c6b_level0_row19\" class=\"row_heading level0 row19\" >19</th>\n",
       "      <td id=\"T_73c6b_row19_col0\" class=\"data row19 col0\" >NC</td>\n",
       "      <td id=\"T_73c6b_row19_col1\" class=\"data row19 col1\" >1</td>\n",
       "      <td id=\"T_73c6b_row19_col2\" class=\"data row19 col2\" >1.83</td>\n",
       "    </tr>\n",
       "    <tr>\n",
       "      <th id=\"T_73c6b_level0_row20\" class=\"row_heading level0 row20\" >20</th>\n",
       "      <td id=\"T_73c6b_row20_col0\" class=\"data row20 col0\" >XMS</td>\n",
       "      <td id=\"T_73c6b_row20_col1\" class=\"data row20 col1\" >1</td>\n",
       "      <td id=\"T_73c6b_row20_col2\" class=\"data row20 col2\" >3.80</td>\n",
       "    </tr>\n",
       "    <tr>\n",
       "      <th id=\"T_73c6b_level0_row21\" class=\"row_heading level0 row21\" >21</th>\n",
       "      <td id=\"T_73c6b_row21_col0\" class=\"data row21 col0\" >VI</td>\n",
       "      <td id=\"T_73c6b_row21_col1\" class=\"data row21 col1\" >1</td>\n",
       "      <td id=\"T_73c6b_row21_col2\" class=\"data row21 col2\" >2.73</td>\n",
       "    </tr>\n",
       "    <tr>\n",
       "      <th id=\"T_73c6b_level0_row22\" class=\"row_heading level0 row22\" >22</th>\n",
       "      <td id=\"T_73c6b_row22_col0\" class=\"data row22 col0\" >VT</td>\n",
       "      <td id=\"T_73c6b_row22_col1\" class=\"data row22 col1\" >1</td>\n",
       "      <td id=\"T_73c6b_row22_col2\" class=\"data row22 col2\" >4.60</td>\n",
       "    </tr>\n",
       "    <tr>\n",
       "      <th id=\"T_73c6b_level0_row23\" class=\"row_heading level0 row23\" >23</th>\n",
       "      <td id=\"T_73c6b_row23_col0\" class=\"data row23 col0\" >MI</td>\n",
       "      <td id=\"T_73c6b_row23_col1\" class=\"data row23 col1\" >1</td>\n",
       "      <td id=\"T_73c6b_row23_col2\" class=\"data row23 col2\" >2.45</td>\n",
       "    </tr>\n",
       "    <tr>\n",
       "      <th id=\"T_73c6b_level0_row24\" class=\"row_heading level0 row24\" >24</th>\n",
       "      <td id=\"T_73c6b_row24_col0\" class=\"data row24 col0\" >UT</td>\n",
       "      <td id=\"T_73c6b_row24_col1\" class=\"data row24 col1\" >1</td>\n",
       "      <td id=\"T_73c6b_row24_col2\" class=\"data row24 col2\" >4.68</td>\n",
       "    </tr>\n",
       "    <tr>\n",
       "      <th id=\"T_73c6b_level0_row25\" class=\"row_heading level0 row25\" >25</th>\n",
       "      <td id=\"T_73c6b_row25_col0\" class=\"data row25 col0\" >MT</td>\n",
       "      <td id=\"T_73c6b_row25_col1\" class=\"data row25 col1\" >1</td>\n",
       "      <td id=\"T_73c6b_row25_col2\" class=\"data row25 col2\" >5.00</td>\n",
       "    </tr>\n",
       "    <tr>\n",
       "      <th id=\"T_73c6b_level0_row26\" class=\"row_heading level0 row26\" >26</th>\n",
       "      <td id=\"T_73c6b_row26_col0\" class=\"data row26 col0\" >SD</td>\n",
       "      <td id=\"T_73c6b_row26_col1\" class=\"data row26 col1\" >1</td>\n",
       "      <td id=\"T_73c6b_row26_col2\" class=\"data row26 col2\" >4.52</td>\n",
       "    </tr>\n",
       "  </tbody>\n",
       "</table>\n"
      ],
      "text/plain": [
       "<pandas.io.formats.style.Styler at 0x229d999d310>"
      ]
     },
     "metadata": {},
     "output_type": "display_data"
    }
   ],
   "source": [
    "# Number of businesses and avg star rating by state\n",
    "df = cur.execute('''\n",
    "                SELECT \n",
    "                    state,\n",
    "                    COUNT(DISTINCT yb.business_id) num_businesses,\n",
    "                    ROUND(AVG(yr.stars), 2) as avg_rating\n",
    "                FROM yelp_reviews yr\n",
    "                JOIN yelp_businesses yb\n",
    "                    ON yr.business_id = yb.business_id\n",
    "                GROUP BY state\n",
    "                ORDER BY 2 DESC;\n",
    "                 ''').fetch_pandas_all()\n",
    "\n",
    "styles = [{\n",
    "    'selector': 'caption', 'props': 'text-align: left;'\n",
    "}]\n",
    "\n",
    "display(df.style.set_caption('<span style=\"font-size: 20px;\">Table 18: Business Volume by State</span>').set_table_styles(styles))"
   ]
  },
  {
   "cell_type": "markdown",
   "id": "2041bb8f",
   "metadata": {},
   "source": [
    "### Number of Businesses and Average Star Rating by City"
   ]
  },
  {
   "cell_type": "code",
   "execution_count": 35,
   "id": "2ecc14d6",
   "metadata": {},
   "outputs": [
    {
     "data": {
      "text/html": [
       "<style type=\"text/css\">\n",
       "#T_9d98f caption {\n",
       "  text-align: left;\n",
       "}\n",
       "</style>\n",
       "<table id=\"T_9d98f\">\n",
       "  <caption><span style=\"font-size: 20px;\">Table 19: Business Volume by City</span></caption>\n",
       "  <thead>\n",
       "    <tr>\n",
       "      <th class=\"blank level0\" >&nbsp;</th>\n",
       "      <th id=\"T_9d98f_level0_col0\" class=\"col_heading level0 col0\" >CITY</th>\n",
       "      <th id=\"T_9d98f_level0_col1\" class=\"col_heading level0 col1\" >NUM_BUSINESSES</th>\n",
       "      <th id=\"T_9d98f_level0_col2\" class=\"col_heading level0 col2\" >AVG_RATING</th>\n",
       "    </tr>\n",
       "  </thead>\n",
       "  <tbody>\n",
       "    <tr>\n",
       "      <th id=\"T_9d98f_level0_row0\" class=\"row_heading level0 row0\" >0</th>\n",
       "      <td id=\"T_9d98f_row0_col0\" class=\"data row0 col0\" >Philadelphia</td>\n",
       "      <td id=\"T_9d98f_row0_col1\" class=\"data row0 col1\" >14569</td>\n",
       "      <td id=\"T_9d98f_row0_col2\" class=\"data row0 col2\" >3.79</td>\n",
       "    </tr>\n",
       "    <tr>\n",
       "      <th id=\"T_9d98f_level0_row1\" class=\"row_heading level0 row1\" >1</th>\n",
       "      <td id=\"T_9d98f_row1_col0\" class=\"data row1 col0\" >Tucson</td>\n",
       "      <td id=\"T_9d98f_row1_col1\" class=\"data row1 col1\" >9250</td>\n",
       "      <td id=\"T_9d98f_row1_col2\" class=\"data row1 col2\" >3.70</td>\n",
       "    </tr>\n",
       "    <tr>\n",
       "      <th id=\"T_9d98f_level0_row2\" class=\"row_heading level0 row2\" >2</th>\n",
       "      <td id=\"T_9d98f_row2_col0\" class=\"data row2 col0\" >Tampa</td>\n",
       "      <td id=\"T_9d98f_row2_col1\" class=\"data row2 col1\" >9050</td>\n",
       "      <td id=\"T_9d98f_row2_col2\" class=\"data row2 col2\" >3.75</td>\n",
       "    </tr>\n",
       "    <tr>\n",
       "      <th id=\"T_9d98f_level0_row3\" class=\"row_heading level0 row3\" >3</th>\n",
       "      <td id=\"T_9d98f_row3_col0\" class=\"data row3 col0\" >Indianapolis</td>\n",
       "      <td id=\"T_9d98f_row3_col1\" class=\"data row3 col1\" >7540</td>\n",
       "      <td id=\"T_9d98f_row3_col2\" class=\"data row3 col2\" >3.82</td>\n",
       "    </tr>\n",
       "    <tr>\n",
       "      <th id=\"T_9d98f_level0_row4\" class=\"row_heading level0 row4\" >4</th>\n",
       "      <td id=\"T_9d98f_row4_col0\" class=\"data row4 col0\" >Nashville</td>\n",
       "      <td id=\"T_9d98f_row4_col1\" class=\"data row4 col1\" >6971</td>\n",
       "      <td id=\"T_9d98f_row4_col2\" class=\"data row4 col2\" >3.82</td>\n",
       "    </tr>\n",
       "    <tr>\n",
       "      <th id=\"T_9d98f_level0_row5\" class=\"row_heading level0 row5\" >5</th>\n",
       "      <td id=\"T_9d98f_row5_col0\" class=\"data row5 col0\" >New Orleans</td>\n",
       "      <td id=\"T_9d98f_row5_col1\" class=\"data row5 col1\" >6209</td>\n",
       "      <td id=\"T_9d98f_row5_col2\" class=\"data row5 col2\" >3.94</td>\n",
       "    </tr>\n",
       "    <tr>\n",
       "      <th id=\"T_9d98f_level0_row6\" class=\"row_heading level0 row6\" >6</th>\n",
       "      <td id=\"T_9d98f_row6_col0\" class=\"data row6 col0\" >Reno</td>\n",
       "      <td id=\"T_9d98f_row6_col1\" class=\"data row6 col1\" >5935</td>\n",
       "      <td id=\"T_9d98f_row6_col2\" class=\"data row6 col2\" >3.75</td>\n",
       "    </tr>\n",
       "    <tr>\n",
       "      <th id=\"T_9d98f_level0_row7\" class=\"row_heading level0 row7\" >7</th>\n",
       "      <td id=\"T_9d98f_row7_col0\" class=\"data row7 col0\" >Edmonton</td>\n",
       "      <td id=\"T_9d98f_row7_col1\" class=\"data row7 col1\" >5054</td>\n",
       "      <td id=\"T_9d98f_row7_col2\" class=\"data row7 col2\" >3.57</td>\n",
       "    </tr>\n",
       "    <tr>\n",
       "      <th id=\"T_9d98f_level0_row8\" class=\"row_heading level0 row8\" >8</th>\n",
       "      <td id=\"T_9d98f_row8_col0\" class=\"data row8 col0\" >Saint Louis</td>\n",
       "      <td id=\"T_9d98f_row8_col1\" class=\"data row8 col1\" >4827</td>\n",
       "      <td id=\"T_9d98f_row8_col2\" class=\"data row8 col2\" >3.81</td>\n",
       "    </tr>\n",
       "    <tr>\n",
       "      <th id=\"T_9d98f_level0_row9\" class=\"row_heading level0 row9\" >9</th>\n",
       "      <td id=\"T_9d98f_row9_col0\" class=\"data row9 col0\" >Santa Barbara</td>\n",
       "      <td id=\"T_9d98f_row9_col1\" class=\"data row9 col1\" >3829</td>\n",
       "      <td id=\"T_9d98f_row9_col2\" class=\"data row9 col2\" >4.00</td>\n",
       "    </tr>\n",
       "    <tr>\n",
       "      <th id=\"T_9d98f_level0_row10\" class=\"row_heading level0 row10\" >10</th>\n",
       "      <td id=\"T_9d98f_row10_col0\" class=\"data row10 col0\" >Boise</td>\n",
       "      <td id=\"T_9d98f_row10_col1\" class=\"data row10 col1\" >2937</td>\n",
       "      <td id=\"T_9d98f_row10_col2\" class=\"data row10 col2\" >3.79</td>\n",
       "    </tr>\n",
       "    <tr>\n",
       "      <th id=\"T_9d98f_level0_row11\" class=\"row_heading level0 row11\" >11</th>\n",
       "      <td id=\"T_9d98f_row11_col0\" class=\"data row11 col0\" >Clearwater</td>\n",
       "      <td id=\"T_9d98f_row11_col1\" class=\"data row11 col1\" >2221</td>\n",
       "      <td id=\"T_9d98f_row11_col2\" class=\"data row11 col2\" >3.76</td>\n",
       "    </tr>\n",
       "    <tr>\n",
       "      <th id=\"T_9d98f_level0_row12\" class=\"row_heading level0 row12\" >12</th>\n",
       "      <td id=\"T_9d98f_row12_col0\" class=\"data row12 col0\" >Saint Petersburg</td>\n",
       "      <td id=\"T_9d98f_row12_col1\" class=\"data row12 col1\" >1663</td>\n",
       "      <td id=\"T_9d98f_row12_col2\" class=\"data row12 col2\" >3.87</td>\n",
       "    </tr>\n",
       "    <tr>\n",
       "      <th id=\"T_9d98f_level0_row13\" class=\"row_heading level0 row13\" >13</th>\n",
       "      <td id=\"T_9d98f_row13_col0\" class=\"data row13 col0\" >Metairie</td>\n",
       "      <td id=\"T_9d98f_row13_col1\" class=\"data row13 col1\" >1643</td>\n",
       "      <td id=\"T_9d98f_row13_col2\" class=\"data row13 col2\" >3.61</td>\n",
       "    </tr>\n",
       "    <tr>\n",
       "      <th id=\"T_9d98f_level0_row14\" class=\"row_heading level0 row14\" >14</th>\n",
       "      <td id=\"T_9d98f_row14_col0\" class=\"data row14 col0\" >Sparks</td>\n",
       "      <td id=\"T_9d98f_row14_col1\" class=\"data row14 col1\" >1624</td>\n",
       "      <td id=\"T_9d98f_row14_col2\" class=\"data row14 col2\" >3.61</td>\n",
       "    </tr>\n",
       "    <tr>\n",
       "      <th id=\"T_9d98f_level0_row15\" class=\"row_heading level0 row15\" >15</th>\n",
       "      <td id=\"T_9d98f_row15_col0\" class=\"data row15 col0\" >Wilmington</td>\n",
       "      <td id=\"T_9d98f_row15_col1\" class=\"data row15 col1\" >1446</td>\n",
       "      <td id=\"T_9d98f_row15_col2\" class=\"data row15 col2\" >3.53</td>\n",
       "    </tr>\n",
       "    <tr>\n",
       "      <th id=\"T_9d98f_level0_row16\" class=\"row_heading level0 row16\" >16</th>\n",
       "      <td id=\"T_9d98f_row16_col0\" class=\"data row16 col0\" >Franklin</td>\n",
       "      <td id=\"T_9d98f_row16_col1\" class=\"data row16 col1\" >1414</td>\n",
       "      <td id=\"T_9d98f_row16_col2\" class=\"data row16 col2\" >3.66</td>\n",
       "    </tr>\n",
       "    <tr>\n",
       "      <th id=\"T_9d98f_level0_row17\" class=\"row_heading level0 row17\" >17</th>\n",
       "      <td id=\"T_9d98f_row17_col0\" class=\"data row17 col0\" >St. Louis</td>\n",
       "      <td id=\"T_9d98f_row17_col1\" class=\"data row17 col1\" >1255</td>\n",
       "      <td id=\"T_9d98f_row17_col2\" class=\"data row17 col2\" >3.76</td>\n",
       "    </tr>\n",
       "    <tr>\n",
       "      <th id=\"T_9d98f_level0_row18\" class=\"row_heading level0 row18\" >18</th>\n",
       "      <td id=\"T_9d98f_row18_col0\" class=\"data row18 col0\" >St. Petersburg</td>\n",
       "      <td id=\"T_9d98f_row18_col1\" class=\"data row18 col1\" >1185</td>\n",
       "      <td id=\"T_9d98f_row18_col2\" class=\"data row18 col2\" >3.88</td>\n",
       "    </tr>\n",
       "    <tr>\n",
       "      <th id=\"T_9d98f_level0_row19\" class=\"row_heading level0 row19\" >19</th>\n",
       "      <td id=\"T_9d98f_row19_col0\" class=\"data row19 col0\" >Meridian</td>\n",
       "      <td id=\"T_9d98f_row19_col1\" class=\"data row19 col1\" >1043</td>\n",
       "      <td id=\"T_9d98f_row19_col2\" class=\"data row19 col2\" >3.64</td>\n",
       "    </tr>\n",
       "  </tbody>\n",
       "</table>\n"
      ],
      "text/plain": [
       "<pandas.io.formats.style.Styler at 0x229d999d310>"
      ]
     },
     "metadata": {},
     "output_type": "display_data"
    }
   ],
   "source": [
    "# Number of businesses and avg star rating by city\n",
    "df = cur.execute('''\n",
    "                SELECT \n",
    "                    city,\n",
    "                    COUNT(DISTINCT yb.business_id) num_businesses,\n",
    "                    ROUND(AVG(yr.stars), 2) as avg_rating\n",
    "                FROM yelp_reviews yr\n",
    "                JOIN yelp_businesses yb\n",
    "                    ON yr.business_id = yb.business_id\n",
    "                GROUP BY city\n",
    "                ORDER BY 2 DESC\n",
    "                LIMIT 20;\n",
    "                 ''').fetch_pandas_all()\n",
    "\n",
    "styles = [{\n",
    "    'selector': 'caption', 'props': 'text-align: left;'\n",
    "}]\n",
    "\n",
    "display(df.style.set_caption('<span style=\"font-size: 20px;\">Table 19: Business Volume by City</span>').set_table_styles(styles))"
   ]
  },
  {
   "cell_type": "markdown",
   "id": "1f502f8e",
   "metadata": {},
   "source": [
    "## Business-Level Insight"
   ]
  },
  {
   "cell_type": "markdown",
   "id": "e268deac",
   "metadata": {},
   "source": [
    "### Most Recent Reviews for Each Business"
   ]
  },
  {
   "cell_type": "code",
   "execution_count": 38,
   "id": "8703d512",
   "metadata": {},
   "outputs": [
    {
     "data": {
      "text/html": [
       "<style type=\"text/css\">\n",
       "#T_744e8 caption {\n",
       "  text-align: left;\n",
       "}\n",
       "</style>\n",
       "<table id=\"T_744e8\">\n",
       "  <caption><span style=\"font-size: 20px;\">Table 20: Most Recent Reviews for Each Business</span></caption>\n",
       "  <thead>\n",
       "    <tr>\n",
       "      <th class=\"blank level0\" >&nbsp;</th>\n",
       "      <th id=\"T_744e8_level0_col0\" class=\"col_heading level0 col0\" >NAME</th>\n",
       "      <th id=\"T_744e8_level0_col1\" class=\"col_heading level0 col1\" >CITY</th>\n",
       "      <th id=\"T_744e8_level0_col2\" class=\"col_heading level0 col2\" >STATE</th>\n",
       "      <th id=\"T_744e8_level0_col3\" class=\"col_heading level0 col3\" >POSTAL_CODE</th>\n",
       "      <th id=\"T_744e8_level0_col4\" class=\"col_heading level0 col4\" >REVIEW_DATE</th>\n",
       "      <th id=\"T_744e8_level0_col5\" class=\"col_heading level0 col5\" >STARS</th>\n",
       "      <th id=\"T_744e8_level0_col6\" class=\"col_heading level0 col6\" >USER_REVIEW</th>\n",
       "    </tr>\n",
       "  </thead>\n",
       "  <tbody>\n",
       "    <tr>\n",
       "      <th id=\"T_744e8_level0_row0\" class=\"row_heading level0 row0\" >0</th>\n",
       "      <td id=\"T_744e8_row0_col0\" class=\"data row0 col0\" >Webster Groves Public Library</td>\n",
       "      <td id=\"T_744e8_row0_col1\" class=\"data row0 col1\" >Webster Groves</td>\n",
       "      <td id=\"T_744e8_row0_col2\" class=\"data row0 col2\" >MO</td>\n",
       "      <td id=\"T_744e8_row0_col3\" class=\"data row0 col3\" >63119</td>\n",
       "      <td id=\"T_744e8_row0_col4\" class=\"data row0 col4\" >2019-08-24</td>\n",
       "      <td id=\"T_744e8_row0_col5\" class=\"data row0 col5\" >5</td>\n",
       "      <td id=\"T_744e8_row0_col6\" class=\"data row0 col6\" >I've been going to this library ever since I learned how to read as a kid. The staff has always been extremely friendly and helpful. It looks even more beautiful with the update a few years ago. This library has a wondering children's section, pretty big YA section, and all the adult fiction and nonfiction you could ever ask for. You can also request books online from other libraries around STL, as well as get ebooks and audiobooks from Overdrive/Libby and Hoopla. This library has it all! There are also lots of flyers to keep you up to date on what's going on in the neighborhood.</td>\n",
       "    </tr>\n",
       "    <tr>\n",
       "      <th id=\"T_744e8_level0_row1\" class=\"row_heading level0 row1\" >1</th>\n",
       "      <td id=\"T_744e8_row1_col0\" class=\"data row1 col0\" >Starbucks</td>\n",
       "      <td id=\"T_744e8_row1_col1\" class=\"data row1 col1\" >Philadelphia</td>\n",
       "      <td id=\"T_744e8_row1_col2\" class=\"data row1 col2\" >PA</td>\n",
       "      <td id=\"T_744e8_row1_col3\" class=\"data row1 col3\" >19154</td>\n",
       "      <td id=\"T_744e8_row1_col4\" class=\"data row1 col4\" >2019-04-25</td>\n",
       "      <td id=\"T_744e8_row1_col5\" class=\"data row1 col5\" >1</td>\n",
       "      <td id=\"T_744e8_row1_col6\" class=\"data row1 col6\" >Horrid Starbucks. They refuse to make a drink if they are too busy. If the drink is on the menu, it should always be available, not just when you feel like making it. (The drink is a plain decaf coffee - not something complicated.)</td>\n",
       "    </tr>\n",
       "    <tr>\n",
       "      <th id=\"T_744e8_level0_row2\" class=\"row_heading level0 row2\" >2</th>\n",
       "      <td id=\"T_744e8_row2_col0\" class=\"data row2 col0\" >Soundfactor Entertainment & Events</td>\n",
       "      <td id=\"T_744e8_row2_col1\" class=\"data row2 col1\" >Boyertown</td>\n",
       "      <td id=\"T_744e8_row2_col2\" class=\"data row2 col2\" >PA</td>\n",
       "      <td id=\"T_744e8_row2_col3\" class=\"data row2 col3\" >19512</td>\n",
       "      <td id=\"T_744e8_row2_col4\" class=\"data row2 col4\" >2021-07-23</td>\n",
       "      <td id=\"T_744e8_row2_col5\" class=\"data row2 col5\" >5</td>\n",
       "      <td id=\"T_744e8_row2_col6\" class=\"data row2 col6\" >Soundfactor was absolutely awesome to work with from start to finish. Having to postpone our wedding during the pandemic was stressful and some vendors were more difficult to deal with than others, but Soundfactor was so flexible and understanding. It alleviated some of our stress knowing that we had one less thing to worry about having our DJ secured for our new date. Their website was so organized and helped us to put in all of our requests and create our wedding timeline. Steve, our DJ, called us to discuss all the details and make sure that he knew everything we wanted so that he could make our day perfect! And it did turn out perfect! Steve was fantastic. He knew how to read the room and play what the crowd was enjoying while also sticking to a lot of our requested songs. Our dance floor was packed the entire night. Steve had everyone on the dance floor from our 25 year old friends to my 87 year old grandmother (who I haven't seen dance in years!). We got so many compliments on the music and how much fun our wedding was!! I highly recommend Soundfactor for anyone looking to have a perfect wedding reception.</td>\n",
       "    </tr>\n",
       "    <tr>\n",
       "      <th id=\"T_744e8_level0_row3\" class=\"row_heading level0 row3\" >150343</th>\n",
       "      <td id=\"T_744e8_row3_col0\" class=\"data row3 col0\" >FabuLASHby Michelle</td>\n",
       "      <td id=\"T_744e8_row3_col1\" class=\"data row3 col1\" >Reno</td>\n",
       "      <td id=\"T_744e8_row3_col2\" class=\"data row3 col2\" >NV</td>\n",
       "      <td id=\"T_744e8_row3_col3\" class=\"data row3 col3\" >89503</td>\n",
       "      <td id=\"T_744e8_row3_col4\" class=\"data row3 col4\" >2013-07-05</td>\n",
       "      <td id=\"T_744e8_row3_col5\" class=\"data row3 col5\" >1</td>\n",
       "      <td id=\"T_744e8_row3_col6\" class=\"data row3 col6\" >I had extensions for over 2 years and moved out of state and found Michelle online, thought her prices were reasonable and ratings good so I booked my appointment. Michelle is a very nice gal and very accommodating but she used so much glue and loaded so many extensions on I'd have sometimes up to 4 extensions per lash, which in turn DESTROYED my natural lash making them shorter, significantly thinner, and so weak a fill wouldn't hardly last a week. I went back home for a visit and went to my prior lady and she recommended not adding any since my natural lashes were stripped and gone and hadn't seen lashes look so poor.\n",
       "   I saw Michelle about 5 times and had also gave her the name of my prior lady to contact, as she was interested in the methods, brands, glue etc. she used. Now I'm  left using lash serum to grow them and make them healthy again.</td>\n",
       "    </tr>\n",
       "    <tr>\n",
       "      <th id=\"T_744e8_level0_row4\" class=\"row_heading level0 row4\" >150344</th>\n",
       "      <td id=\"T_744e8_row4_col0\" class=\"data row4 col0\" >WOW! Factor Desserts</td>\n",
       "      <td id=\"T_744e8_row4_col1\" class=\"data row4 col1\" >Sherwood Park</td>\n",
       "      <td id=\"T_744e8_row4_col2\" class=\"data row4 col2\" >AB</td>\n",
       "      <td id=\"T_744e8_row4_col3\" class=\"data row4 col3\" >T8A 3X8</td>\n",
       "      <td id=\"T_744e8_row4_col4\" class=\"data row4 col4\" >2019-07-20</td>\n",
       "      <td id=\"T_744e8_row4_col5\" class=\"data row4 col5\" >4</td>\n",
       "      <td id=\"T_744e8_row4_col6\" class=\"data row4 col6\" >I was introduced to this place after I interrogated my coworker about where she got this amazing cake while at a staff party. That was almost 10 years ago and based on how I was impacted by this sliced piece of perfection, I wanted a cake for my Birthday. \n",
       "\n",
       "My wife got this giant 4 layer chocolate cake that took me to a special place of pure bliss. I would give it a perfect score but there were a few notes to be aware:  \n",
       "1. Hours of operation are really limited where they are closed on the weekends and outside work hours, making it hard to access.\n",
       "\n",
       "2. Cakes come frozen, so you have to give at least 4 hours to thaw to be ready to serve.\n",
       "\n",
       "3. Service was reasonable but not exceptional. It was like they didn't feel the need to entice our business and did bare minimum.\n",
       "\n",
       "4. Cakes were enormous, one standard size, and intended for large gatherings so cakes are not customized for personal preference.\n",
       "\n",
       "All that being said, the cake was amazing. One of the best cakes I've ever had and it was pre-made and frozen. The $50 cake seemed expensive but the cake was enormous, the taste was exceptional and we were able to re-freeze a large portion for future times when I need my chocolate cake fix.</td>\n",
       "    </tr>\n",
       "    <tr>\n",
       "      <th id=\"T_744e8_level0_row5\" class=\"row_heading level0 row5\" >150345</th>\n",
       "      <td id=\"T_744e8_row5_col0\" class=\"data row5 col0\" >Myriam Cerezo, DMD</td>\n",
       "      <td id=\"T_744e8_row5_col1\" class=\"data row5 col1\" >Holland</td>\n",
       "      <td id=\"T_744e8_row5_col2\" class=\"data row5 col2\" >PA</td>\n",
       "      <td id=\"T_744e8_row5_col3\" class=\"data row5 col3\" >18966</td>\n",
       "      <td id=\"T_744e8_row5_col4\" class=\"data row5 col4\" >2019-01-12</td>\n",
       "      <td id=\"T_744e8_row5_col5\" class=\"data row5 col5\" >2</td>\n",
       "      <td id=\"T_744e8_row5_col6\" class=\"data row5 col6\" >Dr Cerezo was great but I'm sad to say because of the their hours we won't be going back.  I called to make an appt for my 2 year old and I need late appointments for her cause I work. I was told they don't take the kids 6 and under after 1pm because in the afternoons they don't behave as well . I told them that it's an inconvenience for working parents to not take them in the afternoons or evenings. They said sorry that's just the rikes\n",
       "So needless to say, we found a new dentist and they take kids all ages any hour of the day. \n",
       "\n",
       "I saw your response saying \"first appointments\" for young kids need to be early. However, I was scheduling her second appt with you and was told this. So going forward, how could working parents make this work? I ended up calling around for an new dentist and EVERY office I spoke to had appts at all different hours.</td>\n",
       "    </tr>\n",
       "  </tbody>\n",
       "</table>\n"
      ],
      "text/plain": [
       "<pandas.io.formats.style.Styler at 0x229dc4b07d0>"
      ]
     },
     "metadata": {},
     "output_type": "display_data"
    }
   ],
   "source": [
    "# Most recent reviews for each business\n",
    "df = cur.execute('''\n",
    "                WITH cte AS (\n",
    "                    SELECT \n",
    "                        business_id,\n",
    "                        review_date,\n",
    "                        user_review,\n",
    "                        stars,\n",
    "                        ROW_NUMBER() OVER(PARTITION BY business_id ORDER BY review_date DESC) AS rn\n",
    "                    FROM yelp_reviews\n",
    "                )\n",
    "                SELECT \n",
    "                    yb.name,\n",
    "                    yb.city,\n",
    "                    yb.state,\n",
    "                    yb.postal_code,\n",
    "                    review_date,\n",
    "                    cte.stars,\n",
    "                    user_review\n",
    "                FROM cte\n",
    "                JOIN yelp_businesses yb\n",
    "                    ON cte.business_id = yb.business_id\n",
    "                WHERE rn=1;\n",
    "                 ''').fetch_pandas_all()\n",
    "\n",
    "df_preview = pd.concat([df.head(3), df.tail(3)])\n",
    "styles = [{\n",
    "    'selector': 'caption', 'props': 'text-align: left;'\n",
    "}]\n",
    "\n",
    "display(df_preview.style.set_caption('<span style=\"font-size: 20px;\">Table 20: Most Recent Reviews for Each Business</span>').set_table_styles(styles))"
   ]
  },
  {
   "cell_type": "markdown",
   "id": "043ce982",
   "metadata": {},
   "source": [
    "### Most Reviewed Businesses and Their Average Star Rating"
   ]
  },
  {
   "cell_type": "code",
   "execution_count": 39,
   "id": "dbdf2f1e",
   "metadata": {},
   "outputs": [
    {
     "data": {
      "text/html": [
       "<style type=\"text/css\">\n",
       "#T_dd3fa caption {\n",
       "  text-align: left;\n",
       "}\n",
       "</style>\n",
       "<table id=\"T_dd3fa\">\n",
       "  <caption><span style=\"font-size: 20px;\">Table 21: Most Reviewed Businesses</span></caption>\n",
       "  <thead>\n",
       "    <tr>\n",
       "      <th class=\"blank level0\" >&nbsp;</th>\n",
       "      <th id=\"T_dd3fa_level0_col0\" class=\"col_heading level0 col0\" >NAME</th>\n",
       "      <th id=\"T_dd3fa_level0_col1\" class=\"col_heading level0 col1\" >CITY</th>\n",
       "      <th id=\"T_dd3fa_level0_col2\" class=\"col_heading level0 col2\" >STATE</th>\n",
       "      <th id=\"T_dd3fa_level0_col3\" class=\"col_heading level0 col3\" >REVIEW_COUNT</th>\n",
       "      <th id=\"T_dd3fa_level0_col4\" class=\"col_heading level0 col4\" >AVG_RATING</th>\n",
       "    </tr>\n",
       "  </thead>\n",
       "  <tbody>\n",
       "    <tr>\n",
       "      <th id=\"T_dd3fa_level0_row0\" class=\"row_heading level0 row0\" >0</th>\n",
       "      <td id=\"T_dd3fa_row0_col0\" class=\"data row0 col0\" >Acme Oyster House</td>\n",
       "      <td id=\"T_dd3fa_row0_col1\" class=\"data row0 col1\" >New Orleans</td>\n",
       "      <td id=\"T_dd3fa_row0_col2\" class=\"data row0 col2\" >LA</td>\n",
       "      <td id=\"T_dd3fa_row0_col3\" class=\"data row0 col3\" >7673</td>\n",
       "      <td id=\"T_dd3fa_row0_col4\" class=\"data row0 col4\" >4.12</td>\n",
       "    </tr>\n",
       "    <tr>\n",
       "      <th id=\"T_dd3fa_level0_row1\" class=\"row_heading level0 row1\" >1</th>\n",
       "      <td id=\"T_dd3fa_row1_col0\" class=\"data row1 col0\" >Oceana Grill</td>\n",
       "      <td id=\"T_dd3fa_row1_col1\" class=\"data row1 col1\" >New Orleans</td>\n",
       "      <td id=\"T_dd3fa_row1_col2\" class=\"data row1 col2\" >LA</td>\n",
       "      <td id=\"T_dd3fa_row1_col3\" class=\"data row1 col3\" >7516</td>\n",
       "      <td id=\"T_dd3fa_row1_col4\" class=\"data row1 col4\" >4.15</td>\n",
       "    </tr>\n",
       "    <tr>\n",
       "      <th id=\"T_dd3fa_level0_row2\" class=\"row_heading level0 row2\" >2</th>\n",
       "      <td id=\"T_dd3fa_row2_col0\" class=\"data row2 col0\" >Hattie B’s Hot Chicken - Nashville</td>\n",
       "      <td id=\"T_dd3fa_row2_col1\" class=\"data row2 col1\" >Nashville</td>\n",
       "      <td id=\"T_dd3fa_row2_col2\" class=\"data row2 col2\" >TN</td>\n",
       "      <td id=\"T_dd3fa_row2_col3\" class=\"data row2 col3\" >6160</td>\n",
       "      <td id=\"T_dd3fa_row2_col4\" class=\"data row2 col4\" >4.45</td>\n",
       "    </tr>\n",
       "    <tr>\n",
       "      <th id=\"T_dd3fa_level0_row3\" class=\"row_heading level0 row3\" >3</th>\n",
       "      <td id=\"T_dd3fa_row3_col0\" class=\"data row3 col0\" >Reading Terminal Market</td>\n",
       "      <td id=\"T_dd3fa_row3_col1\" class=\"data row3 col1\" >Philadelphia</td>\n",
       "      <td id=\"T_dd3fa_row3_col2\" class=\"data row3 col2\" >PA</td>\n",
       "      <td id=\"T_dd3fa_row3_col3\" class=\"data row3 col3\" >5778</td>\n",
       "      <td id=\"T_dd3fa_row3_col4\" class=\"data row3 col4\" >4.61</td>\n",
       "    </tr>\n",
       "    <tr>\n",
       "      <th id=\"T_dd3fa_level0_row4\" class=\"row_heading level0 row4\" >4</th>\n",
       "      <td id=\"T_dd3fa_row4_col0\" class=\"data row4 col0\" >Ruby Slipper Cafe</td>\n",
       "      <td id=\"T_dd3fa_row4_col1\" class=\"data row4 col1\" >New Orleans</td>\n",
       "      <td id=\"T_dd3fa_row4_col2\" class=\"data row4 col2\" >LA</td>\n",
       "      <td id=\"T_dd3fa_row4_col3\" class=\"data row4 col3\" >5523</td>\n",
       "      <td id=\"T_dd3fa_row4_col4\" class=\"data row4 col4\" >4.21</td>\n",
       "    </tr>\n",
       "    <tr>\n",
       "      <th id=\"T_dd3fa_level0_row5\" class=\"row_heading level0 row5\" >5</th>\n",
       "      <td id=\"T_dd3fa_row5_col0\" class=\"data row5 col0\" >Ruby Slipper - New Orleans</td>\n",
       "      <td id=\"T_dd3fa_row5_col1\" class=\"data row5 col1\" >New Orleans</td>\n",
       "      <td id=\"T_dd3fa_row5_col2\" class=\"data row5 col2\" >LA</td>\n",
       "      <td id=\"T_dd3fa_row5_col3\" class=\"data row5 col3\" >5264</td>\n",
       "      <td id=\"T_dd3fa_row5_col4\" class=\"data row5 col4\" >4.29</td>\n",
       "    </tr>\n",
       "    <tr>\n",
       "      <th id=\"T_dd3fa_level0_row6\" class=\"row_heading level0 row6\" >6</th>\n",
       "      <td id=\"T_dd3fa_row6_col0\" class=\"data row6 col0\" >Mother's Restaurant</td>\n",
       "      <td id=\"T_dd3fa_row6_col1\" class=\"data row6 col1\" >New Orleans</td>\n",
       "      <td id=\"T_dd3fa_row6_col2\" class=\"data row6 col2\" >LA</td>\n",
       "      <td id=\"T_dd3fa_row6_col3\" class=\"data row6 col3\" >5254</td>\n",
       "      <td id=\"T_dd3fa_row6_col4\" class=\"data row6 col4\" >3.44</td>\n",
       "    </tr>\n",
       "    <tr>\n",
       "      <th id=\"T_dd3fa_level0_row7\" class=\"row_heading level0 row7\" >7</th>\n",
       "      <td id=\"T_dd3fa_row7_col0\" class=\"data row7 col0\" >Royal House</td>\n",
       "      <td id=\"T_dd3fa_row7_col1\" class=\"data row7 col1\" >New Orleans</td>\n",
       "      <td id=\"T_dd3fa_row7_col2\" class=\"data row7 col2\" >LA</td>\n",
       "      <td id=\"T_dd3fa_row7_col3\" class=\"data row7 col3\" >5146</td>\n",
       "      <td id=\"T_dd3fa_row7_col4\" class=\"data row7 col4\" >3.79</td>\n",
       "    </tr>\n",
       "    <tr>\n",
       "      <th id=\"T_dd3fa_level0_row8\" class=\"row_heading level0 row8\" >8</th>\n",
       "      <td id=\"T_dd3fa_row8_col0\" class=\"data row8 col0\" >Commander's Palace</td>\n",
       "      <td id=\"T_dd3fa_row8_col1\" class=\"data row8 col1\" >New Orleans</td>\n",
       "      <td id=\"T_dd3fa_row8_col2\" class=\"data row8 col2\" >LA</td>\n",
       "      <td id=\"T_dd3fa_row8_col3\" class=\"data row8 col3\" >4969</td>\n",
       "      <td id=\"T_dd3fa_row8_col4\" class=\"data row8 col4\" >4.29</td>\n",
       "    </tr>\n",
       "    <tr>\n",
       "      <th id=\"T_dd3fa_level0_row9\" class=\"row_heading level0 row9\" >9</th>\n",
       "      <td id=\"T_dd3fa_row9_col0\" class=\"data row9 col0\" >Los Agaves</td>\n",
       "      <td id=\"T_dd3fa_row9_col1\" class=\"data row9 col1\" >Santa Barbara</td>\n",
       "      <td id=\"T_dd3fa_row9_col2\" class=\"data row9 col2\" >CA</td>\n",
       "      <td id=\"T_dd3fa_row9_col3\" class=\"data row9 col3\" >4718</td>\n",
       "      <td id=\"T_dd3fa_row9_col4\" class=\"data row9 col4\" >4.44</td>\n",
       "    </tr>\n",
       "    <tr>\n",
       "      <th id=\"T_dd3fa_level0_row10\" class=\"row_heading level0 row10\" >10</th>\n",
       "      <td id=\"T_dd3fa_row10_col0\" class=\"data row10 col0\" >Luke</td>\n",
       "      <td id=\"T_dd3fa_row10_col1\" class=\"data row10 col1\" >New Orleans</td>\n",
       "      <td id=\"T_dd3fa_row10_col2\" class=\"data row10 col2\" >LA</td>\n",
       "      <td id=\"T_dd3fa_row10_col3\" class=\"data row10 col3\" >4661</td>\n",
       "      <td id=\"T_dd3fa_row10_col4\" class=\"data row10 col4\" >4.18</td>\n",
       "    </tr>\n",
       "    <tr>\n",
       "      <th id=\"T_dd3fa_level0_row11\" class=\"row_heading level0 row11\" >11</th>\n",
       "      <td id=\"T_dd3fa_row11_col0\" class=\"data row11 col0\" >Cochon</td>\n",
       "      <td id=\"T_dd3fa_row11_col1\" class=\"data row11 col1\" >New Orleans</td>\n",
       "      <td id=\"T_dd3fa_row11_col2\" class=\"data row11 col2\" >LA</td>\n",
       "      <td id=\"T_dd3fa_row11_col3\" class=\"data row11 col3\" >4480</td>\n",
       "      <td id=\"T_dd3fa_row11_col4\" class=\"data row11 col4\" >4.19</td>\n",
       "    </tr>\n",
       "    <tr>\n",
       "      <th id=\"T_dd3fa_level0_row12\" class=\"row_heading level0 row12\" >12</th>\n",
       "      <td id=\"T_dd3fa_row12_col0\" class=\"data row12 col0\" >Felix's Restaurant & Oyster Bar</td>\n",
       "      <td id=\"T_dd3fa_row12_col1\" class=\"data row12 col1\" >New Orleans</td>\n",
       "      <td id=\"T_dd3fa_row12_col2\" class=\"data row12 col2\" >LA</td>\n",
       "      <td id=\"T_dd3fa_row12_col3\" class=\"data row12 col3\" >4300</td>\n",
       "      <td id=\"T_dd3fa_row12_col4\" class=\"data row12 col4\" >3.93</td>\n",
       "    </tr>\n",
       "    <tr>\n",
       "      <th id=\"T_dd3fa_level0_row13\" class=\"row_heading level0 row13\" >13</th>\n",
       "      <td id=\"T_dd3fa_row13_col0\" class=\"data row13 col0\" >Pat's King of Steaks</td>\n",
       "      <td id=\"T_dd3fa_row13_col1\" class=\"data row13 col1\" >Philadelphia</td>\n",
       "      <td id=\"T_dd3fa_row13_col2\" class=\"data row13 col2\" >PA</td>\n",
       "      <td id=\"T_dd3fa_row13_col3\" class=\"data row13 col3\" >4293</td>\n",
       "      <td id=\"T_dd3fa_row13_col4\" class=\"data row13 col4\" >3.24</td>\n",
       "    </tr>\n",
       "    <tr>\n",
       "      <th id=\"T_dd3fa_level0_row14\" class=\"row_heading level0 row14\" >14</th>\n",
       "      <td id=\"T_dd3fa_row14_col0\" class=\"data row14 col0\" >Biscuit Love: Gulch</td>\n",
       "      <td id=\"T_dd3fa_row14_col1\" class=\"data row14 col1\" >Nashville</td>\n",
       "      <td id=\"T_dd3fa_row14_col2\" class=\"data row14 col2\" >TN</td>\n",
       "      <td id=\"T_dd3fa_row14_col3\" class=\"data row14 col3\" >4247</td>\n",
       "      <td id=\"T_dd3fa_row14_col4\" class=\"data row14 col4\" >4.17</td>\n",
       "    </tr>\n",
       "    <tr>\n",
       "      <th id=\"T_dd3fa_level0_row15\" class=\"row_heading level0 row15\" >15</th>\n",
       "      <td id=\"T_dd3fa_row15_col0\" class=\"data row15 col0\" >Pappy's Smokehouse</td>\n",
       "      <td id=\"T_dd3fa_row15_col1\" class=\"data row15 col1\" >Saint Louis</td>\n",
       "      <td id=\"T_dd3fa_row15_col2\" class=\"data row15 col2\" >MO</td>\n",
       "      <td id=\"T_dd3fa_row15_col3\" class=\"data row15 col3\" >4093</td>\n",
       "      <td id=\"T_dd3fa_row15_col4\" class=\"data row15 col4\" >4.47</td>\n",
       "    </tr>\n",
       "    <tr>\n",
       "      <th id=\"T_dd3fa_level0_row16\" class=\"row_heading level0 row16\" >16</th>\n",
       "      <td id=\"T_dd3fa_row16_col0\" class=\"data row16 col0\" >Gumbo Shop</td>\n",
       "      <td id=\"T_dd3fa_row16_col1\" class=\"data row16 col1\" >New Orleans</td>\n",
       "      <td id=\"T_dd3fa_row16_col2\" class=\"data row16 col2\" >LA</td>\n",
       "      <td id=\"T_dd3fa_row16_col3\" class=\"data row16 col3\" >3971</td>\n",
       "      <td id=\"T_dd3fa_row16_col4\" class=\"data row16 col4\" >3.92</td>\n",
       "    </tr>\n",
       "    <tr>\n",
       "      <th id=\"T_dd3fa_level0_row17\" class=\"row_heading level0 row17\" >17</th>\n",
       "      <td id=\"T_dd3fa_row17_col0\" class=\"data row17 col0\" >Cochon Butcher</td>\n",
       "      <td id=\"T_dd3fa_row17_col1\" class=\"data row17 col1\" >New Orleans</td>\n",
       "      <td id=\"T_dd3fa_row17_col2\" class=\"data row17 col2\" >LA</td>\n",
       "      <td id=\"T_dd3fa_row17_col3\" class=\"data row17 col3\" >3917</td>\n",
       "      <td id=\"T_dd3fa_row17_col4\" class=\"data row17 col4\" >4.51</td>\n",
       "    </tr>\n",
       "    <tr>\n",
       "      <th id=\"T_dd3fa_level0_row18\" class=\"row_heading level0 row18\" >18</th>\n",
       "      <td id=\"T_dd3fa_row18_col0\" class=\"data row18 col0\" >Sabrina's Café</td>\n",
       "      <td id=\"T_dd3fa_row18_col1\" class=\"data row18 col1\" >Philadelphia</td>\n",
       "      <td id=\"T_dd3fa_row18_col2\" class=\"data row18 col2\" >PA</td>\n",
       "      <td id=\"T_dd3fa_row18_col3\" class=\"data row18 col3\" >3815</td>\n",
       "      <td id=\"T_dd3fa_row18_col4\" class=\"data row18 col4\" >4.14</td>\n",
       "    </tr>\n",
       "    <tr>\n",
       "      <th id=\"T_dd3fa_level0_row19\" class=\"row_heading level0 row19\" >19</th>\n",
       "      <td id=\"T_dd3fa_row19_col0\" class=\"data row19 col0\" >Grand Sierra Resort and Casino</td>\n",
       "      <td id=\"T_dd3fa_row19_col1\" class=\"data row19 col1\" >Reno</td>\n",
       "      <td id=\"T_dd3fa_row19_col2\" class=\"data row19 col2\" >NV</td>\n",
       "      <td id=\"T_dd3fa_row19_col3\" class=\"data row19 col3\" >3634</td>\n",
       "      <td id=\"T_dd3fa_row19_col4\" class=\"data row19 col4\" >2.98</td>\n",
       "    </tr>\n",
       "  </tbody>\n",
       "</table>\n"
      ],
      "text/plain": [
       "<pandas.io.formats.style.Styler at 0x229d999fb10>"
      ]
     },
     "metadata": {},
     "output_type": "display_data"
    }
   ],
   "source": [
    "# Most reviewed businesses\n",
    "df = cur.execute('''\n",
    "                SELECT yb.name, yb.city, yb.state, COUNT(yr.review_id) AS review_count, ROUND(AVG(yr.stars), 2) AS avg_rating\n",
    "                FROM yelp_reviews yr\n",
    "                JOIN yelp_businesses yb\n",
    "                ON yr.business_id = yb.business_id\n",
    "                GROUP BY yb.name, yb.city, yb.state\n",
    "                ORDER BY COUNT(yr.review_id) DESC\n",
    "                LIMIT 20;\n",
    "                 ''').fetch_pandas_all()\n",
    "\n",
    "styles = [{\n",
    "    'selector': 'caption', 'props': 'text-align: left;'\n",
    "}]\n",
    "\n",
    "display(df.style.set_caption('<span style=\"font-size: 20px;\">Table 21: Most Reviewed Businesses</span>').set_table_styles(styles))"
   ]
  },
  {
   "cell_type": "markdown",
   "id": "bbd5c119",
   "metadata": {},
   "source": [
    "### Top Businesses by State"
   ]
  },
  {
   "cell_type": "code",
   "execution_count": 41,
   "id": "9c56ef0f",
   "metadata": {},
   "outputs": [
    {
     "data": {
      "text/html": [
       "<style type=\"text/css\">\n",
       "#T_ec279 caption {\n",
       "  text-align: left;\n",
       "}\n",
       "</style>\n",
       "<table id=\"T_ec279\">\n",
       "  <caption><span style=\"font-size: 20px;\">Table 22: Highest Rated Businesses in the Selected State</span></caption>\n",
       "  <thead>\n",
       "    <tr>\n",
       "      <th class=\"blank level0\" >&nbsp;</th>\n",
       "      <th id=\"T_ec279_level0_col0\" class=\"col_heading level0 col0\" >NAME</th>\n",
       "      <th id=\"T_ec279_level0_col1\" class=\"col_heading level0 col1\" >STATE</th>\n",
       "      <th id=\"T_ec279_level0_col2\" class=\"col_heading level0 col2\" >AVG_RATING</th>\n",
       "      <th id=\"T_ec279_level0_col3\" class=\"col_heading level0 col3\" >TOTAL_REVIEWS</th>\n",
       "      <th id=\"T_ec279_level0_col4\" class=\"col_heading level0 col4\" >TOTAL_STARS</th>\n",
       "    </tr>\n",
       "  </thead>\n",
       "  <tbody>\n",
       "    <tr>\n",
       "      <th id=\"T_ec279_level0_row0\" class=\"row_heading level0 row0\" >0</th>\n",
       "      <td id=\"T_ec279_row0_col0\" class=\"data row0 col0\" >Grit & Tonic Handcrafted</td>\n",
       "      <td id=\"T_ec279_row0_col1\" class=\"data row0 col1\" >IL</td>\n",
       "      <td id=\"T_ec279_row0_col2\" class=\"data row0 col2\" >5.00</td>\n",
       "      <td id=\"T_ec279_row0_col3\" class=\"data row0 col3\" >22</td>\n",
       "      <td id=\"T_ec279_row0_col4\" class=\"data row0 col4\" >110.00</td>\n",
       "    </tr>\n",
       "    <tr>\n",
       "      <th id=\"T_ec279_level0_row1\" class=\"row_heading level0 row1\" >1</th>\n",
       "      <td id=\"T_ec279_row1_col0\" class=\"data row1 col0\" >CP Pinball</td>\n",
       "      <td id=\"T_ec279_row1_col1\" class=\"data row1 col1\" >IL</td>\n",
       "      <td id=\"T_ec279_row1_col2\" class=\"data row1 col2\" >5.00</td>\n",
       "      <td id=\"T_ec279_row1_col3\" class=\"data row1 col3\" >18</td>\n",
       "      <td id=\"T_ec279_row1_col4\" class=\"data row1 col4\" >90.00</td>\n",
       "    </tr>\n",
       "    <tr>\n",
       "      <th id=\"T_ec279_level0_row2\" class=\"row_heading level0 row2\" >2</th>\n",
       "      <td id=\"T_ec279_row2_col0\" class=\"data row2 col0\" >Walton's Ice Cream and More</td>\n",
       "      <td id=\"T_ec279_row2_col1\" class=\"data row2 col1\" >IL</td>\n",
       "      <td id=\"T_ec279_row2_col2\" class=\"data row2 col2\" >5.00</td>\n",
       "      <td id=\"T_ec279_row2_col3\" class=\"data row2 col3\" >13</td>\n",
       "      <td id=\"T_ec279_row2_col4\" class=\"data row2 col4\" >65.00</td>\n",
       "    </tr>\n",
       "    <tr>\n",
       "      <th id=\"T_ec279_level0_row3\" class=\"row_heading level0 row3\" >3</th>\n",
       "      <td id=\"T_ec279_row3_col0\" class=\"data row3 col0\" >Michael Murphy, OD</td>\n",
       "      <td id=\"T_ec279_row3_col1\" class=\"data row3 col1\" >IL</td>\n",
       "      <td id=\"T_ec279_row3_col2\" class=\"data row3 col2\" >5.00</td>\n",
       "      <td id=\"T_ec279_row3_col3\" class=\"data row3 col3\" >12</td>\n",
       "      <td id=\"T_ec279_row3_col4\" class=\"data row3 col4\" >60.00</td>\n",
       "    </tr>\n",
       "    <tr>\n",
       "      <th id=\"T_ec279_level0_row4\" class=\"row_heading level0 row4\" >4</th>\n",
       "      <td id=\"T_ec279_row4_col0\" class=\"data row4 col0\" >Mike's iPhone Repair Service</td>\n",
       "      <td id=\"T_ec279_row4_col1\" class=\"data row4 col1\" >IL</td>\n",
       "      <td id=\"T_ec279_row4_col2\" class=\"data row4 col2\" >5.00</td>\n",
       "      <td id=\"T_ec279_row4_col3\" class=\"data row4 col3\" >12</td>\n",
       "      <td id=\"T_ec279_row4_col4\" class=\"data row4 col4\" >60.00</td>\n",
       "    </tr>\n",
       "    <tr>\n",
       "      <th id=\"T_ec279_level0_row5\" class=\"row_heading level0 row5\" >5</th>\n",
       "      <td id=\"T_ec279_row5_col0\" class=\"data row5 col0\" >CBC Home Inspections</td>\n",
       "      <td id=\"T_ec279_row5_col1\" class=\"data row5 col1\" >IL</td>\n",
       "      <td id=\"T_ec279_row5_col2\" class=\"data row5 col2\" >5.00</td>\n",
       "      <td id=\"T_ec279_row5_col3\" class=\"data row5 col3\" >12</td>\n",
       "      <td id=\"T_ec279_row5_col4\" class=\"data row5 col4\" >60.00</td>\n",
       "    </tr>\n",
       "    <tr>\n",
       "      <th id=\"T_ec279_level0_row6\" class=\"row_heading level0 row6\" >6</th>\n",
       "      <td id=\"T_ec279_row6_col0\" class=\"data row6 col0\" >Post Pack & Ship</td>\n",
       "      <td id=\"T_ec279_row6_col1\" class=\"data row6 col1\" >IL</td>\n",
       "      <td id=\"T_ec279_row6_col2\" class=\"data row6 col2\" >5.00</td>\n",
       "      <td id=\"T_ec279_row6_col3\" class=\"data row6 col3\" >11</td>\n",
       "      <td id=\"T_ec279_row6_col4\" class=\"data row6 col4\" >55.00</td>\n",
       "    </tr>\n",
       "    <tr>\n",
       "      <th id=\"T_ec279_level0_row7\" class=\"row_heading level0 row7\" >7</th>\n",
       "      <td id=\"T_ec279_row7_col0\" class=\"data row7 col0\" >Eaker's Family Barber Shop</td>\n",
       "      <td id=\"T_ec279_row7_col1\" class=\"data row7 col1\" >IL</td>\n",
       "      <td id=\"T_ec279_row7_col2\" class=\"data row7 col2\" >5.00</td>\n",
       "      <td id=\"T_ec279_row7_col3\" class=\"data row7 col3\" >11</td>\n",
       "      <td id=\"T_ec279_row7_col4\" class=\"data row7 col4\" >55.00</td>\n",
       "    </tr>\n",
       "    <tr>\n",
       "      <th id=\"T_ec279_level0_row8\" class=\"row_heading level0 row8\" >8</th>\n",
       "      <td id=\"T_ec279_row8_col0\" class=\"data row8 col0\" >Jacks 66 Auto Repair</td>\n",
       "      <td id=\"T_ec279_row8_col1\" class=\"data row8 col1\" >IL</td>\n",
       "      <td id=\"T_ec279_row8_col2\" class=\"data row8 col2\" >5.00</td>\n",
       "      <td id=\"T_ec279_row8_col3\" class=\"data row8 col3\" >10</td>\n",
       "      <td id=\"T_ec279_row8_col4\" class=\"data row8 col4\" >50.00</td>\n",
       "    </tr>\n",
       "    <tr>\n",
       "      <th id=\"T_ec279_level0_row9\" class=\"row_heading level0 row9\" >9</th>\n",
       "      <td id=\"T_ec279_row9_col0\" class=\"data row9 col0\" >Exactime Watch & Clock</td>\n",
       "      <td id=\"T_ec279_row9_col1\" class=\"data row9 col1\" >IL</td>\n",
       "      <td id=\"T_ec279_row9_col2\" class=\"data row9 col2\" >5.00</td>\n",
       "      <td id=\"T_ec279_row9_col3\" class=\"data row9 col3\" >10</td>\n",
       "      <td id=\"T_ec279_row9_col4\" class=\"data row9 col4\" >50.00</td>\n",
       "    </tr>\n",
       "    <tr>\n",
       "      <th id=\"T_ec279_level0_row10\" class=\"row_heading level0 row10\" >10</th>\n",
       "      <td id=\"T_ec279_row10_col0\" class=\"data row10 col0\" >Vintage Wine Bar</td>\n",
       "      <td id=\"T_ec279_row10_col1\" class=\"data row10 col1\" >IL</td>\n",
       "      <td id=\"T_ec279_row10_col2\" class=\"data row10 col2\" >5.00</td>\n",
       "      <td id=\"T_ec279_row10_col3\" class=\"data row10 col3\" >10</td>\n",
       "      <td id=\"T_ec279_row10_col4\" class=\"data row10 col4\" >50.00</td>\n",
       "    </tr>\n",
       "    <tr>\n",
       "      <th id=\"T_ec279_level0_row11\" class=\"row_heading level0 row11\" >11</th>\n",
       "      <td id=\"T_ec279_row11_col0\" class=\"data row11 col0\" >Farmer's Market</td>\n",
       "      <td id=\"T_ec279_row11_col1\" class=\"data row11 col1\" >IL</td>\n",
       "      <td id=\"T_ec279_row11_col2\" class=\"data row11 col2\" >5.00</td>\n",
       "      <td id=\"T_ec279_row11_col3\" class=\"data row11 col3\" >10</td>\n",
       "      <td id=\"T_ec279_row11_col4\" class=\"data row11 col4\" >50.00</td>\n",
       "    </tr>\n",
       "    <tr>\n",
       "      <th id=\"T_ec279_level0_row12\" class=\"row_heading level0 row12\" >12</th>\n",
       "      <td id=\"T_ec279_row12_col0\" class=\"data row12 col0\" >Alton Room Escape</td>\n",
       "      <td id=\"T_ec279_row12_col1\" class=\"data row12 col1\" >IL</td>\n",
       "      <td id=\"T_ec279_row12_col2\" class=\"data row12 col2\" >5.00</td>\n",
       "      <td id=\"T_ec279_row12_col3\" class=\"data row12 col3\" >9</td>\n",
       "      <td id=\"T_ec279_row12_col4\" class=\"data row12 col4\" >45.00</td>\n",
       "    </tr>\n",
       "    <tr>\n",
       "      <th id=\"T_ec279_level0_row13\" class=\"row_heading level0 row13\" >13</th>\n",
       "      <td id=\"T_ec279_row13_col0\" class=\"data row13 col0\" >Conner Photography</td>\n",
       "      <td id=\"T_ec279_row13_col1\" class=\"data row13 col1\" >IL</td>\n",
       "      <td id=\"T_ec279_row13_col2\" class=\"data row13 col2\" >5.00</td>\n",
       "      <td id=\"T_ec279_row13_col3\" class=\"data row13 col3\" >9</td>\n",
       "      <td id=\"T_ec279_row13_col4\" class=\"data row13 col4\" >45.00</td>\n",
       "    </tr>\n",
       "    <tr>\n",
       "      <th id=\"T_ec279_level0_row14\" class=\"row_heading level0 row14\" >14</th>\n",
       "      <td id=\"T_ec279_row14_col0\" class=\"data row14 col0\" >Olde World Jewelers</td>\n",
       "      <td id=\"T_ec279_row14_col1\" class=\"data row14 col1\" >IL</td>\n",
       "      <td id=\"T_ec279_row14_col2\" class=\"data row14 col2\" >5.00</td>\n",
       "      <td id=\"T_ec279_row14_col3\" class=\"data row14 col3\" >9</td>\n",
       "      <td id=\"T_ec279_row14_col4\" class=\"data row14 col4\" >45.00</td>\n",
       "    </tr>\n",
       "    <tr>\n",
       "      <th id=\"T_ec279_level0_row15\" class=\"row_heading level0 row15\" >15</th>\n",
       "      <td id=\"T_ec279_row15_col0\" class=\"data row15 col0\" >Boarding House Bistro</td>\n",
       "      <td id=\"T_ec279_row15_col1\" class=\"data row15 col1\" >IL</td>\n",
       "      <td id=\"T_ec279_row15_col2\" class=\"data row15 col2\" >5.00</td>\n",
       "      <td id=\"T_ec279_row15_col3\" class=\"data row15 col3\" >9</td>\n",
       "      <td id=\"T_ec279_row15_col4\" class=\"data row15 col4\" >45.00</td>\n",
       "    </tr>\n",
       "    <tr>\n",
       "      <th id=\"T_ec279_level0_row16\" class=\"row_heading level0 row16\" >16</th>\n",
       "      <td id=\"T_ec279_row16_col0\" class=\"data row16 col0\" >Al's Transmission</td>\n",
       "      <td id=\"T_ec279_row16_col1\" class=\"data row16 col1\" >IL</td>\n",
       "      <td id=\"T_ec279_row16_col2\" class=\"data row16 col2\" >5.00</td>\n",
       "      <td id=\"T_ec279_row16_col3\" class=\"data row16 col3\" >9</td>\n",
       "      <td id=\"T_ec279_row16_col4\" class=\"data row16 col4\" >45.00</td>\n",
       "    </tr>\n",
       "    <tr>\n",
       "      <th id=\"T_ec279_level0_row17\" class=\"row_heading level0 row17\" >17</th>\n",
       "      <td id=\"T_ec279_row17_col0\" class=\"data row17 col0\" >Performance Eyecare</td>\n",
       "      <td id=\"T_ec279_row17_col1\" class=\"data row17 col1\" >IL</td>\n",
       "      <td id=\"T_ec279_row17_col2\" class=\"data row17 col2\" >5.00</td>\n",
       "      <td id=\"T_ec279_row17_col3\" class=\"data row17 col3\" >9</td>\n",
       "      <td id=\"T_ec279_row17_col4\" class=\"data row17 col4\" >45.00</td>\n",
       "    </tr>\n",
       "    <tr>\n",
       "      <th id=\"T_ec279_level0_row18\" class=\"row_heading level0 row18\" >18</th>\n",
       "      <td id=\"T_ec279_row18_col0\" class=\"data row18 col0\" >S & L Concessions - Mission Essential Barber Shop</td>\n",
       "      <td id=\"T_ec279_row18_col1\" class=\"data row18 col1\" >IL</td>\n",
       "      <td id=\"T_ec279_row18_col2\" class=\"data row18 col2\" >5.00</td>\n",
       "      <td id=\"T_ec279_row18_col3\" class=\"data row18 col3\" >8</td>\n",
       "      <td id=\"T_ec279_row18_col4\" class=\"data row18 col4\" >40.00</td>\n",
       "    </tr>\n",
       "    <tr>\n",
       "      <th id=\"T_ec279_level0_row19\" class=\"row_heading level0 row19\" >19</th>\n",
       "      <td id=\"T_ec279_row19_col0\" class=\"data row19 col0\" >Advantage Family Chiropractic</td>\n",
       "      <td id=\"T_ec279_row19_col1\" class=\"data row19 col1\" >IL</td>\n",
       "      <td id=\"T_ec279_row19_col2\" class=\"data row19 col2\" >5.00</td>\n",
       "      <td id=\"T_ec279_row19_col3\" class=\"data row19 col3\" >8</td>\n",
       "      <td id=\"T_ec279_row19_col4\" class=\"data row19 col4\" >40.00</td>\n",
       "    </tr>\n",
       "  </tbody>\n",
       "</table>\n"
      ],
      "text/plain": [
       "<pandas.io.formats.style.Styler at 0x229d999de50>"
      ]
     },
     "metadata": {},
     "output_type": "display_data"
    }
   ],
   "source": [
    "# Highest rated businesses for the selected state by average stars and total stars\n",
    "df = cur.execute('''\n",
    "                WITH ranked AS (\n",
    "                SELECT\n",
    "                    yb.name,\n",
    "                    yb.state,\n",
    "                    ROUND(AVG(yr.stars),2) AS avg_rating,\n",
    "                    COUNT(yr.review_id) AS total_reviews\n",
    "                FROM yelp_businesses yb\n",
    "                JOIN yelp_reviews yr\n",
    "                    ON yb.business_id = yr.business_id\n",
    "                WHERE yb.state = 'IL'\n",
    "                GROUP BY 1,2\n",
    "                )\n",
    "                SELECT\n",
    "                    name,\n",
    "                    state,\n",
    "                    avg_rating,\n",
    "                    total_reviews,\n",
    "                    avg_rating * total_reviews AS total_stars\n",
    "                FROM ranked\n",
    "                ORDER BY avg_rating DESC, total_reviews DESC\n",
    "                LIMIT 20;\n",
    "                 ''').fetch_pandas_all()\n",
    "\n",
    "styles = [{\n",
    "    'selector': 'caption', 'props': 'text-align: left;'\n",
    "}]\n",
    "\n",
    "display(df.style.set_caption('<span style=\"font-size: 20px;\">Table 22: Highest Rated Businesses in the Selected State</span>').set_table_styles(styles))"
   ]
  },
  {
   "cell_type": "markdown",
   "id": "4758a7f0",
   "metadata": {},
   "source": [
    "### Top Businesses by City"
   ]
  },
  {
   "cell_type": "code",
   "execution_count": 42,
   "id": "4bea8669",
   "metadata": {},
   "outputs": [
    {
     "data": {
      "text/html": [
       "<style type=\"text/css\">\n",
       "#T_b830b caption {\n",
       "  text-align: left;\n",
       "}\n",
       "</style>\n",
       "<table id=\"T_b830b\">\n",
       "  <caption><span style=\"font-size: 20px;\">Table 23: Highest Rated Businesses in the Selected City</span></caption>\n",
       "  <thead>\n",
       "    <tr>\n",
       "      <th class=\"blank level0\" >&nbsp;</th>\n",
       "      <th id=\"T_b830b_level0_col0\" class=\"col_heading level0 col0\" >NAME</th>\n",
       "      <th id=\"T_b830b_level0_col1\" class=\"col_heading level0 col1\" >CITY</th>\n",
       "      <th id=\"T_b830b_level0_col2\" class=\"col_heading level0 col2\" >STATE</th>\n",
       "      <th id=\"T_b830b_level0_col3\" class=\"col_heading level0 col3\" >AVG_RATING</th>\n",
       "      <th id=\"T_b830b_level0_col4\" class=\"col_heading level0 col4\" >TOTAL_REVIEWS</th>\n",
       "      <th id=\"T_b830b_level0_col5\" class=\"col_heading level0 col5\" >TOTAL_STARS</th>\n",
       "    </tr>\n",
       "  </thead>\n",
       "  <tbody>\n",
       "    <tr>\n",
       "      <th id=\"T_b830b_level0_row0\" class=\"row_heading level0 row0\" >0</th>\n",
       "      <td id=\"T_b830b_row0_col0\" class=\"data row0 col0\" >Drink & Learn</td>\n",
       "      <td id=\"T_b830b_row0_col1\" class=\"data row0 col1\" >New Orleans</td>\n",
       "      <td id=\"T_b830b_row0_col2\" class=\"data row0 col2\" >LA</td>\n",
       "      <td id=\"T_b830b_row0_col3\" class=\"data row0 col3\" >5.00</td>\n",
       "      <td id=\"T_b830b_row0_col4\" class=\"data row0 col4\" >90</td>\n",
       "      <td id=\"T_b830b_row0_col5\" class=\"data row0 col5\" >450.00</td>\n",
       "    </tr>\n",
       "    <tr>\n",
       "      <th id=\"T_b830b_level0_row1\" class=\"row_heading level0 row1\" >1</th>\n",
       "      <td id=\"T_b830b_row1_col0\" class=\"data row1 col0\" >New Orleans Streetwalkers Tours</td>\n",
       "      <td id=\"T_b830b_row1_col1\" class=\"data row1 col1\" >New Orleans</td>\n",
       "      <td id=\"T_b830b_row1_col2\" class=\"data row1 col2\" >LA</td>\n",
       "      <td id=\"T_b830b_row1_col3\" class=\"data row1 col3\" >5.00</td>\n",
       "      <td id=\"T_b830b_row1_col4\" class=\"data row1 col4\" >52</td>\n",
       "      <td id=\"T_b830b_row1_col5\" class=\"data row1 col5\" >260.00</td>\n",
       "    </tr>\n",
       "    <tr>\n",
       "      <th id=\"T_b830b_level0_row2\" class=\"row_heading level0 row2\" >2</th>\n",
       "      <td id=\"T_b830b_row2_col0\" class=\"data row2 col0\" >Hidden History Tours</td>\n",
       "      <td id=\"T_b830b_row2_col1\" class=\"data row2 col1\" >New Orleans</td>\n",
       "      <td id=\"T_b830b_row2_col2\" class=\"data row2 col2\" >LA</td>\n",
       "      <td id=\"T_b830b_row2_col3\" class=\"data row2 col3\" >5.00</td>\n",
       "      <td id=\"T_b830b_row2_col4\" class=\"data row2 col4\" >42</td>\n",
       "      <td id=\"T_b830b_row2_col5\" class=\"data row2 col5\" >210.00</td>\n",
       "    </tr>\n",
       "    <tr>\n",
       "      <th id=\"T_b830b_level0_row3\" class=\"row_heading level0 row3\" >3</th>\n",
       "      <td id=\"T_b830b_row3_col0\" class=\"data row3 col0\" >Casa Pelican B&B and Cooking School</td>\n",
       "      <td id=\"T_b830b_row3_col1\" class=\"data row3 col1\" >New Orleans</td>\n",
       "      <td id=\"T_b830b_row3_col2\" class=\"data row3 col2\" >LA</td>\n",
       "      <td id=\"T_b830b_row3_col3\" class=\"data row3 col3\" >5.00</td>\n",
       "      <td id=\"T_b830b_row3_col4\" class=\"data row3 col4\" >42</td>\n",
       "      <td id=\"T_b830b_row3_col5\" class=\"data row3 col5\" >210.00</td>\n",
       "    </tr>\n",
       "    <tr>\n",
       "      <th id=\"T_b830b_level0_row4\" class=\"row_heading level0 row4\" >4</th>\n",
       "      <td id=\"T_b830b_row4_col0\" class=\"data row4 col0\" >Slate Detail</td>\n",
       "      <td id=\"T_b830b_row4_col1\" class=\"data row4 col1\" >New Orleans</td>\n",
       "      <td id=\"T_b830b_row4_col2\" class=\"data row4 col2\" >LA</td>\n",
       "      <td id=\"T_b830b_row4_col3\" class=\"data row4 col3\" >5.00</td>\n",
       "      <td id=\"T_b830b_row4_col4\" class=\"data row4 col4\" >41</td>\n",
       "      <td id=\"T_b830b_row4_col5\" class=\"data row4 col5\" >205.00</td>\n",
       "    </tr>\n",
       "    <tr>\n",
       "      <th id=\"T_b830b_level0_row5\" class=\"row_heading level0 row5\" >5</th>\n",
       "      <td id=\"T_b830b_row5_col0\" class=\"data row5 col0\" >RachelLauren Massage</td>\n",
       "      <td id=\"T_b830b_row5_col1\" class=\"data row5 col1\" >New Orleans</td>\n",
       "      <td id=\"T_b830b_row5_col2\" class=\"data row5 col2\" >LA</td>\n",
       "      <td id=\"T_b830b_row5_col3\" class=\"data row5 col3\" >5.00</td>\n",
       "      <td id=\"T_b830b_row5_col4\" class=\"data row5 col4\" >36</td>\n",
       "      <td id=\"T_b830b_row5_col5\" class=\"data row5 col5\" >180.00</td>\n",
       "    </tr>\n",
       "    <tr>\n",
       "      <th id=\"T_b830b_level0_row6\" class=\"row_heading level0 row6\" >6</th>\n",
       "      <td id=\"T_b830b_row6_col0\" class=\"data row6 col0\" >Terrell House</td>\n",
       "      <td id=\"T_b830b_row6_col1\" class=\"data row6 col1\" >New Orleans</td>\n",
       "      <td id=\"T_b830b_row6_col2\" class=\"data row6 col2\" >LA</td>\n",
       "      <td id=\"T_b830b_row6_col3\" class=\"data row6 col3\" >5.00</td>\n",
       "      <td id=\"T_b830b_row6_col4\" class=\"data row6 col4\" >35</td>\n",
       "      <td id=\"T_b830b_row6_col5\" class=\"data row6 col5\" >175.00</td>\n",
       "    </tr>\n",
       "    <tr>\n",
       "      <th id=\"T_b830b_level0_row7\" class=\"row_heading level0 row7\" >7</th>\n",
       "      <td id=\"T_b830b_row7_col0\" class=\"data row7 col0\" >New Orleans Architecture Tours</td>\n",
       "      <td id=\"T_b830b_row7_col1\" class=\"data row7 col1\" >New Orleans</td>\n",
       "      <td id=\"T_b830b_row7_col2\" class=\"data row7 col2\" >LA</td>\n",
       "      <td id=\"T_b830b_row7_col3\" class=\"data row7 col3\" >5.00</td>\n",
       "      <td id=\"T_b830b_row7_col4\" class=\"data row7 col4\" >34</td>\n",
       "      <td id=\"T_b830b_row7_col5\" class=\"data row7 col5\" >170.00</td>\n",
       "    </tr>\n",
       "    <tr>\n",
       "      <th id=\"T_b830b_level0_row8\" class=\"row_heading level0 row8\" >8</th>\n",
       "      <td id=\"T_b830b_row8_col0\" class=\"data row8 col0\" >WobbeMassage</td>\n",
       "      <td id=\"T_b830b_row8_col1\" class=\"data row8 col1\" >New Orleans</td>\n",
       "      <td id=\"T_b830b_row8_col2\" class=\"data row8 col2\" >LA</td>\n",
       "      <td id=\"T_b830b_row8_col3\" class=\"data row8 col3\" >5.00</td>\n",
       "      <td id=\"T_b830b_row8_col4\" class=\"data row8 col4\" >31</td>\n",
       "      <td id=\"T_b830b_row8_col5\" class=\"data row8 col5\" >155.00</td>\n",
       "    </tr>\n",
       "    <tr>\n",
       "      <th id=\"T_b830b_level0_row9\" class=\"row_heading level0 row9\" >9</th>\n",
       "      <td id=\"T_b830b_row9_col0\" class=\"data row9 col0\" >Eversaint Salon</td>\n",
       "      <td id=\"T_b830b_row9_col1\" class=\"data row9 col1\" >New Orleans</td>\n",
       "      <td id=\"T_b830b_row9_col2\" class=\"data row9 col2\" >LA</td>\n",
       "      <td id=\"T_b830b_row9_col3\" class=\"data row9 col3\" >5.00</td>\n",
       "      <td id=\"T_b830b_row9_col4\" class=\"data row9 col4\" >30</td>\n",
       "      <td id=\"T_b830b_row9_col5\" class=\"data row9 col5\" >150.00</td>\n",
       "    </tr>\n",
       "    <tr>\n",
       "      <th id=\"T_b830b_level0_row10\" class=\"row_heading level0 row10\" >10</th>\n",
       "      <td id=\"T_b830b_row10_col0\" class=\"data row10 col0\" >Kitchen Witch Cookbook</td>\n",
       "      <td id=\"T_b830b_row10_col1\" class=\"data row10 col1\" >New Orleans</td>\n",
       "      <td id=\"T_b830b_row10_col2\" class=\"data row10 col2\" >LA</td>\n",
       "      <td id=\"T_b830b_row10_col3\" class=\"data row10 col3\" >5.00</td>\n",
       "      <td id=\"T_b830b_row10_col4\" class=\"data row10 col4\" >27</td>\n",
       "      <td id=\"T_b830b_row10_col5\" class=\"data row10 col5\" >135.00</td>\n",
       "    </tr>\n",
       "    <tr>\n",
       "      <th id=\"T_b830b_level0_row11\" class=\"row_heading level0 row11\" >11</th>\n",
       "      <td id=\"T_b830b_row11_col0\" class=\"data row11 col0\" >Yinzer’s Amazing Cheesesteaks</td>\n",
       "      <td id=\"T_b830b_row11_col1\" class=\"data row11 col1\" >New Orleans</td>\n",
       "      <td id=\"T_b830b_row11_col2\" class=\"data row11 col2\" >LA</td>\n",
       "      <td id=\"T_b830b_row11_col3\" class=\"data row11 col3\" >5.00</td>\n",
       "      <td id=\"T_b830b_row11_col4\" class=\"data row11 col4\" >25</td>\n",
       "      <td id=\"T_b830b_row11_col5\" class=\"data row11 col5\" >125.00</td>\n",
       "    </tr>\n",
       "    <tr>\n",
       "      <th id=\"T_b830b_level0_row12\" class=\"row_heading level0 row12\" >12</th>\n",
       "      <td id=\"T_b830b_row12_col0\" class=\"data row12 col0\" >Eduardo Yibrin</td>\n",
       "      <td id=\"T_b830b_row12_col1\" class=\"data row12 col1\" >New Orleans</td>\n",
       "      <td id=\"T_b830b_row12_col2\" class=\"data row12 col2\" >LA</td>\n",
       "      <td id=\"T_b830b_row12_col3\" class=\"data row12 col3\" >5.00</td>\n",
       "      <td id=\"T_b830b_row12_col4\" class=\"data row12 col4\" >22</td>\n",
       "      <td id=\"T_b830b_row12_col5\" class=\"data row12 col5\" >110.00</td>\n",
       "    </tr>\n",
       "    <tr>\n",
       "      <th id=\"T_b830b_level0_row13\" class=\"row_heading level0 row13\" >13</th>\n",
       "      <td id=\"T_b830b_row13_col0\" class=\"data row13 col0\" >Dani Benton Photography</td>\n",
       "      <td id=\"T_b830b_row13_col1\" class=\"data row13 col1\" >New Orleans</td>\n",
       "      <td id=\"T_b830b_row13_col2\" class=\"data row13 col2\" >LA</td>\n",
       "      <td id=\"T_b830b_row13_col3\" class=\"data row13 col3\" >5.00</td>\n",
       "      <td id=\"T_b830b_row13_col4\" class=\"data row13 col4\" >22</td>\n",
       "      <td id=\"T_b830b_row13_col5\" class=\"data row13 col5\" >110.00</td>\n",
       "    </tr>\n",
       "    <tr>\n",
       "      <th id=\"T_b830b_level0_row14\" class=\"row_heading level0 row14\" >14</th>\n",
       "      <td id=\"T_b830b_row14_col0\" class=\"data row14 col0\" >New Orleans Aerial Tours & Flight Training</td>\n",
       "      <td id=\"T_b830b_row14_col1\" class=\"data row14 col1\" >New Orleans</td>\n",
       "      <td id=\"T_b830b_row14_col2\" class=\"data row14 col2\" >LA</td>\n",
       "      <td id=\"T_b830b_row14_col3\" class=\"data row14 col3\" >5.00</td>\n",
       "      <td id=\"T_b830b_row14_col4\" class=\"data row14 col4\" >21</td>\n",
       "      <td id=\"T_b830b_row14_col5\" class=\"data row14 col5\" >105.00</td>\n",
       "    </tr>\n",
       "    <tr>\n",
       "      <th id=\"T_b830b_level0_row15\" class=\"row_heading level0 row15\" >15</th>\n",
       "      <td id=\"T_b830b_row15_col0\" class=\"data row15 col0\" >The Collective Shop</td>\n",
       "      <td id=\"T_b830b_row15_col1\" class=\"data row15 col1\" >New Orleans</td>\n",
       "      <td id=\"T_b830b_row15_col2\" class=\"data row15 col2\" >LA</td>\n",
       "      <td id=\"T_b830b_row15_col3\" class=\"data row15 col3\" >5.00</td>\n",
       "      <td id=\"T_b830b_row15_col4\" class=\"data row15 col4\" >20</td>\n",
       "      <td id=\"T_b830b_row15_col5\" class=\"data row15 col5\" >100.00</td>\n",
       "    </tr>\n",
       "    <tr>\n",
       "      <th id=\"T_b830b_level0_row16\" class=\"row_heading level0 row16\" >16</th>\n",
       "      <td id=\"T_b830b_row16_col0\" class=\"data row16 col0\" >Jupiter Salon</td>\n",
       "      <td id=\"T_b830b_row16_col1\" class=\"data row16 col1\" >New Orleans</td>\n",
       "      <td id=\"T_b830b_row16_col2\" class=\"data row16 col2\" >LA</td>\n",
       "      <td id=\"T_b830b_row16_col3\" class=\"data row16 col3\" >5.00</td>\n",
       "      <td id=\"T_b830b_row16_col4\" class=\"data row16 col4\" >20</td>\n",
       "      <td id=\"T_b830b_row16_col5\" class=\"data row16 col5\" >100.00</td>\n",
       "    </tr>\n",
       "    <tr>\n",
       "      <th id=\"T_b830b_level0_row17\" class=\"row_heading level0 row17\" >17</th>\n",
       "      <td id=\"T_b830b_row17_col0\" class=\"data row17 col0\" >Piety and Desire Chocolate</td>\n",
       "      <td id=\"T_b830b_row17_col1\" class=\"data row17 col1\" >New Orleans</td>\n",
       "      <td id=\"T_b830b_row17_col2\" class=\"data row17 col2\" >LA</td>\n",
       "      <td id=\"T_b830b_row17_col3\" class=\"data row17 col3\" >5.00</td>\n",
       "      <td id=\"T_b830b_row17_col4\" class=\"data row17 col4\" >19</td>\n",
       "      <td id=\"T_b830b_row17_col5\" class=\"data row17 col5\" >95.00</td>\n",
       "    </tr>\n",
       "    <tr>\n",
       "      <th id=\"T_b830b_level0_row18\" class=\"row_heading level0 row18\" >18</th>\n",
       "      <td id=\"T_b830b_row18_col0\" class=\"data row18 col0\" >504 Fitness</td>\n",
       "      <td id=\"T_b830b_row18_col1\" class=\"data row18 col1\" >New Orleans</td>\n",
       "      <td id=\"T_b830b_row18_col2\" class=\"data row18 col2\" >LA</td>\n",
       "      <td id=\"T_b830b_row18_col3\" class=\"data row18 col3\" >5.00</td>\n",
       "      <td id=\"T_b830b_row18_col4\" class=\"data row18 col4\" >19</td>\n",
       "      <td id=\"T_b830b_row18_col5\" class=\"data row18 col5\" >95.00</td>\n",
       "    </tr>\n",
       "    <tr>\n",
       "      <th id=\"T_b830b_level0_row19\" class=\"row_heading level0 row19\" >19</th>\n",
       "      <td id=\"T_b830b_row19_col0\" class=\"data row19 col0\" >Marigny Manor House</td>\n",
       "      <td id=\"T_b830b_row19_col1\" class=\"data row19 col1\" >New Orleans</td>\n",
       "      <td id=\"T_b830b_row19_col2\" class=\"data row19 col2\" >LA</td>\n",
       "      <td id=\"T_b830b_row19_col3\" class=\"data row19 col3\" >5.00</td>\n",
       "      <td id=\"T_b830b_row19_col4\" class=\"data row19 col4\" >19</td>\n",
       "      <td id=\"T_b830b_row19_col5\" class=\"data row19 col5\" >95.00</td>\n",
       "    </tr>\n",
       "  </tbody>\n",
       "</table>\n"
      ],
      "text/plain": [
       "<pandas.io.formats.style.Styler at 0x229d999de50>"
      ]
     },
     "metadata": {},
     "output_type": "display_data"
    }
   ],
   "source": [
    "# Highest rated businesses for the selected city by average stars and total stars\n",
    "df = cur.execute('''\n",
    "                WITH ranked AS (\n",
    "                SELECT\n",
    "                    yb.name,\n",
    "                    yb.city,\n",
    "                    yb.state,\n",
    "                    ROUND(AVG(yr.stars),2) AS avg_rating,\n",
    "                    COUNT(yr.review_id) AS total_reviews\n",
    "                FROM yelp_businesses yb\n",
    "                JOIN yelp_reviews yr\n",
    "                    ON yb.business_id = yr.business_id\n",
    "                WHERE yb.city = 'New Orleans'\n",
    "                GROUP BY 1, 2, 3\n",
    "                )\n",
    "                SELECT\n",
    "                    name,\n",
    "                    city,\n",
    "                    state,\n",
    "                    avg_rating,\n",
    "                    total_reviews,\n",
    "                    avg_rating * total_reviews AS total_stars\n",
    "                FROM ranked\n",
    "                ORDER BY avg_rating DESC, total_reviews DESC\n",
    "                LIMIT 20;\n",
    "                 ''').fetch_pandas_all()\n",
    "\n",
    "styles = [{\n",
    "    'selector': 'caption', 'props': 'text-align: left;'\n",
    "}]\n",
    "\n",
    "display(df.style.set_caption('<span style=\"font-size: 20px;\">Table 23: Highest Rated Businesses in the Selected City</span>').set_table_styles(styles))"
   ]
  },
  {
   "cell_type": "markdown",
   "id": "11936a32",
   "metadata": {},
   "source": [
    "### Average Star Rating: Closed vs. Open Businesses"
   ]
  },
  {
   "cell_type": "code",
   "execution_count": 43,
   "id": "5480008e",
   "metadata": {},
   "outputs": [
    {
     "data": {
      "text/html": [
       "<style type=\"text/css\">\n",
       "#T_c1b62 caption {\n",
       "  text-align: left;\n",
       "}\n",
       "</style>\n",
       "<table id=\"T_c1b62\">\n",
       "  <caption><span style=\"font-size: 20px;\">Table 24: Average Rating: Closed vs. Open Businesses</span></caption>\n",
       "  <thead>\n",
       "    <tr>\n",
       "      <th class=\"blank level0\" >&nbsp;</th>\n",
       "      <th id=\"T_c1b62_level0_col0\" class=\"col_heading level0 col0\" >BUSINESS_STATUS</th>\n",
       "      <th id=\"T_c1b62_level0_col1\" class=\"col_heading level0 col1\" >AVG_RATING</th>\n",
       "    </tr>\n",
       "  </thead>\n",
       "  <tbody>\n",
       "    <tr>\n",
       "      <th id=\"T_c1b62_level0_row0\" class=\"row_heading level0 row0\" >0</th>\n",
       "      <td id=\"T_c1b62_row0_col0\" class=\"data row0 col0\" >Open</td>\n",
       "      <td id=\"T_c1b62_row0_col1\" class=\"data row0 col1\" >3.77</td>\n",
       "    </tr>\n",
       "    <tr>\n",
       "      <th id=\"T_c1b62_level0_row1\" class=\"row_heading level0 row1\" >1</th>\n",
       "      <td id=\"T_c1b62_row1_col0\" class=\"data row1 col0\" >Closed</td>\n",
       "      <td id=\"T_c1b62_row1_col1\" class=\"data row1 col1\" >3.62</td>\n",
       "    </tr>\n",
       "  </tbody>\n",
       "</table>\n"
      ],
      "text/plain": [
       "<pandas.io.formats.style.Styler at 0x229d999de50>"
      ]
     },
     "metadata": {},
     "output_type": "display_data"
    }
   ],
   "source": [
    "# Average rating for closed vs currently operating businesses\n",
    "df = cur.execute('''\n",
    "                SELECT \n",
    "                    'Open' AS business_status, \n",
    "                    ROUND(AVG(yr.stars), 2) as avg_rating\n",
    "                FROM yelp_businesses yb\n",
    "                JOIN yelp_reviews yr\n",
    "                    ON yb.business_id = yr.business_id\n",
    "                WHERE is_open = 1\n",
    "                UNION\n",
    "                SELECT \n",
    "                    'Closed',\n",
    "                    ROUND(AVG(yr.stars), 2) as avg_rating\n",
    "                FROM yelp_businesses yb\n",
    "                JOIN yelp_reviews yr\n",
    "                    ON yb.business_id = yr.business_id\n",
    "                WHERE is_open = 0;\n",
    "                 ''').fetch_pandas_all()\n",
    "\n",
    "styles = [{\n",
    "    'selector': 'caption', 'props': 'text-align: left;'\n",
    "}]\n",
    "\n",
    "display(df.style.set_caption('<span style=\"font-size: 20px;\">Table 24: Average Rating: Closed vs. Open Businesses</span>').set_table_styles(styles))"
   ]
  },
  {
   "cell_type": "markdown",
   "id": "a58ad451",
   "metadata": {},
   "source": [
    "### Average Star Rating by Category: Closed vs. Open Businesses"
   ]
  },
  {
   "cell_type": "code",
   "execution_count": 44,
   "id": "768735d7",
   "metadata": {},
   "outputs": [
    {
     "data": {
      "text/html": [
       "<style type=\"text/css\">\n",
       "#T_7db65 caption {\n",
       "  text-align: left;\n",
       "}\n",
       "</style>\n",
       "<table id=\"T_7db65\">\n",
       "  <caption><span style=\"font-size: 20px;\">Table 25: Average Star Rating by Category: Closed vs. Open Businesses</span></caption>\n",
       "  <thead>\n",
       "    <tr>\n",
       "      <th class=\"blank level0\" >&nbsp;</th>\n",
       "      <th id=\"T_7db65_level0_col0\" class=\"col_heading level0 col0\" >CATEGORY</th>\n",
       "      <th id=\"T_7db65_level0_col1\" class=\"col_heading level0 col1\" >AVG_OPEN_RATING</th>\n",
       "      <th id=\"T_7db65_level0_col2\" class=\"col_heading level0 col2\" >AVG_CLOSED_RATING</th>\n",
       "    </tr>\n",
       "  </thead>\n",
       "  <tbody>\n",
       "    <tr>\n",
       "      <th id=\"T_7db65_level0_row0\" class=\"row_heading level0 row0\" >0</th>\n",
       "      <td id=\"T_7db65_row0_col0\" class=\"data row0 col0\" >Restaurants</td>\n",
       "      <td id=\"T_7db65_row0_col1\" class=\"data row0 col1\" >3.83</td>\n",
       "      <td id=\"T_7db65_row0_col2\" class=\"data row0 col2\" >3.64</td>\n",
       "    </tr>\n",
       "    <tr>\n",
       "      <th id=\"T_7db65_level0_row1\" class=\"row_heading level0 row1\" >1</th>\n",
       "      <td id=\"T_7db65_row1_col0\" class=\"data row1 col0\" >Candy Stores</td>\n",
       "      <td id=\"T_7db65_row1_col1\" class=\"data row1 col1\" >4.33</td>\n",
       "      <td id=\"T_7db65_row1_col2\" class=\"data row1 col2\" >3.93</td>\n",
       "    </tr>\n",
       "    <tr>\n",
       "      <th id=\"T_7db65_level0_row2\" class=\"row_heading level0 row2\" >2</th>\n",
       "      <td id=\"T_7db65_row2_col0\" class=\"data row2 col0\" >Specialty Food</td>\n",
       "      <td id=\"T_7db65_row2_col1\" class=\"data row2 col1\" >4.05</td>\n",
       "      <td id=\"T_7db65_row2_col2\" class=\"data row2 col2\" >3.90</td>\n",
       "    </tr>\n",
       "    <tr>\n",
       "      <th id=\"T_7db65_level0_row3\" class=\"row_heading level0 row3\" >3</th>\n",
       "      <td id=\"T_7db65_row3_col0\" class=\"data row3 col0\" >Day Spas</td>\n",
       "      <td id=\"T_7db65_row3_col1\" class=\"data row3 col1\" >3.87</td>\n",
       "      <td id=\"T_7db65_row3_col2\" class=\"data row3 col2\" >3.61</td>\n",
       "    </tr>\n",
       "    <tr>\n",
       "      <th id=\"T_7db65_level0_row4\" class=\"row_heading level0 row4\" >4</th>\n",
       "      <td id=\"T_7db65_row4_col0\" class=\"data row4 col0\" >American (Traditional)</td>\n",
       "      <td id=\"T_7db65_row4_col1\" class=\"data row4 col1\" >3.71</td>\n",
       "      <td id=\"T_7db65_row4_col2\" class=\"data row4 col2\" >3.49</td>\n",
       "    </tr>\n",
       "    <tr>\n",
       "      <th id=\"T_7db65_level0_row5\" class=\"row_heading level0 row5\" >5</th>\n",
       "      <td id=\"T_7db65_row5_col0\" class=\"data row5 col0\" >Modern European</td>\n",
       "      <td id=\"T_7db65_row5_col1\" class=\"data row5 col1\" >4.18</td>\n",
       "      <td id=\"T_7db65_row5_col2\" class=\"data row5 col2\" >3.95</td>\n",
       "    </tr>\n",
       "    <tr>\n",
       "      <th id=\"T_7db65_level0_row6\" class=\"row_heading level0 row6\" >6</th>\n",
       "      <td id=\"T_7db65_row6_col0\" class=\"data row6 col0\" >Sports Bars</td>\n",
       "      <td id=\"T_7db65_row6_col1\" class=\"data row6 col1\" >3.42</td>\n",
       "      <td id=\"T_7db65_row6_col2\" class=\"data row6 col2\" >3.19</td>\n",
       "    </tr>\n",
       "    <tr>\n",
       "      <th id=\"T_7db65_level0_row7\" class=\"row_heading level0 row7\" >7</th>\n",
       "      <td id=\"T_7db65_row7_col0\" class=\"data row7 col0\" >Cosmetic Dentists</td>\n",
       "      <td id=\"T_7db65_row7_col1\" class=\"data row7 col1\" >3.75</td>\n",
       "      <td id=\"T_7db65_row7_col2\" class=\"data row7 col2\" >3.08</td>\n",
       "    </tr>\n",
       "    <tr>\n",
       "      <th id=\"T_7db65_level0_row8\" class=\"row_heading level0 row8\" >8</th>\n",
       "      <td id=\"T_7db65_row8_col0\" class=\"data row8 col0\" >Professional Services</td>\n",
       "      <td id=\"T_7db65_row8_col1\" class=\"data row8 col1\" >3.55</td>\n",
       "      <td id=\"T_7db65_row8_col2\" class=\"data row8 col2\" >3.19</td>\n",
       "    </tr>\n",
       "    <tr>\n",
       "      <th id=\"T_7db65_level0_row9\" class=\"row_heading level0 row9\" >9</th>\n",
       "      <td id=\"T_7db65_row9_col0\" class=\"data row9 col0\" >Arcades</td>\n",
       "      <td id=\"T_7db65_row9_col1\" class=\"data row9 col1\" >3.37</td>\n",
       "      <td id=\"T_7db65_row9_col2\" class=\"data row9 col2\" >3.52</td>\n",
       "    </tr>\n",
       "  </tbody>\n",
       "</table>\n"
      ],
      "text/plain": [
       "<pandas.io.formats.style.Styler at 0x229d999de50>"
      ]
     },
     "metadata": {},
     "output_type": "display_data"
    },
    {
     "name": "stdout",
     "output_type": "stream",
     "text": [
      "<class 'pandas.core.frame.DataFrame'>\n",
      "RangeIndex: 1311 entries, 0 to 1310\n",
      "Data columns (total 3 columns):\n",
      " #   Column             Non-Null Count  Dtype \n",
      "---  ------             --------------  ----- \n",
      " 0   CATEGORY           1311 non-null   object\n",
      " 1   AVG_OPEN_RATING    1302 non-null   object\n",
      " 2   AVG_CLOSED_RATING  1048 non-null   object\n",
      "dtypes: object(3)\n",
      "memory usage: 30.9+ KB\n",
      "None\n",
      "Categories with avg_open_RATING greater than avg_closed_rating: 715\n",
      "Categories with avg_open_rating less than or equal to avg_closed_rating: 324\n",
      "\n",
      "      Out of the 1311 categories with at least one review for both closed and open businesses, there are 715 categories where the average\n",
      "      star rating for open businesses is greater than closed businesses, and 324 categories where the average star rating for open \n",
      "      businesses is less than or equal to closed businesses.\n",
      "      \n"
     ]
    }
   ],
   "source": [
    "# Average rating for closed vs currently operating businesses by category\n",
    "df = cur.execute('''\n",
    "                WITH status AS (\n",
    "                    -- split the categories column so each business has a row for each category it has\n",
    "                    SELECT \n",
    "                        business_id,\n",
    "                        TRIM(A.value) AS category,\n",
    "                        CASE\n",
    "                            WHEN is_open = 1 THEN 'open'\n",
    "                            ELSE 'closed'\n",
    "                        END AS business_status\n",
    "                    FROM yelp_businesses,\n",
    "                    LATERAL SPLIT_TO_TABLE(categories, ',') A\n",
    "                )\n",
    "                SELECT \n",
    "                    category,\n",
    "                    ROUND(AVG(CASE WHEN business_status = 'open' THEN yr.stars END), 2) as avg_open_rating,\n",
    "                    ROUND(AVG(CASE WHEN business_status = 'closed' THEN yr.stars END), 2) as avg_closed_rating\n",
    "                FROM status\n",
    "                JOIN yelp_reviews yr\n",
    "                    ON status.business_id = yr.business_id\n",
    "                GROUP BY category;\n",
    "                 ''').fetch_pandas_all()\n",
    "\n",
    "styles = [{\n",
    "    'selector': 'caption', 'props': 'text-align: left;'\n",
    "}]\n",
    "\n",
    "display(df.head(10).style.set_caption('<span style=\"font-size: 20px;\">Table 25: Average Star Rating by Category: Closed vs. Open Businesses</span>').set_table_styles(styles))\n",
    "\n",
    "print(df.info())\n",
    "\n",
    "open_higher = df[df['AVG_OPEN_RATING'] > df['AVG_CLOSED_RATING']].shape[0]\n",
    "closed_higher = df[df['AVG_OPEN_RATING'] <= df['AVG_CLOSED_RATING']].shape[0]\n",
    "\n",
    "print(f'Categories with avg_open_RATING greater than avg_closed_rating: {open_higher}\\nCategories with avg_open_rating less than or equal to avg_closed_rating: {closed_higher}')\n",
    "\n",
    "print(f'''\n",
    "      Out of the 1311 categories with at least one review for both closed and open businesses, there are {open_higher} categories where the average\n",
    "      star rating for open businesses is greater than closed businesses, and {closed_higher} categories where the average star rating for open \n",
    "      businesses is less than or equal to closed businesses.\n",
    "      ''')"
   ]
  },
  {
   "cell_type": "markdown",
   "id": "78f7fac6",
   "metadata": {},
   "source": [
    "### Businesses with Lowest Average Star Rating (Min 100 Reviews) "
   ]
  },
  {
   "cell_type": "code",
   "execution_count": 45,
   "id": "0786bec5",
   "metadata": {},
   "outputs": [
    {
     "data": {
      "text/html": [
       "<style type=\"text/css\">\n",
       "#T_4d8c0 caption {\n",
       "  text-align: left;\n",
       "}\n",
       "</style>\n",
       "<table id=\"T_4d8c0\">\n",
       "  <caption><span style=\"font-size: 20px;\">Table 26: Lowest Average Rating by Business (Min 100 Reviews)</span></caption>\n",
       "  <thead>\n",
       "    <tr>\n",
       "      <th class=\"blank level0\" >&nbsp;</th>\n",
       "      <th id=\"T_4d8c0_level0_col0\" class=\"col_heading level0 col0\" >NAME</th>\n",
       "      <th id=\"T_4d8c0_level0_col1\" class=\"col_heading level0 col1\" >CITY</th>\n",
       "      <th id=\"T_4d8c0_level0_col2\" class=\"col_heading level0 col2\" >STATE</th>\n",
       "      <th id=\"T_4d8c0_level0_col3\" class=\"col_heading level0 col3\" >REVIEW_COUNT</th>\n",
       "      <th id=\"T_4d8c0_level0_col4\" class=\"col_heading level0 col4\" >AVG_RATING</th>\n",
       "    </tr>\n",
       "  </thead>\n",
       "  <tbody>\n",
       "    <tr>\n",
       "      <th id=\"T_4d8c0_level0_row0\" class=\"row_heading level0 row0\" >0</th>\n",
       "      <td id=\"T_4d8c0_row0_col0\" class=\"data row0 col0\" >First Advantage Corporation</td>\n",
       "      <td id=\"T_4d8c0_row0_col1\" class=\"data row0 col1\" >Saint Petersburg</td>\n",
       "      <td id=\"T_4d8c0_row0_col2\" class=\"data row0 col2\" >FL</td>\n",
       "      <td id=\"T_4d8c0_row0_col3\" class=\"data row0 col3\" >103</td>\n",
       "      <td id=\"T_4d8c0_row0_col4\" class=\"data row0 col4\" >1.00</td>\n",
       "    </tr>\n",
       "    <tr>\n",
       "      <th id=\"T_4d8c0_level0_row1\" class=\"row_heading level0 row1\" >1</th>\n",
       "      <td id=\"T_4d8c0_row1_col0\" class=\"data row1 col0\" >717 Parking Enterprises</td>\n",
       "      <td id=\"T_4d8c0_row1_col1\" class=\"data row1 col1\" >Tampa</td>\n",
       "      <td id=\"T_4d8c0_row1_col2\" class=\"data row1 col2\" >FL</td>\n",
       "      <td id=\"T_4d8c0_row1_col3\" class=\"data row1 col3\" >106</td>\n",
       "      <td id=\"T_4d8c0_row1_col4\" class=\"data row1 col4\" >1.04</td>\n",
       "    </tr>\n",
       "    <tr>\n",
       "      <th id=\"T_4d8c0_level0_row2\" class=\"row_heading level0 row2\" >2</th>\n",
       "      <td id=\"T_4d8c0_row2_col0\" class=\"data row2 col0\" >International Medical Group</td>\n",
       "      <td id=\"T_4d8c0_row2_col1\" class=\"data row2 col1\" >Indianapolis</td>\n",
       "      <td id=\"T_4d8c0_row2_col2\" class=\"data row2 col2\" >IN</td>\n",
       "      <td id=\"T_4d8c0_row2_col3\" class=\"data row2 col3\" >168</td>\n",
       "      <td id=\"T_4d8c0_row2_col4\" class=\"data row2 col4\" >1.04</td>\n",
       "    </tr>\n",
       "    <tr>\n",
       "      <th id=\"T_4d8c0_level0_row3\" class=\"row_heading level0 row3\" >3</th>\n",
       "      <td id=\"T_4d8c0_row3_col0\" class=\"data row3 col0\" >PHH Mortgage</td>\n",
       "      <td id=\"T_4d8c0_row3_col1\" class=\"data row3 col1\" >Mount Laurel</td>\n",
       "      <td id=\"T_4d8c0_row3_col2\" class=\"data row3 col2\" >NJ</td>\n",
       "      <td id=\"T_4d8c0_row3_col3\" class=\"data row3 col3\" >167</td>\n",
       "      <td id=\"T_4d8c0_row3_col4\" class=\"data row3 col4\" >1.04</td>\n",
       "    </tr>\n",
       "    <tr>\n",
       "      <th id=\"T_4d8c0_level0_row4\" class=\"row_heading level0 row4\" >4</th>\n",
       "      <td id=\"T_4d8c0_row4_col0\" class=\"data row4 col0\" >Sensible Home Warranty</td>\n",
       "      <td id=\"T_4d8c0_row4_col1\" class=\"data row4 col1\" >Sparks</td>\n",
       "      <td id=\"T_4d8c0_row4_col2\" class=\"data row4 col2\" >NV</td>\n",
       "      <td id=\"T_4d8c0_row4_col3\" class=\"data row4 col3\" >175</td>\n",
       "      <td id=\"T_4d8c0_row4_col4\" class=\"data row4 col4\" >1.05</td>\n",
       "    </tr>\n",
       "    <tr>\n",
       "      <th id=\"T_4d8c0_level0_row5\" class=\"row_heading level0 row5\" >5</th>\n",
       "      <td id=\"T_4d8c0_row5_col0\" class=\"data row5 col0\" >Express Scripts</td>\n",
       "      <td id=\"T_4d8c0_row5_col1\" class=\"data row5 col1\" >Maryland Heights</td>\n",
       "      <td id=\"T_4d8c0_row5_col2\" class=\"data row5 col2\" >MO</td>\n",
       "      <td id=\"T_4d8c0_row5_col3\" class=\"data row5 col3\" >318</td>\n",
       "      <td id=\"T_4d8c0_row5_col4\" class=\"data row5 col4\" >1.06</td>\n",
       "    </tr>\n",
       "    <tr>\n",
       "      <th id=\"T_4d8c0_level0_row6\" class=\"row_heading level0 row6\" >6</th>\n",
       "      <td id=\"T_4d8c0_row6_col0\" class=\"data row6 col0\" >Sears Home Services</td>\n",
       "      <td id=\"T_4d8c0_row6_col1\" class=\"data row6 col1\" >Fenton</td>\n",
       "      <td id=\"T_4d8c0_row6_col2\" class=\"data row6 col2\" >MO</td>\n",
       "      <td id=\"T_4d8c0_row6_col3\" class=\"data row6 col3\" >587</td>\n",
       "      <td id=\"T_4d8c0_row6_col4\" class=\"data row6 col4\" >1.08</td>\n",
       "    </tr>\n",
       "    <tr>\n",
       "      <th id=\"T_4d8c0_level0_row7\" class=\"row_heading level0 row7\" >7</th>\n",
       "      <td id=\"T_4d8c0_row7_col0\" class=\"data row7 col0\" >Defender Security Company</td>\n",
       "      <td id=\"T_4d8c0_row7_col1\" class=\"data row7 col1\" >Indianapolis</td>\n",
       "      <td id=\"T_4d8c0_row7_col2\" class=\"data row7 col2\" >IN</td>\n",
       "      <td id=\"T_4d8c0_row7_col3\" class=\"data row7 col3\" >428</td>\n",
       "      <td id=\"T_4d8c0_row7_col4\" class=\"data row7 col4\" >1.08</td>\n",
       "    </tr>\n",
       "    <tr>\n",
       "      <th id=\"T_4d8c0_level0_row8\" class=\"row_heading level0 row8\" >8</th>\n",
       "      <td id=\"T_4d8c0_row8_col0\" class=\"data row8 col0\" >Penrose Hotel</td>\n",
       "      <td id=\"T_4d8c0_row8_col1\" class=\"data row8 col1\" >Philadelphia</td>\n",
       "      <td id=\"T_4d8c0_row8_col2\" class=\"data row8 col2\" >PA</td>\n",
       "      <td id=\"T_4d8c0_row8_col3\" class=\"data row8 col3\" >152</td>\n",
       "      <td id=\"T_4d8c0_row8_col4\" class=\"data row8 col4\" >1.09</td>\n",
       "    </tr>\n",
       "    <tr>\n",
       "      <th id=\"T_4d8c0_level0_row9\" class=\"row_heading level0 row9\" >9</th>\n",
       "      <td id=\"T_4d8c0_row9_col0\" class=\"data row9 col0\" >EXPRESS SCRIPTS</td>\n",
       "      <td id=\"T_4d8c0_row9_col1\" class=\"data row9 col1\" >St. Louis</td>\n",
       "      <td id=\"T_4d8c0_row9_col2\" class=\"data row9 col2\" >MO</td>\n",
       "      <td id=\"T_4d8c0_row9_col3\" class=\"data row9 col3\" >224</td>\n",
       "      <td id=\"T_4d8c0_row9_col4\" class=\"data row9 col4\" >1.09</td>\n",
       "    </tr>\n",
       "    <tr>\n",
       "      <th id=\"T_4d8c0_level0_row10\" class=\"row_heading level0 row10\" >10</th>\n",
       "      <td id=\"T_4d8c0_row10_col0\" class=\"data row10 col0\" >Cenlar</td>\n",
       "      <td id=\"T_4d8c0_row10_col1\" class=\"data row10 col1\" >Ewing</td>\n",
       "      <td id=\"T_4d8c0_row10_col2\" class=\"data row10 col2\" >NJ</td>\n",
       "      <td id=\"T_4d8c0_row10_col3\" class=\"data row10 col3\" >458</td>\n",
       "      <td id=\"T_4d8c0_row10_col4\" class=\"data row10 col4\" >1.12</td>\n",
       "    </tr>\n",
       "    <tr>\n",
       "      <th id=\"T_4d8c0_level0_row11\" class=\"row_heading level0 row11\" >11</th>\n",
       "      <td id=\"T_4d8c0_row11_col0\" class=\"data row11 col0\" >CCS Medical</td>\n",
       "      <td id=\"T_4d8c0_row11_col1\" class=\"data row11 col1\" >Clearwater</td>\n",
       "      <td id=\"T_4d8c0_row11_col2\" class=\"data row11 col2\" >FL</td>\n",
       "      <td id=\"T_4d8c0_row11_col3\" class=\"data row11 col3\" >126</td>\n",
       "      <td id=\"T_4d8c0_row11_col4\" class=\"data row11 col4\" >1.12</td>\n",
       "    </tr>\n",
       "    <tr>\n",
       "      <th id=\"T_4d8c0_level0_row12\" class=\"row_heading level0 row12\" >12</th>\n",
       "      <td id=\"T_4d8c0_row12_col0\" class=\"data row12 col0\" >Woman Within</td>\n",
       "      <td id=\"T_4d8c0_row12_col1\" class=\"data row12 col1\" >Indianapolis</td>\n",
       "      <td id=\"T_4d8c0_row12_col2\" class=\"data row12 col2\" >IN</td>\n",
       "      <td id=\"T_4d8c0_row12_col3\" class=\"data row12 col3\" >125</td>\n",
       "      <td id=\"T_4d8c0_row12_col4\" class=\"data row12 col4\" >1.12</td>\n",
       "    </tr>\n",
       "    <tr>\n",
       "      <th id=\"T_4d8c0_level0_row13\" class=\"row_heading level0 row13\" >13</th>\n",
       "      <td id=\"T_4d8c0_row13_col0\" class=\"data row13 col0\" >TN Juice Bar</td>\n",
       "      <td id=\"T_4d8c0_row13_col1\" class=\"data row13 col1\" >Hendersonville</td>\n",
       "      <td id=\"T_4d8c0_row13_col2\" class=\"data row13 col2\" >TN</td>\n",
       "      <td id=\"T_4d8c0_row13_col3\" class=\"data row13 col3\" >106</td>\n",
       "      <td id=\"T_4d8c0_row13_col4\" class=\"data row13 col4\" >1.12</td>\n",
       "    </tr>\n",
       "    <tr>\n",
       "      <th id=\"T_4d8c0_level0_row14\" class=\"row_heading level0 row14\" >14</th>\n",
       "      <td id=\"T_4d8c0_row14_col0\" class=\"data row14 col0\" >Independence Blue Cross</td>\n",
       "      <td id=\"T_4d8c0_row14_col1\" class=\"data row14 col1\" >Philadelphia</td>\n",
       "      <td id=\"T_4d8c0_row14_col2\" class=\"data row14 col2\" >PA</td>\n",
       "      <td id=\"T_4d8c0_row14_col3\" class=\"data row14 col3\" >125</td>\n",
       "      <td id=\"T_4d8c0_row14_col4\" class=\"data row14 col4\" >1.13</td>\n",
       "    </tr>\n",
       "    <tr>\n",
       "      <th id=\"T_4d8c0_level0_row15\" class=\"row_heading level0 row15\" >15</th>\n",
       "      <td id=\"T_4d8c0_row15_col0\" class=\"data row15 col0\" >Frontier Communications</td>\n",
       "      <td id=\"T_4d8c0_row15_col1\" class=\"data row15 col1\" >Tampa</td>\n",
       "      <td id=\"T_4d8c0_row15_col2\" class=\"data row15 col2\" >FL</td>\n",
       "      <td id=\"T_4d8c0_row15_col3\" class=\"data row15 col3\" >445</td>\n",
       "      <td id=\"T_4d8c0_row15_col4\" class=\"data row15 col4\" >1.15</td>\n",
       "    </tr>\n",
       "    <tr>\n",
       "      <th id=\"T_4d8c0_level0_row16\" class=\"row_heading level0 row16\" >16</th>\n",
       "      <td id=\"T_4d8c0_row16_col0\" class=\"data row16 col0\" >OnTrac</td>\n",
       "      <td id=\"T_4d8c0_row16_col1\" class=\"data row16 col1\" >Sparks</td>\n",
       "      <td id=\"T_4d8c0_row16_col2\" class=\"data row16 col2\" >NV</td>\n",
       "      <td id=\"T_4d8c0_row16_col3\" class=\"data row16 col3\" >201</td>\n",
       "      <td id=\"T_4d8c0_row16_col4\" class=\"data row16 col4\" >1.15</td>\n",
       "    </tr>\n",
       "    <tr>\n",
       "      <th id=\"T_4d8c0_level0_row17\" class=\"row_heading level0 row17\" >17</th>\n",
       "      <td id=\"T_4d8c0_row17_col0\" class=\"data row17 col0\" >CenturyLink - Boise</td>\n",
       "      <td id=\"T_4d8c0_row17_col1\" class=\"data row17 col1\" >Boise</td>\n",
       "      <td id=\"T_4d8c0_row17_col2\" class=\"data row17 col2\" >ID</td>\n",
       "      <td id=\"T_4d8c0_row17_col3\" class=\"data row17 col3\" >209</td>\n",
       "      <td id=\"T_4d8c0_row17_col4\" class=\"data row17 col4\" >1.16</td>\n",
       "    </tr>\n",
       "    <tr>\n",
       "      <th id=\"T_4d8c0_level0_row18\" class=\"row_heading level0 row18\" >18</th>\n",
       "      <td id=\"T_4d8c0_row18_col0\" class=\"data row18 col0\" >Flagship Credit Acceptance</td>\n",
       "      <td id=\"T_4d8c0_row18_col1\" class=\"data row18 col1\" >Chadds Ford</td>\n",
       "      <td id=\"T_4d8c0_row18_col2\" class=\"data row18 col2\" >PA</td>\n",
       "      <td id=\"T_4d8c0_row18_col3\" class=\"data row18 col3\" >155</td>\n",
       "      <td id=\"T_4d8c0_row18_col4\" class=\"data row18 col4\" >1.17</td>\n",
       "    </tr>\n",
       "    <tr>\n",
       "      <th id=\"T_4d8c0_level0_row19\" class=\"row_heading level0 row19\" >19</th>\n",
       "      <td id=\"T_4d8c0_row19_col0\" class=\"data row19 col0\" >Executive Car Rental</td>\n",
       "      <td id=\"T_4d8c0_row19_col1\" class=\"data row19 col1\" >Tampa</td>\n",
       "      <td id=\"T_4d8c0_row19_col2\" class=\"data row19 col2\" >FL</td>\n",
       "      <td id=\"T_4d8c0_row19_col3\" class=\"data row19 col3\" >196</td>\n",
       "      <td id=\"T_4d8c0_row19_col4\" class=\"data row19 col4\" >1.18</td>\n",
       "    </tr>\n",
       "  </tbody>\n",
       "</table>\n"
      ],
      "text/plain": [
       "<pandas.io.formats.style.Styler at 0x229d999de50>"
      ]
     },
     "metadata": {},
     "output_type": "display_data"
    }
   ],
   "source": [
    "# Businesses with lowest average stars (min 100 reviews)\n",
    "df = cur.execute('''\n",
    "                SELECT \n",
    "                    name,\n",
    "                    city,\n",
    "                    state,\n",
    "                    COUNT(yr.review_id) AS review_count,\n",
    "                    ROUND(AVG(yr.stars), 2) AS avg_rating \n",
    "                FROM yelp_businesses yb\n",
    "                JOIN yelp_reviews yr\n",
    "                    ON yb.business_id = yr.business_id\n",
    "                GROUP BY name, city, state\n",
    "                HAVING COUNT(yr.review_id) >= 100\n",
    "                ORDER BY AVG(yr.stars), COUNT(yr.review_id) DESC\n",
    "                LIMIT 20;\n",
    "                 ''').fetch_pandas_all()\n",
    "\n",
    "styles = [{\n",
    "    'selector': 'caption', 'props': 'text-align: left;'\n",
    "}]\n",
    "\n",
    "display(df.style.set_caption('<span style=\"font-size: 20px;\">Table 26: Lowest Average Rating by Business (Min 100 Reviews)</span>').set_table_styles(styles))"
   ]
  },
  {
   "cell_type": "markdown",
   "id": "b760eba1",
   "metadata": {},
   "source": [
    "## Business-Specific Deep Dive"
   ]
  },
  {
   "cell_type": "markdown",
   "id": "9d6b3299",
   "metadata": {},
   "source": [
    "### Weekly Review Count & Week-over-Week Change"
   ]
  },
  {
   "cell_type": "code",
   "execution_count": 47,
   "id": "29f3ac08",
   "metadata": {},
   "outputs": [
    {
     "data": {
      "text/html": [
       "<style type=\"text/css\">\n",
       "#T_7717a caption {\n",
       "  text-align: left;\n",
       "}\n",
       "</style>\n",
       "<table id=\"T_7717a\">\n",
       "  <caption><span style=\"font-size: 20px;\">Table 27: Weekly Review Count & Week-over-Week Change</span></caption>\n",
       "  <thead>\n",
       "    <tr>\n",
       "      <th class=\"blank level0\" >&nbsp;</th>\n",
       "      <th id=\"T_7717a_level0_col0\" class=\"col_heading level0 col0\" >WEEK</th>\n",
       "      <th id=\"T_7717a_level0_col1\" class=\"col_heading level0 col1\" >REVIEWS_THIS_WEEK</th>\n",
       "      <th id=\"T_7717a_level0_col2\" class=\"col_heading level0 col2\" >REVIEW_VOL_CHANGE</th>\n",
       "    </tr>\n",
       "  </thead>\n",
       "  <tbody>\n",
       "    <tr>\n",
       "      <th id=\"T_7717a_level0_row0\" class=\"row_heading level0 row0\" >0</th>\n",
       "      <td id=\"T_7717a_row0_col0\" class=\"data row0 col0\" >2005-11-21</td>\n",
       "      <td id=\"T_7717a_row0_col1\" class=\"data row0 col1\" >1</td>\n",
       "      <td id=\"T_7717a_row0_col2\" class=\"data row0 col2\" >None</td>\n",
       "    </tr>\n",
       "    <tr>\n",
       "      <th id=\"T_7717a_level0_row1\" class=\"row_heading level0 row1\" >1</th>\n",
       "      <td id=\"T_7717a_row1_col0\" class=\"data row1 col0\" >2006-06-05</td>\n",
       "      <td id=\"T_7717a_row1_col1\" class=\"data row1 col1\" >1</td>\n",
       "      <td id=\"T_7717a_row1_col2\" class=\"data row1 col2\" >0</td>\n",
       "    </tr>\n",
       "    <tr>\n",
       "      <th id=\"T_7717a_level0_row2\" class=\"row_heading level0 row2\" >2</th>\n",
       "      <td id=\"T_7717a_row2_col0\" class=\"data row2 col0\" >2006-10-23</td>\n",
       "      <td id=\"T_7717a_row2_col1\" class=\"data row2 col1\" >1</td>\n",
       "      <td id=\"T_7717a_row2_col2\" class=\"data row2 col2\" >0</td>\n",
       "    </tr>\n",
       "    <tr>\n",
       "      <th id=\"T_7717a_level0_row3\" class=\"row_heading level0 row3\" >3</th>\n",
       "      <td id=\"T_7717a_row3_col0\" class=\"data row3 col0\" >2006-11-13</td>\n",
       "      <td id=\"T_7717a_row3_col1\" class=\"data row3 col1\" >1</td>\n",
       "      <td id=\"T_7717a_row3_col2\" class=\"data row3 col2\" >0</td>\n",
       "    </tr>\n",
       "    <tr>\n",
       "      <th id=\"T_7717a_level0_row4\" class=\"row_heading level0 row4\" >4</th>\n",
       "      <td id=\"T_7717a_row4_col0\" class=\"data row4 col0\" >2006-12-04</td>\n",
       "      <td id=\"T_7717a_row4_col1\" class=\"data row4 col1\" >2</td>\n",
       "      <td id=\"T_7717a_row4_col2\" class=\"data row4 col2\" >1</td>\n",
       "    </tr>\n",
       "    <tr>\n",
       "      <th id=\"T_7717a_level0_row5\" class=\"row_heading level0 row5\" >729</th>\n",
       "      <td id=\"T_7717a_row5_col0\" class=\"data row5 col0\" >2021-12-20</td>\n",
       "      <td id=\"T_7717a_row5_col1\" class=\"data row5 col1\" >4</td>\n",
       "      <td id=\"T_7717a_row5_col2\" class=\"data row5 col2\" >1</td>\n",
       "    </tr>\n",
       "    <tr>\n",
       "      <th id=\"T_7717a_level0_row6\" class=\"row_heading level0 row6\" >730</th>\n",
       "      <td id=\"T_7717a_row6_col0\" class=\"data row6 col0\" >2021-12-27</td>\n",
       "      <td id=\"T_7717a_row6_col1\" class=\"data row6 col1\" >7</td>\n",
       "      <td id=\"T_7717a_row6_col2\" class=\"data row6 col2\" >3</td>\n",
       "    </tr>\n",
       "    <tr>\n",
       "      <th id=\"T_7717a_level0_row7\" class=\"row_heading level0 row7\" >731</th>\n",
       "      <td id=\"T_7717a_row7_col0\" class=\"data row7 col0\" >2022-01-03</td>\n",
       "      <td id=\"T_7717a_row7_col1\" class=\"data row7 col1\" >10</td>\n",
       "      <td id=\"T_7717a_row7_col2\" class=\"data row7 col2\" >3</td>\n",
       "    </tr>\n",
       "    <tr>\n",
       "      <th id=\"T_7717a_level0_row8\" class=\"row_heading level0 row8\" >732</th>\n",
       "      <td id=\"T_7717a_row8_col0\" class=\"data row8 col0\" >2022-01-10</td>\n",
       "      <td id=\"T_7717a_row8_col1\" class=\"data row8 col1\" >11</td>\n",
       "      <td id=\"T_7717a_row8_col2\" class=\"data row8 col2\" >1</td>\n",
       "    </tr>\n",
       "    <tr>\n",
       "      <th id=\"T_7717a_level0_row9\" class=\"row_heading level0 row9\" >733</th>\n",
       "      <td id=\"T_7717a_row9_col0\" class=\"data row9 col0\" >2022-01-17</td>\n",
       "      <td id=\"T_7717a_row9_col1\" class=\"data row9 col1\" >5</td>\n",
       "      <td id=\"T_7717a_row9_col2\" class=\"data row9 col2\" >-6</td>\n",
       "    </tr>\n",
       "  </tbody>\n",
       "</table>\n"
      ],
      "text/plain": [
       "<pandas.io.formats.style.Styler at 0x229d999de50>"
      ]
     },
     "metadata": {},
     "output_type": "display_data"
    }
   ],
   "source": [
    "# Weekly review count and week-to-week change for Reading Terminal Market in Philadelphia, PA\n",
    "df = cur.execute('''\n",
    "                WITH weekly_reviews AS (\n",
    "                    SELECT \n",
    "                        DATE_TRUNC('week', review_date) AS wk,\n",
    "                        COUNT(*) AS reviews_this_week\n",
    "                    FROM yelp_reviews\n",
    "                    WHERE business_id = 'ytynqOUb3hjKeJfRj5Tshw'\n",
    "                    GROUP BY 1\n",
    "                )\n",
    "                SELECT \n",
    "                    wk AS week,\n",
    "                    reviews_this_week,\n",
    "                    reviews_this_week - LAG(reviews_this_week) OVER(ORDER BY wk) AS review_vol_change\n",
    "                FROM weekly_reviews\n",
    "                ORDER BY wk;\n",
    "                 ''').fetch_pandas_all()\n",
    "\n",
    "df_preview = pd.concat([df.head(), df.tail()])\n",
    "styles = [{\n",
    "    'selector': 'caption', 'props': 'text-align: left;'\n",
    "}]\n",
    "\n",
    "display(df_preview.style.set_caption('<span style=\"font-size: 20px;\">Table 27: Weekly Review Count & Week-over-Week Change</span>').set_table_styles(styles))"
   ]
  },
  {
   "cell_type": "markdown",
   "id": "4941380b",
   "metadata": {},
   "source": [
    "### Rolling Star Rating Average (Last 10 Reviews)"
   ]
  },
  {
   "cell_type": "code",
   "execution_count": 48,
   "id": "89f2f26e",
   "metadata": {},
   "outputs": [
    {
     "data": {
      "text/html": [
       "<style type=\"text/css\">\n",
       "#T_cf3fb caption {\n",
       "  text-align: left;\n",
       "}\n",
       "</style>\n",
       "<table id=\"T_cf3fb\">\n",
       "  <caption><span style=\"font-size: 20px;\">Table 28: Rolling Star Rating Average (Last 10 Reviews)</span></caption>\n",
       "  <thead>\n",
       "    <tr>\n",
       "      <th class=\"blank level0\" >&nbsp;</th>\n",
       "      <th id=\"T_cf3fb_level0_col0\" class=\"col_heading level0 col0\" >REVIEW_DATE</th>\n",
       "      <th id=\"T_cf3fb_level0_col1\" class=\"col_heading level0 col1\" >STARS</th>\n",
       "      <th id=\"T_cf3fb_level0_col2\" class=\"col_heading level0 col2\" >LAST_10_REVIEWS_AVG</th>\n",
       "    </tr>\n",
       "  </thead>\n",
       "  <tbody>\n",
       "    <tr>\n",
       "      <th id=\"T_cf3fb_level0_row0\" class=\"row_heading level0 row0\" >0</th>\n",
       "      <td id=\"T_cf3fb_row0_col0\" class=\"data row0 col0\" >2005-11-27</td>\n",
       "      <td id=\"T_cf3fb_row0_col1\" class=\"data row0 col1\" >5</td>\n",
       "      <td id=\"T_cf3fb_row0_col2\" class=\"data row0 col2\" >5.00</td>\n",
       "    </tr>\n",
       "    <tr>\n",
       "      <th id=\"T_cf3fb_level0_row1\" class=\"row_heading level0 row1\" >1</th>\n",
       "      <td id=\"T_cf3fb_row1_col0\" class=\"data row1 col0\" >2006-06-05</td>\n",
       "      <td id=\"T_cf3fb_row1_col1\" class=\"data row1 col1\" >5</td>\n",
       "      <td id=\"T_cf3fb_row1_col2\" class=\"data row1 col2\" >5.00</td>\n",
       "    </tr>\n",
       "    <tr>\n",
       "      <th id=\"T_cf3fb_level0_row2\" class=\"row_heading level0 row2\" >2</th>\n",
       "      <td id=\"T_cf3fb_row2_col0\" class=\"data row2 col0\" >2006-10-24</td>\n",
       "      <td id=\"T_cf3fb_row2_col1\" class=\"data row2 col1\" >5</td>\n",
       "      <td id=\"T_cf3fb_row2_col2\" class=\"data row2 col2\" >5.00</td>\n",
       "    </tr>\n",
       "    <tr>\n",
       "      <th id=\"T_cf3fb_level0_row3\" class=\"row_heading level0 row3\" >3</th>\n",
       "      <td id=\"T_cf3fb_row3_col0\" class=\"data row3 col0\" >2006-11-13</td>\n",
       "      <td id=\"T_cf3fb_row3_col1\" class=\"data row3 col1\" >5</td>\n",
       "      <td id=\"T_cf3fb_row3_col2\" class=\"data row3 col2\" >5.00</td>\n",
       "    </tr>\n",
       "    <tr>\n",
       "      <th id=\"T_cf3fb_level0_row4\" class=\"row_heading level0 row4\" >4</th>\n",
       "      <td id=\"T_cf3fb_row4_col0\" class=\"data row4 col0\" >2006-12-04</td>\n",
       "      <td id=\"T_cf3fb_row4_col1\" class=\"data row4 col1\" >5</td>\n",
       "      <td id=\"T_cf3fb_row4_col2\" class=\"data row4 col2\" >5.00</td>\n",
       "    </tr>\n",
       "    <tr>\n",
       "      <th id=\"T_cf3fb_level0_row5\" class=\"row_heading level0 row5\" >5773</th>\n",
       "      <td id=\"T_cf3fb_row5_col0\" class=\"data row5 col0\" >2022-01-17</td>\n",
       "      <td id=\"T_cf3fb_row5_col1\" class=\"data row5 col1\" >5</td>\n",
       "      <td id=\"T_cf3fb_row5_col2\" class=\"data row5 col2\" >4.90</td>\n",
       "    </tr>\n",
       "    <tr>\n",
       "      <th id=\"T_cf3fb_level0_row6\" class=\"row_heading level0 row6\" >5774</th>\n",
       "      <td id=\"T_cf3fb_row6_col0\" class=\"data row6 col0\" >2022-01-18</td>\n",
       "      <td id=\"T_cf3fb_row6_col1\" class=\"data row6 col1\" >5</td>\n",
       "      <td id=\"T_cf3fb_row6_col2\" class=\"data row6 col2\" >4.90</td>\n",
       "    </tr>\n",
       "    <tr>\n",
       "      <th id=\"T_cf3fb_level0_row7\" class=\"row_heading level0 row7\" >5775</th>\n",
       "      <td id=\"T_cf3fb_row7_col0\" class=\"data row7 col0\" >2022-01-19</td>\n",
       "      <td id=\"T_cf3fb_row7_col1\" class=\"data row7 col1\" >4</td>\n",
       "      <td id=\"T_cf3fb_row7_col2\" class=\"data row7 col2\" >4.80</td>\n",
       "    </tr>\n",
       "    <tr>\n",
       "      <th id=\"T_cf3fb_level0_row8\" class=\"row_heading level0 row8\" >5776</th>\n",
       "      <td id=\"T_cf3fb_row8_col0\" class=\"data row8 col0\" >2022-01-19</td>\n",
       "      <td id=\"T_cf3fb_row8_col1\" class=\"data row8 col1\" >5</td>\n",
       "      <td id=\"T_cf3fb_row8_col2\" class=\"data row8 col2\" >4.90</td>\n",
       "    </tr>\n",
       "    <tr>\n",
       "      <th id=\"T_cf3fb_level0_row9\" class=\"row_heading level0 row9\" >5777</th>\n",
       "      <td id=\"T_cf3fb_row9_col0\" class=\"data row9 col0\" >2022-01-19</td>\n",
       "      <td id=\"T_cf3fb_row9_col1\" class=\"data row9 col1\" >5</td>\n",
       "      <td id=\"T_cf3fb_row9_col2\" class=\"data row9 col2\" >4.90</td>\n",
       "    </tr>\n",
       "  </tbody>\n",
       "</table>\n"
      ],
      "text/plain": [
       "<pandas.io.formats.style.Styler at 0x229d999de50>"
      ]
     },
     "metadata": {},
     "output_type": "display_data"
    }
   ],
   "source": [
    "# Rolling average star rating over last 10 reviews\n",
    "df = cur.execute('''\n",
    "                SELECT \n",
    "                    review_date,\n",
    "                    stars,\n",
    "                    ROUND(AVG(stars)\n",
    "                        OVER(ORDER BY review_date\n",
    "                        ROWS BETWEEN 9 PRECEDING AND CURRENT ROW), 2) AS last_10_reviews_avg\n",
    "                FROM yelp_reviews\n",
    "                WHERE business_id = 'ytynqOUb3hjKeJfRj5Tshw'\n",
    "                ORDER BY review_date;\n",
    "                 ''').fetch_pandas_all()\n",
    "\n",
    "df_preview = pd.concat([df.head(), df.tail()])\n",
    "styles = [{\n",
    "    'selector': 'caption', 'props': 'text-align: left;'\n",
    "}]\n",
    "\n",
    "display(df_preview.style.set_caption('<span style=\"font-size: 20px;\">Table 28: Rolling Star Rating Average (Last 10 Reviews)</span>').set_table_styles(styles))"
   ]
  },
  {
   "cell_type": "markdown",
   "id": "2ec8dd2f",
   "metadata": {},
   "source": [
    "### Cumulative Average & Review Sequence"
   ]
  },
  {
   "cell_type": "code",
   "execution_count": 49,
   "id": "77bda5bf",
   "metadata": {},
   "outputs": [
    {
     "data": {
      "text/html": [
       "<style type=\"text/css\">\n",
       "#T_a689d caption {\n",
       "  text-align: left;\n",
       "}\n",
       "</style>\n",
       "<table id=\"T_a689d\">\n",
       "  <caption><span style=\"font-size: 20px;\">Table 29: Cumulative Average & Review Count</span></caption>\n",
       "  <thead>\n",
       "    <tr>\n",
       "      <th class=\"blank level0\" >&nbsp;</th>\n",
       "      <th id=\"T_a689d_level0_col0\" class=\"col_heading level0 col0\" >REVIEW_DATE</th>\n",
       "      <th id=\"T_a689d_level0_col1\" class=\"col_heading level0 col1\" >STARS</th>\n",
       "      <th id=\"T_a689d_level0_col2\" class=\"col_heading level0 col2\" >CUMULATIVE_AVG_RATING</th>\n",
       "      <th id=\"T_a689d_level0_col3\" class=\"col_heading level0 col3\" >CUMULATIVE_REVIEW_COUNT</th>\n",
       "    </tr>\n",
       "  </thead>\n",
       "  <tbody>\n",
       "    <tr>\n",
       "      <th id=\"T_a689d_level0_row0\" class=\"row_heading level0 row0\" >0</th>\n",
       "      <td id=\"T_a689d_row0_col0\" class=\"data row0 col0\" >2005-11-27</td>\n",
       "      <td id=\"T_a689d_row0_col1\" class=\"data row0 col1\" >5</td>\n",
       "      <td id=\"T_a689d_row0_col2\" class=\"data row0 col2\" >5.000</td>\n",
       "      <td id=\"T_a689d_row0_col3\" class=\"data row0 col3\" >1</td>\n",
       "    </tr>\n",
       "    <tr>\n",
       "      <th id=\"T_a689d_level0_row1\" class=\"row_heading level0 row1\" >1</th>\n",
       "      <td id=\"T_a689d_row1_col0\" class=\"data row1 col0\" >2006-06-05</td>\n",
       "      <td id=\"T_a689d_row1_col1\" class=\"data row1 col1\" >5</td>\n",
       "      <td id=\"T_a689d_row1_col2\" class=\"data row1 col2\" >5.000</td>\n",
       "      <td id=\"T_a689d_row1_col3\" class=\"data row1 col3\" >2</td>\n",
       "    </tr>\n",
       "    <tr>\n",
       "      <th id=\"T_a689d_level0_row2\" class=\"row_heading level0 row2\" >2</th>\n",
       "      <td id=\"T_a689d_row2_col0\" class=\"data row2 col0\" >2006-10-24</td>\n",
       "      <td id=\"T_a689d_row2_col1\" class=\"data row2 col1\" >5</td>\n",
       "      <td id=\"T_a689d_row2_col2\" class=\"data row2 col2\" >5.000</td>\n",
       "      <td id=\"T_a689d_row2_col3\" class=\"data row2 col3\" >3</td>\n",
       "    </tr>\n",
       "    <tr>\n",
       "      <th id=\"T_a689d_level0_row3\" class=\"row_heading level0 row3\" >3</th>\n",
       "      <td id=\"T_a689d_row3_col0\" class=\"data row3 col0\" >2006-11-13</td>\n",
       "      <td id=\"T_a689d_row3_col1\" class=\"data row3 col1\" >5</td>\n",
       "      <td id=\"T_a689d_row3_col2\" class=\"data row3 col2\" >5.000</td>\n",
       "      <td id=\"T_a689d_row3_col3\" class=\"data row3 col3\" >4</td>\n",
       "    </tr>\n",
       "    <tr>\n",
       "      <th id=\"T_a689d_level0_row4\" class=\"row_heading level0 row4\" >4</th>\n",
       "      <td id=\"T_a689d_row4_col0\" class=\"data row4 col0\" >2006-12-04</td>\n",
       "      <td id=\"T_a689d_row4_col1\" class=\"data row4 col1\" >5</td>\n",
       "      <td id=\"T_a689d_row4_col2\" class=\"data row4 col2\" >5.000</td>\n",
       "      <td id=\"T_a689d_row4_col3\" class=\"data row4 col3\" >6</td>\n",
       "    </tr>\n",
       "    <tr>\n",
       "      <th id=\"T_a689d_level0_row5\" class=\"row_heading level0 row5\" >5773</th>\n",
       "      <td id=\"T_a689d_row5_col0\" class=\"data row5 col0\" >2022-01-17</td>\n",
       "      <td id=\"T_a689d_row5_col1\" class=\"data row5 col1\" >5</td>\n",
       "      <td id=\"T_a689d_row5_col2\" class=\"data row5 col2\" >4.605</td>\n",
       "      <td id=\"T_a689d_row5_col3\" class=\"data row5 col3\" >5774</td>\n",
       "    </tr>\n",
       "    <tr>\n",
       "      <th id=\"T_a689d_level0_row6\" class=\"row_heading level0 row6\" >5774</th>\n",
       "      <td id=\"T_a689d_row6_col0\" class=\"data row6 col0\" >2022-01-18</td>\n",
       "      <td id=\"T_a689d_row6_col1\" class=\"data row6 col1\" >5</td>\n",
       "      <td id=\"T_a689d_row6_col2\" class=\"data row6 col2\" >4.605</td>\n",
       "      <td id=\"T_a689d_row6_col3\" class=\"data row6 col3\" >5775</td>\n",
       "    </tr>\n",
       "    <tr>\n",
       "      <th id=\"T_a689d_level0_row7\" class=\"row_heading level0 row7\" >5775</th>\n",
       "      <td id=\"T_a689d_row7_col0\" class=\"data row7 col0\" >2022-01-19</td>\n",
       "      <td id=\"T_a689d_row7_col1\" class=\"data row7 col1\" >5</td>\n",
       "      <td id=\"T_a689d_row7_col2\" class=\"data row7 col2\" >4.605</td>\n",
       "      <td id=\"T_a689d_row7_col3\" class=\"data row7 col3\" >5776</td>\n",
       "    </tr>\n",
       "    <tr>\n",
       "      <th id=\"T_a689d_level0_row8\" class=\"row_heading level0 row8\" >5776</th>\n",
       "      <td id=\"T_a689d_row8_col0\" class=\"data row8 col0\" >2022-01-19</td>\n",
       "      <td id=\"T_a689d_row8_col1\" class=\"data row8 col1\" >5</td>\n",
       "      <td id=\"T_a689d_row8_col2\" class=\"data row8 col2\" >4.605</td>\n",
       "      <td id=\"T_a689d_row8_col3\" class=\"data row8 col3\" >5777</td>\n",
       "    </tr>\n",
       "    <tr>\n",
       "      <th id=\"T_a689d_level0_row9\" class=\"row_heading level0 row9\" >5777</th>\n",
       "      <td id=\"T_a689d_row9_col0\" class=\"data row9 col0\" >2022-01-19</td>\n",
       "      <td id=\"T_a689d_row9_col1\" class=\"data row9 col1\" >4</td>\n",
       "      <td id=\"T_a689d_row9_col2\" class=\"data row9 col2\" >4.605</td>\n",
       "      <td id=\"T_a689d_row9_col3\" class=\"data row9 col3\" >5778</td>\n",
       "    </tr>\n",
       "  </tbody>\n",
       "</table>\n"
      ],
      "text/plain": [
       "<pandas.io.formats.style.Styler at 0x229d999de50>"
      ]
     },
     "metadata": {},
     "output_type": "display_data"
    }
   ],
   "source": [
    "# Cumulative average and review count\n",
    "df = cur.execute('''\n",
    "                SELECT \n",
    "                    review_date,\n",
    "                    stars,\n",
    "                    ROUND(AVG(stars)\n",
    "                        OVER(ORDER BY review_date\n",
    "                        ROWS UNBOUNDED PRECEDING), 3) AS cumulative_avg_rating,\n",
    "                    ROW_NUMBER() OVER(ORDER BY review_date) AS cumulative_review_count\n",
    "                FROM yelp_reviews\n",
    "                WHERE business_id = 'ytynqOUb3hjKeJfRj5Tshw'\n",
    "                ORDER BY review_date;\n",
    "                 ''').fetch_pandas_all()\n",
    "\n",
    "df_preview = pd.concat([df.head(), df.tail()])\n",
    "styles = [{\n",
    "    'selector': 'caption', 'props': 'text-align: left;'\n",
    "}]\n",
    "\n",
    "display(df_preview.style.set_caption('<span style=\"font-size: 20px;\">Table 29: Cumulative Average & Review Count</span>').set_table_styles(styles))"
   ]
  },
  {
   "cell_type": "markdown",
   "id": "cdc49a4c",
   "metadata": {},
   "source": [
    "### Monthly Star Rating Distribution by Year"
   ]
  },
  {
   "cell_type": "code",
   "execution_count": 50,
   "id": "c2c7a9d1",
   "metadata": {},
   "outputs": [
    {
     "data": {
      "text/html": [
       "<style type=\"text/css\">\n",
       "#T_a2b0e caption {\n",
       "  text-align: left;\n",
       "}\n",
       "</style>\n",
       "<table id=\"T_a2b0e\">\n",
       "  <caption><span style=\"font-size: 20px;\">Table 30: Monthly Star Rating Distribution by Year</span></caption>\n",
       "  <thead>\n",
       "    <tr>\n",
       "      <th class=\"blank level0\" >&nbsp;</th>\n",
       "      <th id=\"T_a2b0e_level0_col0\" class=\"col_heading level0 col0\" >MONTH</th>\n",
       "      <th id=\"T_a2b0e_level0_col1\" class=\"col_heading level0 col1\" >TOTAL_REVIEWS</th>\n",
       "      <th id=\"T_a2b0e_level0_col2\" class=\"col_heading level0 col2\" >PCT_FIVE_STAR</th>\n",
       "      <th id=\"T_a2b0e_level0_col3\" class=\"col_heading level0 col3\" >PCT_FOUR_STAR</th>\n",
       "      <th id=\"T_a2b0e_level0_col4\" class=\"col_heading level0 col4\" >PCT_THREE_STAR</th>\n",
       "      <th id=\"T_a2b0e_level0_col5\" class=\"col_heading level0 col5\" >PCT_TWO_STAR</th>\n",
       "      <th id=\"T_a2b0e_level0_col6\" class=\"col_heading level0 col6\" >PCT_ONE_STAR</th>\n",
       "    </tr>\n",
       "  </thead>\n",
       "  <tbody>\n",
       "    <tr>\n",
       "      <th id=\"T_a2b0e_level0_row0\" class=\"row_heading level0 row0\" >0</th>\n",
       "      <td id=\"T_a2b0e_row0_col0\" class=\"data row0 col0\" >2005-11-01</td>\n",
       "      <td id=\"T_a2b0e_row0_col1\" class=\"data row0 col1\" >1</td>\n",
       "      <td id=\"T_a2b0e_row0_col2\" class=\"data row0 col2\" >100.00</td>\n",
       "      <td id=\"T_a2b0e_row0_col3\" class=\"data row0 col3\" >0.00</td>\n",
       "      <td id=\"T_a2b0e_row0_col4\" class=\"data row0 col4\" >0.00</td>\n",
       "      <td id=\"T_a2b0e_row0_col5\" class=\"data row0 col5\" >0.00</td>\n",
       "      <td id=\"T_a2b0e_row0_col6\" class=\"data row0 col6\" >0.00</td>\n",
       "    </tr>\n",
       "    <tr>\n",
       "      <th id=\"T_a2b0e_level0_row1\" class=\"row_heading level0 row1\" >1</th>\n",
       "      <td id=\"T_a2b0e_row1_col0\" class=\"data row1 col0\" >2006-06-01</td>\n",
       "      <td id=\"T_a2b0e_row1_col1\" class=\"data row1 col1\" >1</td>\n",
       "      <td id=\"T_a2b0e_row1_col2\" class=\"data row1 col2\" >100.00</td>\n",
       "      <td id=\"T_a2b0e_row1_col3\" class=\"data row1 col3\" >0.00</td>\n",
       "      <td id=\"T_a2b0e_row1_col4\" class=\"data row1 col4\" >0.00</td>\n",
       "      <td id=\"T_a2b0e_row1_col5\" class=\"data row1 col5\" >0.00</td>\n",
       "      <td id=\"T_a2b0e_row1_col6\" class=\"data row1 col6\" >0.00</td>\n",
       "    </tr>\n",
       "    <tr>\n",
       "      <th id=\"T_a2b0e_level0_row2\" class=\"row_heading level0 row2\" >2</th>\n",
       "      <td id=\"T_a2b0e_row2_col0\" class=\"data row2 col0\" >2006-10-01</td>\n",
       "      <td id=\"T_a2b0e_row2_col1\" class=\"data row2 col1\" >1</td>\n",
       "      <td id=\"T_a2b0e_row2_col2\" class=\"data row2 col2\" >100.00</td>\n",
       "      <td id=\"T_a2b0e_row2_col3\" class=\"data row2 col3\" >0.00</td>\n",
       "      <td id=\"T_a2b0e_row2_col4\" class=\"data row2 col4\" >0.00</td>\n",
       "      <td id=\"T_a2b0e_row2_col5\" class=\"data row2 col5\" >0.00</td>\n",
       "      <td id=\"T_a2b0e_row2_col6\" class=\"data row2 col6\" >0.00</td>\n",
       "    </tr>\n",
       "    <tr>\n",
       "      <th id=\"T_a2b0e_level0_row3\" class=\"row_heading level0 row3\" >3</th>\n",
       "      <td id=\"T_a2b0e_row3_col0\" class=\"data row3 col0\" >2006-11-01</td>\n",
       "      <td id=\"T_a2b0e_row3_col1\" class=\"data row3 col1\" >1</td>\n",
       "      <td id=\"T_a2b0e_row3_col2\" class=\"data row3 col2\" >100.00</td>\n",
       "      <td id=\"T_a2b0e_row3_col3\" class=\"data row3 col3\" >0.00</td>\n",
       "      <td id=\"T_a2b0e_row3_col4\" class=\"data row3 col4\" >0.00</td>\n",
       "      <td id=\"T_a2b0e_row3_col5\" class=\"data row3 col5\" >0.00</td>\n",
       "      <td id=\"T_a2b0e_row3_col6\" class=\"data row3 col6\" >0.00</td>\n",
       "    </tr>\n",
       "    <tr>\n",
       "      <th id=\"T_a2b0e_level0_row4\" class=\"row_heading level0 row4\" >4</th>\n",
       "      <td id=\"T_a2b0e_row4_col0\" class=\"data row4 col0\" >2006-12-01</td>\n",
       "      <td id=\"T_a2b0e_row4_col1\" class=\"data row4 col1\" >5</td>\n",
       "      <td id=\"T_a2b0e_row4_col2\" class=\"data row4 col2\" >100.00</td>\n",
       "      <td id=\"T_a2b0e_row4_col3\" class=\"data row4 col3\" >0.00</td>\n",
       "      <td id=\"T_a2b0e_row4_col4\" class=\"data row4 col4\" >0.00</td>\n",
       "      <td id=\"T_a2b0e_row4_col5\" class=\"data row4 col5\" >0.00</td>\n",
       "      <td id=\"T_a2b0e_row4_col6\" class=\"data row4 col6\" >0.00</td>\n",
       "    </tr>\n",
       "    <tr>\n",
       "      <th id=\"T_a2b0e_level0_row5\" class=\"row_heading level0 row5\" >181</th>\n",
       "      <td id=\"T_a2b0e_row5_col0\" class=\"data row5 col0\" >2021-09-01</td>\n",
       "      <td id=\"T_a2b0e_row5_col1\" class=\"data row5 col1\" >19</td>\n",
       "      <td id=\"T_a2b0e_row5_col2\" class=\"data row5 col2\" >84.21</td>\n",
       "      <td id=\"T_a2b0e_row5_col3\" class=\"data row5 col3\" >15.79</td>\n",
       "      <td id=\"T_a2b0e_row5_col4\" class=\"data row5 col4\" >0.00</td>\n",
       "      <td id=\"T_a2b0e_row5_col5\" class=\"data row5 col5\" >0.00</td>\n",
       "      <td id=\"T_a2b0e_row5_col6\" class=\"data row5 col6\" >0.00</td>\n",
       "    </tr>\n",
       "    <tr>\n",
       "      <th id=\"T_a2b0e_level0_row6\" class=\"row_heading level0 row6\" >182</th>\n",
       "      <td id=\"T_a2b0e_row6_col0\" class=\"data row6 col0\" >2021-10-01</td>\n",
       "      <td id=\"T_a2b0e_row6_col1\" class=\"data row6 col1\" >35</td>\n",
       "      <td id=\"T_a2b0e_row6_col2\" class=\"data row6 col2\" >77.14</td>\n",
       "      <td id=\"T_a2b0e_row6_col3\" class=\"data row6 col3\" >17.14</td>\n",
       "      <td id=\"T_a2b0e_row6_col4\" class=\"data row6 col4\" >5.71</td>\n",
       "      <td id=\"T_a2b0e_row6_col5\" class=\"data row6 col5\" >0.00</td>\n",
       "      <td id=\"T_a2b0e_row6_col6\" class=\"data row6 col6\" >0.00</td>\n",
       "    </tr>\n",
       "    <tr>\n",
       "      <th id=\"T_a2b0e_level0_row7\" class=\"row_heading level0 row7\" >183</th>\n",
       "      <td id=\"T_a2b0e_row7_col0\" class=\"data row7 col0\" >2021-11-01</td>\n",
       "      <td id=\"T_a2b0e_row7_col1\" class=\"data row7 col1\" >20</td>\n",
       "      <td id=\"T_a2b0e_row7_col2\" class=\"data row7 col2\" >70.00</td>\n",
       "      <td id=\"T_a2b0e_row7_col3\" class=\"data row7 col3\" >10.00</td>\n",
       "      <td id=\"T_a2b0e_row7_col4\" class=\"data row7 col4\" >15.00</td>\n",
       "      <td id=\"T_a2b0e_row7_col5\" class=\"data row7 col5\" >5.00</td>\n",
       "      <td id=\"T_a2b0e_row7_col6\" class=\"data row7 col6\" >0.00</td>\n",
       "    </tr>\n",
       "    <tr>\n",
       "      <th id=\"T_a2b0e_level0_row8\" class=\"row_heading level0 row8\" >184</th>\n",
       "      <td id=\"T_a2b0e_row8_col0\" class=\"data row8 col0\" >2021-12-01</td>\n",
       "      <td id=\"T_a2b0e_row8_col1\" class=\"data row8 col1\" >22</td>\n",
       "      <td id=\"T_a2b0e_row8_col2\" class=\"data row8 col2\" >95.45</td>\n",
       "      <td id=\"T_a2b0e_row8_col3\" class=\"data row8 col3\" >0.00</td>\n",
       "      <td id=\"T_a2b0e_row8_col4\" class=\"data row8 col4\" >4.55</td>\n",
       "      <td id=\"T_a2b0e_row8_col5\" class=\"data row8 col5\" >0.00</td>\n",
       "      <td id=\"T_a2b0e_row8_col6\" class=\"data row8 col6\" >0.00</td>\n",
       "    </tr>\n",
       "    <tr>\n",
       "      <th id=\"T_a2b0e_level0_row9\" class=\"row_heading level0 row9\" >185</th>\n",
       "      <td id=\"T_a2b0e_row9_col0\" class=\"data row9 col0\" >2022-01-01</td>\n",
       "      <td id=\"T_a2b0e_row9_col1\" class=\"data row9 col1\" >30</td>\n",
       "      <td id=\"T_a2b0e_row9_col2\" class=\"data row9 col2\" >86.67</td>\n",
       "      <td id=\"T_a2b0e_row9_col3\" class=\"data row9 col3\" >13.33</td>\n",
       "      <td id=\"T_a2b0e_row9_col4\" class=\"data row9 col4\" >0.00</td>\n",
       "      <td id=\"T_a2b0e_row9_col5\" class=\"data row9 col5\" >0.00</td>\n",
       "      <td id=\"T_a2b0e_row9_col6\" class=\"data row9 col6\" >0.00</td>\n",
       "    </tr>\n",
       "  </tbody>\n",
       "</table>\n"
      ],
      "text/plain": [
       "<pandas.io.formats.style.Styler at 0x229d999de50>"
      ]
     },
     "metadata": {},
     "output_type": "display_data"
    }
   ],
   "source": [
    "# Star rating distribution by month\n",
    "df = cur.execute('''\n",
    "                WITH monthly_stars AS (\n",
    "                    SELECT \n",
    "                        DATE_TRUNC('month', review_date) AS mnth,\n",
    "                        SUM(CASE WHEN stars = 5 THEN 1 ELSE 0 END) AS five_star_count,\n",
    "                        SUM(CASE WHEN stars = 4 THEN 1 ELSE 0 END) AS four_star_count,\n",
    "                        SUM(CASE WHEN stars = 3 THEN 1 ELSE 0 END) AS three_star_count,\n",
    "                        SUM(CASE WHEN stars = 2 THEN 1 ELSE 0 END) AS two_star_count,\n",
    "                        SUM(CASE WHEN stars = 1 THEN 1 ELSE 0 END) AS one_star_count,\n",
    "                        COUNT(*) AS total_reviews\n",
    "                    FROM yelp_reviews\n",
    "                    WHERE business_id = 'ytynqOUb3hjKeJfRj5Tshw'\n",
    "                    GROUP BY 1\n",
    "                )\n",
    "                SELECT \n",
    "                    mnth as month,\n",
    "                    total_reviews,\n",
    "                    ROUND(five_star_count::NUMERIC / total_reviews * 100, 2) AS pct_five_star,\n",
    "                    ROUND(four_star_count::NUMERIC / total_reviews * 100, 2) AS pct_four_star,\n",
    "                    ROUND(three_star_count::NUMERIC / total_reviews * 100, 2) AS pct_three_star,\n",
    "                    ROUND(two_star_count::NUMERIC / total_reviews * 100, 2) AS pct_two_star,\n",
    "                    ROUND(one_star_count::NUMERIC / total_reviews * 100, 2) AS pct_one_star\n",
    "                FROM monthly_stars\n",
    "                ORDER BY mnth;\n",
    "                 ''').fetch_pandas_all()\n",
    "\n",
    "df_preview = pd.concat([df.head(), df.tail()])\n",
    "styles = [{\n",
    "    'selector': 'caption', 'props': 'text-align: left;'\n",
    "}]\n",
    "\n",
    "display(df_preview.style.set_caption('<span style=\"font-size: 20px;\">Table 30: Monthly Star Rating Distribution by Year</span>').set_table_styles(styles))"
   ]
  },
  {
   "cell_type": "markdown",
   "id": "e137a7f7",
   "metadata": {},
   "source": [
    "### Reviewer Bias: Business Rating vs. Reviewer's Overall Average Star Rating"
   ]
  },
  {
   "cell_type": "code",
   "execution_count": 51,
   "id": "83ee24b4",
   "metadata": {},
   "outputs": [
    {
     "data": {
      "text/html": [
       "<style type=\"text/css\">\n",
       "#T_495cc caption {\n",
       "  text-align: left;\n",
       "}\n",
       "</style>\n",
       "<table id=\"T_495cc\">\n",
       "  <caption><span style=\"font-size: 20px;\">Table 31: Reviewer Bias</span></caption>\n",
       "  <thead>\n",
       "    <tr>\n",
       "      <th class=\"blank level0\" >&nbsp;</th>\n",
       "      <th id=\"T_495cc_level0_col0\" class=\"col_heading level0 col0\" >USER_ID</th>\n",
       "      <th id=\"T_495cc_level0_col1\" class=\"col_heading level0 col1\" >BUSINESS_RATING</th>\n",
       "      <th id=\"T_495cc_level0_col2\" class=\"col_heading level0 col2\" >AVG_STARS</th>\n",
       "      <th id=\"T_495cc_level0_col3\" class=\"col_heading level0 col3\" >RATING_DIFF</th>\n",
       "    </tr>\n",
       "  </thead>\n",
       "  <tbody>\n",
       "    <tr>\n",
       "      <th id=\"T_495cc_level0_row0\" class=\"row_heading level0 row0\" >0</th>\n",
       "      <td id=\"T_495cc_row0_col0\" class=\"data row0 col0\" >qVc8ODYU5SZjKXVBgXdI7w</td>\n",
       "      <td id=\"T_495cc_row0_col1\" class=\"data row0 col1\" >5</td>\n",
       "      <td id=\"T_495cc_row0_col2\" class=\"data row0 col2\" >3.910000</td>\n",
       "      <td id=\"T_495cc_row0_col3\" class=\"data row0 col3\" >1.090000</td>\n",
       "    </tr>\n",
       "    <tr>\n",
       "      <th id=\"T_495cc_level0_row1\" class=\"row_heading level0 row1\" >1</th>\n",
       "      <td id=\"T_495cc_row1_col0\" class=\"data row1 col0\" >j14WgRoU_-2ZE1aw1dXrJg</td>\n",
       "      <td id=\"T_495cc_row1_col1\" class=\"data row1 col1\" >4</td>\n",
       "      <td id=\"T_495cc_row1_col2\" class=\"data row1 col2\" >3.740000</td>\n",
       "      <td id=\"T_495cc_row1_col3\" class=\"data row1 col3\" >0.260000</td>\n",
       "    </tr>\n",
       "    <tr>\n",
       "      <th id=\"T_495cc_level0_row2\" class=\"row_heading level0 row2\" >2</th>\n",
       "      <td id=\"T_495cc_row2_col0\" class=\"data row2 col0\" >OJorsQjotS1dIv--IVifCA</td>\n",
       "      <td id=\"T_495cc_row2_col1\" class=\"data row2 col1\" >5</td>\n",
       "      <td id=\"T_495cc_row2_col2\" class=\"data row2 col2\" >3.770000</td>\n",
       "      <td id=\"T_495cc_row2_col3\" class=\"data row2 col3\" >1.230000</td>\n",
       "    </tr>\n",
       "    <tr>\n",
       "      <th id=\"T_495cc_level0_row3\" class=\"row_heading level0 row3\" >3</th>\n",
       "      <td id=\"T_495cc_row3_col0\" class=\"data row3 col0\" >I7YQFiIsO82eliq8nqsLfA</td>\n",
       "      <td id=\"T_495cc_row3_col1\" class=\"data row3 col1\" >5</td>\n",
       "      <td id=\"T_495cc_row3_col2\" class=\"data row3 col2\" >3.840000</td>\n",
       "      <td id=\"T_495cc_row3_col3\" class=\"data row3 col3\" >1.160000</td>\n",
       "    </tr>\n",
       "    <tr>\n",
       "      <th id=\"T_495cc_level0_row4\" class=\"row_heading level0 row4\" >4</th>\n",
       "      <td id=\"T_495cc_row4_col0\" class=\"data row4 col0\" >ITa3vh5ERI90G_WP4SmGUQ</td>\n",
       "      <td id=\"T_495cc_row4_col1\" class=\"data row4 col1\" >5</td>\n",
       "      <td id=\"T_495cc_row4_col2\" class=\"data row4 col2\" >4.010000</td>\n",
       "      <td id=\"T_495cc_row4_col3\" class=\"data row4 col3\" >0.990000</td>\n",
       "    </tr>\n",
       "    <tr>\n",
       "      <th id=\"T_495cc_level0_row5\" class=\"row_heading level0 row5\" >5773</th>\n",
       "      <td id=\"T_495cc_row5_col0\" class=\"data row5 col0\" >tOMF_9TvCMsRu9k1FxZ9KA</td>\n",
       "      <td id=\"T_495cc_row5_col1\" class=\"data row5 col1\" >4</td>\n",
       "      <td id=\"T_495cc_row5_col2\" class=\"data row5 col2\" >3.880000</td>\n",
       "      <td id=\"T_495cc_row5_col3\" class=\"data row5 col3\" >0.120000</td>\n",
       "    </tr>\n",
       "    <tr>\n",
       "      <th id=\"T_495cc_level0_row6\" class=\"row_heading level0 row6\" >5774</th>\n",
       "      <td id=\"T_495cc_row6_col0\" class=\"data row6 col0\" >xZBhrOt7A3u8UGUyXFsAcQ</td>\n",
       "      <td id=\"T_495cc_row6_col1\" class=\"data row6 col1\" >5</td>\n",
       "      <td id=\"T_495cc_row6_col2\" class=\"data row6 col2\" >4.540000</td>\n",
       "      <td id=\"T_495cc_row6_col3\" class=\"data row6 col3\" >0.460000</td>\n",
       "    </tr>\n",
       "    <tr>\n",
       "      <th id=\"T_495cc_level0_row7\" class=\"row_heading level0 row7\" >5775</th>\n",
       "      <td id=\"T_495cc_row7_col0\" class=\"data row7 col0\" >KJ25vVzMsWGdzUDoeHImIQ</td>\n",
       "      <td id=\"T_495cc_row7_col1\" class=\"data row7 col1\" >5</td>\n",
       "      <td id=\"T_495cc_row7_col2\" class=\"data row7 col2\" >4.800000</td>\n",
       "      <td id=\"T_495cc_row7_col3\" class=\"data row7 col3\" >0.200000</td>\n",
       "    </tr>\n",
       "    <tr>\n",
       "      <th id=\"T_495cc_level0_row8\" class=\"row_heading level0 row8\" >5776</th>\n",
       "      <td id=\"T_495cc_row8_col0\" class=\"data row8 col0\" >LIC3CgJuzEjbTmSY7bicXQ</td>\n",
       "      <td id=\"T_495cc_row8_col1\" class=\"data row8 col1\" >5</td>\n",
       "      <td id=\"T_495cc_row8_col2\" class=\"data row8 col2\" >4.330000</td>\n",
       "      <td id=\"T_495cc_row8_col3\" class=\"data row8 col3\" >0.670000</td>\n",
       "    </tr>\n",
       "    <tr>\n",
       "      <th id=\"T_495cc_level0_row9\" class=\"row_heading level0 row9\" >5777</th>\n",
       "      <td id=\"T_495cc_row9_col0\" class=\"data row9 col0\" >8BCcPyubwAqHjllpnGsVuw</td>\n",
       "      <td id=\"T_495cc_row9_col1\" class=\"data row9 col1\" >2</td>\n",
       "      <td id=\"T_495cc_row9_col2\" class=\"data row9 col2\" >3.530000</td>\n",
       "      <td id=\"T_495cc_row9_col3\" class=\"data row9 col3\" >-1.530000</td>\n",
       "    </tr>\n",
       "  </tbody>\n",
       "</table>\n"
      ],
      "text/plain": [
       "<pandas.io.formats.style.Styler at 0x229d999de50>"
      ]
     },
     "metadata": {},
     "output_type": "display_data"
    }
   ],
   "source": [
    "# Difference between reviewer's overall average rating and their rating for the business\n",
    "df = cur.execute('''\n",
    "                WITH business_reviews AS (\n",
    "                    SELECT \n",
    "                        user_id,\n",
    "                        stars AS business_rating\n",
    "                    FROM yelp_reviews\n",
    "                    WHERE business_id = 'ytynqOUb3hjKeJfRj5Tshw'\n",
    "                )\n",
    "                SELECT \n",
    "                    br.user_id,\n",
    "                    business_rating,\n",
    "                    yu.avg_stars,\n",
    "                    business_rating - yu.avg_stars AS rating_diff\n",
    "                FROM business_reviews br\n",
    "                JOIN yelp_users yu\n",
    "                    ON br.user_id = yu.user_id;\n",
    "                 ''').fetch_pandas_all()\n",
    "\n",
    "df_preview = pd.concat([df.head(), df.tail()])\n",
    "styles = [{\n",
    "    'selector': 'caption', 'props': 'text-align: left;'\n",
    "}]\n",
    "\n",
    "display(df_preview.style.set_caption('<span style=\"font-size: 20px;\">Table 31: Reviewer Bias</span>').set_table_styles(styles))"
   ]
  },
  {
   "cell_type": "markdown",
   "id": "9fadca29",
   "metadata": {},
   "source": [
    "### Time Between Reviews"
   ]
  },
  {
   "cell_type": "code",
   "execution_count": 53,
   "id": "d791139d",
   "metadata": {},
   "outputs": [
    {
     "data": {
      "text/html": [
       "<style type=\"text/css\">\n",
       "#T_1a51c caption {\n",
       "  text-align: left;\n",
       "}\n",
       "</style>\n",
       "<table id=\"T_1a51c\">\n",
       "  <caption><span style=\"font-size: 20px;\">Table 32: Time Between Reviews (Days)</span></caption>\n",
       "  <thead>\n",
       "    <tr>\n",
       "      <th class=\"blank level0\" >&nbsp;</th>\n",
       "      <th id=\"T_1a51c_level0_col0\" class=\"col_heading level0 col0\" >REVIEW_DATE</th>\n",
       "      <th id=\"T_1a51c_level0_col1\" class=\"col_heading level0 col1\" >PREVIOUS_DATE</th>\n",
       "      <th id=\"T_1a51c_level0_col2\" class=\"col_heading level0 col2\" >DAYS_SINCE_LAST_REVIEW</th>\n",
       "    </tr>\n",
       "  </thead>\n",
       "  <tbody>\n",
       "    <tr>\n",
       "      <th id=\"T_1a51c_level0_row0\" class=\"row_heading level0 row0\" >0</th>\n",
       "      <td id=\"T_1a51c_row0_col0\" class=\"data row0 col0\" >2005-11-27</td>\n",
       "      <td id=\"T_1a51c_row0_col1\" class=\"data row0 col1\" >None</td>\n",
       "      <td id=\"T_1a51c_row0_col2\" class=\"data row0 col2\" >nan</td>\n",
       "    </tr>\n",
       "    <tr>\n",
       "      <th id=\"T_1a51c_level0_row1\" class=\"row_heading level0 row1\" >1</th>\n",
       "      <td id=\"T_1a51c_row1_col0\" class=\"data row1 col0\" >2006-06-05</td>\n",
       "      <td id=\"T_1a51c_row1_col1\" class=\"data row1 col1\" >2005-11-27</td>\n",
       "      <td id=\"T_1a51c_row1_col2\" class=\"data row1 col2\" >190.000000</td>\n",
       "    </tr>\n",
       "    <tr>\n",
       "      <th id=\"T_1a51c_level0_row2\" class=\"row_heading level0 row2\" >2</th>\n",
       "      <td id=\"T_1a51c_row2_col0\" class=\"data row2 col0\" >2006-10-24</td>\n",
       "      <td id=\"T_1a51c_row2_col1\" class=\"data row2 col1\" >2006-06-05</td>\n",
       "      <td id=\"T_1a51c_row2_col2\" class=\"data row2 col2\" >141.000000</td>\n",
       "    </tr>\n",
       "    <tr>\n",
       "      <th id=\"T_1a51c_level0_row3\" class=\"row_heading level0 row3\" >3</th>\n",
       "      <td id=\"T_1a51c_row3_col0\" class=\"data row3 col0\" >2006-11-13</td>\n",
       "      <td id=\"T_1a51c_row3_col1\" class=\"data row3 col1\" >2006-10-24</td>\n",
       "      <td id=\"T_1a51c_row3_col2\" class=\"data row3 col2\" >20.000000</td>\n",
       "    </tr>\n",
       "    <tr>\n",
       "      <th id=\"T_1a51c_level0_row4\" class=\"row_heading level0 row4\" >4</th>\n",
       "      <td id=\"T_1a51c_row4_col0\" class=\"data row4 col0\" >2006-12-04</td>\n",
       "      <td id=\"T_1a51c_row4_col1\" class=\"data row4 col1\" >2006-12-04</td>\n",
       "      <td id=\"T_1a51c_row4_col2\" class=\"data row4 col2\" >0.000000</td>\n",
       "    </tr>\n",
       "    <tr>\n",
       "      <th id=\"T_1a51c_level0_row5\" class=\"row_heading level0 row5\" >5773</th>\n",
       "      <td id=\"T_1a51c_row5_col0\" class=\"data row5 col0\" >2022-01-17</td>\n",
       "      <td id=\"T_1a51c_row5_col1\" class=\"data row5 col1\" >2022-01-16</td>\n",
       "      <td id=\"T_1a51c_row5_col2\" class=\"data row5 col2\" >1.000000</td>\n",
       "    </tr>\n",
       "    <tr>\n",
       "      <th id=\"T_1a51c_level0_row6\" class=\"row_heading level0 row6\" >5774</th>\n",
       "      <td id=\"T_1a51c_row6_col0\" class=\"data row6 col0\" >2022-01-18</td>\n",
       "      <td id=\"T_1a51c_row6_col1\" class=\"data row6 col1\" >2022-01-17</td>\n",
       "      <td id=\"T_1a51c_row6_col2\" class=\"data row6 col2\" >1.000000</td>\n",
       "    </tr>\n",
       "    <tr>\n",
       "      <th id=\"T_1a51c_level0_row7\" class=\"row_heading level0 row7\" >5775</th>\n",
       "      <td id=\"T_1a51c_row7_col0\" class=\"data row7 col0\" >2022-01-19</td>\n",
       "      <td id=\"T_1a51c_row7_col1\" class=\"data row7 col1\" >2022-01-18</td>\n",
       "      <td id=\"T_1a51c_row7_col2\" class=\"data row7 col2\" >1.000000</td>\n",
       "    </tr>\n",
       "    <tr>\n",
       "      <th id=\"T_1a51c_level0_row8\" class=\"row_heading level0 row8\" >5776</th>\n",
       "      <td id=\"T_1a51c_row8_col0\" class=\"data row8 col0\" >2022-01-19</td>\n",
       "      <td id=\"T_1a51c_row8_col1\" class=\"data row8 col1\" >2022-01-19</td>\n",
       "      <td id=\"T_1a51c_row8_col2\" class=\"data row8 col2\" >0.000000</td>\n",
       "    </tr>\n",
       "    <tr>\n",
       "      <th id=\"T_1a51c_level0_row9\" class=\"row_heading level0 row9\" >5777</th>\n",
       "      <td id=\"T_1a51c_row9_col0\" class=\"data row9 col0\" >2022-01-19</td>\n",
       "      <td id=\"T_1a51c_row9_col1\" class=\"data row9 col1\" >2022-01-19</td>\n",
       "      <td id=\"T_1a51c_row9_col2\" class=\"data row9 col2\" >0.000000</td>\n",
       "    </tr>\n",
       "  </tbody>\n",
       "</table>\n"
      ],
      "text/plain": [
       "<pandas.io.formats.style.Styler at 0x229d999de50>"
      ]
     },
     "metadata": {},
     "output_type": "display_data"
    }
   ],
   "source": [
    "# Time between reviews in days (can be used to find average days between review for a specified time period)\n",
    "df = cur.execute('''\n",
    "                SELECT \n",
    "                    review_date,\n",
    "                    LAG(review_date) OVER(ORDER BY review_date) AS previous_date,\n",
    "                    review_date - LAG(review_date) OVER(ORDER BY review_date) AS days_since_last_review\n",
    "                FROM yelp_reviews\n",
    "                WHERE business_id = 'ytynqOUb3hjKeJfRj5Tshw'\n",
    "                ORDER BY review_date;\n",
    "                 ''').fetch_pandas_all()\n",
    "\n",
    "df_preview = pd.concat([df.head(), df.tail()])\n",
    "styles = [{\n",
    "    'selector': 'caption', 'props': 'text-align: left;'\n",
    "}]\n",
    "\n",
    "display(df_preview.style.set_caption('<span style=\"font-size: 20px;\">Table 32: Time Between Reviews (Days)</span>').set_table_styles(styles))"
   ]
  },
  {
   "cell_type": "markdown",
   "id": "939f5ccd",
   "metadata": {},
   "source": [
    "## User Engagement Funnel & Top Contributors"
   ]
  },
  {
   "cell_type": "markdown",
   "id": "6d58195a",
   "metadata": {},
   "source": [
    "### User Engagement Funnel"
   ]
  },
  {
   "cell_type": "code",
   "execution_count": 54,
   "id": "4fd74e6d",
   "metadata": {},
   "outputs": [
    {
     "data": {
      "text/html": [
       "<style type=\"text/css\">\n",
       "#T_71e22 caption {\n",
       "  text-align: left;\n",
       "}\n",
       "</style>\n",
       "<table id=\"T_71e22\">\n",
       "  <caption><span style=\"font-size: 20px;\">Table 33: User Engagement Funnel</span></caption>\n",
       "  <thead>\n",
       "    <tr>\n",
       "      <th class=\"blank level0\" >&nbsp;</th>\n",
       "      <th id=\"T_71e22_level0_col0\" class=\"col_heading level0 col0\" >USER_TYPE</th>\n",
       "      <th id=\"T_71e22_level0_col1\" class=\"col_heading level0 col1\" >NUMBER_OF_USERS</th>\n",
       "      <th id=\"T_71e22_level0_col2\" class=\"col_heading level0 col2\" >PCT_OF_USERS</th>\n",
       "    </tr>\n",
       "  </thead>\n",
       "  <tbody>\n",
       "    <tr>\n",
       "      <th id=\"T_71e22_level0_row0\" class=\"row_heading level0 row0\" >0</th>\n",
       "      <td id=\"T_71e22_row0_col0\" class=\"data row0 col0\" >Registered Users</td>\n",
       "      <td id=\"T_71e22_row0_col1\" class=\"data row0 col1\" >1987897</td>\n",
       "      <td id=\"T_71e22_row0_col2\" class=\"data row0 col2\" >100.000</td>\n",
       "    </tr>\n",
       "    <tr>\n",
       "      <th id=\"T_71e22_level0_row1\" class=\"row_heading level0 row1\" >1</th>\n",
       "      <td id=\"T_71e22_row1_col0\" class=\"data row1 col0\" >Reviewers</td>\n",
       "      <td id=\"T_71e22_row1_col1\" class=\"data row1 col1\" >1987843</td>\n",
       "      <td id=\"T_71e22_row1_col2\" class=\"data row1 col2\" >99.997</td>\n",
       "    </tr>\n",
       "    <tr>\n",
       "      <th id=\"T_71e22_level0_row2\" class=\"row_heading level0 row2\" >2</th>\n",
       "      <td id=\"T_71e22_row2_col0\" class=\"data row2 col0\" >Highly Active Reviewers</td>\n",
       "      <td id=\"T_71e22_row2_col1\" class=\"data row2 col1\" >374650</td>\n",
       "      <td id=\"T_71e22_row2_col2\" class=\"data row2 col2\" >18.847</td>\n",
       "    </tr>\n",
       "    <tr>\n",
       "      <th id=\"T_71e22_level0_row3\" class=\"row_heading level0 row3\" >3</th>\n",
       "      <td id=\"T_71e22_row3_col0\" class=\"data row3 col0\" >Tippers</td>\n",
       "      <td id=\"T_71e22_row3_col1\" class=\"data row3 col1\" >301758</td>\n",
       "      <td id=\"T_71e22_row3_col2\" class=\"data row3 col2\" >15.180</td>\n",
       "    </tr>\n",
       "    <tr>\n",
       "      <th id=\"T_71e22_level0_row4\" class=\"row_heading level0 row4\" >4</th>\n",
       "      <td id=\"T_71e22_row4_col0\" class=\"data row4 col0\" >Influential Users</td>\n",
       "      <td id=\"T_71e22_row4_col1\" class=\"data row4 col1\" >210208</td>\n",
       "      <td id=\"T_71e22_row4_col2\" class=\"data row4 col2\" >10.574</td>\n",
       "    </tr>\n",
       "    <tr>\n",
       "      <th id=\"T_71e22_level0_row5\" class=\"row_heading level0 row5\" >5</th>\n",
       "      <td id=\"T_71e22_row5_col0\" class=\"data row5 col0\" >Elite Users</td>\n",
       "      <td id=\"T_71e22_row5_col1\" class=\"data row5 col1\" >91198</td>\n",
       "      <td id=\"T_71e22_row5_col2\" class=\"data row5 col2\" >4.588</td>\n",
       "    </tr>\n",
       "    <tr>\n",
       "      <th id=\"T_71e22_level0_row6\" class=\"row_heading level0 row6\" >6</th>\n",
       "      <td id=\"T_71e22_row6_col0\" class=\"data row6 col0\" >New Users</td>\n",
       "      <td id=\"T_71e22_row6_col1\" class=\"data row6 col1\" >43267</td>\n",
       "      <td id=\"T_71e22_row6_col2\" class=\"data row6 col2\" >2.177</td>\n",
       "    </tr>\n",
       "  </tbody>\n",
       "</table>\n"
      ],
      "text/plain": [
       "<pandas.io.formats.style.Styler at 0x229d999de50>"
      ]
     },
     "metadata": {},
     "output_type": "display_data"
    },
    {
     "data": {
      "application/vnd.plotly.v1+json": {
       "config": {
        "plotlyServerURL": "https://plot.ly"
       },
       "data": [
        {
         "marker": {
          "color": [
           "#1f77b4",
           "#ff7f0e",
           "#2ca02c",
           "#d62728",
           "#9467bd",
           "#8c564b",
           "#e377c2"
          ]
         },
         "textfont": {
          "color": "black",
          "size": 14
         },
         "textinfo": "value+percent initial",
         "textposition": "outside",
         "type": "funnel",
         "x": {
          "bdata": "OVUeAANVHgB6twUAvpoEACA1AwA+ZAEAA6kAAA==",
          "dtype": "i4"
         },
         "y": [
          "Registered Users",
          "Reviewers",
          "Highly Active Reviewers",
          "Tippers",
          "Influential Users",
          "Elite Users",
          "New Users"
         ]
        }
       ],
       "layout": {
        "template": {
         "data": {
          "bar": [
           {
            "error_x": {
             "color": "#2a3f5f"
            },
            "error_y": {
             "color": "#2a3f5f"
            },
            "marker": {
             "line": {
              "color": "#E5ECF6",
              "width": 0.5
             },
             "pattern": {
              "fillmode": "overlay",
              "size": 10,
              "solidity": 0.2
             }
            },
            "type": "bar"
           }
          ],
          "barpolar": [
           {
            "marker": {
             "line": {
              "color": "#E5ECF6",
              "width": 0.5
             },
             "pattern": {
              "fillmode": "overlay",
              "size": 10,
              "solidity": 0.2
             }
            },
            "type": "barpolar"
           }
          ],
          "carpet": [
           {
            "aaxis": {
             "endlinecolor": "#2a3f5f",
             "gridcolor": "white",
             "linecolor": "white",
             "minorgridcolor": "white",
             "startlinecolor": "#2a3f5f"
            },
            "baxis": {
             "endlinecolor": "#2a3f5f",
             "gridcolor": "white",
             "linecolor": "white",
             "minorgridcolor": "white",
             "startlinecolor": "#2a3f5f"
            },
            "type": "carpet"
           }
          ],
          "choropleth": [
           {
            "colorbar": {
             "outlinewidth": 0,
             "ticks": ""
            },
            "type": "choropleth"
           }
          ],
          "contour": [
           {
            "colorbar": {
             "outlinewidth": 0,
             "ticks": ""
            },
            "colorscale": [
             [
              0,
              "#0d0887"
             ],
             [
              0.1111111111111111,
              "#46039f"
             ],
             [
              0.2222222222222222,
              "#7201a8"
             ],
             [
              0.3333333333333333,
              "#9c179e"
             ],
             [
              0.4444444444444444,
              "#bd3786"
             ],
             [
              0.5555555555555556,
              "#d8576b"
             ],
             [
              0.6666666666666666,
              "#ed7953"
             ],
             [
              0.7777777777777778,
              "#fb9f3a"
             ],
             [
              0.8888888888888888,
              "#fdca26"
             ],
             [
              1,
              "#f0f921"
             ]
            ],
            "type": "contour"
           }
          ],
          "contourcarpet": [
           {
            "colorbar": {
             "outlinewidth": 0,
             "ticks": ""
            },
            "type": "contourcarpet"
           }
          ],
          "heatmap": [
           {
            "colorbar": {
             "outlinewidth": 0,
             "ticks": ""
            },
            "colorscale": [
             [
              0,
              "#0d0887"
             ],
             [
              0.1111111111111111,
              "#46039f"
             ],
             [
              0.2222222222222222,
              "#7201a8"
             ],
             [
              0.3333333333333333,
              "#9c179e"
             ],
             [
              0.4444444444444444,
              "#bd3786"
             ],
             [
              0.5555555555555556,
              "#d8576b"
             ],
             [
              0.6666666666666666,
              "#ed7953"
             ],
             [
              0.7777777777777778,
              "#fb9f3a"
             ],
             [
              0.8888888888888888,
              "#fdca26"
             ],
             [
              1,
              "#f0f921"
             ]
            ],
            "type": "heatmap"
           }
          ],
          "histogram": [
           {
            "marker": {
             "pattern": {
              "fillmode": "overlay",
              "size": 10,
              "solidity": 0.2
             }
            },
            "type": "histogram"
           }
          ],
          "histogram2d": [
           {
            "colorbar": {
             "outlinewidth": 0,
             "ticks": ""
            },
            "colorscale": [
             [
              0,
              "#0d0887"
             ],
             [
              0.1111111111111111,
              "#46039f"
             ],
             [
              0.2222222222222222,
              "#7201a8"
             ],
             [
              0.3333333333333333,
              "#9c179e"
             ],
             [
              0.4444444444444444,
              "#bd3786"
             ],
             [
              0.5555555555555556,
              "#d8576b"
             ],
             [
              0.6666666666666666,
              "#ed7953"
             ],
             [
              0.7777777777777778,
              "#fb9f3a"
             ],
             [
              0.8888888888888888,
              "#fdca26"
             ],
             [
              1,
              "#f0f921"
             ]
            ],
            "type": "histogram2d"
           }
          ],
          "histogram2dcontour": [
           {
            "colorbar": {
             "outlinewidth": 0,
             "ticks": ""
            },
            "colorscale": [
             [
              0,
              "#0d0887"
             ],
             [
              0.1111111111111111,
              "#46039f"
             ],
             [
              0.2222222222222222,
              "#7201a8"
             ],
             [
              0.3333333333333333,
              "#9c179e"
             ],
             [
              0.4444444444444444,
              "#bd3786"
             ],
             [
              0.5555555555555556,
              "#d8576b"
             ],
             [
              0.6666666666666666,
              "#ed7953"
             ],
             [
              0.7777777777777778,
              "#fb9f3a"
             ],
             [
              0.8888888888888888,
              "#fdca26"
             ],
             [
              1,
              "#f0f921"
             ]
            ],
            "type": "histogram2dcontour"
           }
          ],
          "mesh3d": [
           {
            "colorbar": {
             "outlinewidth": 0,
             "ticks": ""
            },
            "type": "mesh3d"
           }
          ],
          "parcoords": [
           {
            "line": {
             "colorbar": {
              "outlinewidth": 0,
              "ticks": ""
             }
            },
            "type": "parcoords"
           }
          ],
          "pie": [
           {
            "automargin": true,
            "type": "pie"
           }
          ],
          "scatter": [
           {
            "fillpattern": {
             "fillmode": "overlay",
             "size": 10,
             "solidity": 0.2
            },
            "type": "scatter"
           }
          ],
          "scatter3d": [
           {
            "line": {
             "colorbar": {
              "outlinewidth": 0,
              "ticks": ""
             }
            },
            "marker": {
             "colorbar": {
              "outlinewidth": 0,
              "ticks": ""
             }
            },
            "type": "scatter3d"
           }
          ],
          "scattercarpet": [
           {
            "marker": {
             "colorbar": {
              "outlinewidth": 0,
              "ticks": ""
             }
            },
            "type": "scattercarpet"
           }
          ],
          "scattergeo": [
           {
            "marker": {
             "colorbar": {
              "outlinewidth": 0,
              "ticks": ""
             }
            },
            "type": "scattergeo"
           }
          ],
          "scattergl": [
           {
            "marker": {
             "colorbar": {
              "outlinewidth": 0,
              "ticks": ""
             }
            },
            "type": "scattergl"
           }
          ],
          "scattermap": [
           {
            "marker": {
             "colorbar": {
              "outlinewidth": 0,
              "ticks": ""
             }
            },
            "type": "scattermap"
           }
          ],
          "scattermapbox": [
           {
            "marker": {
             "colorbar": {
              "outlinewidth": 0,
              "ticks": ""
             }
            },
            "type": "scattermapbox"
           }
          ],
          "scatterpolar": [
           {
            "marker": {
             "colorbar": {
              "outlinewidth": 0,
              "ticks": ""
             }
            },
            "type": "scatterpolar"
           }
          ],
          "scatterpolargl": [
           {
            "marker": {
             "colorbar": {
              "outlinewidth": 0,
              "ticks": ""
             }
            },
            "type": "scatterpolargl"
           }
          ],
          "scatterternary": [
           {
            "marker": {
             "colorbar": {
              "outlinewidth": 0,
              "ticks": ""
             }
            },
            "type": "scatterternary"
           }
          ],
          "surface": [
           {
            "colorbar": {
             "outlinewidth": 0,
             "ticks": ""
            },
            "colorscale": [
             [
              0,
              "#0d0887"
             ],
             [
              0.1111111111111111,
              "#46039f"
             ],
             [
              0.2222222222222222,
              "#7201a8"
             ],
             [
              0.3333333333333333,
              "#9c179e"
             ],
             [
              0.4444444444444444,
              "#bd3786"
             ],
             [
              0.5555555555555556,
              "#d8576b"
             ],
             [
              0.6666666666666666,
              "#ed7953"
             ],
             [
              0.7777777777777778,
              "#fb9f3a"
             ],
             [
              0.8888888888888888,
              "#fdca26"
             ],
             [
              1,
              "#f0f921"
             ]
            ],
            "type": "surface"
           }
          ],
          "table": [
           {
            "cells": {
             "fill": {
              "color": "#EBF0F8"
             },
             "line": {
              "color": "white"
             }
            },
            "header": {
             "fill": {
              "color": "#C8D4E3"
             },
             "line": {
              "color": "white"
             }
            },
            "type": "table"
           }
          ]
         },
         "layout": {
          "annotationdefaults": {
           "arrowcolor": "#2a3f5f",
           "arrowhead": 0,
           "arrowwidth": 1
          },
          "autotypenumbers": "strict",
          "coloraxis": {
           "colorbar": {
            "outlinewidth": 0,
            "ticks": ""
           }
          },
          "colorscale": {
           "diverging": [
            [
             0,
             "#8e0152"
            ],
            [
             0.1,
             "#c51b7d"
            ],
            [
             0.2,
             "#de77ae"
            ],
            [
             0.3,
             "#f1b6da"
            ],
            [
             0.4,
             "#fde0ef"
            ],
            [
             0.5,
             "#f7f7f7"
            ],
            [
             0.6,
             "#e6f5d0"
            ],
            [
             0.7,
             "#b8e186"
            ],
            [
             0.8,
             "#7fbc41"
            ],
            [
             0.9,
             "#4d9221"
            ],
            [
             1,
             "#276419"
            ]
           ],
           "sequential": [
            [
             0,
             "#0d0887"
            ],
            [
             0.1111111111111111,
             "#46039f"
            ],
            [
             0.2222222222222222,
             "#7201a8"
            ],
            [
             0.3333333333333333,
             "#9c179e"
            ],
            [
             0.4444444444444444,
             "#bd3786"
            ],
            [
             0.5555555555555556,
             "#d8576b"
            ],
            [
             0.6666666666666666,
             "#ed7953"
            ],
            [
             0.7777777777777778,
             "#fb9f3a"
            ],
            [
             0.8888888888888888,
             "#fdca26"
            ],
            [
             1,
             "#f0f921"
            ]
           ],
           "sequentialminus": [
            [
             0,
             "#0d0887"
            ],
            [
             0.1111111111111111,
             "#46039f"
            ],
            [
             0.2222222222222222,
             "#7201a8"
            ],
            [
             0.3333333333333333,
             "#9c179e"
            ],
            [
             0.4444444444444444,
             "#bd3786"
            ],
            [
             0.5555555555555556,
             "#d8576b"
            ],
            [
             0.6666666666666666,
             "#ed7953"
            ],
            [
             0.7777777777777778,
             "#fb9f3a"
            ],
            [
             0.8888888888888888,
             "#fdca26"
            ],
            [
             1,
             "#f0f921"
            ]
           ]
          },
          "colorway": [
           "#636efa",
           "#EF553B",
           "#00cc96",
           "#ab63fa",
           "#FFA15A",
           "#19d3f3",
           "#FF6692",
           "#B6E880",
           "#FF97FF",
           "#FECB52"
          ],
          "font": {
           "color": "#2a3f5f"
          },
          "geo": {
           "bgcolor": "white",
           "lakecolor": "white",
           "landcolor": "#E5ECF6",
           "showlakes": true,
           "showland": true,
           "subunitcolor": "white"
          },
          "hoverlabel": {
           "align": "left"
          },
          "hovermode": "closest",
          "mapbox": {
           "style": "light"
          },
          "paper_bgcolor": "white",
          "plot_bgcolor": "#E5ECF6",
          "polar": {
           "angularaxis": {
            "gridcolor": "white",
            "linecolor": "white",
            "ticks": ""
           },
           "bgcolor": "#E5ECF6",
           "radialaxis": {
            "gridcolor": "white",
            "linecolor": "white",
            "ticks": ""
           }
          },
          "scene": {
           "xaxis": {
            "backgroundcolor": "#E5ECF6",
            "gridcolor": "white",
            "gridwidth": 2,
            "linecolor": "white",
            "showbackground": true,
            "ticks": "",
            "zerolinecolor": "white"
           },
           "yaxis": {
            "backgroundcolor": "#E5ECF6",
            "gridcolor": "white",
            "gridwidth": 2,
            "linecolor": "white",
            "showbackground": true,
            "ticks": "",
            "zerolinecolor": "white"
           },
           "zaxis": {
            "backgroundcolor": "#E5ECF6",
            "gridcolor": "white",
            "gridwidth": 2,
            "linecolor": "white",
            "showbackground": true,
            "ticks": "",
            "zerolinecolor": "white"
           }
          },
          "shapedefaults": {
           "line": {
            "color": "#2a3f5f"
           }
          },
          "ternary": {
           "aaxis": {
            "gridcolor": "white",
            "linecolor": "white",
            "ticks": ""
           },
           "baxis": {
            "gridcolor": "white",
            "linecolor": "white",
            "ticks": ""
           },
           "bgcolor": "#E5ECF6",
           "caxis": {
            "gridcolor": "white",
            "linecolor": "white",
            "ticks": ""
           }
          },
          "title": {
           "x": 0.05
          },
          "xaxis": {
           "automargin": true,
           "gridcolor": "white",
           "linecolor": "white",
           "ticks": "",
           "title": {
            "standoff": 15
           },
           "zerolinecolor": "white",
           "zerolinewidth": 2
          },
          "yaxis": {
           "automargin": true,
           "gridcolor": "white",
           "linecolor": "white",
           "ticks": "",
           "title": {
            "standoff": 15
           },
           "zerolinecolor": "white",
           "zerolinewidth": 2
          }
         }
        },
        "title": {
         "text": "Figure 11: User Engagement Funnel"
        }
       }
      }
     },
     "metadata": {},
     "output_type": "display_data"
    }
   ],
   "source": [
    "# Create user engagement funnel\n",
    "df = cur.execute('''\n",
    "                SELECT 'Registered Users' AS User_Type, COUNT(*) AS Number_Of_Users, 100 AS Pct_Of_Users\n",
    "                FROM yelp_users\n",
    "                UNION\n",
    "                SELECT 'Reviewers', COUNT(user_id), ROUND(COUNT(user_id) / (SELECT COUNT(*) FROM yelp_users) * 100, 3)\n",
    "                FROM yelp_users\n",
    "                WHERE review_count >= 1\n",
    "                UNION\n",
    "                SELECT 'Highly Active Reviewers', COUNT(user_id), ROUND(COUNT(user_id) / (SELECT COUNT(*) FROM yelp_users) * 100, 3)\n",
    "                FROM yelp_users\n",
    "                WHERE review_count >= (\n",
    "                SELECT ROUND(AVG(review_count), 2) AS avg_reviews\n",
    "                FROM yelp_users\n",
    "                )\n",
    "                UNION\n",
    "                SELECT 'Tippers', COUNT(DISTINCT user_id), ROUND(COUNT(DISTINCT user_id) / (SELECT COUNT(*) FROM yelp_users) * 100, 3)\n",
    "                FROM yelp_tips\n",
    "                UNION\n",
    "                SELECT 'Influential Users', COUNT(user_id), ROUND(COUNT(user_id) / (SELECT COUNT(*) FROM yelp_users) * 100, 3)\n",
    "                FROM yelp_users\n",
    "                WHERE fans >= (\n",
    "                SELECT ROUND(AVG(fans), 2) AS avg_fans\n",
    "                FROM yelp_users\n",
    "                )\n",
    "                UNION\n",
    "                SELECT 'Elite Users', COUNT(user_id), ROUND(COUNT(user_id) / (SELECT COUNT(*) FROM yelp_users) * 100, 3)\n",
    "                FROM yelp_users\n",
    "                WHERE elite != ''\n",
    "                UNION\n",
    "                SELECT 'New Users', COUNT(user_id), ROUND(COUNT(user_id) / (SELECT COUNT(*) FROM yelp_users) * 100, 3)\n",
    "                FROM yelp_users\n",
    "                WHERE EXTRACT(year from yelping_since) >= 2021\n",
    "                ORDER BY 2 DESC\n",
    "                ;\n",
    "                 ''').fetch_pandas_all()\n",
    "\n",
    "styles = [{\n",
    "    'selector': 'caption', 'props': 'text-align: left;'\n",
    "}]\n",
    "\n",
    "display(df.style.set_caption('<span style=\"font-size: 20px;\">Table 33: User Engagement Funnel</span>').set_table_styles(styles))\n",
    "\n",
    "fig = go.Figure(go.Funnel(\n",
    "    y=df['USER_TYPE'].values,\n",
    "    x=df['NUMBER_OF_USERS'].values,\n",
    "    textinfo='value+percent initial',\n",
    "    marker= {\n",
    "        'color': ['#1f77b4','#ff7f0e','#2ca02c','#d62728','#9467bd','#8c564b', '#e377c2']\n",
    "        },\n",
    "    textfont={'color': 'black', 'size': 14},\n",
    "    textposition='outside'\n",
    "    )\n",
    ")\n",
    "fig.update_layout(title_text='Figure 11: User Engagement Funnel')\n",
    "fig.show()\n"
   ]
  },
  {
   "cell_type": "markdown",
   "id": "529aa34c",
   "metadata": {},
   "source": [
    "### Most Active Reviewers"
   ]
  },
  {
   "cell_type": "code",
   "execution_count": 55,
   "id": "366ee06b",
   "metadata": {},
   "outputs": [
    {
     "data": {
      "text/html": [
       "<style type=\"text/css\">\n",
       "#T_9edee caption {\n",
       "  text-align: left;\n",
       "}\n",
       "</style>\n",
       "<table id=\"T_9edee\">\n",
       "  <caption><span style=\"font-size: 20px;\">Table 34: Most Active Reviewers</span></caption>\n",
       "  <thead>\n",
       "    <tr>\n",
       "      <th class=\"blank level0\" >&nbsp;</th>\n",
       "      <th id=\"T_9edee_level0_col0\" class=\"col_heading level0 col0\" >USER_ID</th>\n",
       "      <th id=\"T_9edee_level0_col1\" class=\"col_heading level0 col1\" >FANS</th>\n",
       "      <th id=\"T_9edee_level0_col2\" class=\"col_heading level0 col2\" >REVIEWS_WRITTEN</th>\n",
       "      <th id=\"T_9edee_level0_col3\" class=\"col_heading level0 col3\" >AVG_RATING</th>\n",
       "      <th id=\"T_9edee_level0_col4\" class=\"col_heading level0 col4\" >TOTAL_USEFUL_VOTES</th>\n",
       "      <th id=\"T_9edee_level0_col5\" class=\"col_heading level0 col5\" >AVG_USEFUL_VOTES</th>\n",
       "    </tr>\n",
       "  </thead>\n",
       "  <tbody>\n",
       "    <tr>\n",
       "      <th id=\"T_9edee_level0_row0\" class=\"row_heading level0 row0\" >0</th>\n",
       "      <td id=\"T_9edee_row0_col0\" class=\"data row0 col0\" >_BcWyKQL16ndpBdggh2kNA</td>\n",
       "      <td id=\"T_9edee_row0_col1\" class=\"data row0 col1\" >558</td>\n",
       "      <td id=\"T_9edee_row0_col2\" class=\"data row0 col2\" >3048</td>\n",
       "      <td id=\"T_9edee_row0_col3\" class=\"data row0 col3\" >3.64</td>\n",
       "      <td id=\"T_9edee_row0_col4\" class=\"data row0 col4\" >11043</td>\n",
       "      <td id=\"T_9edee_row0_col5\" class=\"data row0 col5\" >3.62</td>\n",
       "    </tr>\n",
       "    <tr>\n",
       "      <th id=\"T_9edee_level0_row1\" class=\"row_heading level0 row1\" >1</th>\n",
       "      <td id=\"T_9edee_row1_col0\" class=\"data row1 col0\" >Xw7ZjaGfr0WNVt6s_5KZfA</td>\n",
       "      <td id=\"T_9edee_row1_col1\" class=\"data row1 col1\" >379</td>\n",
       "      <td id=\"T_9edee_row1_col2\" class=\"data row1 col2\" >1840</td>\n",
       "      <td id=\"T_9edee_row1_col3\" class=\"data row1 col3\" >4.07</td>\n",
       "      <td id=\"T_9edee_row1_col4\" class=\"data row1 col4\" >12011</td>\n",
       "      <td id=\"T_9edee_row1_col5\" class=\"data row1 col5\" >6.53</td>\n",
       "    </tr>\n",
       "    <tr>\n",
       "      <th id=\"T_9edee_level0_row2\" class=\"row_heading level0 row2\" >2</th>\n",
       "      <td id=\"T_9edee_row2_col0\" class=\"data row2 col0\" >0Igx-a1wAstiBDerGxXk2A</td>\n",
       "      <td id=\"T_9edee_row2_col1\" class=\"data row2 col1\" >200</td>\n",
       "      <td id=\"T_9edee_row2_col2\" class=\"data row2 col2\" >1747</td>\n",
       "      <td id=\"T_9edee_row2_col3\" class=\"data row2 col3\" >3.99</td>\n",
       "      <td id=\"T_9edee_row2_col4\" class=\"data row2 col4\" >8254</td>\n",
       "      <td id=\"T_9edee_row2_col5\" class=\"data row2 col5\" >4.72</td>\n",
       "    </tr>\n",
       "    <tr>\n",
       "      <th id=\"T_9edee_level0_row3\" class=\"row_heading level0 row3\" >3</th>\n",
       "      <td id=\"T_9edee_row3_col0\" class=\"data row3 col0\" >-G7Zkl1wIWBBmD0KRy_sCw</td>\n",
       "      <td id=\"T_9edee_row3_col1\" class=\"data row3 col1\" >703</td>\n",
       "      <td id=\"T_9edee_row3_col2\" class=\"data row3 col2\" >1682</td>\n",
       "      <td id=\"T_9edee_row3_col3\" class=\"data row3 col3\" >3.65</td>\n",
       "      <td id=\"T_9edee_row3_col4\" class=\"data row3 col4\" >34694</td>\n",
       "      <td id=\"T_9edee_row3_col5\" class=\"data row3 col5\" >20.63</td>\n",
       "    </tr>\n",
       "    <tr>\n",
       "      <th id=\"T_9edee_level0_row4\" class=\"row_heading level0 row4\" >4</th>\n",
       "      <td id=\"T_9edee_row4_col0\" class=\"data row4 col0\" >ET8n-r7glWYqZhuR6GcdNw</td>\n",
       "      <td id=\"T_9edee_row4_col1\" class=\"data row4 col1\" >1353</td>\n",
       "      <td id=\"T_9edee_row4_col2\" class=\"data row4 col2\" >1653</td>\n",
       "      <td id=\"T_9edee_row4_col3\" class=\"data row4 col3\" >4.05</td>\n",
       "      <td id=\"T_9edee_row4_col4\" class=\"data row4 col4\" >19474</td>\n",
       "      <td id=\"T_9edee_row4_col5\" class=\"data row4 col5\" >11.78</td>\n",
       "    </tr>\n",
       "    <tr>\n",
       "      <th id=\"T_9edee_level0_row5\" class=\"row_heading level0 row5\" >5</th>\n",
       "      <td id=\"T_9edee_row5_col0\" class=\"data row5 col0\" >bYENop4BuQepBjM1-BI3fA</td>\n",
       "      <td id=\"T_9edee_row5_col1\" class=\"data row5 col1\" >401</td>\n",
       "      <td id=\"T_9edee_row5_col2\" class=\"data row5 col2\" >1578</td>\n",
       "      <td id=\"T_9edee_row5_col3\" class=\"data row5 col3\" >3.85</td>\n",
       "      <td id=\"T_9edee_row5_col4\" class=\"data row5 col4\" >11680</td>\n",
       "      <td id=\"T_9edee_row5_col5\" class=\"data row5 col5\" >7.40</td>\n",
       "    </tr>\n",
       "    <tr>\n",
       "      <th id=\"T_9edee_level0_row6\" class=\"row_heading level0 row6\" >6</th>\n",
       "      <td id=\"T_9edee_row6_col0\" class=\"data row6 col0\" >1HM81n6n4iPIFU5d2Lokhw</td>\n",
       "      <td id=\"T_9edee_row6_col1\" class=\"data row6 col1\" >149</td>\n",
       "      <td id=\"T_9edee_row6_col2\" class=\"data row6 col2\" >1554</td>\n",
       "      <td id=\"T_9edee_row6_col3\" class=\"data row6 col3\" >3.05</td>\n",
       "      <td id=\"T_9edee_row6_col4\" class=\"data row6 col4\" >6138</td>\n",
       "      <td id=\"T_9edee_row6_col5\" class=\"data row6 col5\" >3.95</td>\n",
       "    </tr>\n",
       "    <tr>\n",
       "      <th id=\"T_9edee_level0_row7\" class=\"row_heading level0 row7\" >7</th>\n",
       "      <td id=\"T_9edee_row7_col0\" class=\"data row7 col0\" >fr1Hz2acAb3OaL3l6DyKNg</td>\n",
       "      <td id=\"T_9edee_row7_col1\" class=\"data row7 col1\" >387</td>\n",
       "      <td id=\"T_9edee_row7_col2\" class=\"data row7 col2\" >1447</td>\n",
       "      <td id=\"T_9edee_row7_col3\" class=\"data row7 col3\" >3.95</td>\n",
       "      <td id=\"T_9edee_row7_col4\" class=\"data row7 col4\" >15356</td>\n",
       "      <td id=\"T_9edee_row7_col5\" class=\"data row7 col5\" >10.61</td>\n",
       "    </tr>\n",
       "    <tr>\n",
       "      <th id=\"T_9edee_level0_row8\" class=\"row_heading level0 row8\" >8</th>\n",
       "      <td id=\"T_9edee_row8_col0\" class=\"data row8 col0\" >wXdbkFZsfDR7utJvbWElyA</td>\n",
       "      <td id=\"T_9edee_row8_col1\" class=\"data row8 col1\" >250</td>\n",
       "      <td id=\"T_9edee_row8_col2\" class=\"data row8 col2\" >1396</td>\n",
       "      <td id=\"T_9edee_row8_col3\" class=\"data row8 col3\" >4.21</td>\n",
       "      <td id=\"T_9edee_row8_col4\" class=\"data row8 col4\" >5715</td>\n",
       "      <td id=\"T_9edee_row8_col5\" class=\"data row8 col5\" >4.09</td>\n",
       "    </tr>\n",
       "    <tr>\n",
       "      <th id=\"T_9edee_level0_row9\" class=\"row_heading level0 row9\" >9</th>\n",
       "      <td id=\"T_9edee_row9_col0\" class=\"data row9 col0\" >Um5bfs5DH6eizgjH3xZsvg</td>\n",
       "      <td id=\"T_9edee_row9_col1\" class=\"data row9 col1\" >203</td>\n",
       "      <td id=\"T_9edee_row9_col2\" class=\"data row9 col2\" >1391</td>\n",
       "      <td id=\"T_9edee_row9_col3\" class=\"data row9 col3\" >3.80</td>\n",
       "      <td id=\"T_9edee_row9_col4\" class=\"data row9 col4\" >4645</td>\n",
       "      <td id=\"T_9edee_row9_col5\" class=\"data row9 col5\" >3.34</td>\n",
       "    </tr>\n",
       "    <tr>\n",
       "      <th id=\"T_9edee_level0_row10\" class=\"row_heading level0 row10\" >10</th>\n",
       "      <td id=\"T_9edee_row10_col0\" class=\"data row10 col0\" >qjfMBIZpQT9DDtw_BWCopQ</td>\n",
       "      <td id=\"T_9edee_row10_col1\" class=\"data row10 col1\" >278</td>\n",
       "      <td id=\"T_9edee_row10_col2\" class=\"data row10 col2\" >1324</td>\n",
       "      <td id=\"T_9edee_row10_col3\" class=\"data row10 col3\" >3.90</td>\n",
       "      <td id=\"T_9edee_row10_col4\" class=\"data row10 col4\" >9127</td>\n",
       "      <td id=\"T_9edee_row10_col5\" class=\"data row10 col5\" >6.89</td>\n",
       "    </tr>\n",
       "    <tr>\n",
       "      <th id=\"T_9edee_level0_row11\" class=\"row_heading level0 row11\" >11</th>\n",
       "      <td id=\"T_9edee_row11_col0\" class=\"data row11 col0\" >VL12EhEdT4OWqGq0nIqkzw</td>\n",
       "      <td id=\"T_9edee_row11_col1\" class=\"data row11 col1\" >142</td>\n",
       "      <td id=\"T_9edee_row11_col2\" class=\"data row11 col2\" >1308</td>\n",
       "      <td id=\"T_9edee_row11_col3\" class=\"data row11 col3\" >3.51</td>\n",
       "      <td id=\"T_9edee_row11_col4\" class=\"data row11 col4\" >4405</td>\n",
       "      <td id=\"T_9edee_row11_col5\" class=\"data row11 col5\" >3.37</td>\n",
       "    </tr>\n",
       "    <tr>\n",
       "      <th id=\"T_9edee_level0_row12\" class=\"row_heading level0 row12\" >12</th>\n",
       "      <td id=\"T_9edee_row12_col0\" class=\"data row12 col0\" >bJ5FtCtZX3ZZacz2_2PJjA</td>\n",
       "      <td id=\"T_9edee_row12_col1\" class=\"data row12 col1\" >287</td>\n",
       "      <td id=\"T_9edee_row12_col2\" class=\"data row12 col2\" >1298</td>\n",
       "      <td id=\"T_9edee_row12_col3\" class=\"data row12 col3\" >4.08</td>\n",
       "      <td id=\"T_9edee_row12_col4\" class=\"data row12 col4\" >7302</td>\n",
       "      <td id=\"T_9edee_row12_col5\" class=\"data row12 col5\" >5.63</td>\n",
       "    </tr>\n",
       "    <tr>\n",
       "      <th id=\"T_9edee_level0_row13\" class=\"row_heading level0 row13\" >13</th>\n",
       "      <td id=\"T_9edee_row13_col0\" class=\"data row13 col0\" >pou3BbKsIozfH50rxmnMew</td>\n",
       "      <td id=\"T_9edee_row13_col1\" class=\"data row13 col1\" >914</td>\n",
       "      <td id=\"T_9edee_row13_col2\" class=\"data row13 col2\" >1247</td>\n",
       "      <td id=\"T_9edee_row13_col3\" class=\"data row13 col3\" >4.24</td>\n",
       "      <td id=\"T_9edee_row13_col4\" class=\"data row13 col4\" >11557</td>\n",
       "      <td id=\"T_9edee_row13_col5\" class=\"data row13 col5\" >9.27</td>\n",
       "    </tr>\n",
       "    <tr>\n",
       "      <th id=\"T_9edee_level0_row14\" class=\"row_heading level0 row14\" >14</th>\n",
       "      <td id=\"T_9edee_row14_col0\" class=\"data row14 col0\" >ouODopBKF3AqfCkuQEnrDg</td>\n",
       "      <td id=\"T_9edee_row14_col1\" class=\"data row14 col1\" >134</td>\n",
       "      <td id=\"T_9edee_row14_col2\" class=\"data row14 col2\" >1129</td>\n",
       "      <td id=\"T_9edee_row14_col3\" class=\"data row14 col3\" >3.60</td>\n",
       "      <td id=\"T_9edee_row14_col4\" class=\"data row14 col4\" >2123</td>\n",
       "      <td id=\"T_9edee_row14_col5\" class=\"data row14 col5\" >1.88</td>\n",
       "    </tr>\n",
       "  </tbody>\n",
       "</table>\n"
      ],
      "text/plain": [
       "<pandas.io.formats.style.Styler at 0x229d999d450>"
      ]
     },
     "metadata": {},
     "output_type": "display_data"
    }
   ],
   "source": [
    "# Users with the most reviews\n",
    "df = cur.execute('''\n",
    "                SELECT\n",
    "                    yu.user_id,\n",
    "                    yu.fans,\n",
    "                    COUNT(yr.review_id) AS reviews_written,\n",
    "                    ROUND(AVG(yr.stars), 2) AS avg_rating,\n",
    "                    SUM(yr.useful_votes) AS total_useful_votes,\n",
    "                    ROUND(AVG(yr.useful_votes), 2) AS avg_useful_votes\n",
    "                FROM yelp_users yu\n",
    "                JOIN yelp_reviews yr\n",
    "                    ON yu.user_id = yr.user_id\n",
    "                GROUP BY yu.user_id, yu.fans\n",
    "                ORDER BY COUNT(yr.review_id) DESC\n",
    "                LIMIT 15;\n",
    "                 ''').fetch_pandas_all()\n",
    "\n",
    "styles = [{\n",
    "    'selector': 'caption', 'props': 'text-align: left;'\n",
    "}]\n",
    "\n",
    "display(df.style.set_caption('<span style=\"font-size: 20px;\">Table 34: Most Active Reviewers</span>').set_table_styles(styles))"
   ]
  },
  {
   "cell_type": "markdown",
   "id": "6d038959",
   "metadata": {},
   "source": [
    "### Most Helpful Reviewers (Min 100 Reviews)"
   ]
  },
  {
   "cell_type": "code",
   "execution_count": 56,
   "id": "2eecf1f8",
   "metadata": {},
   "outputs": [
    {
     "data": {
      "text/html": [
       "<style type=\"text/css\">\n",
       "#T_743b8 caption {\n",
       "  text-align: left;\n",
       "}\n",
       "</style>\n",
       "<table id=\"T_743b8\">\n",
       "  <caption><span style=\"font-size: 20px;\">Table 35: Most Helpful Reviewers (Min 100 Reviews)</span></caption>\n",
       "  <thead>\n",
       "    <tr>\n",
       "      <th class=\"blank level0\" >&nbsp;</th>\n",
       "      <th id=\"T_743b8_level0_col0\" class=\"col_heading level0 col0\" >USER_ID</th>\n",
       "      <th id=\"T_743b8_level0_col1\" class=\"col_heading level0 col1\" >FANS</th>\n",
       "      <th id=\"T_743b8_level0_col2\" class=\"col_heading level0 col2\" >REVIEWS_WRITTEN</th>\n",
       "      <th id=\"T_743b8_level0_col3\" class=\"col_heading level0 col3\" >AVG_RATING</th>\n",
       "      <th id=\"T_743b8_level0_col4\" class=\"col_heading level0 col4\" >TOTAL_USEFUL_VOTES</th>\n",
       "      <th id=\"T_743b8_level0_col5\" class=\"col_heading level0 col5\" >AVG_USEFUL_VOTES</th>\n",
       "    </tr>\n",
       "  </thead>\n",
       "  <tbody>\n",
       "    <tr>\n",
       "      <th id=\"T_743b8_level0_row0\" class=\"row_heading level0 row0\" >0</th>\n",
       "      <td id=\"T_743b8_row0_col0\" class=\"data row0 col0\" >tsMF0FcFcHZ8i28WzWtQXw</td>\n",
       "      <td id=\"T_743b8_row0_col1\" class=\"data row0 col1\" >391</td>\n",
       "      <td id=\"T_743b8_row0_col2\" class=\"data row0 col2\" >218</td>\n",
       "      <td id=\"T_743b8_row0_col3\" class=\"data row0 col3\" >3.83</td>\n",
       "      <td id=\"T_743b8_row0_col4\" class=\"data row0 col4\" >15112</td>\n",
       "      <td id=\"T_743b8_row0_col5\" class=\"data row0 col5\" >69.32</td>\n",
       "    </tr>\n",
       "    <tr>\n",
       "      <th id=\"T_743b8_level0_row1\" class=\"row_heading level0 row1\" >1</th>\n",
       "      <td id=\"T_743b8_row1_col0\" class=\"data row1 col0\" >A4bsa7ykYRVCnb4h2vZALw</td>\n",
       "      <td id=\"T_743b8_row1_col1\" class=\"data row1 col1\" >737</td>\n",
       "      <td id=\"T_743b8_row1_col2\" class=\"data row1 col2\" >298</td>\n",
       "      <td id=\"T_743b8_row1_col3\" class=\"data row1 col3\" >4.08</td>\n",
       "      <td id=\"T_743b8_row1_col4\" class=\"data row1 col4\" >17702</td>\n",
       "      <td id=\"T_743b8_row1_col5\" class=\"data row1 col5\" >59.40</td>\n",
       "    </tr>\n",
       "    <tr>\n",
       "      <th id=\"T_743b8_level0_row2\" class=\"row_heading level0 row2\" >2</th>\n",
       "      <td id=\"T_743b8_row2_col0\" class=\"data row2 col0\" >YTu0c-1I9ECeksIgoHXFPA</td>\n",
       "      <td id=\"T_743b8_row2_col1\" class=\"data row2 col1\" >558</td>\n",
       "      <td id=\"T_743b8_row2_col2\" class=\"data row2 col2\" >120</td>\n",
       "      <td id=\"T_743b8_row2_col3\" class=\"data row2 col3\" >4.53</td>\n",
       "      <td id=\"T_743b8_row2_col4\" class=\"data row2 col4\" >5290</td>\n",
       "      <td id=\"T_743b8_row2_col5\" class=\"data row2 col5\" >44.08</td>\n",
       "    </tr>\n",
       "    <tr>\n",
       "      <th id=\"T_743b8_level0_row3\" class=\"row_heading level0 row3\" >3</th>\n",
       "      <td id=\"T_743b8_row3_col0\" class=\"data row3 col0\" >6jjHo9Lilv3kTy87pm2ycw</td>\n",
       "      <td id=\"T_743b8_row3_col1\" class=\"data row3 col1\" >600</td>\n",
       "      <td id=\"T_743b8_row3_col2\" class=\"data row3 col2\" >273</td>\n",
       "      <td id=\"T_743b8_row3_col3\" class=\"data row3 col3\" >4.28</td>\n",
       "      <td id=\"T_743b8_row3_col4\" class=\"data row3 col4\" >11476</td>\n",
       "      <td id=\"T_743b8_row3_col5\" class=\"data row3 col5\" >42.04</td>\n",
       "    </tr>\n",
       "    <tr>\n",
       "      <th id=\"T_743b8_level0_row4\" class=\"row_heading level0 row4\" >4</th>\n",
       "      <td id=\"T_743b8_row4_col0\" class=\"data row4 col0\" >Hm0diOkWwpo9zotlJlqMUQ</td>\n",
       "      <td id=\"T_743b8_row4_col1\" class=\"data row4 col1\" >634</td>\n",
       "      <td id=\"T_743b8_row4_col2\" class=\"data row4 col2\" >103</td>\n",
       "      <td id=\"T_743b8_row4_col3\" class=\"data row4 col3\" >4.17</td>\n",
       "      <td id=\"T_743b8_row4_col4\" class=\"data row4 col4\" >4223</td>\n",
       "      <td id=\"T_743b8_row4_col5\" class=\"data row4 col5\" >41.00</td>\n",
       "    </tr>\n",
       "    <tr>\n",
       "      <th id=\"T_743b8_level0_row5\" class=\"row_heading level0 row5\" >5</th>\n",
       "      <td id=\"T_743b8_row5_col0\" class=\"data row5 col0\" >wzUFZ3DaU7k9R2S54IMPfg</td>\n",
       "      <td id=\"T_743b8_row5_col1\" class=\"data row5 col1\" >174</td>\n",
       "      <td id=\"T_743b8_row5_col2\" class=\"data row5 col2\" >402</td>\n",
       "      <td id=\"T_743b8_row5_col3\" class=\"data row5 col3\" >4.38</td>\n",
       "      <td id=\"T_743b8_row5_col4\" class=\"data row5 col4\" >13400</td>\n",
       "      <td id=\"T_743b8_row5_col5\" class=\"data row5 col5\" >33.33</td>\n",
       "    </tr>\n",
       "    <tr>\n",
       "      <th id=\"T_743b8_level0_row6\" class=\"row_heading level0 row6\" >6</th>\n",
       "      <td id=\"T_743b8_row6_col0\" class=\"data row6 col0\" >a4mO387_O77ebmv8AlQB3A</td>\n",
       "      <td id=\"T_743b8_row6_col1\" class=\"data row6 col1\" >539</td>\n",
       "      <td id=\"T_743b8_row6_col2\" class=\"data row6 col2\" >131</td>\n",
       "      <td id=\"T_743b8_row6_col3\" class=\"data row6 col3\" >3.97</td>\n",
       "      <td id=\"T_743b8_row6_col4\" class=\"data row6 col4\" >3449</td>\n",
       "      <td id=\"T_743b8_row6_col5\" class=\"data row6 col5\" >26.33</td>\n",
       "    </tr>\n",
       "    <tr>\n",
       "      <th id=\"T_743b8_level0_row7\" class=\"row_heading level0 row7\" >7</th>\n",
       "      <td id=\"T_743b8_row7_col0\" class=\"data row7 col0\" >BmVwbsL8l0imz4slonyMaA</td>\n",
       "      <td id=\"T_743b8_row7_col1\" class=\"data row7 col1\" >713</td>\n",
       "      <td id=\"T_743b8_row7_col2\" class=\"data row7 col2\" >250</td>\n",
       "      <td id=\"T_743b8_row7_col3\" class=\"data row7 col3\" >4.37</td>\n",
       "      <td id=\"T_743b8_row7_col4\" class=\"data row7 col4\" >6097</td>\n",
       "      <td id=\"T_743b8_row7_col5\" class=\"data row7 col5\" >24.39</td>\n",
       "    </tr>\n",
       "    <tr>\n",
       "      <th id=\"T_743b8_level0_row8\" class=\"row_heading level0 row8\" >8</th>\n",
       "      <td id=\"T_743b8_row8_col0\" class=\"data row8 col0\" >lMY8NBPyzlPbbu-KBYfD9A</td>\n",
       "      <td id=\"T_743b8_row8_col1\" class=\"data row8 col1\" >740</td>\n",
       "      <td id=\"T_743b8_row8_col2\" class=\"data row8 col2\" >744</td>\n",
       "      <td id=\"T_743b8_row8_col3\" class=\"data row8 col3\" >4.13</td>\n",
       "      <td id=\"T_743b8_row8_col4\" class=\"data row8 col4\" >17358</td>\n",
       "      <td id=\"T_743b8_row8_col5\" class=\"data row8 col5\" >23.33</td>\n",
       "    </tr>\n",
       "    <tr>\n",
       "      <th id=\"T_743b8_level0_row9\" class=\"row_heading level0 row9\" >9</th>\n",
       "      <td id=\"T_743b8_row9_col0\" class=\"data row9 col0\" >4DyMRBKrokax6d8LCI3GAw</td>\n",
       "      <td id=\"T_743b8_row9_col1\" class=\"data row9 col1\" >563</td>\n",
       "      <td id=\"T_743b8_row9_col2\" class=\"data row9 col2\" >228</td>\n",
       "      <td id=\"T_743b8_row9_col3\" class=\"data row9 col3\" >4.66</td>\n",
       "      <td id=\"T_743b8_row9_col4\" class=\"data row9 col4\" >5298</td>\n",
       "      <td id=\"T_743b8_row9_col5\" class=\"data row9 col5\" >23.24</td>\n",
       "    </tr>\n",
       "    <tr>\n",
       "      <th id=\"T_743b8_level0_row10\" class=\"row_heading level0 row10\" >10</th>\n",
       "      <td id=\"T_743b8_row10_col0\" class=\"data row10 col0\" >i_DR3vdE73nVm2GlMbGpGA</td>\n",
       "      <td id=\"T_743b8_row10_col1\" class=\"data row10 col1\" >1295</td>\n",
       "      <td id=\"T_743b8_row10_col2\" class=\"data row10 col2\" >275</td>\n",
       "      <td id=\"T_743b8_row10_col3\" class=\"data row10 col3\" >4.14</td>\n",
       "      <td id=\"T_743b8_row10_col4\" class=\"data row10 col4\" >6326</td>\n",
       "      <td id=\"T_743b8_row10_col5\" class=\"data row10 col5\" >23.00</td>\n",
       "    </tr>\n",
       "    <tr>\n",
       "      <th id=\"T_743b8_level0_row11\" class=\"row_heading level0 row11\" >11</th>\n",
       "      <td id=\"T_743b8_row11_col0\" class=\"data row11 col0\" >OXlfFHsM15JYh_lvat2w2w</td>\n",
       "      <td id=\"T_743b8_row11_col1\" class=\"data row11 col1\" >185</td>\n",
       "      <td id=\"T_743b8_row11_col2\" class=\"data row11 col2\" >104</td>\n",
       "      <td id=\"T_743b8_row11_col3\" class=\"data row11 col3\" >4.14</td>\n",
       "      <td id=\"T_743b8_row11_col4\" class=\"data row11 col4\" >2378</td>\n",
       "      <td id=\"T_743b8_row11_col5\" class=\"data row11 col5\" >22.87</td>\n",
       "    </tr>\n",
       "    <tr>\n",
       "      <th id=\"T_743b8_level0_row12\" class=\"row_heading level0 row12\" >12</th>\n",
       "      <td id=\"T_743b8_row12_col0\" class=\"data row12 col0\" >Kj-u8Yq1d3mLKitWsDAxpg</td>\n",
       "      <td id=\"T_743b8_row12_col1\" class=\"data row12 col1\" >290</td>\n",
       "      <td id=\"T_743b8_row12_col2\" class=\"data row12 col2\" >383</td>\n",
       "      <td id=\"T_743b8_row12_col3\" class=\"data row12 col3\" >3.36</td>\n",
       "      <td id=\"T_743b8_row12_col4\" class=\"data row12 col4\" >8619</td>\n",
       "      <td id=\"T_743b8_row12_col5\" class=\"data row12 col5\" >22.50</td>\n",
       "    </tr>\n",
       "    <tr>\n",
       "      <th id=\"T_743b8_level0_row13\" class=\"row_heading level0 row13\" >13</th>\n",
       "      <td id=\"T_743b8_row13_col0\" class=\"data row13 col0\" >nAPU1-75Gqg71NGr_HosFA</td>\n",
       "      <td id=\"T_743b8_row13_col1\" class=\"data row13 col1\" >258</td>\n",
       "      <td id=\"T_743b8_row13_col2\" class=\"data row13 col2\" >134</td>\n",
       "      <td id=\"T_743b8_row13_col3\" class=\"data row13 col3\" >3.89</td>\n",
       "      <td id=\"T_743b8_row13_col4\" class=\"data row13 col4\" >3006</td>\n",
       "      <td id=\"T_743b8_row13_col5\" class=\"data row13 col5\" >22.43</td>\n",
       "    </tr>\n",
       "    <tr>\n",
       "      <th id=\"T_743b8_level0_row14\" class=\"row_heading level0 row14\" >14</th>\n",
       "      <td id=\"T_743b8_row14_col0\" class=\"data row14 col0\" >L4iT9ZCNxS2YxTzc2G5ucg</td>\n",
       "      <td id=\"T_743b8_row14_col1\" class=\"data row14 col1\" >225</td>\n",
       "      <td id=\"T_743b8_row14_col2\" class=\"data row14 col2\" >202</td>\n",
       "      <td id=\"T_743b8_row14_col3\" class=\"data row14 col3\" >4.56</td>\n",
       "      <td id=\"T_743b8_row14_col4\" class=\"data row14 col4\" >4383</td>\n",
       "      <td id=\"T_743b8_row14_col5\" class=\"data row14 col5\" >21.70</td>\n",
       "    </tr>\n",
       "  </tbody>\n",
       "</table>\n"
      ],
      "text/plain": [
       "<pandas.io.formats.style.Styler at 0x229d999d450>"
      ]
     },
     "metadata": {},
     "output_type": "display_data"
    }
   ],
   "source": [
    "# Users with the most useful votes per review (min 100 reviews)\n",
    "df = cur.execute('''\n",
    "                SELECT\n",
    "                    yu.user_id,\n",
    "                    yu.fans,\n",
    "                    COUNT(yr.review_id) AS reviews_written,\n",
    "                    ROUND(AVG(yr.stars), 2) AS avg_rating,\n",
    "                    SUM(yr.useful_votes) AS total_useful_votes,\n",
    "                    ROUND(AVG(yr.useful_votes), 2) AS avg_useful_votes\n",
    "                FROM yelp_users yu\n",
    "                JOIN yelp_reviews yr\n",
    "                    ON yu.user_id = yr.user_id\n",
    "                GROUP BY yu.user_id, yu.fans\n",
    "                HAVING COUNT(yr.review_id) >= 100\n",
    "                ORDER BY ROUND(AVG(yr.useful_votes), 2) DESC\n",
    "                LIMIT 15;\n",
    "                 ''').fetch_pandas_all()\n",
    "\n",
    "styles = [{\n",
    "    'selector': 'caption', 'props': 'text-align: left;'\n",
    "}]\n",
    "\n",
    "display(df.style.set_caption('<span style=\"font-size: 20px;\">Table 35: Most Helpful Reviewers (Min 100 Reviews)</span>').set_table_styles(styles))"
   ]
  },
  {
   "cell_type": "markdown",
   "id": "c3d829fb",
   "metadata": {},
   "source": [
    "## Comparative User Metrics"
   ]
  },
  {
   "cell_type": "markdown",
   "id": "a1f6a361",
   "metadata": {},
   "source": [
    "### Review Metrics: Elite vs. Non-Elite Users"
   ]
  },
  {
   "cell_type": "code",
   "execution_count": 57,
   "id": "651eb7d5",
   "metadata": {},
   "outputs": [
    {
     "data": {
      "text/html": [
       "<style type=\"text/css\">\n",
       "#T_2d3f3 caption {\n",
       "  text-align: left;\n",
       "}\n",
       "</style>\n",
       "<table id=\"T_2d3f3\">\n",
       "  <caption><span style=\"font-size: 20px;\">Table 36: Elite vs. Non-Elite User Review Metrics</span></caption>\n",
       "  <thead>\n",
       "    <tr>\n",
       "      <th class=\"blank level0\" >&nbsp;</th>\n",
       "      <th id=\"T_2d3f3_level0_col0\" class=\"col_heading level0 col0\" >USER_STATUS</th>\n",
       "      <th id=\"T_2d3f3_level0_col1\" class=\"col_heading level0 col1\" >AVG_RATING</th>\n",
       "      <th id=\"T_2d3f3_level0_col2\" class=\"col_heading level0 col2\" >AVG_USEFUL_VOTES</th>\n",
       "      <th id=\"T_2d3f3_level0_col3\" class=\"col_heading level0 col3\" >AVG_FUNNY_VOTES</th>\n",
       "      <th id=\"T_2d3f3_level0_col4\" class=\"col_heading level0 col4\" >AVG_COOL_VOTES</th>\n",
       "      <th id=\"T_2d3f3_level0_col5\" class=\"col_heading level0 col5\" >AVG_REVIEW_LENGTH</th>\n",
       "      <th id=\"T_2d3f3_level0_col6\" class=\"col_heading level0 col6\" >TOTAL_REVIEWS</th>\n",
       "    </tr>\n",
       "  </thead>\n",
       "  <tbody>\n",
       "    <tr>\n",
       "      <th id=\"T_2d3f3_level0_row0\" class=\"row_heading level0 row0\" >0</th>\n",
       "      <td id=\"T_2d3f3_row0_col0\" class=\"data row0 col0\" >Regular</td>\n",
       "      <td id=\"T_2d3f3_row0_col1\" class=\"data row0 col1\" >3.68</td>\n",
       "      <td id=\"T_2d3f3_row0_col2\" class=\"data row0 col2\" >0.82</td>\n",
       "      <td id=\"T_2d3f3_row0_col3\" class=\"data row0 col3\" >0.18</td>\n",
       "      <td id=\"T_2d3f3_row0_col4\" class=\"data row0 col4\" >0.21</td>\n",
       "      <td id=\"T_2d3f3_row0_col5\" class=\"data row0 col5\" >498.78</td>\n",
       "      <td id=\"T_2d3f3_row0_col6\" class=\"data row0 col6\" >5264589</td>\n",
       "    </tr>\n",
       "    <tr>\n",
       "      <th id=\"T_2d3f3_level0_row1\" class=\"row_heading level0 row1\" >1</th>\n",
       "      <td id=\"T_2d3f3_row1_col0\" class=\"data row1 col0\" >Elite</td>\n",
       "      <td id=\"T_2d3f3_row1_col1\" class=\"data row1 col1\" >3.97</td>\n",
       "      <td id=\"T_2d3f3_row1_col2\" class=\"data row1 col2\" >2.30</td>\n",
       "      <td id=\"T_2d3f3_row1_col3\" class=\"data row1 col3\" >0.76</td>\n",
       "      <td id=\"T_2d3f3_row1_col4\" class=\"data row1 col4\" >1.38</td>\n",
       "      <td id=\"T_2d3f3_row1_col5\" class=\"data row1 col5\" >778.23</td>\n",
       "      <td id=\"T_2d3f3_row1_col6\" class=\"data row1 col6\" >1725658</td>\n",
       "    </tr>\n",
       "  </tbody>\n",
       "</table>\n"
      ],
      "text/plain": [
       "<pandas.io.formats.style.Styler at 0x229d999d450>"
      ]
     },
     "metadata": {},
     "output_type": "display_data"
    }
   ],
   "source": [
    "# Comparing elite and non-elite user reviews\n",
    "df = cur.execute('''\n",
    "                WITH review_stats AS (\n",
    "                    SELECT \n",
    "                        IFF(LENGTH(elite) > 0, 'Elite', 'Regular') AS user_status,\n",
    "                        yr.stars,\n",
    "                        yr.useful_votes,\n",
    "                        yr.funny_votes,\n",
    "                        yr.cool_votes,\n",
    "                        yr.user_review\n",
    "                    FROM yelp_users yu\n",
    "                    JOIN yelp_reviews yr\n",
    "                        ON yu.user_id = yr.user_id\n",
    "                )\n",
    "                SELECT \n",
    "                    user_status,\n",
    "                    ROUND(AVG(stars), 2) AS avg_rating,\n",
    "                    ROUND(AVG(useful_votes), 2) AS avg_useful_votes,\n",
    "                    ROUND(AVG(funny_votes), 2) AS avg_funny_votes,\n",
    "                    ROUND(AVG(cool_votes), 2) AS avg_cool_votes,\n",
    "                    ROUND(AVG(LENGTH(user_review)), 2) AS avg_review_length,\n",
    "                    COUNT(*) AS total_reviews\n",
    "                FROM review_stats\n",
    "                GROUP BY user_status;\n",
    "                 ''').fetch_pandas_all()\n",
    "\n",
    "styles = [{\n",
    "    'selector': 'caption', 'props': 'text-align: left;'\n",
    "}]\n",
    "\n",
    "display(df.style.set_caption('<span style=\"font-size: 20px;\">Table 36: Elite vs. Non-Elite User Review Metrics</span>').set_table_styles(styles))"
   ]
  },
  {
   "cell_type": "markdown",
   "id": "0ef83310",
   "metadata": {},
   "source": [
    "### Review Engagement & Metrics by Star Rating"
   ]
  },
  {
   "cell_type": "code",
   "execution_count": 58,
   "id": "06158e18",
   "metadata": {},
   "outputs": [
    {
     "data": {
      "text/html": [
       "<style type=\"text/css\">\n",
       "#T_ae47d caption {\n",
       "  text-align: left;\n",
       "}\n",
       "</style>\n",
       "<table id=\"T_ae47d\">\n",
       "  <caption><span style=\"font-size: 20px;\">Table 37: Review Metrics by Star Rating</span></caption>\n",
       "  <thead>\n",
       "    <tr>\n",
       "      <th class=\"blank level0\" >&nbsp;</th>\n",
       "      <th id=\"T_ae47d_level0_col0\" class=\"col_heading level0 col0\" >RATING</th>\n",
       "      <th id=\"T_ae47d_level0_col1\" class=\"col_heading level0 col1\" >AVG_USEFUL_VOTES</th>\n",
       "      <th id=\"T_ae47d_level0_col2\" class=\"col_heading level0 col2\" >AVG_FUNNY_VOTES</th>\n",
       "      <th id=\"T_ae47d_level0_col3\" class=\"col_heading level0 col3\" >AVG_COOL_VOTES</th>\n",
       "      <th id=\"T_ae47d_level0_col4\" class=\"col_heading level0 col4\" >TOTAL_REVIEWS</th>\n",
       "      <th id=\"T_ae47d_level0_col5\" class=\"col_heading level0 col5\" >AVG_REVIEW_LENGTH</th>\n",
       "    </tr>\n",
       "  </thead>\n",
       "  <tbody>\n",
       "    <tr>\n",
       "      <th id=\"T_ae47d_level0_row0\" class=\"row_heading level0 row0\" >0</th>\n",
       "      <td id=\"T_ae47d_row0_col0\" class=\"data row0 col0\" >1 Star</td>\n",
       "      <td id=\"T_ae47d_row0_col1\" class=\"data row0 col1\" >1.67</td>\n",
       "      <td id=\"T_ae47d_row0_col2\" class=\"data row0 col2\" >0.42</td>\n",
       "      <td id=\"T_ae47d_row0_col3\" class=\"data row0 col3\" >0.15</td>\n",
       "      <td id=\"T_ae47d_row0_col4\" class=\"data row0 col4\" >1069561</td>\n",
       "      <td id=\"T_ae47d_row0_col5\" class=\"data row0 col5\" >713.78</td>\n",
       "    </tr>\n",
       "    <tr>\n",
       "      <th id=\"T_ae47d_level0_row1\" class=\"row_heading level0 row1\" >1</th>\n",
       "      <td id=\"T_ae47d_row1_col0\" class=\"data row1 col0\" >2 Star</td>\n",
       "      <td id=\"T_ae47d_row1_col1\" class=\"data row1 col1\" >1.35</td>\n",
       "      <td id=\"T_ae47d_row1_col2\" class=\"data row1 col2\" >0.43</td>\n",
       "      <td id=\"T_ae47d_row1_col3\" class=\"data row1 col3\" >0.26</td>\n",
       "      <td id=\"T_ae47d_row1_col4\" class=\"data row1 col4\" >544240</td>\n",
       "      <td id=\"T_ae47d_row1_col5\" class=\"data row1 col5\" >721.08</td>\n",
       "    </tr>\n",
       "    <tr>\n",
       "      <th id=\"T_ae47d_level0_row2\" class=\"row_heading level0 row2\" >2</th>\n",
       "      <td id=\"T_ae47d_row2_col0\" class=\"data row2 col0\" >3 Star</td>\n",
       "      <td id=\"T_ae47d_row2_col1\" class=\"data row2 col1\" >1.18</td>\n",
       "      <td id=\"T_ae47d_row2_col2\" class=\"data row2 col2\" >0.40</td>\n",
       "      <td id=\"T_ae47d_row2_col3\" class=\"data row2 col3\" >0.47</td>\n",
       "      <td id=\"T_ae47d_row2_col4\" class=\"data row2 col4\" >691934</td>\n",
       "      <td id=\"T_ae47d_row2_col5\" class=\"data row2 col5\" >669.20</td>\n",
       "    </tr>\n",
       "    <tr>\n",
       "      <th id=\"T_ae47d_level0_row3\" class=\"row_heading level0 row3\" >3</th>\n",
       "      <td id=\"T_ae47d_row3_col0\" class=\"data row3 col0\" >4 Star</td>\n",
       "      <td id=\"T_ae47d_row3_col1\" class=\"data row3 col1\" >1.23</td>\n",
       "      <td id=\"T_ae47d_row3_col2\" class=\"data row3 col2\" >0.38</td>\n",
       "      <td id=\"T_ae47d_row3_col3\" class=\"data row3 col3\" >0.74</td>\n",
       "      <td id=\"T_ae47d_row3_col4\" class=\"data row3 col4\" >1452918</td>\n",
       "      <td id=\"T_ae47d_row3_col5\" class=\"data row3 col5\" >587.50</td>\n",
       "    </tr>\n",
       "    <tr>\n",
       "      <th id=\"T_ae47d_level0_row4\" class=\"row_heading level0 row4\" >4</th>\n",
       "      <td id=\"T_ae47d_row4_col0\" class=\"data row4 col0\" >5 Star</td>\n",
       "      <td id=\"T_ae47d_row4_col1\" class=\"data row4 col1\" >0.97</td>\n",
       "      <td id=\"T_ae47d_row4_col2\" class=\"data row4 col2\" >0.24</td>\n",
       "      <td id=\"T_ae47d_row4_col3\" class=\"data row4 col3\" >0.55</td>\n",
       "      <td id=\"T_ae47d_row4_col4\" class=\"data row4 col4\" >3231627</td>\n",
       "      <td id=\"T_ae47d_row4_col5\" class=\"data row4 col5\" >463.02</td>\n",
       "    </tr>\n",
       "  </tbody>\n",
       "</table>\n"
      ],
      "text/plain": [
       "<pandas.io.formats.style.Styler at 0x229d999d450>"
      ]
     },
     "metadata": {},
     "output_type": "display_data"
    }
   ],
   "source": [
    "# Comparing engagement on reviews of each star value\n",
    "df = cur.execute('''\n",
    "                WITH review_stats AS (\n",
    "                    SELECT \n",
    "                        CASE\n",
    "                            WHEN stars = 1 THEN '1 Star'\n",
    "                            WHEN stars = 2 THEN '2 Star'\n",
    "                            WHEN stars = 3 THEN '3 Star'\n",
    "                            WHEN stars = 4 THEN '4 Star'\n",
    "                            ELSE '5 Star'\n",
    "                        END AS rating,\n",
    "                        yr.stars,\n",
    "                        yr.useful_votes,\n",
    "                        yr.funny_votes,\n",
    "                        yr.cool_votes,\n",
    "                        yr.user_review\n",
    "                    FROM yelp_reviews yr\n",
    "                )\n",
    "                SELECT \n",
    "                    rating,\n",
    "                    ROUND(AVG(useful_votes), 2) AS avg_useful_votes,\n",
    "                    ROUND(AVG(funny_votes), 2) AS avg_funny_votes,\n",
    "                    ROUND(AVG(cool_votes), 2) AS avg_cool_votes,\n",
    "                    COUNT(*) AS total_reviews,\n",
    "                    ROUND(AVG(LENGTH(user_review)), 2) AS avg_review_length\n",
    "                FROM review_stats\n",
    "                GROUP BY rating\n",
    "                ORDER BY rating\n",
    "                 ''').fetch_pandas_all()\n",
    "\n",
    "styles = [{\n",
    "    'selector': 'caption', 'props': 'text-align: left;'\n",
    "}]\n",
    "\n",
    "display(df.style.set_caption('<span style=\"font-size: 20px;\">Table 37: Review Metrics by Star Rating</span>').set_table_styles(styles))"
   ]
  },
  {
   "cell_type": "markdown",
   "id": "863c0652",
   "metadata": {},
   "source": [
    "### Elite-Only Analysis"
   ]
  },
  {
   "cell_type": "code",
   "execution_count": 60,
   "id": "7af49a8c",
   "metadata": {},
   "outputs": [
    {
     "data": {
      "text/html": [
       "<style type=\"text/css\">\n",
       "#T_aee05 caption {\n",
       "  text-align: left;\n",
       "}\n",
       "</style>\n",
       "<table id=\"T_aee05\">\n",
       "  <caption><span style=\"font-size: 20px;\">Table 38: Elite Users Metrics</span></caption>\n",
       "  <thead>\n",
       "    <tr>\n",
       "      <th class=\"blank level0\" >&nbsp;</th>\n",
       "      <th id=\"T_aee05_level0_col0\" class=\"col_heading level0 col0\" >USER_ID</th>\n",
       "      <th id=\"T_aee05_level0_col1\" class=\"col_heading level0 col1\" >FANS</th>\n",
       "      <th id=\"T_aee05_level0_col2\" class=\"col_heading level0 col2\" >ACCOUNT_AGE_YRS</th>\n",
       "      <th id=\"T_aee05_level0_col3\" class=\"col_heading level0 col3\" >AVG_RATING</th>\n",
       "      <th id=\"T_aee05_level0_col4\" class=\"col_heading level0 col4\" >AVG_USEFUL_VOTES</th>\n",
       "      <th id=\"T_aee05_level0_col5\" class=\"col_heading level0 col5\" >AVG_FUNNY_VOTES</th>\n",
       "      <th id=\"T_aee05_level0_col6\" class=\"col_heading level0 col6\" >AVG_COOL_VOTES</th>\n",
       "      <th id=\"T_aee05_level0_col7\" class=\"col_heading level0 col7\" >AVG_REVIEW_LENGTH</th>\n",
       "      <th id=\"T_aee05_level0_col8\" class=\"col_heading level0 col8\" >TOTAL_REVIEWS</th>\n",
       "      <th id=\"T_aee05_level0_col9\" class=\"col_heading level0 col9\" >ELITE_YEARS</th>\n",
       "    </tr>\n",
       "  </thead>\n",
       "  <tbody>\n",
       "    <tr>\n",
       "      <th id=\"T_aee05_level0_row0\" class=\"row_heading level0 row0\" >0</th>\n",
       "      <td id=\"T_aee05_row0_col0\" class=\"data row0 col0\" >dKwzOOMQte1WbozogRMxmg</td>\n",
       "      <td id=\"T_aee05_row0_col1\" class=\"data row0 col1\" >4</td>\n",
       "      <td id=\"T_aee05_row0_col2\" class=\"data row0 col2\" >6.810000</td>\n",
       "      <td id=\"T_aee05_row0_col3\" class=\"data row0 col3\" >4.45</td>\n",
       "      <td id=\"T_aee05_row0_col4\" class=\"data row0 col4\" >0.72</td>\n",
       "      <td id=\"T_aee05_row0_col5\" class=\"data row0 col5\" >0.02</td>\n",
       "      <td id=\"T_aee05_row0_col6\" class=\"data row0 col6\" >0.26</td>\n",
       "      <td id=\"T_aee05_row0_col7\" class=\"data row0 col7\" >1042.53</td>\n",
       "      <td id=\"T_aee05_row0_col8\" class=\"data row0 col8\" >47</td>\n",
       "      <td id=\"T_aee05_row0_col9\" class=\"data row0 col9\" >2</td>\n",
       "    </tr>\n",
       "    <tr>\n",
       "      <th id=\"T_aee05_level0_row1\" class=\"row_heading level0 row1\" >1</th>\n",
       "      <td id=\"T_aee05_row1_col0\" class=\"data row1 col0\" >oq6T6FcKl0TA9LV_970_8Q</td>\n",
       "      <td id=\"T_aee05_row1_col1\" class=\"data row1 col1\" >23</td>\n",
       "      <td id=\"T_aee05_row1_col2\" class=\"data row1 col2\" >14.320000</td>\n",
       "      <td id=\"T_aee05_row1_col3\" class=\"data row1 col3\" >4.13</td>\n",
       "      <td id=\"T_aee05_row1_col4\" class=\"data row1 col4\" >3.09</td>\n",
       "      <td id=\"T_aee05_row1_col5\" class=\"data row1 col5\" >0.75</td>\n",
       "      <td id=\"T_aee05_row1_col6\" class=\"data row1 col6\" >1.48</td>\n",
       "      <td id=\"T_aee05_row1_col7\" class=\"data row1 col7\" >1003.05</td>\n",
       "      <td id=\"T_aee05_row1_col8\" class=\"data row1 col8\" >153</td>\n",
       "      <td id=\"T_aee05_row1_col9\" class=\"data row1 col9\" >4</td>\n",
       "    </tr>\n",
       "    <tr>\n",
       "      <th id=\"T_aee05_level0_row2\" class=\"row_heading level0 row2\" >2</th>\n",
       "      <td id=\"T_aee05_row2_col0\" class=\"data row2 col0\" >SqkbioT3gylpW6h2cV4EGA</td>\n",
       "      <td id=\"T_aee05_row2_col1\" class=\"data row2 col1\" >19</td>\n",
       "      <td id=\"T_aee05_row2_col2\" class=\"data row2 col2\" >13.820000</td>\n",
       "      <td id=\"T_aee05_row2_col3\" class=\"data row2 col3\" >3.83</td>\n",
       "      <td id=\"T_aee05_row2_col4\" class=\"data row2 col4\" >3.23</td>\n",
       "      <td id=\"T_aee05_row2_col5\" class=\"data row2 col5\" >0.66</td>\n",
       "      <td id=\"T_aee05_row2_col6\" class=\"data row2 col6\" >2.44</td>\n",
       "      <td id=\"T_aee05_row2_col7\" class=\"data row2 col7\" >674.25</td>\n",
       "      <td id=\"T_aee05_row2_col8\" class=\"data row2 col8\" >126</td>\n",
       "      <td id=\"T_aee05_row2_col9\" class=\"data row2 col9\" >5</td>\n",
       "    </tr>\n",
       "    <tr>\n",
       "      <th id=\"T_aee05_level0_row3\" class=\"row_heading level0 row3\" >3</th>\n",
       "      <td id=\"T_aee05_row3_col0\" class=\"data row3 col0\" >XsnL3gdNiPRnj9svFvz-EA</td>\n",
       "      <td id=\"T_aee05_row3_col1\" class=\"data row3 col1\" >52</td>\n",
       "      <td id=\"T_aee05_row3_col2\" class=\"data row3 col2\" >13.940000</td>\n",
       "      <td id=\"T_aee05_row3_col3\" class=\"data row3 col3\" >3.94</td>\n",
       "      <td id=\"T_aee05_row3_col4\" class=\"data row3 col4\" >3.12</td>\n",
       "      <td id=\"T_aee05_row3_col5\" class=\"data row3 col5\" >0.90</td>\n",
       "      <td id=\"T_aee05_row3_col6\" class=\"data row3 col6\" >1.63</td>\n",
       "      <td id=\"T_aee05_row3_col7\" class=\"data row3 col7\" >1028.30</td>\n",
       "      <td id=\"T_aee05_row3_col8\" class=\"data row3 col8\" >306</td>\n",
       "      <td id=\"T_aee05_row3_col9\" class=\"data row3 col9\" >10</td>\n",
       "    </tr>\n",
       "    <tr>\n",
       "      <th id=\"T_aee05_level0_row4\" class=\"row_heading level0 row4\" >4</th>\n",
       "      <td id=\"T_aee05_row4_col0\" class=\"data row4 col0\" >-FxsSuwDbIII7yo5BjHpiA</td>\n",
       "      <td id=\"T_aee05_row4_col1\" class=\"data row4 col1\" >48</td>\n",
       "      <td id=\"T_aee05_row4_col2\" class=\"data row4 col2\" >11.610000</td>\n",
       "      <td id=\"T_aee05_row4_col3\" class=\"data row4 col3\" >3.98</td>\n",
       "      <td id=\"T_aee05_row4_col4\" class=\"data row4 col4\" >2.15</td>\n",
       "      <td id=\"T_aee05_row4_col5\" class=\"data row4 col5\" >0.74</td>\n",
       "      <td id=\"T_aee05_row4_col6\" class=\"data row4 col6\" >1.51</td>\n",
       "      <td id=\"T_aee05_row4_col7\" class=\"data row4 col7\" >814.41</td>\n",
       "      <td id=\"T_aee05_row4_col8\" class=\"data row4 col8\" >399</td>\n",
       "      <td id=\"T_aee05_row4_col9\" class=\"data row4 col9\" >7</td>\n",
       "    </tr>\n",
       "    <tr>\n",
       "      <th id=\"T_aee05_level0_row5\" class=\"row_heading level0 row5\" >5</th>\n",
       "      <td id=\"T_aee05_row5_col0\" class=\"data row5 col0\" >qF31VMm3iSwn0eOaUSVBaw</td>\n",
       "      <td id=\"T_aee05_row5_col1\" class=\"data row5 col1\" >2</td>\n",
       "      <td id=\"T_aee05_row5_col2\" class=\"data row5 col2\" >8.210000</td>\n",
       "      <td id=\"T_aee05_row5_col3\" class=\"data row5 col3\" >4.06</td>\n",
       "      <td id=\"T_aee05_row5_col4\" class=\"data row5 col4\" >0.59</td>\n",
       "      <td id=\"T_aee05_row5_col5\" class=\"data row5 col5\" >0.06</td>\n",
       "      <td id=\"T_aee05_row5_col6\" class=\"data row5 col6\" >0.28</td>\n",
       "      <td id=\"T_aee05_row5_col7\" class=\"data row5 col7\" >632.31</td>\n",
       "      <td id=\"T_aee05_row5_col8\" class=\"data row5 col8\" >32</td>\n",
       "      <td id=\"T_aee05_row5_col9\" class=\"data row5 col9\" >1</td>\n",
       "    </tr>\n",
       "    <tr>\n",
       "      <th id=\"T_aee05_level0_row6\" class=\"row_heading level0 row6\" >6</th>\n",
       "      <td id=\"T_aee05_row6_col0\" class=\"data row6 col0\" >3MpDvy5gEdsbZh9-p92dHg</td>\n",
       "      <td id=\"T_aee05_row6_col1\" class=\"data row6 col1\" >38</td>\n",
       "      <td id=\"T_aee05_row6_col2\" class=\"data row6 col2\" >17.730000</td>\n",
       "      <td id=\"T_aee05_row6_col3\" class=\"data row6 col3\" >3.74</td>\n",
       "      <td id=\"T_aee05_row6_col4\" class=\"data row6 col4\" >1.38</td>\n",
       "      <td id=\"T_aee05_row6_col5\" class=\"data row6 col5\" >0.35</td>\n",
       "      <td id=\"T_aee05_row6_col6\" class=\"data row6 col6\" >0.48</td>\n",
       "      <td id=\"T_aee05_row6_col7\" class=\"data row6 col7\" >676.68</td>\n",
       "      <td id=\"T_aee05_row6_col8\" class=\"data row6 col8\" >123</td>\n",
       "      <td id=\"T_aee05_row6_col9\" class=\"data row6 col9\" >13</td>\n",
       "    </tr>\n",
       "    <tr>\n",
       "      <th id=\"T_aee05_level0_row7\" class=\"row_heading level0 row7\" >7</th>\n",
       "      <td id=\"T_aee05_row7_col0\" class=\"data row7 col0\" >TR7ezcRznfr1Jif7euZZJg</td>\n",
       "      <td id=\"T_aee05_row7_col1\" class=\"data row7 col1\" >185</td>\n",
       "      <td id=\"T_aee05_row7_col2\" class=\"data row7 col2\" >16.550000</td>\n",
       "      <td id=\"T_aee05_row7_col3\" class=\"data row7 col3\" >3.90</td>\n",
       "      <td id=\"T_aee05_row7_col4\" class=\"data row7 col4\" >5.60</td>\n",
       "      <td id=\"T_aee05_row7_col5\" class=\"data row7 col5\" >2.49</td>\n",
       "      <td id=\"T_aee05_row7_col6\" class=\"data row7 col6\" >3.25</td>\n",
       "      <td id=\"T_aee05_row7_col7\" class=\"data row7 col7\" >1191.61</td>\n",
       "      <td id=\"T_aee05_row7_col8\" class=\"data row7 col8\" >406</td>\n",
       "      <td id=\"T_aee05_row7_col9\" class=\"data row7 col9\" >10</td>\n",
       "    </tr>\n",
       "    <tr>\n",
       "      <th id=\"T_aee05_level0_row8\" class=\"row_heading level0 row8\" >8</th>\n",
       "      <td id=\"T_aee05_row8_col0\" class=\"data row8 col0\" >VTn42gDRqbhvxIuDz2XAKg</td>\n",
       "      <td id=\"T_aee05_row8_col1\" class=\"data row8 col1\" >7</td>\n",
       "      <td id=\"T_aee05_row8_col2\" class=\"data row8 col2\" >13.160000</td>\n",
       "      <td id=\"T_aee05_row8_col3\" class=\"data row8 col3\" >4.62</td>\n",
       "      <td id=\"T_aee05_row8_col4\" class=\"data row8 col4\" >0.62</td>\n",
       "      <td id=\"T_aee05_row8_col5\" class=\"data row8 col5\" >0.22</td>\n",
       "      <td id=\"T_aee05_row8_col6\" class=\"data row8 col6\" >0.46</td>\n",
       "      <td id=\"T_aee05_row8_col7\" class=\"data row8 col7\" >1098.27</td>\n",
       "      <td id=\"T_aee05_row8_col8\" class=\"data row8 col8\" >37</td>\n",
       "      <td id=\"T_aee05_row8_col9\" class=\"data row8 col9\" >2</td>\n",
       "    </tr>\n",
       "    <tr>\n",
       "      <th id=\"T_aee05_level0_row9\" class=\"row_heading level0 row9\" >9</th>\n",
       "      <td id=\"T_aee05_row9_col0\" class=\"data row9 col0\" >bTlonpHjT0p7gF8Ex9XlVw</td>\n",
       "      <td id=\"T_aee05_row9_col1\" class=\"data row9 col1\" >29</td>\n",
       "      <td id=\"T_aee05_row9_col2\" class=\"data row9 col2\" >15.830000</td>\n",
       "      <td id=\"T_aee05_row9_col3\" class=\"data row9 col3\" >4.56</td>\n",
       "      <td id=\"T_aee05_row9_col4\" class=\"data row9 col4\" >1.50</td>\n",
       "      <td id=\"T_aee05_row9_col5\" class=\"data row9 col5\" >0.56</td>\n",
       "      <td id=\"T_aee05_row9_col6\" class=\"data row9 col6\" >0.94</td>\n",
       "      <td id=\"T_aee05_row9_col7\" class=\"data row9 col7\" >558.81</td>\n",
       "      <td id=\"T_aee05_row9_col8\" class=\"data row9 col8\" >16</td>\n",
       "      <td id=\"T_aee05_row9_col9\" class=\"data row9 col9\" >10</td>\n",
       "    </tr>\n",
       "    <tr>\n",
       "      <th id=\"T_aee05_level0_row10\" class=\"row_heading level0 row10\" >10</th>\n",
       "      <td id=\"T_aee05_row10_col0\" class=\"data row10 col0\" >twnjVzD9eONjFKcwLzNStQ</td>\n",
       "      <td id=\"T_aee05_row10_col1\" class=\"data row10 col1\" >5</td>\n",
       "      <td id=\"T_aee05_row10_col2\" class=\"data row10 col2\" >11.830000</td>\n",
       "      <td id=\"T_aee05_row10_col3\" class=\"data row10 col3\" >3.94</td>\n",
       "      <td id=\"T_aee05_row10_col4\" class=\"data row10 col4\" >0.89</td>\n",
       "      <td id=\"T_aee05_row10_col5\" class=\"data row10 col5\" >0.11</td>\n",
       "      <td id=\"T_aee05_row10_col6\" class=\"data row10 col6\" >0.27</td>\n",
       "      <td id=\"T_aee05_row10_col7\" class=\"data row10 col7\" >716.14</td>\n",
       "      <td id=\"T_aee05_row10_col8\" class=\"data row10 col8\" >257</td>\n",
       "      <td id=\"T_aee05_row10_col9\" class=\"data row10 col9\" >4</td>\n",
       "    </tr>\n",
       "    <tr>\n",
       "      <th id=\"T_aee05_level0_row11\" class=\"row_heading level0 row11\" >11</th>\n",
       "      <td id=\"T_aee05_row11_col0\" class=\"data row11 col0\" >W67nXodRWTIa-d1NJlncvA</td>\n",
       "      <td id=\"T_aee05_row11_col1\" class=\"data row11 col1\" >61</td>\n",
       "      <td id=\"T_aee05_row11_col2\" class=\"data row11 col2\" >16.760000</td>\n",
       "      <td id=\"T_aee05_row11_col3\" class=\"data row11 col3\" >3.79</td>\n",
       "      <td id=\"T_aee05_row11_col4\" class=\"data row11 col4\" >2.66</td>\n",
       "      <td id=\"T_aee05_row11_col5\" class=\"data row11 col5\" >1.39</td>\n",
       "      <td id=\"T_aee05_row11_col6\" class=\"data row11 col6\" >1.45</td>\n",
       "      <td id=\"T_aee05_row11_col7\" class=\"data row11 col7\" >776.10</td>\n",
       "      <td id=\"T_aee05_row11_col8\" class=\"data row11 col8\" >409</td>\n",
       "      <td id=\"T_aee05_row11_col9\" class=\"data row11 col9\" >10</td>\n",
       "    </tr>\n",
       "    <tr>\n",
       "      <th id=\"T_aee05_level0_row12\" class=\"row_heading level0 row12\" >12</th>\n",
       "      <td id=\"T_aee05_row12_col0\" class=\"data row12 col0\" >CJmtS1Uk1KSsY2MWol_E7g</td>\n",
       "      <td id=\"T_aee05_row12_col1\" class=\"data row12 col1\" >139</td>\n",
       "      <td id=\"T_aee05_row12_col2\" class=\"data row12 col2\" >15.110000</td>\n",
       "      <td id=\"T_aee05_row12_col3\" class=\"data row12 col3\" >3.66</td>\n",
       "      <td id=\"T_aee05_row12_col4\" class=\"data row12 col4\" >1.53</td>\n",
       "      <td id=\"T_aee05_row12_col5\" class=\"data row12 col5\" >0.30</td>\n",
       "      <td id=\"T_aee05_row12_col6\" class=\"data row12 col6\" >0.52</td>\n",
       "      <td id=\"T_aee05_row12_col7\" class=\"data row12 col7\" >1928.05</td>\n",
       "      <td id=\"T_aee05_row12_col8\" class=\"data row12 col8\" >116</td>\n",
       "      <td id=\"T_aee05_row12_col9\" class=\"data row12 col9\" >12</td>\n",
       "    </tr>\n",
       "    <tr>\n",
       "      <th id=\"T_aee05_level0_row13\" class=\"row_heading level0 row13\" >13</th>\n",
       "      <td id=\"T_aee05_row13_col0\" class=\"data row13 col0\" >HE4i-WaZGp1SY8XmfXeYZQ</td>\n",
       "      <td id=\"T_aee05_row13_col1\" class=\"data row13 col1\" >4</td>\n",
       "      <td id=\"T_aee05_row13_col2\" class=\"data row13 col2\" >14.980000</td>\n",
       "      <td id=\"T_aee05_row13_col3\" class=\"data row13 col3\" >5.00</td>\n",
       "      <td id=\"T_aee05_row13_col4\" class=\"data row13 col4\" >0.00</td>\n",
       "      <td id=\"T_aee05_row13_col5\" class=\"data row13 col5\" >0.00</td>\n",
       "      <td id=\"T_aee05_row13_col6\" class=\"data row13 col6\" >0.00</td>\n",
       "      <td id=\"T_aee05_row13_col7\" class=\"data row13 col7\" >419.00</td>\n",
       "      <td id=\"T_aee05_row13_col8\" class=\"data row13 col8\" >4</td>\n",
       "      <td id=\"T_aee05_row13_col9\" class=\"data row13 col9\" >4</td>\n",
       "    </tr>\n",
       "    <tr>\n",
       "      <th id=\"T_aee05_level0_row14\" class=\"row_heading level0 row14\" >14</th>\n",
       "      <td id=\"T_aee05_row14_col0\" class=\"data row14 col0\" >L8Euta_K7ZDA5iwBHDyhbA</td>\n",
       "      <td id=\"T_aee05_row14_col1\" class=\"data row14 col1\" >73</td>\n",
       "      <td id=\"T_aee05_row14_col2\" class=\"data row14 col2\" >11.870000</td>\n",
       "      <td id=\"T_aee05_row14_col3\" class=\"data row14 col3\" >4.28</td>\n",
       "      <td id=\"T_aee05_row14_col4\" class=\"data row14 col4\" >1.95</td>\n",
       "      <td id=\"T_aee05_row14_col5\" class=\"data row14 col5\" >0.28</td>\n",
       "      <td id=\"T_aee05_row14_col6\" class=\"data row14 col6\" >1.20</td>\n",
       "      <td id=\"T_aee05_row14_col7\" class=\"data row14 col7\" >802.17</td>\n",
       "      <td id=\"T_aee05_row14_col8\" class=\"data row14 col8\" >283</td>\n",
       "      <td id=\"T_aee05_row14_col9\" class=\"data row14 col9\" >7</td>\n",
       "    </tr>\n",
       "  </tbody>\n",
       "</table>\n"
      ],
      "text/plain": [
       "<pandas.io.formats.style.Styler at 0x229ea7af4d0>"
      ]
     },
     "metadata": {},
     "output_type": "display_data"
    }
   ],
   "source": [
    "# Exploring stats for elite users\n",
    "df = cur.execute('''\n",
    "                WITH review_stats AS (\n",
    "                    SELECT \n",
    "                        yu.user_id,\n",
    "                        yu.elite,\n",
    "                        yr.stars,\n",
    "                        yr.useful_votes,\n",
    "                        yr.funny_votes,\n",
    "                        yr.cool_votes,\n",
    "                        yr.user_review,\n",
    "                        yu.fans,\n",
    "                        yu.yelping_since\n",
    "                    FROM yelp_users yu\n",
    "                    JOIN yelp_reviews yr\n",
    "                        ON yu.user_id = yr.user_id\n",
    "                    WHERE elite != ''\n",
    "                )\n",
    "                SELECT \n",
    "                    user_id,\n",
    "                    elite,\n",
    "                    fans,\n",
    "                    ROUND((CURRENT_DATE - yelping_since) / 365, 2) AS account_age_yrs,\n",
    "                    ROUND(AVG(stars), 2) AS avg_rating,\n",
    "                    ROUND(AVG(useful_votes), 2) AS avg_useful_votes,\n",
    "                    ROUND(AVG(funny_votes), 2) AS avg_funny_votes,\n",
    "                    ROUND(AVG(cool_votes), 2) AS avg_cool_votes,\n",
    "                    ROUND(AVG(LENGTH(user_review)), 2) AS avg_review_length,\n",
    "                    COUNT(*) AS total_reviews\n",
    "                FROM review_stats\n",
    "                GROUP BY user_id, elite, fans, yelping_since;\n",
    "                 ''').fetch_pandas_all()\n",
    "\n",
    "# Handle the unnecessary comma in the middle of 2020 and count the years a user has been elite and drop the column with each elite year\n",
    "df['ELITE_YEARS'] = df['ELITE'].str.replace('20,20', '2020', regex=True).str.split(',').str.len()\n",
    "\n",
    "df.drop(labels='ELITE', axis=1, inplace=True)\n",
    "\n",
    "styles = [{\n",
    "    'selector': 'caption', 'props': 'text-align: left;'\n",
    "}]\n",
    "\n",
    "display(df.head(15).style.set_caption('<span style=\"font-size: 20px;\">Table 38: Elite Users Metrics</span>').set_table_styles(styles))\n",
    "\n",
    "# TODO: find if elite status is correlated with any statistics"
   ]
  },
  {
   "cell_type": "markdown",
   "id": "ffad2e73",
   "metadata": {},
   "source": [
    "### Review Engagement & Metrics of Users in the High-fan vs. Low-fan Groups"
   ]
  },
  {
   "cell_type": "code",
   "execution_count": 61,
   "id": "939f80f4",
   "metadata": {},
   "outputs": [
    {
     "data": {
      "text/html": [
       "<style type=\"text/css\">\n",
       "#T_0e676 caption {\n",
       "  text-align: left;\n",
       "}\n",
       "</style>\n",
       "<table id=\"T_0e676\">\n",
       "  <caption><span style=\"font-size: 20px;\">Table 39: Review Engagement for Fan Groups</span></caption>\n",
       "  <thead>\n",
       "    <tr>\n",
       "      <th class=\"blank level0\" >&nbsp;</th>\n",
       "      <th id=\"T_0e676_level0_col0\" class=\"col_heading level0 col0\" >FAN_GROUP</th>\n",
       "      <th id=\"T_0e676_level0_col1\" class=\"col_heading level0 col1\" >AVG_RATING</th>\n",
       "      <th id=\"T_0e676_level0_col2\" class=\"col_heading level0 col2\" >AVG_USEFUL_VOTES</th>\n",
       "      <th id=\"T_0e676_level0_col3\" class=\"col_heading level0 col3\" >AVG_FUNNY_VOTES</th>\n",
       "      <th id=\"T_0e676_level0_col4\" class=\"col_heading level0 col4\" >AVG_COOL_VOTES</th>\n",
       "      <th id=\"T_0e676_level0_col5\" class=\"col_heading level0 col5\" >AVG_REVIEW_LENGTH</th>\n",
       "      <th id=\"T_0e676_level0_col6\" class=\"col_heading level0 col6\" >TOTAL_REVIEWS</th>\n",
       "    </tr>\n",
       "  </thead>\n",
       "  <tbody>\n",
       "    <tr>\n",
       "      <th id=\"T_0e676_level0_row0\" class=\"row_heading level0 row0\" >0</th>\n",
       "      <td id=\"T_0e676_row0_col0\" class=\"data row0 col0\" >Low</td>\n",
       "      <td id=\"T_0e676_row0_col1\" class=\"data row0 col1\" >3.62</td>\n",
       "      <td id=\"T_0e676_row0_col2\" class=\"data row0 col2\" >0.69</td>\n",
       "      <td id=\"T_0e676_row0_col3\" class=\"data row0 col3\" >0.13</td>\n",
       "      <td id=\"T_0e676_row0_col4\" class=\"data row0 col4\" >0.14</td>\n",
       "      <td id=\"T_0e676_row0_col5\" class=\"data row0 col5\" >480.13</td>\n",
       "      <td id=\"T_0e676_row0_col6\" class=\"data row0 col6\" >3674339</td>\n",
       "    </tr>\n",
       "    <tr>\n",
       "      <th id=\"T_0e676_level0_row1\" class=\"row_heading level0 row1\" >1</th>\n",
       "      <td id=\"T_0e676_row1_col0\" class=\"data row1 col0\" >High</td>\n",
       "      <td id=\"T_0e676_row1_col1\" class=\"data row1 col1\" >3.89</td>\n",
       "      <td id=\"T_0e676_row1_col2\" class=\"data row1 col2\" >1.73</td>\n",
       "      <td id=\"T_0e676_row1_col3\" class=\"data row1 col3\" >0.54</td>\n",
       "      <td id=\"T_0e676_row1_col4\" class=\"data row1 col4\" >0.90</td>\n",
       "      <td id=\"T_0e676_row1_col5\" class=\"data row1 col5\" >664.88</td>\n",
       "      <td id=\"T_0e676_row1_col6\" class=\"data row1 col6\" >3315908</td>\n",
       "    </tr>\n",
       "  </tbody>\n",
       "</table>\n"
      ],
      "text/plain": [
       "<pandas.io.formats.style.Styler at 0x229ea7af4d0>"
      ]
     },
     "metadata": {},
     "output_type": "display_data"
    }
   ],
   "source": [
    "# Comparing impact of number of fans on review engagement and star rating\n",
    "df = cur.execute('''\n",
    "                WITH fan_grouping AS (\n",
    "                SELECT \n",
    "                    yu.user_id,\n",
    "                    fans,\n",
    "                    yr.stars,\n",
    "                    yr.useful_votes,\n",
    "                    yr.funny_votes,\n",
    "                    yr.cool_votes,\n",
    "                    yr.user_review,\n",
    "                    yr.review_id,\n",
    "                    CASE\n",
    "                        WHEN fans > (SELECT MEDIAN(fans) FROM yelp_users) THEN 'High'\n",
    "                        ELSE 'Low'\n",
    "                    END AS fan_group\n",
    "                FROM yelp_users yu\n",
    "                JOIN yelp_reviews yr\n",
    "                    ON yu.user_id = yr.user_id\n",
    "                )\n",
    "                SELECT \n",
    "                    fan_group,\n",
    "                    ROUND(AVG(stars), 2) AS avg_rating,\n",
    "                    ROUND(AVG(useful_votes), 2) AS avg_useful_votes,\n",
    "                    ROUND(AVG(funny_votes), 2) AS avg_funny_votes,\n",
    "                    ROUND(AVG(cool_votes), 2) AS avg_cool_votes,\n",
    "                    ROUND(AVG(LENGTH(user_review)), 2) AS avg_review_length,\n",
    "                    COUNT(*) AS total_reviews\n",
    "                FROM fan_grouping\n",
    "                GROUP BY fan_group;\n",
    "                 ''').fetch_pandas_all()\n",
    "\n",
    "styles = [{\n",
    "    'selector': 'caption', 'props': 'text-align: left;'\n",
    "}]\n",
    "\n",
    "display(df.style.set_caption('<span style=\"font-size: 20px;\">Table 39: Review Engagement for Fan Groups</span>').set_table_styles(styles))"
   ]
  },
  {
   "cell_type": "markdown",
   "id": "02dce643",
   "metadata": {},
   "source": [
    "## Conclusion & Next Steps"
   ]
  },
  {
   "cell_type": "markdown",
   "id": "77b88269",
   "metadata": {},
   "source": []
  }
 ],
 "metadata": {
  "kernelspec": {
   "display_name": "yelp",
   "language": "python",
   "name": "python3"
  },
  "language_info": {
   "codemirror_mode": {
    "name": "ipython",
    "version": 3
   },
   "file_extension": ".py",
   "mimetype": "text/x-python",
   "name": "python",
   "nbconvert_exporter": "python",
   "pygments_lexer": "ipython3",
   "version": "3.13.3"
  }
 },
 "nbformat": 4,
 "nbformat_minor": 5
}
