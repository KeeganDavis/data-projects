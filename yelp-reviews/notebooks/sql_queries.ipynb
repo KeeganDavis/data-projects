{
 "cells": [
  {
   "cell_type": "code",
   "execution_count": 1,
   "id": "c72b644a",
   "metadata": {},
   "outputs": [],
   "source": [
    "import pandas as pd\n",
    "import plotly.express as px\n",
    "from plotly import graph_objects as go"
   ]
  },
  {
   "cell_type": "markdown",
   "id": "394d0cba",
   "metadata": {},
   "source": [
    "## Connect to Snowflake"
   ]
  },
  {
   "cell_type": "code",
   "execution_count": 2,
   "id": "7a22cf51",
   "metadata": {},
   "outputs": [],
   "source": [
    "import snowflake.connector\n",
    "from snowflake_credentials import snowflake_params\n",
    "\n",
    "conn = snowflake.connector.connect(\n",
    "    user=snowflake_params['user'],\n",
    "    password=snowflake_params['password'],\n",
    "    account=snowflake_params['account'],\n",
    "    warehouse=snowflake_params['warehouse'],\n",
    "    database=snowflake_params['database'],\n",
    "    schema=snowflake_params['schema'],\n",
    "    role=snowflake_params['role']\n",
    ")\n",
    "\n",
    "cur = conn.cursor()"
   ]
  },
  {
   "cell_type": "markdown",
   "id": "127ba17d",
   "metadata": {},
   "source": [
    "## Preview the Table Data"
   ]
  },
  {
   "cell_type": "code",
   "execution_count": 21,
   "id": "52e587fb",
   "metadata": {},
   "outputs": [
    {
     "name": "stdout",
     "output_type": "stream",
     "text": [
      "There are 150,346 records in the Yelp businesses table.\n"
     ]
    },
    {
     "data": {
      "text/html": [
       "<div>\n",
       "<style scoped>\n",
       "    .dataframe tbody tr th:only-of-type {\n",
       "        vertical-align: middle;\n",
       "    }\n",
       "\n",
       "    .dataframe tbody tr th {\n",
       "        vertical-align: top;\n",
       "    }\n",
       "\n",
       "    .dataframe thead th {\n",
       "        text-align: right;\n",
       "    }\n",
       "</style>\n",
       "<table border=\"1\" class=\"dataframe\">\n",
       "  <thead>\n",
       "    <tr style=\"text-align: right;\">\n",
       "      <th></th>\n",
       "      <th>NAME</th>\n",
       "      <th>BUSINESS_ID</th>\n",
       "      <th>IS_OPEN</th>\n",
       "      <th>REVIEW_COUNT</th>\n",
       "      <th>STARS</th>\n",
       "      <th>CATEGORIES</th>\n",
       "      <th>STATE</th>\n",
       "      <th>CITY</th>\n",
       "      <th>POSTAL_CODE</th>\n",
       "      <th>LATITUDE</th>\n",
       "      <th>LONGITUDE</th>\n",
       "    </tr>\n",
       "  </thead>\n",
       "  <tbody>\n",
       "    <tr>\n",
       "      <th>0</th>\n",
       "      <td>Abby Rappoport, LAC, CMQ</td>\n",
       "      <td>Pns2l4eNsfO8kk83dixA6A</td>\n",
       "      <td>0</td>\n",
       "      <td>7</td>\n",
       "      <td>5</td>\n",
       "      <td>Doctors, Traditional Chinese Medicine, Naturop...</td>\n",
       "      <td>CA</td>\n",
       "      <td>Santa Barbara</td>\n",
       "      <td>93101</td>\n",
       "      <td>34.426679</td>\n",
       "      <td>-119.711197</td>\n",
       "    </tr>\n",
       "    <tr>\n",
       "      <th>1</th>\n",
       "      <td>The UPS Store</td>\n",
       "      <td>mpf3x-BjTdTEA3yCZrAYPw</td>\n",
       "      <td>1</td>\n",
       "      <td>15</td>\n",
       "      <td>3</td>\n",
       "      <td>Shipping Centers, Local Services, Notaries, Ma...</td>\n",
       "      <td>MO</td>\n",
       "      <td>Affton</td>\n",
       "      <td>63123</td>\n",
       "      <td>38.551126</td>\n",
       "      <td>-90.335695</td>\n",
       "    </tr>\n",
       "    <tr>\n",
       "      <th>2</th>\n",
       "      <td>Target</td>\n",
       "      <td>tUFrWirKiKi_TAnsVWINQQ</td>\n",
       "      <td>0</td>\n",
       "      <td>22</td>\n",
       "      <td>4</td>\n",
       "      <td>Department Stores, Shopping, Fashion, Home &amp; G...</td>\n",
       "      <td>AZ</td>\n",
       "      <td>Tucson</td>\n",
       "      <td>85711</td>\n",
       "      <td>32.223236</td>\n",
       "      <td>-110.880452</td>\n",
       "    </tr>\n",
       "    <tr>\n",
       "      <th>3</th>\n",
       "      <td>St Honore Pastries</td>\n",
       "      <td>MTSW4McQd7CbVtyjqoe9mw</td>\n",
       "      <td>1</td>\n",
       "      <td>80</td>\n",
       "      <td>4</td>\n",
       "      <td>Restaurants, Food, Bubble Tea, Coffee &amp; Tea, B...</td>\n",
       "      <td>PA</td>\n",
       "      <td>Philadelphia</td>\n",
       "      <td>19107</td>\n",
       "      <td>39.955505</td>\n",
       "      <td>-75.155564</td>\n",
       "    </tr>\n",
       "    <tr>\n",
       "      <th>4</th>\n",
       "      <td>Perkiomen Valley Brewery</td>\n",
       "      <td>mWMc6_wTdE0EUBKIGXDVfA</td>\n",
       "      <td>1</td>\n",
       "      <td>13</td>\n",
       "      <td>5</td>\n",
       "      <td>Brewpubs, Breweries, Food</td>\n",
       "      <td>PA</td>\n",
       "      <td>Green Lane</td>\n",
       "      <td>18054</td>\n",
       "      <td>40.338183</td>\n",
       "      <td>-75.471659</td>\n",
       "    </tr>\n",
       "  </tbody>\n",
       "</table>\n",
       "</div>"
      ],
      "text/plain": [
       "                       NAME             BUSINESS_ID  IS_OPEN  REVIEW_COUNT  \\\n",
       "0  Abby Rappoport, LAC, CMQ  Pns2l4eNsfO8kk83dixA6A        0             7   \n",
       "1             The UPS Store  mpf3x-BjTdTEA3yCZrAYPw        1            15   \n",
       "2                    Target  tUFrWirKiKi_TAnsVWINQQ        0            22   \n",
       "3        St Honore Pastries  MTSW4McQd7CbVtyjqoe9mw        1            80   \n",
       "4  Perkiomen Valley Brewery  mWMc6_wTdE0EUBKIGXDVfA        1            13   \n",
       "\n",
       "   STARS                                         CATEGORIES STATE  \\\n",
       "0      5  Doctors, Traditional Chinese Medicine, Naturop...    CA   \n",
       "1      3  Shipping Centers, Local Services, Notaries, Ma...    MO   \n",
       "2      4  Department Stores, Shopping, Fashion, Home & G...    AZ   \n",
       "3      4  Restaurants, Food, Bubble Tea, Coffee & Tea, B...    PA   \n",
       "4      5                          Brewpubs, Breweries, Food    PA   \n",
       "\n",
       "            CITY POSTAL_CODE   LATITUDE   LONGITUDE  \n",
       "0  Santa Barbara       93101  34.426679 -119.711197  \n",
       "1         Affton       63123  38.551126  -90.335695  \n",
       "2         Tucson       85711  32.223236 -110.880452  \n",
       "3   Philadelphia       19107  39.955505  -75.155564  \n",
       "4     Green Lane       18054  40.338183  -75.471659  "
      ]
     },
     "metadata": {},
     "output_type": "display_data"
    }
   ],
   "source": [
    "businesses_count = cur.execute('''\n",
    "                               SELECT COUNT(*)\n",
    "                               FROM yelp_businesses\n",
    "                               ''').fetch_pandas_all()\n",
    "\n",
    "print(f'There are {businesses_count['COUNT(*)'][0]:,} records in the Yelp businesses table.')\n",
    "\n",
    "df = cur.execute('''\n",
    "                 SELECT *\n",
    "                 FROM yelp_businesses \n",
    "                 LIMIT 5\n",
    "                 ''').fetch_pandas_all()\n",
    "\n",
    "display(df)"
   ]
  },
  {
   "cell_type": "code",
   "execution_count": 22,
   "id": "c2e09727",
   "metadata": {},
   "outputs": [
    {
     "name": "stdout",
     "output_type": "stream",
     "text": [
      "There are 6,990,280 records in the Yelp reviews table.\n"
     ]
    },
    {
     "data": {
      "text/html": [
       "<div>\n",
       "<style scoped>\n",
       "    .dataframe tbody tr th:only-of-type {\n",
       "        vertical-align: middle;\n",
       "    }\n",
       "\n",
       "    .dataframe tbody tr th {\n",
       "        vertical-align: top;\n",
       "    }\n",
       "\n",
       "    .dataframe thead th {\n",
       "        text-align: right;\n",
       "    }\n",
       "</style>\n",
       "<table border=\"1\" class=\"dataframe\">\n",
       "  <thead>\n",
       "    <tr style=\"text-align: right;\">\n",
       "      <th></th>\n",
       "      <th>BUSINESS_ID</th>\n",
       "      <th>REVIEW_ID</th>\n",
       "      <th>USER_ID</th>\n",
       "      <th>REVIEW_DATE</th>\n",
       "      <th>USER_REVIEW</th>\n",
       "      <th>STARS</th>\n",
       "      <th>COOL_VOTES</th>\n",
       "      <th>FUNNY_VOTES</th>\n",
       "      <th>USEFUL_VOTES</th>\n",
       "    </tr>\n",
       "  </thead>\n",
       "  <tbody>\n",
       "    <tr>\n",
       "      <th>0</th>\n",
       "      <td>iRIHK8-EwpeffwvoO4nzIA</td>\n",
       "      <td>oXpWjOG2rue-2bHbjvDZIQ</td>\n",
       "      <td>1uHAAjOX18Px4OibCMI3pg</td>\n",
       "      <td>2018-10-04</td>\n",
       "      <td>Awesome spot. This is one of my favorite place...</td>\n",
       "      <td>5</td>\n",
       "      <td>0</td>\n",
       "      <td>0</td>\n",
       "      <td>0</td>\n",
       "    </tr>\n",
       "    <tr>\n",
       "      <th>1</th>\n",
       "      <td>U9TJ13_B6mySAb1RI4lhug</td>\n",
       "      <td>QVL6hH7M0nv5ljHCjRfK0w</td>\n",
       "      <td>KZXmUq6y_0k4guwAfPmQcQ</td>\n",
       "      <td>2017-05-13</td>\n",
       "      <td>I like Rumor, but some nights, Idk why they ch...</td>\n",
       "      <td>3</td>\n",
       "      <td>0</td>\n",
       "      <td>0</td>\n",
       "      <td>0</td>\n",
       "    </tr>\n",
       "    <tr>\n",
       "      <th>2</th>\n",
       "      <td>oBNrLz4EDhiscSlbOl8uAw</td>\n",
       "      <td>PAjnd_I5pkN2m9Mg5cJTUg</td>\n",
       "      <td>C8jSfs5zj3NkqBx-YRb3tA</td>\n",
       "      <td>2018-04-15</td>\n",
       "      <td>This place has the rudest server I think I hav...</td>\n",
       "      <td>1</td>\n",
       "      <td>0</td>\n",
       "      <td>0</td>\n",
       "      <td>1</td>\n",
       "    </tr>\n",
       "    <tr>\n",
       "      <th>3</th>\n",
       "      <td>IL7MEBxfei9pOaGR1g6joQ</td>\n",
       "      <td>H_gK3gJrBSMlxELs2BC7sQ</td>\n",
       "      <td>YOIorhfo8hHhilRyam2c4w</td>\n",
       "      <td>2017-12-29</td>\n",
       "      <td>I've had the ice cream from here a number of t...</td>\n",
       "      <td>4</td>\n",
       "      <td>0</td>\n",
       "      <td>0</td>\n",
       "      <td>0</td>\n",
       "    </tr>\n",
       "    <tr>\n",
       "      <th>4</th>\n",
       "      <td>t-cT3vDv6vB0AAow_XIK8g</td>\n",
       "      <td>kViZwGpixoAnpN7xpsaJyQ</td>\n",
       "      <td>y6RQ8oBEtryoXVTxBddNng</td>\n",
       "      <td>2012-06-26</td>\n",
       "      <td>This is a very nice store to visit. They have ...</td>\n",
       "      <td>5</td>\n",
       "      <td>0</td>\n",
       "      <td>0</td>\n",
       "      <td>0</td>\n",
       "    </tr>\n",
       "  </tbody>\n",
       "</table>\n",
       "</div>"
      ],
      "text/plain": [
       "              BUSINESS_ID               REVIEW_ID                 USER_ID  \\\n",
       "0  iRIHK8-EwpeffwvoO4nzIA  oXpWjOG2rue-2bHbjvDZIQ  1uHAAjOX18Px4OibCMI3pg   \n",
       "1  U9TJ13_B6mySAb1RI4lhug  QVL6hH7M0nv5ljHCjRfK0w  KZXmUq6y_0k4guwAfPmQcQ   \n",
       "2  oBNrLz4EDhiscSlbOl8uAw  PAjnd_I5pkN2m9Mg5cJTUg  C8jSfs5zj3NkqBx-YRb3tA   \n",
       "3  IL7MEBxfei9pOaGR1g6joQ  H_gK3gJrBSMlxELs2BC7sQ  YOIorhfo8hHhilRyam2c4w   \n",
       "4  t-cT3vDv6vB0AAow_XIK8g  kViZwGpixoAnpN7xpsaJyQ  y6RQ8oBEtryoXVTxBddNng   \n",
       "\n",
       "  REVIEW_DATE                                        USER_REVIEW  STARS  \\\n",
       "0  2018-10-04  Awesome spot. This is one of my favorite place...      5   \n",
       "1  2017-05-13  I like Rumor, but some nights, Idk why they ch...      3   \n",
       "2  2018-04-15  This place has the rudest server I think I hav...      1   \n",
       "3  2017-12-29  I've had the ice cream from here a number of t...      4   \n",
       "4  2012-06-26  This is a very nice store to visit. They have ...      5   \n",
       "\n",
       "   COOL_VOTES  FUNNY_VOTES  USEFUL_VOTES  \n",
       "0           0            0             0  \n",
       "1           0            0             0  \n",
       "2           0            0             1  \n",
       "3           0            0             0  \n",
       "4           0            0             0  "
      ]
     },
     "metadata": {},
     "output_type": "display_data"
    }
   ],
   "source": [
    "reviews_count = cur.execute('''\n",
    "                               SELECT COUNT(*)\n",
    "                               FROM yelp_reviews\n",
    "                               ''').fetch_pandas_all()\n",
    "\n",
    "print(f'There are {reviews_count['COUNT(*)'][0]:,} records in the Yelp reviews table.')\n",
    "\n",
    "df = cur.execute('''\n",
    "                 SELECT *\n",
    "                 FROM yelp_reviews \n",
    "                 LIMIT 5\n",
    "                 ''').fetch_pandas_all()\n",
    "\n",
    "display(df)"
   ]
  },
  {
   "cell_type": "code",
   "execution_count": 49,
   "id": "12e5e80d",
   "metadata": {},
   "outputs": [
    {
     "name": "stdout",
     "output_type": "stream",
     "text": [
      "There are 1,987,897 records in the Yelp users table.\n"
     ]
    },
    {
     "data": {
      "text/html": [
       "<div>\n",
       "<style scoped>\n",
       "    .dataframe tbody tr th:only-of-type {\n",
       "        vertical-align: middle;\n",
       "    }\n",
       "\n",
       "    .dataframe tbody tr th {\n",
       "        vertical-align: top;\n",
       "    }\n",
       "\n",
       "    .dataframe thead th {\n",
       "        text-align: right;\n",
       "    }\n",
       "</style>\n",
       "<table border=\"1\" class=\"dataframe\">\n",
       "  <thead>\n",
       "    <tr style=\"text-align: right;\">\n",
       "      <th></th>\n",
       "      <th>FIRST_NAME</th>\n",
       "      <th>USER_ID</th>\n",
       "      <th>YELPING_SINCE</th>\n",
       "      <th>REVIEW_COUNT</th>\n",
       "      <th>AVG_STARS</th>\n",
       "      <th>FANS</th>\n",
       "      <th>COOL_COMPLIMENTS</th>\n",
       "      <th>CUTE_COMPLIMENTS</th>\n",
       "      <th>FUNNY_COMPLIMENTS</th>\n",
       "      <th>HOT_COMPLIMENTS</th>\n",
       "      <th>...</th>\n",
       "      <th>MORE_COMPLIMENTS</th>\n",
       "      <th>NOTE_COMPLIMENTS</th>\n",
       "      <th>PHOTO_COMPLIMENTS</th>\n",
       "      <th>PLAIN_COMPLIMENTS</th>\n",
       "      <th>PROFILE_COMPLIMENTS</th>\n",
       "      <th>WRITER_COMPLIMENTS</th>\n",
       "      <th>COOL_VOTES</th>\n",
       "      <th>ELITE</th>\n",
       "      <th>FUNNY_VOTES</th>\n",
       "      <th>USEFUL_VOTES</th>\n",
       "    </tr>\n",
       "  </thead>\n",
       "  <tbody>\n",
       "    <tr>\n",
       "      <th>0</th>\n",
       "      <td>Thomas</td>\n",
       "      <td>dXZLLcy6klelF1O1wL_vzw</td>\n",
       "      <td>2015-07-24</td>\n",
       "      <td>11</td>\n",
       "      <td>4.45</td>\n",
       "      <td>1</td>\n",
       "      <td>0</td>\n",
       "      <td>0</td>\n",
       "      <td>0</td>\n",
       "      <td>0</td>\n",
       "      <td>...</td>\n",
       "      <td>0</td>\n",
       "      <td>0</td>\n",
       "      <td>0</td>\n",
       "      <td>0</td>\n",
       "      <td>0</td>\n",
       "      <td>0</td>\n",
       "      <td>0</td>\n",
       "      <td></td>\n",
       "      <td>0</td>\n",
       "      <td>2</td>\n",
       "    </tr>\n",
       "    <tr>\n",
       "      <th>1</th>\n",
       "      <td>Jeremias JMan</td>\n",
       "      <td>eaiIXArF07R0MGtu4h-6kg</td>\n",
       "      <td>2015-10-29</td>\n",
       "      <td>19</td>\n",
       "      <td>4.42</td>\n",
       "      <td>1</td>\n",
       "      <td>0</td>\n",
       "      <td>0</td>\n",
       "      <td>0</td>\n",
       "      <td>0</td>\n",
       "      <td>...</td>\n",
       "      <td>0</td>\n",
       "      <td>0</td>\n",
       "      <td>0</td>\n",
       "      <td>0</td>\n",
       "      <td>0</td>\n",
       "      <td>0</td>\n",
       "      <td>2</td>\n",
       "      <td></td>\n",
       "      <td>9</td>\n",
       "      <td>9</td>\n",
       "    </tr>\n",
       "    <tr>\n",
       "      <th>2</th>\n",
       "      <td>Dolly</td>\n",
       "      <td>T_Fsemvyy8IsoB90-sS0sQ</td>\n",
       "      <td>2014-05-05</td>\n",
       "      <td>48</td>\n",
       "      <td>4.32</td>\n",
       "      <td>5</td>\n",
       "      <td>1</td>\n",
       "      <td>1</td>\n",
       "      <td>1</td>\n",
       "      <td>2</td>\n",
       "      <td>...</td>\n",
       "      <td>0</td>\n",
       "      <td>0</td>\n",
       "      <td>0</td>\n",
       "      <td>1</td>\n",
       "      <td>0</td>\n",
       "      <td>0</td>\n",
       "      <td>13</td>\n",
       "      <td></td>\n",
       "      <td>10</td>\n",
       "      <td>38</td>\n",
       "    </tr>\n",
       "    <tr>\n",
       "      <th>3</th>\n",
       "      <td>Ellyse</td>\n",
       "      <td>EaRd_4nFnPs8Fei-H2ZmVA</td>\n",
       "      <td>2013-07-18</td>\n",
       "      <td>427</td>\n",
       "      <td>4.31</td>\n",
       "      <td>61</td>\n",
       "      <td>31</td>\n",
       "      <td>0</td>\n",
       "      <td>31</td>\n",
       "      <td>5</td>\n",
       "      <td>...</td>\n",
       "      <td>2</td>\n",
       "      <td>8</td>\n",
       "      <td>17</td>\n",
       "      <td>15</td>\n",
       "      <td>0</td>\n",
       "      <td>23</td>\n",
       "      <td>420</td>\n",
       "      <td>2017,2018,2019,20,20</td>\n",
       "      <td>108</td>\n",
       "      <td>823</td>\n",
       "    </tr>\n",
       "    <tr>\n",
       "      <th>4</th>\n",
       "      <td>Julie</td>\n",
       "      <td>yqpqFUXIkKBYP5QQ-5jZpA</td>\n",
       "      <td>2013-06-13</td>\n",
       "      <td>48</td>\n",
       "      <td>3.34</td>\n",
       "      <td>1</td>\n",
       "      <td>1</td>\n",
       "      <td>0</td>\n",
       "      <td>1</td>\n",
       "      <td>0</td>\n",
       "      <td>...</td>\n",
       "      <td>0</td>\n",
       "      <td>1</td>\n",
       "      <td>0</td>\n",
       "      <td>0</td>\n",
       "      <td>0</td>\n",
       "      <td>0</td>\n",
       "      <td>17</td>\n",
       "      <td></td>\n",
       "      <td>28</td>\n",
       "      <td>62</td>\n",
       "    </tr>\n",
       "  </tbody>\n",
       "</table>\n",
       "<p>5 rows × 21 columns</p>\n",
       "</div>"
      ],
      "text/plain": [
       "      FIRST_NAME                 USER_ID YELPING_SINCE  REVIEW_COUNT  \\\n",
       "0         Thomas  dXZLLcy6klelF1O1wL_vzw    2015-07-24            11   \n",
       "1  Jeremias JMan  eaiIXArF07R0MGtu4h-6kg    2015-10-29            19   \n",
       "2          Dolly  T_Fsemvyy8IsoB90-sS0sQ    2014-05-05            48   \n",
       "3         Ellyse  EaRd_4nFnPs8Fei-H2ZmVA    2013-07-18           427   \n",
       "4          Julie  yqpqFUXIkKBYP5QQ-5jZpA    2013-06-13            48   \n",
       "\n",
       "   AVG_STARS  FANS  COOL_COMPLIMENTS  CUTE_COMPLIMENTS  FUNNY_COMPLIMENTS  \\\n",
       "0       4.45     1                 0                 0                  0   \n",
       "1       4.42     1                 0                 0                  0   \n",
       "2       4.32     5                 1                 1                  1   \n",
       "3       4.31    61                31                 0                 31   \n",
       "4       3.34     1                 1                 0                  1   \n",
       "\n",
       "   HOT_COMPLIMENTS  ...  MORE_COMPLIMENTS  NOTE_COMPLIMENTS  \\\n",
       "0                0  ...                 0                 0   \n",
       "1                0  ...                 0                 0   \n",
       "2                2  ...                 0                 0   \n",
       "3                5  ...                 2                 8   \n",
       "4                0  ...                 0                 1   \n",
       "\n",
       "   PHOTO_COMPLIMENTS  PLAIN_COMPLIMENTS  PROFILE_COMPLIMENTS  \\\n",
       "0                  0                  0                    0   \n",
       "1                  0                  0                    0   \n",
       "2                  0                  1                    0   \n",
       "3                 17                 15                    0   \n",
       "4                  0                  0                    0   \n",
       "\n",
       "   WRITER_COMPLIMENTS  COOL_VOTES                 ELITE FUNNY_VOTES  \\\n",
       "0                   0           0                                 0   \n",
       "1                   0           2                                 9   \n",
       "2                   0          13                                10   \n",
       "3                  23         420  2017,2018,2019,20,20         108   \n",
       "4                   0          17                                28   \n",
       "\n",
       "   USEFUL_VOTES  \n",
       "0             2  \n",
       "1             9  \n",
       "2            38  \n",
       "3           823  \n",
       "4            62  \n",
       "\n",
       "[5 rows x 21 columns]"
      ]
     },
     "metadata": {},
     "output_type": "display_data"
    }
   ],
   "source": [
    "users_count = cur.execute('''\n",
    "                               SELECT COUNT(*)\n",
    "                               FROM yelp_users\n",
    "                               ''').fetch_pandas_all()\n",
    "\n",
    "print(f'There are {users_count['COUNT(*)'][0]:,} records in the Yelp users table.')\n",
    "\n",
    "df = cur.execute('''\n",
    "                 SELECT *\n",
    "                 FROM yelp_users \n",
    "                 LIMIT 5\n",
    "                 ''').fetch_pandas_all()\n",
    "\n",
    "display(df)"
   ]
  },
  {
   "cell_type": "code",
   "execution_count": 24,
   "id": "3023a7ca",
   "metadata": {},
   "outputs": [
    {
     "name": "stdout",
     "output_type": "stream",
     "text": [
      "There are 908,915 records in the Yelp tips table.\n"
     ]
    },
    {
     "data": {
      "text/html": [
       "<div>\n",
       "<style scoped>\n",
       "    .dataframe tbody tr th:only-of-type {\n",
       "        vertical-align: middle;\n",
       "    }\n",
       "\n",
       "    .dataframe tbody tr th {\n",
       "        vertical-align: top;\n",
       "    }\n",
       "\n",
       "    .dataframe thead th {\n",
       "        text-align: right;\n",
       "    }\n",
       "</style>\n",
       "<table border=\"1\" class=\"dataframe\">\n",
       "  <thead>\n",
       "    <tr style=\"text-align: right;\">\n",
       "      <th></th>\n",
       "      <th>BUSINESS_ID</th>\n",
       "      <th>USER_ID</th>\n",
       "      <th>DATE</th>\n",
       "      <th>TIP</th>\n",
       "      <th>COMPLIMENT_COUNT</th>\n",
       "    </tr>\n",
       "  </thead>\n",
       "  <tbody>\n",
       "    <tr>\n",
       "      <th>0</th>\n",
       "      <td>WnHG_obpmHazbngTdu570Q</td>\n",
       "      <td>_Wkf2RNDnBuqMOpzSqmZXw</td>\n",
       "      <td>2015-08-14</td>\n",
       "      <td>Only a couple more weeks</td>\n",
       "      <td>0</td>\n",
       "    </tr>\n",
       "    <tr>\n",
       "      <th>1</th>\n",
       "      <td>c-CAcdH2-12g1sQUQfy5xw</td>\n",
       "      <td>xnuEEuMfvCNLFMtaZf7asw</td>\n",
       "      <td>2016-03-20</td>\n",
       "      <td>Get here early!!</td>\n",
       "      <td>0</td>\n",
       "    </tr>\n",
       "    <tr>\n",
       "      <th>2</th>\n",
       "      <td>wj8XtPyuREj8_0GQz3LZ6w</td>\n",
       "      <td>W0DJOPsSwcAj0uqCJG8iLw</td>\n",
       "      <td>2015-08-14</td>\n",
       "      <td>If you have not tried this place what are you ...</td>\n",
       "      <td>0</td>\n",
       "    </tr>\n",
       "    <tr>\n",
       "      <th>3</th>\n",
       "      <td>l8vwslfqKq1yxlmgVi-M0Q</td>\n",
       "      <td>AED6tP0v4aMPd9-YtjPcPg</td>\n",
       "      <td>2015-05-11</td>\n",
       "      <td>Check out the third floor lounge for nice city...</td>\n",
       "      <td>0</td>\n",
       "    </tr>\n",
       "    <tr>\n",
       "      <th>4</th>\n",
       "      <td>KZe5kpIHWVuJl6WgNYzceg</td>\n",
       "      <td>9UZlB3fHVe2JBvPw4kRb5g</td>\n",
       "      <td>2012-03-03</td>\n",
       "      <td>Pancakes with Breakfast Trick?</td>\n",
       "      <td>0</td>\n",
       "    </tr>\n",
       "  </tbody>\n",
       "</table>\n",
       "</div>"
      ],
      "text/plain": [
       "              BUSINESS_ID                 USER_ID        DATE  \\\n",
       "0  WnHG_obpmHazbngTdu570Q  _Wkf2RNDnBuqMOpzSqmZXw  2015-08-14   \n",
       "1  c-CAcdH2-12g1sQUQfy5xw  xnuEEuMfvCNLFMtaZf7asw  2016-03-20   \n",
       "2  wj8XtPyuREj8_0GQz3LZ6w  W0DJOPsSwcAj0uqCJG8iLw  2015-08-14   \n",
       "3  l8vwslfqKq1yxlmgVi-M0Q  AED6tP0v4aMPd9-YtjPcPg  2015-05-11   \n",
       "4  KZe5kpIHWVuJl6WgNYzceg  9UZlB3fHVe2JBvPw4kRb5g  2012-03-03   \n",
       "\n",
       "                                                 TIP  COMPLIMENT_COUNT  \n",
       "0                           Only a couple more weeks                 0  \n",
       "1                                   Get here early!!                 0  \n",
       "2  If you have not tried this place what are you ...                 0  \n",
       "3  Check out the third floor lounge for nice city...                 0  \n",
       "4                     Pancakes with Breakfast Trick?                 0  "
      ]
     },
     "metadata": {},
     "output_type": "display_data"
    }
   ],
   "source": [
    "tips_count = cur.execute('''\n",
    "                               SELECT COUNT(*)\n",
    "                               FROM yelp_tips\n",
    "                               ''').fetch_pandas_all()\n",
    "\n",
    "print(f'There are {tips_count['COUNT(*)'][0]:,} records in the Yelp tips table.')\n",
    "\n",
    "df = cur.execute('''\n",
    "                 SELECT *\n",
    "                 FROM yelp_tips \n",
    "                 LIMIT 5\n",
    "                 ''').fetch_pandas_all()\n",
    "\n",
    "display(df)"
   ]
  },
  {
   "cell_type": "markdown",
   "id": "3080f1e6",
   "metadata": {},
   "source": [
    "## Category Analysis"
   ]
  },
  {
   "cell_type": "markdown",
   "id": "942213c0",
   "metadata": {},
   "source": [
    "#### Number of Businesses by Category"
   ]
  },
  {
   "cell_type": "code",
   "execution_count": null,
   "id": "824b5a9c",
   "metadata": {},
   "outputs": [
    {
     "data": {
      "text/html": [
       "<div>\n",
       "<style scoped>\n",
       "    .dataframe tbody tr th:only-of-type {\n",
       "        vertical-align: middle;\n",
       "    }\n",
       "\n",
       "    .dataframe tbody tr th {\n",
       "        vertical-align: top;\n",
       "    }\n",
       "\n",
       "    .dataframe thead th {\n",
       "        text-align: right;\n",
       "    }\n",
       "</style>\n",
       "<table border=\"1\" class=\"dataframe\">\n",
       "  <thead>\n",
       "    <tr style=\"text-align: right;\">\n",
       "      <th></th>\n",
       "      <th>CATEGORY</th>\n",
       "      <th>NUM_OF_BUSINESSES</th>\n",
       "      <th>AVG_STARS</th>\n",
       "    </tr>\n",
       "  </thead>\n",
       "  <tbody>\n",
       "    <tr>\n",
       "      <th>0</th>\n",
       "      <td>Restaurants</td>\n",
       "      <td>52268</td>\n",
       "      <td>3.77</td>\n",
       "    </tr>\n",
       "    <tr>\n",
       "      <th>1</th>\n",
       "      <td>Food</td>\n",
       "      <td>27781</td>\n",
       "      <td>3.93</td>\n",
       "    </tr>\n",
       "    <tr>\n",
       "      <th>2</th>\n",
       "      <td>Shopping</td>\n",
       "      <td>24395</td>\n",
       "      <td>3.86</td>\n",
       "    </tr>\n",
       "    <tr>\n",
       "      <th>3</th>\n",
       "      <td>Home Services</td>\n",
       "      <td>14356</td>\n",
       "      <td>3.69</td>\n",
       "    </tr>\n",
       "    <tr>\n",
       "      <th>4</th>\n",
       "      <td>Beauty &amp; Spas</td>\n",
       "      <td>14292</td>\n",
       "      <td>4.05</td>\n",
       "    </tr>\n",
       "    <tr>\n",
       "      <th>5</th>\n",
       "      <td>Nightlife</td>\n",
       "      <td>12281</td>\n",
       "      <td>3.91</td>\n",
       "    </tr>\n",
       "    <tr>\n",
       "      <th>6</th>\n",
       "      <td>Health &amp; Medical</td>\n",
       "      <td>11890</td>\n",
       "      <td>3.86</td>\n",
       "    </tr>\n",
       "    <tr>\n",
       "      <th>7</th>\n",
       "      <td>Local Services</td>\n",
       "      <td>11198</td>\n",
       "      <td>3.85</td>\n",
       "    </tr>\n",
       "    <tr>\n",
       "      <th>8</th>\n",
       "      <td>Bars</td>\n",
       "      <td>11065</td>\n",
       "      <td>3.90</td>\n",
       "    </tr>\n",
       "    <tr>\n",
       "      <th>9</th>\n",
       "      <td>Automotive</td>\n",
       "      <td>10773</td>\n",
       "      <td>3.75</td>\n",
       "    </tr>\n",
       "    <tr>\n",
       "      <th>10</th>\n",
       "      <td>Event Planning &amp; Services</td>\n",
       "      <td>9895</td>\n",
       "      <td>3.93</td>\n",
       "    </tr>\n",
       "    <tr>\n",
       "      <th>11</th>\n",
       "      <td>Sandwiches</td>\n",
       "      <td>8366</td>\n",
       "      <td>3.80</td>\n",
       "    </tr>\n",
       "    <tr>\n",
       "      <th>12</th>\n",
       "      <td>American (Traditional)</td>\n",
       "      <td>8139</td>\n",
       "      <td>3.65</td>\n",
       "    </tr>\n",
       "    <tr>\n",
       "      <th>13</th>\n",
       "      <td>Active Life</td>\n",
       "      <td>7687</td>\n",
       "      <td>4.23</td>\n",
       "    </tr>\n",
       "    <tr>\n",
       "      <th>14</th>\n",
       "      <td>Pizza</td>\n",
       "      <td>7093</td>\n",
       "      <td>3.60</td>\n",
       "    </tr>\n",
       "    <tr>\n",
       "      <th>15</th>\n",
       "      <td>Coffee &amp; Tea</td>\n",
       "      <td>6703</td>\n",
       "      <td>3.78</td>\n",
       "    </tr>\n",
       "    <tr>\n",
       "      <th>16</th>\n",
       "      <td>Fast Food</td>\n",
       "      <td>6472</td>\n",
       "      <td>2.89</td>\n",
       "    </tr>\n",
       "    <tr>\n",
       "      <th>17</th>\n",
       "      <td>Breakfast &amp; Brunch</td>\n",
       "      <td>6239</td>\n",
       "      <td>3.82</td>\n",
       "    </tr>\n",
       "    <tr>\n",
       "      <th>18</th>\n",
       "      <td>American (New)</td>\n",
       "      <td>6097</td>\n",
       "      <td>3.84</td>\n",
       "    </tr>\n",
       "    <tr>\n",
       "      <th>19</th>\n",
       "      <td>Hotels &amp; Travel</td>\n",
       "      <td>5857</td>\n",
       "      <td>3.50</td>\n",
       "    </tr>\n",
       "  </tbody>\n",
       "</table>\n",
       "</div>"
      ],
      "text/plain": [
       "                     CATEGORY  NUM_OF_BUSINESSES AVG_STARS\n",
       "0                 Restaurants              52268      3.77\n",
       "1                        Food              27781      3.93\n",
       "2                    Shopping              24395      3.86\n",
       "3               Home Services              14356      3.69\n",
       "4               Beauty & Spas              14292      4.05\n",
       "5                   Nightlife              12281      3.91\n",
       "6            Health & Medical              11890      3.86\n",
       "7              Local Services              11198      3.85\n",
       "8                        Bars              11065      3.90\n",
       "9                  Automotive              10773      3.75\n",
       "10  Event Planning & Services               9895      3.93\n",
       "11                 Sandwiches               8366      3.80\n",
       "12     American (Traditional)               8139      3.65\n",
       "13                Active Life               7687      4.23\n",
       "14                      Pizza               7093      3.60\n",
       "15               Coffee & Tea               6703      3.78\n",
       "16                  Fast Food               6472      2.89\n",
       "17         Breakfast & Brunch               6239      3.82\n",
       "18             American (New)               6097      3.84\n",
       "19            Hotels & Travel               5857      3.50"
      ]
     },
     "metadata": {},
     "output_type": "display_data"
    }
   ],
   "source": [
    "# Top 20 categories of all businesses on Yelp.\n",
    "df = cur.execute('''\n",
    "                 WITH cte AS (\n",
    "                    -- split the categories column so each business has a row for each category it has\n",
    "                    SELECT business_id, stars,\n",
    "                    TRIM(A.value) AS category\n",
    "                    FROM yelp_businesses,\n",
    "                    LATERAL SPLIT_TO_TABLE(categories, ',') A\n",
    "                )\n",
    "\n",
    "                SELECT category, COUNT(DISTINCT business_id) AS num_of_businesses, ROUND(AVG(stars), 2) AS avg_rating\n",
    "                FROM cte\n",
    "                GROUP BY 1\n",
    "                ORDER BY 2 DESC\n",
    "                LIMIT 20;\n",
    "                 ''').fetch_pandas_all()\n",
    "\n",
    "display(df)"
   ]
  },
  {
   "cell_type": "markdown",
   "id": "fcdfb9ea",
   "metadata": {},
   "source": [
    "#### Review Volume by Category"
   ]
  },
  {
   "cell_type": "code",
   "execution_count": null,
   "id": "465850ed",
   "metadata": {},
   "outputs": [
    {
     "data": {
      "text/html": [
       "<div>\n",
       "<style scoped>\n",
       "    .dataframe tbody tr th:only-of-type {\n",
       "        vertical-align: middle;\n",
       "    }\n",
       "\n",
       "    .dataframe tbody tr th {\n",
       "        vertical-align: top;\n",
       "    }\n",
       "\n",
       "    .dataframe thead th {\n",
       "        text-align: right;\n",
       "    }\n",
       "</style>\n",
       "<table border=\"1\" class=\"dataframe\">\n",
       "  <thead>\n",
       "    <tr style=\"text-align: right;\">\n",
       "      <th></th>\n",
       "      <th>CATEGORY</th>\n",
       "      <th>NUM_OF_REVIEWS</th>\n",
       "      <th>NUM_OF_BUSINESSES</th>\n",
       "      <th>AVG_STARS</th>\n",
       "    </tr>\n",
       "  </thead>\n",
       "  <tbody>\n",
       "    <tr>\n",
       "      <th>0</th>\n",
       "      <td>Restaurants</td>\n",
       "      <td>4561279</td>\n",
       "      <td>52268</td>\n",
       "      <td>3.77</td>\n",
       "    </tr>\n",
       "    <tr>\n",
       "      <th>1</th>\n",
       "      <td>Food</td>\n",
       "      <td>1752281</td>\n",
       "      <td>27781</td>\n",
       "      <td>3.93</td>\n",
       "    </tr>\n",
       "    <tr>\n",
       "      <th>2</th>\n",
       "      <td>Nightlife</td>\n",
       "      <td>1488163</td>\n",
       "      <td>12281</td>\n",
       "      <td>3.91</td>\n",
       "    </tr>\n",
       "    <tr>\n",
       "      <th>3</th>\n",
       "      <td>Bars</td>\n",
       "      <td>1406415</td>\n",
       "      <td>11065</td>\n",
       "      <td>3.90</td>\n",
       "    </tr>\n",
       "    <tr>\n",
       "      <th>4</th>\n",
       "      <td>American (Traditional)</td>\n",
       "      <td>976483</td>\n",
       "      <td>8139</td>\n",
       "      <td>3.65</td>\n",
       "    </tr>\n",
       "    <tr>\n",
       "      <th>5</th>\n",
       "      <td>American (New)</td>\n",
       "      <td>950560</td>\n",
       "      <td>6097</td>\n",
       "      <td>3.84</td>\n",
       "    </tr>\n",
       "    <tr>\n",
       "      <th>6</th>\n",
       "      <td>Breakfast &amp; Brunch</td>\n",
       "      <td>839467</td>\n",
       "      <td>6239</td>\n",
       "      <td>3.82</td>\n",
       "    </tr>\n",
       "    <tr>\n",
       "      <th>7</th>\n",
       "      <td>Sandwiches</td>\n",
       "      <td>669139</td>\n",
       "      <td>8366</td>\n",
       "      <td>3.80</td>\n",
       "    </tr>\n",
       "    <tr>\n",
       "      <th>8</th>\n",
       "      <td>Seafood</td>\n",
       "      <td>600183</td>\n",
       "      <td>3539</td>\n",
       "      <td>3.92</td>\n",
       "    </tr>\n",
       "    <tr>\n",
       "      <th>9</th>\n",
       "      <td>Event Planning &amp; Services</td>\n",
       "      <td>591442</td>\n",
       "      <td>9895</td>\n",
       "      <td>3.93</td>\n",
       "    </tr>\n",
       "    <tr>\n",
       "      <th>10</th>\n",
       "      <td>Shopping</td>\n",
       "      <td>505372</td>\n",
       "      <td>24395</td>\n",
       "      <td>3.86</td>\n",
       "    </tr>\n",
       "    <tr>\n",
       "      <th>11</th>\n",
       "      <td>Pizza</td>\n",
       "      <td>456944</td>\n",
       "      <td>7093</td>\n",
       "      <td>3.60</td>\n",
       "    </tr>\n",
       "    <tr>\n",
       "      <th>12</th>\n",
       "      <td>Burgers</td>\n",
       "      <td>429866</td>\n",
       "      <td>5636</td>\n",
       "      <td>3.19</td>\n",
       "    </tr>\n",
       "    <tr>\n",
       "      <th>13</th>\n",
       "      <td>Coffee &amp; Tea</td>\n",
       "      <td>428230</td>\n",
       "      <td>6703</td>\n",
       "      <td>3.78</td>\n",
       "    </tr>\n",
       "    <tr>\n",
       "      <th>14</th>\n",
       "      <td>Italian</td>\n",
       "      <td>422530</td>\n",
       "      <td>4573</td>\n",
       "      <td>3.76</td>\n",
       "    </tr>\n",
       "    <tr>\n",
       "      <th>15</th>\n",
       "      <td>Mexican</td>\n",
       "      <td>416307</td>\n",
       "      <td>4600</td>\n",
       "      <td>3.78</td>\n",
       "    </tr>\n",
       "    <tr>\n",
       "      <th>16</th>\n",
       "      <td>Beauty &amp; Spas</td>\n",
       "      <td>354203</td>\n",
       "      <td>14292</td>\n",
       "      <td>4.05</td>\n",
       "    </tr>\n",
       "    <tr>\n",
       "      <th>17</th>\n",
       "      <td>Arts &amp; Entertainment</td>\n",
       "      <td>335139</td>\n",
       "      <td>5434</td>\n",
       "      <td>4.23</td>\n",
       "    </tr>\n",
       "    <tr>\n",
       "      <th>18</th>\n",
       "      <td>Cocktail Bars</td>\n",
       "      <td>328110</td>\n",
       "      <td>1718</td>\n",
       "      <td>4.14</td>\n",
       "    </tr>\n",
       "    <tr>\n",
       "      <th>19</th>\n",
       "      <td>Salad</td>\n",
       "      <td>321566</td>\n",
       "      <td>3064</td>\n",
       "      <td>3.91</td>\n",
       "    </tr>\n",
       "  </tbody>\n",
       "</table>\n",
       "</div>"
      ],
      "text/plain": [
       "                     CATEGORY  NUM_OF_REVIEWS  NUM_OF_BUSINESSES AVG_STARS\n",
       "0                 Restaurants         4561279              52268      3.77\n",
       "1                        Food         1752281              27781      3.93\n",
       "2                   Nightlife         1488163              12281      3.91\n",
       "3                        Bars         1406415              11065      3.90\n",
       "4      American (Traditional)          976483               8139      3.65\n",
       "5              American (New)          950560               6097      3.84\n",
       "6          Breakfast & Brunch          839467               6239      3.82\n",
       "7                  Sandwiches          669139               8366      3.80\n",
       "8                     Seafood          600183               3539      3.92\n",
       "9   Event Planning & Services          591442               9895      3.93\n",
       "10                   Shopping          505372              24395      3.86\n",
       "11                      Pizza          456944               7093      3.60\n",
       "12                    Burgers          429866               5636      3.19\n",
       "13               Coffee & Tea          428230               6703      3.78\n",
       "14                    Italian          422530               4573      3.76\n",
       "15                    Mexican          416307               4600      3.78\n",
       "16              Beauty & Spas          354203              14292      4.05\n",
       "17       Arts & Entertainment          335139               5434      4.23\n",
       "18              Cocktail Bars          328110               1718      4.14\n",
       "19                      Salad          321566               3064      3.91"
      ]
     },
     "metadata": {},
     "output_type": "display_data"
    }
   ],
   "source": [
    "# Top 20 categories by number of reviews\n",
    "df = cur.execute('''\n",
    "                 WITH cte AS (\n",
    "                    -- split the categories column so each business has a row for each category it has\n",
    "                    SELECT business_id, stars, review_count,\n",
    "                    TRIM(A.value) AS category\n",
    "                    FROM yelp_businesses,\n",
    "                    LATERAL SPLIT_TO_TABLE(categories, ',') A\n",
    "                )\n",
    "\n",
    "                SELECT category, SUM(review_count) AS num_of_reviews, COUNT(DISTINCT business_id) AS num_of_businesses, ROUND(AVG(stars), 2) AS avg_rating\n",
    "                FROM cte\n",
    "                GROUP BY 1  \n",
    "                ORDER BY 2 DESC\n",
    "                LIMIT 20;\n",
    "                 ''').fetch_pandas_all()\n",
    "\n",
    "display(df)"
   ]
  },
  {
   "cell_type": "markdown",
   "id": "dacd9a9b",
   "metadata": {},
   "source": [
    "#### Average Star Rating by Category"
   ]
  },
  {
   "cell_type": "code",
   "execution_count": null,
   "id": "c5ec5842",
   "metadata": {},
   "outputs": [
    {
     "data": {
      "text/html": [
       "<div>\n",
       "<style scoped>\n",
       "    .dataframe tbody tr th:only-of-type {\n",
       "        vertical-align: middle;\n",
       "    }\n",
       "\n",
       "    .dataframe tbody tr th {\n",
       "        vertical-align: top;\n",
       "    }\n",
       "\n",
       "    .dataframe thead th {\n",
       "        text-align: right;\n",
       "    }\n",
       "</style>\n",
       "<table border=\"1\" class=\"dataframe\">\n",
       "  <thead>\n",
       "    <tr style=\"text-align: right;\">\n",
       "      <th></th>\n",
       "      <th>CATEGORY</th>\n",
       "      <th>NUM_OF_REVIEWS</th>\n",
       "      <th>NUM_OF_BUSINESSES</th>\n",
       "      <th>AVG_STARS</th>\n",
       "    </tr>\n",
       "  </thead>\n",
       "  <tbody>\n",
       "    <tr>\n",
       "      <th>0</th>\n",
       "      <td>Conveyor Belt Sushi</td>\n",
       "      <td>1128</td>\n",
       "      <td>1</td>\n",
       "      <td>5.00</td>\n",
       "    </tr>\n",
       "    <tr>\n",
       "      <th>1</th>\n",
       "      <td>Art Tours</td>\n",
       "      <td>1962</td>\n",
       "      <td>18</td>\n",
       "      <td>4.94</td>\n",
       "    </tr>\n",
       "    <tr>\n",
       "      <th>2</th>\n",
       "      <td>Bike tours</td>\n",
       "      <td>1714</td>\n",
       "      <td>32</td>\n",
       "      <td>4.88</td>\n",
       "    </tr>\n",
       "    <tr>\n",
       "      <th>3</th>\n",
       "      <td>Sugaring</td>\n",
       "      <td>1549</td>\n",
       "      <td>39</td>\n",
       "      <td>4.85</td>\n",
       "    </tr>\n",
       "    <tr>\n",
       "      <th>4</th>\n",
       "      <td>Cideries</td>\n",
       "      <td>1650</td>\n",
       "      <td>25</td>\n",
       "      <td>4.84</td>\n",
       "    </tr>\n",
       "    <tr>\n",
       "      <th>5</th>\n",
       "      <td>Beer Tours</td>\n",
       "      <td>2949</td>\n",
       "      <td>51</td>\n",
       "      <td>4.82</td>\n",
       "    </tr>\n",
       "    <tr>\n",
       "      <th>6</th>\n",
       "      <td>Reiki</td>\n",
       "      <td>3048</td>\n",
       "      <td>201</td>\n",
       "      <td>4.82</td>\n",
       "    </tr>\n",
       "    <tr>\n",
       "      <th>7</th>\n",
       "      <td>Barre Classes</td>\n",
       "      <td>2926</td>\n",
       "      <td>158</td>\n",
       "      <td>4.80</td>\n",
       "    </tr>\n",
       "    <tr>\n",
       "      <th>8</th>\n",
       "      <td>Axe Throwing</td>\n",
       "      <td>1856</td>\n",
       "      <td>53</td>\n",
       "      <td>4.79</td>\n",
       "    </tr>\n",
       "    <tr>\n",
       "      <th>9</th>\n",
       "      <td>Meditation Centers</td>\n",
       "      <td>1451</td>\n",
       "      <td>99</td>\n",
       "      <td>4.79</td>\n",
       "    </tr>\n",
       "    <tr>\n",
       "      <th>10</th>\n",
       "      <td>Photo Booth Rentals</td>\n",
       "      <td>1618</td>\n",
       "      <td>92</td>\n",
       "      <td>4.79</td>\n",
       "    </tr>\n",
       "    <tr>\n",
       "      <th>11</th>\n",
       "      <td>Paint &amp; Sip</td>\n",
       "      <td>2822</td>\n",
       "      <td>109</td>\n",
       "      <td>4.78</td>\n",
       "    </tr>\n",
       "    <tr>\n",
       "      <th>12</th>\n",
       "      <td>Float Spa</td>\n",
       "      <td>1204</td>\n",
       "      <td>50</td>\n",
       "      <td>4.76</td>\n",
       "    </tr>\n",
       "    <tr>\n",
       "      <th>13</th>\n",
       "      <td>Distilleries</td>\n",
       "      <td>9363</td>\n",
       "      <td>105</td>\n",
       "      <td>4.75</td>\n",
       "    </tr>\n",
       "    <tr>\n",
       "      <th>14</th>\n",
       "      <td>Historical Tours</td>\n",
       "      <td>15355</td>\n",
       "      <td>136</td>\n",
       "      <td>4.74</td>\n",
       "    </tr>\n",
       "    <tr>\n",
       "      <th>15</th>\n",
       "      <td>Life Coach</td>\n",
       "      <td>1831</td>\n",
       "      <td>130</td>\n",
       "      <td>4.73</td>\n",
       "    </tr>\n",
       "    <tr>\n",
       "      <th>16</th>\n",
       "      <td>Botanical Gardens</td>\n",
       "      <td>7996</td>\n",
       "      <td>60</td>\n",
       "      <td>4.72</td>\n",
       "    </tr>\n",
       "    <tr>\n",
       "      <th>17</th>\n",
       "      <td>Personal Chefs</td>\n",
       "      <td>4552</td>\n",
       "      <td>116</td>\n",
       "      <td>4.72</td>\n",
       "    </tr>\n",
       "    <tr>\n",
       "      <th>18</th>\n",
       "      <td>Party Bike Rentals</td>\n",
       "      <td>1070</td>\n",
       "      <td>18</td>\n",
       "      <td>4.72</td>\n",
       "    </tr>\n",
       "    <tr>\n",
       "      <th>19</th>\n",
       "      <td>Hiking</td>\n",
       "      <td>6301</td>\n",
       "      <td>211</td>\n",
       "      <td>4.72</td>\n",
       "    </tr>\n",
       "  </tbody>\n",
       "</table>\n",
       "</div>"
      ],
      "text/plain": [
       "               CATEGORY  NUM_OF_REVIEWS  NUM_OF_BUSINESSES AVG_STARS\n",
       "0   Conveyor Belt Sushi            1128                  1      5.00\n",
       "1             Art Tours            1962                 18      4.94\n",
       "2            Bike tours            1714                 32      4.88\n",
       "3              Sugaring            1549                 39      4.85\n",
       "4              Cideries            1650                 25      4.84\n",
       "5            Beer Tours            2949                 51      4.82\n",
       "6                 Reiki            3048                201      4.82\n",
       "7         Barre Classes            2926                158      4.80\n",
       "8          Axe Throwing            1856                 53      4.79\n",
       "9    Meditation Centers            1451                 99      4.79\n",
       "10  Photo Booth Rentals            1618                 92      4.79\n",
       "11          Paint & Sip            2822                109      4.78\n",
       "12            Float Spa            1204                 50      4.76\n",
       "13         Distilleries            9363                105      4.75\n",
       "14     Historical Tours           15355                136      4.74\n",
       "15           Life Coach            1831                130      4.73\n",
       "16    Botanical Gardens            7996                 60      4.72\n",
       "17       Personal Chefs            4552                116      4.72\n",
       "18   Party Bike Rentals            1070                 18      4.72\n",
       "19               Hiking            6301                211      4.72"
      ]
     },
     "metadata": {},
     "output_type": "display_data"
    }
   ],
   "source": [
    "# Top 20 categories by average star rating (minimum 1000 reviews)\n",
    "df = cur.execute('''\n",
    "                 WITH cte AS (\n",
    "                    -- split the categories column so each business has a row for each category it has\n",
    "                    SELECT business_id, stars, review_count,\n",
    "                    TRIM(A.value) AS category\n",
    "                    FROM yelp_businesses,\n",
    "                    LATERAL SPLIT_TO_TABLE(categories, ',') A\n",
    "                )\n",
    "\n",
    "                SELECT category, SUM(review_count) AS num_of_reviews, COUNT(DISTINCT business_id) AS num_of_businesses, ROUND(AVG(stars), 2) AS avg_rating\n",
    "                FROM cte\n",
    "                GROUP BY 1  \n",
    "                HAVING SUM(review_count) >= 1000\n",
    "                ORDER BY 4 DESC\n",
    "                LIMIT 20;\n",
    "                 ''').fetch_pandas_all()\n",
    "\n",
    "display(df)"
   ]
  },
  {
   "cell_type": "code",
   "execution_count": null,
   "id": "e6d9f5e4",
   "metadata": {},
   "outputs": [
    {
     "data": {
      "text/html": [
       "<div>\n",
       "<style scoped>\n",
       "    .dataframe tbody tr th:only-of-type {\n",
       "        vertical-align: middle;\n",
       "    }\n",
       "\n",
       "    .dataframe tbody tr th {\n",
       "        vertical-align: top;\n",
       "    }\n",
       "\n",
       "    .dataframe thead th {\n",
       "        text-align: right;\n",
       "    }\n",
       "</style>\n",
       "<table border=\"1\" class=\"dataframe\">\n",
       "  <thead>\n",
       "    <tr style=\"text-align: right;\">\n",
       "      <th></th>\n",
       "      <th>CATEGORY</th>\n",
       "      <th>NUM_OF_REVIEWS</th>\n",
       "      <th>NUM_OF_BUSINESSES</th>\n",
       "      <th>AVG_STARS</th>\n",
       "    </tr>\n",
       "  </thead>\n",
       "  <tbody>\n",
       "    <tr>\n",
       "      <th>0</th>\n",
       "      <td>Television Service Providers</td>\n",
       "      <td>4253</td>\n",
       "      <td>159</td>\n",
       "      <td>2.33</td>\n",
       "    </tr>\n",
       "    <tr>\n",
       "      <th>1</th>\n",
       "      <td>University Housing</td>\n",
       "      <td>2630</td>\n",
       "      <td>122</td>\n",
       "      <td>2.53</td>\n",
       "    </tr>\n",
       "    <tr>\n",
       "      <th>2</th>\n",
       "      <td>Internet Service Providers</td>\n",
       "      <td>7947</td>\n",
       "      <td>356</td>\n",
       "      <td>2.60</td>\n",
       "    </tr>\n",
       "    <tr>\n",
       "      <th>3</th>\n",
       "      <td>Property Management</td>\n",
       "      <td>12282</td>\n",
       "      <td>759</td>\n",
       "      <td>2.74</td>\n",
       "    </tr>\n",
       "    <tr>\n",
       "      <th>4</th>\n",
       "      <td>Post Offices</td>\n",
       "      <td>5284</td>\n",
       "      <td>327</td>\n",
       "      <td>2.79</td>\n",
       "    </tr>\n",
       "    <tr>\n",
       "      <th>5</th>\n",
       "      <td>Apartments</td>\n",
       "      <td>28510</td>\n",
       "      <td>1921</td>\n",
       "      <td>2.82</td>\n",
       "    </tr>\n",
       "    <tr>\n",
       "      <th>6</th>\n",
       "      <td>Truck Rental</td>\n",
       "      <td>3633</td>\n",
       "      <td>206</td>\n",
       "      <td>2.84</td>\n",
       "    </tr>\n",
       "    <tr>\n",
       "      <th>7</th>\n",
       "      <td>Fast Food</td>\n",
       "      <td>224529</td>\n",
       "      <td>6472</td>\n",
       "      <td>2.89</td>\n",
       "    </tr>\n",
       "    <tr>\n",
       "      <th>8</th>\n",
       "      <td>Airlines</td>\n",
       "      <td>6018</td>\n",
       "      <td>118</td>\n",
       "      <td>2.89</td>\n",
       "    </tr>\n",
       "    <tr>\n",
       "      <th>9</th>\n",
       "      <td>Utilities</td>\n",
       "      <td>2276</td>\n",
       "      <td>102</td>\n",
       "      <td>2.90</td>\n",
       "    </tr>\n",
       "    <tr>\n",
       "      <th>10</th>\n",
       "      <td>Banks &amp; Credit Unions</td>\n",
       "      <td>7577</td>\n",
       "      <td>749</td>\n",
       "      <td>2.90</td>\n",
       "    </tr>\n",
       "    <tr>\n",
       "      <th>11</th>\n",
       "      <td>Parking</td>\n",
       "      <td>9327</td>\n",
       "      <td>243</td>\n",
       "      <td>2.90</td>\n",
       "    </tr>\n",
       "    <tr>\n",
       "      <th>12</th>\n",
       "      <td>Telecommunications</td>\n",
       "      <td>5735</td>\n",
       "      <td>397</td>\n",
       "      <td>2.95</td>\n",
       "    </tr>\n",
       "    <tr>\n",
       "      <th>13</th>\n",
       "      <td>Pharmacy</td>\n",
       "      <td>8109</td>\n",
       "      <td>503</td>\n",
       "      <td>2.96</td>\n",
       "    </tr>\n",
       "    <tr>\n",
       "      <th>14</th>\n",
       "      <td>Propane</td>\n",
       "      <td>2428</td>\n",
       "      <td>147</td>\n",
       "      <td>2.99</td>\n",
       "    </tr>\n",
       "    <tr>\n",
       "      <th>15</th>\n",
       "      <td>Car Rental</td>\n",
       "      <td>24378</td>\n",
       "      <td>670</td>\n",
       "      <td>3.02</td>\n",
       "    </tr>\n",
       "    <tr>\n",
       "      <th>16</th>\n",
       "      <td>Drugstores</td>\n",
       "      <td>30531</td>\n",
       "      <td>1630</td>\n",
       "      <td>3.02</td>\n",
       "    </tr>\n",
       "    <tr>\n",
       "      <th>17</th>\n",
       "      <td>Emergency Rooms</td>\n",
       "      <td>2654</td>\n",
       "      <td>93</td>\n",
       "      <td>3.06</td>\n",
       "    </tr>\n",
       "    <tr>\n",
       "      <th>18</th>\n",
       "      <td>Mobile Phones</td>\n",
       "      <td>20714</td>\n",
       "      <td>952</td>\n",
       "      <td>3.09</td>\n",
       "    </tr>\n",
       "    <tr>\n",
       "      <th>19</th>\n",
       "      <td>Hospitals</td>\n",
       "      <td>10762</td>\n",
       "      <td>395</td>\n",
       "      <td>3.10</td>\n",
       "    </tr>\n",
       "  </tbody>\n",
       "</table>\n",
       "</div>"
      ],
      "text/plain": [
       "                        CATEGORY  NUM_OF_REVIEWS  NUM_OF_BUSINESSES AVG_STARS\n",
       "0   Television Service Providers            4253                159      2.33\n",
       "1             University Housing            2630                122      2.53\n",
       "2     Internet Service Providers            7947                356      2.60\n",
       "3            Property Management           12282                759      2.74\n",
       "4                   Post Offices            5284                327      2.79\n",
       "5                     Apartments           28510               1921      2.82\n",
       "6                   Truck Rental            3633                206      2.84\n",
       "7                      Fast Food          224529               6472      2.89\n",
       "8                       Airlines            6018                118      2.89\n",
       "9                      Utilities            2276                102      2.90\n",
       "10         Banks & Credit Unions            7577                749      2.90\n",
       "11                       Parking            9327                243      2.90\n",
       "12            Telecommunications            5735                397      2.95\n",
       "13                      Pharmacy            8109                503      2.96\n",
       "14                       Propane            2428                147      2.99\n",
       "15                    Car Rental           24378                670      3.02\n",
       "16                    Drugstores           30531               1630      3.02\n",
       "17               Emergency Rooms            2654                 93      3.06\n",
       "18                 Mobile Phones           20714                952      3.09\n",
       "19                     Hospitals           10762                395      3.10"
      ]
     },
     "metadata": {},
     "output_type": "display_data"
    }
   ],
   "source": [
    "# Bottom 20 categories by average star rating (minimum 1000 reviews)\n",
    "df = cur.execute('''\n",
    "                 WITH cte AS (\n",
    "                    -- split the categories column so each business has a row for each category it has\n",
    "                    SELECT business_id, stars, review_count,\n",
    "                    TRIM(A.value) AS category\n",
    "                    FROM yelp_businesses,\n",
    "                    LATERAL SPLIT_TO_TABLE(categories, ',') A\n",
    "                )\n",
    "\n",
    "                SELECT category, SUM(review_count) AS num_of_reviews, COUNT(DISTINCT business_id) AS num_of_businesses, ROUND(AVG(stars), 2) AS avg_rating\n",
    "                FROM cte\n",
    "                GROUP BY 1  \n",
    "                HAVING SUM(review_count) >= 1000\n",
    "                ORDER BY 4\n",
    "                LIMIT 20;\n",
    "                 ''').fetch_pandas_all()\n",
    "\n",
    "display(df)"
   ]
  },
  {
   "cell_type": "code",
   "execution_count": null,
   "id": "899e5525",
   "metadata": {},
   "outputs": [
    {
     "data": {
      "text/html": [
       "<div>\n",
       "<style scoped>\n",
       "    .dataframe tbody tr th:only-of-type {\n",
       "        vertical-align: middle;\n",
       "    }\n",
       "\n",
       "    .dataframe tbody tr th {\n",
       "        vertical-align: top;\n",
       "    }\n",
       "\n",
       "    .dataframe thead th {\n",
       "        text-align: right;\n",
       "    }\n",
       "</style>\n",
       "<table border=\"1\" class=\"dataframe\">\n",
       "  <thead>\n",
       "    <tr style=\"text-align: right;\">\n",
       "      <th></th>\n",
       "      <th>CATEGORY</th>\n",
       "      <th>NUM_OF_REVIEWS</th>\n",
       "      <th>NUM_OF_BUSINESSES</th>\n",
       "      <th>AVG_STARS</th>\n",
       "    </tr>\n",
       "  </thead>\n",
       "  <tbody>\n",
       "    <tr>\n",
       "      <th>0</th>\n",
       "      <td>Metal Detector Services</td>\n",
       "      <td>6</td>\n",
       "      <td>1</td>\n",
       "      <td>5.00</td>\n",
       "    </tr>\n",
       "    <tr>\n",
       "      <th>1</th>\n",
       "      <td>Patent Law</td>\n",
       "      <td>6</td>\n",
       "      <td>1</td>\n",
       "      <td>5.00</td>\n",
       "    </tr>\n",
       "    <tr>\n",
       "      <th>2</th>\n",
       "      <td>Karaoke Rental</td>\n",
       "      <td>7</td>\n",
       "      <td>1</td>\n",
       "      <td>5.00</td>\n",
       "    </tr>\n",
       "    <tr>\n",
       "      <th>3</th>\n",
       "      <td>Circus Schools</td>\n",
       "      <td>9</td>\n",
       "      <td>1</td>\n",
       "      <td>5.00</td>\n",
       "    </tr>\n",
       "    <tr>\n",
       "      <th>4</th>\n",
       "      <td>Bubble Soccer</td>\n",
       "      <td>13</td>\n",
       "      <td>1</td>\n",
       "      <td>5.00</td>\n",
       "    </tr>\n",
       "    <tr>\n",
       "      <th>5</th>\n",
       "      <td>Mohels</td>\n",
       "      <td>14</td>\n",
       "      <td>1</td>\n",
       "      <td>5.00</td>\n",
       "    </tr>\n",
       "    <tr>\n",
       "      <th>6</th>\n",
       "      <td>Art Consultants</td>\n",
       "      <td>15</td>\n",
       "      <td>2</td>\n",
       "      <td>5.00</td>\n",
       "    </tr>\n",
       "    <tr>\n",
       "      <th>7</th>\n",
       "      <td>Calligraphy</td>\n",
       "      <td>16</td>\n",
       "      <td>2</td>\n",
       "      <td>5.00</td>\n",
       "    </tr>\n",
       "    <tr>\n",
       "      <th>8</th>\n",
       "      <td>Water Suppliers</td>\n",
       "      <td>17</td>\n",
       "      <td>1</td>\n",
       "      <td>5.00</td>\n",
       "    </tr>\n",
       "    <tr>\n",
       "      <th>9</th>\n",
       "      <td>Silent Disco</td>\n",
       "      <td>37</td>\n",
       "      <td>2</td>\n",
       "      <td>5.00</td>\n",
       "    </tr>\n",
       "    <tr>\n",
       "      <th>10</th>\n",
       "      <td>Childproofing</td>\n",
       "      <td>39</td>\n",
       "      <td>3</td>\n",
       "      <td>5.00</td>\n",
       "    </tr>\n",
       "    <tr>\n",
       "      <th>11</th>\n",
       "      <td>Cheese Tasting Classes</td>\n",
       "      <td>51</td>\n",
       "      <td>2</td>\n",
       "      <td>5.00</td>\n",
       "    </tr>\n",
       "    <tr>\n",
       "      <th>12</th>\n",
       "      <td>Experiences</td>\n",
       "      <td>56</td>\n",
       "      <td>2</td>\n",
       "      <td>5.00</td>\n",
       "    </tr>\n",
       "    <tr>\n",
       "      <th>13</th>\n",
       "      <td>Sport Equipment Hire</td>\n",
       "      <td>65</td>\n",
       "      <td>1</td>\n",
       "      <td>5.00</td>\n",
       "    </tr>\n",
       "    <tr>\n",
       "      <th>14</th>\n",
       "      <td>Somali</td>\n",
       "      <td>135</td>\n",
       "      <td>2</td>\n",
       "      <td>5.00</td>\n",
       "    </tr>\n",
       "    <tr>\n",
       "      <th>15</th>\n",
       "      <td>Real Estate Photography</td>\n",
       "      <td>339</td>\n",
       "      <td>32</td>\n",
       "      <td>4.91</td>\n",
       "    </tr>\n",
       "    <tr>\n",
       "      <th>16</th>\n",
       "      <td>Undersea/Hyperbaric Medicine</td>\n",
       "      <td>65</td>\n",
       "      <td>5</td>\n",
       "      <td>4.90</td>\n",
       "    </tr>\n",
       "    <tr>\n",
       "      <th>17</th>\n",
       "      <td>Gerontologists</td>\n",
       "      <td>32</td>\n",
       "      <td>4</td>\n",
       "      <td>4.88</td>\n",
       "    </tr>\n",
       "    <tr>\n",
       "      <th>18</th>\n",
       "      <td>Art Tours</td>\n",
       "      <td>1962</td>\n",
       "      <td>18</td>\n",
       "      <td>4.86</td>\n",
       "    </tr>\n",
       "    <tr>\n",
       "      <th>19</th>\n",
       "      <td>Boudoir Photography</td>\n",
       "      <td>392</td>\n",
       "      <td>37</td>\n",
       "      <td>4.84</td>\n",
       "    </tr>\n",
       "  </tbody>\n",
       "</table>\n",
       "</div>"
      ],
      "text/plain": [
       "                        CATEGORY  NUM_OF_REVIEWS  NUM_OF_BUSINESSES  AVG_STARS\n",
       "0        Metal Detector Services               6                  1       5.00\n",
       "1                     Patent Law               6                  1       5.00\n",
       "2                 Karaoke Rental               7                  1       5.00\n",
       "3                 Circus Schools               9                  1       5.00\n",
       "4                  Bubble Soccer              13                  1       5.00\n",
       "5                         Mohels              14                  1       5.00\n",
       "6                Art Consultants              15                  2       5.00\n",
       "7                    Calligraphy              16                  2       5.00\n",
       "8                Water Suppliers              17                  1       5.00\n",
       "9                   Silent Disco              37                  2       5.00\n",
       "10                 Childproofing              39                  3       5.00\n",
       "11        Cheese Tasting Classes              51                  2       5.00\n",
       "12                   Experiences              56                  2       5.00\n",
       "13          Sport Equipment Hire              65                  1       5.00\n",
       "14                        Somali             135                  2       5.00\n",
       "15       Real Estate Photography             339                 32       4.91\n",
       "16  Undersea/Hyperbaric Medicine              65                  5       4.90\n",
       "17                Gerontologists              32                  4       4.88\n",
       "18                     Art Tours            1962                 18       4.86\n",
       "19           Boudoir Photography             392                 37       4.84"
      ]
     },
     "metadata": {},
     "output_type": "display_data"
    }
   ],
   "source": [
    "# Categories with high stars and low engagement\n",
    "df = cur.execute('''\n",
    "                 WITH cte AS (\n",
    "                    -- split the categories column so each business has a row for each category it has\n",
    "                    SELECT business_id, stars, review_count,\n",
    "                    TRIM(A.value) AS category\n",
    "                    FROM yelp_businesses,\n",
    "                    LATERAL SPLIT_TO_TABLE(categories, ',') A\n",
    "                )\n",
    "\n",
    "                SELECT category, SUM(review_count) AS num_of_reviews, COUNT(DISTINCT business_id) AS num_of_businesses, ROUND(AVG(stars), 2) AS avg_rating\n",
    "                FROM cte\n",
    "                GROUP BY 1  \n",
    "                ORDER BY 4 DESC, 2\n",
    "                LIMIT 20;\n",
    "                 ''').fetch_pandas_all()\n",
    "\n",
    "display(df)"
   ]
  },
  {
   "cell_type": "markdown",
   "id": "35227642",
   "metadata": {},
   "source": [
    "## Reviews Analysis"
   ]
  },
  {
   "cell_type": "markdown",
   "id": "5cc19301",
   "metadata": {},
   "source": [
    "#### Total Review Volume by Star Rating"
   ]
  },
  {
   "cell_type": "code",
   "execution_count": 45,
   "id": "d27f6780",
   "metadata": {},
   "outputs": [
    {
     "data": {
      "text/html": [
       "<div>\n",
       "<style scoped>\n",
       "    .dataframe tbody tr th:only-of-type {\n",
       "        vertical-align: middle;\n",
       "    }\n",
       "\n",
       "    .dataframe tbody tr th {\n",
       "        vertical-align: top;\n",
       "    }\n",
       "\n",
       "    .dataframe thead th {\n",
       "        text-align: right;\n",
       "    }\n",
       "</style>\n",
       "<table border=\"1\" class=\"dataframe\">\n",
       "  <thead>\n",
       "    <tr style=\"text-align: right;\">\n",
       "      <th></th>\n",
       "      <th>REVIEW_RATING</th>\n",
       "      <th>NUM_REVIEWS</th>\n",
       "    </tr>\n",
       "  </thead>\n",
       "  <tbody>\n",
       "    <tr>\n",
       "      <th>0</th>\n",
       "      <td>5 Star</td>\n",
       "      <td>3231627</td>\n",
       "    </tr>\n",
       "    <tr>\n",
       "      <th>1</th>\n",
       "      <td>4 Star</td>\n",
       "      <td>1452918</td>\n",
       "    </tr>\n",
       "    <tr>\n",
       "      <th>2</th>\n",
       "      <td>1 Star</td>\n",
       "      <td>1069561</td>\n",
       "    </tr>\n",
       "    <tr>\n",
       "      <th>3</th>\n",
       "      <td>3 Star</td>\n",
       "      <td>691934</td>\n",
       "    </tr>\n",
       "    <tr>\n",
       "      <th>4</th>\n",
       "      <td>2 Star</td>\n",
       "      <td>544240</td>\n",
       "    </tr>\n",
       "  </tbody>\n",
       "</table>\n",
       "</div>"
      ],
      "text/plain": [
       "  REVIEW_RATING  NUM_REVIEWS\n",
       "0        5 Star      3231627\n",
       "1        4 Star      1452918\n",
       "2        1 Star      1069561\n",
       "3        3 Star       691934\n",
       "4        2 Star       544240"
      ]
     },
     "metadata": {},
     "output_type": "display_data"
    }
   ],
   "source": [
    "# Count of reviews for each star value 1-5\n",
    "df = cur.execute('''\n",
    "                 SELECT '1 Star' AS review_rating, COUNT(review_id) AS num_reviews FROM yelp_reviews WHERE stars = 1\n",
    "                 UNION\n",
    "                 SELECT '2 Star' AS review_rating, COUNT(review_id) AS num_reviews FROM yelp_reviews WHERE stars = 2\n",
    "                 UNION\n",
    "                 SELECT '3 Star' AS review_rating, COUNT(review_id) AS num_reviews FROM yelp_reviews WHERE stars = 3\n",
    "                 UNION\n",
    "                 SELECT '4 Star' AS review_rating, COUNT(review_id) AS num_reviews FROM yelp_reviews WHERE stars = 4\n",
    "                 UNION\n",
    "                 SELECT '5 Star' AS review_rating, COUNT(review_id) AS num_reviews FROM yelp_reviews WHERE stars = 5\n",
    "                 ORDER BY num_reviews DESC;\n",
    "                 ''').fetch_pandas_all()\n",
    "\n",
    "display(df)"
   ]
  },
  {
   "cell_type": "markdown",
   "id": "8f6f1329",
   "metadata": {},
   "source": [
    "#### Volume of Each Rating by Business"
   ]
  },
  {
   "cell_type": "code",
   "execution_count": null,
   "id": "5a96e8ba",
   "metadata": {},
   "outputs": [
    {
     "data": {
      "text/html": [
       "<div>\n",
       "<style scoped>\n",
       "    .dataframe tbody tr th:only-of-type {\n",
       "        vertical-align: middle;\n",
       "    }\n",
       "\n",
       "    .dataframe tbody tr th {\n",
       "        vertical-align: top;\n",
       "    }\n",
       "\n",
       "    .dataframe thead th {\n",
       "        text-align: right;\n",
       "    }\n",
       "</style>\n",
       "<table border=\"1\" class=\"dataframe\">\n",
       "  <thead>\n",
       "    <tr style=\"text-align: right;\">\n",
       "      <th></th>\n",
       "      <th>BUSINESS_ID</th>\n",
       "      <th>ONE_STAR_REVIEWS</th>\n",
       "      <th>TWO_STAR_REVIEWS</th>\n",
       "      <th>THREE_STAR_REVIEWS</th>\n",
       "      <th>FOUR_STAR_REVIEWS</th>\n",
       "      <th>FIVE_STAR_REVIEWS</th>\n",
       "      <th>TOTAL_REVIEWS</th>\n",
       "      <th>TOTAL_STARS</th>\n",
       "    </tr>\n",
       "  </thead>\n",
       "  <tbody>\n",
       "    <tr>\n",
       "      <th>0</th>\n",
       "      <td>lCjNNCJKMEeAHjSUFqEH5A</td>\n",
       "      <td>0</td>\n",
       "      <td>0</td>\n",
       "      <td>0</td>\n",
       "      <td>3</td>\n",
       "      <td>6</td>\n",
       "      <td>9</td>\n",
       "      <td>42</td>\n",
       "    </tr>\n",
       "    <tr>\n",
       "      <th>1</th>\n",
       "      <td>nwN92Uje-xIKE5voPTTvBQ</td>\n",
       "      <td>18</td>\n",
       "      <td>28</td>\n",
       "      <td>36</td>\n",
       "      <td>102</td>\n",
       "      <td>425</td>\n",
       "      <td>609</td>\n",
       "      <td>2715</td>\n",
       "    </tr>\n",
       "    <tr>\n",
       "      <th>2</th>\n",
       "      <td>8OGLDw2Z0UK0aURh8eRVMQ</td>\n",
       "      <td>15</td>\n",
       "      <td>8</td>\n",
       "      <td>5</td>\n",
       "      <td>2</td>\n",
       "      <td>5</td>\n",
       "      <td>35</td>\n",
       "      <td>79</td>\n",
       "    </tr>\n",
       "    <tr>\n",
       "      <th>3</th>\n",
       "      <td>S8ZFYEgMejpChID8tzKo9A</td>\n",
       "      <td>79</td>\n",
       "      <td>115</td>\n",
       "      <td>236</td>\n",
       "      <td>658</td>\n",
       "      <td>1074</td>\n",
       "      <td>2162</td>\n",
       "      <td>9019</td>\n",
       "    </tr>\n",
       "    <tr>\n",
       "      <th>4</th>\n",
       "      <td>YRw-uBpdzRZngN6zzoC4WA</td>\n",
       "      <td>2</td>\n",
       "      <td>2</td>\n",
       "      <td>1</td>\n",
       "      <td>2</td>\n",
       "      <td>7</td>\n",
       "      <td>14</td>\n",
       "      <td>52</td>\n",
       "    </tr>\n",
       "    <tr>\n",
       "      <th>...</th>\n",
       "      <td>...</td>\n",
       "      <td>...</td>\n",
       "      <td>...</td>\n",
       "      <td>...</td>\n",
       "      <td>...</td>\n",
       "      <td>...</td>\n",
       "      <td>...</td>\n",
       "      <td>...</td>\n",
       "    </tr>\n",
       "    <tr>\n",
       "      <th>150341</th>\n",
       "      <td>I6p837glbhDog1XB4NSvKA</td>\n",
       "      <td>0</td>\n",
       "      <td>0</td>\n",
       "      <td>2</td>\n",
       "      <td>2</td>\n",
       "      <td>1</td>\n",
       "      <td>5</td>\n",
       "      <td>19</td>\n",
       "    </tr>\n",
       "    <tr>\n",
       "      <th>150342</th>\n",
       "      <td>5LIBxc9PNCGjtGk1I7HOpg</td>\n",
       "      <td>0</td>\n",
       "      <td>0</td>\n",
       "      <td>0</td>\n",
       "      <td>0</td>\n",
       "      <td>5</td>\n",
       "      <td>5</td>\n",
       "      <td>25</td>\n",
       "    </tr>\n",
       "    <tr>\n",
       "      <th>150343</th>\n",
       "      <td>615-GZzUg2Xpw-AkzOeXKA</td>\n",
       "      <td>3</td>\n",
       "      <td>0</td>\n",
       "      <td>0</td>\n",
       "      <td>0</td>\n",
       "      <td>2</td>\n",
       "      <td>5</td>\n",
       "      <td>13</td>\n",
       "    </tr>\n",
       "    <tr>\n",
       "      <th>150344</th>\n",
       "      <td>HEP7VxLY2v0mRDXPARrPyQ</td>\n",
       "      <td>1</td>\n",
       "      <td>0</td>\n",
       "      <td>0</td>\n",
       "      <td>0</td>\n",
       "      <td>4</td>\n",
       "      <td>5</td>\n",
       "      <td>21</td>\n",
       "    </tr>\n",
       "    <tr>\n",
       "      <th>150345</th>\n",
       "      <td>BVw_ABpa-K2mQvsQB5eIVg</td>\n",
       "      <td>0</td>\n",
       "      <td>0</td>\n",
       "      <td>0</td>\n",
       "      <td>0</td>\n",
       "      <td>6</td>\n",
       "      <td>6</td>\n",
       "      <td>30</td>\n",
       "    </tr>\n",
       "  </tbody>\n",
       "</table>\n",
       "<p>150346 rows × 8 columns</p>\n",
       "</div>"
      ],
      "text/plain": [
       "                   BUSINESS_ID  ONE_STAR_REVIEWS  TWO_STAR_REVIEWS  \\\n",
       "0       lCjNNCJKMEeAHjSUFqEH5A                 0                 0   \n",
       "1       nwN92Uje-xIKE5voPTTvBQ                18                28   \n",
       "2       8OGLDw2Z0UK0aURh8eRVMQ                15                 8   \n",
       "3       S8ZFYEgMejpChID8tzKo9A                79               115   \n",
       "4       YRw-uBpdzRZngN6zzoC4WA                 2                 2   \n",
       "...                        ...               ...               ...   \n",
       "150341  I6p837glbhDog1XB4NSvKA                 0                 0   \n",
       "150342  5LIBxc9PNCGjtGk1I7HOpg                 0                 0   \n",
       "150343  615-GZzUg2Xpw-AkzOeXKA                 3                 0   \n",
       "150344  HEP7VxLY2v0mRDXPARrPyQ                 1                 0   \n",
       "150345  BVw_ABpa-K2mQvsQB5eIVg                 0                 0   \n",
       "\n",
       "        THREE_STAR_REVIEWS  FOUR_STAR_REVIEWS  FIVE_STAR_REVIEWS  \\\n",
       "0                        0                  3                  6   \n",
       "1                       36                102                425   \n",
       "2                        5                  2                  5   \n",
       "3                      236                658               1074   \n",
       "4                        1                  2                  7   \n",
       "...                    ...                ...                ...   \n",
       "150341                   2                  2                  1   \n",
       "150342                   0                  0                  5   \n",
       "150343                   0                  0                  2   \n",
       "150344                   0                  0                  4   \n",
       "150345                   0                  0                  6   \n",
       "\n",
       "        TOTAL_REVIEWS  TOTAL_STARS  \n",
       "0                   9           42  \n",
       "1                 609         2715  \n",
       "2                  35           79  \n",
       "3                2162         9019  \n",
       "4                  14           52  \n",
       "...               ...          ...  \n",
       "150341              5           19  \n",
       "150342              5           25  \n",
       "150343              5           13  \n",
       "150344              5           21  \n",
       "150345              6           30  \n",
       "\n",
       "[150346 rows x 8 columns]"
      ]
     },
     "metadata": {},
     "output_type": "display_data"
    }
   ],
   "source": [
    "# Count of reviews with each star value by business\n",
    "df = cur.execute('''\n",
    "                 SELECT \n",
    "                    business_id, \n",
    "                    SUM(CASE WHEN stars=1 THEN 1 ELSE 0 END) AS one_star_reviews,\n",
    "                    SUM(CASE WHEN stars=2 THEN 1 ELSE 0 END) AS two_star_reviews,\n",
    "                    SUM(CASE WHEN stars=3 THEN 1 ELSE 0 END) AS three_star_reviews,\n",
    "                    SUM(CASE WHEN stars=4 THEN 1 ELSE 0 END) AS four_star_reviews,\n",
    "                    SUM(CASE WHEN stars=5 THEN 1 ELSE 0 END) AS five_star_reviews,\n",
    "                    COUNT(*) AS total_reviews,\n",
    "                    SUM(stars) AS total_stars\n",
    "                 FROM yelp_reviews\n",
    "                 GROUP BY 1;\n",
    "                 ''').fetch_pandas_all()\n",
    "\n",
    "display(df)"
   ]
  },
  {
   "cell_type": "code",
   "execution_count": null,
   "id": "6bfff26b",
   "metadata": {},
   "outputs": [
    {
     "data": {
      "text/html": [
       "<div>\n",
       "<style scoped>\n",
       "    .dataframe tbody tr th:only-of-type {\n",
       "        vertical-align: middle;\n",
       "    }\n",
       "\n",
       "    .dataframe tbody tr th {\n",
       "        vertical-align: top;\n",
       "    }\n",
       "\n",
       "    .dataframe thead th {\n",
       "        text-align: right;\n",
       "    }\n",
       "</style>\n",
       "<table border=\"1\" class=\"dataframe\">\n",
       "  <thead>\n",
       "    <tr style=\"text-align: right;\">\n",
       "      <th></th>\n",
       "      <th>NAME</th>\n",
       "      <th>CITY</th>\n",
       "      <th>STATE</th>\n",
       "      <th>TOTAL_REVIEWS</th>\n",
       "      <th>TOTAL_STARS</th>\n",
       "      <th>TRUE_AVG_STARS</th>\n",
       "      <th>ROUNDED_AVG_STARS</th>\n",
       "      <th>FIVE_STAR_PCT</th>\n",
       "      <th>ONE_STAR_PCT</th>\n",
       "    </tr>\n",
       "  </thead>\n",
       "  <tbody>\n",
       "    <tr>\n",
       "      <th>0</th>\n",
       "      <td>The Gables Apartments</td>\n",
       "      <td>Greenwood</td>\n",
       "      <td>IN</td>\n",
       "      <td>12</td>\n",
       "      <td>16</td>\n",
       "      <td>1.33</td>\n",
       "      <td>1.5</td>\n",
       "      <td>0.00</td>\n",
       "      <td>83.33</td>\n",
       "    </tr>\n",
       "    <tr>\n",
       "      <th>1</th>\n",
       "      <td>Schiano's Pizza</td>\n",
       "      <td>Warminster</td>\n",
       "      <td>PA</td>\n",
       "      <td>29</td>\n",
       "      <td>83</td>\n",
       "      <td>2.86</td>\n",
       "      <td>3.0</td>\n",
       "      <td>31.03</td>\n",
       "      <td>41.38</td>\n",
       "    </tr>\n",
       "    <tr>\n",
       "      <th>2</th>\n",
       "      <td>Caliber Collision</td>\n",
       "      <td>Largo</td>\n",
       "      <td>FL</td>\n",
       "      <td>10</td>\n",
       "      <td>34</td>\n",
       "      <td>3.40</td>\n",
       "      <td>3.5</td>\n",
       "      <td>50.00</td>\n",
       "      <td>30.00</td>\n",
       "    </tr>\n",
       "    <tr>\n",
       "      <th>3</th>\n",
       "      <td>Gail Marcus</td>\n",
       "      <td>Philadelphia</td>\n",
       "      <td>PA</td>\n",
       "      <td>9</td>\n",
       "      <td>45</td>\n",
       "      <td>5.00</td>\n",
       "      <td>5.0</td>\n",
       "      <td>100.00</td>\n",
       "      <td>0.00</td>\n",
       "    </tr>\n",
       "    <tr>\n",
       "      <th>4</th>\n",
       "      <td>Employ Health</td>\n",
       "      <td>Nashville</td>\n",
       "      <td>TN</td>\n",
       "      <td>10</td>\n",
       "      <td>50</td>\n",
       "      <td>5.00</td>\n",
       "      <td>5.0</td>\n",
       "      <td>100.00</td>\n",
       "      <td>0.00</td>\n",
       "    </tr>\n",
       "    <tr>\n",
       "      <th>5</th>\n",
       "      <td>Value Vet</td>\n",
       "      <td>Nashville</td>\n",
       "      <td>TN</td>\n",
       "      <td>51</td>\n",
       "      <td>184</td>\n",
       "      <td>3.61</td>\n",
       "      <td>3.5</td>\n",
       "      <td>47.06</td>\n",
       "      <td>15.69</td>\n",
       "    </tr>\n",
       "    <tr>\n",
       "      <th>6</th>\n",
       "      <td>America's Mattress of Tucson</td>\n",
       "      <td>Tucson</td>\n",
       "      <td>AZ</td>\n",
       "      <td>7</td>\n",
       "      <td>35</td>\n",
       "      <td>5.00</td>\n",
       "      <td>5.0</td>\n",
       "      <td>100.00</td>\n",
       "      <td>0.00</td>\n",
       "    </tr>\n",
       "    <tr>\n",
       "      <th>7</th>\n",
       "      <td>Terry House Bed &amp; Breakfast</td>\n",
       "      <td>New Castle</td>\n",
       "      <td>DE</td>\n",
       "      <td>5</td>\n",
       "      <td>22</td>\n",
       "      <td>4.40</td>\n",
       "      <td>4.5</td>\n",
       "      <td>40.00</td>\n",
       "      <td>0.00</td>\n",
       "    </tr>\n",
       "    <tr>\n",
       "      <th>8</th>\n",
       "      <td>Little Caesers Pizza</td>\n",
       "      <td>Souderton</td>\n",
       "      <td>PA</td>\n",
       "      <td>5</td>\n",
       "      <td>17</td>\n",
       "      <td>3.40</td>\n",
       "      <td>3.5</td>\n",
       "      <td>60.00</td>\n",
       "      <td>40.00</td>\n",
       "    </tr>\n",
       "    <tr>\n",
       "      <th>9</th>\n",
       "      <td>Piano Gastrolounge</td>\n",
       "      <td>Santa Barbara</td>\n",
       "      <td>CA</td>\n",
       "      <td>24</td>\n",
       "      <td>78</td>\n",
       "      <td>3.25</td>\n",
       "      <td>3.5</td>\n",
       "      <td>25.00</td>\n",
       "      <td>29.17</td>\n",
       "    </tr>\n",
       "    <tr>\n",
       "      <th>10</th>\n",
       "      <td>Moo Dang</td>\n",
       "      <td>Reno</td>\n",
       "      <td>NV</td>\n",
       "      <td>648</td>\n",
       "      <td>2763</td>\n",
       "      <td>4.26</td>\n",
       "      <td>4.0</td>\n",
       "      <td>58.80</td>\n",
       "      <td>4.17</td>\n",
       "    </tr>\n",
       "    <tr>\n",
       "      <th>11</th>\n",
       "      <td>Holiday Inn Express &amp; Suites Oro Valley-Tucson...</td>\n",
       "      <td>Oro Valley</td>\n",
       "      <td>AZ</td>\n",
       "      <td>19</td>\n",
       "      <td>69</td>\n",
       "      <td>3.63</td>\n",
       "      <td>3.5</td>\n",
       "      <td>36.84</td>\n",
       "      <td>10.53</td>\n",
       "    </tr>\n",
       "    <tr>\n",
       "      <th>12</th>\n",
       "      <td>Dunkin'</td>\n",
       "      <td>Blue Bell</td>\n",
       "      <td>PA</td>\n",
       "      <td>9</td>\n",
       "      <td>16</td>\n",
       "      <td>1.78</td>\n",
       "      <td>1.5</td>\n",
       "      <td>0.00</td>\n",
       "      <td>55.56</td>\n",
       "    </tr>\n",
       "    <tr>\n",
       "      <th>13</th>\n",
       "      <td>Panera Bread</td>\n",
       "      <td>Mt Juliet</td>\n",
       "      <td>TN</td>\n",
       "      <td>57</td>\n",
       "      <td>138</td>\n",
       "      <td>2.42</td>\n",
       "      <td>2.5</td>\n",
       "      <td>8.77</td>\n",
       "      <td>35.09</td>\n",
       "    </tr>\n",
       "    <tr>\n",
       "      <th>14</th>\n",
       "      <td>Grand Traverse Pie Co</td>\n",
       "      <td>Indianapolis</td>\n",
       "      <td>IN</td>\n",
       "      <td>5</td>\n",
       "      <td>19</td>\n",
       "      <td>3.80</td>\n",
       "      <td>4.0</td>\n",
       "      <td>0.00</td>\n",
       "      <td>0.00</td>\n",
       "    </tr>\n",
       "    <tr>\n",
       "      <th>15</th>\n",
       "      <td>Four Seasons Campground</td>\n",
       "      <td>Pilesgrove</td>\n",
       "      <td>NJ</td>\n",
       "      <td>17</td>\n",
       "      <td>57</td>\n",
       "      <td>3.35</td>\n",
       "      <td>3.5</td>\n",
       "      <td>47.06</td>\n",
       "      <td>17.65</td>\n",
       "    </tr>\n",
       "    <tr>\n",
       "      <th>16</th>\n",
       "      <td>Randall Hedrick, DDS - St Petersburg Endodontics</td>\n",
       "      <td>Saint Petersburg</td>\n",
       "      <td>FL</td>\n",
       "      <td>5</td>\n",
       "      <td>25</td>\n",
       "      <td>5.00</td>\n",
       "      <td>5.0</td>\n",
       "      <td>100.00</td>\n",
       "      <td>0.00</td>\n",
       "    </tr>\n",
       "    <tr>\n",
       "      <th>17</th>\n",
       "      <td>Goodyear Auto Service</td>\n",
       "      <td>Tarpon Springs</td>\n",
       "      <td>FL</td>\n",
       "      <td>15</td>\n",
       "      <td>54</td>\n",
       "      <td>3.60</td>\n",
       "      <td>3.5</td>\n",
       "      <td>60.00</td>\n",
       "      <td>33.33</td>\n",
       "    </tr>\n",
       "    <tr>\n",
       "      <th>18</th>\n",
       "      <td>Pizza Hut</td>\n",
       "      <td>Saint Charles</td>\n",
       "      <td>MO</td>\n",
       "      <td>14</td>\n",
       "      <td>25</td>\n",
       "      <td>1.79</td>\n",
       "      <td>2.0</td>\n",
       "      <td>14.29</td>\n",
       "      <td>78.57</td>\n",
       "    </tr>\n",
       "    <tr>\n",
       "      <th>19</th>\n",
       "      <td>Tillys</td>\n",
       "      <td>Reno</td>\n",
       "      <td>NV</td>\n",
       "      <td>12</td>\n",
       "      <td>29</td>\n",
       "      <td>2.42</td>\n",
       "      <td>2.5</td>\n",
       "      <td>16.67</td>\n",
       "      <td>41.67</td>\n",
       "    </tr>\n",
       "  </tbody>\n",
       "</table>\n",
       "</div>"
      ],
      "text/plain": [
       "                                                 NAME              CITY STATE  \\\n",
       "0                               The Gables Apartments         Greenwood    IN   \n",
       "1                                     Schiano's Pizza        Warminster    PA   \n",
       "2                                   Caliber Collision             Largo    FL   \n",
       "3                                         Gail Marcus      Philadelphia    PA   \n",
       "4                                       Employ Health         Nashville    TN   \n",
       "5                                           Value Vet         Nashville    TN   \n",
       "6                        America's Mattress of Tucson            Tucson    AZ   \n",
       "7                         Terry House Bed & Breakfast        New Castle    DE   \n",
       "8                                Little Caesers Pizza         Souderton    PA   \n",
       "9                                  Piano Gastrolounge     Santa Barbara    CA   \n",
       "10                                           Moo Dang              Reno    NV   \n",
       "11  Holiday Inn Express & Suites Oro Valley-Tucson...        Oro Valley    AZ   \n",
       "12                                            Dunkin'         Blue Bell    PA   \n",
       "13                                       Panera Bread         Mt Juliet    TN   \n",
       "14                              Grand Traverse Pie Co      Indianapolis    IN   \n",
       "15                            Four Seasons Campground        Pilesgrove    NJ   \n",
       "16   Randall Hedrick, DDS - St Petersburg Endodontics  Saint Petersburg    FL   \n",
       "17                              Goodyear Auto Service    Tarpon Springs    FL   \n",
       "18                                          Pizza Hut     Saint Charles    MO   \n",
       "19                                             Tillys              Reno    NV   \n",
       "\n",
       "    TOTAL_REVIEWS  TOTAL_STARS TRUE_AVG_STARS  ROUNDED_AVG_STARS  \\\n",
       "0              12           16           1.33                1.5   \n",
       "1              29           83           2.86                3.0   \n",
       "2              10           34           3.40                3.5   \n",
       "3               9           45           5.00                5.0   \n",
       "4              10           50           5.00                5.0   \n",
       "5              51          184           3.61                3.5   \n",
       "6               7           35           5.00                5.0   \n",
       "7               5           22           4.40                4.5   \n",
       "8               5           17           3.40                3.5   \n",
       "9              24           78           3.25                3.5   \n",
       "10            648         2763           4.26                4.0   \n",
       "11             19           69           3.63                3.5   \n",
       "12              9           16           1.78                1.5   \n",
       "13             57          138           2.42                2.5   \n",
       "14              5           19           3.80                4.0   \n",
       "15             17           57           3.35                3.5   \n",
       "16              5           25           5.00                5.0   \n",
       "17             15           54           3.60                3.5   \n",
       "18             14           25           1.79                2.0   \n",
       "19             12           29           2.42                2.5   \n",
       "\n",
       "   FIVE_STAR_PCT ONE_STAR_PCT  \n",
       "0           0.00        83.33  \n",
       "1          31.03        41.38  \n",
       "2          50.00        30.00  \n",
       "3         100.00         0.00  \n",
       "4         100.00         0.00  \n",
       "5          47.06        15.69  \n",
       "6         100.00         0.00  \n",
       "7          40.00         0.00  \n",
       "8          60.00        40.00  \n",
       "9          25.00        29.17  \n",
       "10         58.80         4.17  \n",
       "11         36.84        10.53  \n",
       "12          0.00        55.56  \n",
       "13          8.77        35.09  \n",
       "14          0.00         0.00  \n",
       "15         47.06        17.65  \n",
       "16        100.00         0.00  \n",
       "17         60.00        33.33  \n",
       "18         14.29        78.57  \n",
       "19         16.67        41.67  "
      ]
     },
     "metadata": {},
     "output_type": "display_data"
    }
   ],
   "source": [
    "# True star average for each business and percentage of five star and one star reviews to total reviews\n",
    "df = cur.execute('''\n",
    "                WITH cte AS (\n",
    "                    SELECT \n",
    "                        business_id, \n",
    "                        SUM(CASE WHEN stars=1 THEN 1 ELSE 0 END) AS one_star_reviews,\n",
    "                        SUM(CASE WHEN stars=2 THEN 1 ELSE 0 END) AS two_star_reviews,\n",
    "                        SUM(CASE WHEN stars=3 THEN 1 ELSE 0 END) AS three_star_reviews,\n",
    "                        SUM(CASE WHEN stars=4 THEN 1 ELSE 0 END) AS four_star_reviews,\n",
    "                        SUM(CASE WHEN stars=5 THEN 1 ELSE 0 END) AS five_star_reviews,\n",
    "                        COUNT(*) AS total_reviews,\n",
    "                        SUM(stars) AS total_stars,\n",
    "                        ROUND(AVG(stars), 2) AS true_avg_rating\n",
    "                    FROM yelp_reviews\n",
    "                    GROUP BY 1\n",
    "                 )\n",
    "\n",
    "                SELECT \n",
    "                    yb.name, yb.city, yb.state, total_reviews, total_stars,\n",
    "                    true_avg_rating,\n",
    "                    yb.stars AS rounded_avg_rating,\n",
    "                    ROUND(five_star_reviews / total_reviews * 100, 2) AS five_star_pct,\n",
    "                    ROUND(one_star_reviews / total_reviews * 100, 2) AS one_star_pct,\n",
    "                FROM cte\n",
    "                JOIN yelp_businesses yb\n",
    "                    ON cte.business_id = yb.business_id\n",
    "                LIMIT 20;\n",
    "                ''').fetch_pandas_all()\n",
    "\n",
    "display(df)"
   ]
  },
  {
   "cell_type": "code",
   "execution_count": null,
   "id": "de95ab25",
   "metadata": {},
   "outputs": [
    {
     "data": {
      "text/html": [
       "<div>\n",
       "<style scoped>\n",
       "    .dataframe tbody tr th:only-of-type {\n",
       "        vertical-align: middle;\n",
       "    }\n",
       "\n",
       "    .dataframe tbody tr th {\n",
       "        vertical-align: top;\n",
       "    }\n",
       "\n",
       "    .dataframe thead th {\n",
       "        text-align: right;\n",
       "    }\n",
       "</style>\n",
       "<table border=\"1\" class=\"dataframe\">\n",
       "  <thead>\n",
       "    <tr style=\"text-align: right;\">\n",
       "      <th></th>\n",
       "      <th>MONTH</th>\n",
       "      <th>ONE_STAR_REVIEWS</th>\n",
       "      <th>TWO_STAR_REVIEWS</th>\n",
       "      <th>THREE_STAR_REVIEWS</th>\n",
       "      <th>FOUR_STAR_REVIEWS</th>\n",
       "      <th>FIVE_STAR_REVIEWS</th>\n",
       "      <th>TOTAL_REVIEWS</th>\n",
       "      <th>TOTAL_STARS</th>\n",
       "      <th>AVG_STARS</th>\n",
       "    </tr>\n",
       "  </thead>\n",
       "  <tbody>\n",
       "    <tr>\n",
       "      <th>0</th>\n",
       "      <td>1</td>\n",
       "      <td>86852</td>\n",
       "      <td>46047</td>\n",
       "      <td>61474</td>\n",
       "      <td>131145</td>\n",
       "      <td>279014</td>\n",
       "      <td>604532</td>\n",
       "      <td>2283018</td>\n",
       "      <td>3.78</td>\n",
       "    </tr>\n",
       "    <tr>\n",
       "      <th>1</th>\n",
       "      <td>2</td>\n",
       "      <td>80051</td>\n",
       "      <td>42503</td>\n",
       "      <td>54620</td>\n",
       "      <td>116561</td>\n",
       "      <td>250390</td>\n",
       "      <td>544125</td>\n",
       "      <td>2047111</td>\n",
       "      <td>3.76</td>\n",
       "    </tr>\n",
       "    <tr>\n",
       "      <th>2</th>\n",
       "      <td>3</td>\n",
       "      <td>87976</td>\n",
       "      <td>46933</td>\n",
       "      <td>60527</td>\n",
       "      <td>127924</td>\n",
       "      <td>275195</td>\n",
       "      <td>598555</td>\n",
       "      <td>2251094</td>\n",
       "      <td>3.76</td>\n",
       "    </tr>\n",
       "    <tr>\n",
       "      <th>3</th>\n",
       "      <td>4</td>\n",
       "      <td>82676</td>\n",
       "      <td>43029</td>\n",
       "      <td>55083</td>\n",
       "      <td>116372</td>\n",
       "      <td>254311</td>\n",
       "      <td>551471</td>\n",
       "      <td>2071026</td>\n",
       "      <td>3.76</td>\n",
       "    </tr>\n",
       "    <tr>\n",
       "      <th>4</th>\n",
       "      <td>5</td>\n",
       "      <td>91994</td>\n",
       "      <td>46318</td>\n",
       "      <td>58076</td>\n",
       "      <td>120991</td>\n",
       "      <td>269196</td>\n",
       "      <td>586575</td>\n",
       "      <td>2188802</td>\n",
       "      <td>3.73</td>\n",
       "    </tr>\n",
       "    <tr>\n",
       "      <th>5</th>\n",
       "      <td>6</td>\n",
       "      <td>93282</td>\n",
       "      <td>46701</td>\n",
       "      <td>58791</td>\n",
       "      <td>123158</td>\n",
       "      <td>279805</td>\n",
       "      <td>601737</td>\n",
       "      <td>2254714</td>\n",
       "      <td>3.75</td>\n",
       "    </tr>\n",
       "    <tr>\n",
       "      <th>6</th>\n",
       "      <td>7</td>\n",
       "      <td>100135</td>\n",
       "      <td>51170</td>\n",
       "      <td>64669</td>\n",
       "      <td>135171</td>\n",
       "      <td>303482</td>\n",
       "      <td>654627</td>\n",
       "      <td>2454576</td>\n",
       "      <td>3.75</td>\n",
       "    </tr>\n",
       "    <tr>\n",
       "      <th>7</th>\n",
       "      <td>8</td>\n",
       "      <td>98608</td>\n",
       "      <td>49976</td>\n",
       "      <td>62289</td>\n",
       "      <td>129710</td>\n",
       "      <td>295801</td>\n",
       "      <td>636384</td>\n",
       "      <td>2383272</td>\n",
       "      <td>3.75</td>\n",
       "    </tr>\n",
       "    <tr>\n",
       "      <th>8</th>\n",
       "      <td>9</td>\n",
       "      <td>89705</td>\n",
       "      <td>44552</td>\n",
       "      <td>55136</td>\n",
       "      <td>114482</td>\n",
       "      <td>261499</td>\n",
       "      <td>565374</td>\n",
       "      <td>2109640</td>\n",
       "      <td>3.73</td>\n",
       "    </tr>\n",
       "    <tr>\n",
       "      <th>9</th>\n",
       "      <td>10</td>\n",
       "      <td>89243</td>\n",
       "      <td>44267</td>\n",
       "      <td>55856</td>\n",
       "      <td>115923</td>\n",
       "      <td>266520</td>\n",
       "      <td>571809</td>\n",
       "      <td>2141637</td>\n",
       "      <td>3.75</td>\n",
       "    </tr>\n",
       "    <tr>\n",
       "      <th>10</th>\n",
       "      <td>11</td>\n",
       "      <td>81428</td>\n",
       "      <td>40714</td>\n",
       "      <td>52333</td>\n",
       "      <td>110394</td>\n",
       "      <td>246649</td>\n",
       "      <td>531518</td>\n",
       "      <td>1994676</td>\n",
       "      <td>3.75</td>\n",
       "    </tr>\n",
       "    <tr>\n",
       "      <th>11</th>\n",
       "      <td>12</td>\n",
       "      <td>87611</td>\n",
       "      <td>42030</td>\n",
       "      <td>53080</td>\n",
       "      <td>111087</td>\n",
       "      <td>249765</td>\n",
       "      <td>543573</td>\n",
       "      <td>2024084</td>\n",
       "      <td>3.72</td>\n",
       "    </tr>\n",
       "  </tbody>\n",
       "</table>\n",
       "</div>"
      ],
      "text/plain": [
       "    MONTH  ONE_STAR_REVIEWS  TWO_STAR_REVIEWS  THREE_STAR_REVIEWS  \\\n",
       "0       1             86852             46047               61474   \n",
       "1       2             80051             42503               54620   \n",
       "2       3             87976             46933               60527   \n",
       "3       4             82676             43029               55083   \n",
       "4       5             91994             46318               58076   \n",
       "5       6             93282             46701               58791   \n",
       "6       7            100135             51170               64669   \n",
       "7       8             98608             49976               62289   \n",
       "8       9             89705             44552               55136   \n",
       "9      10             89243             44267               55856   \n",
       "10     11             81428             40714               52333   \n",
       "11     12             87611             42030               53080   \n",
       "\n",
       "    FOUR_STAR_REVIEWS  FIVE_STAR_REVIEWS  TOTAL_REVIEWS  TOTAL_STARS AVG_STARS  \n",
       "0              131145             279014         604532      2283018      3.78  \n",
       "1              116561             250390         544125      2047111      3.76  \n",
       "2              127924             275195         598555      2251094      3.76  \n",
       "3              116372             254311         551471      2071026      3.76  \n",
       "4              120991             269196         586575      2188802      3.73  \n",
       "5              123158             279805         601737      2254714      3.75  \n",
       "6              135171             303482         654627      2454576      3.75  \n",
       "7              129710             295801         636384      2383272      3.75  \n",
       "8              114482             261499         565374      2109640      3.73  \n",
       "9              115923             266520         571809      2141637      3.75  \n",
       "10             110394             246649         531518      1994676      3.75  \n",
       "11             111087             249765         543573      2024084      3.72  "
      ]
     },
     "metadata": {},
     "output_type": "display_data"
    },
    {
     "data": {
      "application/vnd.plotly.v1+json": {
       "config": {
        "plotlyServerURL": "https://plot.ly"
       },
       "data": [
        {
         "hovertemplate": "Star Rating=1 Star<br>Month=%{x}<br>Review Count=%{y}<extra></extra>",
         "legendgroup": "1 Star",
         "line": {
          "color": "#636efa",
          "dash": "solid"
         },
         "marker": {
          "symbol": "circle"
         },
         "mode": "lines",
         "name": "1 Star",
         "orientation": "v",
         "showlegend": true,
         "type": "scatter",
         "x": {
          "bdata": "AQIDBAUGBwgJCgsM",
          "dtype": "i1"
         },
         "xaxis": "x",
         "y": {
          "bdata": "RFMBALM4AQCoVwEA9EIBAFpnAQBibAEAJ4cBADCBAQBpXgEAm1wBABQ+AQA7VgEA",
          "dtype": "i4"
         },
         "yaxis": "y"
        },
        {
         "hovertemplate": "Star Rating=2 Star<br>Month=%{x}<br>Review Count=%{y}<extra></extra>",
         "legendgroup": "2 Star",
         "line": {
          "color": "#EF553B",
          "dash": "solid"
         },
         "marker": {
          "symbol": "circle"
         },
         "mode": "lines",
         "name": "2 Star",
         "orientation": "v",
         "showlegend": true,
         "type": "scatter",
         "x": {
          "bdata": "AQIDBAUGBwgJCgsM",
          "dtype": "i1"
         },
         "xaxis": "x",
         "y": {
          "bdata": "37MAAAemAABVtwAAFagAAO60AABttgAA4scAADjDAAAIrgAA66wAAAqfAAAupAAA",
          "dtype": "i4"
         },
         "yaxis": "y"
        },
        {
         "hovertemplate": "Star Rating=3 Star<br>Month=%{x}<br>Review Count=%{y}<extra></extra>",
         "legendgroup": "3 Star",
         "line": {
          "color": "#00cc96",
          "dash": "solid"
         },
         "marker": {
          "symbol": "circle"
         },
         "mode": "lines",
         "name": "3 Star",
         "orientation": "v",
         "showlegend": true,
         "type": "scatter",
         "x": {
          "bdata": "AQIDBAUGBwgJCgsM",
          "dtype": "i1"
         },
         "xaxis": "x",
         "y": {
          "bdata": "IvAAAFzVAABv7AAAK9cAANziAACn5QAAnfwAAFHzAABg1wAAMNoAAG3MAABYzwAA",
          "dtype": "i4"
         },
         "yaxis": "y"
        },
        {
         "hovertemplate": "Star Rating=4 Star<br>Month=%{x}<br>Review Count=%{y}<extra></extra>",
         "legendgroup": "4 Star",
         "line": {
          "color": "#ab63fa",
          "dash": "solid"
         },
         "marker": {
          "symbol": "circle"
         },
         "mode": "lines",
         "name": "4 Star",
         "orientation": "v",
         "showlegend": true,
         "type": "scatter",
         "x": {
          "bdata": "AQIDBAUGBwgJCgsM",
          "dtype": "i1"
         },
         "xaxis": "x",
         "y": {
          "bdata": "SQACAFHHAQC08wEAlMYBAJ/YAQAW4QEAAxACAK76AQAyvwEA08QBADqvAQDvsQEA",
          "dtype": "i4"
         },
         "yaxis": "y"
        },
        {
         "hovertemplate": "Star Rating=5 Star<br>Month=%{x}<br>Review Count=%{y}<extra></extra>",
         "legendgroup": "5 Star",
         "line": {
          "color": "#FFA15A",
          "dash": "solid"
         },
         "marker": {
          "symbol": "circle"
         },
         "mode": "lines",
         "name": "5 Star",
         "orientation": "v",
         "showlegend": true,
         "type": "scatter",
         "x": {
          "bdata": "AQIDBAUGBwgJCgsM",
          "dtype": "i1"
         },
         "xaxis": "x",
         "y": {
          "bdata": "5kEEABbSAwD7MgQAZ+EDAIwbBAD9RAQAeqEEAHmDBAB7/QMAGBEEAHnDAwClzwMA",
          "dtype": "i4"
         },
         "yaxis": "y"
        }
       ],
       "layout": {
        "legend": {
         "title": {
          "text": "Star Rating"
         },
         "tracegroupgap": 0
        },
        "template": {
         "data": {
          "bar": [
           {
            "error_x": {
             "color": "#2a3f5f"
            },
            "error_y": {
             "color": "#2a3f5f"
            },
            "marker": {
             "line": {
              "color": "#E5ECF6",
              "width": 0.5
             },
             "pattern": {
              "fillmode": "overlay",
              "size": 10,
              "solidity": 0.2
             }
            },
            "type": "bar"
           }
          ],
          "barpolar": [
           {
            "marker": {
             "line": {
              "color": "#E5ECF6",
              "width": 0.5
             },
             "pattern": {
              "fillmode": "overlay",
              "size": 10,
              "solidity": 0.2
             }
            },
            "type": "barpolar"
           }
          ],
          "carpet": [
           {
            "aaxis": {
             "endlinecolor": "#2a3f5f",
             "gridcolor": "white",
             "linecolor": "white",
             "minorgridcolor": "white",
             "startlinecolor": "#2a3f5f"
            },
            "baxis": {
             "endlinecolor": "#2a3f5f",
             "gridcolor": "white",
             "linecolor": "white",
             "minorgridcolor": "white",
             "startlinecolor": "#2a3f5f"
            },
            "type": "carpet"
           }
          ],
          "choropleth": [
           {
            "colorbar": {
             "outlinewidth": 0,
             "ticks": ""
            },
            "type": "choropleth"
           }
          ],
          "contour": [
           {
            "colorbar": {
             "outlinewidth": 0,
             "ticks": ""
            },
            "colorscale": [
             [
              0,
              "#0d0887"
             ],
             [
              0.1111111111111111,
              "#46039f"
             ],
             [
              0.2222222222222222,
              "#7201a8"
             ],
             [
              0.3333333333333333,
              "#9c179e"
             ],
             [
              0.4444444444444444,
              "#bd3786"
             ],
             [
              0.5555555555555556,
              "#d8576b"
             ],
             [
              0.6666666666666666,
              "#ed7953"
             ],
             [
              0.7777777777777778,
              "#fb9f3a"
             ],
             [
              0.8888888888888888,
              "#fdca26"
             ],
             [
              1,
              "#f0f921"
             ]
            ],
            "type": "contour"
           }
          ],
          "contourcarpet": [
           {
            "colorbar": {
             "outlinewidth": 0,
             "ticks": ""
            },
            "type": "contourcarpet"
           }
          ],
          "heatmap": [
           {
            "colorbar": {
             "outlinewidth": 0,
             "ticks": ""
            },
            "colorscale": [
             [
              0,
              "#0d0887"
             ],
             [
              0.1111111111111111,
              "#46039f"
             ],
             [
              0.2222222222222222,
              "#7201a8"
             ],
             [
              0.3333333333333333,
              "#9c179e"
             ],
             [
              0.4444444444444444,
              "#bd3786"
             ],
             [
              0.5555555555555556,
              "#d8576b"
             ],
             [
              0.6666666666666666,
              "#ed7953"
             ],
             [
              0.7777777777777778,
              "#fb9f3a"
             ],
             [
              0.8888888888888888,
              "#fdca26"
             ],
             [
              1,
              "#f0f921"
             ]
            ],
            "type": "heatmap"
           }
          ],
          "histogram": [
           {
            "marker": {
             "pattern": {
              "fillmode": "overlay",
              "size": 10,
              "solidity": 0.2
             }
            },
            "type": "histogram"
           }
          ],
          "histogram2d": [
           {
            "colorbar": {
             "outlinewidth": 0,
             "ticks": ""
            },
            "colorscale": [
             [
              0,
              "#0d0887"
             ],
             [
              0.1111111111111111,
              "#46039f"
             ],
             [
              0.2222222222222222,
              "#7201a8"
             ],
             [
              0.3333333333333333,
              "#9c179e"
             ],
             [
              0.4444444444444444,
              "#bd3786"
             ],
             [
              0.5555555555555556,
              "#d8576b"
             ],
             [
              0.6666666666666666,
              "#ed7953"
             ],
             [
              0.7777777777777778,
              "#fb9f3a"
             ],
             [
              0.8888888888888888,
              "#fdca26"
             ],
             [
              1,
              "#f0f921"
             ]
            ],
            "type": "histogram2d"
           }
          ],
          "histogram2dcontour": [
           {
            "colorbar": {
             "outlinewidth": 0,
             "ticks": ""
            },
            "colorscale": [
             [
              0,
              "#0d0887"
             ],
             [
              0.1111111111111111,
              "#46039f"
             ],
             [
              0.2222222222222222,
              "#7201a8"
             ],
             [
              0.3333333333333333,
              "#9c179e"
             ],
             [
              0.4444444444444444,
              "#bd3786"
             ],
             [
              0.5555555555555556,
              "#d8576b"
             ],
             [
              0.6666666666666666,
              "#ed7953"
             ],
             [
              0.7777777777777778,
              "#fb9f3a"
             ],
             [
              0.8888888888888888,
              "#fdca26"
             ],
             [
              1,
              "#f0f921"
             ]
            ],
            "type": "histogram2dcontour"
           }
          ],
          "mesh3d": [
           {
            "colorbar": {
             "outlinewidth": 0,
             "ticks": ""
            },
            "type": "mesh3d"
           }
          ],
          "parcoords": [
           {
            "line": {
             "colorbar": {
              "outlinewidth": 0,
              "ticks": ""
             }
            },
            "type": "parcoords"
           }
          ],
          "pie": [
           {
            "automargin": true,
            "type": "pie"
           }
          ],
          "scatter": [
           {
            "fillpattern": {
             "fillmode": "overlay",
             "size": 10,
             "solidity": 0.2
            },
            "type": "scatter"
           }
          ],
          "scatter3d": [
           {
            "line": {
             "colorbar": {
              "outlinewidth": 0,
              "ticks": ""
             }
            },
            "marker": {
             "colorbar": {
              "outlinewidth": 0,
              "ticks": ""
             }
            },
            "type": "scatter3d"
           }
          ],
          "scattercarpet": [
           {
            "marker": {
             "colorbar": {
              "outlinewidth": 0,
              "ticks": ""
             }
            },
            "type": "scattercarpet"
           }
          ],
          "scattergeo": [
           {
            "marker": {
             "colorbar": {
              "outlinewidth": 0,
              "ticks": ""
             }
            },
            "type": "scattergeo"
           }
          ],
          "scattergl": [
           {
            "marker": {
             "colorbar": {
              "outlinewidth": 0,
              "ticks": ""
             }
            },
            "type": "scattergl"
           }
          ],
          "scattermap": [
           {
            "marker": {
             "colorbar": {
              "outlinewidth": 0,
              "ticks": ""
             }
            },
            "type": "scattermap"
           }
          ],
          "scattermapbox": [
           {
            "marker": {
             "colorbar": {
              "outlinewidth": 0,
              "ticks": ""
             }
            },
            "type": "scattermapbox"
           }
          ],
          "scatterpolar": [
           {
            "marker": {
             "colorbar": {
              "outlinewidth": 0,
              "ticks": ""
             }
            },
            "type": "scatterpolar"
           }
          ],
          "scatterpolargl": [
           {
            "marker": {
             "colorbar": {
              "outlinewidth": 0,
              "ticks": ""
             }
            },
            "type": "scatterpolargl"
           }
          ],
          "scatterternary": [
           {
            "marker": {
             "colorbar": {
              "outlinewidth": 0,
              "ticks": ""
             }
            },
            "type": "scatterternary"
           }
          ],
          "surface": [
           {
            "colorbar": {
             "outlinewidth": 0,
             "ticks": ""
            },
            "colorscale": [
             [
              0,
              "#0d0887"
             ],
             [
              0.1111111111111111,
              "#46039f"
             ],
             [
              0.2222222222222222,
              "#7201a8"
             ],
             [
              0.3333333333333333,
              "#9c179e"
             ],
             [
              0.4444444444444444,
              "#bd3786"
             ],
             [
              0.5555555555555556,
              "#d8576b"
             ],
             [
              0.6666666666666666,
              "#ed7953"
             ],
             [
              0.7777777777777778,
              "#fb9f3a"
             ],
             [
              0.8888888888888888,
              "#fdca26"
             ],
             [
              1,
              "#f0f921"
             ]
            ],
            "type": "surface"
           }
          ],
          "table": [
           {
            "cells": {
             "fill": {
              "color": "#EBF0F8"
             },
             "line": {
              "color": "white"
             }
            },
            "header": {
             "fill": {
              "color": "#C8D4E3"
             },
             "line": {
              "color": "white"
             }
            },
            "type": "table"
           }
          ]
         },
         "layout": {
          "annotationdefaults": {
           "arrowcolor": "#2a3f5f",
           "arrowhead": 0,
           "arrowwidth": 1
          },
          "autotypenumbers": "strict",
          "coloraxis": {
           "colorbar": {
            "outlinewidth": 0,
            "ticks": ""
           }
          },
          "colorscale": {
           "diverging": [
            [
             0,
             "#8e0152"
            ],
            [
             0.1,
             "#c51b7d"
            ],
            [
             0.2,
             "#de77ae"
            ],
            [
             0.3,
             "#f1b6da"
            ],
            [
             0.4,
             "#fde0ef"
            ],
            [
             0.5,
             "#f7f7f7"
            ],
            [
             0.6,
             "#e6f5d0"
            ],
            [
             0.7,
             "#b8e186"
            ],
            [
             0.8,
             "#7fbc41"
            ],
            [
             0.9,
             "#4d9221"
            ],
            [
             1,
             "#276419"
            ]
           ],
           "sequential": [
            [
             0,
             "#0d0887"
            ],
            [
             0.1111111111111111,
             "#46039f"
            ],
            [
             0.2222222222222222,
             "#7201a8"
            ],
            [
             0.3333333333333333,
             "#9c179e"
            ],
            [
             0.4444444444444444,
             "#bd3786"
            ],
            [
             0.5555555555555556,
             "#d8576b"
            ],
            [
             0.6666666666666666,
             "#ed7953"
            ],
            [
             0.7777777777777778,
             "#fb9f3a"
            ],
            [
             0.8888888888888888,
             "#fdca26"
            ],
            [
             1,
             "#f0f921"
            ]
           ],
           "sequentialminus": [
            [
             0,
             "#0d0887"
            ],
            [
             0.1111111111111111,
             "#46039f"
            ],
            [
             0.2222222222222222,
             "#7201a8"
            ],
            [
             0.3333333333333333,
             "#9c179e"
            ],
            [
             0.4444444444444444,
             "#bd3786"
            ],
            [
             0.5555555555555556,
             "#d8576b"
            ],
            [
             0.6666666666666666,
             "#ed7953"
            ],
            [
             0.7777777777777778,
             "#fb9f3a"
            ],
            [
             0.8888888888888888,
             "#fdca26"
            ],
            [
             1,
             "#f0f921"
            ]
           ]
          },
          "colorway": [
           "#636efa",
           "#EF553B",
           "#00cc96",
           "#ab63fa",
           "#FFA15A",
           "#19d3f3",
           "#FF6692",
           "#B6E880",
           "#FF97FF",
           "#FECB52"
          ],
          "font": {
           "color": "#2a3f5f"
          },
          "geo": {
           "bgcolor": "white",
           "lakecolor": "white",
           "landcolor": "#E5ECF6",
           "showlakes": true,
           "showland": true,
           "subunitcolor": "white"
          },
          "hoverlabel": {
           "align": "left"
          },
          "hovermode": "closest",
          "mapbox": {
           "style": "light"
          },
          "paper_bgcolor": "white",
          "plot_bgcolor": "#E5ECF6",
          "polar": {
           "angularaxis": {
            "gridcolor": "white",
            "linecolor": "white",
            "ticks": ""
           },
           "bgcolor": "#E5ECF6",
           "radialaxis": {
            "gridcolor": "white",
            "linecolor": "white",
            "ticks": ""
           }
          },
          "scene": {
           "xaxis": {
            "backgroundcolor": "#E5ECF6",
            "gridcolor": "white",
            "gridwidth": 2,
            "linecolor": "white",
            "showbackground": true,
            "ticks": "",
            "zerolinecolor": "white"
           },
           "yaxis": {
            "backgroundcolor": "#E5ECF6",
            "gridcolor": "white",
            "gridwidth": 2,
            "linecolor": "white",
            "showbackground": true,
            "ticks": "",
            "zerolinecolor": "white"
           },
           "zaxis": {
            "backgroundcolor": "#E5ECF6",
            "gridcolor": "white",
            "gridwidth": 2,
            "linecolor": "white",
            "showbackground": true,
            "ticks": "",
            "zerolinecolor": "white"
           }
          },
          "shapedefaults": {
           "line": {
            "color": "#2a3f5f"
           }
          },
          "ternary": {
           "aaxis": {
            "gridcolor": "white",
            "linecolor": "white",
            "ticks": ""
           },
           "baxis": {
            "gridcolor": "white",
            "linecolor": "white",
            "ticks": ""
           },
           "bgcolor": "#E5ECF6",
           "caxis": {
            "gridcolor": "white",
            "linecolor": "white",
            "ticks": ""
           }
          },
          "title": {
           "x": 0.05
          },
          "xaxis": {
           "automargin": true,
           "gridcolor": "white",
           "linecolor": "white",
           "ticks": "",
           "title": {
            "standoff": 15
           },
           "zerolinecolor": "white",
           "zerolinewidth": 2
          },
          "yaxis": {
           "automargin": true,
           "gridcolor": "white",
           "linecolor": "white",
           "ticks": "",
           "title": {
            "standoff": 15
           },
           "zerolinecolor": "white",
           "zerolinewidth": 2
          }
         }
        },
        "title": {
         "text": "Monthly Yelp Review Star Ratings Trends"
        },
        "xaxis": {
         "anchor": "y",
         "domain": [
          0,
          1
         ],
         "title": {
          "text": "Month"
         }
        },
        "yaxis": {
         "anchor": "x",
         "domain": [
          0,
          1
         ],
         "title": {
          "text": "Review Count"
         }
        }
       }
      }
     },
     "metadata": {},
     "output_type": "display_data"
    },
    {
     "data": {
      "application/vnd.plotly.v1+json": {
       "config": {
        "plotlyServerURL": "https://plot.ly"
       },
       "data": [
        {
         "hovertemplate": "Month=%{x}<br>Review Count=%{marker.color}<extra></extra>",
         "legendgroup": "",
         "marker": {
          "color": {
           "bdata": "dDkJAH1NCAAbIgkAL2oIAE/zCACJLgkAI/0JAOC1CQB+oAgAobkIAD4cCABVSwgA",
           "dtype": "i4"
          },
          "coloraxis": "coloraxis",
          "pattern": {
           "shape": ""
          }
         },
         "name": "",
         "orientation": "v",
         "showlegend": false,
         "textposition": "auto",
         "type": "bar",
         "x": {
          "bdata": "AQIDBAUGBwgJCgsM",
          "dtype": "i1"
         },
         "xaxis": "x",
         "y": {
          "bdata": "dDkJAH1NCAAbIgkAL2oIAE/zCACJLgkAI/0JAOC1CQB+oAgAobkIAD4cCABVSwgA",
          "dtype": "i4"
         },
         "yaxis": "y"
        }
       ],
       "layout": {
        "barmode": "relative",
        "coloraxis": {
         "colorbar": {
          "title": {
           "text": "Review Count"
          }
         },
         "colorscale": [
          [
           0,
           "#0d0887"
          ],
          [
           0.1111111111111111,
           "#46039f"
          ],
          [
           0.2222222222222222,
           "#7201a8"
          ],
          [
           0.3333333333333333,
           "#9c179e"
          ],
          [
           0.4444444444444444,
           "#bd3786"
          ],
          [
           0.5555555555555556,
           "#d8576b"
          ],
          [
           0.6666666666666666,
           "#ed7953"
          ],
          [
           0.7777777777777778,
           "#fb9f3a"
          ],
          [
           0.8888888888888888,
           "#fdca26"
          ],
          [
           1,
           "#f0f921"
          ]
         ]
        },
        "legend": {
         "tracegroupgap": 0
        },
        "template": {
         "data": {
          "bar": [
           {
            "error_x": {
             "color": "#2a3f5f"
            },
            "error_y": {
             "color": "#2a3f5f"
            },
            "marker": {
             "line": {
              "color": "#E5ECF6",
              "width": 0.5
             },
             "pattern": {
              "fillmode": "overlay",
              "size": 10,
              "solidity": 0.2
             }
            },
            "type": "bar"
           }
          ],
          "barpolar": [
           {
            "marker": {
             "line": {
              "color": "#E5ECF6",
              "width": 0.5
             },
             "pattern": {
              "fillmode": "overlay",
              "size": 10,
              "solidity": 0.2
             }
            },
            "type": "barpolar"
           }
          ],
          "carpet": [
           {
            "aaxis": {
             "endlinecolor": "#2a3f5f",
             "gridcolor": "white",
             "linecolor": "white",
             "minorgridcolor": "white",
             "startlinecolor": "#2a3f5f"
            },
            "baxis": {
             "endlinecolor": "#2a3f5f",
             "gridcolor": "white",
             "linecolor": "white",
             "minorgridcolor": "white",
             "startlinecolor": "#2a3f5f"
            },
            "type": "carpet"
           }
          ],
          "choropleth": [
           {
            "colorbar": {
             "outlinewidth": 0,
             "ticks": ""
            },
            "type": "choropleth"
           }
          ],
          "contour": [
           {
            "colorbar": {
             "outlinewidth": 0,
             "ticks": ""
            },
            "colorscale": [
             [
              0,
              "#0d0887"
             ],
             [
              0.1111111111111111,
              "#46039f"
             ],
             [
              0.2222222222222222,
              "#7201a8"
             ],
             [
              0.3333333333333333,
              "#9c179e"
             ],
             [
              0.4444444444444444,
              "#bd3786"
             ],
             [
              0.5555555555555556,
              "#d8576b"
             ],
             [
              0.6666666666666666,
              "#ed7953"
             ],
             [
              0.7777777777777778,
              "#fb9f3a"
             ],
             [
              0.8888888888888888,
              "#fdca26"
             ],
             [
              1,
              "#f0f921"
             ]
            ],
            "type": "contour"
           }
          ],
          "contourcarpet": [
           {
            "colorbar": {
             "outlinewidth": 0,
             "ticks": ""
            },
            "type": "contourcarpet"
           }
          ],
          "heatmap": [
           {
            "colorbar": {
             "outlinewidth": 0,
             "ticks": ""
            },
            "colorscale": [
             [
              0,
              "#0d0887"
             ],
             [
              0.1111111111111111,
              "#46039f"
             ],
             [
              0.2222222222222222,
              "#7201a8"
             ],
             [
              0.3333333333333333,
              "#9c179e"
             ],
             [
              0.4444444444444444,
              "#bd3786"
             ],
             [
              0.5555555555555556,
              "#d8576b"
             ],
             [
              0.6666666666666666,
              "#ed7953"
             ],
             [
              0.7777777777777778,
              "#fb9f3a"
             ],
             [
              0.8888888888888888,
              "#fdca26"
             ],
             [
              1,
              "#f0f921"
             ]
            ],
            "type": "heatmap"
           }
          ],
          "histogram": [
           {
            "marker": {
             "pattern": {
              "fillmode": "overlay",
              "size": 10,
              "solidity": 0.2
             }
            },
            "type": "histogram"
           }
          ],
          "histogram2d": [
           {
            "colorbar": {
             "outlinewidth": 0,
             "ticks": ""
            },
            "colorscale": [
             [
              0,
              "#0d0887"
             ],
             [
              0.1111111111111111,
              "#46039f"
             ],
             [
              0.2222222222222222,
              "#7201a8"
             ],
             [
              0.3333333333333333,
              "#9c179e"
             ],
             [
              0.4444444444444444,
              "#bd3786"
             ],
             [
              0.5555555555555556,
              "#d8576b"
             ],
             [
              0.6666666666666666,
              "#ed7953"
             ],
             [
              0.7777777777777778,
              "#fb9f3a"
             ],
             [
              0.8888888888888888,
              "#fdca26"
             ],
             [
              1,
              "#f0f921"
             ]
            ],
            "type": "histogram2d"
           }
          ],
          "histogram2dcontour": [
           {
            "colorbar": {
             "outlinewidth": 0,
             "ticks": ""
            },
            "colorscale": [
             [
              0,
              "#0d0887"
             ],
             [
              0.1111111111111111,
              "#46039f"
             ],
             [
              0.2222222222222222,
              "#7201a8"
             ],
             [
              0.3333333333333333,
              "#9c179e"
             ],
             [
              0.4444444444444444,
              "#bd3786"
             ],
             [
              0.5555555555555556,
              "#d8576b"
             ],
             [
              0.6666666666666666,
              "#ed7953"
             ],
             [
              0.7777777777777778,
              "#fb9f3a"
             ],
             [
              0.8888888888888888,
              "#fdca26"
             ],
             [
              1,
              "#f0f921"
             ]
            ],
            "type": "histogram2dcontour"
           }
          ],
          "mesh3d": [
           {
            "colorbar": {
             "outlinewidth": 0,
             "ticks": ""
            },
            "type": "mesh3d"
           }
          ],
          "parcoords": [
           {
            "line": {
             "colorbar": {
              "outlinewidth": 0,
              "ticks": ""
             }
            },
            "type": "parcoords"
           }
          ],
          "pie": [
           {
            "automargin": true,
            "type": "pie"
           }
          ],
          "scatter": [
           {
            "fillpattern": {
             "fillmode": "overlay",
             "size": 10,
             "solidity": 0.2
            },
            "type": "scatter"
           }
          ],
          "scatter3d": [
           {
            "line": {
             "colorbar": {
              "outlinewidth": 0,
              "ticks": ""
             }
            },
            "marker": {
             "colorbar": {
              "outlinewidth": 0,
              "ticks": ""
             }
            },
            "type": "scatter3d"
           }
          ],
          "scattercarpet": [
           {
            "marker": {
             "colorbar": {
              "outlinewidth": 0,
              "ticks": ""
             }
            },
            "type": "scattercarpet"
           }
          ],
          "scattergeo": [
           {
            "marker": {
             "colorbar": {
              "outlinewidth": 0,
              "ticks": ""
             }
            },
            "type": "scattergeo"
           }
          ],
          "scattergl": [
           {
            "marker": {
             "colorbar": {
              "outlinewidth": 0,
              "ticks": ""
             }
            },
            "type": "scattergl"
           }
          ],
          "scattermap": [
           {
            "marker": {
             "colorbar": {
              "outlinewidth": 0,
              "ticks": ""
             }
            },
            "type": "scattermap"
           }
          ],
          "scattermapbox": [
           {
            "marker": {
             "colorbar": {
              "outlinewidth": 0,
              "ticks": ""
             }
            },
            "type": "scattermapbox"
           }
          ],
          "scatterpolar": [
           {
            "marker": {
             "colorbar": {
              "outlinewidth": 0,
              "ticks": ""
             }
            },
            "type": "scatterpolar"
           }
          ],
          "scatterpolargl": [
           {
            "marker": {
             "colorbar": {
              "outlinewidth": 0,
              "ticks": ""
             }
            },
            "type": "scatterpolargl"
           }
          ],
          "scatterternary": [
           {
            "marker": {
             "colorbar": {
              "outlinewidth": 0,
              "ticks": ""
             }
            },
            "type": "scatterternary"
           }
          ],
          "surface": [
           {
            "colorbar": {
             "outlinewidth": 0,
             "ticks": ""
            },
            "colorscale": [
             [
              0,
              "#0d0887"
             ],
             [
              0.1111111111111111,
              "#46039f"
             ],
             [
              0.2222222222222222,
              "#7201a8"
             ],
             [
              0.3333333333333333,
              "#9c179e"
             ],
             [
              0.4444444444444444,
              "#bd3786"
             ],
             [
              0.5555555555555556,
              "#d8576b"
             ],
             [
              0.6666666666666666,
              "#ed7953"
             ],
             [
              0.7777777777777778,
              "#fb9f3a"
             ],
             [
              0.8888888888888888,
              "#fdca26"
             ],
             [
              1,
              "#f0f921"
             ]
            ],
            "type": "surface"
           }
          ],
          "table": [
           {
            "cells": {
             "fill": {
              "color": "#EBF0F8"
             },
             "line": {
              "color": "white"
             }
            },
            "header": {
             "fill": {
              "color": "#C8D4E3"
             },
             "line": {
              "color": "white"
             }
            },
            "type": "table"
           }
          ]
         },
         "layout": {
          "annotationdefaults": {
           "arrowcolor": "#2a3f5f",
           "arrowhead": 0,
           "arrowwidth": 1
          },
          "autotypenumbers": "strict",
          "coloraxis": {
           "colorbar": {
            "outlinewidth": 0,
            "ticks": ""
           }
          },
          "colorscale": {
           "diverging": [
            [
             0,
             "#8e0152"
            ],
            [
             0.1,
             "#c51b7d"
            ],
            [
             0.2,
             "#de77ae"
            ],
            [
             0.3,
             "#f1b6da"
            ],
            [
             0.4,
             "#fde0ef"
            ],
            [
             0.5,
             "#f7f7f7"
            ],
            [
             0.6,
             "#e6f5d0"
            ],
            [
             0.7,
             "#b8e186"
            ],
            [
             0.8,
             "#7fbc41"
            ],
            [
             0.9,
             "#4d9221"
            ],
            [
             1,
             "#276419"
            ]
           ],
           "sequential": [
            [
             0,
             "#0d0887"
            ],
            [
             0.1111111111111111,
             "#46039f"
            ],
            [
             0.2222222222222222,
             "#7201a8"
            ],
            [
             0.3333333333333333,
             "#9c179e"
            ],
            [
             0.4444444444444444,
             "#bd3786"
            ],
            [
             0.5555555555555556,
             "#d8576b"
            ],
            [
             0.6666666666666666,
             "#ed7953"
            ],
            [
             0.7777777777777778,
             "#fb9f3a"
            ],
            [
             0.8888888888888888,
             "#fdca26"
            ],
            [
             1,
             "#f0f921"
            ]
           ],
           "sequentialminus": [
            [
             0,
             "#0d0887"
            ],
            [
             0.1111111111111111,
             "#46039f"
            ],
            [
             0.2222222222222222,
             "#7201a8"
            ],
            [
             0.3333333333333333,
             "#9c179e"
            ],
            [
             0.4444444444444444,
             "#bd3786"
            ],
            [
             0.5555555555555556,
             "#d8576b"
            ],
            [
             0.6666666666666666,
             "#ed7953"
            ],
            [
             0.7777777777777778,
             "#fb9f3a"
            ],
            [
             0.8888888888888888,
             "#fdca26"
            ],
            [
             1,
             "#f0f921"
            ]
           ]
          },
          "colorway": [
           "#636efa",
           "#EF553B",
           "#00cc96",
           "#ab63fa",
           "#FFA15A",
           "#19d3f3",
           "#FF6692",
           "#B6E880",
           "#FF97FF",
           "#FECB52"
          ],
          "font": {
           "color": "#2a3f5f"
          },
          "geo": {
           "bgcolor": "white",
           "lakecolor": "white",
           "landcolor": "#E5ECF6",
           "showlakes": true,
           "showland": true,
           "subunitcolor": "white"
          },
          "hoverlabel": {
           "align": "left"
          },
          "hovermode": "closest",
          "mapbox": {
           "style": "light"
          },
          "paper_bgcolor": "white",
          "plot_bgcolor": "#E5ECF6",
          "polar": {
           "angularaxis": {
            "gridcolor": "white",
            "linecolor": "white",
            "ticks": ""
           },
           "bgcolor": "#E5ECF6",
           "radialaxis": {
            "gridcolor": "white",
            "linecolor": "white",
            "ticks": ""
           }
          },
          "scene": {
           "xaxis": {
            "backgroundcolor": "#E5ECF6",
            "gridcolor": "white",
            "gridwidth": 2,
            "linecolor": "white",
            "showbackground": true,
            "ticks": "",
            "zerolinecolor": "white"
           },
           "yaxis": {
            "backgroundcolor": "#E5ECF6",
            "gridcolor": "white",
            "gridwidth": 2,
            "linecolor": "white",
            "showbackground": true,
            "ticks": "",
            "zerolinecolor": "white"
           },
           "zaxis": {
            "backgroundcolor": "#E5ECF6",
            "gridcolor": "white",
            "gridwidth": 2,
            "linecolor": "white",
            "showbackground": true,
            "ticks": "",
            "zerolinecolor": "white"
           }
          },
          "shapedefaults": {
           "line": {
            "color": "#2a3f5f"
           }
          },
          "ternary": {
           "aaxis": {
            "gridcolor": "white",
            "linecolor": "white",
            "ticks": ""
           },
           "baxis": {
            "gridcolor": "white",
            "linecolor": "white",
            "ticks": ""
           },
           "bgcolor": "#E5ECF6",
           "caxis": {
            "gridcolor": "white",
            "linecolor": "white",
            "ticks": ""
           }
          },
          "title": {
           "x": 0.05
          },
          "xaxis": {
           "automargin": true,
           "gridcolor": "white",
           "linecolor": "white",
           "ticks": "",
           "title": {
            "standoff": 15
           },
           "zerolinecolor": "white",
           "zerolinewidth": 2
          },
          "yaxis": {
           "automargin": true,
           "gridcolor": "white",
           "linecolor": "white",
           "ticks": "",
           "title": {
            "standoff": 15
           },
           "zerolinecolor": "white",
           "zerolinewidth": 2
          }
         }
        },
        "title": {
         "text": "Monthly Yelp Review Volume Trends"
        },
        "xaxis": {
         "anchor": "y",
         "domain": [
          0,
          1
         ],
         "title": {
          "text": "Month"
         }
        },
        "yaxis": {
         "anchor": "x",
         "domain": [
          0,
          1
         ],
         "title": {
          "text": "Review Count"
         }
        }
       }
      }
     },
     "metadata": {},
     "output_type": "display_data"
    }
   ],
   "source": [
    "# Months with the highest total reviews and highest average star rating\n",
    "df = cur.execute('''\n",
    "                SELECT \n",
    "                    MONTH(review_date) AS month,\n",
    "                    SUM(CASE WHEN stars=1 THEN 1 ELSE 0 END) AS one_star_reviews,\n",
    "                    SUM(CASE WHEN stars=2 THEN 1 ELSE 0 END) AS two_star_reviews,\n",
    "                    SUM(CASE WHEN stars=3 THEN 1 ELSE 0 END) AS three_star_reviews,\n",
    "                    SUM(CASE WHEN stars=4 THEN 1 ELSE 0 END) AS four_star_reviews,\n",
    "                    SUM(CASE WHEN stars=5 THEN 1 ELSE 0 END) AS five_star_reviews,\n",
    "                    COUNT(*) AS total_reviews,\n",
    "                    SUM(stars) AS total_stars,\n",
    "                    ROUND(AVG(stars), 2) avg_rating\n",
    "                FROM yelp_reviews\n",
    "                GROUP BY 1\n",
    "                ORDER BY 1;\n",
    "                 ''').fetch_pandas_all()\n",
    "\n",
    "display(df)\n",
    "\n",
    "# Rename columns for readability in charts\n",
    "df.rename(columns={'ONE_STAR_REVIEWS': '1 Star', 'TWO_STAR_REVIEWS': '2 Star', 'THREE_STAR_REVIEWS': '3 Star', 'FOUR_STAR_REVIEWS': '4 Star', 'FIVE_STAR_REVIEWS': '5 Star', 'TOTAL_REVIEWS': 'Total Reviews',\n",
    "                   'AVG_RATING': 'Average Rating'}, inplace=True)\n",
    "\n",
    "# Generate line chart for review count for each star value by month\n",
    "fig = px.line(\n",
    "    df,\n",
    "    x='MONTH',\n",
    "    y=[\n",
    "        '1 Star',\n",
    "        '2 Star',\n",
    "        '3 Star',\n",
    "        '4 Star',\n",
    "        '5 Star'\n",
    "    ],\n",
    "    labels={\n",
    "        'value': 'Review Count',\n",
    "        'variable': 'Star Rating',\n",
    "        'MONTH': 'Month'\n",
    "    },\n",
    "    title='Monthly Yelp Review Star Ratings Trends'\n",
    ")\n",
    "fig.show()\n",
    "\n",
    "# Generate bar chart for monthly review volume by month\n",
    "fig = px.bar(\n",
    "    df, \n",
    "    x='MONTH', \n",
    "    y='Total Reviews', \n",
    "    color='Total Reviews', \n",
    "    labels={'MONTH': 'Month', 'Total Reviews': 'Review Count'}, \n",
    "    title='Monthly Yelp Review Volume Trends'\n",
    ")\n",
    "fig.show()"
   ]
  },
  {
   "cell_type": "code",
   "execution_count": null,
   "id": "9ff30fbc",
   "metadata": {},
   "outputs": [
    {
     "data": {
      "text/html": [
       "<div>\n",
       "<style scoped>\n",
       "    .dataframe tbody tr th:only-of-type {\n",
       "        vertical-align: middle;\n",
       "    }\n",
       "\n",
       "    .dataframe tbody tr th {\n",
       "        vertical-align: top;\n",
       "    }\n",
       "\n",
       "    .dataframe thead th {\n",
       "        text-align: right;\n",
       "    }\n",
       "</style>\n",
       "<table border=\"1\" class=\"dataframe\">\n",
       "  <thead>\n",
       "    <tr style=\"text-align: right;\">\n",
       "      <th></th>\n",
       "      <th>YEAR</th>\n",
       "      <th>MONTH</th>\n",
       "      <th>ONE_STAR_REVIEWS</th>\n",
       "      <th>TWO_STAR_REVIEWS</th>\n",
       "      <th>THREE_STAR_REVIEWS</th>\n",
       "      <th>FOUR_STAR_REVIEWS</th>\n",
       "      <th>FIVE_STAR_REVIEWS</th>\n",
       "      <th>TOTAL_REVIEWS</th>\n",
       "      <th>TOTAL_STARS</th>\n",
       "      <th>AVG_STARS</th>\n",
       "    </tr>\n",
       "  </thead>\n",
       "  <tbody>\n",
       "    <tr>\n",
       "      <th>0</th>\n",
       "      <td>2005</td>\n",
       "      <td>2</td>\n",
       "      <td>0</td>\n",
       "      <td>0</td>\n",
       "      <td>0</td>\n",
       "      <td>2</td>\n",
       "      <td>1</td>\n",
       "      <td>3</td>\n",
       "      <td>13</td>\n",
       "      <td>4.33</td>\n",
       "    </tr>\n",
       "    <tr>\n",
       "      <th>1</th>\n",
       "      <td>2005</td>\n",
       "      <td>3</td>\n",
       "      <td>5</td>\n",
       "      <td>8</td>\n",
       "      <td>18</td>\n",
       "      <td>20</td>\n",
       "      <td>23</td>\n",
       "      <td>74</td>\n",
       "      <td>270</td>\n",
       "      <td>3.65</td>\n",
       "    </tr>\n",
       "    <tr>\n",
       "      <th>2</th>\n",
       "      <td>2005</td>\n",
       "      <td>4</td>\n",
       "      <td>1</td>\n",
       "      <td>0</td>\n",
       "      <td>4</td>\n",
       "      <td>10</td>\n",
       "      <td>11</td>\n",
       "      <td>26</td>\n",
       "      <td>108</td>\n",
       "      <td>4.15</td>\n",
       "    </tr>\n",
       "    <tr>\n",
       "      <th>3</th>\n",
       "      <td>2005</td>\n",
       "      <td>5</td>\n",
       "      <td>1</td>\n",
       "      <td>7</td>\n",
       "      <td>16</td>\n",
       "      <td>42</td>\n",
       "      <td>42</td>\n",
       "      <td>108</td>\n",
       "      <td>441</td>\n",
       "      <td>4.08</td>\n",
       "    </tr>\n",
       "    <tr>\n",
       "      <th>4</th>\n",
       "      <td>2005</td>\n",
       "      <td>6</td>\n",
       "      <td>2</td>\n",
       "      <td>2</td>\n",
       "      <td>4</td>\n",
       "      <td>15</td>\n",
       "      <td>15</td>\n",
       "      <td>38</td>\n",
       "      <td>153</td>\n",
       "      <td>4.03</td>\n",
       "    </tr>\n",
       "    <tr>\n",
       "      <th>...</th>\n",
       "      <td>...</td>\n",
       "      <td>...</td>\n",
       "      <td>...</td>\n",
       "      <td>...</td>\n",
       "      <td>...</td>\n",
       "      <td>...</td>\n",
       "      <td>...</td>\n",
       "      <td>...</td>\n",
       "      <td>...</td>\n",
       "      <td>...</td>\n",
       "    </tr>\n",
       "    <tr>\n",
       "      <th>199</th>\n",
       "      <td>2021</td>\n",
       "      <td>9</td>\n",
       "      <td>10470</td>\n",
       "      <td>3295</td>\n",
       "      <td>3348</td>\n",
       "      <td>5775</td>\n",
       "      <td>23509</td>\n",
       "      <td>46397</td>\n",
       "      <td>167749</td>\n",
       "      <td>3.62</td>\n",
       "    </tr>\n",
       "    <tr>\n",
       "      <th>200</th>\n",
       "      <td>2021</td>\n",
       "      <td>10</td>\n",
       "      <td>10539</td>\n",
       "      <td>3510</td>\n",
       "      <td>3567</td>\n",
       "      <td>6507</td>\n",
       "      <td>25181</td>\n",
       "      <td>49304</td>\n",
       "      <td>180193</td>\n",
       "      <td>3.65</td>\n",
       "    </tr>\n",
       "    <tr>\n",
       "      <th>201</th>\n",
       "      <td>2021</td>\n",
       "      <td>11</td>\n",
       "      <td>9426</td>\n",
       "      <td>3180</td>\n",
       "      <td>3193</td>\n",
       "      <td>6290</td>\n",
       "      <td>23135</td>\n",
       "      <td>45224</td>\n",
       "      <td>166200</td>\n",
       "      <td>3.68</td>\n",
       "    </tr>\n",
       "    <tr>\n",
       "      <th>202</th>\n",
       "      <td>2021</td>\n",
       "      <td>12</td>\n",
       "      <td>10175</td>\n",
       "      <td>3219</td>\n",
       "      <td>3601</td>\n",
       "      <td>6768</td>\n",
       "      <td>24716</td>\n",
       "      <td>48479</td>\n",
       "      <td>178068</td>\n",
       "      <td>3.67</td>\n",
       "    </tr>\n",
       "    <tr>\n",
       "      <th>203</th>\n",
       "      <td>2022</td>\n",
       "      <td>1</td>\n",
       "      <td>6607</td>\n",
       "      <td>1959</td>\n",
       "      <td>2183</td>\n",
       "      <td>4351</td>\n",
       "      <td>16565</td>\n",
       "      <td>31665</td>\n",
       "      <td>117303</td>\n",
       "      <td>3.70</td>\n",
       "    </tr>\n",
       "  </tbody>\n",
       "</table>\n",
       "<p>204 rows × 10 columns</p>\n",
       "</div>"
      ],
      "text/plain": [
       "     YEAR  MONTH  ONE_STAR_REVIEWS  TWO_STAR_REVIEWS  THREE_STAR_REVIEWS  \\\n",
       "0    2005      2                 0                 0                   0   \n",
       "1    2005      3                 5                 8                  18   \n",
       "2    2005      4                 1                 0                   4   \n",
       "3    2005      5                 1                 7                  16   \n",
       "4    2005      6                 2                 2                   4   \n",
       "..    ...    ...               ...               ...                 ...   \n",
       "199  2021      9             10470              3295                3348   \n",
       "200  2021     10             10539              3510                3567   \n",
       "201  2021     11              9426              3180                3193   \n",
       "202  2021     12             10175              3219                3601   \n",
       "203  2022      1              6607              1959                2183   \n",
       "\n",
       "     FOUR_STAR_REVIEWS  FIVE_STAR_REVIEWS  TOTAL_REVIEWS  TOTAL_STARS  \\\n",
       "0                    2                  1              3           13   \n",
       "1                   20                 23             74          270   \n",
       "2                   10                 11             26          108   \n",
       "3                   42                 42            108          441   \n",
       "4                   15                 15             38          153   \n",
       "..                 ...                ...            ...          ...   \n",
       "199               5775              23509          46397       167749   \n",
       "200               6507              25181          49304       180193   \n",
       "201               6290              23135          45224       166200   \n",
       "202               6768              24716          48479       178068   \n",
       "203               4351              16565          31665       117303   \n",
       "\n",
       "    AVG_STARS  \n",
       "0        4.33  \n",
       "1        3.65  \n",
       "2        4.15  \n",
       "3        4.08  \n",
       "4        4.03  \n",
       "..        ...  \n",
       "199      3.62  \n",
       "200      3.65  \n",
       "201      3.68  \n",
       "202      3.67  \n",
       "203      3.70  \n",
       "\n",
       "[204 rows x 10 columns]"
      ]
     },
     "metadata": {},
     "output_type": "display_data"
    },
    {
     "data": {
      "application/vnd.plotly.v1+json": {
       "config": {
        "plotlyServerURL": "https://plot.ly"
       },
       "data": [
        {
         "hovertemplate": "Star Rating=1 Star<br>Month-Year=%{x}<br>Review Count=%{y}<extra></extra>",
         "legendgroup": "1 Star",
         "line": {
          "color": "#636efa",
          "dash": "solid"
         },
         "marker": {
          "symbol": "circle"
         },
         "mode": "lines",
         "name": "1 Star",
         "showlegend": true,
         "type": "scattergl",
         "x": [
          "02/2005",
          "03/2005",
          "04/2005",
          "05/2005",
          "06/2005",
          "07/2005",
          "08/2005",
          "09/2005",
          "10/2005",
          "11/2005",
          "12/2005",
          "01/2006",
          "02/2006",
          "03/2006",
          "04/2006",
          "05/2006",
          "06/2006",
          "07/2006",
          "08/2006",
          "09/2006",
          "10/2006",
          "11/2006",
          "12/2006",
          "01/2007",
          "02/2007",
          "03/2007",
          "04/2007",
          "05/2007",
          "06/2007",
          "07/2007",
          "08/2007",
          "09/2007",
          "10/2007",
          "11/2007",
          "12/2007",
          "01/2008",
          "02/2008",
          "03/2008",
          "04/2008",
          "05/2008",
          "06/2008",
          "07/2008",
          "08/2008",
          "09/2008",
          "10/2008",
          "11/2008",
          "12/2008",
          "01/2009",
          "02/2009",
          "03/2009",
          "04/2009",
          "05/2009",
          "06/2009",
          "07/2009",
          "08/2009",
          "09/2009",
          "10/2009",
          "11/2009",
          "12/2009",
          "01/2010",
          "02/2010",
          "03/2010",
          "04/2010",
          "05/2010",
          "06/2010",
          "07/2010",
          "08/2010",
          "09/2010",
          "10/2010",
          "11/2010",
          "12/2010",
          "01/2011",
          "02/2011",
          "03/2011",
          "04/2011",
          "05/2011",
          "06/2011",
          "07/2011",
          "08/2011",
          "09/2011",
          "10/2011",
          "11/2011",
          "12/2011",
          "01/2012",
          "02/2012",
          "03/2012",
          "04/2012",
          "05/2012",
          "06/2012",
          "07/2012",
          "08/2012",
          "09/2012",
          "10/2012",
          "11/2012",
          "12/2012",
          "01/2013",
          "02/2013",
          "03/2013",
          "04/2013",
          "05/2013",
          "06/2013",
          "07/2013",
          "08/2013",
          "09/2013",
          "10/2013",
          "11/2013",
          "12/2013",
          "01/2014",
          "02/2014",
          "03/2014",
          "04/2014",
          "05/2014",
          "06/2014",
          "07/2014",
          "08/2014",
          "09/2014",
          "10/2014",
          "11/2014",
          "12/2014",
          "01/2015",
          "02/2015",
          "03/2015",
          "04/2015",
          "05/2015",
          "06/2015",
          "07/2015",
          "08/2015",
          "09/2015",
          "10/2015",
          "11/2015",
          "12/2015",
          "01/2016",
          "02/2016",
          "03/2016",
          "04/2016",
          "05/2016",
          "06/2016",
          "07/2016",
          "08/2016",
          "09/2016",
          "10/2016",
          "11/2016",
          "12/2016",
          "01/2017",
          "02/2017",
          "03/2017",
          "04/2017",
          "05/2017",
          "06/2017",
          "07/2017",
          "08/2017",
          "09/2017",
          "10/2017",
          "11/2017",
          "12/2017",
          "01/2018",
          "02/2018",
          "03/2018",
          "04/2018",
          "05/2018",
          "06/2018",
          "07/2018",
          "08/2018",
          "09/2018",
          "10/2018",
          "11/2018",
          "12/2018",
          "01/2019",
          "02/2019",
          "03/2019",
          "04/2019",
          "05/2019",
          "06/2019",
          "07/2019",
          "08/2019",
          "09/2019",
          "10/2019",
          "11/2019",
          "12/2019",
          "01/2020",
          "02/2020",
          "03/2020",
          "04/2020",
          "05/2020",
          "06/2020",
          "07/2020",
          "08/2020",
          "09/2020",
          "10/2020",
          "11/2020",
          "12/2020",
          "01/2021",
          "02/2021",
          "03/2021",
          "04/2021",
          "05/2021",
          "06/2021",
          "07/2021",
          "08/2021",
          "09/2021",
          "10/2021",
          "11/2021",
          "12/2021",
          "01/2022"
         ],
         "xaxis": "x",
         "y": {
          "bdata": "AAAFAAEAAQACAAkAAgAEAAAAAwADAA0ABQAFAAsACgAGABQACgAOABUAEAAKABwAOQAyACwAJwAoAEYAUQA6AEQARgBJAHkAdQCHAKAAlgDVACIB9wD+AOYA0gAAAUcBZgG8AakBswGkAf8BLQLRAcsB5wHTAdYCngLhAh4DAgM1A7wD6AMGBAME4gM9BGwFMwUjBiIGogYdB98H9QeIBwYHaQe+B+sIDAm3CToJ/An3CYcLKwtbCtAKBQqaCpIMGwxdDYAN/Q6fDuYPlxE8EGsQ6Q+kEIwScRFWFCgUCBa5FmoaDhrdFmoXJhf6GPka+xrvH4gdKSEmIRAjryRDILchOB4FIQIjoyPcJI8kdycCKNkp3SfiJNIj8B+VI6Mk1SPdKdcpoi10LLMuDyyqKMUpWSXNKC0qiSqiMZwvIDMOM443ZDXZL4AulyvFMEYuXC9HOLUz4zewOII4qDZ6MkUwqyy6LXwskCzaHjMSfBvFIWomxCZEJaUkDh46H7QfSR9QKd8qeS/5LBswly/mKCsp0iS/J88Z",
          "dtype": "i2"
         },
         "yaxis": "y"
        },
        {
         "hovertemplate": "Star Rating=2 Star<br>Month-Year=%{x}<br>Review Count=%{y}<extra></extra>",
         "legendgroup": "2 Star",
         "line": {
          "color": "#EF553B",
          "dash": "solid"
         },
         "marker": {
          "symbol": "circle"
         },
         "mode": "lines",
         "name": "2 Star",
         "showlegend": true,
         "type": "scattergl",
         "x": [
          "02/2005",
          "03/2005",
          "04/2005",
          "05/2005",
          "06/2005",
          "07/2005",
          "08/2005",
          "09/2005",
          "10/2005",
          "11/2005",
          "12/2005",
          "01/2006",
          "02/2006",
          "03/2006",
          "04/2006",
          "05/2006",
          "06/2006",
          "07/2006",
          "08/2006",
          "09/2006",
          "10/2006",
          "11/2006",
          "12/2006",
          "01/2007",
          "02/2007",
          "03/2007",
          "04/2007",
          "05/2007",
          "06/2007",
          "07/2007",
          "08/2007",
          "09/2007",
          "10/2007",
          "11/2007",
          "12/2007",
          "01/2008",
          "02/2008",
          "03/2008",
          "04/2008",
          "05/2008",
          "06/2008",
          "07/2008",
          "08/2008",
          "09/2008",
          "10/2008",
          "11/2008",
          "12/2008",
          "01/2009",
          "02/2009",
          "03/2009",
          "04/2009",
          "05/2009",
          "06/2009",
          "07/2009",
          "08/2009",
          "09/2009",
          "10/2009",
          "11/2009",
          "12/2009",
          "01/2010",
          "02/2010",
          "03/2010",
          "04/2010",
          "05/2010",
          "06/2010",
          "07/2010",
          "08/2010",
          "09/2010",
          "10/2010",
          "11/2010",
          "12/2010",
          "01/2011",
          "02/2011",
          "03/2011",
          "04/2011",
          "05/2011",
          "06/2011",
          "07/2011",
          "08/2011",
          "09/2011",
          "10/2011",
          "11/2011",
          "12/2011",
          "01/2012",
          "02/2012",
          "03/2012",
          "04/2012",
          "05/2012",
          "06/2012",
          "07/2012",
          "08/2012",
          "09/2012",
          "10/2012",
          "11/2012",
          "12/2012",
          "01/2013",
          "02/2013",
          "03/2013",
          "04/2013",
          "05/2013",
          "06/2013",
          "07/2013",
          "08/2013",
          "09/2013",
          "10/2013",
          "11/2013",
          "12/2013",
          "01/2014",
          "02/2014",
          "03/2014",
          "04/2014",
          "05/2014",
          "06/2014",
          "07/2014",
          "08/2014",
          "09/2014",
          "10/2014",
          "11/2014",
          "12/2014",
          "01/2015",
          "02/2015",
          "03/2015",
          "04/2015",
          "05/2015",
          "06/2015",
          "07/2015",
          "08/2015",
          "09/2015",
          "10/2015",
          "11/2015",
          "12/2015",
          "01/2016",
          "02/2016",
          "03/2016",
          "04/2016",
          "05/2016",
          "06/2016",
          "07/2016",
          "08/2016",
          "09/2016",
          "10/2016",
          "11/2016",
          "12/2016",
          "01/2017",
          "02/2017",
          "03/2017",
          "04/2017",
          "05/2017",
          "06/2017",
          "07/2017",
          "08/2017",
          "09/2017",
          "10/2017",
          "11/2017",
          "12/2017",
          "01/2018",
          "02/2018",
          "03/2018",
          "04/2018",
          "05/2018",
          "06/2018",
          "07/2018",
          "08/2018",
          "09/2018",
          "10/2018",
          "11/2018",
          "12/2018",
          "01/2019",
          "02/2019",
          "03/2019",
          "04/2019",
          "05/2019",
          "06/2019",
          "07/2019",
          "08/2019",
          "09/2019",
          "10/2019",
          "11/2019",
          "12/2019",
          "01/2020",
          "02/2020",
          "03/2020",
          "04/2020",
          "05/2020",
          "06/2020",
          "07/2020",
          "08/2020",
          "09/2020",
          "10/2020",
          "11/2020",
          "12/2020",
          "01/2021",
          "02/2021",
          "03/2021",
          "04/2021",
          "05/2021",
          "06/2021",
          "07/2021",
          "08/2021",
          "09/2021",
          "10/2021",
          "11/2021",
          "12/2021",
          "01/2022"
         ],
         "xaxis": "x",
         "y": {
          "bdata": "AAAIAAAABwACABgAAQABAAMABAAEAAoACAAJAAsACgANABMAJQAeABYAFgATADsAiwBwAEYATABPAIQAaABWAH4AaQBZAJoAngDTAPkA8wBNAdsBBwKiAYoBrwFyASYC3AFOAh8CMgI9ArIC3gJtAoYCXQKmAhcEbgMYBIwDqgO6A60ERQXBBOIEkgTtBIAG9AULB+kGCwc3BysIOQgbB+cGDwf9BioJbgjxCHsIogjkCLsJRgm5COAIjQjiCLIKxQndC8oKOQtuCzcM4QxbDLAL+gtSC7oM9AvsDrwNLg8SD7kQaRG5DlsOcg4wD/URsBCrEokRFxPqEsUUNxVWErASGxFoEdUT5hPvFH4TphW/E7YVzRReEpIS+w8sEbwSCxKIFCkVAxbCFT0XPhVmE0MTjBE7EsgTlBNNF3UWJBfwFsEZzxaeFPQTtxHeE28UNhQfGEQVwxb4FmkXSxZyFEgTYxH+EbgShRLUCtQEBwdMCj4LhAzSCxkMuQkaCZEKgQp0DnkOABCRDwMR1w/fDLYNbAyTDKcH",
          "dtype": "i2"
         },
         "yaxis": "y"
        },
        {
         "hovertemplate": "Star Rating=3 Star<br>Month-Year=%{x}<br>Review Count=%{y}<extra></extra>",
         "legendgroup": "3 Star",
         "line": {
          "color": "#00cc96",
          "dash": "solid"
         },
         "marker": {
          "symbol": "circle"
         },
         "mode": "lines",
         "name": "3 Star",
         "showlegend": true,
         "type": "scattergl",
         "x": [
          "02/2005",
          "03/2005",
          "04/2005",
          "05/2005",
          "06/2005",
          "07/2005",
          "08/2005",
          "09/2005",
          "10/2005",
          "11/2005",
          "12/2005",
          "01/2006",
          "02/2006",
          "03/2006",
          "04/2006",
          "05/2006",
          "06/2006",
          "07/2006",
          "08/2006",
          "09/2006",
          "10/2006",
          "11/2006",
          "12/2006",
          "01/2007",
          "02/2007",
          "03/2007",
          "04/2007",
          "05/2007",
          "06/2007",
          "07/2007",
          "08/2007",
          "09/2007",
          "10/2007",
          "11/2007",
          "12/2007",
          "01/2008",
          "02/2008",
          "03/2008",
          "04/2008",
          "05/2008",
          "06/2008",
          "07/2008",
          "08/2008",
          "09/2008",
          "10/2008",
          "11/2008",
          "12/2008",
          "01/2009",
          "02/2009",
          "03/2009",
          "04/2009",
          "05/2009",
          "06/2009",
          "07/2009",
          "08/2009",
          "09/2009",
          "10/2009",
          "11/2009",
          "12/2009",
          "01/2010",
          "02/2010",
          "03/2010",
          "04/2010",
          "05/2010",
          "06/2010",
          "07/2010",
          "08/2010",
          "09/2010",
          "10/2010",
          "11/2010",
          "12/2010",
          "01/2011",
          "02/2011",
          "03/2011",
          "04/2011",
          "05/2011",
          "06/2011",
          "07/2011",
          "08/2011",
          "09/2011",
          "10/2011",
          "11/2011",
          "12/2011",
          "01/2012",
          "02/2012",
          "03/2012",
          "04/2012",
          "05/2012",
          "06/2012",
          "07/2012",
          "08/2012",
          "09/2012",
          "10/2012",
          "11/2012",
          "12/2012",
          "01/2013",
          "02/2013",
          "03/2013",
          "04/2013",
          "05/2013",
          "06/2013",
          "07/2013",
          "08/2013",
          "09/2013",
          "10/2013",
          "11/2013",
          "12/2013",
          "01/2014",
          "02/2014",
          "03/2014",
          "04/2014",
          "05/2014",
          "06/2014",
          "07/2014",
          "08/2014",
          "09/2014",
          "10/2014",
          "11/2014",
          "12/2014",
          "01/2015",
          "02/2015",
          "03/2015",
          "04/2015",
          "05/2015",
          "06/2015",
          "07/2015",
          "08/2015",
          "09/2015",
          "10/2015",
          "11/2015",
          "12/2015",
          "01/2016",
          "02/2016",
          "03/2016",
          "04/2016",
          "05/2016",
          "06/2016",
          "07/2016",
          "08/2016",
          "09/2016",
          "10/2016",
          "11/2016",
          "12/2016",
          "01/2017",
          "02/2017",
          "03/2017",
          "04/2017",
          "05/2017",
          "06/2017",
          "07/2017",
          "08/2017",
          "09/2017",
          "10/2017",
          "11/2017",
          "12/2017",
          "01/2018",
          "02/2018",
          "03/2018",
          "04/2018",
          "05/2018",
          "06/2018",
          "07/2018",
          "08/2018",
          "09/2018",
          "10/2018",
          "11/2018",
          "12/2018",
          "01/2019",
          "02/2019",
          "03/2019",
          "04/2019",
          "05/2019",
          "06/2019",
          "07/2019",
          "08/2019",
          "09/2019",
          "10/2019",
          "11/2019",
          "12/2019",
          "01/2020",
          "02/2020",
          "03/2020",
          "04/2020",
          "05/2020",
          "06/2020",
          "07/2020",
          "08/2020",
          "09/2020",
          "10/2020",
          "11/2020",
          "12/2020",
          "01/2021",
          "02/2021",
          "03/2021",
          "04/2021",
          "05/2021",
          "06/2021",
          "07/2021",
          "08/2021",
          "09/2021",
          "10/2021",
          "11/2021",
          "12/2021",
          "01/2022"
         ],
         "xaxis": "x",
         "y": {
          "bdata": "AAASAAQAEAAEAEQACwASAAIADgAQACEAFgAhACAAJgAdAD0AXwBIAFQAVwBCAJYAYwEmAcMAmAC/ACoBDwEPAfsABAHZAFMBagHqAZ0CXAIFA+QDWQRZAyMEmAM3A1MEowPvA6MDlQO8A4cEzAQ3BDwEQwQABUkHTgYXB04G3QbnBpIHfQjxB4gICwinCM8KhApHDFILlwvACxIOzQxLCzYL3wsRC6sORA0eDhgNJQ18DZkOrw1gDF8NuAwTDXoR7w4nEWUQbhB1EDMRJhJFEWIQmxBEEN0ShxBvFP0SxBR6E2gWZBYFE88TjRJ5EzUYhxU7GLIWfBhwGKYaohqMFpkWiRWXFL0ZBBlYGqkXMRkPGGcakxhfFV4UIBRPEwUYkhVSGegYnhrqGmgcPhmuFv4XHhbCFf0Y/hbcG/Ia1BpsGnMdBhrqFlIXuBTJFmoYuhZhG9kYjRmXGtMaJhqyF1gW9RNgFIQVkhTcDEUExgYJCTsLeAw4DKQMcgqMCkIL4wotDpcO4A9/ELkRGRAUDe8NeQwRDocI",
          "dtype": "i2"
         },
         "yaxis": "y"
        },
        {
         "hovertemplate": "Star Rating=4 Star<br>Month-Year=%{x}<br>Review Count=%{y}<extra></extra>",
         "legendgroup": "4 Star",
         "line": {
          "color": "#ab63fa",
          "dash": "solid"
         },
         "marker": {
          "symbol": "circle"
         },
         "mode": "lines",
         "name": "4 Star",
         "showlegend": true,
         "type": "scattergl",
         "x": [
          "02/2005",
          "03/2005",
          "04/2005",
          "05/2005",
          "06/2005",
          "07/2005",
          "08/2005",
          "09/2005",
          "10/2005",
          "11/2005",
          "12/2005",
          "01/2006",
          "02/2006",
          "03/2006",
          "04/2006",
          "05/2006",
          "06/2006",
          "07/2006",
          "08/2006",
          "09/2006",
          "10/2006",
          "11/2006",
          "12/2006",
          "01/2007",
          "02/2007",
          "03/2007",
          "04/2007",
          "05/2007",
          "06/2007",
          "07/2007",
          "08/2007",
          "09/2007",
          "10/2007",
          "11/2007",
          "12/2007",
          "01/2008",
          "02/2008",
          "03/2008",
          "04/2008",
          "05/2008",
          "06/2008",
          "07/2008",
          "08/2008",
          "09/2008",
          "10/2008",
          "11/2008",
          "12/2008",
          "01/2009",
          "02/2009",
          "03/2009",
          "04/2009",
          "05/2009",
          "06/2009",
          "07/2009",
          "08/2009",
          "09/2009",
          "10/2009",
          "11/2009",
          "12/2009",
          "01/2010",
          "02/2010",
          "03/2010",
          "04/2010",
          "05/2010",
          "06/2010",
          "07/2010",
          "08/2010",
          "09/2010",
          "10/2010",
          "11/2010",
          "12/2010",
          "01/2011",
          "02/2011",
          "03/2011",
          "04/2011",
          "05/2011",
          "06/2011",
          "07/2011",
          "08/2011",
          "09/2011",
          "10/2011",
          "11/2011",
          "12/2011",
          "01/2012",
          "02/2012",
          "03/2012",
          "04/2012",
          "05/2012",
          "06/2012",
          "07/2012",
          "08/2012",
          "09/2012",
          "10/2012",
          "11/2012",
          "12/2012",
          "01/2013",
          "02/2013",
          "03/2013",
          "04/2013",
          "05/2013",
          "06/2013",
          "07/2013",
          "08/2013",
          "09/2013",
          "10/2013",
          "11/2013",
          "12/2013",
          "01/2014",
          "02/2014",
          "03/2014",
          "04/2014",
          "05/2014",
          "06/2014",
          "07/2014",
          "08/2014",
          "09/2014",
          "10/2014",
          "11/2014",
          "12/2014",
          "01/2015",
          "02/2015",
          "03/2015",
          "04/2015",
          "05/2015",
          "06/2015",
          "07/2015",
          "08/2015",
          "09/2015",
          "10/2015",
          "11/2015",
          "12/2015",
          "01/2016",
          "02/2016",
          "03/2016",
          "04/2016",
          "05/2016",
          "06/2016",
          "07/2016",
          "08/2016",
          "09/2016",
          "10/2016",
          "11/2016",
          "12/2016",
          "01/2017",
          "02/2017",
          "03/2017",
          "04/2017",
          "05/2017",
          "06/2017",
          "07/2017",
          "08/2017",
          "09/2017",
          "10/2017",
          "11/2017",
          "12/2017",
          "01/2018",
          "02/2018",
          "03/2018",
          "04/2018",
          "05/2018",
          "06/2018",
          "07/2018",
          "08/2018",
          "09/2018",
          "10/2018",
          "11/2018",
          "12/2018",
          "01/2019",
          "02/2019",
          "03/2019",
          "04/2019",
          "05/2019",
          "06/2019",
          "07/2019",
          "08/2019",
          "09/2019",
          "10/2019",
          "11/2019",
          "12/2019",
          "01/2020",
          "02/2020",
          "03/2020",
          "04/2020",
          "05/2020",
          "06/2020",
          "07/2020",
          "08/2020",
          "09/2020",
          "10/2020",
          "11/2020",
          "12/2020",
          "01/2021",
          "02/2021",
          "03/2021",
          "04/2021",
          "05/2021",
          "06/2021",
          "07/2021",
          "08/2021",
          "09/2021",
          "10/2021",
          "11/2021",
          "12/2021",
          "01/2022"
         ],
         "xaxis": "x",
         "y": {
          "bdata": "AgAUAAoAKgAPAGQAFgAWABIAHQAjAEwASQBEAEcAVgA8AI8AowCcAJIAoACsAC4B4gGsAZ0BHwGHATQCKwIHAhMCAQKYAQsDRQP1A14F2gUvBt0HnQgFB5EHLQduBsMILQeqCLAHbgcdCEQJ6QkACQkJPAk1Cb8PLw3FDpgN1Q3TDW4RXhIvER0SdxHyEeUYQRdIGhkZYRnKGfYcZRzKF3IXBxhyF8kfSR1uHvIbVxyXHfwfLR2AGzgcTRwZHMcl3x+wJV0jqyPLI+wmXinjJHcjDyQFJFIrXCVCLlgqJC2yLBwygDETKyErgCrIKk81tS9LNBczpDTaNMM6VToRMlEyWi8gLiU6EDefOec0oDbRMw05sDP3LFgs3SiyKV0yRi+bNA80yzZZOOk5+DTlLgwxYS7+LEI0IDDzOdw2yTY3N0894DNMLjAvFSw9LpIxli3WNm8wVTL2Ml00BDPRLa8skyfHKGEq3Cq/G/wJzA2sEsYV4RdsFyQY5xRXFXYWIRWXGuwZYxxqHSgftByPFmsZkhhwGv8Q",
          "dtype": "i2"
         },
         "yaxis": "y"
        },
        {
         "hovertemplate": "Star Rating=5 Star<br>Month-Year=%{x}<br>Review Count=%{y}<extra></extra>",
         "legendgroup": "5 Star",
         "line": {
          "color": "#FFA15A",
          "dash": "solid"
         },
         "marker": {
          "symbol": "circle"
         },
         "mode": "lines",
         "name": "5 Star",
         "showlegend": true,
         "type": "scattergl",
         "x": [
          "02/2005",
          "03/2005",
          "04/2005",
          "05/2005",
          "06/2005",
          "07/2005",
          "08/2005",
          "09/2005",
          "10/2005",
          "11/2005",
          "12/2005",
          "01/2006",
          "02/2006",
          "03/2006",
          "04/2006",
          "05/2006",
          "06/2006",
          "07/2006",
          "08/2006",
          "09/2006",
          "10/2006",
          "11/2006",
          "12/2006",
          "01/2007",
          "02/2007",
          "03/2007",
          "04/2007",
          "05/2007",
          "06/2007",
          "07/2007",
          "08/2007",
          "09/2007",
          "10/2007",
          "11/2007",
          "12/2007",
          "01/2008",
          "02/2008",
          "03/2008",
          "04/2008",
          "05/2008",
          "06/2008",
          "07/2008",
          "08/2008",
          "09/2008",
          "10/2008",
          "11/2008",
          "12/2008",
          "01/2009",
          "02/2009",
          "03/2009",
          "04/2009",
          "05/2009",
          "06/2009",
          "07/2009",
          "08/2009",
          "09/2009",
          "10/2009",
          "11/2009",
          "12/2009",
          "01/2010",
          "02/2010",
          "03/2010",
          "04/2010",
          "05/2010",
          "06/2010",
          "07/2010",
          "08/2010",
          "09/2010",
          "10/2010",
          "11/2010",
          "12/2010",
          "01/2011",
          "02/2011",
          "03/2011",
          "04/2011",
          "05/2011",
          "06/2011",
          "07/2011",
          "08/2011",
          "09/2011",
          "10/2011",
          "11/2011",
          "12/2011",
          "01/2012",
          "02/2012",
          "03/2012",
          "04/2012",
          "05/2012",
          "06/2012",
          "07/2012",
          "08/2012",
          "09/2012",
          "10/2012",
          "11/2012",
          "12/2012",
          "01/2013",
          "02/2013",
          "03/2013",
          "04/2013",
          "05/2013",
          "06/2013",
          "07/2013",
          "08/2013",
          "09/2013",
          "10/2013",
          "11/2013",
          "12/2013",
          "01/2014",
          "02/2014",
          "03/2014",
          "04/2014",
          "05/2014",
          "06/2014",
          "07/2014",
          "08/2014",
          "09/2014",
          "10/2014",
          "11/2014",
          "12/2014",
          "01/2015",
          "02/2015",
          "03/2015",
          "04/2015",
          "05/2015",
          "06/2015",
          "07/2015",
          "08/2015",
          "09/2015",
          "10/2015",
          "11/2015",
          "12/2015",
          "01/2016",
          "02/2016",
          "03/2016",
          "04/2016",
          "05/2016",
          "06/2016",
          "07/2016",
          "08/2016",
          "09/2016",
          "10/2016",
          "11/2016",
          "12/2016",
          "01/2017",
          "02/2017",
          "03/2017",
          "04/2017",
          "05/2017",
          "06/2017",
          "07/2017",
          "08/2017",
          "09/2017",
          "10/2017",
          "11/2017",
          "12/2017",
          "01/2018",
          "02/2018",
          "03/2018",
          "04/2018",
          "05/2018",
          "06/2018",
          "07/2018",
          "08/2018",
          "09/2018",
          "10/2018",
          "11/2018",
          "12/2018",
          "01/2019",
          "02/2019",
          "03/2019",
          "04/2019",
          "05/2019",
          "06/2019",
          "07/2019",
          "08/2019",
          "09/2019",
          "10/2019",
          "11/2019",
          "12/2019",
          "01/2020",
          "02/2020",
          "03/2020",
          "04/2020",
          "05/2020",
          "06/2020",
          "07/2020",
          "08/2020",
          "09/2020",
          "10/2020",
          "11/2020",
          "12/2020",
          "01/2021",
          "02/2021",
          "03/2021",
          "04/2021",
          "05/2021",
          "06/2021",
          "07/2021",
          "08/2021",
          "09/2021",
          "10/2021",
          "11/2021",
          "12/2021",
          "01/2022"
         ],
         "xaxis": "x",
         "y": {
          "bdata": "AQAAABcAAAALAAAAKgAAAA8AAAA6AAAAHgAAABgAAAAQAAAAFAAAACwAAABZAAAATQAAAEwAAABHAAAAUAAAAEgAAACSAAAAuwAAAL0AAACgAAAAjQAAALwAAAAHAQAAgwEAAE8BAACFAQAAYgEAALgBAABUAgAAjgIAAPwBAADFAQAArQEAAJIBAADOAgAA8gIAAKsDAAANBQAAFQUAANsEAACdBQAA6AUAAAUFAAD+BAAACwUAACEFAADTBgAAsAUAACgHAACIBgAAoQYAAC4HAABACAAAxwgAAMkHAACfBwAA5wcAAI4HAAAEDAAAwAoAAIUMAAB/CwAAOQwAAGcMAAChDwAAqhAAAGYPAAAyDwAAVRAAADYQAADGFQAAjxQAALYYAACtFgAAdhcAAPIYAABrHAAAehwAAJUYAAAaFwAAURgAAPsXAAAvIAAAmx0AAP8eAAAUHgAA9x0AAPkfAADNIgAAUSIAAHcfAAD3HwAA+R4AAO8eAABWKQAAaSQAAAgqAACfKAAALyoAAA4rAAA2LwAAwzQAAEMxAACtMAAAijEAABUxAABKPAAAzTUAAKRCAACAPwAAb0QAAM5FAADrTwAA0VAAAO1FAABvSQAAIUcAAP9GAABNWAAADlEAAKleAABmXQAA+mIAAK5lAABucAAAMHIAABZkAACIaAAAQGEAAIheAAAgcwAALnMAAOp5AAAvdAAAyHoAAAB6AAAShQAArXoAAK1tAADDbgAAk2IAAONnAAB2eAAAA3QAAF6EAADggwAAIYoAAP2LAAChlQAAuosAAIN7AADpgQAAVHcAAHJ2AAB4hwAAr4IAAKWdAADEmgAAaZoAAHCgAAA+rwAAg58AAHSOAABVjwAAYIMAAAiIAADPlgAA4I8AAAGnAAC2mgAAFqAAANmkAAA7pgAApKYAAHaQAABIjQAAln4AAK59AAC4hgAA/ocAABJhAABzMAAAbkUAAEBYAADBZwAAYG0AADVnAAB5aQAAc1wAACleAAC1ZQAAt10AAOdyAAA6cAAA5nUAAIN3AAAoegAAPHAAANVbAABdYgAAX1oAAIxgAAC1QAAA",
          "dtype": "i4"
         },
         "yaxis": "y"
        }
       ],
       "layout": {
        "legend": {
         "title": {
          "text": "Star Rating"
         },
         "tracegroupgap": 0
        },
        "template": {
         "data": {
          "bar": [
           {
            "error_x": {
             "color": "#2a3f5f"
            },
            "error_y": {
             "color": "#2a3f5f"
            },
            "marker": {
             "line": {
              "color": "#E5ECF6",
              "width": 0.5
             },
             "pattern": {
              "fillmode": "overlay",
              "size": 10,
              "solidity": 0.2
             }
            },
            "type": "bar"
           }
          ],
          "barpolar": [
           {
            "marker": {
             "line": {
              "color": "#E5ECF6",
              "width": 0.5
             },
             "pattern": {
              "fillmode": "overlay",
              "size": 10,
              "solidity": 0.2
             }
            },
            "type": "barpolar"
           }
          ],
          "carpet": [
           {
            "aaxis": {
             "endlinecolor": "#2a3f5f",
             "gridcolor": "white",
             "linecolor": "white",
             "minorgridcolor": "white",
             "startlinecolor": "#2a3f5f"
            },
            "baxis": {
             "endlinecolor": "#2a3f5f",
             "gridcolor": "white",
             "linecolor": "white",
             "minorgridcolor": "white",
             "startlinecolor": "#2a3f5f"
            },
            "type": "carpet"
           }
          ],
          "choropleth": [
           {
            "colorbar": {
             "outlinewidth": 0,
             "ticks": ""
            },
            "type": "choropleth"
           }
          ],
          "contour": [
           {
            "colorbar": {
             "outlinewidth": 0,
             "ticks": ""
            },
            "colorscale": [
             [
              0,
              "#0d0887"
             ],
             [
              0.1111111111111111,
              "#46039f"
             ],
             [
              0.2222222222222222,
              "#7201a8"
             ],
             [
              0.3333333333333333,
              "#9c179e"
             ],
             [
              0.4444444444444444,
              "#bd3786"
             ],
             [
              0.5555555555555556,
              "#d8576b"
             ],
             [
              0.6666666666666666,
              "#ed7953"
             ],
             [
              0.7777777777777778,
              "#fb9f3a"
             ],
             [
              0.8888888888888888,
              "#fdca26"
             ],
             [
              1,
              "#f0f921"
             ]
            ],
            "type": "contour"
           }
          ],
          "contourcarpet": [
           {
            "colorbar": {
             "outlinewidth": 0,
             "ticks": ""
            },
            "type": "contourcarpet"
           }
          ],
          "heatmap": [
           {
            "colorbar": {
             "outlinewidth": 0,
             "ticks": ""
            },
            "colorscale": [
             [
              0,
              "#0d0887"
             ],
             [
              0.1111111111111111,
              "#46039f"
             ],
             [
              0.2222222222222222,
              "#7201a8"
             ],
             [
              0.3333333333333333,
              "#9c179e"
             ],
             [
              0.4444444444444444,
              "#bd3786"
             ],
             [
              0.5555555555555556,
              "#d8576b"
             ],
             [
              0.6666666666666666,
              "#ed7953"
             ],
             [
              0.7777777777777778,
              "#fb9f3a"
             ],
             [
              0.8888888888888888,
              "#fdca26"
             ],
             [
              1,
              "#f0f921"
             ]
            ],
            "type": "heatmap"
           }
          ],
          "histogram": [
           {
            "marker": {
             "pattern": {
              "fillmode": "overlay",
              "size": 10,
              "solidity": 0.2
             }
            },
            "type": "histogram"
           }
          ],
          "histogram2d": [
           {
            "colorbar": {
             "outlinewidth": 0,
             "ticks": ""
            },
            "colorscale": [
             [
              0,
              "#0d0887"
             ],
             [
              0.1111111111111111,
              "#46039f"
             ],
             [
              0.2222222222222222,
              "#7201a8"
             ],
             [
              0.3333333333333333,
              "#9c179e"
             ],
             [
              0.4444444444444444,
              "#bd3786"
             ],
             [
              0.5555555555555556,
              "#d8576b"
             ],
             [
              0.6666666666666666,
              "#ed7953"
             ],
             [
              0.7777777777777778,
              "#fb9f3a"
             ],
             [
              0.8888888888888888,
              "#fdca26"
             ],
             [
              1,
              "#f0f921"
             ]
            ],
            "type": "histogram2d"
           }
          ],
          "histogram2dcontour": [
           {
            "colorbar": {
             "outlinewidth": 0,
             "ticks": ""
            },
            "colorscale": [
             [
              0,
              "#0d0887"
             ],
             [
              0.1111111111111111,
              "#46039f"
             ],
             [
              0.2222222222222222,
              "#7201a8"
             ],
             [
              0.3333333333333333,
              "#9c179e"
             ],
             [
              0.4444444444444444,
              "#bd3786"
             ],
             [
              0.5555555555555556,
              "#d8576b"
             ],
             [
              0.6666666666666666,
              "#ed7953"
             ],
             [
              0.7777777777777778,
              "#fb9f3a"
             ],
             [
              0.8888888888888888,
              "#fdca26"
             ],
             [
              1,
              "#f0f921"
             ]
            ],
            "type": "histogram2dcontour"
           }
          ],
          "mesh3d": [
           {
            "colorbar": {
             "outlinewidth": 0,
             "ticks": ""
            },
            "type": "mesh3d"
           }
          ],
          "parcoords": [
           {
            "line": {
             "colorbar": {
              "outlinewidth": 0,
              "ticks": ""
             }
            },
            "type": "parcoords"
           }
          ],
          "pie": [
           {
            "automargin": true,
            "type": "pie"
           }
          ],
          "scatter": [
           {
            "fillpattern": {
             "fillmode": "overlay",
             "size": 10,
             "solidity": 0.2
            },
            "type": "scatter"
           }
          ],
          "scatter3d": [
           {
            "line": {
             "colorbar": {
              "outlinewidth": 0,
              "ticks": ""
             }
            },
            "marker": {
             "colorbar": {
              "outlinewidth": 0,
              "ticks": ""
             }
            },
            "type": "scatter3d"
           }
          ],
          "scattercarpet": [
           {
            "marker": {
             "colorbar": {
              "outlinewidth": 0,
              "ticks": ""
             }
            },
            "type": "scattercarpet"
           }
          ],
          "scattergeo": [
           {
            "marker": {
             "colorbar": {
              "outlinewidth": 0,
              "ticks": ""
             }
            },
            "type": "scattergeo"
           }
          ],
          "scattergl": [
           {
            "marker": {
             "colorbar": {
              "outlinewidth": 0,
              "ticks": ""
             }
            },
            "type": "scattergl"
           }
          ],
          "scattermap": [
           {
            "marker": {
             "colorbar": {
              "outlinewidth": 0,
              "ticks": ""
             }
            },
            "type": "scattermap"
           }
          ],
          "scattermapbox": [
           {
            "marker": {
             "colorbar": {
              "outlinewidth": 0,
              "ticks": ""
             }
            },
            "type": "scattermapbox"
           }
          ],
          "scatterpolar": [
           {
            "marker": {
             "colorbar": {
              "outlinewidth": 0,
              "ticks": ""
             }
            },
            "type": "scatterpolar"
           }
          ],
          "scatterpolargl": [
           {
            "marker": {
             "colorbar": {
              "outlinewidth": 0,
              "ticks": ""
             }
            },
            "type": "scatterpolargl"
           }
          ],
          "scatterternary": [
           {
            "marker": {
             "colorbar": {
              "outlinewidth": 0,
              "ticks": ""
             }
            },
            "type": "scatterternary"
           }
          ],
          "surface": [
           {
            "colorbar": {
             "outlinewidth": 0,
             "ticks": ""
            },
            "colorscale": [
             [
              0,
              "#0d0887"
             ],
             [
              0.1111111111111111,
              "#46039f"
             ],
             [
              0.2222222222222222,
              "#7201a8"
             ],
             [
              0.3333333333333333,
              "#9c179e"
             ],
             [
              0.4444444444444444,
              "#bd3786"
             ],
             [
              0.5555555555555556,
              "#d8576b"
             ],
             [
              0.6666666666666666,
              "#ed7953"
             ],
             [
              0.7777777777777778,
              "#fb9f3a"
             ],
             [
              0.8888888888888888,
              "#fdca26"
             ],
             [
              1,
              "#f0f921"
             ]
            ],
            "type": "surface"
           }
          ],
          "table": [
           {
            "cells": {
             "fill": {
              "color": "#EBF0F8"
             },
             "line": {
              "color": "white"
             }
            },
            "header": {
             "fill": {
              "color": "#C8D4E3"
             },
             "line": {
              "color": "white"
             }
            },
            "type": "table"
           }
          ]
         },
         "layout": {
          "annotationdefaults": {
           "arrowcolor": "#2a3f5f",
           "arrowhead": 0,
           "arrowwidth": 1
          },
          "autotypenumbers": "strict",
          "coloraxis": {
           "colorbar": {
            "outlinewidth": 0,
            "ticks": ""
           }
          },
          "colorscale": {
           "diverging": [
            [
             0,
             "#8e0152"
            ],
            [
             0.1,
             "#c51b7d"
            ],
            [
             0.2,
             "#de77ae"
            ],
            [
             0.3,
             "#f1b6da"
            ],
            [
             0.4,
             "#fde0ef"
            ],
            [
             0.5,
             "#f7f7f7"
            ],
            [
             0.6,
             "#e6f5d0"
            ],
            [
             0.7,
             "#b8e186"
            ],
            [
             0.8,
             "#7fbc41"
            ],
            [
             0.9,
             "#4d9221"
            ],
            [
             1,
             "#276419"
            ]
           ],
           "sequential": [
            [
             0,
             "#0d0887"
            ],
            [
             0.1111111111111111,
             "#46039f"
            ],
            [
             0.2222222222222222,
             "#7201a8"
            ],
            [
             0.3333333333333333,
             "#9c179e"
            ],
            [
             0.4444444444444444,
             "#bd3786"
            ],
            [
             0.5555555555555556,
             "#d8576b"
            ],
            [
             0.6666666666666666,
             "#ed7953"
            ],
            [
             0.7777777777777778,
             "#fb9f3a"
            ],
            [
             0.8888888888888888,
             "#fdca26"
            ],
            [
             1,
             "#f0f921"
            ]
           ],
           "sequentialminus": [
            [
             0,
             "#0d0887"
            ],
            [
             0.1111111111111111,
             "#46039f"
            ],
            [
             0.2222222222222222,
             "#7201a8"
            ],
            [
             0.3333333333333333,
             "#9c179e"
            ],
            [
             0.4444444444444444,
             "#bd3786"
            ],
            [
             0.5555555555555556,
             "#d8576b"
            ],
            [
             0.6666666666666666,
             "#ed7953"
            ],
            [
             0.7777777777777778,
             "#fb9f3a"
            ],
            [
             0.8888888888888888,
             "#fdca26"
            ],
            [
             1,
             "#f0f921"
            ]
           ]
          },
          "colorway": [
           "#636efa",
           "#EF553B",
           "#00cc96",
           "#ab63fa",
           "#FFA15A",
           "#19d3f3",
           "#FF6692",
           "#B6E880",
           "#FF97FF",
           "#FECB52"
          ],
          "font": {
           "color": "#2a3f5f"
          },
          "geo": {
           "bgcolor": "white",
           "lakecolor": "white",
           "landcolor": "#E5ECF6",
           "showlakes": true,
           "showland": true,
           "subunitcolor": "white"
          },
          "hoverlabel": {
           "align": "left"
          },
          "hovermode": "closest",
          "mapbox": {
           "style": "light"
          },
          "paper_bgcolor": "white",
          "plot_bgcolor": "#E5ECF6",
          "polar": {
           "angularaxis": {
            "gridcolor": "white",
            "linecolor": "white",
            "ticks": ""
           },
           "bgcolor": "#E5ECF6",
           "radialaxis": {
            "gridcolor": "white",
            "linecolor": "white",
            "ticks": ""
           }
          },
          "scene": {
           "xaxis": {
            "backgroundcolor": "#E5ECF6",
            "gridcolor": "white",
            "gridwidth": 2,
            "linecolor": "white",
            "showbackground": true,
            "ticks": "",
            "zerolinecolor": "white"
           },
           "yaxis": {
            "backgroundcolor": "#E5ECF6",
            "gridcolor": "white",
            "gridwidth": 2,
            "linecolor": "white",
            "showbackground": true,
            "ticks": "",
            "zerolinecolor": "white"
           },
           "zaxis": {
            "backgroundcolor": "#E5ECF6",
            "gridcolor": "white",
            "gridwidth": 2,
            "linecolor": "white",
            "showbackground": true,
            "ticks": "",
            "zerolinecolor": "white"
           }
          },
          "shapedefaults": {
           "line": {
            "color": "#2a3f5f"
           }
          },
          "ternary": {
           "aaxis": {
            "gridcolor": "white",
            "linecolor": "white",
            "ticks": ""
           },
           "baxis": {
            "gridcolor": "white",
            "linecolor": "white",
            "ticks": ""
           },
           "bgcolor": "#E5ECF6",
           "caxis": {
            "gridcolor": "white",
            "linecolor": "white",
            "ticks": ""
           }
          },
          "title": {
           "x": 0.05
          },
          "xaxis": {
           "automargin": true,
           "gridcolor": "white",
           "linecolor": "white",
           "ticks": "",
           "title": {
            "standoff": 15
           },
           "zerolinecolor": "white",
           "zerolinewidth": 2
          },
          "yaxis": {
           "automargin": true,
           "gridcolor": "white",
           "linecolor": "white",
           "ticks": "",
           "title": {
            "standoff": 15
           },
           "zerolinecolor": "white",
           "zerolinewidth": 2
          }
         }
        },
        "title": {
         "text": "Monthly Yelp Star Rating Counts by Year"
        },
        "xaxis": {
         "anchor": "y",
         "domain": [
          0,
          1
         ],
         "title": {
          "text": "Month-Year"
         }
        },
        "yaxis": {
         "anchor": "x",
         "domain": [
          0,
          1
         ],
         "title": {
          "text": "Review Count"
         }
        }
       }
      }
     },
     "metadata": {},
     "output_type": "display_data"
    },
    {
     "data": {
      "application/vnd.plotly.v1+json": {
       "config": {
        "plotlyServerURL": "https://plot.ly"
       },
       "data": [
        {
         "hovertemplate": "Month-Year=%{x}<br>Review Count=%{y}<extra></extra>",
         "legendgroup": "",
         "line": {
          "color": "#636efa",
          "dash": "solid"
         },
         "marker": {
          "symbol": "circle"
         },
         "mode": "lines",
         "name": "",
         "orientation": "v",
         "showlegend": false,
         "type": "scatter",
         "x": [
          "02/2005",
          "03/2005",
          "04/2005",
          "05/2005",
          "06/2005",
          "07/2005",
          "08/2005",
          "09/2005",
          "10/2005",
          "11/2005",
          "12/2005",
          "01/2006",
          "02/2006",
          "03/2006",
          "04/2006",
          "05/2006",
          "06/2006",
          "07/2006",
          "08/2006",
          "09/2006",
          "10/2006",
          "11/2006",
          "12/2006",
          "01/2007",
          "02/2007",
          "03/2007",
          "04/2007",
          "05/2007",
          "06/2007",
          "07/2007",
          "08/2007",
          "09/2007",
          "10/2007",
          "11/2007",
          "12/2007",
          "01/2008",
          "02/2008",
          "03/2008",
          "04/2008",
          "05/2008",
          "06/2008",
          "07/2008",
          "08/2008",
          "09/2008",
          "10/2008",
          "11/2008",
          "12/2008",
          "01/2009",
          "02/2009",
          "03/2009",
          "04/2009",
          "05/2009",
          "06/2009",
          "07/2009",
          "08/2009",
          "09/2009",
          "10/2009",
          "11/2009",
          "12/2009",
          "01/2010",
          "02/2010",
          "03/2010",
          "04/2010",
          "05/2010",
          "06/2010",
          "07/2010",
          "08/2010",
          "09/2010",
          "10/2010",
          "11/2010",
          "12/2010",
          "01/2011",
          "02/2011",
          "03/2011",
          "04/2011",
          "05/2011",
          "06/2011",
          "07/2011",
          "08/2011",
          "09/2011",
          "10/2011",
          "11/2011",
          "12/2011",
          "01/2012",
          "02/2012",
          "03/2012",
          "04/2012",
          "05/2012",
          "06/2012",
          "07/2012",
          "08/2012",
          "09/2012",
          "10/2012",
          "11/2012",
          "12/2012",
          "01/2013",
          "02/2013",
          "03/2013",
          "04/2013",
          "05/2013",
          "06/2013",
          "07/2013",
          "08/2013",
          "09/2013",
          "10/2013",
          "11/2013",
          "12/2013",
          "01/2014",
          "02/2014",
          "03/2014",
          "04/2014",
          "05/2014",
          "06/2014",
          "07/2014",
          "08/2014",
          "09/2014",
          "10/2014",
          "11/2014",
          "12/2014",
          "01/2015",
          "02/2015",
          "03/2015",
          "04/2015",
          "05/2015",
          "06/2015",
          "07/2015",
          "08/2015",
          "09/2015",
          "10/2015",
          "11/2015",
          "12/2015",
          "01/2016",
          "02/2016",
          "03/2016",
          "04/2016",
          "05/2016",
          "06/2016",
          "07/2016",
          "08/2016",
          "09/2016",
          "10/2016",
          "11/2016",
          "12/2016",
          "01/2017",
          "02/2017",
          "03/2017",
          "04/2017",
          "05/2017",
          "06/2017",
          "07/2017",
          "08/2017",
          "09/2017",
          "10/2017",
          "11/2017",
          "12/2017",
          "01/2018",
          "02/2018",
          "03/2018",
          "04/2018",
          "05/2018",
          "06/2018",
          "07/2018",
          "08/2018",
          "09/2018",
          "10/2018",
          "11/2018",
          "12/2018",
          "01/2019",
          "02/2019",
          "03/2019",
          "04/2019",
          "05/2019",
          "06/2019",
          "07/2019",
          "08/2019",
          "09/2019",
          "10/2019",
          "11/2019",
          "12/2019",
          "01/2020",
          "02/2020",
          "03/2020",
          "04/2020",
          "05/2020",
          "06/2020",
          "07/2020",
          "08/2020",
          "09/2020",
          "10/2020",
          "11/2020",
          "12/2020",
          "01/2021",
          "02/2021",
          "03/2021",
          "04/2021",
          "05/2021",
          "06/2021",
          "07/2021",
          "08/2021",
          "09/2021",
          "10/2021",
          "11/2021",
          "12/2021",
          "01/2022"
         ],
         "xaxis": "x",
         "y": {
          "bdata": "AwAAAEoAAAAaAAAAbAAAACYAAAADAQAAQgAAAEUAAAAnAAAARgAAAGYAAADdAAAAuQAAAL8AAADEAAAA4AAAALQAAACFAQAA7AEAAM0BAACxAQAAqgEAAMcBAAAiAwAAjAUAAMMEAABXBAAAjAMAAHUEAAB8BgAAgQYAAKIFAACVBQAAYQUAAKUEAAA/CAAAtAgAAOQKAAChDgAA1A4AADEQAABbFAAA3BUAAAMSAAAiEwAAURIAADgRAABWFwAAwhMAAMsXAACjFQAAiRUAAOgWAAC8GgAAhxwAAD4ZAAA1GQAAqhkAADwaAAD5KQAASSQAAFopAAAPJgAAlycAABAoAAAKMQAAsjQAAE0xAAC8MgAASzIAAPkzAABmRQAAe0EAAHNMAAAjSAAAG0oAANBMAAB9VwAA2lUAAE1KAACvRwAAr0oAADlJAAC4YAAAolkAADNeAADTWAAAEVoAAOddAACkZgAAnmEAAGtaAAA+XQAAkFoAAJdbAADbdwAAF2kAABl6AACrdAAAfngAAFt5AABygwAAv44AAAKEAAChgAAAF4IAAFSBAAC/mQAAFYkAAJeoAAC5ngAAjasAAMWrAACSwwAALMQAAJupAAAkrgAAxqkAAGqtAAC/0gAA9cEAAMndAABA1gAAWuQAAAjnAACs/QAADQEBAEzfAADZ5QAAdtUAAKzTAADZ/QAAy/oAAKwHAQDM+AAAtgcBAKEBAQAVGAEAmgMBAEPnAADd5QAAe88AAKXZAAA3+gAAu+4AALAQAQDXDwEALx8BAHYhAQDiMQEAPRsBACb9AAD7BwEAuPIAADr0AACsEgEA6gcBAGM8AQCjMgEASjYBABE8AQBPWwEAnDkBACEYAQBLGAEAewEBALERAQCAIwEAwhcBAJ5JAQD3LAEAnjoBAA5CAQBWRQEAwUABAOUcAQDcEwEALPgAAI36AADRBQEAgQYBAFuzAAC7VQAAg3wAAAagAABqugAAAcUAAO+7AAD/vgAAk6MAAGCmAACysQAAhacAAG/TAAAV0gAAouEAAPbhAAAn7AAAd9wAAD21AACYwAAAqLAAAF+9AACxewAA",
          "dtype": "i4"
         },
         "yaxis": "y"
        }
       ],
       "layout": {
        "legend": {
         "tracegroupgap": 0
        },
        "template": {
         "data": {
          "bar": [
           {
            "error_x": {
             "color": "#2a3f5f"
            },
            "error_y": {
             "color": "#2a3f5f"
            },
            "marker": {
             "line": {
              "color": "#E5ECF6",
              "width": 0.5
             },
             "pattern": {
              "fillmode": "overlay",
              "size": 10,
              "solidity": 0.2
             }
            },
            "type": "bar"
           }
          ],
          "barpolar": [
           {
            "marker": {
             "line": {
              "color": "#E5ECF6",
              "width": 0.5
             },
             "pattern": {
              "fillmode": "overlay",
              "size": 10,
              "solidity": 0.2
             }
            },
            "type": "barpolar"
           }
          ],
          "carpet": [
           {
            "aaxis": {
             "endlinecolor": "#2a3f5f",
             "gridcolor": "white",
             "linecolor": "white",
             "minorgridcolor": "white",
             "startlinecolor": "#2a3f5f"
            },
            "baxis": {
             "endlinecolor": "#2a3f5f",
             "gridcolor": "white",
             "linecolor": "white",
             "minorgridcolor": "white",
             "startlinecolor": "#2a3f5f"
            },
            "type": "carpet"
           }
          ],
          "choropleth": [
           {
            "colorbar": {
             "outlinewidth": 0,
             "ticks": ""
            },
            "type": "choropleth"
           }
          ],
          "contour": [
           {
            "colorbar": {
             "outlinewidth": 0,
             "ticks": ""
            },
            "colorscale": [
             [
              0,
              "#0d0887"
             ],
             [
              0.1111111111111111,
              "#46039f"
             ],
             [
              0.2222222222222222,
              "#7201a8"
             ],
             [
              0.3333333333333333,
              "#9c179e"
             ],
             [
              0.4444444444444444,
              "#bd3786"
             ],
             [
              0.5555555555555556,
              "#d8576b"
             ],
             [
              0.6666666666666666,
              "#ed7953"
             ],
             [
              0.7777777777777778,
              "#fb9f3a"
             ],
             [
              0.8888888888888888,
              "#fdca26"
             ],
             [
              1,
              "#f0f921"
             ]
            ],
            "type": "contour"
           }
          ],
          "contourcarpet": [
           {
            "colorbar": {
             "outlinewidth": 0,
             "ticks": ""
            },
            "type": "contourcarpet"
           }
          ],
          "heatmap": [
           {
            "colorbar": {
             "outlinewidth": 0,
             "ticks": ""
            },
            "colorscale": [
             [
              0,
              "#0d0887"
             ],
             [
              0.1111111111111111,
              "#46039f"
             ],
             [
              0.2222222222222222,
              "#7201a8"
             ],
             [
              0.3333333333333333,
              "#9c179e"
             ],
             [
              0.4444444444444444,
              "#bd3786"
             ],
             [
              0.5555555555555556,
              "#d8576b"
             ],
             [
              0.6666666666666666,
              "#ed7953"
             ],
             [
              0.7777777777777778,
              "#fb9f3a"
             ],
             [
              0.8888888888888888,
              "#fdca26"
             ],
             [
              1,
              "#f0f921"
             ]
            ],
            "type": "heatmap"
           }
          ],
          "histogram": [
           {
            "marker": {
             "pattern": {
              "fillmode": "overlay",
              "size": 10,
              "solidity": 0.2
             }
            },
            "type": "histogram"
           }
          ],
          "histogram2d": [
           {
            "colorbar": {
             "outlinewidth": 0,
             "ticks": ""
            },
            "colorscale": [
             [
              0,
              "#0d0887"
             ],
             [
              0.1111111111111111,
              "#46039f"
             ],
             [
              0.2222222222222222,
              "#7201a8"
             ],
             [
              0.3333333333333333,
              "#9c179e"
             ],
             [
              0.4444444444444444,
              "#bd3786"
             ],
             [
              0.5555555555555556,
              "#d8576b"
             ],
             [
              0.6666666666666666,
              "#ed7953"
             ],
             [
              0.7777777777777778,
              "#fb9f3a"
             ],
             [
              0.8888888888888888,
              "#fdca26"
             ],
             [
              1,
              "#f0f921"
             ]
            ],
            "type": "histogram2d"
           }
          ],
          "histogram2dcontour": [
           {
            "colorbar": {
             "outlinewidth": 0,
             "ticks": ""
            },
            "colorscale": [
             [
              0,
              "#0d0887"
             ],
             [
              0.1111111111111111,
              "#46039f"
             ],
             [
              0.2222222222222222,
              "#7201a8"
             ],
             [
              0.3333333333333333,
              "#9c179e"
             ],
             [
              0.4444444444444444,
              "#bd3786"
             ],
             [
              0.5555555555555556,
              "#d8576b"
             ],
             [
              0.6666666666666666,
              "#ed7953"
             ],
             [
              0.7777777777777778,
              "#fb9f3a"
             ],
             [
              0.8888888888888888,
              "#fdca26"
             ],
             [
              1,
              "#f0f921"
             ]
            ],
            "type": "histogram2dcontour"
           }
          ],
          "mesh3d": [
           {
            "colorbar": {
             "outlinewidth": 0,
             "ticks": ""
            },
            "type": "mesh3d"
           }
          ],
          "parcoords": [
           {
            "line": {
             "colorbar": {
              "outlinewidth": 0,
              "ticks": ""
             }
            },
            "type": "parcoords"
           }
          ],
          "pie": [
           {
            "automargin": true,
            "type": "pie"
           }
          ],
          "scatter": [
           {
            "fillpattern": {
             "fillmode": "overlay",
             "size": 10,
             "solidity": 0.2
            },
            "type": "scatter"
           }
          ],
          "scatter3d": [
           {
            "line": {
             "colorbar": {
              "outlinewidth": 0,
              "ticks": ""
             }
            },
            "marker": {
             "colorbar": {
              "outlinewidth": 0,
              "ticks": ""
             }
            },
            "type": "scatter3d"
           }
          ],
          "scattercarpet": [
           {
            "marker": {
             "colorbar": {
              "outlinewidth": 0,
              "ticks": ""
             }
            },
            "type": "scattercarpet"
           }
          ],
          "scattergeo": [
           {
            "marker": {
             "colorbar": {
              "outlinewidth": 0,
              "ticks": ""
             }
            },
            "type": "scattergeo"
           }
          ],
          "scattergl": [
           {
            "marker": {
             "colorbar": {
              "outlinewidth": 0,
              "ticks": ""
             }
            },
            "type": "scattergl"
           }
          ],
          "scattermap": [
           {
            "marker": {
             "colorbar": {
              "outlinewidth": 0,
              "ticks": ""
             }
            },
            "type": "scattermap"
           }
          ],
          "scattermapbox": [
           {
            "marker": {
             "colorbar": {
              "outlinewidth": 0,
              "ticks": ""
             }
            },
            "type": "scattermapbox"
           }
          ],
          "scatterpolar": [
           {
            "marker": {
             "colorbar": {
              "outlinewidth": 0,
              "ticks": ""
             }
            },
            "type": "scatterpolar"
           }
          ],
          "scatterpolargl": [
           {
            "marker": {
             "colorbar": {
              "outlinewidth": 0,
              "ticks": ""
             }
            },
            "type": "scatterpolargl"
           }
          ],
          "scatterternary": [
           {
            "marker": {
             "colorbar": {
              "outlinewidth": 0,
              "ticks": ""
             }
            },
            "type": "scatterternary"
           }
          ],
          "surface": [
           {
            "colorbar": {
             "outlinewidth": 0,
             "ticks": ""
            },
            "colorscale": [
             [
              0,
              "#0d0887"
             ],
             [
              0.1111111111111111,
              "#46039f"
             ],
             [
              0.2222222222222222,
              "#7201a8"
             ],
             [
              0.3333333333333333,
              "#9c179e"
             ],
             [
              0.4444444444444444,
              "#bd3786"
             ],
             [
              0.5555555555555556,
              "#d8576b"
             ],
             [
              0.6666666666666666,
              "#ed7953"
             ],
             [
              0.7777777777777778,
              "#fb9f3a"
             ],
             [
              0.8888888888888888,
              "#fdca26"
             ],
             [
              1,
              "#f0f921"
             ]
            ],
            "type": "surface"
           }
          ],
          "table": [
           {
            "cells": {
             "fill": {
              "color": "#EBF0F8"
             },
             "line": {
              "color": "white"
             }
            },
            "header": {
             "fill": {
              "color": "#C8D4E3"
             },
             "line": {
              "color": "white"
             }
            },
            "type": "table"
           }
          ]
         },
         "layout": {
          "annotationdefaults": {
           "arrowcolor": "#2a3f5f",
           "arrowhead": 0,
           "arrowwidth": 1
          },
          "autotypenumbers": "strict",
          "coloraxis": {
           "colorbar": {
            "outlinewidth": 0,
            "ticks": ""
           }
          },
          "colorscale": {
           "diverging": [
            [
             0,
             "#8e0152"
            ],
            [
             0.1,
             "#c51b7d"
            ],
            [
             0.2,
             "#de77ae"
            ],
            [
             0.3,
             "#f1b6da"
            ],
            [
             0.4,
             "#fde0ef"
            ],
            [
             0.5,
             "#f7f7f7"
            ],
            [
             0.6,
             "#e6f5d0"
            ],
            [
             0.7,
             "#b8e186"
            ],
            [
             0.8,
             "#7fbc41"
            ],
            [
             0.9,
             "#4d9221"
            ],
            [
             1,
             "#276419"
            ]
           ],
           "sequential": [
            [
             0,
             "#0d0887"
            ],
            [
             0.1111111111111111,
             "#46039f"
            ],
            [
             0.2222222222222222,
             "#7201a8"
            ],
            [
             0.3333333333333333,
             "#9c179e"
            ],
            [
             0.4444444444444444,
             "#bd3786"
            ],
            [
             0.5555555555555556,
             "#d8576b"
            ],
            [
             0.6666666666666666,
             "#ed7953"
            ],
            [
             0.7777777777777778,
             "#fb9f3a"
            ],
            [
             0.8888888888888888,
             "#fdca26"
            ],
            [
             1,
             "#f0f921"
            ]
           ],
           "sequentialminus": [
            [
             0,
             "#0d0887"
            ],
            [
             0.1111111111111111,
             "#46039f"
            ],
            [
             0.2222222222222222,
             "#7201a8"
            ],
            [
             0.3333333333333333,
             "#9c179e"
            ],
            [
             0.4444444444444444,
             "#bd3786"
            ],
            [
             0.5555555555555556,
             "#d8576b"
            ],
            [
             0.6666666666666666,
             "#ed7953"
            ],
            [
             0.7777777777777778,
             "#fb9f3a"
            ],
            [
             0.8888888888888888,
             "#fdca26"
            ],
            [
             1,
             "#f0f921"
            ]
           ]
          },
          "colorway": [
           "#636efa",
           "#EF553B",
           "#00cc96",
           "#ab63fa",
           "#FFA15A",
           "#19d3f3",
           "#FF6692",
           "#B6E880",
           "#FF97FF",
           "#FECB52"
          ],
          "font": {
           "color": "#2a3f5f"
          },
          "geo": {
           "bgcolor": "white",
           "lakecolor": "white",
           "landcolor": "#E5ECF6",
           "showlakes": true,
           "showland": true,
           "subunitcolor": "white"
          },
          "hoverlabel": {
           "align": "left"
          },
          "hovermode": "closest",
          "mapbox": {
           "style": "light"
          },
          "paper_bgcolor": "white",
          "plot_bgcolor": "#E5ECF6",
          "polar": {
           "angularaxis": {
            "gridcolor": "white",
            "linecolor": "white",
            "ticks": ""
           },
           "bgcolor": "#E5ECF6",
           "radialaxis": {
            "gridcolor": "white",
            "linecolor": "white",
            "ticks": ""
           }
          },
          "scene": {
           "xaxis": {
            "backgroundcolor": "#E5ECF6",
            "gridcolor": "white",
            "gridwidth": 2,
            "linecolor": "white",
            "showbackground": true,
            "ticks": "",
            "zerolinecolor": "white"
           },
           "yaxis": {
            "backgroundcolor": "#E5ECF6",
            "gridcolor": "white",
            "gridwidth": 2,
            "linecolor": "white",
            "showbackground": true,
            "ticks": "",
            "zerolinecolor": "white"
           },
           "zaxis": {
            "backgroundcolor": "#E5ECF6",
            "gridcolor": "white",
            "gridwidth": 2,
            "linecolor": "white",
            "showbackground": true,
            "ticks": "",
            "zerolinecolor": "white"
           }
          },
          "shapedefaults": {
           "line": {
            "color": "#2a3f5f"
           }
          },
          "ternary": {
           "aaxis": {
            "gridcolor": "white",
            "linecolor": "white",
            "ticks": ""
           },
           "baxis": {
            "gridcolor": "white",
            "linecolor": "white",
            "ticks": ""
           },
           "bgcolor": "#E5ECF6",
           "caxis": {
            "gridcolor": "white",
            "linecolor": "white",
            "ticks": ""
           }
          },
          "title": {
           "x": 0.05
          },
          "xaxis": {
           "automargin": true,
           "gridcolor": "white",
           "linecolor": "white",
           "ticks": "",
           "title": {
            "standoff": 15
           },
           "zerolinecolor": "white",
           "zerolinewidth": 2
          },
          "yaxis": {
           "automargin": true,
           "gridcolor": "white",
           "linecolor": "white",
           "ticks": "",
           "title": {
            "standoff": 15
           },
           "zerolinecolor": "white",
           "zerolinewidth": 2
          }
         }
        },
        "title": {
         "text": "Monthly Yelp Review Volume by Year"
        },
        "xaxis": {
         "anchor": "y",
         "domain": [
          0,
          1
         ],
         "title": {
          "text": "Month-Year"
         }
        },
        "yaxis": {
         "anchor": "x",
         "domain": [
          0,
          1
         ],
         "title": {
          "text": "Review Count"
         }
        }
       }
      }
     },
     "metadata": {},
     "output_type": "display_data"
    },
    {
     "data": {
      "application/vnd.plotly.v1+json": {
       "config": {
        "plotlyServerURL": "https://plot.ly"
       },
       "data": [
        {
         "hovertemplate": "Month-Year=%{x}<br>Average Star Rating=%{y}<extra></extra>",
         "legendgroup": "",
         "line": {
          "color": "#636efa",
          "dash": "solid"
         },
         "marker": {
          "symbol": "circle"
         },
         "mode": "lines",
         "name": "",
         "orientation": "v",
         "showlegend": false,
         "type": "scatter",
         "x": [
          "02/2005",
          "03/2005",
          "04/2005",
          "05/2005",
          "06/2005",
          "07/2005",
          "08/2005",
          "09/2005",
          "10/2005",
          "11/2005",
          "12/2005",
          "01/2006",
          "02/2006",
          "03/2006",
          "04/2006",
          "05/2006",
          "06/2006",
          "07/2006",
          "08/2006",
          "09/2006",
          "10/2006",
          "11/2006",
          "12/2006",
          "01/2007",
          "02/2007",
          "03/2007",
          "04/2007",
          "05/2007",
          "06/2007",
          "07/2007",
          "08/2007",
          "09/2007",
          "10/2007",
          "11/2007",
          "12/2007",
          "01/2008",
          "02/2008",
          "03/2008",
          "04/2008",
          "05/2008",
          "06/2008",
          "07/2008",
          "08/2008",
          "09/2008",
          "10/2008",
          "11/2008",
          "12/2008",
          "01/2009",
          "02/2009",
          "03/2009",
          "04/2009",
          "05/2009",
          "06/2009",
          "07/2009",
          "08/2009",
          "09/2009",
          "10/2009",
          "11/2009",
          "12/2009",
          "01/2010",
          "02/2010",
          "03/2010",
          "04/2010",
          "05/2010",
          "06/2010",
          "07/2010",
          "08/2010",
          "09/2010",
          "10/2010",
          "11/2010",
          "12/2010",
          "01/2011",
          "02/2011",
          "03/2011",
          "04/2011",
          "05/2011",
          "06/2011",
          "07/2011",
          "08/2011",
          "09/2011",
          "10/2011",
          "11/2011",
          "12/2011",
          "01/2012",
          "02/2012",
          "03/2012",
          "04/2012",
          "05/2012",
          "06/2012",
          "07/2012",
          "08/2012",
          "09/2012",
          "10/2012",
          "11/2012",
          "12/2012",
          "01/2013",
          "02/2013",
          "03/2013",
          "04/2013",
          "05/2013",
          "06/2013",
          "07/2013",
          "08/2013",
          "09/2013",
          "10/2013",
          "11/2013",
          "12/2013",
          "01/2014",
          "02/2014",
          "03/2014",
          "04/2014",
          "05/2014",
          "06/2014",
          "07/2014",
          "08/2014",
          "09/2014",
          "10/2014",
          "11/2014",
          "12/2014",
          "01/2015",
          "02/2015",
          "03/2015",
          "04/2015",
          "05/2015",
          "06/2015",
          "07/2015",
          "08/2015",
          "09/2015",
          "10/2015",
          "11/2015",
          "12/2015",
          "01/2016",
          "02/2016",
          "03/2016",
          "04/2016",
          "05/2016",
          "06/2016",
          "07/2016",
          "08/2016",
          "09/2016",
          "10/2016",
          "11/2016",
          "12/2016",
          "01/2017",
          "02/2017",
          "03/2017",
          "04/2017",
          "05/2017",
          "06/2017",
          "07/2017",
          "08/2017",
          "09/2017",
          "10/2017",
          "11/2017",
          "12/2017",
          "01/2018",
          "02/2018",
          "03/2018",
          "04/2018",
          "05/2018",
          "06/2018",
          "07/2018",
          "08/2018",
          "09/2018",
          "10/2018",
          "11/2018",
          "12/2018",
          "01/2019",
          "02/2019",
          "03/2019",
          "04/2019",
          "05/2019",
          "06/2019",
          "07/2019",
          "08/2019",
          "09/2019",
          "10/2019",
          "11/2019",
          "12/2019",
          "01/2020",
          "02/2020",
          "03/2020",
          "04/2020",
          "05/2020",
          "06/2020",
          "07/2020",
          "08/2020",
          "09/2020",
          "10/2020",
          "11/2020",
          "12/2020",
          "01/2021",
          "02/2021",
          "03/2021",
          "04/2021",
          "05/2021",
          "06/2021",
          "07/2021",
          "08/2021",
          "09/2021",
          "10/2021",
          "11/2021",
          "12/2021",
          "01/2022"
         ],
         "xaxis": "x",
         "y": [
          4.33,
          3.65,
          4.15,
          4.08,
          4.03,
          3.67,
          4.17,
          3.88,
          4.21,
          3.84,
          4.11,
          3.99,
          4.13,
          4.05,
          3.92,
          3.96,
          3.99,
          3.97,
          3.98,
          4.03,
          3.93,
          3.91,
          4.12,
          3.89,
          3.71,
          3.73,
          3.93,
          3.93,
          3.97,
          3.89,
          3.96,
          3.92,
          3.82,
          3.82,
          3.82,
          3.86,
          3.88,
          3.86,
          3.91,
          3.94,
          3.8,
          3.74,
          3.75,
          3.75,
          3.74,
          3.76,
          3.77,
          3.76,
          3.7,
          3.72,
          3.71,
          3.7,
          3.74,
          3.71,
          3.71,
          3.73,
          3.72,
          3.74,
          3.69,
          3.72,
          3.72,
          3.72,
          3.7,
          3.72,
          3.71,
          3.75,
          3.73,
          3.71,
          3.7,
          3.75,
          3.71,
          3.74,
          3.73,
          3.74,
          3.71,
          3.7,
          3.71,
          3.71,
          3.71,
          3.68,
          3.68,
          3.68,
          3.67,
          3.71,
          3.69,
          3.68,
          3.69,
          3.66,
          3.69,
          3.67,
          3.68,
          3.67,
          3.66,
          3.68,
          3.65,
          3.71,
          3.67,
          3.68,
          3.68,
          3.65,
          3.67,
          3.68,
          3.69,
          3.69,
          3.69,
          3.7,
          3.69,
          3.74,
          3.72,
          3.74,
          3.73,
          3.72,
          3.72,
          3.72,
          3.72,
          3.72,
          3.74,
          3.73,
          3.69,
          3.75,
          3.72,
          3.72,
          3.75,
          3.72,
          3.74,
          3.76,
          3.75,
          3.75,
          3.75,
          3.77,
          3.72,
          3.78,
          3.77,
          3.78,
          3.77,
          3.76,
          3.76,
          3.78,
          3.76,
          3.74,
          3.76,
          3.76,
          3.74,
          3.8,
          3.79,
          3.78,
          3.78,
          3.76,
          3.78,
          3.79,
          3.79,
          3.76,
          3.78,
          3.79,
          3.75,
          3.8,
          3.78,
          3.79,
          3.8,
          3.77,
          3.79,
          3.79,
          3.77,
          3.77,
          3.79,
          3.78,
          3.73,
          3.82,
          3.78,
          3.77,
          3.77,
          3.75,
          3.76,
          3.76,
          3.79,
          3.75,
          3.77,
          3.75,
          3.73,
          3.78,
          3.79,
          3.83,
          3.77,
          3.73,
          3.73,
          3.76,
          3.77,
          3.76,
          3.78,
          3.83,
          3.83,
          3.85,
          3.81,
          3.75,
          3.71,
          3.68,
          3.72,
          3.69,
          3.64,
          3.62,
          3.65,
          3.68,
          3.67,
          3.7
         ],
         "yaxis": "y"
        }
       ],
       "layout": {
        "legend": {
         "tracegroupgap": 0
        },
        "template": {
         "data": {
          "bar": [
           {
            "error_x": {
             "color": "#2a3f5f"
            },
            "error_y": {
             "color": "#2a3f5f"
            },
            "marker": {
             "line": {
              "color": "#E5ECF6",
              "width": 0.5
             },
             "pattern": {
              "fillmode": "overlay",
              "size": 10,
              "solidity": 0.2
             }
            },
            "type": "bar"
           }
          ],
          "barpolar": [
           {
            "marker": {
             "line": {
              "color": "#E5ECF6",
              "width": 0.5
             },
             "pattern": {
              "fillmode": "overlay",
              "size": 10,
              "solidity": 0.2
             }
            },
            "type": "barpolar"
           }
          ],
          "carpet": [
           {
            "aaxis": {
             "endlinecolor": "#2a3f5f",
             "gridcolor": "white",
             "linecolor": "white",
             "minorgridcolor": "white",
             "startlinecolor": "#2a3f5f"
            },
            "baxis": {
             "endlinecolor": "#2a3f5f",
             "gridcolor": "white",
             "linecolor": "white",
             "minorgridcolor": "white",
             "startlinecolor": "#2a3f5f"
            },
            "type": "carpet"
           }
          ],
          "choropleth": [
           {
            "colorbar": {
             "outlinewidth": 0,
             "ticks": ""
            },
            "type": "choropleth"
           }
          ],
          "contour": [
           {
            "colorbar": {
             "outlinewidth": 0,
             "ticks": ""
            },
            "colorscale": [
             [
              0,
              "#0d0887"
             ],
             [
              0.1111111111111111,
              "#46039f"
             ],
             [
              0.2222222222222222,
              "#7201a8"
             ],
             [
              0.3333333333333333,
              "#9c179e"
             ],
             [
              0.4444444444444444,
              "#bd3786"
             ],
             [
              0.5555555555555556,
              "#d8576b"
             ],
             [
              0.6666666666666666,
              "#ed7953"
             ],
             [
              0.7777777777777778,
              "#fb9f3a"
             ],
             [
              0.8888888888888888,
              "#fdca26"
             ],
             [
              1,
              "#f0f921"
             ]
            ],
            "type": "contour"
           }
          ],
          "contourcarpet": [
           {
            "colorbar": {
             "outlinewidth": 0,
             "ticks": ""
            },
            "type": "contourcarpet"
           }
          ],
          "heatmap": [
           {
            "colorbar": {
             "outlinewidth": 0,
             "ticks": ""
            },
            "colorscale": [
             [
              0,
              "#0d0887"
             ],
             [
              0.1111111111111111,
              "#46039f"
             ],
             [
              0.2222222222222222,
              "#7201a8"
             ],
             [
              0.3333333333333333,
              "#9c179e"
             ],
             [
              0.4444444444444444,
              "#bd3786"
             ],
             [
              0.5555555555555556,
              "#d8576b"
             ],
             [
              0.6666666666666666,
              "#ed7953"
             ],
             [
              0.7777777777777778,
              "#fb9f3a"
             ],
             [
              0.8888888888888888,
              "#fdca26"
             ],
             [
              1,
              "#f0f921"
             ]
            ],
            "type": "heatmap"
           }
          ],
          "histogram": [
           {
            "marker": {
             "pattern": {
              "fillmode": "overlay",
              "size": 10,
              "solidity": 0.2
             }
            },
            "type": "histogram"
           }
          ],
          "histogram2d": [
           {
            "colorbar": {
             "outlinewidth": 0,
             "ticks": ""
            },
            "colorscale": [
             [
              0,
              "#0d0887"
             ],
             [
              0.1111111111111111,
              "#46039f"
             ],
             [
              0.2222222222222222,
              "#7201a8"
             ],
             [
              0.3333333333333333,
              "#9c179e"
             ],
             [
              0.4444444444444444,
              "#bd3786"
             ],
             [
              0.5555555555555556,
              "#d8576b"
             ],
             [
              0.6666666666666666,
              "#ed7953"
             ],
             [
              0.7777777777777778,
              "#fb9f3a"
             ],
             [
              0.8888888888888888,
              "#fdca26"
             ],
             [
              1,
              "#f0f921"
             ]
            ],
            "type": "histogram2d"
           }
          ],
          "histogram2dcontour": [
           {
            "colorbar": {
             "outlinewidth": 0,
             "ticks": ""
            },
            "colorscale": [
             [
              0,
              "#0d0887"
             ],
             [
              0.1111111111111111,
              "#46039f"
             ],
             [
              0.2222222222222222,
              "#7201a8"
             ],
             [
              0.3333333333333333,
              "#9c179e"
             ],
             [
              0.4444444444444444,
              "#bd3786"
             ],
             [
              0.5555555555555556,
              "#d8576b"
             ],
             [
              0.6666666666666666,
              "#ed7953"
             ],
             [
              0.7777777777777778,
              "#fb9f3a"
             ],
             [
              0.8888888888888888,
              "#fdca26"
             ],
             [
              1,
              "#f0f921"
             ]
            ],
            "type": "histogram2dcontour"
           }
          ],
          "mesh3d": [
           {
            "colorbar": {
             "outlinewidth": 0,
             "ticks": ""
            },
            "type": "mesh3d"
           }
          ],
          "parcoords": [
           {
            "line": {
             "colorbar": {
              "outlinewidth": 0,
              "ticks": ""
             }
            },
            "type": "parcoords"
           }
          ],
          "pie": [
           {
            "automargin": true,
            "type": "pie"
           }
          ],
          "scatter": [
           {
            "fillpattern": {
             "fillmode": "overlay",
             "size": 10,
             "solidity": 0.2
            },
            "type": "scatter"
           }
          ],
          "scatter3d": [
           {
            "line": {
             "colorbar": {
              "outlinewidth": 0,
              "ticks": ""
             }
            },
            "marker": {
             "colorbar": {
              "outlinewidth": 0,
              "ticks": ""
             }
            },
            "type": "scatter3d"
           }
          ],
          "scattercarpet": [
           {
            "marker": {
             "colorbar": {
              "outlinewidth": 0,
              "ticks": ""
             }
            },
            "type": "scattercarpet"
           }
          ],
          "scattergeo": [
           {
            "marker": {
             "colorbar": {
              "outlinewidth": 0,
              "ticks": ""
             }
            },
            "type": "scattergeo"
           }
          ],
          "scattergl": [
           {
            "marker": {
             "colorbar": {
              "outlinewidth": 0,
              "ticks": ""
             }
            },
            "type": "scattergl"
           }
          ],
          "scattermap": [
           {
            "marker": {
             "colorbar": {
              "outlinewidth": 0,
              "ticks": ""
             }
            },
            "type": "scattermap"
           }
          ],
          "scattermapbox": [
           {
            "marker": {
             "colorbar": {
              "outlinewidth": 0,
              "ticks": ""
             }
            },
            "type": "scattermapbox"
           }
          ],
          "scatterpolar": [
           {
            "marker": {
             "colorbar": {
              "outlinewidth": 0,
              "ticks": ""
             }
            },
            "type": "scatterpolar"
           }
          ],
          "scatterpolargl": [
           {
            "marker": {
             "colorbar": {
              "outlinewidth": 0,
              "ticks": ""
             }
            },
            "type": "scatterpolargl"
           }
          ],
          "scatterternary": [
           {
            "marker": {
             "colorbar": {
              "outlinewidth": 0,
              "ticks": ""
             }
            },
            "type": "scatterternary"
           }
          ],
          "surface": [
           {
            "colorbar": {
             "outlinewidth": 0,
             "ticks": ""
            },
            "colorscale": [
             [
              0,
              "#0d0887"
             ],
             [
              0.1111111111111111,
              "#46039f"
             ],
             [
              0.2222222222222222,
              "#7201a8"
             ],
             [
              0.3333333333333333,
              "#9c179e"
             ],
             [
              0.4444444444444444,
              "#bd3786"
             ],
             [
              0.5555555555555556,
              "#d8576b"
             ],
             [
              0.6666666666666666,
              "#ed7953"
             ],
             [
              0.7777777777777778,
              "#fb9f3a"
             ],
             [
              0.8888888888888888,
              "#fdca26"
             ],
             [
              1,
              "#f0f921"
             ]
            ],
            "type": "surface"
           }
          ],
          "table": [
           {
            "cells": {
             "fill": {
              "color": "#EBF0F8"
             },
             "line": {
              "color": "white"
             }
            },
            "header": {
             "fill": {
              "color": "#C8D4E3"
             },
             "line": {
              "color": "white"
             }
            },
            "type": "table"
           }
          ]
         },
         "layout": {
          "annotationdefaults": {
           "arrowcolor": "#2a3f5f",
           "arrowhead": 0,
           "arrowwidth": 1
          },
          "autotypenumbers": "strict",
          "coloraxis": {
           "colorbar": {
            "outlinewidth": 0,
            "ticks": ""
           }
          },
          "colorscale": {
           "diverging": [
            [
             0,
             "#8e0152"
            ],
            [
             0.1,
             "#c51b7d"
            ],
            [
             0.2,
             "#de77ae"
            ],
            [
             0.3,
             "#f1b6da"
            ],
            [
             0.4,
             "#fde0ef"
            ],
            [
             0.5,
             "#f7f7f7"
            ],
            [
             0.6,
             "#e6f5d0"
            ],
            [
             0.7,
             "#b8e186"
            ],
            [
             0.8,
             "#7fbc41"
            ],
            [
             0.9,
             "#4d9221"
            ],
            [
             1,
             "#276419"
            ]
           ],
           "sequential": [
            [
             0,
             "#0d0887"
            ],
            [
             0.1111111111111111,
             "#46039f"
            ],
            [
             0.2222222222222222,
             "#7201a8"
            ],
            [
             0.3333333333333333,
             "#9c179e"
            ],
            [
             0.4444444444444444,
             "#bd3786"
            ],
            [
             0.5555555555555556,
             "#d8576b"
            ],
            [
             0.6666666666666666,
             "#ed7953"
            ],
            [
             0.7777777777777778,
             "#fb9f3a"
            ],
            [
             0.8888888888888888,
             "#fdca26"
            ],
            [
             1,
             "#f0f921"
            ]
           ],
           "sequentialminus": [
            [
             0,
             "#0d0887"
            ],
            [
             0.1111111111111111,
             "#46039f"
            ],
            [
             0.2222222222222222,
             "#7201a8"
            ],
            [
             0.3333333333333333,
             "#9c179e"
            ],
            [
             0.4444444444444444,
             "#bd3786"
            ],
            [
             0.5555555555555556,
             "#d8576b"
            ],
            [
             0.6666666666666666,
             "#ed7953"
            ],
            [
             0.7777777777777778,
             "#fb9f3a"
            ],
            [
             0.8888888888888888,
             "#fdca26"
            ],
            [
             1,
             "#f0f921"
            ]
           ]
          },
          "colorway": [
           "#636efa",
           "#EF553B",
           "#00cc96",
           "#ab63fa",
           "#FFA15A",
           "#19d3f3",
           "#FF6692",
           "#B6E880",
           "#FF97FF",
           "#FECB52"
          ],
          "font": {
           "color": "#2a3f5f"
          },
          "geo": {
           "bgcolor": "white",
           "lakecolor": "white",
           "landcolor": "#E5ECF6",
           "showlakes": true,
           "showland": true,
           "subunitcolor": "white"
          },
          "hoverlabel": {
           "align": "left"
          },
          "hovermode": "closest",
          "mapbox": {
           "style": "light"
          },
          "paper_bgcolor": "white",
          "plot_bgcolor": "#E5ECF6",
          "polar": {
           "angularaxis": {
            "gridcolor": "white",
            "linecolor": "white",
            "ticks": ""
           },
           "bgcolor": "#E5ECF6",
           "radialaxis": {
            "gridcolor": "white",
            "linecolor": "white",
            "ticks": ""
           }
          },
          "scene": {
           "xaxis": {
            "backgroundcolor": "#E5ECF6",
            "gridcolor": "white",
            "gridwidth": 2,
            "linecolor": "white",
            "showbackground": true,
            "ticks": "",
            "zerolinecolor": "white"
           },
           "yaxis": {
            "backgroundcolor": "#E5ECF6",
            "gridcolor": "white",
            "gridwidth": 2,
            "linecolor": "white",
            "showbackground": true,
            "ticks": "",
            "zerolinecolor": "white"
           },
           "zaxis": {
            "backgroundcolor": "#E5ECF6",
            "gridcolor": "white",
            "gridwidth": 2,
            "linecolor": "white",
            "showbackground": true,
            "ticks": "",
            "zerolinecolor": "white"
           }
          },
          "shapedefaults": {
           "line": {
            "color": "#2a3f5f"
           }
          },
          "ternary": {
           "aaxis": {
            "gridcolor": "white",
            "linecolor": "white",
            "ticks": ""
           },
           "baxis": {
            "gridcolor": "white",
            "linecolor": "white",
            "ticks": ""
           },
           "bgcolor": "#E5ECF6",
           "caxis": {
            "gridcolor": "white",
            "linecolor": "white",
            "ticks": ""
           }
          },
          "title": {
           "x": 0.05
          },
          "xaxis": {
           "automargin": true,
           "gridcolor": "white",
           "linecolor": "white",
           "ticks": "",
           "title": {
            "standoff": 15
           },
           "zerolinecolor": "white",
           "zerolinewidth": 2
          },
          "yaxis": {
           "automargin": true,
           "gridcolor": "white",
           "linecolor": "white",
           "ticks": "",
           "title": {
            "standoff": 15
           },
           "zerolinecolor": "white",
           "zerolinewidth": 2
          }
         }
        },
        "title": {
         "text": "Monthly Average Yelp Star Rating by Year"
        },
        "xaxis": {
         "anchor": "y",
         "domain": [
          0,
          1
         ],
         "title": {
          "text": "Month-Year"
         }
        },
        "yaxis": {
         "anchor": "x",
         "domain": [
          0,
          1
         ],
         "title": {
          "text": "Average Star Rating"
         }
        }
       }
      }
     },
     "metadata": {},
     "output_type": "display_data"
    }
   ],
   "source": [
    "# Total reviews by each star amount and the average star review for each month in every year\n",
    "df = cur.execute('''\n",
    "                SELECT \n",
    "                    YEAR(review_date) AS year,\n",
    "                    MONTH(review_date) AS month,\n",
    "                    SUM(CASE WHEN stars=1 THEN 1 ELSE 0 END) AS one_star_reviews,\n",
    "                    SUM(CASE WHEN stars=2 THEN 1 ELSE 0 END) AS two_star_reviews,\n",
    "                    SUM(CASE WHEN stars=3 THEN 1 ELSE 0 END) AS three_star_reviews,\n",
    "                    SUM(CASE WHEN stars=4 THEN 1 ELSE 0 END) AS four_star_reviews,\n",
    "                    SUM(CASE WHEN stars=5 THEN 1 ELSE 0 END) AS five_star_reviews,\n",
    "                    COUNT(*) AS total_reviews,\n",
    "                    SUM(stars) AS total_stars,\n",
    "                    ROUND(AVG(stars), 2) avg_rating\n",
    "                FROM yelp_reviews\n",
    "                GROUP BY 1, 2\n",
    "                ORDER BY 1, 2;\n",
    "                 ''').fetch_pandas_all()\n",
    "\n",
    "display(df)\n",
    "\n",
    "# Rename columns for readability in charts\n",
    "df.rename(columns={'ONE_STAR_REVIEWS': '1 Star', 'TWO_STAR_REVIEWS': '2 Star', 'THREE_STAR_REVIEWS': '3 Star', 'FOUR_STAR_REVIEWS': '4 Star', 'FIVE_STAR_REVIEWS': '5 Star', 'TOTAL_REVIEWS': 'Total Reviews',\n",
    "                   'AVG_RATING': 'Average Rating'}, inplace=True)\n",
    "\n",
    "# Create a date column from year and month\n",
    "df['date'] = df['MONTH'].astype(str).str.zfill(2) + '/' + df['YEAR'].astype(str)\n",
    "\n",
    "# Melt into long format for counts of reviews with each star value\n",
    "long_df = df.melt(\n",
    "    id_vars=['date'],\n",
    "    value_vars=['1 Star','2 Star','3 Star','4 Star','5 Star'],\n",
    "    var_name='star',\n",
    "    value_name='count'\n",
    ")\n",
    "\n",
    "# Plot time series of star value counts by year and month\n",
    "fig = px.line(\n",
    "    long_df,\n",
    "    x='date',\n",
    "    y='count',\n",
    "    color='star',\n",
    "    labels={\n",
    "        'date':'Month-Year',\n",
    "        'count':'Review Count',\n",
    "        'star':'Star Rating'\n",
    "    },\n",
    "    title='Monthly Yelp Star Rating Counts by Year'\n",
    ")\n",
    "fig.show()\n",
    "\n",
    "# Melt into long format for total review counts for each month\n",
    "long_df = df.melt(\n",
    "    id_vars=['date'],\n",
    "    value_vars=['Total Reviews'],\n",
    "    var_name='reviews',\n",
    "    value_name='count'\n",
    ")\n",
    "\n",
    "# Plot time series of total reviews by year and month\n",
    "fig = px.line(\n",
    "    long_df, \n",
    "    x='date', \n",
    "    y='count', \n",
    "    labels={\n",
    "        'date': 'Month-Year',\n",
    "        'count': 'Review Count'\n",
    "        }, \n",
    "    title='Monthly Yelp Review Volume by Year'\n",
    ")\n",
    "fig.show()\n",
    "\n",
    "# Melt into long format for average star rating for each month\n",
    "long_df = df.melt(\n",
    "    id_vars=['date'],\n",
    "    value_vars=['Average Rating'],\n",
    "    var_name='avg_rating',\n",
    "    value_name='count'\n",
    ")\n",
    "\n",
    "# Plot time series of average star rating by year and month\n",
    "fig = px.line(\n",
    "    long_df, \n",
    "    x='date', \n",
    "    y='count', \n",
    "    labels={\n",
    "        'date': 'Month-Year',\n",
    "        'count': 'Average Star Rating'\n",
    "        }, \n",
    "    title='Monthly Average Yelp Star Rating by Year'\n",
    ")\n",
    "fig.show()"
   ]
  },
  {
   "cell_type": "code",
   "execution_count": null,
   "id": "2ecc14d6",
   "metadata": {},
   "outputs": [
    {
     "data": {
      "text/html": [
       "<div>\n",
       "<style scoped>\n",
       "    .dataframe tbody tr th:only-of-type {\n",
       "        vertical-align: middle;\n",
       "    }\n",
       "\n",
       "    .dataframe tbody tr th {\n",
       "        vertical-align: top;\n",
       "    }\n",
       "\n",
       "    .dataframe thead th {\n",
       "        text-align: right;\n",
       "    }\n",
       "</style>\n",
       "<table border=\"1\" class=\"dataframe\">\n",
       "  <thead>\n",
       "    <tr style=\"text-align: right;\">\n",
       "      <th></th>\n",
       "      <th>CITY</th>\n",
       "      <th>NUM_BUSINESSES</th>\n",
       "      <th>AVG_STARS</th>\n",
       "    </tr>\n",
       "  </thead>\n",
       "  <tbody>\n",
       "    <tr>\n",
       "      <th>0</th>\n",
       "      <td>Philadelphia</td>\n",
       "      <td>14569</td>\n",
       "      <td>3.79</td>\n",
       "    </tr>\n",
       "    <tr>\n",
       "      <th>1</th>\n",
       "      <td>Tucson</td>\n",
       "      <td>9250</td>\n",
       "      <td>3.70</td>\n",
       "    </tr>\n",
       "    <tr>\n",
       "      <th>2</th>\n",
       "      <td>Tampa</td>\n",
       "      <td>9050</td>\n",
       "      <td>3.75</td>\n",
       "    </tr>\n",
       "    <tr>\n",
       "      <th>3</th>\n",
       "      <td>Indianapolis</td>\n",
       "      <td>7540</td>\n",
       "      <td>3.82</td>\n",
       "    </tr>\n",
       "    <tr>\n",
       "      <th>4</th>\n",
       "      <td>Nashville</td>\n",
       "      <td>6971</td>\n",
       "      <td>3.82</td>\n",
       "    </tr>\n",
       "    <tr>\n",
       "      <th>5</th>\n",
       "      <td>New Orleans</td>\n",
       "      <td>6209</td>\n",
       "      <td>3.94</td>\n",
       "    </tr>\n",
       "    <tr>\n",
       "      <th>6</th>\n",
       "      <td>Reno</td>\n",
       "      <td>5935</td>\n",
       "      <td>3.75</td>\n",
       "    </tr>\n",
       "    <tr>\n",
       "      <th>7</th>\n",
       "      <td>Edmonton</td>\n",
       "      <td>5054</td>\n",
       "      <td>3.57</td>\n",
       "    </tr>\n",
       "    <tr>\n",
       "      <th>8</th>\n",
       "      <td>Saint Louis</td>\n",
       "      <td>4827</td>\n",
       "      <td>3.81</td>\n",
       "    </tr>\n",
       "    <tr>\n",
       "      <th>9</th>\n",
       "      <td>Santa Barbara</td>\n",
       "      <td>3829</td>\n",
       "      <td>4.00</td>\n",
       "    </tr>\n",
       "    <tr>\n",
       "      <th>10</th>\n",
       "      <td>Boise</td>\n",
       "      <td>2937</td>\n",
       "      <td>3.79</td>\n",
       "    </tr>\n",
       "    <tr>\n",
       "      <th>11</th>\n",
       "      <td>Clearwater</td>\n",
       "      <td>2221</td>\n",
       "      <td>3.76</td>\n",
       "    </tr>\n",
       "    <tr>\n",
       "      <th>12</th>\n",
       "      <td>Saint Petersburg</td>\n",
       "      <td>1663</td>\n",
       "      <td>3.87</td>\n",
       "    </tr>\n",
       "    <tr>\n",
       "      <th>13</th>\n",
       "      <td>Metairie</td>\n",
       "      <td>1643</td>\n",
       "      <td>3.61</td>\n",
       "    </tr>\n",
       "    <tr>\n",
       "      <th>14</th>\n",
       "      <td>Sparks</td>\n",
       "      <td>1624</td>\n",
       "      <td>3.61</td>\n",
       "    </tr>\n",
       "    <tr>\n",
       "      <th>15</th>\n",
       "      <td>Wilmington</td>\n",
       "      <td>1446</td>\n",
       "      <td>3.53</td>\n",
       "    </tr>\n",
       "    <tr>\n",
       "      <th>16</th>\n",
       "      <td>Franklin</td>\n",
       "      <td>1414</td>\n",
       "      <td>3.66</td>\n",
       "    </tr>\n",
       "    <tr>\n",
       "      <th>17</th>\n",
       "      <td>St. Louis</td>\n",
       "      <td>1255</td>\n",
       "      <td>3.76</td>\n",
       "    </tr>\n",
       "    <tr>\n",
       "      <th>18</th>\n",
       "      <td>St. Petersburg</td>\n",
       "      <td>1185</td>\n",
       "      <td>3.88</td>\n",
       "    </tr>\n",
       "    <tr>\n",
       "      <th>19</th>\n",
       "      <td>Meridian</td>\n",
       "      <td>1043</td>\n",
       "      <td>3.64</td>\n",
       "    </tr>\n",
       "  </tbody>\n",
       "</table>\n",
       "</div>"
      ],
      "text/plain": [
       "                CITY  NUM_BUSINESSES AVG_STARS\n",
       "0       Philadelphia           14569      3.79\n",
       "1             Tucson            9250      3.70\n",
       "2              Tampa            9050      3.75\n",
       "3       Indianapolis            7540      3.82\n",
       "4          Nashville            6971      3.82\n",
       "5        New Orleans            6209      3.94\n",
       "6               Reno            5935      3.75\n",
       "7           Edmonton            5054      3.57\n",
       "8        Saint Louis            4827      3.81\n",
       "9      Santa Barbara            3829      4.00\n",
       "10             Boise            2937      3.79\n",
       "11        Clearwater            2221      3.76\n",
       "12  Saint Petersburg            1663      3.87\n",
       "13          Metairie            1643      3.61\n",
       "14            Sparks            1624      3.61\n",
       "15        Wilmington            1446      3.53\n",
       "16          Franklin            1414      3.66\n",
       "17         St. Louis            1255      3.76\n",
       "18    St. Petersburg            1185      3.88\n",
       "19          Meridian            1043      3.64"
      ]
     },
     "metadata": {},
     "output_type": "display_data"
    }
   ],
   "source": [
    "# Number of businesses and avg star rating by city\n",
    "df = cur.execute('''\n",
    "                SELECT \n",
    "                    city,\n",
    "                    COUNT(DISTINCT yb.business_id) num_businesses,\n",
    "                    ROUND(AVG(yr.stars), 2) as avg_rating\n",
    "                FROM yelp_reviews yr\n",
    "                JOIN yelp_businesses yb\n",
    "                    ON yr.business_id = yb.business_id\n",
    "                GROUP BY city\n",
    "                ORDER BY 2 DESC\n",
    "                LIMIT 20;\n",
    "                 ''').fetch_pandas_all()\n",
    "\n",
    "display(df)"
   ]
  },
  {
   "cell_type": "code",
   "execution_count": null,
   "id": "a97dc195",
   "metadata": {},
   "outputs": [
    {
     "data": {
      "text/html": [
       "<div>\n",
       "<style scoped>\n",
       "    .dataframe tbody tr th:only-of-type {\n",
       "        vertical-align: middle;\n",
       "    }\n",
       "\n",
       "    .dataframe tbody tr th {\n",
       "        vertical-align: top;\n",
       "    }\n",
       "\n",
       "    .dataframe thead th {\n",
       "        text-align: right;\n",
       "    }\n",
       "</style>\n",
       "<table border=\"1\" class=\"dataframe\">\n",
       "  <thead>\n",
       "    <tr style=\"text-align: right;\">\n",
       "      <th></th>\n",
       "      <th>STATE</th>\n",
       "      <th>NUM_BUSINESSES</th>\n",
       "      <th>AVG_STARS</th>\n",
       "    </tr>\n",
       "  </thead>\n",
       "  <tbody>\n",
       "    <tr>\n",
       "      <th>0</th>\n",
       "      <td>PA</td>\n",
       "      <td>34039</td>\n",
       "      <td>3.70</td>\n",
       "    </tr>\n",
       "    <tr>\n",
       "      <th>1</th>\n",
       "      <td>FL</td>\n",
       "      <td>26330</td>\n",
       "      <td>3.76</td>\n",
       "    </tr>\n",
       "    <tr>\n",
       "      <th>2</th>\n",
       "      <td>TN</td>\n",
       "      <td>12056</td>\n",
       "      <td>3.76</td>\n",
       "    </tr>\n",
       "    <tr>\n",
       "      <th>3</th>\n",
       "      <td>IN</td>\n",
       "      <td>11247</td>\n",
       "      <td>3.79</td>\n",
       "    </tr>\n",
       "    <tr>\n",
       "      <th>4</th>\n",
       "      <td>MO</td>\n",
       "      <td>10913</td>\n",
       "      <td>3.73</td>\n",
       "    </tr>\n",
       "    <tr>\n",
       "      <th>5</th>\n",
       "      <td>LA</td>\n",
       "      <td>9924</td>\n",
       "      <td>3.88</td>\n",
       "    </tr>\n",
       "    <tr>\n",
       "      <th>6</th>\n",
       "      <td>AZ</td>\n",
       "      <td>9912</td>\n",
       "      <td>3.69</td>\n",
       "    </tr>\n",
       "    <tr>\n",
       "      <th>7</th>\n",
       "      <td>NJ</td>\n",
       "      <td>8536</td>\n",
       "      <td>3.56</td>\n",
       "    </tr>\n",
       "    <tr>\n",
       "      <th>8</th>\n",
       "      <td>NV</td>\n",
       "      <td>7715</td>\n",
       "      <td>3.73</td>\n",
       "    </tr>\n",
       "    <tr>\n",
       "      <th>9</th>\n",
       "      <td>AB</td>\n",
       "      <td>5573</td>\n",
       "      <td>3.57</td>\n",
       "    </tr>\n",
       "    <tr>\n",
       "      <th>10</th>\n",
       "      <td>CA</td>\n",
       "      <td>5203</td>\n",
       "      <td>3.96</td>\n",
       "    </tr>\n",
       "    <tr>\n",
       "      <th>11</th>\n",
       "      <td>ID</td>\n",
       "      <td>4467</td>\n",
       "      <td>3.76</td>\n",
       "    </tr>\n",
       "    <tr>\n",
       "      <th>12</th>\n",
       "      <td>DE</td>\n",
       "      <td>2265</td>\n",
       "      <td>3.51</td>\n",
       "    </tr>\n",
       "    <tr>\n",
       "      <th>13</th>\n",
       "      <td>IL</td>\n",
       "      <td>2145</td>\n",
       "      <td>3.51</td>\n",
       "    </tr>\n",
       "    <tr>\n",
       "      <th>14</th>\n",
       "      <td>TX</td>\n",
       "      <td>4</td>\n",
       "      <td>2.51</td>\n",
       "    </tr>\n",
       "    <tr>\n",
       "      <th>15</th>\n",
       "      <td>CO</td>\n",
       "      <td>3</td>\n",
       "      <td>3.97</td>\n",
       "    </tr>\n",
       "    <tr>\n",
       "      <th>16</th>\n",
       "      <td>MA</td>\n",
       "      <td>2</td>\n",
       "      <td>1.30</td>\n",
       "    </tr>\n",
       "    <tr>\n",
       "      <th>17</th>\n",
       "      <td>HI</td>\n",
       "      <td>2</td>\n",
       "      <td>4.15</td>\n",
       "    </tr>\n",
       "    <tr>\n",
       "      <th>18</th>\n",
       "      <td>WA</td>\n",
       "      <td>2</td>\n",
       "      <td>3.68</td>\n",
       "    </tr>\n",
       "    <tr>\n",
       "      <th>19</th>\n",
       "      <td>NC</td>\n",
       "      <td>1</td>\n",
       "      <td>1.83</td>\n",
       "    </tr>\n",
       "    <tr>\n",
       "      <th>20</th>\n",
       "      <td>SD</td>\n",
       "      <td>1</td>\n",
       "      <td>4.52</td>\n",
       "    </tr>\n",
       "    <tr>\n",
       "      <th>21</th>\n",
       "      <td>MI</td>\n",
       "      <td>1</td>\n",
       "      <td>2.45</td>\n",
       "    </tr>\n",
       "    <tr>\n",
       "      <th>22</th>\n",
       "      <td>VT</td>\n",
       "      <td>1</td>\n",
       "      <td>4.60</td>\n",
       "    </tr>\n",
       "    <tr>\n",
       "      <th>23</th>\n",
       "      <td>VI</td>\n",
       "      <td>1</td>\n",
       "      <td>2.73</td>\n",
       "    </tr>\n",
       "    <tr>\n",
       "      <th>24</th>\n",
       "      <td>MT</td>\n",
       "      <td>1</td>\n",
       "      <td>5.00</td>\n",
       "    </tr>\n",
       "    <tr>\n",
       "      <th>25</th>\n",
       "      <td>XMS</td>\n",
       "      <td>1</td>\n",
       "      <td>3.80</td>\n",
       "    </tr>\n",
       "    <tr>\n",
       "      <th>26</th>\n",
       "      <td>UT</td>\n",
       "      <td>1</td>\n",
       "      <td>4.68</td>\n",
       "    </tr>\n",
       "  </tbody>\n",
       "</table>\n",
       "</div>"
      ],
      "text/plain": [
       "   STATE  NUM_BUSINESSES AVG_STARS\n",
       "0     PA           34039      3.70\n",
       "1     FL           26330      3.76\n",
       "2     TN           12056      3.76\n",
       "3     IN           11247      3.79\n",
       "4     MO           10913      3.73\n",
       "5     LA            9924      3.88\n",
       "6     AZ            9912      3.69\n",
       "7     NJ            8536      3.56\n",
       "8     NV            7715      3.73\n",
       "9     AB            5573      3.57\n",
       "10    CA            5203      3.96\n",
       "11    ID            4467      3.76\n",
       "12    DE            2265      3.51\n",
       "13    IL            2145      3.51\n",
       "14    TX               4      2.51\n",
       "15    CO               3      3.97\n",
       "16    MA               2      1.30\n",
       "17    HI               2      4.15\n",
       "18    WA               2      3.68\n",
       "19    NC               1      1.83\n",
       "20    SD               1      4.52\n",
       "21    MI               1      2.45\n",
       "22    VT               1      4.60\n",
       "23    VI               1      2.73\n",
       "24    MT               1      5.00\n",
       "25   XMS               1      3.80\n",
       "26    UT               1      4.68"
      ]
     },
     "metadata": {},
     "output_type": "display_data"
    }
   ],
   "source": [
    "# Number of businesses and avg star rating by state\n",
    "df = cur.execute('''\n",
    "                SELECT \n",
    "                    state,\n",
    "                    COUNT(DISTINCT yb.business_id) num_businesses,\n",
    "                    ROUND(AVG(yr.stars), 2) as avg_rating\n",
    "                FROM yelp_reviews yr\n",
    "                JOIN yelp_businesses yb\n",
    "                    ON yr.business_id = yb.business_id\n",
    "                GROUP BY state\n",
    "                ORDER BY 2 DESC;\n",
    "                 ''').fetch_pandas_all()\n",
    "\n",
    "display(df)"
   ]
  },
  {
   "cell_type": "code",
   "execution_count": null,
   "id": "3efd4419",
   "metadata": {},
   "outputs": [
    {
     "data": {
      "text/html": [
       "<div>\n",
       "<style scoped>\n",
       "    .dataframe tbody tr th:only-of-type {\n",
       "        vertical-align: middle;\n",
       "    }\n",
       "\n",
       "    .dataframe tbody tr th {\n",
       "        vertical-align: top;\n",
       "    }\n",
       "\n",
       "    .dataframe thead th {\n",
       "        text-align: right;\n",
       "    }\n",
       "</style>\n",
       "<table border=\"1\" class=\"dataframe\">\n",
       "  <thead>\n",
       "    <tr style=\"text-align: right;\">\n",
       "      <th></th>\n",
       "      <th>QUARTER</th>\n",
       "      <th>ONE_STAR_REVIEWS</th>\n",
       "      <th>TWO_STAR_REVIEWS</th>\n",
       "      <th>THREE_STAR_REVIEWS</th>\n",
       "      <th>FOUR_STAR_REVIEWS</th>\n",
       "      <th>FIVE_STAR_REVIEWS</th>\n",
       "      <th>TOTAL_REVIEWS</th>\n",
       "      <th>TOTAL_STARS</th>\n",
       "      <th>AVG_STARS</th>\n",
       "    </tr>\n",
       "  </thead>\n",
       "  <tbody>\n",
       "    <tr>\n",
       "      <th>0</th>\n",
       "      <td>1</td>\n",
       "      <td>254879</td>\n",
       "      <td>135483</td>\n",
       "      <td>176621</td>\n",
       "      <td>375630</td>\n",
       "      <td>804599</td>\n",
       "      <td>1747212</td>\n",
       "      <td>6581223</td>\n",
       "      <td>3.77</td>\n",
       "    </tr>\n",
       "    <tr>\n",
       "      <th>1</th>\n",
       "      <td>2</td>\n",
       "      <td>267952</td>\n",
       "      <td>136048</td>\n",
       "      <td>171950</td>\n",
       "      <td>360521</td>\n",
       "      <td>803312</td>\n",
       "      <td>1739783</td>\n",
       "      <td>6514542</td>\n",
       "      <td>3.74</td>\n",
       "    </tr>\n",
       "    <tr>\n",
       "      <th>2</th>\n",
       "      <td>3</td>\n",
       "      <td>288448</td>\n",
       "      <td>145698</td>\n",
       "      <td>182094</td>\n",
       "      <td>379363</td>\n",
       "      <td>860782</td>\n",
       "      <td>1856385</td>\n",
       "      <td>6947488</td>\n",
       "      <td>3.74</td>\n",
       "    </tr>\n",
       "    <tr>\n",
       "      <th>3</th>\n",
       "      <td>4</td>\n",
       "      <td>258282</td>\n",
       "      <td>127011</td>\n",
       "      <td>161269</td>\n",
       "      <td>337404</td>\n",
       "      <td>762934</td>\n",
       "      <td>1646900</td>\n",
       "      <td>6160397</td>\n",
       "      <td>3.74</td>\n",
       "    </tr>\n",
       "  </tbody>\n",
       "</table>\n",
       "</div>"
      ],
      "text/plain": [
       "   QUARTER  ONE_STAR_REVIEWS  TWO_STAR_REVIEWS  THREE_STAR_REVIEWS  \\\n",
       "0        1            254879            135483              176621   \n",
       "1        2            267952            136048              171950   \n",
       "2        3            288448            145698              182094   \n",
       "3        4            258282            127011              161269   \n",
       "\n",
       "   FOUR_STAR_REVIEWS  FIVE_STAR_REVIEWS  TOTAL_REVIEWS  TOTAL_STARS AVG_STARS  \n",
       "0             375630             804599        1747212      6581223      3.77  \n",
       "1             360521             803312        1739783      6514542      3.74  \n",
       "2             379363             860782        1856385      6947488      3.74  \n",
       "3             337404             762934        1646900      6160397      3.74  "
      ]
     },
     "metadata": {},
     "output_type": "display_data"
    },
    {
     "data": {
      "application/vnd.plotly.v1+json": {
       "config": {
        "plotlyServerURL": "https://plot.ly"
       },
       "data": [
        {
         "hovertemplate": "Star Rating=1 Star<br>Quarter=%{x}<br>Review Count=%{y}<extra></extra>",
         "legendgroup": "1 Star",
         "line": {
          "color": "#636efa",
          "dash": "solid"
         },
         "marker": {
          "symbol": "circle"
         },
         "mode": "lines",
         "name": "1 Star",
         "orientation": "v",
         "showlegend": true,
         "type": "scatter",
         "x": {
          "bdata": "AQIDBA==",
          "dtype": "i1"
         },
         "xaxis": "x",
         "y": {
          "bdata": "n+MDALAWBADAZgQA6vADAA==",
          "dtype": "i4"
         },
         "yaxis": "y"
        },
        {
         "hovertemplate": "Star Rating=2 Star<br>Quarter=%{x}<br>Review Count=%{y}<extra></extra>",
         "legendgroup": "2 Star",
         "line": {
          "color": "#EF553B",
          "dash": "solid"
         },
         "marker": {
          "symbol": "circle"
         },
         "mode": "lines",
         "name": "2 Star",
         "orientation": "v",
         "showlegend": true,
         "type": "scatter",
         "x": {
          "bdata": "AQIDBA==",
          "dtype": "i1"
         },
         "xaxis": "x",
         "y": {
          "bdata": "OxECAHATAgAiOQIAI/ABAA==",
          "dtype": "i4"
         },
         "yaxis": "y"
        },
        {
         "hovertemplate": "Star Rating=3 Star<br>Quarter=%{x}<br>Review Count=%{y}<extra></extra>",
         "legendgroup": "3 Star",
         "line": {
          "color": "#00cc96",
          "dash": "solid"
         },
         "marker": {
          "symbol": "circle"
         },
         "mode": "lines",
         "name": "3 Star",
         "orientation": "v",
         "showlegend": true,
         "type": "scatter",
         "x": {
          "bdata": "AQIDBA==",
          "dtype": "i1"
         },
         "xaxis": "x",
         "y": {
          "bdata": "7bECAK6fAgBOxwIA9XUCAA==",
          "dtype": "i4"
         },
         "yaxis": "y"
        },
        {
         "hovertemplate": "Star Rating=4 Star<br>Quarter=%{x}<br>Review Count=%{y}<extra></extra>",
         "legendgroup": "4 Star",
         "line": {
          "color": "#ab63fa",
          "dash": "solid"
         },
         "marker": {
          "symbol": "circle"
         },
         "mode": "lines",
         "name": "4 Star",
         "orientation": "v",
         "showlegend": true,
         "type": "scatter",
         "x": {
          "bdata": "AQIDBA==",
          "dtype": "i1"
         },
         "xaxis": "x",
         "y": {
          "bdata": "TrsFAEmABQDjyQUA/CUFAA==",
          "dtype": "i4"
         },
         "yaxis": "y"
        },
        {
         "hovertemplate": "Star Rating=5 Star<br>Quarter=%{x}<br>Review Count=%{y}<extra></extra>",
         "legendgroup": "5 Star",
         "line": {
          "color": "#FFA15A",
          "dash": "solid"
         },
         "marker": {
          "symbol": "circle"
         },
         "mode": "lines",
         "name": "5 Star",
         "orientation": "v",
         "showlegend": true,
         "type": "scatter",
         "x": {
          "bdata": "AQIDBA==",
          "dtype": "i1"
         },
         "xaxis": "x",
         "y": {
          "bdata": "90YMAPBBDABuIg0ANqQLAA==",
          "dtype": "i4"
         },
         "yaxis": "y"
        }
       ],
       "layout": {
        "legend": {
         "title": {
          "text": "Star Rating"
         },
         "tracegroupgap": 0
        },
        "template": {
         "data": {
          "bar": [
           {
            "error_x": {
             "color": "#2a3f5f"
            },
            "error_y": {
             "color": "#2a3f5f"
            },
            "marker": {
             "line": {
              "color": "#E5ECF6",
              "width": 0.5
             },
             "pattern": {
              "fillmode": "overlay",
              "size": 10,
              "solidity": 0.2
             }
            },
            "type": "bar"
           }
          ],
          "barpolar": [
           {
            "marker": {
             "line": {
              "color": "#E5ECF6",
              "width": 0.5
             },
             "pattern": {
              "fillmode": "overlay",
              "size": 10,
              "solidity": 0.2
             }
            },
            "type": "barpolar"
           }
          ],
          "carpet": [
           {
            "aaxis": {
             "endlinecolor": "#2a3f5f",
             "gridcolor": "white",
             "linecolor": "white",
             "minorgridcolor": "white",
             "startlinecolor": "#2a3f5f"
            },
            "baxis": {
             "endlinecolor": "#2a3f5f",
             "gridcolor": "white",
             "linecolor": "white",
             "minorgridcolor": "white",
             "startlinecolor": "#2a3f5f"
            },
            "type": "carpet"
           }
          ],
          "choropleth": [
           {
            "colorbar": {
             "outlinewidth": 0,
             "ticks": ""
            },
            "type": "choropleth"
           }
          ],
          "contour": [
           {
            "colorbar": {
             "outlinewidth": 0,
             "ticks": ""
            },
            "colorscale": [
             [
              0,
              "#0d0887"
             ],
             [
              0.1111111111111111,
              "#46039f"
             ],
             [
              0.2222222222222222,
              "#7201a8"
             ],
             [
              0.3333333333333333,
              "#9c179e"
             ],
             [
              0.4444444444444444,
              "#bd3786"
             ],
             [
              0.5555555555555556,
              "#d8576b"
             ],
             [
              0.6666666666666666,
              "#ed7953"
             ],
             [
              0.7777777777777778,
              "#fb9f3a"
             ],
             [
              0.8888888888888888,
              "#fdca26"
             ],
             [
              1,
              "#f0f921"
             ]
            ],
            "type": "contour"
           }
          ],
          "contourcarpet": [
           {
            "colorbar": {
             "outlinewidth": 0,
             "ticks": ""
            },
            "type": "contourcarpet"
           }
          ],
          "heatmap": [
           {
            "colorbar": {
             "outlinewidth": 0,
             "ticks": ""
            },
            "colorscale": [
             [
              0,
              "#0d0887"
             ],
             [
              0.1111111111111111,
              "#46039f"
             ],
             [
              0.2222222222222222,
              "#7201a8"
             ],
             [
              0.3333333333333333,
              "#9c179e"
             ],
             [
              0.4444444444444444,
              "#bd3786"
             ],
             [
              0.5555555555555556,
              "#d8576b"
             ],
             [
              0.6666666666666666,
              "#ed7953"
             ],
             [
              0.7777777777777778,
              "#fb9f3a"
             ],
             [
              0.8888888888888888,
              "#fdca26"
             ],
             [
              1,
              "#f0f921"
             ]
            ],
            "type": "heatmap"
           }
          ],
          "histogram": [
           {
            "marker": {
             "pattern": {
              "fillmode": "overlay",
              "size": 10,
              "solidity": 0.2
             }
            },
            "type": "histogram"
           }
          ],
          "histogram2d": [
           {
            "colorbar": {
             "outlinewidth": 0,
             "ticks": ""
            },
            "colorscale": [
             [
              0,
              "#0d0887"
             ],
             [
              0.1111111111111111,
              "#46039f"
             ],
             [
              0.2222222222222222,
              "#7201a8"
             ],
             [
              0.3333333333333333,
              "#9c179e"
             ],
             [
              0.4444444444444444,
              "#bd3786"
             ],
             [
              0.5555555555555556,
              "#d8576b"
             ],
             [
              0.6666666666666666,
              "#ed7953"
             ],
             [
              0.7777777777777778,
              "#fb9f3a"
             ],
             [
              0.8888888888888888,
              "#fdca26"
             ],
             [
              1,
              "#f0f921"
             ]
            ],
            "type": "histogram2d"
           }
          ],
          "histogram2dcontour": [
           {
            "colorbar": {
             "outlinewidth": 0,
             "ticks": ""
            },
            "colorscale": [
             [
              0,
              "#0d0887"
             ],
             [
              0.1111111111111111,
              "#46039f"
             ],
             [
              0.2222222222222222,
              "#7201a8"
             ],
             [
              0.3333333333333333,
              "#9c179e"
             ],
             [
              0.4444444444444444,
              "#bd3786"
             ],
             [
              0.5555555555555556,
              "#d8576b"
             ],
             [
              0.6666666666666666,
              "#ed7953"
             ],
             [
              0.7777777777777778,
              "#fb9f3a"
             ],
             [
              0.8888888888888888,
              "#fdca26"
             ],
             [
              1,
              "#f0f921"
             ]
            ],
            "type": "histogram2dcontour"
           }
          ],
          "mesh3d": [
           {
            "colorbar": {
             "outlinewidth": 0,
             "ticks": ""
            },
            "type": "mesh3d"
           }
          ],
          "parcoords": [
           {
            "line": {
             "colorbar": {
              "outlinewidth": 0,
              "ticks": ""
             }
            },
            "type": "parcoords"
           }
          ],
          "pie": [
           {
            "automargin": true,
            "type": "pie"
           }
          ],
          "scatter": [
           {
            "fillpattern": {
             "fillmode": "overlay",
             "size": 10,
             "solidity": 0.2
            },
            "type": "scatter"
           }
          ],
          "scatter3d": [
           {
            "line": {
             "colorbar": {
              "outlinewidth": 0,
              "ticks": ""
             }
            },
            "marker": {
             "colorbar": {
              "outlinewidth": 0,
              "ticks": ""
             }
            },
            "type": "scatter3d"
           }
          ],
          "scattercarpet": [
           {
            "marker": {
             "colorbar": {
              "outlinewidth": 0,
              "ticks": ""
             }
            },
            "type": "scattercarpet"
           }
          ],
          "scattergeo": [
           {
            "marker": {
             "colorbar": {
              "outlinewidth": 0,
              "ticks": ""
             }
            },
            "type": "scattergeo"
           }
          ],
          "scattergl": [
           {
            "marker": {
             "colorbar": {
              "outlinewidth": 0,
              "ticks": ""
             }
            },
            "type": "scattergl"
           }
          ],
          "scattermap": [
           {
            "marker": {
             "colorbar": {
              "outlinewidth": 0,
              "ticks": ""
             }
            },
            "type": "scattermap"
           }
          ],
          "scattermapbox": [
           {
            "marker": {
             "colorbar": {
              "outlinewidth": 0,
              "ticks": ""
             }
            },
            "type": "scattermapbox"
           }
          ],
          "scatterpolar": [
           {
            "marker": {
             "colorbar": {
              "outlinewidth": 0,
              "ticks": ""
             }
            },
            "type": "scatterpolar"
           }
          ],
          "scatterpolargl": [
           {
            "marker": {
             "colorbar": {
              "outlinewidth": 0,
              "ticks": ""
             }
            },
            "type": "scatterpolargl"
           }
          ],
          "scatterternary": [
           {
            "marker": {
             "colorbar": {
              "outlinewidth": 0,
              "ticks": ""
             }
            },
            "type": "scatterternary"
           }
          ],
          "surface": [
           {
            "colorbar": {
             "outlinewidth": 0,
             "ticks": ""
            },
            "colorscale": [
             [
              0,
              "#0d0887"
             ],
             [
              0.1111111111111111,
              "#46039f"
             ],
             [
              0.2222222222222222,
              "#7201a8"
             ],
             [
              0.3333333333333333,
              "#9c179e"
             ],
             [
              0.4444444444444444,
              "#bd3786"
             ],
             [
              0.5555555555555556,
              "#d8576b"
             ],
             [
              0.6666666666666666,
              "#ed7953"
             ],
             [
              0.7777777777777778,
              "#fb9f3a"
             ],
             [
              0.8888888888888888,
              "#fdca26"
             ],
             [
              1,
              "#f0f921"
             ]
            ],
            "type": "surface"
           }
          ],
          "table": [
           {
            "cells": {
             "fill": {
              "color": "#EBF0F8"
             },
             "line": {
              "color": "white"
             }
            },
            "header": {
             "fill": {
              "color": "#C8D4E3"
             },
             "line": {
              "color": "white"
             }
            },
            "type": "table"
           }
          ]
         },
         "layout": {
          "annotationdefaults": {
           "arrowcolor": "#2a3f5f",
           "arrowhead": 0,
           "arrowwidth": 1
          },
          "autotypenumbers": "strict",
          "coloraxis": {
           "colorbar": {
            "outlinewidth": 0,
            "ticks": ""
           }
          },
          "colorscale": {
           "diverging": [
            [
             0,
             "#8e0152"
            ],
            [
             0.1,
             "#c51b7d"
            ],
            [
             0.2,
             "#de77ae"
            ],
            [
             0.3,
             "#f1b6da"
            ],
            [
             0.4,
             "#fde0ef"
            ],
            [
             0.5,
             "#f7f7f7"
            ],
            [
             0.6,
             "#e6f5d0"
            ],
            [
             0.7,
             "#b8e186"
            ],
            [
             0.8,
             "#7fbc41"
            ],
            [
             0.9,
             "#4d9221"
            ],
            [
             1,
             "#276419"
            ]
           ],
           "sequential": [
            [
             0,
             "#0d0887"
            ],
            [
             0.1111111111111111,
             "#46039f"
            ],
            [
             0.2222222222222222,
             "#7201a8"
            ],
            [
             0.3333333333333333,
             "#9c179e"
            ],
            [
             0.4444444444444444,
             "#bd3786"
            ],
            [
             0.5555555555555556,
             "#d8576b"
            ],
            [
             0.6666666666666666,
             "#ed7953"
            ],
            [
             0.7777777777777778,
             "#fb9f3a"
            ],
            [
             0.8888888888888888,
             "#fdca26"
            ],
            [
             1,
             "#f0f921"
            ]
           ],
           "sequentialminus": [
            [
             0,
             "#0d0887"
            ],
            [
             0.1111111111111111,
             "#46039f"
            ],
            [
             0.2222222222222222,
             "#7201a8"
            ],
            [
             0.3333333333333333,
             "#9c179e"
            ],
            [
             0.4444444444444444,
             "#bd3786"
            ],
            [
             0.5555555555555556,
             "#d8576b"
            ],
            [
             0.6666666666666666,
             "#ed7953"
            ],
            [
             0.7777777777777778,
             "#fb9f3a"
            ],
            [
             0.8888888888888888,
             "#fdca26"
            ],
            [
             1,
             "#f0f921"
            ]
           ]
          },
          "colorway": [
           "#636efa",
           "#EF553B",
           "#00cc96",
           "#ab63fa",
           "#FFA15A",
           "#19d3f3",
           "#FF6692",
           "#B6E880",
           "#FF97FF",
           "#FECB52"
          ],
          "font": {
           "color": "#2a3f5f"
          },
          "geo": {
           "bgcolor": "white",
           "lakecolor": "white",
           "landcolor": "#E5ECF6",
           "showlakes": true,
           "showland": true,
           "subunitcolor": "white"
          },
          "hoverlabel": {
           "align": "left"
          },
          "hovermode": "closest",
          "mapbox": {
           "style": "light"
          },
          "paper_bgcolor": "white",
          "plot_bgcolor": "#E5ECF6",
          "polar": {
           "angularaxis": {
            "gridcolor": "white",
            "linecolor": "white",
            "ticks": ""
           },
           "bgcolor": "#E5ECF6",
           "radialaxis": {
            "gridcolor": "white",
            "linecolor": "white",
            "ticks": ""
           }
          },
          "scene": {
           "xaxis": {
            "backgroundcolor": "#E5ECF6",
            "gridcolor": "white",
            "gridwidth": 2,
            "linecolor": "white",
            "showbackground": true,
            "ticks": "",
            "zerolinecolor": "white"
           },
           "yaxis": {
            "backgroundcolor": "#E5ECF6",
            "gridcolor": "white",
            "gridwidth": 2,
            "linecolor": "white",
            "showbackground": true,
            "ticks": "",
            "zerolinecolor": "white"
           },
           "zaxis": {
            "backgroundcolor": "#E5ECF6",
            "gridcolor": "white",
            "gridwidth": 2,
            "linecolor": "white",
            "showbackground": true,
            "ticks": "",
            "zerolinecolor": "white"
           }
          },
          "shapedefaults": {
           "line": {
            "color": "#2a3f5f"
           }
          },
          "ternary": {
           "aaxis": {
            "gridcolor": "white",
            "linecolor": "white",
            "ticks": ""
           },
           "baxis": {
            "gridcolor": "white",
            "linecolor": "white",
            "ticks": ""
           },
           "bgcolor": "#E5ECF6",
           "caxis": {
            "gridcolor": "white",
            "linecolor": "white",
            "ticks": ""
           }
          },
          "title": {
           "x": 0.05
          },
          "xaxis": {
           "automargin": true,
           "gridcolor": "white",
           "linecolor": "white",
           "ticks": "",
           "title": {
            "standoff": 15
           },
           "zerolinecolor": "white",
           "zerolinewidth": 2
          },
          "yaxis": {
           "automargin": true,
           "gridcolor": "white",
           "linecolor": "white",
           "ticks": "",
           "title": {
            "standoff": 15
           },
           "zerolinecolor": "white",
           "zerolinewidth": 2
          }
         }
        },
        "title": {
         "text": "Quarterly Yelp Review Star Rating Trends"
        },
        "xaxis": {
         "anchor": "y",
         "domain": [
          0,
          1
         ],
         "dtick": 1,
         "title": {
          "text": "Quarter"
         }
        },
        "yaxis": {
         "anchor": "x",
         "domain": [
          0,
          1
         ],
         "title": {
          "text": "Review Count"
         }
        }
       }
      }
     },
     "metadata": {},
     "output_type": "display_data"
    },
    {
     "data": {
      "application/vnd.plotly.v1+json": {
       "config": {
        "plotlyServerURL": "https://plot.ly"
       },
       "data": [
        {
         "hovertemplate": "Quarter=%{x}<br>Review Count=%{marker.color}<extra></extra>",
         "legendgroup": "",
         "marker": {
          "color": {
           "bdata": "DKkaAAeMGgCBUxwANCEZAA==",
           "dtype": "i4"
          },
          "coloraxis": "coloraxis",
          "pattern": {
           "shape": ""
          }
         },
         "name": "",
         "orientation": "v",
         "showlegend": false,
         "textposition": "auto",
         "type": "bar",
         "x": {
          "bdata": "AQIDBA==",
          "dtype": "i1"
         },
         "xaxis": "x",
         "y": {
          "bdata": "DKkaAAeMGgCBUxwANCEZAA==",
          "dtype": "i4"
         },
         "yaxis": "y"
        }
       ],
       "layout": {
        "barmode": "relative",
        "coloraxis": {
         "colorbar": {
          "title": {
           "text": "Review Count"
          }
         },
         "colorscale": [
          [
           0,
           "#0d0887"
          ],
          [
           0.1111111111111111,
           "#46039f"
          ],
          [
           0.2222222222222222,
           "#7201a8"
          ],
          [
           0.3333333333333333,
           "#9c179e"
          ],
          [
           0.4444444444444444,
           "#bd3786"
          ],
          [
           0.5555555555555556,
           "#d8576b"
          ],
          [
           0.6666666666666666,
           "#ed7953"
          ],
          [
           0.7777777777777778,
           "#fb9f3a"
          ],
          [
           0.8888888888888888,
           "#fdca26"
          ],
          [
           1,
           "#f0f921"
          ]
         ]
        },
        "legend": {
         "tracegroupgap": 0
        },
        "template": {
         "data": {
          "bar": [
           {
            "error_x": {
             "color": "#2a3f5f"
            },
            "error_y": {
             "color": "#2a3f5f"
            },
            "marker": {
             "line": {
              "color": "#E5ECF6",
              "width": 0.5
             },
             "pattern": {
              "fillmode": "overlay",
              "size": 10,
              "solidity": 0.2
             }
            },
            "type": "bar"
           }
          ],
          "barpolar": [
           {
            "marker": {
             "line": {
              "color": "#E5ECF6",
              "width": 0.5
             },
             "pattern": {
              "fillmode": "overlay",
              "size": 10,
              "solidity": 0.2
             }
            },
            "type": "barpolar"
           }
          ],
          "carpet": [
           {
            "aaxis": {
             "endlinecolor": "#2a3f5f",
             "gridcolor": "white",
             "linecolor": "white",
             "minorgridcolor": "white",
             "startlinecolor": "#2a3f5f"
            },
            "baxis": {
             "endlinecolor": "#2a3f5f",
             "gridcolor": "white",
             "linecolor": "white",
             "minorgridcolor": "white",
             "startlinecolor": "#2a3f5f"
            },
            "type": "carpet"
           }
          ],
          "choropleth": [
           {
            "colorbar": {
             "outlinewidth": 0,
             "ticks": ""
            },
            "type": "choropleth"
           }
          ],
          "contour": [
           {
            "colorbar": {
             "outlinewidth": 0,
             "ticks": ""
            },
            "colorscale": [
             [
              0,
              "#0d0887"
             ],
             [
              0.1111111111111111,
              "#46039f"
             ],
             [
              0.2222222222222222,
              "#7201a8"
             ],
             [
              0.3333333333333333,
              "#9c179e"
             ],
             [
              0.4444444444444444,
              "#bd3786"
             ],
             [
              0.5555555555555556,
              "#d8576b"
             ],
             [
              0.6666666666666666,
              "#ed7953"
             ],
             [
              0.7777777777777778,
              "#fb9f3a"
             ],
             [
              0.8888888888888888,
              "#fdca26"
             ],
             [
              1,
              "#f0f921"
             ]
            ],
            "type": "contour"
           }
          ],
          "contourcarpet": [
           {
            "colorbar": {
             "outlinewidth": 0,
             "ticks": ""
            },
            "type": "contourcarpet"
           }
          ],
          "heatmap": [
           {
            "colorbar": {
             "outlinewidth": 0,
             "ticks": ""
            },
            "colorscale": [
             [
              0,
              "#0d0887"
             ],
             [
              0.1111111111111111,
              "#46039f"
             ],
             [
              0.2222222222222222,
              "#7201a8"
             ],
             [
              0.3333333333333333,
              "#9c179e"
             ],
             [
              0.4444444444444444,
              "#bd3786"
             ],
             [
              0.5555555555555556,
              "#d8576b"
             ],
             [
              0.6666666666666666,
              "#ed7953"
             ],
             [
              0.7777777777777778,
              "#fb9f3a"
             ],
             [
              0.8888888888888888,
              "#fdca26"
             ],
             [
              1,
              "#f0f921"
             ]
            ],
            "type": "heatmap"
           }
          ],
          "histogram": [
           {
            "marker": {
             "pattern": {
              "fillmode": "overlay",
              "size": 10,
              "solidity": 0.2
             }
            },
            "type": "histogram"
           }
          ],
          "histogram2d": [
           {
            "colorbar": {
             "outlinewidth": 0,
             "ticks": ""
            },
            "colorscale": [
             [
              0,
              "#0d0887"
             ],
             [
              0.1111111111111111,
              "#46039f"
             ],
             [
              0.2222222222222222,
              "#7201a8"
             ],
             [
              0.3333333333333333,
              "#9c179e"
             ],
             [
              0.4444444444444444,
              "#bd3786"
             ],
             [
              0.5555555555555556,
              "#d8576b"
             ],
             [
              0.6666666666666666,
              "#ed7953"
             ],
             [
              0.7777777777777778,
              "#fb9f3a"
             ],
             [
              0.8888888888888888,
              "#fdca26"
             ],
             [
              1,
              "#f0f921"
             ]
            ],
            "type": "histogram2d"
           }
          ],
          "histogram2dcontour": [
           {
            "colorbar": {
             "outlinewidth": 0,
             "ticks": ""
            },
            "colorscale": [
             [
              0,
              "#0d0887"
             ],
             [
              0.1111111111111111,
              "#46039f"
             ],
             [
              0.2222222222222222,
              "#7201a8"
             ],
             [
              0.3333333333333333,
              "#9c179e"
             ],
             [
              0.4444444444444444,
              "#bd3786"
             ],
             [
              0.5555555555555556,
              "#d8576b"
             ],
             [
              0.6666666666666666,
              "#ed7953"
             ],
             [
              0.7777777777777778,
              "#fb9f3a"
             ],
             [
              0.8888888888888888,
              "#fdca26"
             ],
             [
              1,
              "#f0f921"
             ]
            ],
            "type": "histogram2dcontour"
           }
          ],
          "mesh3d": [
           {
            "colorbar": {
             "outlinewidth": 0,
             "ticks": ""
            },
            "type": "mesh3d"
           }
          ],
          "parcoords": [
           {
            "line": {
             "colorbar": {
              "outlinewidth": 0,
              "ticks": ""
             }
            },
            "type": "parcoords"
           }
          ],
          "pie": [
           {
            "automargin": true,
            "type": "pie"
           }
          ],
          "scatter": [
           {
            "fillpattern": {
             "fillmode": "overlay",
             "size": 10,
             "solidity": 0.2
            },
            "type": "scatter"
           }
          ],
          "scatter3d": [
           {
            "line": {
             "colorbar": {
              "outlinewidth": 0,
              "ticks": ""
             }
            },
            "marker": {
             "colorbar": {
              "outlinewidth": 0,
              "ticks": ""
             }
            },
            "type": "scatter3d"
           }
          ],
          "scattercarpet": [
           {
            "marker": {
             "colorbar": {
              "outlinewidth": 0,
              "ticks": ""
             }
            },
            "type": "scattercarpet"
           }
          ],
          "scattergeo": [
           {
            "marker": {
             "colorbar": {
              "outlinewidth": 0,
              "ticks": ""
             }
            },
            "type": "scattergeo"
           }
          ],
          "scattergl": [
           {
            "marker": {
             "colorbar": {
              "outlinewidth": 0,
              "ticks": ""
             }
            },
            "type": "scattergl"
           }
          ],
          "scattermap": [
           {
            "marker": {
             "colorbar": {
              "outlinewidth": 0,
              "ticks": ""
             }
            },
            "type": "scattermap"
           }
          ],
          "scattermapbox": [
           {
            "marker": {
             "colorbar": {
              "outlinewidth": 0,
              "ticks": ""
             }
            },
            "type": "scattermapbox"
           }
          ],
          "scatterpolar": [
           {
            "marker": {
             "colorbar": {
              "outlinewidth": 0,
              "ticks": ""
             }
            },
            "type": "scatterpolar"
           }
          ],
          "scatterpolargl": [
           {
            "marker": {
             "colorbar": {
              "outlinewidth": 0,
              "ticks": ""
             }
            },
            "type": "scatterpolargl"
           }
          ],
          "scatterternary": [
           {
            "marker": {
             "colorbar": {
              "outlinewidth": 0,
              "ticks": ""
             }
            },
            "type": "scatterternary"
           }
          ],
          "surface": [
           {
            "colorbar": {
             "outlinewidth": 0,
             "ticks": ""
            },
            "colorscale": [
             [
              0,
              "#0d0887"
             ],
             [
              0.1111111111111111,
              "#46039f"
             ],
             [
              0.2222222222222222,
              "#7201a8"
             ],
             [
              0.3333333333333333,
              "#9c179e"
             ],
             [
              0.4444444444444444,
              "#bd3786"
             ],
             [
              0.5555555555555556,
              "#d8576b"
             ],
             [
              0.6666666666666666,
              "#ed7953"
             ],
             [
              0.7777777777777778,
              "#fb9f3a"
             ],
             [
              0.8888888888888888,
              "#fdca26"
             ],
             [
              1,
              "#f0f921"
             ]
            ],
            "type": "surface"
           }
          ],
          "table": [
           {
            "cells": {
             "fill": {
              "color": "#EBF0F8"
             },
             "line": {
              "color": "white"
             }
            },
            "header": {
             "fill": {
              "color": "#C8D4E3"
             },
             "line": {
              "color": "white"
             }
            },
            "type": "table"
           }
          ]
         },
         "layout": {
          "annotationdefaults": {
           "arrowcolor": "#2a3f5f",
           "arrowhead": 0,
           "arrowwidth": 1
          },
          "autotypenumbers": "strict",
          "coloraxis": {
           "colorbar": {
            "outlinewidth": 0,
            "ticks": ""
           }
          },
          "colorscale": {
           "diverging": [
            [
             0,
             "#8e0152"
            ],
            [
             0.1,
             "#c51b7d"
            ],
            [
             0.2,
             "#de77ae"
            ],
            [
             0.3,
             "#f1b6da"
            ],
            [
             0.4,
             "#fde0ef"
            ],
            [
             0.5,
             "#f7f7f7"
            ],
            [
             0.6,
             "#e6f5d0"
            ],
            [
             0.7,
             "#b8e186"
            ],
            [
             0.8,
             "#7fbc41"
            ],
            [
             0.9,
             "#4d9221"
            ],
            [
             1,
             "#276419"
            ]
           ],
           "sequential": [
            [
             0,
             "#0d0887"
            ],
            [
             0.1111111111111111,
             "#46039f"
            ],
            [
             0.2222222222222222,
             "#7201a8"
            ],
            [
             0.3333333333333333,
             "#9c179e"
            ],
            [
             0.4444444444444444,
             "#bd3786"
            ],
            [
             0.5555555555555556,
             "#d8576b"
            ],
            [
             0.6666666666666666,
             "#ed7953"
            ],
            [
             0.7777777777777778,
             "#fb9f3a"
            ],
            [
             0.8888888888888888,
             "#fdca26"
            ],
            [
             1,
             "#f0f921"
            ]
           ],
           "sequentialminus": [
            [
             0,
             "#0d0887"
            ],
            [
             0.1111111111111111,
             "#46039f"
            ],
            [
             0.2222222222222222,
             "#7201a8"
            ],
            [
             0.3333333333333333,
             "#9c179e"
            ],
            [
             0.4444444444444444,
             "#bd3786"
            ],
            [
             0.5555555555555556,
             "#d8576b"
            ],
            [
             0.6666666666666666,
             "#ed7953"
            ],
            [
             0.7777777777777778,
             "#fb9f3a"
            ],
            [
             0.8888888888888888,
             "#fdca26"
            ],
            [
             1,
             "#f0f921"
            ]
           ]
          },
          "colorway": [
           "#636efa",
           "#EF553B",
           "#00cc96",
           "#ab63fa",
           "#FFA15A",
           "#19d3f3",
           "#FF6692",
           "#B6E880",
           "#FF97FF",
           "#FECB52"
          ],
          "font": {
           "color": "#2a3f5f"
          },
          "geo": {
           "bgcolor": "white",
           "lakecolor": "white",
           "landcolor": "#E5ECF6",
           "showlakes": true,
           "showland": true,
           "subunitcolor": "white"
          },
          "hoverlabel": {
           "align": "left"
          },
          "hovermode": "closest",
          "mapbox": {
           "style": "light"
          },
          "paper_bgcolor": "white",
          "plot_bgcolor": "#E5ECF6",
          "polar": {
           "angularaxis": {
            "gridcolor": "white",
            "linecolor": "white",
            "ticks": ""
           },
           "bgcolor": "#E5ECF6",
           "radialaxis": {
            "gridcolor": "white",
            "linecolor": "white",
            "ticks": ""
           }
          },
          "scene": {
           "xaxis": {
            "backgroundcolor": "#E5ECF6",
            "gridcolor": "white",
            "gridwidth": 2,
            "linecolor": "white",
            "showbackground": true,
            "ticks": "",
            "zerolinecolor": "white"
           },
           "yaxis": {
            "backgroundcolor": "#E5ECF6",
            "gridcolor": "white",
            "gridwidth": 2,
            "linecolor": "white",
            "showbackground": true,
            "ticks": "",
            "zerolinecolor": "white"
           },
           "zaxis": {
            "backgroundcolor": "#E5ECF6",
            "gridcolor": "white",
            "gridwidth": 2,
            "linecolor": "white",
            "showbackground": true,
            "ticks": "",
            "zerolinecolor": "white"
           }
          },
          "shapedefaults": {
           "line": {
            "color": "#2a3f5f"
           }
          },
          "ternary": {
           "aaxis": {
            "gridcolor": "white",
            "linecolor": "white",
            "ticks": ""
           },
           "baxis": {
            "gridcolor": "white",
            "linecolor": "white",
            "ticks": ""
           },
           "bgcolor": "#E5ECF6",
           "caxis": {
            "gridcolor": "white",
            "linecolor": "white",
            "ticks": ""
           }
          },
          "title": {
           "x": 0.05
          },
          "xaxis": {
           "automargin": true,
           "gridcolor": "white",
           "linecolor": "white",
           "ticks": "",
           "title": {
            "standoff": 15
           },
           "zerolinecolor": "white",
           "zerolinewidth": 2
          },
          "yaxis": {
           "automargin": true,
           "gridcolor": "white",
           "linecolor": "white",
           "ticks": "",
           "title": {
            "standoff": 15
           },
           "zerolinecolor": "white",
           "zerolinewidth": 2
          }
         }
        },
        "title": {
         "text": "Quarterly Yelp Review Volume Trends"
        },
        "xaxis": {
         "anchor": "y",
         "domain": [
          0,
          1
         ],
         "dtick": 1,
         "title": {
          "text": "Quarter"
         }
        },
        "yaxis": {
         "anchor": "x",
         "domain": [
          0,
          1
         ],
         "title": {
          "text": "Review Count"
         }
        }
       }
      }
     },
     "metadata": {},
     "output_type": "display_data"
    }
   ],
   "source": [
    "# Reviews by quarter\n",
    "df = cur.execute('''\n",
    "                SELECT \n",
    "                    QUARTER(review_date) AS quarter,\n",
    "                    SUM(CASE WHEN stars=1 THEN 1 ELSE 0 END) AS one_star_reviews,\n",
    "                    SUM(CASE WHEN stars=2 THEN 1 ELSE 0 END) AS two_star_reviews,\n",
    "                    SUM(CASE WHEN stars=3 THEN 1 ELSE 0 END) AS three_star_reviews,\n",
    "                    SUM(CASE WHEN stars=4 THEN 1 ELSE 0 END) AS four_star_reviews,\n",
    "                    SUM(CASE WHEN stars=5 THEN 1 ELSE 0 END) AS five_star_reviews,\n",
    "                    COUNT(*) AS total_reviews,\n",
    "                    SUM(stars) AS total_stars,\n",
    "                    ROUND(AVG(stars), 2) avg_rating\n",
    "                FROM yelp_reviews\n",
    "                GROUP BY 1\n",
    "                ORDER BY 1;\n",
    "                 ''').fetch_pandas_all()\n",
    "\n",
    "display(df)\n",
    "\n",
    "# Rename columns for readability in charts\n",
    "df.rename(columns={'ONE_STAR_REVIEWS': '1 Star', 'TWO_STAR_REVIEWS': '2 Star', 'THREE_STAR_REVIEWS': '3 Star', 'FOUR_STAR_REVIEWS': '4 Star', 'FIVE_STAR_REVIEWS': '5 Star', 'TOTAL_REVIEWS': 'Total Reviews',\n",
    "                   'AVG_RATING': 'Average Rating'}, inplace=True)\n",
    "\n",
    "# Generate line chart for review count for each star value by quarter\n",
    "fig = px.line(\n",
    "    df,\n",
    "    x='QUARTER',\n",
    "    y=[\n",
    "        '1 Star',\n",
    "        '2 Star',\n",
    "        '3 Star',\n",
    "        '4 Star',\n",
    "        '5 Star'\n",
    "    ],\n",
    "    labels={\n",
    "        'value': 'Review Count',\n",
    "        'variable': 'Star Rating',\n",
    "        'QUARTER': 'Quarter'\n",
    "    },\n",
    "    title='Quarterly Yelp Review Star Rating Trends'\n",
    ")\n",
    "fig.update_xaxes(dtick=1)\n",
    "fig.show()\n",
    "\n",
    "# Generate bar chart for monthly review volume by quarter\n",
    "fig = px.bar(\n",
    "    df,\n",
    "    x='QUARTER', \n",
    "    y='Total Reviews', \n",
    "    color='Total Reviews', \n",
    "    labels={'QUARTER': 'Quarter', 'Total Reviews': 'Review Count'},\n",
    "    title='Quarterly Yelp Review Volume Trends'\n",
    ")\n",
    "fig.update_xaxes(dtick=1)\n",
    "fig.show()"
   ]
  },
  {
   "cell_type": "code",
   "execution_count": null,
   "id": "c73fcba0",
   "metadata": {},
   "outputs": [
    {
     "data": {
      "text/html": [
       "<div>\n",
       "<style scoped>\n",
       "    .dataframe tbody tr th:only-of-type {\n",
       "        vertical-align: middle;\n",
       "    }\n",
       "\n",
       "    .dataframe tbody tr th {\n",
       "        vertical-align: top;\n",
       "    }\n",
       "\n",
       "    .dataframe thead th {\n",
       "        text-align: right;\n",
       "    }\n",
       "</style>\n",
       "<table border=\"1\" class=\"dataframe\">\n",
       "  <thead>\n",
       "    <tr style=\"text-align: right;\">\n",
       "      <th></th>\n",
       "      <th>YEAR</th>\n",
       "      <th>QUARTER</th>\n",
       "      <th>ONE_STAR_REVIEWS</th>\n",
       "      <th>TWO_STAR_REVIEWS</th>\n",
       "      <th>THREE_STAR_REVIEWS</th>\n",
       "      <th>FOUR_STAR_REVIEWS</th>\n",
       "      <th>FIVE_STAR_REVIEWS</th>\n",
       "      <th>TOTAL_REVIEWS</th>\n",
       "      <th>TOTAL_STARS</th>\n",
       "      <th>AVG_STARS</th>\n",
       "    </tr>\n",
       "  </thead>\n",
       "  <tbody>\n",
       "    <tr>\n",
       "      <th>0</th>\n",
       "      <td>2005</td>\n",
       "      <td>1</td>\n",
       "      <td>5</td>\n",
       "      <td>8</td>\n",
       "      <td>18</td>\n",
       "      <td>22</td>\n",
       "      <td>24</td>\n",
       "      <td>77</td>\n",
       "      <td>283</td>\n",
       "      <td>3.68</td>\n",
       "    </tr>\n",
       "    <tr>\n",
       "      <th>1</th>\n",
       "      <td>2005</td>\n",
       "      <td>2</td>\n",
       "      <td>4</td>\n",
       "      <td>9</td>\n",
       "      <td>24</td>\n",
       "      <td>67</td>\n",
       "      <td>68</td>\n",
       "      <td>172</td>\n",
       "      <td>702</td>\n",
       "      <td>4.08</td>\n",
       "    </tr>\n",
       "    <tr>\n",
       "      <th>2</th>\n",
       "      <td>2005</td>\n",
       "      <td>3</td>\n",
       "      <td>15</td>\n",
       "      <td>26</td>\n",
       "      <td>97</td>\n",
       "      <td>144</td>\n",
       "      <td>112</td>\n",
       "      <td>394</td>\n",
       "      <td>1494</td>\n",
       "      <td>3.79</td>\n",
       "    </tr>\n",
       "    <tr>\n",
       "      <th>3</th>\n",
       "      <td>2005</td>\n",
       "      <td>4</td>\n",
       "      <td>6</td>\n",
       "      <td>11</td>\n",
       "      <td>32</td>\n",
       "      <td>82</td>\n",
       "      <td>80</td>\n",
       "      <td>211</td>\n",
       "      <td>852</td>\n",
       "      <td>4.04</td>\n",
       "    </tr>\n",
       "    <tr>\n",
       "      <th>4</th>\n",
       "      <td>2006</td>\n",
       "      <td>1</td>\n",
       "      <td>23</td>\n",
       "      <td>27</td>\n",
       "      <td>88</td>\n",
       "      <td>217</td>\n",
       "      <td>242</td>\n",
       "      <td>597</td>\n",
       "      <td>2419</td>\n",
       "      <td>4.05</td>\n",
       "    </tr>\n",
       "    <tr>\n",
       "      <th>...</th>\n",
       "      <td>...</td>\n",
       "      <td>...</td>\n",
       "      <td>...</td>\n",
       "      <td>...</td>\n",
       "      <td>...</td>\n",
       "      <td>...</td>\n",
       "      <td>...</td>\n",
       "      <td>...</td>\n",
       "      <td>...</td>\n",
       "      <td>...</td>\n",
       "    </tr>\n",
       "    <tr>\n",
       "      <th>64</th>\n",
       "      <td>2021</td>\n",
       "      <td>1</td>\n",
       "      <td>26701</td>\n",
       "      <td>9094</td>\n",
       "      <td>9298</td>\n",
       "      <td>17966</td>\n",
       "      <td>79443</td>\n",
       "      <td>142502</td>\n",
       "      <td>541862</td>\n",
       "      <td>3.80</td>\n",
       "    </tr>\n",
       "    <tr>\n",
       "      <th>65</th>\n",
       "      <td>2021</td>\n",
       "      <td>2</td>\n",
       "      <td>34641</td>\n",
       "      <td>11786</td>\n",
       "      <td>12022</td>\n",
       "      <td>21433</td>\n",
       "      <td>89507</td>\n",
       "      <td>169389</td>\n",
       "      <td>627546</td>\n",
       "      <td>3.70</td>\n",
       "    </tr>\n",
       "    <tr>\n",
       "      <th>66</th>\n",
       "      <td>2021</td>\n",
       "      <td>3</td>\n",
       "      <td>34968</td>\n",
       "      <td>11705</td>\n",
       "      <td>12006</td>\n",
       "      <td>21099</td>\n",
       "      <td>83513</td>\n",
       "      <td>163291</td>\n",
       "      <td>596357</td>\n",
       "      <td>3.65</td>\n",
       "    </tr>\n",
       "    <tr>\n",
       "      <th>67</th>\n",
       "      <td>2021</td>\n",
       "      <td>4</td>\n",
       "      <td>30140</td>\n",
       "      <td>9909</td>\n",
       "      <td>10361</td>\n",
       "      <td>19565</td>\n",
       "      <td>73032</td>\n",
       "      <td>143007</td>\n",
       "      <td>524461</td>\n",
       "      <td>3.67</td>\n",
       "    </tr>\n",
       "    <tr>\n",
       "      <th>68</th>\n",
       "      <td>2022</td>\n",
       "      <td>1</td>\n",
       "      <td>6607</td>\n",
       "      <td>1959</td>\n",
       "      <td>2183</td>\n",
       "      <td>4351</td>\n",
       "      <td>16565</td>\n",
       "      <td>31665</td>\n",
       "      <td>117303</td>\n",
       "      <td>3.70</td>\n",
       "    </tr>\n",
       "  </tbody>\n",
       "</table>\n",
       "<p>69 rows × 10 columns</p>\n",
       "</div>"
      ],
      "text/plain": [
       "    YEAR  QUARTER  ONE_STAR_REVIEWS  TWO_STAR_REVIEWS  THREE_STAR_REVIEWS  \\\n",
       "0   2005        1                 5                 8                  18   \n",
       "1   2005        2                 4                 9                  24   \n",
       "2   2005        3                15                26                  97   \n",
       "3   2005        4                 6                11                  32   \n",
       "4   2006        1                23                27                  88   \n",
       "..   ...      ...               ...               ...                 ...   \n",
       "64  2021        1             26701              9094                9298   \n",
       "65  2021        2             34641             11786               12022   \n",
       "66  2021        3             34968             11705               12006   \n",
       "67  2021        4             30140              9909               10361   \n",
       "68  2022        1              6607              1959                2183   \n",
       "\n",
       "    FOUR_STAR_REVIEWS  FIVE_STAR_REVIEWS  TOTAL_REVIEWS  TOTAL_STARS AVG_STARS  \n",
       "0                  22                 24             77          283      3.68  \n",
       "1                  67                 68            172          702      4.08  \n",
       "2                 144                112            394         1494      3.79  \n",
       "3                  82                 80            211          852      4.04  \n",
       "4                 217                242            597         2419      4.05  \n",
       "..                ...                ...            ...          ...       ...  \n",
       "64              17966              79443         142502       541862      3.80  \n",
       "65              21433              89507         169389       627546      3.70  \n",
       "66              21099              83513         163291       596357      3.65  \n",
       "67              19565              73032         143007       524461      3.67  \n",
       "68               4351              16565          31665       117303      3.70  \n",
       "\n",
       "[69 rows x 10 columns]"
      ]
     },
     "metadata": {},
     "output_type": "display_data"
    },
    {
     "data": {
      "application/vnd.plotly.v1+json": {
       "config": {
        "plotlyServerURL": "https://plot.ly"
       },
       "data": [
        {
         "hovertemplate": "Star Rating=1 Star<br>Quarter-Year=%{x}<br>Review Count=%{y}<extra></extra>",
         "legendgroup": "1 Star",
         "line": {
          "color": "#636efa",
          "dash": "solid"
         },
         "marker": {
          "symbol": "circle"
         },
         "mode": "lines",
         "name": "1 Star",
         "orientation": "v",
         "showlegend": true,
         "type": "scatter",
         "x": [
          "Q1-2005",
          "Q2-2005",
          "Q3-2005",
          "Q4-2005",
          "Q1-2006",
          "Q2-2006",
          "Q3-2006",
          "Q4-2006",
          "Q1-2007",
          "Q2-2007",
          "Q3-2007",
          "Q4-2007",
          "Q1-2008",
          "Q2-2008",
          "Q3-2008",
          "Q4-2008",
          "Q1-2009",
          "Q2-2009",
          "Q3-2009",
          "Q4-2009",
          "Q1-2010",
          "Q2-2010",
          "Q3-2010",
          "Q4-2010",
          "Q1-2011",
          "Q2-2011",
          "Q3-2011",
          "Q4-2011",
          "Q1-2012",
          "Q2-2012",
          "Q3-2012",
          "Q4-2012",
          "Q1-2013",
          "Q2-2013",
          "Q3-2013",
          "Q4-2013",
          "Q1-2014",
          "Q2-2014",
          "Q3-2014",
          "Q4-2014",
          "Q1-2015",
          "Q2-2015",
          "Q3-2015",
          "Q4-2015",
          "Q1-2016",
          "Q2-2016",
          "Q3-2016",
          "Q4-2016",
          "Q1-2017",
          "Q2-2017",
          "Q3-2017",
          "Q4-2017",
          "Q1-2018",
          "Q2-2018",
          "Q3-2018",
          "Q4-2018",
          "Q1-2019",
          "Q2-2019",
          "Q3-2019",
          "Q4-2019",
          "Q1-2020",
          "Q2-2020",
          "Q3-2020",
          "Q4-2020",
          "Q1-2021",
          "Q2-2021",
          "Q3-2021",
          "Q4-2021",
          "Q1-2022"
         ],
         "xaxis": "x",
         "y": {
          "bdata": "BQAAAAQAAAAPAAAABgAAABcAAAAbAAAALAAAAC8AAACHAAAAewAAANEAAADTAAAAdQEAAAsCAAAXAwAAuAIAAGkEAAAABQAA/QUAAIUFAABVCAAAVQkAAKoLAAAiDAAAwhAAAOETAABcFwAALRYAAK4bAAAtHQAADSEAAG8fAAAKJgAAHCsAALkxAAD4MAAAUzgAAOlAAABVSwAAikcAAONVAADXXwAAAmgAAPRgAACBawAACHQAAJh2AABXZwAAVXIAAO2DAABsgwAA63cAAFiGAADKlQAAy5wAANyKAADplQAASKQAAKShAACqigAA5ncAAHRPAABycgAA7WEAAE1oAABRhwAAmIgAALx1AADPGQAA",
          "dtype": "i4"
         },
         "yaxis": "y"
        },
        {
         "hovertemplate": "Star Rating=2 Star<br>Quarter-Year=%{x}<br>Review Count=%{y}<extra></extra>",
         "legendgroup": "2 Star",
         "line": {
          "color": "#EF553B",
          "dash": "solid"
         },
         "marker": {
          "symbol": "circle"
         },
         "mode": "lines",
         "name": "2 Star",
         "orientation": "v",
         "showlegend": true,
         "type": "scatter",
         "x": [
          "Q1-2005",
          "Q2-2005",
          "Q3-2005",
          "Q4-2005",
          "Q1-2006",
          "Q2-2006",
          "Q3-2006",
          "Q4-2006",
          "Q1-2007",
          "Q2-2007",
          "Q3-2007",
          "Q4-2007",
          "Q1-2008",
          "Q2-2008",
          "Q3-2008",
          "Q4-2008",
          "Q1-2009",
          "Q2-2009",
          "Q3-2009",
          "Q4-2009",
          "Q1-2010",
          "Q2-2010",
          "Q3-2010",
          "Q4-2010",
          "Q1-2011",
          "Q2-2011",
          "Q3-2011",
          "Q4-2011",
          "Q1-2012",
          "Q2-2012",
          "Q3-2012",
          "Q4-2012",
          "Q1-2013",
          "Q2-2013",
          "Q3-2013",
          "Q4-2013",
          "Q1-2014",
          "Q2-2014",
          "Q3-2014",
          "Q4-2014",
          "Q1-2015",
          "Q2-2015",
          "Q3-2015",
          "Q4-2015",
          "Q1-2016",
          "Q2-2016",
          "Q3-2016",
          "Q4-2016",
          "Q1-2017",
          "Q2-2017",
          "Q3-2017",
          "Q4-2017",
          "Q1-2018",
          "Q2-2018",
          "Q3-2018",
          "Q4-2018",
          "Q1-2019",
          "Q2-2019",
          "Q3-2019",
          "Q4-2019",
          "Q1-2020",
          "Q2-2020",
          "Q3-2020",
          "Q4-2020",
          "Q1-2021",
          "Q2-2021",
          "Q3-2021",
          "Q4-2021",
          "Q1-2022"
         ],
         "xaxis": "x",
         "y": {
          "bdata": "CAAJABoACwAbACIAVgA/ADYB4QBCAUABCwI5A4QFqwRQBo4G/QeJB50L8AqzDmEOfxMrFX8X8xSJGgEauhtPGlQgcSFzJfwimif8K9sw/StQNYo3UjwzNao84zzhPLkzTznuQOE/CjepPolELkWJOcRA/0ImQqk2ETAnFpQj7B6GIwouuS21JqcH",
          "dtype": "i2"
         },
         "yaxis": "y"
        },
        {
         "hovertemplate": "Star Rating=3 Star<br>Quarter-Year=%{x}<br>Review Count=%{y}<extra></extra>",
         "legendgroup": "3 Star",
         "line": {
          "color": "#00cc96",
          "dash": "solid"
         },
         "marker": {
          "symbol": "circle"
         },
         "mode": "lines",
         "name": "3 Star",
         "orientation": "v",
         "showlegend": true,
         "type": "scatter",
         "x": [
          "Q1-2005",
          "Q2-2005",
          "Q3-2005",
          "Q4-2005",
          "Q1-2006",
          "Q2-2006",
          "Q3-2006",
          "Q4-2006",
          "Q1-2007",
          "Q2-2007",
          "Q3-2007",
          "Q4-2007",
          "Q1-2008",
          "Q2-2008",
          "Q3-2008",
          "Q4-2008",
          "Q1-2009",
          "Q2-2009",
          "Q3-2009",
          "Q4-2009",
          "Q1-2010",
          "Q2-2010",
          "Q3-2010",
          "Q4-2010",
          "Q1-2011",
          "Q2-2011",
          "Q3-2011",
          "Q4-2011",
          "Q1-2012",
          "Q2-2012",
          "Q3-2012",
          "Q4-2012",
          "Q1-2013",
          "Q2-2013",
          "Q3-2013",
          "Q4-2013",
          "Q1-2014",
          "Q2-2014",
          "Q3-2014",
          "Q4-2014",
          "Q1-2015",
          "Q2-2015",
          "Q3-2015",
          "Q4-2015",
          "Q1-2016",
          "Q2-2016",
          "Q3-2016",
          "Q4-2016",
          "Q1-2017",
          "Q2-2017",
          "Q3-2017",
          "Q4-2017",
          "Q1-2018",
          "Q2-2018",
          "Q3-2018",
          "Q4-2018",
          "Q1-2019",
          "Q2-2019",
          "Q3-2019",
          "Q4-2019",
          "Q1-2020",
          "Q2-2020",
          "Q3-2020",
          "Q4-2020",
          "Q1-2021",
          "Q2-2021",
          "Q3-2021",
          "Q4-2021",
          "Q1-2022"
         ],
         "xaxis": "x",
         "y": {
          "bdata": "EgAYAGEAIABYAGMA5ADtAB8DGgJIA9gCpwT+B5YL8grlC/QKig1/Da4UEhQAGDoZmiGpIiomJiINKrknqCgqJ5AxSDGeNEEx0zc7O9E/1Tn3RZ5H1Eu5QBlN6UhZSM076UZwTlRM3kPXSzJQY07TQoVK/UyrTK0+8jYUFOsjoiFSJPYu5i55KIcI",
          "dtype": "i2"
         },
         "yaxis": "y"
        },
        {
         "hovertemplate": "Star Rating=4 Star<br>Quarter-Year=%{x}<br>Review Count=%{y}<extra></extra>",
         "legendgroup": "4 Star",
         "line": {
          "color": "#ab63fa",
          "dash": "solid"
         },
         "marker": {
          "symbol": "circle"
         },
         "mode": "lines",
         "name": "4 Star",
         "orientation": "v",
         "showlegend": true,
         "type": "scatter",
         "x": [
          "Q1-2005",
          "Q2-2005",
          "Q3-2005",
          "Q4-2005",
          "Q1-2006",
          "Q2-2006",
          "Q3-2006",
          "Q4-2006",
          "Q1-2007",
          "Q2-2007",
          "Q3-2007",
          "Q4-2007",
          "Q1-2008",
          "Q2-2008",
          "Q3-2008",
          "Q4-2008",
          "Q1-2009",
          "Q2-2009",
          "Q3-2009",
          "Q4-2009",
          "Q1-2010",
          "Q2-2010",
          "Q3-2010",
          "Q4-2010",
          "Q1-2011",
          "Q2-2011",
          "Q3-2011",
          "Q4-2011",
          "Q1-2012",
          "Q2-2012",
          "Q3-2012",
          "Q4-2012",
          "Q1-2013",
          "Q2-2013",
          "Q3-2013",
          "Q4-2013",
          "Q1-2014",
          "Q2-2014",
          "Q3-2014",
          "Q4-2014",
          "Q1-2015",
          "Q2-2015",
          "Q3-2015",
          "Q4-2015",
          "Q1-2016",
          "Q2-2016",
          "Q3-2016",
          "Q4-2016",
          "Q1-2017",
          "Q2-2017",
          "Q3-2017",
          "Q4-2017",
          "Q1-2018",
          "Q2-2018",
          "Q3-2018",
          "Q4-2018",
          "Q1-2019",
          "Q2-2019",
          "Q3-2019",
          "Q4-2019",
          "Q1-2020",
          "Q2-2020",
          "Q3-2020",
          "Q4-2020",
          "Q1-2021",
          "Q2-2021",
          "Q3-2021",
          "Q4-2021",
          "Q1-2022"
         ],
         "xaxis": "x",
         "y": {
          "bdata": "FgAAAEMAAACQAAAAUgAAANkAAADZAAAAzgEAAN4BAAC8BAAAQwQAAGYGAACsBQAARQoAAGcRAAB/FwAALBUAAJoYAAA7FwAALRwAAHobAACzKwAAQCkAAPs0AACGNQAAbkoAAERMAAAlUQAA60YAAIBbAADgVQAAqVgAAJ5UAABWawAA02oAAC11AACLawAA8H4AAC6EAACvjgAAaYAAAE+ZAACVnAAAKacAAMuPAADUqgAAWJ8AALSZAADnfgAAPpYAADOjAADGnQAAa4wAAFWeAADcpAAAe58AAIKJAAD+lQAAupUAADKVAAAJfQAA/HAAAHQqAAATRQAAYkIAAC5GAAC5UwAAa1IAAG1MAAD/EAAA",
          "dtype": "i4"
         },
         "yaxis": "y"
        },
        {
         "hovertemplate": "Star Rating=5 Star<br>Quarter-Year=%{x}<br>Review Count=%{y}<extra></extra>",
         "legendgroup": "5 Star",
         "line": {
          "color": "#FFA15A",
          "dash": "solid"
         },
         "marker": {
          "symbol": "circle"
         },
         "mode": "lines",
         "name": "5 Star",
         "orientation": "v",
         "showlegend": true,
         "type": "scatter",
         "x": [
          "Q1-2005",
          "Q2-2005",
          "Q3-2005",
          "Q4-2005",
          "Q1-2006",
          "Q2-2006",
          "Q3-2006",
          "Q4-2006",
          "Q1-2007",
          "Q2-2007",
          "Q3-2007",
          "Q4-2007",
          "Q1-2008",
          "Q2-2008",
          "Q3-2008",
          "Q4-2008",
          "Q1-2009",
          "Q2-2009",
          "Q3-2009",
          "Q4-2009",
          "Q1-2010",
          "Q2-2010",
          "Q3-2010",
          "Q4-2010",
          "Q1-2011",
          "Q2-2011",
          "Q3-2011",
          "Q4-2011",
          "Q1-2012",
          "Q2-2012",
          "Q3-2012",
          "Q4-2012",
          "Q1-2013",
          "Q2-2013",
          "Q3-2013",
          "Q4-2013",
          "Q1-2014",
          "Q2-2014",
          "Q3-2014",
          "Q4-2014",
          "Q1-2015",
          "Q2-2015",
          "Q3-2015",
          "Q4-2015",
          "Q1-2016",
          "Q2-2016",
          "Q3-2016",
          "Q4-2016",
          "Q1-2017",
          "Q2-2017",
          "Q3-2017",
          "Q4-2017",
          "Q1-2018",
          "Q2-2018",
          "Q3-2018",
          "Q4-2018",
          "Q1-2019",
          "Q2-2019",
          "Q3-2019",
          "Q4-2019",
          "Q1-2020",
          "Q2-2020",
          "Q3-2020",
          "Q4-2020",
          "Q1-2021",
          "Q2-2021",
          "Q3-2021",
          "Q4-2021",
          "Q1-2022"
         ],
         "xaxis": "x",
         "y": {
          "bdata": "GAAAAEQAAABwAAAAUAAAAPIAAADfAAAACgIAAOkBAADZAwAAnwQAAN4GAAAEBQAAawkAAP0OAACKEAAAKg8AAKsTAABXFAAA0BgAABQXAABJIwAAHyQAALEvAAC9LwAAC0MAABVHAAB6UQAAZkcAAMlcAAAEXAAAlWQAAN9dAADHdwAA3H0AADyVAABMkwAAu7QAAL3JAACp5gAAj9cAAAQIAQAOJgEAtEYBAFAoAQA4YAEA92gBAGxtAQA5OQEA13ABAP6ZAQDenAEAr28BAMynAQCd1QEANd0BAL2aAQCwzQEApd8BAFXdAQCMiQEAyG8BACHOAABWPAEAFSQBAFM2AQCjXQEAOUYBAEgdAQC1QAAA",
          "dtype": "i4"
         },
         "yaxis": "y"
        }
       ],
       "layout": {
        "legend": {
         "title": {
          "text": "Star Rating"
         },
         "tracegroupgap": 0
        },
        "template": {
         "data": {
          "bar": [
           {
            "error_x": {
             "color": "#2a3f5f"
            },
            "error_y": {
             "color": "#2a3f5f"
            },
            "marker": {
             "line": {
              "color": "#E5ECF6",
              "width": 0.5
             },
             "pattern": {
              "fillmode": "overlay",
              "size": 10,
              "solidity": 0.2
             }
            },
            "type": "bar"
           }
          ],
          "barpolar": [
           {
            "marker": {
             "line": {
              "color": "#E5ECF6",
              "width": 0.5
             },
             "pattern": {
              "fillmode": "overlay",
              "size": 10,
              "solidity": 0.2
             }
            },
            "type": "barpolar"
           }
          ],
          "carpet": [
           {
            "aaxis": {
             "endlinecolor": "#2a3f5f",
             "gridcolor": "white",
             "linecolor": "white",
             "minorgridcolor": "white",
             "startlinecolor": "#2a3f5f"
            },
            "baxis": {
             "endlinecolor": "#2a3f5f",
             "gridcolor": "white",
             "linecolor": "white",
             "minorgridcolor": "white",
             "startlinecolor": "#2a3f5f"
            },
            "type": "carpet"
           }
          ],
          "choropleth": [
           {
            "colorbar": {
             "outlinewidth": 0,
             "ticks": ""
            },
            "type": "choropleth"
           }
          ],
          "contour": [
           {
            "colorbar": {
             "outlinewidth": 0,
             "ticks": ""
            },
            "colorscale": [
             [
              0,
              "#0d0887"
             ],
             [
              0.1111111111111111,
              "#46039f"
             ],
             [
              0.2222222222222222,
              "#7201a8"
             ],
             [
              0.3333333333333333,
              "#9c179e"
             ],
             [
              0.4444444444444444,
              "#bd3786"
             ],
             [
              0.5555555555555556,
              "#d8576b"
             ],
             [
              0.6666666666666666,
              "#ed7953"
             ],
             [
              0.7777777777777778,
              "#fb9f3a"
             ],
             [
              0.8888888888888888,
              "#fdca26"
             ],
             [
              1,
              "#f0f921"
             ]
            ],
            "type": "contour"
           }
          ],
          "contourcarpet": [
           {
            "colorbar": {
             "outlinewidth": 0,
             "ticks": ""
            },
            "type": "contourcarpet"
           }
          ],
          "heatmap": [
           {
            "colorbar": {
             "outlinewidth": 0,
             "ticks": ""
            },
            "colorscale": [
             [
              0,
              "#0d0887"
             ],
             [
              0.1111111111111111,
              "#46039f"
             ],
             [
              0.2222222222222222,
              "#7201a8"
             ],
             [
              0.3333333333333333,
              "#9c179e"
             ],
             [
              0.4444444444444444,
              "#bd3786"
             ],
             [
              0.5555555555555556,
              "#d8576b"
             ],
             [
              0.6666666666666666,
              "#ed7953"
             ],
             [
              0.7777777777777778,
              "#fb9f3a"
             ],
             [
              0.8888888888888888,
              "#fdca26"
             ],
             [
              1,
              "#f0f921"
             ]
            ],
            "type": "heatmap"
           }
          ],
          "histogram": [
           {
            "marker": {
             "pattern": {
              "fillmode": "overlay",
              "size": 10,
              "solidity": 0.2
             }
            },
            "type": "histogram"
           }
          ],
          "histogram2d": [
           {
            "colorbar": {
             "outlinewidth": 0,
             "ticks": ""
            },
            "colorscale": [
             [
              0,
              "#0d0887"
             ],
             [
              0.1111111111111111,
              "#46039f"
             ],
             [
              0.2222222222222222,
              "#7201a8"
             ],
             [
              0.3333333333333333,
              "#9c179e"
             ],
             [
              0.4444444444444444,
              "#bd3786"
             ],
             [
              0.5555555555555556,
              "#d8576b"
             ],
             [
              0.6666666666666666,
              "#ed7953"
             ],
             [
              0.7777777777777778,
              "#fb9f3a"
             ],
             [
              0.8888888888888888,
              "#fdca26"
             ],
             [
              1,
              "#f0f921"
             ]
            ],
            "type": "histogram2d"
           }
          ],
          "histogram2dcontour": [
           {
            "colorbar": {
             "outlinewidth": 0,
             "ticks": ""
            },
            "colorscale": [
             [
              0,
              "#0d0887"
             ],
             [
              0.1111111111111111,
              "#46039f"
             ],
             [
              0.2222222222222222,
              "#7201a8"
             ],
             [
              0.3333333333333333,
              "#9c179e"
             ],
             [
              0.4444444444444444,
              "#bd3786"
             ],
             [
              0.5555555555555556,
              "#d8576b"
             ],
             [
              0.6666666666666666,
              "#ed7953"
             ],
             [
              0.7777777777777778,
              "#fb9f3a"
             ],
             [
              0.8888888888888888,
              "#fdca26"
             ],
             [
              1,
              "#f0f921"
             ]
            ],
            "type": "histogram2dcontour"
           }
          ],
          "mesh3d": [
           {
            "colorbar": {
             "outlinewidth": 0,
             "ticks": ""
            },
            "type": "mesh3d"
           }
          ],
          "parcoords": [
           {
            "line": {
             "colorbar": {
              "outlinewidth": 0,
              "ticks": ""
             }
            },
            "type": "parcoords"
           }
          ],
          "pie": [
           {
            "automargin": true,
            "type": "pie"
           }
          ],
          "scatter": [
           {
            "fillpattern": {
             "fillmode": "overlay",
             "size": 10,
             "solidity": 0.2
            },
            "type": "scatter"
           }
          ],
          "scatter3d": [
           {
            "line": {
             "colorbar": {
              "outlinewidth": 0,
              "ticks": ""
             }
            },
            "marker": {
             "colorbar": {
              "outlinewidth": 0,
              "ticks": ""
             }
            },
            "type": "scatter3d"
           }
          ],
          "scattercarpet": [
           {
            "marker": {
             "colorbar": {
              "outlinewidth": 0,
              "ticks": ""
             }
            },
            "type": "scattercarpet"
           }
          ],
          "scattergeo": [
           {
            "marker": {
             "colorbar": {
              "outlinewidth": 0,
              "ticks": ""
             }
            },
            "type": "scattergeo"
           }
          ],
          "scattergl": [
           {
            "marker": {
             "colorbar": {
              "outlinewidth": 0,
              "ticks": ""
             }
            },
            "type": "scattergl"
           }
          ],
          "scattermap": [
           {
            "marker": {
             "colorbar": {
              "outlinewidth": 0,
              "ticks": ""
             }
            },
            "type": "scattermap"
           }
          ],
          "scattermapbox": [
           {
            "marker": {
             "colorbar": {
              "outlinewidth": 0,
              "ticks": ""
             }
            },
            "type": "scattermapbox"
           }
          ],
          "scatterpolar": [
           {
            "marker": {
             "colorbar": {
              "outlinewidth": 0,
              "ticks": ""
             }
            },
            "type": "scatterpolar"
           }
          ],
          "scatterpolargl": [
           {
            "marker": {
             "colorbar": {
              "outlinewidth": 0,
              "ticks": ""
             }
            },
            "type": "scatterpolargl"
           }
          ],
          "scatterternary": [
           {
            "marker": {
             "colorbar": {
              "outlinewidth": 0,
              "ticks": ""
             }
            },
            "type": "scatterternary"
           }
          ],
          "surface": [
           {
            "colorbar": {
             "outlinewidth": 0,
             "ticks": ""
            },
            "colorscale": [
             [
              0,
              "#0d0887"
             ],
             [
              0.1111111111111111,
              "#46039f"
             ],
             [
              0.2222222222222222,
              "#7201a8"
             ],
             [
              0.3333333333333333,
              "#9c179e"
             ],
             [
              0.4444444444444444,
              "#bd3786"
             ],
             [
              0.5555555555555556,
              "#d8576b"
             ],
             [
              0.6666666666666666,
              "#ed7953"
             ],
             [
              0.7777777777777778,
              "#fb9f3a"
             ],
             [
              0.8888888888888888,
              "#fdca26"
             ],
             [
              1,
              "#f0f921"
             ]
            ],
            "type": "surface"
           }
          ],
          "table": [
           {
            "cells": {
             "fill": {
              "color": "#EBF0F8"
             },
             "line": {
              "color": "white"
             }
            },
            "header": {
             "fill": {
              "color": "#C8D4E3"
             },
             "line": {
              "color": "white"
             }
            },
            "type": "table"
           }
          ]
         },
         "layout": {
          "annotationdefaults": {
           "arrowcolor": "#2a3f5f",
           "arrowhead": 0,
           "arrowwidth": 1
          },
          "autotypenumbers": "strict",
          "coloraxis": {
           "colorbar": {
            "outlinewidth": 0,
            "ticks": ""
           }
          },
          "colorscale": {
           "diverging": [
            [
             0,
             "#8e0152"
            ],
            [
             0.1,
             "#c51b7d"
            ],
            [
             0.2,
             "#de77ae"
            ],
            [
             0.3,
             "#f1b6da"
            ],
            [
             0.4,
             "#fde0ef"
            ],
            [
             0.5,
             "#f7f7f7"
            ],
            [
             0.6,
             "#e6f5d0"
            ],
            [
             0.7,
             "#b8e186"
            ],
            [
             0.8,
             "#7fbc41"
            ],
            [
             0.9,
             "#4d9221"
            ],
            [
             1,
             "#276419"
            ]
           ],
           "sequential": [
            [
             0,
             "#0d0887"
            ],
            [
             0.1111111111111111,
             "#46039f"
            ],
            [
             0.2222222222222222,
             "#7201a8"
            ],
            [
             0.3333333333333333,
             "#9c179e"
            ],
            [
             0.4444444444444444,
             "#bd3786"
            ],
            [
             0.5555555555555556,
             "#d8576b"
            ],
            [
             0.6666666666666666,
             "#ed7953"
            ],
            [
             0.7777777777777778,
             "#fb9f3a"
            ],
            [
             0.8888888888888888,
             "#fdca26"
            ],
            [
             1,
             "#f0f921"
            ]
           ],
           "sequentialminus": [
            [
             0,
             "#0d0887"
            ],
            [
             0.1111111111111111,
             "#46039f"
            ],
            [
             0.2222222222222222,
             "#7201a8"
            ],
            [
             0.3333333333333333,
             "#9c179e"
            ],
            [
             0.4444444444444444,
             "#bd3786"
            ],
            [
             0.5555555555555556,
             "#d8576b"
            ],
            [
             0.6666666666666666,
             "#ed7953"
            ],
            [
             0.7777777777777778,
             "#fb9f3a"
            ],
            [
             0.8888888888888888,
             "#fdca26"
            ],
            [
             1,
             "#f0f921"
            ]
           ]
          },
          "colorway": [
           "#636efa",
           "#EF553B",
           "#00cc96",
           "#ab63fa",
           "#FFA15A",
           "#19d3f3",
           "#FF6692",
           "#B6E880",
           "#FF97FF",
           "#FECB52"
          ],
          "font": {
           "color": "#2a3f5f"
          },
          "geo": {
           "bgcolor": "white",
           "lakecolor": "white",
           "landcolor": "#E5ECF6",
           "showlakes": true,
           "showland": true,
           "subunitcolor": "white"
          },
          "hoverlabel": {
           "align": "left"
          },
          "hovermode": "closest",
          "mapbox": {
           "style": "light"
          },
          "paper_bgcolor": "white",
          "plot_bgcolor": "#E5ECF6",
          "polar": {
           "angularaxis": {
            "gridcolor": "white",
            "linecolor": "white",
            "ticks": ""
           },
           "bgcolor": "#E5ECF6",
           "radialaxis": {
            "gridcolor": "white",
            "linecolor": "white",
            "ticks": ""
           }
          },
          "scene": {
           "xaxis": {
            "backgroundcolor": "#E5ECF6",
            "gridcolor": "white",
            "gridwidth": 2,
            "linecolor": "white",
            "showbackground": true,
            "ticks": "",
            "zerolinecolor": "white"
           },
           "yaxis": {
            "backgroundcolor": "#E5ECF6",
            "gridcolor": "white",
            "gridwidth": 2,
            "linecolor": "white",
            "showbackground": true,
            "ticks": "",
            "zerolinecolor": "white"
           },
           "zaxis": {
            "backgroundcolor": "#E5ECF6",
            "gridcolor": "white",
            "gridwidth": 2,
            "linecolor": "white",
            "showbackground": true,
            "ticks": "",
            "zerolinecolor": "white"
           }
          },
          "shapedefaults": {
           "line": {
            "color": "#2a3f5f"
           }
          },
          "ternary": {
           "aaxis": {
            "gridcolor": "white",
            "linecolor": "white",
            "ticks": ""
           },
           "baxis": {
            "gridcolor": "white",
            "linecolor": "white",
            "ticks": ""
           },
           "bgcolor": "#E5ECF6",
           "caxis": {
            "gridcolor": "white",
            "linecolor": "white",
            "ticks": ""
           }
          },
          "title": {
           "x": 0.05
          },
          "xaxis": {
           "automargin": true,
           "gridcolor": "white",
           "linecolor": "white",
           "ticks": "",
           "title": {
            "standoff": 15
           },
           "zerolinecolor": "white",
           "zerolinewidth": 2
          },
          "yaxis": {
           "automargin": true,
           "gridcolor": "white",
           "linecolor": "white",
           "ticks": "",
           "title": {
            "standoff": 15
           },
           "zerolinecolor": "white",
           "zerolinewidth": 2
          }
         }
        },
        "title": {
         "text": "Quarterly Yelp Star Rating Counts by Year"
        },
        "xaxis": {
         "anchor": "y",
         "domain": [
          0,
          1
         ],
         "title": {
          "text": "Quarter-Year"
         }
        },
        "yaxis": {
         "anchor": "x",
         "domain": [
          0,
          1
         ],
         "title": {
          "text": "Review Count"
         }
        }
       }
      }
     },
     "metadata": {},
     "output_type": "display_data"
    },
    {
     "data": {
      "application/vnd.plotly.v1+json": {
       "config": {
        "plotlyServerURL": "https://plot.ly"
       },
       "data": [
        {
         "hovertemplate": "Quarter-Year=%{x}<br>Review Count=%{y}<extra></extra>",
         "legendgroup": "",
         "line": {
          "color": "#636efa",
          "dash": "solid"
         },
         "marker": {
          "symbol": "circle"
         },
         "mode": "lines",
         "name": "",
         "orientation": "v",
         "showlegend": false,
         "type": "scatter",
         "x": [
          "Q1-2005",
          "Q2-2005",
          "Q3-2005",
          "Q4-2005",
          "Q1-2006",
          "Q2-2006",
          "Q3-2006",
          "Q4-2006",
          "Q1-2007",
          "Q2-2007",
          "Q3-2007",
          "Q4-2007",
          "Q1-2008",
          "Q2-2008",
          "Q3-2008",
          "Q4-2008",
          "Q1-2009",
          "Q2-2009",
          "Q3-2009",
          "Q4-2009",
          "Q1-2010",
          "Q2-2010",
          "Q3-2010",
          "Q4-2010",
          "Q1-2011",
          "Q2-2011",
          "Q3-2011",
          "Q4-2011",
          "Q1-2012",
          "Q2-2012",
          "Q3-2012",
          "Q4-2012",
          "Q1-2013",
          "Q2-2013",
          "Q3-2013",
          "Q4-2013",
          "Q1-2014",
          "Q2-2014",
          "Q3-2014",
          "Q4-2014",
          "Q1-2015",
          "Q2-2015",
          "Q3-2015",
          "Q4-2015",
          "Q1-2016",
          "Q2-2016",
          "Q3-2016",
          "Q4-2016",
          "Q1-2017",
          "Q2-2017",
          "Q3-2017",
          "Q4-2017",
          "Q1-2018",
          "Q2-2018",
          "Q3-2018",
          "Q4-2018",
          "Q1-2019",
          "Q2-2019",
          "Q3-2019",
          "Q4-2019",
          "Q1-2020",
          "Q2-2020",
          "Q3-2020",
          "Q4-2020",
          "Q1-2021",
          "Q2-2021",
          "Q3-2021",
          "Q4-2021",
          "Q1-2022"
         ],
         "xaxis": "x",
         "y": {
          "bdata": "TQAAAKwAAACKAQAA0wAAAFUCAABYAgAAPgUAACIFAABxDQAAWAwAAJ8SAACbDwAA1xsAAKYtAAA6PAAAqzYAAONCAAAUQgAAgVAAABtNAACcdwAAtnUAAAmXAAAAmQAAVNMAAA7fAACk9wAAl9sAAI0YAQDLEAEArSIBAGUTAQALWwEAhGYBADOWAQAMhAEAa8sBAAv2AQBZMQIAVAUCAH1yAgCioQIABd4CAPuOAgBQAAMAIwIDAPICAwD9jgIAovkCAHxQAwBFSgMA7e4CAPlWAwD+pAMADK0DAHcrAwDghAMAo6kDAPyiAwCVBgMArb8CAERyAQBaOwIA8ggCAKYsAgCtlQIA230CAJ8uAgCxewAA",
          "dtype": "i4"
         },
         "yaxis": "y"
        }
       ],
       "layout": {
        "legend": {
         "tracegroupgap": 0
        },
        "template": {
         "data": {
          "bar": [
           {
            "error_x": {
             "color": "#2a3f5f"
            },
            "error_y": {
             "color": "#2a3f5f"
            },
            "marker": {
             "line": {
              "color": "#E5ECF6",
              "width": 0.5
             },
             "pattern": {
              "fillmode": "overlay",
              "size": 10,
              "solidity": 0.2
             }
            },
            "type": "bar"
           }
          ],
          "barpolar": [
           {
            "marker": {
             "line": {
              "color": "#E5ECF6",
              "width": 0.5
             },
             "pattern": {
              "fillmode": "overlay",
              "size": 10,
              "solidity": 0.2
             }
            },
            "type": "barpolar"
           }
          ],
          "carpet": [
           {
            "aaxis": {
             "endlinecolor": "#2a3f5f",
             "gridcolor": "white",
             "linecolor": "white",
             "minorgridcolor": "white",
             "startlinecolor": "#2a3f5f"
            },
            "baxis": {
             "endlinecolor": "#2a3f5f",
             "gridcolor": "white",
             "linecolor": "white",
             "minorgridcolor": "white",
             "startlinecolor": "#2a3f5f"
            },
            "type": "carpet"
           }
          ],
          "choropleth": [
           {
            "colorbar": {
             "outlinewidth": 0,
             "ticks": ""
            },
            "type": "choropleth"
           }
          ],
          "contour": [
           {
            "colorbar": {
             "outlinewidth": 0,
             "ticks": ""
            },
            "colorscale": [
             [
              0,
              "#0d0887"
             ],
             [
              0.1111111111111111,
              "#46039f"
             ],
             [
              0.2222222222222222,
              "#7201a8"
             ],
             [
              0.3333333333333333,
              "#9c179e"
             ],
             [
              0.4444444444444444,
              "#bd3786"
             ],
             [
              0.5555555555555556,
              "#d8576b"
             ],
             [
              0.6666666666666666,
              "#ed7953"
             ],
             [
              0.7777777777777778,
              "#fb9f3a"
             ],
             [
              0.8888888888888888,
              "#fdca26"
             ],
             [
              1,
              "#f0f921"
             ]
            ],
            "type": "contour"
           }
          ],
          "contourcarpet": [
           {
            "colorbar": {
             "outlinewidth": 0,
             "ticks": ""
            },
            "type": "contourcarpet"
           }
          ],
          "heatmap": [
           {
            "colorbar": {
             "outlinewidth": 0,
             "ticks": ""
            },
            "colorscale": [
             [
              0,
              "#0d0887"
             ],
             [
              0.1111111111111111,
              "#46039f"
             ],
             [
              0.2222222222222222,
              "#7201a8"
             ],
             [
              0.3333333333333333,
              "#9c179e"
             ],
             [
              0.4444444444444444,
              "#bd3786"
             ],
             [
              0.5555555555555556,
              "#d8576b"
             ],
             [
              0.6666666666666666,
              "#ed7953"
             ],
             [
              0.7777777777777778,
              "#fb9f3a"
             ],
             [
              0.8888888888888888,
              "#fdca26"
             ],
             [
              1,
              "#f0f921"
             ]
            ],
            "type": "heatmap"
           }
          ],
          "histogram": [
           {
            "marker": {
             "pattern": {
              "fillmode": "overlay",
              "size": 10,
              "solidity": 0.2
             }
            },
            "type": "histogram"
           }
          ],
          "histogram2d": [
           {
            "colorbar": {
             "outlinewidth": 0,
             "ticks": ""
            },
            "colorscale": [
             [
              0,
              "#0d0887"
             ],
             [
              0.1111111111111111,
              "#46039f"
             ],
             [
              0.2222222222222222,
              "#7201a8"
             ],
             [
              0.3333333333333333,
              "#9c179e"
             ],
             [
              0.4444444444444444,
              "#bd3786"
             ],
             [
              0.5555555555555556,
              "#d8576b"
             ],
             [
              0.6666666666666666,
              "#ed7953"
             ],
             [
              0.7777777777777778,
              "#fb9f3a"
             ],
             [
              0.8888888888888888,
              "#fdca26"
             ],
             [
              1,
              "#f0f921"
             ]
            ],
            "type": "histogram2d"
           }
          ],
          "histogram2dcontour": [
           {
            "colorbar": {
             "outlinewidth": 0,
             "ticks": ""
            },
            "colorscale": [
             [
              0,
              "#0d0887"
             ],
             [
              0.1111111111111111,
              "#46039f"
             ],
             [
              0.2222222222222222,
              "#7201a8"
             ],
             [
              0.3333333333333333,
              "#9c179e"
             ],
             [
              0.4444444444444444,
              "#bd3786"
             ],
             [
              0.5555555555555556,
              "#d8576b"
             ],
             [
              0.6666666666666666,
              "#ed7953"
             ],
             [
              0.7777777777777778,
              "#fb9f3a"
             ],
             [
              0.8888888888888888,
              "#fdca26"
             ],
             [
              1,
              "#f0f921"
             ]
            ],
            "type": "histogram2dcontour"
           }
          ],
          "mesh3d": [
           {
            "colorbar": {
             "outlinewidth": 0,
             "ticks": ""
            },
            "type": "mesh3d"
           }
          ],
          "parcoords": [
           {
            "line": {
             "colorbar": {
              "outlinewidth": 0,
              "ticks": ""
             }
            },
            "type": "parcoords"
           }
          ],
          "pie": [
           {
            "automargin": true,
            "type": "pie"
           }
          ],
          "scatter": [
           {
            "fillpattern": {
             "fillmode": "overlay",
             "size": 10,
             "solidity": 0.2
            },
            "type": "scatter"
           }
          ],
          "scatter3d": [
           {
            "line": {
             "colorbar": {
              "outlinewidth": 0,
              "ticks": ""
             }
            },
            "marker": {
             "colorbar": {
              "outlinewidth": 0,
              "ticks": ""
             }
            },
            "type": "scatter3d"
           }
          ],
          "scattercarpet": [
           {
            "marker": {
             "colorbar": {
              "outlinewidth": 0,
              "ticks": ""
             }
            },
            "type": "scattercarpet"
           }
          ],
          "scattergeo": [
           {
            "marker": {
             "colorbar": {
              "outlinewidth": 0,
              "ticks": ""
             }
            },
            "type": "scattergeo"
           }
          ],
          "scattergl": [
           {
            "marker": {
             "colorbar": {
              "outlinewidth": 0,
              "ticks": ""
             }
            },
            "type": "scattergl"
           }
          ],
          "scattermap": [
           {
            "marker": {
             "colorbar": {
              "outlinewidth": 0,
              "ticks": ""
             }
            },
            "type": "scattermap"
           }
          ],
          "scattermapbox": [
           {
            "marker": {
             "colorbar": {
              "outlinewidth": 0,
              "ticks": ""
             }
            },
            "type": "scattermapbox"
           }
          ],
          "scatterpolar": [
           {
            "marker": {
             "colorbar": {
              "outlinewidth": 0,
              "ticks": ""
             }
            },
            "type": "scatterpolar"
           }
          ],
          "scatterpolargl": [
           {
            "marker": {
             "colorbar": {
              "outlinewidth": 0,
              "ticks": ""
             }
            },
            "type": "scatterpolargl"
           }
          ],
          "scatterternary": [
           {
            "marker": {
             "colorbar": {
              "outlinewidth": 0,
              "ticks": ""
             }
            },
            "type": "scatterternary"
           }
          ],
          "surface": [
           {
            "colorbar": {
             "outlinewidth": 0,
             "ticks": ""
            },
            "colorscale": [
             [
              0,
              "#0d0887"
             ],
             [
              0.1111111111111111,
              "#46039f"
             ],
             [
              0.2222222222222222,
              "#7201a8"
             ],
             [
              0.3333333333333333,
              "#9c179e"
             ],
             [
              0.4444444444444444,
              "#bd3786"
             ],
             [
              0.5555555555555556,
              "#d8576b"
             ],
             [
              0.6666666666666666,
              "#ed7953"
             ],
             [
              0.7777777777777778,
              "#fb9f3a"
             ],
             [
              0.8888888888888888,
              "#fdca26"
             ],
             [
              1,
              "#f0f921"
             ]
            ],
            "type": "surface"
           }
          ],
          "table": [
           {
            "cells": {
             "fill": {
              "color": "#EBF0F8"
             },
             "line": {
              "color": "white"
             }
            },
            "header": {
             "fill": {
              "color": "#C8D4E3"
             },
             "line": {
              "color": "white"
             }
            },
            "type": "table"
           }
          ]
         },
         "layout": {
          "annotationdefaults": {
           "arrowcolor": "#2a3f5f",
           "arrowhead": 0,
           "arrowwidth": 1
          },
          "autotypenumbers": "strict",
          "coloraxis": {
           "colorbar": {
            "outlinewidth": 0,
            "ticks": ""
           }
          },
          "colorscale": {
           "diverging": [
            [
             0,
             "#8e0152"
            ],
            [
             0.1,
             "#c51b7d"
            ],
            [
             0.2,
             "#de77ae"
            ],
            [
             0.3,
             "#f1b6da"
            ],
            [
             0.4,
             "#fde0ef"
            ],
            [
             0.5,
             "#f7f7f7"
            ],
            [
             0.6,
             "#e6f5d0"
            ],
            [
             0.7,
             "#b8e186"
            ],
            [
             0.8,
             "#7fbc41"
            ],
            [
             0.9,
             "#4d9221"
            ],
            [
             1,
             "#276419"
            ]
           ],
           "sequential": [
            [
             0,
             "#0d0887"
            ],
            [
             0.1111111111111111,
             "#46039f"
            ],
            [
             0.2222222222222222,
             "#7201a8"
            ],
            [
             0.3333333333333333,
             "#9c179e"
            ],
            [
             0.4444444444444444,
             "#bd3786"
            ],
            [
             0.5555555555555556,
             "#d8576b"
            ],
            [
             0.6666666666666666,
             "#ed7953"
            ],
            [
             0.7777777777777778,
             "#fb9f3a"
            ],
            [
             0.8888888888888888,
             "#fdca26"
            ],
            [
             1,
             "#f0f921"
            ]
           ],
           "sequentialminus": [
            [
             0,
             "#0d0887"
            ],
            [
             0.1111111111111111,
             "#46039f"
            ],
            [
             0.2222222222222222,
             "#7201a8"
            ],
            [
             0.3333333333333333,
             "#9c179e"
            ],
            [
             0.4444444444444444,
             "#bd3786"
            ],
            [
             0.5555555555555556,
             "#d8576b"
            ],
            [
             0.6666666666666666,
             "#ed7953"
            ],
            [
             0.7777777777777778,
             "#fb9f3a"
            ],
            [
             0.8888888888888888,
             "#fdca26"
            ],
            [
             1,
             "#f0f921"
            ]
           ]
          },
          "colorway": [
           "#636efa",
           "#EF553B",
           "#00cc96",
           "#ab63fa",
           "#FFA15A",
           "#19d3f3",
           "#FF6692",
           "#B6E880",
           "#FF97FF",
           "#FECB52"
          ],
          "font": {
           "color": "#2a3f5f"
          },
          "geo": {
           "bgcolor": "white",
           "lakecolor": "white",
           "landcolor": "#E5ECF6",
           "showlakes": true,
           "showland": true,
           "subunitcolor": "white"
          },
          "hoverlabel": {
           "align": "left"
          },
          "hovermode": "closest",
          "mapbox": {
           "style": "light"
          },
          "paper_bgcolor": "white",
          "plot_bgcolor": "#E5ECF6",
          "polar": {
           "angularaxis": {
            "gridcolor": "white",
            "linecolor": "white",
            "ticks": ""
           },
           "bgcolor": "#E5ECF6",
           "radialaxis": {
            "gridcolor": "white",
            "linecolor": "white",
            "ticks": ""
           }
          },
          "scene": {
           "xaxis": {
            "backgroundcolor": "#E5ECF6",
            "gridcolor": "white",
            "gridwidth": 2,
            "linecolor": "white",
            "showbackground": true,
            "ticks": "",
            "zerolinecolor": "white"
           },
           "yaxis": {
            "backgroundcolor": "#E5ECF6",
            "gridcolor": "white",
            "gridwidth": 2,
            "linecolor": "white",
            "showbackground": true,
            "ticks": "",
            "zerolinecolor": "white"
           },
           "zaxis": {
            "backgroundcolor": "#E5ECF6",
            "gridcolor": "white",
            "gridwidth": 2,
            "linecolor": "white",
            "showbackground": true,
            "ticks": "",
            "zerolinecolor": "white"
           }
          },
          "shapedefaults": {
           "line": {
            "color": "#2a3f5f"
           }
          },
          "ternary": {
           "aaxis": {
            "gridcolor": "white",
            "linecolor": "white",
            "ticks": ""
           },
           "baxis": {
            "gridcolor": "white",
            "linecolor": "white",
            "ticks": ""
           },
           "bgcolor": "#E5ECF6",
           "caxis": {
            "gridcolor": "white",
            "linecolor": "white",
            "ticks": ""
           }
          },
          "title": {
           "x": 0.05
          },
          "xaxis": {
           "automargin": true,
           "gridcolor": "white",
           "linecolor": "white",
           "ticks": "",
           "title": {
            "standoff": 15
           },
           "zerolinecolor": "white",
           "zerolinewidth": 2
          },
          "yaxis": {
           "automargin": true,
           "gridcolor": "white",
           "linecolor": "white",
           "ticks": "",
           "title": {
            "standoff": 15
           },
           "zerolinecolor": "white",
           "zerolinewidth": 2
          }
         }
        },
        "title": {
         "text": "Quarterly Yelp Review Volume by Year"
        },
        "xaxis": {
         "anchor": "y",
         "domain": [
          0,
          1
         ],
         "title": {
          "text": "Quarter-Year"
         }
        },
        "yaxis": {
         "anchor": "x",
         "domain": [
          0,
          1
         ],
         "title": {
          "text": "Review Count"
         }
        }
       }
      }
     },
     "metadata": {},
     "output_type": "display_data"
    },
    {
     "data": {
      "application/vnd.plotly.v1+json": {
       "config": {
        "plotlyServerURL": "https://plot.ly"
       },
       "data": [
        {
         "hovertemplate": "Quarter-Year=%{x}<br>Average Star Rating=%{y}<extra></extra>",
         "legendgroup": "",
         "line": {
          "color": "#636efa",
          "dash": "solid"
         },
         "marker": {
          "symbol": "circle"
         },
         "mode": "lines",
         "name": "",
         "orientation": "v",
         "showlegend": false,
         "type": "scatter",
         "x": [
          "Q1-2005",
          "Q2-2005",
          "Q3-2005",
          "Q4-2005",
          "Q1-2006",
          "Q2-2006",
          "Q3-2006",
          "Q4-2006",
          "Q1-2007",
          "Q2-2007",
          "Q3-2007",
          "Q4-2007",
          "Q1-2008",
          "Q2-2008",
          "Q3-2008",
          "Q4-2008",
          "Q1-2009",
          "Q2-2009",
          "Q3-2009",
          "Q4-2009",
          "Q1-2010",
          "Q2-2010",
          "Q3-2010",
          "Q4-2010",
          "Q1-2011",
          "Q2-2011",
          "Q3-2011",
          "Q4-2011",
          "Q1-2012",
          "Q2-2012",
          "Q3-2012",
          "Q4-2012",
          "Q1-2013",
          "Q2-2013",
          "Q3-2013",
          "Q4-2013",
          "Q1-2014",
          "Q2-2014",
          "Q3-2014",
          "Q4-2014",
          "Q1-2015",
          "Q2-2015",
          "Q3-2015",
          "Q4-2015",
          "Q1-2016",
          "Q2-2016",
          "Q3-2016",
          "Q4-2016",
          "Q1-2017",
          "Q2-2017",
          "Q3-2017",
          "Q4-2017",
          "Q1-2018",
          "Q2-2018",
          "Q3-2018",
          "Q4-2018",
          "Q1-2019",
          "Q2-2019",
          "Q3-2019",
          "Q4-2019",
          "Q1-2020",
          "Q2-2020",
          "Q3-2020",
          "Q4-2020",
          "Q1-2021",
          "Q2-2021",
          "Q3-2021",
          "Q4-2021",
          "Q1-2022"
         ],
         "xaxis": "x",
         "y": [
          3.68,
          4.08,
          3.79,
          4.04,
          4.05,
          3.96,
          3.99,
          3.99,
          3.76,
          3.94,
          3.93,
          3.82,
          3.87,
          3.88,
          3.75,
          3.76,
          3.73,
          3.72,
          3.72,
          3.71,
          3.72,
          3.71,
          3.73,
          3.72,
          3.74,
          3.71,
          3.7,
          3.68,
          3.7,
          3.68,
          3.67,
          3.67,
          3.69,
          3.67,
          3.69,
          3.69,
          3.73,
          3.72,
          3.72,
          3.72,
          3.73,
          3.74,
          3.75,
          3.75,
          3.78,
          3.76,
          3.76,
          3.76,
          3.79,
          3.77,
          3.78,
          3.77,
          3.79,
          3.79,
          3.78,
          3.77,
          3.79,
          3.76,
          3.77,
          3.75,
          3.8,
          3.74,
          3.77,
          3.81,
          3.8,
          3.7,
          3.65,
          3.67,
          3.7
         ],
         "yaxis": "y"
        }
       ],
       "layout": {
        "legend": {
         "tracegroupgap": 0
        },
        "template": {
         "data": {
          "bar": [
           {
            "error_x": {
             "color": "#2a3f5f"
            },
            "error_y": {
             "color": "#2a3f5f"
            },
            "marker": {
             "line": {
              "color": "#E5ECF6",
              "width": 0.5
             },
             "pattern": {
              "fillmode": "overlay",
              "size": 10,
              "solidity": 0.2
             }
            },
            "type": "bar"
           }
          ],
          "barpolar": [
           {
            "marker": {
             "line": {
              "color": "#E5ECF6",
              "width": 0.5
             },
             "pattern": {
              "fillmode": "overlay",
              "size": 10,
              "solidity": 0.2
             }
            },
            "type": "barpolar"
           }
          ],
          "carpet": [
           {
            "aaxis": {
             "endlinecolor": "#2a3f5f",
             "gridcolor": "white",
             "linecolor": "white",
             "minorgridcolor": "white",
             "startlinecolor": "#2a3f5f"
            },
            "baxis": {
             "endlinecolor": "#2a3f5f",
             "gridcolor": "white",
             "linecolor": "white",
             "minorgridcolor": "white",
             "startlinecolor": "#2a3f5f"
            },
            "type": "carpet"
           }
          ],
          "choropleth": [
           {
            "colorbar": {
             "outlinewidth": 0,
             "ticks": ""
            },
            "type": "choropleth"
           }
          ],
          "contour": [
           {
            "colorbar": {
             "outlinewidth": 0,
             "ticks": ""
            },
            "colorscale": [
             [
              0,
              "#0d0887"
             ],
             [
              0.1111111111111111,
              "#46039f"
             ],
             [
              0.2222222222222222,
              "#7201a8"
             ],
             [
              0.3333333333333333,
              "#9c179e"
             ],
             [
              0.4444444444444444,
              "#bd3786"
             ],
             [
              0.5555555555555556,
              "#d8576b"
             ],
             [
              0.6666666666666666,
              "#ed7953"
             ],
             [
              0.7777777777777778,
              "#fb9f3a"
             ],
             [
              0.8888888888888888,
              "#fdca26"
             ],
             [
              1,
              "#f0f921"
             ]
            ],
            "type": "contour"
           }
          ],
          "contourcarpet": [
           {
            "colorbar": {
             "outlinewidth": 0,
             "ticks": ""
            },
            "type": "contourcarpet"
           }
          ],
          "heatmap": [
           {
            "colorbar": {
             "outlinewidth": 0,
             "ticks": ""
            },
            "colorscale": [
             [
              0,
              "#0d0887"
             ],
             [
              0.1111111111111111,
              "#46039f"
             ],
             [
              0.2222222222222222,
              "#7201a8"
             ],
             [
              0.3333333333333333,
              "#9c179e"
             ],
             [
              0.4444444444444444,
              "#bd3786"
             ],
             [
              0.5555555555555556,
              "#d8576b"
             ],
             [
              0.6666666666666666,
              "#ed7953"
             ],
             [
              0.7777777777777778,
              "#fb9f3a"
             ],
             [
              0.8888888888888888,
              "#fdca26"
             ],
             [
              1,
              "#f0f921"
             ]
            ],
            "type": "heatmap"
           }
          ],
          "histogram": [
           {
            "marker": {
             "pattern": {
              "fillmode": "overlay",
              "size": 10,
              "solidity": 0.2
             }
            },
            "type": "histogram"
           }
          ],
          "histogram2d": [
           {
            "colorbar": {
             "outlinewidth": 0,
             "ticks": ""
            },
            "colorscale": [
             [
              0,
              "#0d0887"
             ],
             [
              0.1111111111111111,
              "#46039f"
             ],
             [
              0.2222222222222222,
              "#7201a8"
             ],
             [
              0.3333333333333333,
              "#9c179e"
             ],
             [
              0.4444444444444444,
              "#bd3786"
             ],
             [
              0.5555555555555556,
              "#d8576b"
             ],
             [
              0.6666666666666666,
              "#ed7953"
             ],
             [
              0.7777777777777778,
              "#fb9f3a"
             ],
             [
              0.8888888888888888,
              "#fdca26"
             ],
             [
              1,
              "#f0f921"
             ]
            ],
            "type": "histogram2d"
           }
          ],
          "histogram2dcontour": [
           {
            "colorbar": {
             "outlinewidth": 0,
             "ticks": ""
            },
            "colorscale": [
             [
              0,
              "#0d0887"
             ],
             [
              0.1111111111111111,
              "#46039f"
             ],
             [
              0.2222222222222222,
              "#7201a8"
             ],
             [
              0.3333333333333333,
              "#9c179e"
             ],
             [
              0.4444444444444444,
              "#bd3786"
             ],
             [
              0.5555555555555556,
              "#d8576b"
             ],
             [
              0.6666666666666666,
              "#ed7953"
             ],
             [
              0.7777777777777778,
              "#fb9f3a"
             ],
             [
              0.8888888888888888,
              "#fdca26"
             ],
             [
              1,
              "#f0f921"
             ]
            ],
            "type": "histogram2dcontour"
           }
          ],
          "mesh3d": [
           {
            "colorbar": {
             "outlinewidth": 0,
             "ticks": ""
            },
            "type": "mesh3d"
           }
          ],
          "parcoords": [
           {
            "line": {
             "colorbar": {
              "outlinewidth": 0,
              "ticks": ""
             }
            },
            "type": "parcoords"
           }
          ],
          "pie": [
           {
            "automargin": true,
            "type": "pie"
           }
          ],
          "scatter": [
           {
            "fillpattern": {
             "fillmode": "overlay",
             "size": 10,
             "solidity": 0.2
            },
            "type": "scatter"
           }
          ],
          "scatter3d": [
           {
            "line": {
             "colorbar": {
              "outlinewidth": 0,
              "ticks": ""
             }
            },
            "marker": {
             "colorbar": {
              "outlinewidth": 0,
              "ticks": ""
             }
            },
            "type": "scatter3d"
           }
          ],
          "scattercarpet": [
           {
            "marker": {
             "colorbar": {
              "outlinewidth": 0,
              "ticks": ""
             }
            },
            "type": "scattercarpet"
           }
          ],
          "scattergeo": [
           {
            "marker": {
             "colorbar": {
              "outlinewidth": 0,
              "ticks": ""
             }
            },
            "type": "scattergeo"
           }
          ],
          "scattergl": [
           {
            "marker": {
             "colorbar": {
              "outlinewidth": 0,
              "ticks": ""
             }
            },
            "type": "scattergl"
           }
          ],
          "scattermap": [
           {
            "marker": {
             "colorbar": {
              "outlinewidth": 0,
              "ticks": ""
             }
            },
            "type": "scattermap"
           }
          ],
          "scattermapbox": [
           {
            "marker": {
             "colorbar": {
              "outlinewidth": 0,
              "ticks": ""
             }
            },
            "type": "scattermapbox"
           }
          ],
          "scatterpolar": [
           {
            "marker": {
             "colorbar": {
              "outlinewidth": 0,
              "ticks": ""
             }
            },
            "type": "scatterpolar"
           }
          ],
          "scatterpolargl": [
           {
            "marker": {
             "colorbar": {
              "outlinewidth": 0,
              "ticks": ""
             }
            },
            "type": "scatterpolargl"
           }
          ],
          "scatterternary": [
           {
            "marker": {
             "colorbar": {
              "outlinewidth": 0,
              "ticks": ""
             }
            },
            "type": "scatterternary"
           }
          ],
          "surface": [
           {
            "colorbar": {
             "outlinewidth": 0,
             "ticks": ""
            },
            "colorscale": [
             [
              0,
              "#0d0887"
             ],
             [
              0.1111111111111111,
              "#46039f"
             ],
             [
              0.2222222222222222,
              "#7201a8"
             ],
             [
              0.3333333333333333,
              "#9c179e"
             ],
             [
              0.4444444444444444,
              "#bd3786"
             ],
             [
              0.5555555555555556,
              "#d8576b"
             ],
             [
              0.6666666666666666,
              "#ed7953"
             ],
             [
              0.7777777777777778,
              "#fb9f3a"
             ],
             [
              0.8888888888888888,
              "#fdca26"
             ],
             [
              1,
              "#f0f921"
             ]
            ],
            "type": "surface"
           }
          ],
          "table": [
           {
            "cells": {
             "fill": {
              "color": "#EBF0F8"
             },
             "line": {
              "color": "white"
             }
            },
            "header": {
             "fill": {
              "color": "#C8D4E3"
             },
             "line": {
              "color": "white"
             }
            },
            "type": "table"
           }
          ]
         },
         "layout": {
          "annotationdefaults": {
           "arrowcolor": "#2a3f5f",
           "arrowhead": 0,
           "arrowwidth": 1
          },
          "autotypenumbers": "strict",
          "coloraxis": {
           "colorbar": {
            "outlinewidth": 0,
            "ticks": ""
           }
          },
          "colorscale": {
           "diverging": [
            [
             0,
             "#8e0152"
            ],
            [
             0.1,
             "#c51b7d"
            ],
            [
             0.2,
             "#de77ae"
            ],
            [
             0.3,
             "#f1b6da"
            ],
            [
             0.4,
             "#fde0ef"
            ],
            [
             0.5,
             "#f7f7f7"
            ],
            [
             0.6,
             "#e6f5d0"
            ],
            [
             0.7,
             "#b8e186"
            ],
            [
             0.8,
             "#7fbc41"
            ],
            [
             0.9,
             "#4d9221"
            ],
            [
             1,
             "#276419"
            ]
           ],
           "sequential": [
            [
             0,
             "#0d0887"
            ],
            [
             0.1111111111111111,
             "#46039f"
            ],
            [
             0.2222222222222222,
             "#7201a8"
            ],
            [
             0.3333333333333333,
             "#9c179e"
            ],
            [
             0.4444444444444444,
             "#bd3786"
            ],
            [
             0.5555555555555556,
             "#d8576b"
            ],
            [
             0.6666666666666666,
             "#ed7953"
            ],
            [
             0.7777777777777778,
             "#fb9f3a"
            ],
            [
             0.8888888888888888,
             "#fdca26"
            ],
            [
             1,
             "#f0f921"
            ]
           ],
           "sequentialminus": [
            [
             0,
             "#0d0887"
            ],
            [
             0.1111111111111111,
             "#46039f"
            ],
            [
             0.2222222222222222,
             "#7201a8"
            ],
            [
             0.3333333333333333,
             "#9c179e"
            ],
            [
             0.4444444444444444,
             "#bd3786"
            ],
            [
             0.5555555555555556,
             "#d8576b"
            ],
            [
             0.6666666666666666,
             "#ed7953"
            ],
            [
             0.7777777777777778,
             "#fb9f3a"
            ],
            [
             0.8888888888888888,
             "#fdca26"
            ],
            [
             1,
             "#f0f921"
            ]
           ]
          },
          "colorway": [
           "#636efa",
           "#EF553B",
           "#00cc96",
           "#ab63fa",
           "#FFA15A",
           "#19d3f3",
           "#FF6692",
           "#B6E880",
           "#FF97FF",
           "#FECB52"
          ],
          "font": {
           "color": "#2a3f5f"
          },
          "geo": {
           "bgcolor": "white",
           "lakecolor": "white",
           "landcolor": "#E5ECF6",
           "showlakes": true,
           "showland": true,
           "subunitcolor": "white"
          },
          "hoverlabel": {
           "align": "left"
          },
          "hovermode": "closest",
          "mapbox": {
           "style": "light"
          },
          "paper_bgcolor": "white",
          "plot_bgcolor": "#E5ECF6",
          "polar": {
           "angularaxis": {
            "gridcolor": "white",
            "linecolor": "white",
            "ticks": ""
           },
           "bgcolor": "#E5ECF6",
           "radialaxis": {
            "gridcolor": "white",
            "linecolor": "white",
            "ticks": ""
           }
          },
          "scene": {
           "xaxis": {
            "backgroundcolor": "#E5ECF6",
            "gridcolor": "white",
            "gridwidth": 2,
            "linecolor": "white",
            "showbackground": true,
            "ticks": "",
            "zerolinecolor": "white"
           },
           "yaxis": {
            "backgroundcolor": "#E5ECF6",
            "gridcolor": "white",
            "gridwidth": 2,
            "linecolor": "white",
            "showbackground": true,
            "ticks": "",
            "zerolinecolor": "white"
           },
           "zaxis": {
            "backgroundcolor": "#E5ECF6",
            "gridcolor": "white",
            "gridwidth": 2,
            "linecolor": "white",
            "showbackground": true,
            "ticks": "",
            "zerolinecolor": "white"
           }
          },
          "shapedefaults": {
           "line": {
            "color": "#2a3f5f"
           }
          },
          "ternary": {
           "aaxis": {
            "gridcolor": "white",
            "linecolor": "white",
            "ticks": ""
           },
           "baxis": {
            "gridcolor": "white",
            "linecolor": "white",
            "ticks": ""
           },
           "bgcolor": "#E5ECF6",
           "caxis": {
            "gridcolor": "white",
            "linecolor": "white",
            "ticks": ""
           }
          },
          "title": {
           "x": 0.05
          },
          "xaxis": {
           "automargin": true,
           "gridcolor": "white",
           "linecolor": "white",
           "ticks": "",
           "title": {
            "standoff": 15
           },
           "zerolinecolor": "white",
           "zerolinewidth": 2
          },
          "yaxis": {
           "automargin": true,
           "gridcolor": "white",
           "linecolor": "white",
           "ticks": "",
           "title": {
            "standoff": 15
           },
           "zerolinecolor": "white",
           "zerolinewidth": 2
          }
         }
        },
        "title": {
         "text": "Quarterly Average Yelp Star Rating by Year"
        },
        "xaxis": {
         "anchor": "y",
         "domain": [
          0,
          1
         ],
         "title": {
          "text": "Quarter-Year"
         }
        },
        "yaxis": {
         "anchor": "x",
         "domain": [
          0,
          1
         ],
         "title": {
          "text": "Average Star Rating"
         }
        }
       }
      }
     },
     "metadata": {},
     "output_type": "display_data"
    }
   ],
   "source": [
    "# Reviews by year and quarter\n",
    "df = cur.execute('''\n",
    "                SELECT \n",
    "                    YEAR(review_date) AS year,\n",
    "                    QUARTER(review_date) AS quarter,\n",
    "                    SUM(CASE WHEN stars=1 THEN 1 ELSE 0 END) AS one_star_reviews,\n",
    "                    SUM(CASE WHEN stars=2 THEN 1 ELSE 0 END) AS two_star_reviews,\n",
    "                    SUM(CASE WHEN stars=3 THEN 1 ELSE 0 END) AS three_star_reviews,\n",
    "                    SUM(CASE WHEN stars=4 THEN 1 ELSE 0 END) AS four_star_reviews,\n",
    "                    SUM(CASE WHEN stars=5 THEN 1 ELSE 0 END) AS five_star_reviews,\n",
    "                    COUNT(*) AS total_reviews,\n",
    "                    SUM(stars) AS total_stars,\n",
    "                    ROUND(AVG(stars), 2) avg_rating\n",
    "                FROM yelp_reviews\n",
    "                GROUP BY 1, 2\n",
    "                ORDER BY 1, 2;\n",
    "                 ''').fetch_pandas_all()\n",
    "\n",
    "display(df)\n",
    "\n",
    "# Rename columns for readability in charts\n",
    "df.rename(columns={'ONE_STAR_REVIEWS': '1 Star', 'TWO_STAR_REVIEWS': '2 Star', 'THREE_STAR_REVIEWS': '3 Star', 'FOUR_STAR_REVIEWS': '4 Star', 'FIVE_STAR_REVIEWS': '5 Star', 'TOTAL_REVIEWS': 'Total Reviews',\n",
    "                   'AVG_RATING': 'Average Rating'}, inplace=True)\n",
    "\n",
    "# Create a date column from year and quarter\n",
    "df['date'] = 'Q' + df['QUARTER'].astype(str) + '-' + df['YEAR'].astype(str)\n",
    "\n",
    "# Melt into long format for counts of reviews with each star value\n",
    "long_df = df.melt(\n",
    "    id_vars=['date'],\n",
    "    value_vars=['1 Star','2 Star','3 Star','4 Star','5 Star'],\n",
    "    var_name='star',\n",
    "    value_name='count'\n",
    ")\n",
    "\n",
    "# Plot time series of star value counts by year and quarter\n",
    "fig = px.line(\n",
    "    long_df,\n",
    "    x='date',\n",
    "    y='count',\n",
    "    color='star',\n",
    "    labels={\n",
    "        'date':'Quarter-Year',\n",
    "        'count':'Review Count',\n",
    "        'star':'Star Rating'\n",
    "    },\n",
    "    title='Quarterly Yelp Star Rating Counts by Year'\n",
    ")\n",
    "fig.show()\n",
    "\n",
    "# Melt into long format for total review counts for each quarter\n",
    "long_df = df.melt(\n",
    "    id_vars=['date'],\n",
    "    value_vars=['Total Reviews'],\n",
    "    var_name='reviews',\n",
    "    value_name='count'\n",
    ")\n",
    "\n",
    "# Plot time series of total reviews by year and quarter\n",
    "fig = px.line(\n",
    "    long_df, \n",
    "    x='date', \n",
    "    y='count', \n",
    "    labels={\n",
    "        'date': 'Quarter-Year',\n",
    "        'count': 'Review Count'\n",
    "        }, \n",
    "    title='Quarterly Yelp Review Volume by Year'\n",
    ")\n",
    "fig.show()\n",
    "\n",
    "# Melt into long format for average star rating for each quarter\n",
    "long_df = df.melt(\n",
    "    id_vars=['date'],\n",
    "    value_vars=['Average Rating'],\n",
    "    var_name='avg_stars',\n",
    "    value_name='count'\n",
    ")\n",
    "\n",
    "# Plot time series of average star rating by year and quarter\n",
    "fig = px.line(\n",
    "    long_df, \n",
    "    x='date', \n",
    "    y='count', \n",
    "    labels={\n",
    "        'date': 'Quarter-Year',\n",
    "        'count': 'Average Star Rating'\n",
    "        }, \n",
    "    title='Quarterly Average Yelp Star Rating by Year'\n",
    ")\n",
    "fig.show()"
   ]
  },
  {
   "cell_type": "code",
   "execution_count": null,
   "id": "8703d512",
   "metadata": {},
   "outputs": [
    {
     "data": {
      "text/html": [
       "<div>\n",
       "<style scoped>\n",
       "    .dataframe tbody tr th:only-of-type {\n",
       "        vertical-align: middle;\n",
       "    }\n",
       "\n",
       "    .dataframe tbody tr th {\n",
       "        vertical-align: top;\n",
       "    }\n",
       "\n",
       "    .dataframe thead th {\n",
       "        text-align: right;\n",
       "    }\n",
       "</style>\n",
       "<table border=\"1\" class=\"dataframe\">\n",
       "  <thead>\n",
       "    <tr style=\"text-align: right;\">\n",
       "      <th></th>\n",
       "      <th>NAME</th>\n",
       "      <th>CITY</th>\n",
       "      <th>STATE</th>\n",
       "      <th>POSTAL_CODE</th>\n",
       "      <th>REVIEW_DATE</th>\n",
       "      <th>STARS</th>\n",
       "      <th>USER_REVIEW</th>\n",
       "    </tr>\n",
       "  </thead>\n",
       "  <tbody>\n",
       "    <tr>\n",
       "      <th>0</th>\n",
       "      <td>The Gables Apartments</td>\n",
       "      <td>Greenwood</td>\n",
       "      <td>IN</td>\n",
       "      <td>46143</td>\n",
       "      <td>2021-11-28</td>\n",
       "      <td>2</td>\n",
       "      <td>If you think you might be denied, don't apply ...</td>\n",
       "    </tr>\n",
       "    <tr>\n",
       "      <th>1</th>\n",
       "      <td>Schiano's Pizza</td>\n",
       "      <td>Warminster</td>\n",
       "      <td>PA</td>\n",
       "      <td>18974</td>\n",
       "      <td>2021-12-20</td>\n",
       "      <td>1</td>\n",
       "      <td>I love this place but tonight got rudely treat...</td>\n",
       "    </tr>\n",
       "    <tr>\n",
       "      <th>2</th>\n",
       "      <td>Caliber Collision</td>\n",
       "      <td>Largo</td>\n",
       "      <td>FL</td>\n",
       "      <td>33771</td>\n",
       "      <td>2022-01-15</td>\n",
       "      <td>1</td>\n",
       "      <td>At first caliber collision was on it! Sending ...</td>\n",
       "    </tr>\n",
       "    <tr>\n",
       "      <th>3</th>\n",
       "      <td>Gail Marcus</td>\n",
       "      <td>Philadelphia</td>\n",
       "      <td>PA</td>\n",
       "      <td>19102</td>\n",
       "      <td>2021-05-10</td>\n",
       "      <td>5</td>\n",
       "      <td>Gail was great to speak with. She allowed me t...</td>\n",
       "    </tr>\n",
       "    <tr>\n",
       "      <th>4</th>\n",
       "      <td>Employ Health</td>\n",
       "      <td>Nashville</td>\n",
       "      <td>TN</td>\n",
       "      <td>37203</td>\n",
       "      <td>2016-12-16</td>\n",
       "      <td>5</td>\n",
       "      <td>I was on vacation and needed a doctor at 9am o...</td>\n",
       "    </tr>\n",
       "    <tr>\n",
       "      <th>...</th>\n",
       "      <td>...</td>\n",
       "      <td>...</td>\n",
       "      <td>...</td>\n",
       "      <td>...</td>\n",
       "      <td>...</td>\n",
       "      <td>...</td>\n",
       "      <td>...</td>\n",
       "    </tr>\n",
       "    <tr>\n",
       "      <th>150341</th>\n",
       "      <td>MIZU Sushi Bar</td>\n",
       "      <td>Philadelphia</td>\n",
       "      <td>PA</td>\n",
       "      <td>19103</td>\n",
       "      <td>2017-11-02</td>\n",
       "      <td>2</td>\n",
       "      <td>How someone can screw up something as simple a...</td>\n",
       "    </tr>\n",
       "    <tr>\n",
       "      <th>150342</th>\n",
       "      <td>Beniki Nail Spa</td>\n",
       "      <td>Mount Juliet</td>\n",
       "      <td>TN</td>\n",
       "      <td>37122</td>\n",
       "      <td>2021-10-01</td>\n",
       "      <td>4</td>\n",
       "      <td>Do you know what heartbreak is? I'll tell you ...</td>\n",
       "    </tr>\n",
       "    <tr>\n",
       "      <th>150343</th>\n",
       "      <td>Arby's</td>\n",
       "      <td>Nashville</td>\n",
       "      <td>TN</td>\n",
       "      <td>37115</td>\n",
       "      <td>2019-12-25</td>\n",
       "      <td>5</td>\n",
       "      <td>Nothing more then a regular Arby's but clean a...</td>\n",
       "    </tr>\n",
       "    <tr>\n",
       "      <th>150344</th>\n",
       "      <td>Jet's Pizza</td>\n",
       "      <td>Madison</td>\n",
       "      <td>TN</td>\n",
       "      <td>37115</td>\n",
       "      <td>2020-01-30</td>\n",
       "      <td>1</td>\n",
       "      <td>I ordered two pizzas with extra cheese by web ...</td>\n",
       "    </tr>\n",
       "    <tr>\n",
       "      <th>150345</th>\n",
       "      <td>DSW Designer Shoe Warehouse</td>\n",
       "      <td>Ardmore</td>\n",
       "      <td>PA</td>\n",
       "      <td>19003</td>\n",
       "      <td>2014-04-05</td>\n",
       "      <td>4</td>\n",
       "      <td>This DSW has just moved to the Wynnewood shopp...</td>\n",
       "    </tr>\n",
       "  </tbody>\n",
       "</table>\n",
       "<p>150346 rows × 7 columns</p>\n",
       "</div>"
      ],
      "text/plain": [
       "                               NAME          CITY STATE POSTAL_CODE  \\\n",
       "0             The Gables Apartments     Greenwood    IN       46143   \n",
       "1                   Schiano's Pizza    Warminster    PA       18974   \n",
       "2                 Caliber Collision         Largo    FL       33771   \n",
       "3                       Gail Marcus  Philadelphia    PA       19102   \n",
       "4                     Employ Health     Nashville    TN       37203   \n",
       "...                             ...           ...   ...         ...   \n",
       "150341               MIZU Sushi Bar  Philadelphia    PA       19103   \n",
       "150342              Beniki Nail Spa  Mount Juliet    TN       37122   \n",
       "150343                       Arby's     Nashville    TN       37115   \n",
       "150344                  Jet's Pizza       Madison    TN       37115   \n",
       "150345  DSW Designer Shoe Warehouse       Ardmore    PA       19003   \n",
       "\n",
       "       REVIEW_DATE  STARS                                        USER_REVIEW  \n",
       "0       2021-11-28      2  If you think you might be denied, don't apply ...  \n",
       "1       2021-12-20      1  I love this place but tonight got rudely treat...  \n",
       "2       2022-01-15      1  At first caliber collision was on it! Sending ...  \n",
       "3       2021-05-10      5  Gail was great to speak with. She allowed me t...  \n",
       "4       2016-12-16      5  I was on vacation and needed a doctor at 9am o...  \n",
       "...            ...    ...                                                ...  \n",
       "150341  2017-11-02      2  How someone can screw up something as simple a...  \n",
       "150342  2021-10-01      4  Do you know what heartbreak is? I'll tell you ...  \n",
       "150343  2019-12-25      5  Nothing more then a regular Arby's but clean a...  \n",
       "150344  2020-01-30      1  I ordered two pizzas with extra cheese by web ...  \n",
       "150345  2014-04-05      4  This DSW has just moved to the Wynnewood shopp...  \n",
       "\n",
       "[150346 rows x 7 columns]"
      ]
     },
     "metadata": {},
     "output_type": "display_data"
    }
   ],
   "source": [
    "# Most recent reviews for each business\n",
    "df = cur.execute('''\n",
    "                WITH cte AS (\n",
    "                    SELECT \n",
    "                        business_id,\n",
    "                        review_date,\n",
    "                        user_review,\n",
    "                        stars,\n",
    "                        ROW_NUMBER() OVER(PARTITION BY business_id ORDER BY review_date DESC) AS rn\n",
    "                    FROM yelp_reviews\n",
    "                )\n",
    "                SELECT \n",
    "                    yb.name,\n",
    "                    yb.city,\n",
    "                    yb.state,\n",
    "                    yb.postal_code,\n",
    "                    review_date,\n",
    "                    cte.stars,\n",
    "                    user_review\n",
    "                FROM cte\n",
    "                JOIN yelp_businesses yb\n",
    "                    ON cte.business_id = yb.business_id\n",
    "                WHERE rn=1;\n",
    "                 ''').fetch_pandas_all()\n",
    "\n",
    "display(df)"
   ]
  },
  {
   "cell_type": "code",
   "execution_count": null,
   "id": "dbdf2f1e",
   "metadata": {},
   "outputs": [
    {
     "data": {
      "text/html": [
       "<div>\n",
       "<style scoped>\n",
       "    .dataframe tbody tr th:only-of-type {\n",
       "        vertical-align: middle;\n",
       "    }\n",
       "\n",
       "    .dataframe tbody tr th {\n",
       "        vertical-align: top;\n",
       "    }\n",
       "\n",
       "    .dataframe thead th {\n",
       "        text-align: right;\n",
       "    }\n",
       "</style>\n",
       "<table border=\"1\" class=\"dataframe\">\n",
       "  <thead>\n",
       "    <tr style=\"text-align: right;\">\n",
       "      <th></th>\n",
       "      <th>NAME</th>\n",
       "      <th>CITY</th>\n",
       "      <th>STATE</th>\n",
       "      <th>REVIEW_COUNT</th>\n",
       "      <th>AVG_STARS</th>\n",
       "    </tr>\n",
       "  </thead>\n",
       "  <tbody>\n",
       "    <tr>\n",
       "      <th>0</th>\n",
       "      <td>Acme Oyster House</td>\n",
       "      <td>New Orleans</td>\n",
       "      <td>LA</td>\n",
       "      <td>7673</td>\n",
       "      <td>4.12</td>\n",
       "    </tr>\n",
       "    <tr>\n",
       "      <th>1</th>\n",
       "      <td>Oceana Grill</td>\n",
       "      <td>New Orleans</td>\n",
       "      <td>LA</td>\n",
       "      <td>7516</td>\n",
       "      <td>4.15</td>\n",
       "    </tr>\n",
       "    <tr>\n",
       "      <th>2</th>\n",
       "      <td>Hattie B’s Hot Chicken - Nashville</td>\n",
       "      <td>Nashville</td>\n",
       "      <td>TN</td>\n",
       "      <td>6160</td>\n",
       "      <td>4.45</td>\n",
       "    </tr>\n",
       "    <tr>\n",
       "      <th>3</th>\n",
       "      <td>Reading Terminal Market</td>\n",
       "      <td>Philadelphia</td>\n",
       "      <td>PA</td>\n",
       "      <td>5778</td>\n",
       "      <td>4.61</td>\n",
       "    </tr>\n",
       "    <tr>\n",
       "      <th>4</th>\n",
       "      <td>Ruby Slipper Cafe</td>\n",
       "      <td>New Orleans</td>\n",
       "      <td>LA</td>\n",
       "      <td>5523</td>\n",
       "      <td>4.21</td>\n",
       "    </tr>\n",
       "    <tr>\n",
       "      <th>5</th>\n",
       "      <td>Ruby Slipper - New Orleans</td>\n",
       "      <td>New Orleans</td>\n",
       "      <td>LA</td>\n",
       "      <td>5264</td>\n",
       "      <td>4.29</td>\n",
       "    </tr>\n",
       "    <tr>\n",
       "      <th>6</th>\n",
       "      <td>Mother's Restaurant</td>\n",
       "      <td>New Orleans</td>\n",
       "      <td>LA</td>\n",
       "      <td>5254</td>\n",
       "      <td>3.44</td>\n",
       "    </tr>\n",
       "    <tr>\n",
       "      <th>7</th>\n",
       "      <td>Royal House</td>\n",
       "      <td>New Orleans</td>\n",
       "      <td>LA</td>\n",
       "      <td>5146</td>\n",
       "      <td>3.79</td>\n",
       "    </tr>\n",
       "    <tr>\n",
       "      <th>8</th>\n",
       "      <td>Commander's Palace</td>\n",
       "      <td>New Orleans</td>\n",
       "      <td>LA</td>\n",
       "      <td>4969</td>\n",
       "      <td>4.29</td>\n",
       "    </tr>\n",
       "    <tr>\n",
       "      <th>9</th>\n",
       "      <td>Los Agaves</td>\n",
       "      <td>Santa Barbara</td>\n",
       "      <td>CA</td>\n",
       "      <td>4718</td>\n",
       "      <td>4.44</td>\n",
       "    </tr>\n",
       "    <tr>\n",
       "      <th>10</th>\n",
       "      <td>Luke</td>\n",
       "      <td>New Orleans</td>\n",
       "      <td>LA</td>\n",
       "      <td>4661</td>\n",
       "      <td>4.18</td>\n",
       "    </tr>\n",
       "    <tr>\n",
       "      <th>11</th>\n",
       "      <td>Cochon</td>\n",
       "      <td>New Orleans</td>\n",
       "      <td>LA</td>\n",
       "      <td>4480</td>\n",
       "      <td>4.19</td>\n",
       "    </tr>\n",
       "    <tr>\n",
       "      <th>12</th>\n",
       "      <td>Felix's Restaurant &amp; Oyster Bar</td>\n",
       "      <td>New Orleans</td>\n",
       "      <td>LA</td>\n",
       "      <td>4300</td>\n",
       "      <td>3.93</td>\n",
       "    </tr>\n",
       "    <tr>\n",
       "      <th>13</th>\n",
       "      <td>Pat's King of Steaks</td>\n",
       "      <td>Philadelphia</td>\n",
       "      <td>PA</td>\n",
       "      <td>4293</td>\n",
       "      <td>3.24</td>\n",
       "    </tr>\n",
       "    <tr>\n",
       "      <th>14</th>\n",
       "      <td>Biscuit Love: Gulch</td>\n",
       "      <td>Nashville</td>\n",
       "      <td>TN</td>\n",
       "      <td>4247</td>\n",
       "      <td>4.17</td>\n",
       "    </tr>\n",
       "    <tr>\n",
       "      <th>15</th>\n",
       "      <td>Pappy's Smokehouse</td>\n",
       "      <td>Saint Louis</td>\n",
       "      <td>MO</td>\n",
       "      <td>4093</td>\n",
       "      <td>4.47</td>\n",
       "    </tr>\n",
       "    <tr>\n",
       "      <th>16</th>\n",
       "      <td>Gumbo Shop</td>\n",
       "      <td>New Orleans</td>\n",
       "      <td>LA</td>\n",
       "      <td>3971</td>\n",
       "      <td>3.92</td>\n",
       "    </tr>\n",
       "    <tr>\n",
       "      <th>17</th>\n",
       "      <td>Cochon Butcher</td>\n",
       "      <td>New Orleans</td>\n",
       "      <td>LA</td>\n",
       "      <td>3917</td>\n",
       "      <td>4.51</td>\n",
       "    </tr>\n",
       "    <tr>\n",
       "      <th>18</th>\n",
       "      <td>Sabrina's Café</td>\n",
       "      <td>Philadelphia</td>\n",
       "      <td>PA</td>\n",
       "      <td>3815</td>\n",
       "      <td>4.14</td>\n",
       "    </tr>\n",
       "    <tr>\n",
       "      <th>19</th>\n",
       "      <td>Grand Sierra Resort and Casino</td>\n",
       "      <td>Reno</td>\n",
       "      <td>NV</td>\n",
       "      <td>3634</td>\n",
       "      <td>2.98</td>\n",
       "    </tr>\n",
       "  </tbody>\n",
       "</table>\n",
       "</div>"
      ],
      "text/plain": [
       "                                  NAME           CITY STATE  REVIEW_COUNT  \\\n",
       "0                    Acme Oyster House    New Orleans    LA          7673   \n",
       "1                         Oceana Grill    New Orleans    LA          7516   \n",
       "2   Hattie B’s Hot Chicken - Nashville      Nashville    TN          6160   \n",
       "3              Reading Terminal Market   Philadelphia    PA          5778   \n",
       "4                    Ruby Slipper Cafe    New Orleans    LA          5523   \n",
       "5           Ruby Slipper - New Orleans    New Orleans    LA          5264   \n",
       "6                  Mother's Restaurant    New Orleans    LA          5254   \n",
       "7                          Royal House    New Orleans    LA          5146   \n",
       "8                   Commander's Palace    New Orleans    LA          4969   \n",
       "9                           Los Agaves  Santa Barbara    CA          4718   \n",
       "10                                Luke    New Orleans    LA          4661   \n",
       "11                              Cochon    New Orleans    LA          4480   \n",
       "12     Felix's Restaurant & Oyster Bar    New Orleans    LA          4300   \n",
       "13                Pat's King of Steaks   Philadelphia    PA          4293   \n",
       "14                 Biscuit Love: Gulch      Nashville    TN          4247   \n",
       "15                  Pappy's Smokehouse    Saint Louis    MO          4093   \n",
       "16                          Gumbo Shop    New Orleans    LA          3971   \n",
       "17                      Cochon Butcher    New Orleans    LA          3917   \n",
       "18                      Sabrina's Café   Philadelphia    PA          3815   \n",
       "19      Grand Sierra Resort and Casino           Reno    NV          3634   \n",
       "\n",
       "   AVG_STARS  \n",
       "0       4.12  \n",
       "1       4.15  \n",
       "2       4.45  \n",
       "3       4.61  \n",
       "4       4.21  \n",
       "5       4.29  \n",
       "6       3.44  \n",
       "7       3.79  \n",
       "8       4.29  \n",
       "9       4.44  \n",
       "10      4.18  \n",
       "11      4.19  \n",
       "12      3.93  \n",
       "13      3.24  \n",
       "14      4.17  \n",
       "15      4.47  \n",
       "16      3.92  \n",
       "17      4.51  \n",
       "18      4.14  \n",
       "19      2.98  "
      ]
     },
     "metadata": {},
     "output_type": "display_data"
    }
   ],
   "source": [
    "# Most reviewed businesses\n",
    "df = cur.execute('''\n",
    "                SELECT yb.name, yb.city, yb.state, COUNT(yr.review_id) AS review_count, ROUND(AVG(yr.stars), 2) AS avg_rating\n",
    "                FROM yelp_reviews yr\n",
    "                JOIN yelp_businesses yb\n",
    "                ON yr.business_id = yb.business_id\n",
    "                GROUP BY yb.name, yb.city, yb.state\n",
    "                ORDER BY COUNT(yr.review_id) DESC\n",
    "                LIMIT 20;\n",
    "                 ''').fetch_pandas_all()\n",
    "\n",
    "display(df)"
   ]
  },
  {
   "cell_type": "markdown",
   "id": "939f5ccd",
   "metadata": {},
   "source": [
    "## Users"
   ]
  },
  {
   "cell_type": "code",
   "execution_count": 21,
   "id": "e69e668e",
   "metadata": {},
   "outputs": [
    {
     "data": {
      "text/html": [
       "<div>\n",
       "<style scoped>\n",
       "    .dataframe tbody tr th:only-of-type {\n",
       "        vertical-align: middle;\n",
       "    }\n",
       "\n",
       "    .dataframe tbody tr th {\n",
       "        vertical-align: top;\n",
       "    }\n",
       "\n",
       "    .dataframe thead th {\n",
       "        text-align: right;\n",
       "    }\n",
       "</style>\n",
       "<table border=\"1\" class=\"dataframe\">\n",
       "  <thead>\n",
       "    <tr style=\"text-align: right;\">\n",
       "      <th></th>\n",
       "      <th>REGISTERED_USERS</th>\n",
       "    </tr>\n",
       "  </thead>\n",
       "  <tbody>\n",
       "    <tr>\n",
       "      <th>0</th>\n",
       "      <td>1987897</td>\n",
       "    </tr>\n",
       "  </tbody>\n",
       "</table>\n",
       "</div>"
      ],
      "text/plain": [
       "   REGISTERED_USERS\n",
       "0           1987897"
      ]
     },
     "metadata": {},
     "output_type": "display_data"
    }
   ],
   "source": [
    "# Get distinct number of users\n",
    "df = cur.execute('''\n",
    "                SELECT COUNT(*) AS registered_users\n",
    "                FROM yelp_users;\n",
    "                 ''').fetch_pandas_all()\n",
    "\n",
    "display(df)"
   ]
  },
  {
   "cell_type": "code",
   "execution_count": null,
   "id": "cee56656",
   "metadata": {},
   "outputs": [
    {
     "data": {
      "text/html": [
       "<div>\n",
       "<style scoped>\n",
       "    .dataframe tbody tr th:only-of-type {\n",
       "        vertical-align: middle;\n",
       "    }\n",
       "\n",
       "    .dataframe tbody tr th {\n",
       "        vertical-align: top;\n",
       "    }\n",
       "\n",
       "    .dataframe thead th {\n",
       "        text-align: right;\n",
       "    }\n",
       "</style>\n",
       "<table border=\"1\" class=\"dataframe\">\n",
       "  <thead>\n",
       "    <tr style=\"text-align: right;\">\n",
       "      <th></th>\n",
       "      <th>REVIEWERS</th>\n",
       "    </tr>\n",
       "  </thead>\n",
       "  <tbody>\n",
       "    <tr>\n",
       "      <th>0</th>\n",
       "      <td>1987843</td>\n",
       "    </tr>\n",
       "  </tbody>\n",
       "</table>\n",
       "</div>"
      ],
      "text/plain": [
       "   REVIEWERS\n",
       "0    1987843"
      ]
     },
     "metadata": {},
     "output_type": "display_data"
    }
   ],
   "source": [
    "# Get number of users with at least 1 review\n",
    "df = cur.execute('''\n",
    "                SELECT COUNT(user_id) AS reviewers\n",
    "                FROM yelp_users\n",
    "                WHERE review_count >= 1;\n",
    "                 ''').fetch_pandas_all()\n",
    "\n",
    "display(df)"
   ]
  },
  {
   "cell_type": "code",
   "execution_count": 34,
   "id": "37ece815",
   "metadata": {},
   "outputs": [
    {
     "data": {
      "text/html": [
       "<div>\n",
       "<style scoped>\n",
       "    .dataframe tbody tr th:only-of-type {\n",
       "        vertical-align: middle;\n",
       "    }\n",
       "\n",
       "    .dataframe tbody tr th {\n",
       "        vertical-align: top;\n",
       "    }\n",
       "\n",
       "    .dataframe thead th {\n",
       "        text-align: right;\n",
       "    }\n",
       "</style>\n",
       "<table border=\"1\" class=\"dataframe\">\n",
       "  <thead>\n",
       "    <tr style=\"text-align: right;\">\n",
       "      <th></th>\n",
       "      <th>HIGHLY_ACTIVE_USERS</th>\n",
       "    </tr>\n",
       "  </thead>\n",
       "  <tbody>\n",
       "    <tr>\n",
       "      <th>0</th>\n",
       "      <td>374650</td>\n",
       "    </tr>\n",
       "  </tbody>\n",
       "</table>\n",
       "</div>"
      ],
      "text/plain": [
       "   HIGHLY_ACTIVE_USERS\n",
       "0               374650"
      ]
     },
     "metadata": {},
     "output_type": "display_data"
    }
   ],
   "source": [
    "# Get number of users with more reviews than average\n",
    "df = cur.execute('''\n",
    "                SELECT COUNT(user_id) as highly_active_users\n",
    "                FROM yelp_users\n",
    "                WHERE review_count >= (\n",
    "                SELECT ROUND(AVG(review_count), 2) AS avg_reviews\n",
    "                FROM yelp_users\n",
    "                );\n",
    "                 ''').fetch_pandas_all()\n",
    "\n",
    "display(df)"
   ]
  },
  {
   "cell_type": "code",
   "execution_count": null,
   "id": "4effc978",
   "metadata": {},
   "outputs": [
    {
     "data": {
      "text/html": [
       "<div>\n",
       "<style scoped>\n",
       "    .dataframe tbody tr th:only-of-type {\n",
       "        vertical-align: middle;\n",
       "    }\n",
       "\n",
       "    .dataframe tbody tr th {\n",
       "        vertical-align: top;\n",
       "    }\n",
       "\n",
       "    .dataframe thead th {\n",
       "        text-align: right;\n",
       "    }\n",
       "</style>\n",
       "<table border=\"1\" class=\"dataframe\">\n",
       "  <thead>\n",
       "    <tr style=\"text-align: right;\">\n",
       "      <th></th>\n",
       "      <th>TIPPERS</th>\n",
       "    </tr>\n",
       "  </thead>\n",
       "  <tbody>\n",
       "    <tr>\n",
       "      <th>0</th>\n",
       "      <td>301758</td>\n",
       "    </tr>\n",
       "  </tbody>\n",
       "</table>\n",
       "</div>"
      ],
      "text/plain": [
       "   TIPPERS\n",
       "0   301758"
      ]
     },
     "metadata": {},
     "output_type": "display_data"
    }
   ],
   "source": [
    "# Get number of users with at least one tip\n",
    "df = cur.execute('''\n",
    "                SELECT COUNT(user_id) AS tippers\n",
    "                FROM yelp_tips;\n",
    "                 ''').fetch_pandas_all()\n",
    "\n",
    "display(df)"
   ]
  },
  {
   "cell_type": "code",
   "execution_count": null,
   "id": "d6083ca9",
   "metadata": {},
   "outputs": [
    {
     "data": {
      "text/html": [
       "<div>\n",
       "<style scoped>\n",
       "    .dataframe tbody tr th:only-of-type {\n",
       "        vertical-align: middle;\n",
       "    }\n",
       "\n",
       "    .dataframe tbody tr th {\n",
       "        vertical-align: top;\n",
       "    }\n",
       "\n",
       "    .dataframe thead th {\n",
       "        text-align: right;\n",
       "    }\n",
       "</style>\n",
       "<table border=\"1\" class=\"dataframe\">\n",
       "  <thead>\n",
       "    <tr style=\"text-align: right;\">\n",
       "      <th></th>\n",
       "      <th>INFLUENTIAL_USERS</th>\n",
       "    </tr>\n",
       "  </thead>\n",
       "  <tbody>\n",
       "    <tr>\n",
       "      <th>0</th>\n",
       "      <td>210208</td>\n",
       "    </tr>\n",
       "  </tbody>\n",
       "</table>\n",
       "</div>"
      ],
      "text/plain": [
       "   INFLUENTIAL_USERS\n",
       "0             210208"
      ]
     },
     "metadata": {},
     "output_type": "display_data"
    }
   ],
   "source": [
    "# Get number of users with more fans than average\n",
    "df = cur.execute('''\n",
    "                SELECT COUNT(user_id) as influential_users\n",
    "                FROM yelp_users\n",
    "                WHERE fans >= (\n",
    "                SELECT ROUND(AVG(fans), 2) AS avg_fans\n",
    "                FROM yelp_users\n",
    "                );\n",
    "                 ''').fetch_pandas_all()\n",
    "\n",
    "display(df)"
   ]
  },
  {
   "cell_type": "code",
   "execution_count": 30,
   "id": "16b44a9c",
   "metadata": {},
   "outputs": [
    {
     "data": {
      "text/html": [
       "<div>\n",
       "<style scoped>\n",
       "    .dataframe tbody tr th:only-of-type {\n",
       "        vertical-align: middle;\n",
       "    }\n",
       "\n",
       "    .dataframe tbody tr th {\n",
       "        vertical-align: top;\n",
       "    }\n",
       "\n",
       "    .dataframe thead th {\n",
       "        text-align: right;\n",
       "    }\n",
       "</style>\n",
       "<table border=\"1\" class=\"dataframe\">\n",
       "  <thead>\n",
       "    <tr style=\"text-align: right;\">\n",
       "      <th></th>\n",
       "      <th>ELITE_USERS</th>\n",
       "    </tr>\n",
       "  </thead>\n",
       "  <tbody>\n",
       "    <tr>\n",
       "      <th>0</th>\n",
       "      <td>91198</td>\n",
       "    </tr>\n",
       "  </tbody>\n",
       "</table>\n",
       "</div>"
      ],
      "text/plain": [
       "   ELITE_USERS\n",
       "0        91198"
      ]
     },
     "metadata": {},
     "output_type": "display_data"
    }
   ],
   "source": [
    "# Get number of users with at least one year of elite status\n",
    "df = cur.execute('''\n",
    "                SELECT COUNT(user_id) AS elite_users\n",
    "                FROM yelp_users\n",
    "                WHERE elite != '';\n",
    "                 ''').fetch_pandas_all()\n",
    "\n",
    "display(df)"
   ]
  },
  {
   "cell_type": "code",
   "execution_count": 41,
   "id": "6bbd198d",
   "metadata": {},
   "outputs": [
    {
     "data": {
      "text/html": [
       "<div>\n",
       "<style scoped>\n",
       "    .dataframe tbody tr th:only-of-type {\n",
       "        vertical-align: middle;\n",
       "    }\n",
       "\n",
       "    .dataframe tbody tr th {\n",
       "        vertical-align: top;\n",
       "    }\n",
       "\n",
       "    .dataframe thead th {\n",
       "        text-align: right;\n",
       "    }\n",
       "</style>\n",
       "<table border=\"1\" class=\"dataframe\">\n",
       "  <thead>\n",
       "    <tr style=\"text-align: right;\">\n",
       "      <th></th>\n",
       "      <th>NEW_USERS</th>\n",
       "    </tr>\n",
       "  </thead>\n",
       "  <tbody>\n",
       "    <tr>\n",
       "      <th>0</th>\n",
       "      <td>43267</td>\n",
       "    </tr>\n",
       "  </tbody>\n",
       "</table>\n",
       "</div>"
      ],
      "text/plain": [
       "   NEW_USERS\n",
       "0      43267"
      ]
     },
     "metadata": {},
     "output_type": "display_data"
    }
   ],
   "source": [
    "# Get number of users with an account created in the the latest year of the database\n",
    "df = cur.execute('''\n",
    "                SELECT COUNT(user_id) AS new_users\n",
    "                FROM yelp_users\n",
    "                WHERE EXTRACT(year from yelping_since) >= 2021;\n",
    "                 ''').fetch_pandas_all()\n",
    "\n",
    "display(df)"
   ]
  },
  {
   "cell_type": "code",
   "execution_count": 98,
   "id": "4fd74e6d",
   "metadata": {},
   "outputs": [
    {
     "data": {
      "text/html": [
       "<div>\n",
       "<style scoped>\n",
       "    .dataframe tbody tr th:only-of-type {\n",
       "        vertical-align: middle;\n",
       "    }\n",
       "\n",
       "    .dataframe tbody tr th {\n",
       "        vertical-align: top;\n",
       "    }\n",
       "\n",
       "    .dataframe thead th {\n",
       "        text-align: right;\n",
       "    }\n",
       "</style>\n",
       "<table border=\"1\" class=\"dataframe\">\n",
       "  <thead>\n",
       "    <tr style=\"text-align: right;\">\n",
       "      <th></th>\n",
       "      <th>USER_TYPE</th>\n",
       "      <th>NUMBER_OF_USERS</th>\n",
       "      <th>PCT_OF_USERS</th>\n",
       "    </tr>\n",
       "  </thead>\n",
       "  <tbody>\n",
       "    <tr>\n",
       "      <th>0</th>\n",
       "      <td>Registered Users</td>\n",
       "      <td>1987897</td>\n",
       "      <td>100.000</td>\n",
       "    </tr>\n",
       "    <tr>\n",
       "      <th>1</th>\n",
       "      <td>Reviewers</td>\n",
       "      <td>1987843</td>\n",
       "      <td>99.997</td>\n",
       "    </tr>\n",
       "    <tr>\n",
       "      <th>2</th>\n",
       "      <td>Tippers</td>\n",
       "      <td>908915</td>\n",
       "      <td>45.722</td>\n",
       "    </tr>\n",
       "    <tr>\n",
       "      <th>3</th>\n",
       "      <td>Highly Active Reviewers</td>\n",
       "      <td>374650</td>\n",
       "      <td>18.847</td>\n",
       "    </tr>\n",
       "    <tr>\n",
       "      <th>4</th>\n",
       "      <td>Influential Users</td>\n",
       "      <td>210208</td>\n",
       "      <td>10.574</td>\n",
       "    </tr>\n",
       "    <tr>\n",
       "      <th>5</th>\n",
       "      <td>Elite Users</td>\n",
       "      <td>91198</td>\n",
       "      <td>4.588</td>\n",
       "    </tr>\n",
       "    <tr>\n",
       "      <th>6</th>\n",
       "      <td>New Users</td>\n",
       "      <td>43267</td>\n",
       "      <td>2.177</td>\n",
       "    </tr>\n",
       "  </tbody>\n",
       "</table>\n",
       "</div>"
      ],
      "text/plain": [
       "                 USER_TYPE  NUMBER_OF_USERS PCT_OF_USERS\n",
       "0         Registered Users          1987897      100.000\n",
       "1                Reviewers          1987843       99.997\n",
       "2                  Tippers           908915       45.722\n",
       "3  Highly Active Reviewers           374650       18.847\n",
       "4        Influential Users           210208       10.574\n",
       "5              Elite Users            91198        4.588\n",
       "6                New Users            43267        2.177"
      ]
     },
     "metadata": {},
     "output_type": "display_data"
    },
    {
     "data": {
      "application/vnd.plotly.v1+json": {
       "config": {
        "plotlyServerURL": "https://plot.ly"
       },
       "data": [
        {
         "marker": {
          "color": [
           "#1f77b4",
           "#ff7f0e",
           "#2ca02c",
           "#d62728",
           "#9467bd",
           "#8c564b",
           "#e377c2"
          ]
         },
         "textfont": {
          "color": "black",
          "size": 14
         },
         "textinfo": "value+percent initial",
         "textposition": "outside",
         "type": "funnel",
         "x": {
          "bdata": "OVUeAANVHgBz3g0AercFACA1AwA+ZAEAA6kAAA==",
          "dtype": "i4"
         },
         "y": [
          "Registered Users",
          "Reviewers",
          "Tippers",
          "Highly Active Reviewers",
          "Influential Users",
          "Elite Users",
          "New Users"
         ]
        }
       ],
       "layout": {
        "template": {
         "data": {
          "bar": [
           {
            "error_x": {
             "color": "#2a3f5f"
            },
            "error_y": {
             "color": "#2a3f5f"
            },
            "marker": {
             "line": {
              "color": "#E5ECF6",
              "width": 0.5
             },
             "pattern": {
              "fillmode": "overlay",
              "size": 10,
              "solidity": 0.2
             }
            },
            "type": "bar"
           }
          ],
          "barpolar": [
           {
            "marker": {
             "line": {
              "color": "#E5ECF6",
              "width": 0.5
             },
             "pattern": {
              "fillmode": "overlay",
              "size": 10,
              "solidity": 0.2
             }
            },
            "type": "barpolar"
           }
          ],
          "carpet": [
           {
            "aaxis": {
             "endlinecolor": "#2a3f5f",
             "gridcolor": "white",
             "linecolor": "white",
             "minorgridcolor": "white",
             "startlinecolor": "#2a3f5f"
            },
            "baxis": {
             "endlinecolor": "#2a3f5f",
             "gridcolor": "white",
             "linecolor": "white",
             "minorgridcolor": "white",
             "startlinecolor": "#2a3f5f"
            },
            "type": "carpet"
           }
          ],
          "choropleth": [
           {
            "colorbar": {
             "outlinewidth": 0,
             "ticks": ""
            },
            "type": "choropleth"
           }
          ],
          "contour": [
           {
            "colorbar": {
             "outlinewidth": 0,
             "ticks": ""
            },
            "colorscale": [
             [
              0,
              "#0d0887"
             ],
             [
              0.1111111111111111,
              "#46039f"
             ],
             [
              0.2222222222222222,
              "#7201a8"
             ],
             [
              0.3333333333333333,
              "#9c179e"
             ],
             [
              0.4444444444444444,
              "#bd3786"
             ],
             [
              0.5555555555555556,
              "#d8576b"
             ],
             [
              0.6666666666666666,
              "#ed7953"
             ],
             [
              0.7777777777777778,
              "#fb9f3a"
             ],
             [
              0.8888888888888888,
              "#fdca26"
             ],
             [
              1,
              "#f0f921"
             ]
            ],
            "type": "contour"
           }
          ],
          "contourcarpet": [
           {
            "colorbar": {
             "outlinewidth": 0,
             "ticks": ""
            },
            "type": "contourcarpet"
           }
          ],
          "heatmap": [
           {
            "colorbar": {
             "outlinewidth": 0,
             "ticks": ""
            },
            "colorscale": [
             [
              0,
              "#0d0887"
             ],
             [
              0.1111111111111111,
              "#46039f"
             ],
             [
              0.2222222222222222,
              "#7201a8"
             ],
             [
              0.3333333333333333,
              "#9c179e"
             ],
             [
              0.4444444444444444,
              "#bd3786"
             ],
             [
              0.5555555555555556,
              "#d8576b"
             ],
             [
              0.6666666666666666,
              "#ed7953"
             ],
             [
              0.7777777777777778,
              "#fb9f3a"
             ],
             [
              0.8888888888888888,
              "#fdca26"
             ],
             [
              1,
              "#f0f921"
             ]
            ],
            "type": "heatmap"
           }
          ],
          "histogram": [
           {
            "marker": {
             "pattern": {
              "fillmode": "overlay",
              "size": 10,
              "solidity": 0.2
             }
            },
            "type": "histogram"
           }
          ],
          "histogram2d": [
           {
            "colorbar": {
             "outlinewidth": 0,
             "ticks": ""
            },
            "colorscale": [
             [
              0,
              "#0d0887"
             ],
             [
              0.1111111111111111,
              "#46039f"
             ],
             [
              0.2222222222222222,
              "#7201a8"
             ],
             [
              0.3333333333333333,
              "#9c179e"
             ],
             [
              0.4444444444444444,
              "#bd3786"
             ],
             [
              0.5555555555555556,
              "#d8576b"
             ],
             [
              0.6666666666666666,
              "#ed7953"
             ],
             [
              0.7777777777777778,
              "#fb9f3a"
             ],
             [
              0.8888888888888888,
              "#fdca26"
             ],
             [
              1,
              "#f0f921"
             ]
            ],
            "type": "histogram2d"
           }
          ],
          "histogram2dcontour": [
           {
            "colorbar": {
             "outlinewidth": 0,
             "ticks": ""
            },
            "colorscale": [
             [
              0,
              "#0d0887"
             ],
             [
              0.1111111111111111,
              "#46039f"
             ],
             [
              0.2222222222222222,
              "#7201a8"
             ],
             [
              0.3333333333333333,
              "#9c179e"
             ],
             [
              0.4444444444444444,
              "#bd3786"
             ],
             [
              0.5555555555555556,
              "#d8576b"
             ],
             [
              0.6666666666666666,
              "#ed7953"
             ],
             [
              0.7777777777777778,
              "#fb9f3a"
             ],
             [
              0.8888888888888888,
              "#fdca26"
             ],
             [
              1,
              "#f0f921"
             ]
            ],
            "type": "histogram2dcontour"
           }
          ],
          "mesh3d": [
           {
            "colorbar": {
             "outlinewidth": 0,
             "ticks": ""
            },
            "type": "mesh3d"
           }
          ],
          "parcoords": [
           {
            "line": {
             "colorbar": {
              "outlinewidth": 0,
              "ticks": ""
             }
            },
            "type": "parcoords"
           }
          ],
          "pie": [
           {
            "automargin": true,
            "type": "pie"
           }
          ],
          "scatter": [
           {
            "fillpattern": {
             "fillmode": "overlay",
             "size": 10,
             "solidity": 0.2
            },
            "type": "scatter"
           }
          ],
          "scatter3d": [
           {
            "line": {
             "colorbar": {
              "outlinewidth": 0,
              "ticks": ""
             }
            },
            "marker": {
             "colorbar": {
              "outlinewidth": 0,
              "ticks": ""
             }
            },
            "type": "scatter3d"
           }
          ],
          "scattercarpet": [
           {
            "marker": {
             "colorbar": {
              "outlinewidth": 0,
              "ticks": ""
             }
            },
            "type": "scattercarpet"
           }
          ],
          "scattergeo": [
           {
            "marker": {
             "colorbar": {
              "outlinewidth": 0,
              "ticks": ""
             }
            },
            "type": "scattergeo"
           }
          ],
          "scattergl": [
           {
            "marker": {
             "colorbar": {
              "outlinewidth": 0,
              "ticks": ""
             }
            },
            "type": "scattergl"
           }
          ],
          "scattermap": [
           {
            "marker": {
             "colorbar": {
              "outlinewidth": 0,
              "ticks": ""
             }
            },
            "type": "scattermap"
           }
          ],
          "scattermapbox": [
           {
            "marker": {
             "colorbar": {
              "outlinewidth": 0,
              "ticks": ""
             }
            },
            "type": "scattermapbox"
           }
          ],
          "scatterpolar": [
           {
            "marker": {
             "colorbar": {
              "outlinewidth": 0,
              "ticks": ""
             }
            },
            "type": "scatterpolar"
           }
          ],
          "scatterpolargl": [
           {
            "marker": {
             "colorbar": {
              "outlinewidth": 0,
              "ticks": ""
             }
            },
            "type": "scatterpolargl"
           }
          ],
          "scatterternary": [
           {
            "marker": {
             "colorbar": {
              "outlinewidth": 0,
              "ticks": ""
             }
            },
            "type": "scatterternary"
           }
          ],
          "surface": [
           {
            "colorbar": {
             "outlinewidth": 0,
             "ticks": ""
            },
            "colorscale": [
             [
              0,
              "#0d0887"
             ],
             [
              0.1111111111111111,
              "#46039f"
             ],
             [
              0.2222222222222222,
              "#7201a8"
             ],
             [
              0.3333333333333333,
              "#9c179e"
             ],
             [
              0.4444444444444444,
              "#bd3786"
             ],
             [
              0.5555555555555556,
              "#d8576b"
             ],
             [
              0.6666666666666666,
              "#ed7953"
             ],
             [
              0.7777777777777778,
              "#fb9f3a"
             ],
             [
              0.8888888888888888,
              "#fdca26"
             ],
             [
              1,
              "#f0f921"
             ]
            ],
            "type": "surface"
           }
          ],
          "table": [
           {
            "cells": {
             "fill": {
              "color": "#EBF0F8"
             },
             "line": {
              "color": "white"
             }
            },
            "header": {
             "fill": {
              "color": "#C8D4E3"
             },
             "line": {
              "color": "white"
             }
            },
            "type": "table"
           }
          ]
         },
         "layout": {
          "annotationdefaults": {
           "arrowcolor": "#2a3f5f",
           "arrowhead": 0,
           "arrowwidth": 1
          },
          "autotypenumbers": "strict",
          "coloraxis": {
           "colorbar": {
            "outlinewidth": 0,
            "ticks": ""
           }
          },
          "colorscale": {
           "diverging": [
            [
             0,
             "#8e0152"
            ],
            [
             0.1,
             "#c51b7d"
            ],
            [
             0.2,
             "#de77ae"
            ],
            [
             0.3,
             "#f1b6da"
            ],
            [
             0.4,
             "#fde0ef"
            ],
            [
             0.5,
             "#f7f7f7"
            ],
            [
             0.6,
             "#e6f5d0"
            ],
            [
             0.7,
             "#b8e186"
            ],
            [
             0.8,
             "#7fbc41"
            ],
            [
             0.9,
             "#4d9221"
            ],
            [
             1,
             "#276419"
            ]
           ],
           "sequential": [
            [
             0,
             "#0d0887"
            ],
            [
             0.1111111111111111,
             "#46039f"
            ],
            [
             0.2222222222222222,
             "#7201a8"
            ],
            [
             0.3333333333333333,
             "#9c179e"
            ],
            [
             0.4444444444444444,
             "#bd3786"
            ],
            [
             0.5555555555555556,
             "#d8576b"
            ],
            [
             0.6666666666666666,
             "#ed7953"
            ],
            [
             0.7777777777777778,
             "#fb9f3a"
            ],
            [
             0.8888888888888888,
             "#fdca26"
            ],
            [
             1,
             "#f0f921"
            ]
           ],
           "sequentialminus": [
            [
             0,
             "#0d0887"
            ],
            [
             0.1111111111111111,
             "#46039f"
            ],
            [
             0.2222222222222222,
             "#7201a8"
            ],
            [
             0.3333333333333333,
             "#9c179e"
            ],
            [
             0.4444444444444444,
             "#bd3786"
            ],
            [
             0.5555555555555556,
             "#d8576b"
            ],
            [
             0.6666666666666666,
             "#ed7953"
            ],
            [
             0.7777777777777778,
             "#fb9f3a"
            ],
            [
             0.8888888888888888,
             "#fdca26"
            ],
            [
             1,
             "#f0f921"
            ]
           ]
          },
          "colorway": [
           "#636efa",
           "#EF553B",
           "#00cc96",
           "#ab63fa",
           "#FFA15A",
           "#19d3f3",
           "#FF6692",
           "#B6E880",
           "#FF97FF",
           "#FECB52"
          ],
          "font": {
           "color": "#2a3f5f"
          },
          "geo": {
           "bgcolor": "white",
           "lakecolor": "white",
           "landcolor": "#E5ECF6",
           "showlakes": true,
           "showland": true,
           "subunitcolor": "white"
          },
          "hoverlabel": {
           "align": "left"
          },
          "hovermode": "closest",
          "mapbox": {
           "style": "light"
          },
          "paper_bgcolor": "white",
          "plot_bgcolor": "#E5ECF6",
          "polar": {
           "angularaxis": {
            "gridcolor": "white",
            "linecolor": "white",
            "ticks": ""
           },
           "bgcolor": "#E5ECF6",
           "radialaxis": {
            "gridcolor": "white",
            "linecolor": "white",
            "ticks": ""
           }
          },
          "scene": {
           "xaxis": {
            "backgroundcolor": "#E5ECF6",
            "gridcolor": "white",
            "gridwidth": 2,
            "linecolor": "white",
            "showbackground": true,
            "ticks": "",
            "zerolinecolor": "white"
           },
           "yaxis": {
            "backgroundcolor": "#E5ECF6",
            "gridcolor": "white",
            "gridwidth": 2,
            "linecolor": "white",
            "showbackground": true,
            "ticks": "",
            "zerolinecolor": "white"
           },
           "zaxis": {
            "backgroundcolor": "#E5ECF6",
            "gridcolor": "white",
            "gridwidth": 2,
            "linecolor": "white",
            "showbackground": true,
            "ticks": "",
            "zerolinecolor": "white"
           }
          },
          "shapedefaults": {
           "line": {
            "color": "#2a3f5f"
           }
          },
          "ternary": {
           "aaxis": {
            "gridcolor": "white",
            "linecolor": "white",
            "ticks": ""
           },
           "baxis": {
            "gridcolor": "white",
            "linecolor": "white",
            "ticks": ""
           },
           "bgcolor": "#E5ECF6",
           "caxis": {
            "gridcolor": "white",
            "linecolor": "white",
            "ticks": ""
           }
          },
          "title": {
           "x": 0.05
          },
          "xaxis": {
           "automargin": true,
           "gridcolor": "white",
           "linecolor": "white",
           "ticks": "",
           "title": {
            "standoff": 15
           },
           "zerolinecolor": "white",
           "zerolinewidth": 2
          },
          "yaxis": {
           "automargin": true,
           "gridcolor": "white",
           "linecolor": "white",
           "ticks": "",
           "title": {
            "standoff": 15
           },
           "zerolinecolor": "white",
           "zerolinewidth": 2
          }
         }
        },
        "title": {
         "text": "User Engagement Funnel"
        }
       }
      }
     },
     "metadata": {},
     "output_type": "display_data"
    }
   ],
   "source": [
    "# Create user engagement funnel\n",
    "df = cur.execute('''\n",
    "                SELECT 'Registered Users' AS User_Type, COUNT(*) AS Number_Of_Users, 100 AS Pct_Of_Users\n",
    "                FROM yelp_users\n",
    "                UNION\n",
    "                SELECT 'Reviewers', COUNT(user_id), ROUND(COUNT(user_id) / (SELECT COUNT(*) FROM yelp_users) * 100, 3)\n",
    "                FROM yelp_users\n",
    "                WHERE review_count >= 1\n",
    "                UNION\n",
    "                SELECT 'Highly Active Reviewers', COUNT(user_id), ROUND(COUNT(user_id) / (SELECT COUNT(*) FROM yelp_users) * 100, 3)\n",
    "                FROM yelp_users\n",
    "                WHERE review_count >= (\n",
    "                SELECT ROUND(AVG(review_count), 2) AS avg_reviews\n",
    "                FROM yelp_users\n",
    "                )\n",
    "                UNION\n",
    "                SELECT 'Tippers', COUNT(user_id), ROUND(COUNT(user_id) / (SELECT COUNT(*) FROM yelp_users) * 100, 3)\n",
    "                FROM yelp_tips\n",
    "                UNION\n",
    "                SELECT 'Influential Users', COUNT(user_id), ROUND(COUNT(user_id) / (SELECT COUNT(*) FROM yelp_users) * 100, 3)\n",
    "                FROM yelp_users\n",
    "                WHERE fans >= (\n",
    "                SELECT ROUND(AVG(fans), 2) AS avg_fans\n",
    "                FROM yelp_users\n",
    "                )\n",
    "                UNION\n",
    "                SELECT 'Elite Users', COUNT(user_id), ROUND(COUNT(user_id) / (SELECT COUNT(*) FROM yelp_users) * 100, 3)\n",
    "                FROM yelp_users\n",
    "                WHERE elite != ''\n",
    "                UNION\n",
    "                SELECT 'New Users', COUNT(user_id), ROUND(COUNT(user_id) / (SELECT COUNT(*) FROM yelp_users) * 100, 3)\n",
    "                FROM yelp_users\n",
    "                WHERE EXTRACT(year from yelping_since) >= 2021\n",
    "                ORDER BY 2 DESC\n",
    "                ;\n",
    "                 ''').fetch_pandas_all()\n",
    "\n",
    "display(df)\n",
    "\n",
    "fig = go.Figure(go.Funnel(\n",
    "    y=df['USER_TYPE'].values,\n",
    "    x=df['NUMBER_OF_USERS'].values,\n",
    "    textinfo='value+percent initial',\n",
    "    marker= {\n",
    "        'color': ['#1f77b4','#ff7f0e','#2ca02c','#d62728','#9467bd','#8c564b', '#e377c2']\n",
    "        },\n",
    "    textfont={'color': 'black', 'size': 14},\n",
    "    textposition='outside'\n",
    "    )\n",
    ")\n",
    "fig.update_layout(title_text='User Engagement Funnel')\n",
    "fig.show()\n"
   ]
  },
  {
   "cell_type": "code",
   "execution_count": null,
   "id": "9c56ef0f",
   "metadata": {},
   "outputs": [
    {
     "data": {
      "text/html": [
       "<div>\n",
       "<style scoped>\n",
       "    .dataframe tbody tr th:only-of-type {\n",
       "        vertical-align: middle;\n",
       "    }\n",
       "\n",
       "    .dataframe tbody tr th {\n",
       "        vertical-align: top;\n",
       "    }\n",
       "\n",
       "    .dataframe thead th {\n",
       "        text-align: right;\n",
       "    }\n",
       "</style>\n",
       "<table border=\"1\" class=\"dataframe\">\n",
       "  <thead>\n",
       "    <tr style=\"text-align: right;\">\n",
       "      <th></th>\n",
       "      <th>NAME</th>\n",
       "      <th>STATE</th>\n",
       "      <th>AVG_STARS</th>\n",
       "      <th>TOTAL_REVIEWS</th>\n",
       "      <th>TOTAL_STARS</th>\n",
       "    </tr>\n",
       "  </thead>\n",
       "  <tbody>\n",
       "    <tr>\n",
       "      <th>0</th>\n",
       "      <td>Grit &amp; Tonic Handcrafted</td>\n",
       "      <td>IL</td>\n",
       "      <td>5.00</td>\n",
       "      <td>22</td>\n",
       "      <td>110.00</td>\n",
       "    </tr>\n",
       "    <tr>\n",
       "      <th>1</th>\n",
       "      <td>CP Pinball</td>\n",
       "      <td>IL</td>\n",
       "      <td>5.00</td>\n",
       "      <td>18</td>\n",
       "      <td>90.00</td>\n",
       "    </tr>\n",
       "    <tr>\n",
       "      <th>2</th>\n",
       "      <td>Walton's Ice Cream and More</td>\n",
       "      <td>IL</td>\n",
       "      <td>5.00</td>\n",
       "      <td>13</td>\n",
       "      <td>65.00</td>\n",
       "    </tr>\n",
       "    <tr>\n",
       "      <th>3</th>\n",
       "      <td>Mike's iPhone Repair Service</td>\n",
       "      <td>IL</td>\n",
       "      <td>5.00</td>\n",
       "      <td>12</td>\n",
       "      <td>60.00</td>\n",
       "    </tr>\n",
       "    <tr>\n",
       "      <th>4</th>\n",
       "      <td>Michael Murphy, OD</td>\n",
       "      <td>IL</td>\n",
       "      <td>5.00</td>\n",
       "      <td>12</td>\n",
       "      <td>60.00</td>\n",
       "    </tr>\n",
       "    <tr>\n",
       "      <th>5</th>\n",
       "      <td>CBC Home Inspections</td>\n",
       "      <td>IL</td>\n",
       "      <td>5.00</td>\n",
       "      <td>12</td>\n",
       "      <td>60.00</td>\n",
       "    </tr>\n",
       "    <tr>\n",
       "      <th>6</th>\n",
       "      <td>Eaker's Family Barber Shop</td>\n",
       "      <td>IL</td>\n",
       "      <td>5.00</td>\n",
       "      <td>11</td>\n",
       "      <td>55.00</td>\n",
       "    </tr>\n",
       "    <tr>\n",
       "      <th>7</th>\n",
       "      <td>Post Pack &amp; Ship</td>\n",
       "      <td>IL</td>\n",
       "      <td>5.00</td>\n",
       "      <td>11</td>\n",
       "      <td>55.00</td>\n",
       "    </tr>\n",
       "    <tr>\n",
       "      <th>8</th>\n",
       "      <td>Vintage Wine Bar</td>\n",
       "      <td>IL</td>\n",
       "      <td>5.00</td>\n",
       "      <td>10</td>\n",
       "      <td>50.00</td>\n",
       "    </tr>\n",
       "    <tr>\n",
       "      <th>9</th>\n",
       "      <td>Jacks 66 Auto Repair</td>\n",
       "      <td>IL</td>\n",
       "      <td>5.00</td>\n",
       "      <td>10</td>\n",
       "      <td>50.00</td>\n",
       "    </tr>\n",
       "    <tr>\n",
       "      <th>10</th>\n",
       "      <td>Farmer's Market</td>\n",
       "      <td>IL</td>\n",
       "      <td>5.00</td>\n",
       "      <td>10</td>\n",
       "      <td>50.00</td>\n",
       "    </tr>\n",
       "    <tr>\n",
       "      <th>11</th>\n",
       "      <td>Exactime Watch &amp; Clock</td>\n",
       "      <td>IL</td>\n",
       "      <td>5.00</td>\n",
       "      <td>10</td>\n",
       "      <td>50.00</td>\n",
       "    </tr>\n",
       "    <tr>\n",
       "      <th>12</th>\n",
       "      <td>Performance Eyecare</td>\n",
       "      <td>IL</td>\n",
       "      <td>5.00</td>\n",
       "      <td>9</td>\n",
       "      <td>45.00</td>\n",
       "    </tr>\n",
       "    <tr>\n",
       "      <th>13</th>\n",
       "      <td>Al's Transmission</td>\n",
       "      <td>IL</td>\n",
       "      <td>5.00</td>\n",
       "      <td>9</td>\n",
       "      <td>45.00</td>\n",
       "    </tr>\n",
       "    <tr>\n",
       "      <th>14</th>\n",
       "      <td>Alton Room Escape</td>\n",
       "      <td>IL</td>\n",
       "      <td>5.00</td>\n",
       "      <td>9</td>\n",
       "      <td>45.00</td>\n",
       "    </tr>\n",
       "    <tr>\n",
       "      <th>15</th>\n",
       "      <td>Boarding House Bistro</td>\n",
       "      <td>IL</td>\n",
       "      <td>5.00</td>\n",
       "      <td>9</td>\n",
       "      <td>45.00</td>\n",
       "    </tr>\n",
       "    <tr>\n",
       "      <th>16</th>\n",
       "      <td>Olde World Jewelers</td>\n",
       "      <td>IL</td>\n",
       "      <td>5.00</td>\n",
       "      <td>9</td>\n",
       "      <td>45.00</td>\n",
       "    </tr>\n",
       "    <tr>\n",
       "      <th>17</th>\n",
       "      <td>Conner Photography</td>\n",
       "      <td>IL</td>\n",
       "      <td>5.00</td>\n",
       "      <td>9</td>\n",
       "      <td>45.00</td>\n",
       "    </tr>\n",
       "    <tr>\n",
       "      <th>18</th>\n",
       "      <td>S &amp; L Concessions - Mission Essential Barber Shop</td>\n",
       "      <td>IL</td>\n",
       "      <td>5.00</td>\n",
       "      <td>8</td>\n",
       "      <td>40.00</td>\n",
       "    </tr>\n",
       "    <tr>\n",
       "      <th>19</th>\n",
       "      <td>Casa Maria Express</td>\n",
       "      <td>IL</td>\n",
       "      <td>5.00</td>\n",
       "      <td>8</td>\n",
       "      <td>40.00</td>\n",
       "    </tr>\n",
       "  </tbody>\n",
       "</table>\n",
       "</div>"
      ],
      "text/plain": [
       "                                                 NAME STATE AVG_STARS  \\\n",
       "0                            Grit & Tonic Handcrafted    IL      5.00   \n",
       "1                                          CP Pinball    IL      5.00   \n",
       "2                         Walton's Ice Cream and More    IL      5.00   \n",
       "3                        Mike's iPhone Repair Service    IL      5.00   \n",
       "4                                  Michael Murphy, OD    IL      5.00   \n",
       "5                                CBC Home Inspections    IL      5.00   \n",
       "6                          Eaker's Family Barber Shop    IL      5.00   \n",
       "7                                    Post Pack & Ship    IL      5.00   \n",
       "8                                    Vintage Wine Bar    IL      5.00   \n",
       "9                                Jacks 66 Auto Repair    IL      5.00   \n",
       "10                                    Farmer's Market    IL      5.00   \n",
       "11                             Exactime Watch & Clock    IL      5.00   \n",
       "12                                Performance Eyecare    IL      5.00   \n",
       "13                                  Al's Transmission    IL      5.00   \n",
       "14                                  Alton Room Escape    IL      5.00   \n",
       "15                              Boarding House Bistro    IL      5.00   \n",
       "16                                Olde World Jewelers    IL      5.00   \n",
       "17                                 Conner Photography    IL      5.00   \n",
       "18  S & L Concessions - Mission Essential Barber Shop    IL      5.00   \n",
       "19                                 Casa Maria Express    IL      5.00   \n",
       "\n",
       "    TOTAL_REVIEWS TOTAL_STARS  \n",
       "0              22      110.00  \n",
       "1              18       90.00  \n",
       "2              13       65.00  \n",
       "3              12       60.00  \n",
       "4              12       60.00  \n",
       "5              12       60.00  \n",
       "6              11       55.00  \n",
       "7              11       55.00  \n",
       "8              10       50.00  \n",
       "9              10       50.00  \n",
       "10             10       50.00  \n",
       "11             10       50.00  \n",
       "12              9       45.00  \n",
       "13              9       45.00  \n",
       "14              9       45.00  \n",
       "15              9       45.00  \n",
       "16              9       45.00  \n",
       "17              9       45.00  \n",
       "18              8       40.00  \n",
       "19              8       40.00  "
      ]
     },
     "metadata": {},
     "output_type": "display_data"
    }
   ],
   "source": [
    "# Highest rated businesses for the selected state by average stars and total stars\n",
    "df = cur.execute('''\n",
    "                WITH ranked AS (\n",
    "                SELECT\n",
    "                    yb.name,\n",
    "                    yb.state,\n",
    "                    ROUND(AVG(yr.stars),2) AS avg_rating,\n",
    "                    COUNT(yr.review_id) AS total_reviews\n",
    "                FROM yelp_businesses yb\n",
    "                JOIN yelp_reviews yr\n",
    "                    ON yb.business_id = yr.business_id\n",
    "                WHERE yb.state = 'IL'\n",
    "                GROUP BY 1,2\n",
    "                )\n",
    "                SELECT\n",
    "                    name,\n",
    "                    state,\n",
    "                    avg_rating,\n",
    "                    total_reviews,\n",
    "                    avg_rating * total_reviews AS total_stars\n",
    "                FROM ranked\n",
    "                ORDER BY avg_rating DESC, total_reviews DESC\n",
    "                LIMIT 20;\n",
    "                 ''').fetch_pandas_all()\n",
    "\n",
    "display(df)"
   ]
  },
  {
   "cell_type": "code",
   "execution_count": null,
   "id": "4bea8669",
   "metadata": {},
   "outputs": [
    {
     "data": {
      "text/html": [
       "<div>\n",
       "<style scoped>\n",
       "    .dataframe tbody tr th:only-of-type {\n",
       "        vertical-align: middle;\n",
       "    }\n",
       "\n",
       "    .dataframe tbody tr th {\n",
       "        vertical-align: top;\n",
       "    }\n",
       "\n",
       "    .dataframe thead th {\n",
       "        text-align: right;\n",
       "    }\n",
       "</style>\n",
       "<table border=\"1\" class=\"dataframe\">\n",
       "  <thead>\n",
       "    <tr style=\"text-align: right;\">\n",
       "      <th></th>\n",
       "      <th>NAME</th>\n",
       "      <th>CITY</th>\n",
       "      <th>STATE</th>\n",
       "      <th>AVG_STARS</th>\n",
       "      <th>TOTAL_REVIEWS</th>\n",
       "      <th>TOTAL_STARS</th>\n",
       "    </tr>\n",
       "  </thead>\n",
       "  <tbody>\n",
       "    <tr>\n",
       "      <th>0</th>\n",
       "      <td>Drink &amp; Learn</td>\n",
       "      <td>New Orleans</td>\n",
       "      <td>LA</td>\n",
       "      <td>5.00</td>\n",
       "      <td>90</td>\n",
       "      <td>450.00</td>\n",
       "    </tr>\n",
       "    <tr>\n",
       "      <th>1</th>\n",
       "      <td>New Orleans Streetwalkers Tours</td>\n",
       "      <td>New Orleans</td>\n",
       "      <td>LA</td>\n",
       "      <td>5.00</td>\n",
       "      <td>52</td>\n",
       "      <td>260.00</td>\n",
       "    </tr>\n",
       "    <tr>\n",
       "      <th>2</th>\n",
       "      <td>Hidden History Tours</td>\n",
       "      <td>New Orleans</td>\n",
       "      <td>LA</td>\n",
       "      <td>5.00</td>\n",
       "      <td>42</td>\n",
       "      <td>210.00</td>\n",
       "    </tr>\n",
       "    <tr>\n",
       "      <th>3</th>\n",
       "      <td>Casa Pelican B&amp;B and Cooking School</td>\n",
       "      <td>New Orleans</td>\n",
       "      <td>LA</td>\n",
       "      <td>5.00</td>\n",
       "      <td>42</td>\n",
       "      <td>210.00</td>\n",
       "    </tr>\n",
       "    <tr>\n",
       "      <th>4</th>\n",
       "      <td>Slate Detail</td>\n",
       "      <td>New Orleans</td>\n",
       "      <td>LA</td>\n",
       "      <td>5.00</td>\n",
       "      <td>41</td>\n",
       "      <td>205.00</td>\n",
       "    </tr>\n",
       "    <tr>\n",
       "      <th>5</th>\n",
       "      <td>RachelLauren Massage</td>\n",
       "      <td>New Orleans</td>\n",
       "      <td>LA</td>\n",
       "      <td>5.00</td>\n",
       "      <td>36</td>\n",
       "      <td>180.00</td>\n",
       "    </tr>\n",
       "    <tr>\n",
       "      <th>6</th>\n",
       "      <td>Terrell House</td>\n",
       "      <td>New Orleans</td>\n",
       "      <td>LA</td>\n",
       "      <td>5.00</td>\n",
       "      <td>35</td>\n",
       "      <td>175.00</td>\n",
       "    </tr>\n",
       "    <tr>\n",
       "      <th>7</th>\n",
       "      <td>New Orleans Architecture Tours</td>\n",
       "      <td>New Orleans</td>\n",
       "      <td>LA</td>\n",
       "      <td>5.00</td>\n",
       "      <td>34</td>\n",
       "      <td>170.00</td>\n",
       "    </tr>\n",
       "    <tr>\n",
       "      <th>8</th>\n",
       "      <td>WobbeMassage</td>\n",
       "      <td>New Orleans</td>\n",
       "      <td>LA</td>\n",
       "      <td>5.00</td>\n",
       "      <td>31</td>\n",
       "      <td>155.00</td>\n",
       "    </tr>\n",
       "    <tr>\n",
       "      <th>9</th>\n",
       "      <td>Eversaint Salon</td>\n",
       "      <td>New Orleans</td>\n",
       "      <td>LA</td>\n",
       "      <td>5.00</td>\n",
       "      <td>30</td>\n",
       "      <td>150.00</td>\n",
       "    </tr>\n",
       "    <tr>\n",
       "      <th>10</th>\n",
       "      <td>Kitchen Witch Cookbook</td>\n",
       "      <td>New Orleans</td>\n",
       "      <td>LA</td>\n",
       "      <td>5.00</td>\n",
       "      <td>27</td>\n",
       "      <td>135.00</td>\n",
       "    </tr>\n",
       "    <tr>\n",
       "      <th>11</th>\n",
       "      <td>Yinzer’s Amazing Cheesesteaks</td>\n",
       "      <td>New Orleans</td>\n",
       "      <td>LA</td>\n",
       "      <td>5.00</td>\n",
       "      <td>25</td>\n",
       "      <td>125.00</td>\n",
       "    </tr>\n",
       "    <tr>\n",
       "      <th>12</th>\n",
       "      <td>Dani Benton Photography</td>\n",
       "      <td>New Orleans</td>\n",
       "      <td>LA</td>\n",
       "      <td>5.00</td>\n",
       "      <td>22</td>\n",
       "      <td>110.00</td>\n",
       "    </tr>\n",
       "    <tr>\n",
       "      <th>13</th>\n",
       "      <td>Eduardo Yibrin</td>\n",
       "      <td>New Orleans</td>\n",
       "      <td>LA</td>\n",
       "      <td>5.00</td>\n",
       "      <td>22</td>\n",
       "      <td>110.00</td>\n",
       "    </tr>\n",
       "    <tr>\n",
       "      <th>14</th>\n",
       "      <td>New Orleans Aerial Tours &amp; Flight Training</td>\n",
       "      <td>New Orleans</td>\n",
       "      <td>LA</td>\n",
       "      <td>5.00</td>\n",
       "      <td>21</td>\n",
       "      <td>105.00</td>\n",
       "    </tr>\n",
       "    <tr>\n",
       "      <th>15</th>\n",
       "      <td>The Collective Shop</td>\n",
       "      <td>New Orleans</td>\n",
       "      <td>LA</td>\n",
       "      <td>5.00</td>\n",
       "      <td>20</td>\n",
       "      <td>100.00</td>\n",
       "    </tr>\n",
       "    <tr>\n",
       "      <th>16</th>\n",
       "      <td>Jupiter Salon</td>\n",
       "      <td>New Orleans</td>\n",
       "      <td>LA</td>\n",
       "      <td>5.00</td>\n",
       "      <td>20</td>\n",
       "      <td>100.00</td>\n",
       "    </tr>\n",
       "    <tr>\n",
       "      <th>17</th>\n",
       "      <td>Cypress Fitness</td>\n",
       "      <td>New Orleans</td>\n",
       "      <td>LA</td>\n",
       "      <td>5.00</td>\n",
       "      <td>19</td>\n",
       "      <td>95.00</td>\n",
       "    </tr>\n",
       "    <tr>\n",
       "      <th>18</th>\n",
       "      <td>504 Fitness</td>\n",
       "      <td>New Orleans</td>\n",
       "      <td>LA</td>\n",
       "      <td>5.00</td>\n",
       "      <td>19</td>\n",
       "      <td>95.00</td>\n",
       "    </tr>\n",
       "    <tr>\n",
       "      <th>19</th>\n",
       "      <td>Piety and Desire Chocolate</td>\n",
       "      <td>New Orleans</td>\n",
       "      <td>LA</td>\n",
       "      <td>5.00</td>\n",
       "      <td>19</td>\n",
       "      <td>95.00</td>\n",
       "    </tr>\n",
       "  </tbody>\n",
       "</table>\n",
       "</div>"
      ],
      "text/plain": [
       "                                          NAME         CITY STATE AVG_STARS  \\\n",
       "0                                Drink & Learn  New Orleans    LA      5.00   \n",
       "1              New Orleans Streetwalkers Tours  New Orleans    LA      5.00   \n",
       "2                         Hidden History Tours  New Orleans    LA      5.00   \n",
       "3          Casa Pelican B&B and Cooking School  New Orleans    LA      5.00   \n",
       "4                                 Slate Detail  New Orleans    LA      5.00   \n",
       "5                         RachelLauren Massage  New Orleans    LA      5.00   \n",
       "6                                Terrell House  New Orleans    LA      5.00   \n",
       "7               New Orleans Architecture Tours  New Orleans    LA      5.00   \n",
       "8                                 WobbeMassage  New Orleans    LA      5.00   \n",
       "9                              Eversaint Salon  New Orleans    LA      5.00   \n",
       "10                      Kitchen Witch Cookbook  New Orleans    LA      5.00   \n",
       "11               Yinzer’s Amazing Cheesesteaks  New Orleans    LA      5.00   \n",
       "12                     Dani Benton Photography  New Orleans    LA      5.00   \n",
       "13                              Eduardo Yibrin  New Orleans    LA      5.00   \n",
       "14  New Orleans Aerial Tours & Flight Training  New Orleans    LA      5.00   \n",
       "15                         The Collective Shop  New Orleans    LA      5.00   \n",
       "16                               Jupiter Salon  New Orleans    LA      5.00   \n",
       "17                             Cypress Fitness  New Orleans    LA      5.00   \n",
       "18                                 504 Fitness  New Orleans    LA      5.00   \n",
       "19                  Piety and Desire Chocolate  New Orleans    LA      5.00   \n",
       "\n",
       "    TOTAL_REVIEWS TOTAL_STARS  \n",
       "0              90      450.00  \n",
       "1              52      260.00  \n",
       "2              42      210.00  \n",
       "3              42      210.00  \n",
       "4              41      205.00  \n",
       "5              36      180.00  \n",
       "6              35      175.00  \n",
       "7              34      170.00  \n",
       "8              31      155.00  \n",
       "9              30      150.00  \n",
       "10             27      135.00  \n",
       "11             25      125.00  \n",
       "12             22      110.00  \n",
       "13             22      110.00  \n",
       "14             21      105.00  \n",
       "15             20      100.00  \n",
       "16             20      100.00  \n",
       "17             19       95.00  \n",
       "18             19       95.00  \n",
       "19             19       95.00  "
      ]
     },
     "metadata": {},
     "output_type": "display_data"
    }
   ],
   "source": [
    "# Highest rated businesses for the selected city by average stars and total stars\n",
    "df = cur.execute('''\n",
    "                WITH ranked AS (\n",
    "                SELECT\n",
    "                    yb.name,\n",
    "                    yb.city,\n",
    "                    yb.state,\n",
    "                    ROUND(AVG(yr.stars),2) AS avg_rating,\n",
    "                    COUNT(yr.review_id) AS total_reviews\n",
    "                FROM yelp_businesses yb\n",
    "                JOIN yelp_reviews yr\n",
    "                    ON yb.business_id = yr.business_id\n",
    "                WHERE yb.city = 'New Orleans'\n",
    "                GROUP BY 1, 2, 3\n",
    "                )\n",
    "                SELECT\n",
    "                    name,\n",
    "                    city,\n",
    "                    state,\n",
    "                    avg_rating,\n",
    "                    total_reviews,\n",
    "                    avg_rating * total_reviews AS total_stars\n",
    "                FROM ranked\n",
    "                ORDER BY avg_rating DESC, total_reviews DESC\n",
    "                LIMIT 20;\n",
    "                 ''').fetch_pandas_all()\n",
    "\n",
    "display(df)"
   ]
  },
  {
   "cell_type": "code",
   "execution_count": null,
   "id": "5480008e",
   "metadata": {},
   "outputs": [
    {
     "data": {
      "text/html": [
       "<div>\n",
       "<style scoped>\n",
       "    .dataframe tbody tr th:only-of-type {\n",
       "        vertical-align: middle;\n",
       "    }\n",
       "\n",
       "    .dataframe tbody tr th {\n",
       "        vertical-align: top;\n",
       "    }\n",
       "\n",
       "    .dataframe thead th {\n",
       "        text-align: right;\n",
       "    }\n",
       "</style>\n",
       "<table border=\"1\" class=\"dataframe\">\n",
       "  <thead>\n",
       "    <tr style=\"text-align: right;\">\n",
       "      <th></th>\n",
       "      <th>BUSINESS_STATUS</th>\n",
       "      <th>AVG_STARS</th>\n",
       "    </tr>\n",
       "  </thead>\n",
       "  <tbody>\n",
       "    <tr>\n",
       "      <th>0</th>\n",
       "      <td>Open</td>\n",
       "      <td>3.77</td>\n",
       "    </tr>\n",
       "    <tr>\n",
       "      <th>1</th>\n",
       "      <td>Closed</td>\n",
       "      <td>3.62</td>\n",
       "    </tr>\n",
       "  </tbody>\n",
       "</table>\n",
       "</div>"
      ],
      "text/plain": [
       "  BUSINESS_STATUS AVG_STARS\n",
       "0            Open      3.77\n",
       "1          Closed      3.62"
      ]
     },
     "metadata": {},
     "output_type": "display_data"
    }
   ],
   "source": [
    "# Average rating for closed vs currently operating businesses\n",
    "df = cur.execute('''\n",
    "                SELECT \n",
    "                    'Open' AS business_status, \n",
    "                    ROUND(AVG(yr.stars), 2) as avg_rating\n",
    "                FROM yelp_businesses yb\n",
    "                JOIN yelp_reviews yr\n",
    "                    ON yb.business_id = yr.business_id\n",
    "                WHERE is_open = 1\n",
    "                UNION\n",
    "                SELECT \n",
    "                    'Closed',\n",
    "                    ROUND(AVG(yr.stars), 2) as avg_rating\n",
    "                FROM yelp_businesses yb\n",
    "                JOIN yelp_reviews yr\n",
    "                    ON yb.business_id = yr.business_id\n",
    "                WHERE is_open = 0;\n",
    "                 ''').fetch_pandas_all()\n",
    "\n",
    "display(df)"
   ]
  },
  {
   "cell_type": "code",
   "execution_count": null,
   "id": "768735d7",
   "metadata": {},
   "outputs": [
    {
     "data": {
      "text/html": [
       "<div>\n",
       "<style scoped>\n",
       "    .dataframe tbody tr th:only-of-type {\n",
       "        vertical-align: middle;\n",
       "    }\n",
       "\n",
       "    .dataframe tbody tr th {\n",
       "        vertical-align: top;\n",
       "    }\n",
       "\n",
       "    .dataframe thead th {\n",
       "        text-align: right;\n",
       "    }\n",
       "</style>\n",
       "<table border=\"1\" class=\"dataframe\">\n",
       "  <thead>\n",
       "    <tr style=\"text-align: right;\">\n",
       "      <th></th>\n",
       "      <th>CATEGORY</th>\n",
       "      <th>AVG_OPEN_STARS</th>\n",
       "      <th>AVG_CLOSED_STARS</th>\n",
       "    </tr>\n",
       "  </thead>\n",
       "  <tbody>\n",
       "    <tr>\n",
       "      <th>0</th>\n",
       "      <td>Restaurants</td>\n",
       "      <td>3.83</td>\n",
       "      <td>3.64</td>\n",
       "    </tr>\n",
       "    <tr>\n",
       "      <th>1</th>\n",
       "      <td>Venezuelan</td>\n",
       "      <td>4.38</td>\n",
       "      <td>4.12</td>\n",
       "    </tr>\n",
       "    <tr>\n",
       "      <th>2</th>\n",
       "      <td>Day Spas</td>\n",
       "      <td>3.87</td>\n",
       "      <td>3.61</td>\n",
       "    </tr>\n",
       "    <tr>\n",
       "      <th>3</th>\n",
       "      <td>American (Traditional)</td>\n",
       "      <td>3.71</td>\n",
       "      <td>3.49</td>\n",
       "    </tr>\n",
       "    <tr>\n",
       "      <th>4</th>\n",
       "      <td>Medical Spas</td>\n",
       "      <td>3.99</td>\n",
       "      <td>3.68</td>\n",
       "    </tr>\n",
       "    <tr>\n",
       "      <th>5</th>\n",
       "      <td>Windows Installation</td>\n",
       "      <td>3.36</td>\n",
       "      <td>3.26</td>\n",
       "    </tr>\n",
       "    <tr>\n",
       "      <th>6</th>\n",
       "      <td>Cosmetic Dentists</td>\n",
       "      <td>3.75</td>\n",
       "      <td>3.08</td>\n",
       "    </tr>\n",
       "    <tr>\n",
       "      <th>7</th>\n",
       "      <td>Specialty Food</td>\n",
       "      <td>4.05</td>\n",
       "      <td>3.90</td>\n",
       "    </tr>\n",
       "    <tr>\n",
       "      <th>8</th>\n",
       "      <td>Gluten-Free</td>\n",
       "      <td>4.01</td>\n",
       "      <td>3.82</td>\n",
       "    </tr>\n",
       "    <tr>\n",
       "      <th>9</th>\n",
       "      <td>Transportation</td>\n",
       "      <td>3.18</td>\n",
       "      <td>2.87</td>\n",
       "    </tr>\n",
       "  </tbody>\n",
       "</table>\n",
       "</div>"
      ],
      "text/plain": [
       "                 CATEGORY AVG_OPEN_STARS AVG_CLOSED_STARS\n",
       "0             Restaurants           3.83             3.64\n",
       "1              Venezuelan           4.38             4.12\n",
       "2                Day Spas           3.87             3.61\n",
       "3  American (Traditional)           3.71             3.49\n",
       "4            Medical Spas           3.99             3.68\n",
       "5    Windows Installation           3.36             3.26\n",
       "6       Cosmetic Dentists           3.75             3.08\n",
       "7          Specialty Food           4.05             3.90\n",
       "8             Gluten-Free           4.01             3.82\n",
       "9          Transportation           3.18             2.87"
      ]
     },
     "metadata": {},
     "output_type": "display_data"
    },
    {
     "name": "stdout",
     "output_type": "stream",
     "text": [
      "<class 'pandas.core.frame.DataFrame'>\n",
      "RangeIndex: 1311 entries, 0 to 1310\n",
      "Data columns (total 3 columns):\n",
      " #   Column            Non-Null Count  Dtype \n",
      "---  ------            --------------  ----- \n",
      " 0   CATEGORY          1311 non-null   object\n",
      " 1   AVG_OPEN_STARS    1302 non-null   object\n",
      " 2   AVG_CLOSED_STARS  1048 non-null   object\n",
      "dtypes: object(3)\n",
      "memory usage: 30.9+ KB\n",
      "None\n",
      "Categories with avg_open_stars greater than avg_closed_stars: 715\n",
      "Categories with avg_open_stars less than or equal to avg_closed_stars: 324\n",
      "\n",
      "      Out of the 1311 categories with at least one review for both closed and open businesses, there are 715 categories where the average\n",
      "      star rating for open businesses is greater than closed businesses, and 324 categories where the average star rating for open \n",
      "      businesses is less than or equal to closed businesses.\n",
      "      \n"
     ]
    }
   ],
   "source": [
    "# Average rating for closed vs currently operating businesses by category\n",
    "df = cur.execute('''\n",
    "                WITH status AS (\n",
    "                    -- split the categories column so each business has a row for each category it has\n",
    "                    SELECT \n",
    "                        business_id,\n",
    "                        TRIM(A.value) AS category,\n",
    "                        CASE\n",
    "                            WHEN is_open = 1 THEN 'open'\n",
    "                            ELSE 'closed'\n",
    "                        END AS business_status\n",
    "                    FROM yelp_businesses,\n",
    "                    LATERAL SPLIT_TO_TABLE(categories, ',') A\n",
    "                )\n",
    "                SELECT \n",
    "                    category,\n",
    "                    ROUND(AVG(CASE WHEN business_status = 'open' THEN yr.stars END), 2) as avg_open_rating,\n",
    "                    ROUND(AVG(CASE WHEN business_status = 'closed' THEN yr.stars END), 2) as avg_closed_rating\n",
    "                FROM status\n",
    "                JOIN yelp_reviews yr\n",
    "                    ON status.business_id = yr.business_id\n",
    "                GROUP BY category;\n",
    "                 ''').fetch_pandas_all()\n",
    "\n",
    "display(df.head(10))\n",
    "\n",
    "print(df.info())\n",
    "\n",
    "open_higher = df[df['AVG_OPEN_RATING'] > df['AVG_CLOSED_RATING']].shape[0]\n",
    "closed_higher = df[df['AVG_OPEN_RATING'] <= df['AVG_CLOSED_RATING']].shape[0]\n",
    "\n",
    "print(f'Categories with avg_open_RATING greater than avg_closed_rating: {open_higher}\\nCategories with avg_open_rating less than or equal to avg_closed_rating: {closed_higher}')\n",
    "\n",
    "print(f'''\n",
    "      Out of the 1311 categories with at least one review for both closed and open businesses, there are {open_higher} categories where the average\n",
    "      star rating for open businesses is greater than closed businesses, and {closed_higher} categories where the average star rating for open \n",
    "      businesses is less than or equal to closed businesses.\n",
    "      ''')"
   ]
  },
  {
   "cell_type": "code",
   "execution_count": null,
   "id": "0786bec5",
   "metadata": {},
   "outputs": [
    {
     "data": {
      "text/html": [
       "<div>\n",
       "<style scoped>\n",
       "    .dataframe tbody tr th:only-of-type {\n",
       "        vertical-align: middle;\n",
       "    }\n",
       "\n",
       "    .dataframe tbody tr th {\n",
       "        vertical-align: top;\n",
       "    }\n",
       "\n",
       "    .dataframe thead th {\n",
       "        text-align: right;\n",
       "    }\n",
       "</style>\n",
       "<table border=\"1\" class=\"dataframe\">\n",
       "  <thead>\n",
       "    <tr style=\"text-align: right;\">\n",
       "      <th></th>\n",
       "      <th>NAME</th>\n",
       "      <th>CITY</th>\n",
       "      <th>STATE</th>\n",
       "      <th>REVIEW_COUNT</th>\n",
       "      <th>AVG_STARS</th>\n",
       "    </tr>\n",
       "  </thead>\n",
       "  <tbody>\n",
       "    <tr>\n",
       "      <th>0</th>\n",
       "      <td>First Advantage Corporation</td>\n",
       "      <td>Saint Petersburg</td>\n",
       "      <td>FL</td>\n",
       "      <td>103</td>\n",
       "      <td>1.00</td>\n",
       "    </tr>\n",
       "    <tr>\n",
       "      <th>1</th>\n",
       "      <td>717 Parking Enterprises</td>\n",
       "      <td>Tampa</td>\n",
       "      <td>FL</td>\n",
       "      <td>106</td>\n",
       "      <td>1.04</td>\n",
       "    </tr>\n",
       "    <tr>\n",
       "      <th>2</th>\n",
       "      <td>International Medical Group</td>\n",
       "      <td>Indianapolis</td>\n",
       "      <td>IN</td>\n",
       "      <td>168</td>\n",
       "      <td>1.04</td>\n",
       "    </tr>\n",
       "    <tr>\n",
       "      <th>3</th>\n",
       "      <td>PHH Mortgage</td>\n",
       "      <td>Mount Laurel</td>\n",
       "      <td>NJ</td>\n",
       "      <td>167</td>\n",
       "      <td>1.04</td>\n",
       "    </tr>\n",
       "    <tr>\n",
       "      <th>4</th>\n",
       "      <td>Sensible Home Warranty</td>\n",
       "      <td>Sparks</td>\n",
       "      <td>NV</td>\n",
       "      <td>175</td>\n",
       "      <td>1.05</td>\n",
       "    </tr>\n",
       "    <tr>\n",
       "      <th>5</th>\n",
       "      <td>Express Scripts</td>\n",
       "      <td>Maryland Heights</td>\n",
       "      <td>MO</td>\n",
       "      <td>318</td>\n",
       "      <td>1.06</td>\n",
       "    </tr>\n",
       "    <tr>\n",
       "      <th>6</th>\n",
       "      <td>Sears Home Services</td>\n",
       "      <td>Fenton</td>\n",
       "      <td>MO</td>\n",
       "      <td>587</td>\n",
       "      <td>1.08</td>\n",
       "    </tr>\n",
       "    <tr>\n",
       "      <th>7</th>\n",
       "      <td>Defender Security Company</td>\n",
       "      <td>Indianapolis</td>\n",
       "      <td>IN</td>\n",
       "      <td>428</td>\n",
       "      <td>1.08</td>\n",
       "    </tr>\n",
       "    <tr>\n",
       "      <th>8</th>\n",
       "      <td>Penrose Hotel</td>\n",
       "      <td>Philadelphia</td>\n",
       "      <td>PA</td>\n",
       "      <td>152</td>\n",
       "      <td>1.09</td>\n",
       "    </tr>\n",
       "    <tr>\n",
       "      <th>9</th>\n",
       "      <td>EXPRESS SCRIPTS</td>\n",
       "      <td>St. Louis</td>\n",
       "      <td>MO</td>\n",
       "      <td>224</td>\n",
       "      <td>1.09</td>\n",
       "    </tr>\n",
       "    <tr>\n",
       "      <th>10</th>\n",
       "      <td>Cenlar</td>\n",
       "      <td>Ewing</td>\n",
       "      <td>NJ</td>\n",
       "      <td>458</td>\n",
       "      <td>1.12</td>\n",
       "    </tr>\n",
       "    <tr>\n",
       "      <th>11</th>\n",
       "      <td>CCS Medical</td>\n",
       "      <td>Clearwater</td>\n",
       "      <td>FL</td>\n",
       "      <td>126</td>\n",
       "      <td>1.12</td>\n",
       "    </tr>\n",
       "    <tr>\n",
       "      <th>12</th>\n",
       "      <td>Woman Within</td>\n",
       "      <td>Indianapolis</td>\n",
       "      <td>IN</td>\n",
       "      <td>125</td>\n",
       "      <td>1.12</td>\n",
       "    </tr>\n",
       "    <tr>\n",
       "      <th>13</th>\n",
       "      <td>TN Juice Bar</td>\n",
       "      <td>Hendersonville</td>\n",
       "      <td>TN</td>\n",
       "      <td>106</td>\n",
       "      <td>1.12</td>\n",
       "    </tr>\n",
       "    <tr>\n",
       "      <th>14</th>\n",
       "      <td>Independence Blue Cross</td>\n",
       "      <td>Philadelphia</td>\n",
       "      <td>PA</td>\n",
       "      <td>125</td>\n",
       "      <td>1.13</td>\n",
       "    </tr>\n",
       "    <tr>\n",
       "      <th>15</th>\n",
       "      <td>Frontier Communications</td>\n",
       "      <td>Tampa</td>\n",
       "      <td>FL</td>\n",
       "      <td>445</td>\n",
       "      <td>1.15</td>\n",
       "    </tr>\n",
       "    <tr>\n",
       "      <th>16</th>\n",
       "      <td>OnTrac</td>\n",
       "      <td>Sparks</td>\n",
       "      <td>NV</td>\n",
       "      <td>201</td>\n",
       "      <td>1.15</td>\n",
       "    </tr>\n",
       "    <tr>\n",
       "      <th>17</th>\n",
       "      <td>CenturyLink - Boise</td>\n",
       "      <td>Boise</td>\n",
       "      <td>ID</td>\n",
       "      <td>209</td>\n",
       "      <td>1.16</td>\n",
       "    </tr>\n",
       "    <tr>\n",
       "      <th>18</th>\n",
       "      <td>Flagship Credit Acceptance</td>\n",
       "      <td>Chadds Ford</td>\n",
       "      <td>PA</td>\n",
       "      <td>155</td>\n",
       "      <td>1.17</td>\n",
       "    </tr>\n",
       "    <tr>\n",
       "      <th>19</th>\n",
       "      <td>Executive Car Rental</td>\n",
       "      <td>Tampa</td>\n",
       "      <td>FL</td>\n",
       "      <td>196</td>\n",
       "      <td>1.18</td>\n",
       "    </tr>\n",
       "  </tbody>\n",
       "</table>\n",
       "</div>"
      ],
      "text/plain": [
       "                           NAME              CITY STATE  REVIEW_COUNT  \\\n",
       "0   First Advantage Corporation  Saint Petersburg    FL           103   \n",
       "1       717 Parking Enterprises             Tampa    FL           106   \n",
       "2   International Medical Group      Indianapolis    IN           168   \n",
       "3                  PHH Mortgage      Mount Laurel    NJ           167   \n",
       "4        Sensible Home Warranty            Sparks    NV           175   \n",
       "5               Express Scripts  Maryland Heights    MO           318   \n",
       "6           Sears Home Services            Fenton    MO           587   \n",
       "7     Defender Security Company      Indianapolis    IN           428   \n",
       "8                 Penrose Hotel      Philadelphia    PA           152   \n",
       "9               EXPRESS SCRIPTS         St. Louis    MO           224   \n",
       "10                       Cenlar             Ewing    NJ           458   \n",
       "11                  CCS Medical        Clearwater    FL           126   \n",
       "12                 Woman Within      Indianapolis    IN           125   \n",
       "13                 TN Juice Bar    Hendersonville    TN           106   \n",
       "14      Independence Blue Cross      Philadelphia    PA           125   \n",
       "15      Frontier Communications             Tampa    FL           445   \n",
       "16                       OnTrac            Sparks    NV           201   \n",
       "17          CenturyLink - Boise             Boise    ID           209   \n",
       "18   Flagship Credit Acceptance       Chadds Ford    PA           155   \n",
       "19         Executive Car Rental             Tampa    FL           196   \n",
       "\n",
       "   AVG_STARS  \n",
       "0       1.00  \n",
       "1       1.04  \n",
       "2       1.04  \n",
       "3       1.04  \n",
       "4       1.05  \n",
       "5       1.06  \n",
       "6       1.08  \n",
       "7       1.08  \n",
       "8       1.09  \n",
       "9       1.09  \n",
       "10      1.12  \n",
       "11      1.12  \n",
       "12      1.12  \n",
       "13      1.12  \n",
       "14      1.13  \n",
       "15      1.15  \n",
       "16      1.15  \n",
       "17      1.16  \n",
       "18      1.17  \n",
       "19      1.18  "
      ]
     },
     "metadata": {},
     "output_type": "display_data"
    }
   ],
   "source": [
    "# Businesses with lowest average stars (min 100 reviews)\n",
    "df = cur.execute('''\n",
    "                SELECT \n",
    "                    name,\n",
    "                    city,\n",
    "                    state,\n",
    "                    COUNT(yr.review_id) AS review_count,\n",
    "                    ROUND(AVG(yr.stars), 2) AS avg_rating \n",
    "                FROM yelp_businesses yb\n",
    "                JOIN yelp_reviews yr\n",
    "                    ON yb.business_id = yr.business_id\n",
    "                GROUP BY name, city, state\n",
    "                HAVING COUNT(yr.review_id) >= 100\n",
    "                ORDER BY AVG(yr.stars), COUNT(yr.review_id) DESC\n",
    "                LIMIT 20;\n",
    "                 ''').fetch_pandas_all()\n",
    "\n",
    "display(df)"
   ]
  },
  {
   "cell_type": "code",
   "execution_count": 45,
   "id": "651eb7d5",
   "metadata": {},
   "outputs": [
    {
     "data": {
      "text/html": [
       "<div>\n",
       "<style scoped>\n",
       "    .dataframe tbody tr th:only-of-type {\n",
       "        vertical-align: middle;\n",
       "    }\n",
       "\n",
       "    .dataframe tbody tr th {\n",
       "        vertical-align: top;\n",
       "    }\n",
       "\n",
       "    .dataframe thead th {\n",
       "        text-align: right;\n",
       "    }\n",
       "</style>\n",
       "<table border=\"1\" class=\"dataframe\">\n",
       "  <thead>\n",
       "    <tr style=\"text-align: right;\">\n",
       "      <th></th>\n",
       "      <th>USER_STATUS</th>\n",
       "      <th>AVG_RATING</th>\n",
       "      <th>AVG_USEFUL_VOTES</th>\n",
       "      <th>AVG_FUNNY_VOTES</th>\n",
       "      <th>AVG_COOL_VOTES</th>\n",
       "      <th>AVG_REVIEW_LENGTH</th>\n",
       "      <th>TOTAL_REVIEWS</th>\n",
       "    </tr>\n",
       "  </thead>\n",
       "  <tbody>\n",
       "    <tr>\n",
       "      <th>0</th>\n",
       "      <td>Regular</td>\n",
       "      <td>3.68</td>\n",
       "      <td>0.82</td>\n",
       "      <td>0.18</td>\n",
       "      <td>0.21</td>\n",
       "      <td>498.78</td>\n",
       "      <td>5264589</td>\n",
       "    </tr>\n",
       "    <tr>\n",
       "      <th>1</th>\n",
       "      <td>Elite</td>\n",
       "      <td>3.97</td>\n",
       "      <td>2.30</td>\n",
       "      <td>0.76</td>\n",
       "      <td>1.38</td>\n",
       "      <td>778.23</td>\n",
       "      <td>1725658</td>\n",
       "    </tr>\n",
       "  </tbody>\n",
       "</table>\n",
       "</div>"
      ],
      "text/plain": [
       "  USER_STATUS AVG_RATING AVG_USEFUL_VOTES AVG_FUNNY_VOTES AVG_COOL_VOTES  \\\n",
       "0     Regular       3.68             0.82            0.18           0.21   \n",
       "1       Elite       3.97             2.30            0.76           1.38   \n",
       "\n",
       "  AVG_REVIEW_LENGTH  TOTAL_REVIEWS  \n",
       "0            498.78        5264589  \n",
       "1            778.23        1725658  "
      ]
     },
     "metadata": {},
     "output_type": "display_data"
    }
   ],
   "source": [
    "# Comparing elite and non-elite user reviews\n",
    "df = cur.execute('''\n",
    "                WITH review_stats AS (\n",
    "                    SELECT \n",
    "                        IFF(LENGTH(elite) > 0, 'Elite', 'Regular') AS user_status,\n",
    "                        yr.stars,\n",
    "                        yr.useful_votes,\n",
    "                        yr.funny_votes,\n",
    "                        yr.cool_votes,\n",
    "                        yr.user_review\n",
    "                    FROM yelp_users yu\n",
    "                    JOIN yelp_reviews yr\n",
    "                        ON yu.user_id = yr.user_id\n",
    "                )\n",
    "                SELECT \n",
    "                    user_status,\n",
    "                    ROUND(AVG(stars), 2) AS avg_rating,\n",
    "                    ROUND(AVG(useful_votes), 2) AS avg_useful_votes,\n",
    "                    ROUND(AVG(funny_votes), 2) AS avg_funny_votes,\n",
    "                    ROUND(AVG(cool_votes), 2) AS avg_cool_votes,\n",
    "                    ROUND(AVG(LENGTH(user_review)), 2) AS avg_review_length,\n",
    "                    COUNT(*) AS total_reviews\n",
    "                FROM review_stats\n",
    "                GROUP BY user_status;\n",
    "                 ''').fetch_pandas_all()\n",
    "\n",
    "display(df)"
   ]
  },
  {
   "cell_type": "code",
   "execution_count": 44,
   "id": "06158e18",
   "metadata": {},
   "outputs": [
    {
     "data": {
      "text/html": [
       "<div>\n",
       "<style scoped>\n",
       "    .dataframe tbody tr th:only-of-type {\n",
       "        vertical-align: middle;\n",
       "    }\n",
       "\n",
       "    .dataframe tbody tr th {\n",
       "        vertical-align: top;\n",
       "    }\n",
       "\n",
       "    .dataframe thead th {\n",
       "        text-align: right;\n",
       "    }\n",
       "</style>\n",
       "<table border=\"1\" class=\"dataframe\">\n",
       "  <thead>\n",
       "    <tr style=\"text-align: right;\">\n",
       "      <th></th>\n",
       "      <th>RATING</th>\n",
       "      <th>AVG_USEFUL_VOTES</th>\n",
       "      <th>AVG_FUNNY_VOTES</th>\n",
       "      <th>AVG_COOL_VOTES</th>\n",
       "      <th>TOTAL_REVIEWS</th>\n",
       "      <th>AVG_REVIEW_LENGTH</th>\n",
       "    </tr>\n",
       "  </thead>\n",
       "  <tbody>\n",
       "    <tr>\n",
       "      <th>0</th>\n",
       "      <td>1 Star</td>\n",
       "      <td>1.67</td>\n",
       "      <td>0.42</td>\n",
       "      <td>0.15</td>\n",
       "      <td>1069561</td>\n",
       "      <td>713.78</td>\n",
       "    </tr>\n",
       "    <tr>\n",
       "      <th>1</th>\n",
       "      <td>2 Star</td>\n",
       "      <td>1.35</td>\n",
       "      <td>0.43</td>\n",
       "      <td>0.26</td>\n",
       "      <td>544240</td>\n",
       "      <td>721.08</td>\n",
       "    </tr>\n",
       "    <tr>\n",
       "      <th>2</th>\n",
       "      <td>3 Star</td>\n",
       "      <td>1.18</td>\n",
       "      <td>0.40</td>\n",
       "      <td>0.47</td>\n",
       "      <td>691934</td>\n",
       "      <td>669.20</td>\n",
       "    </tr>\n",
       "    <tr>\n",
       "      <th>3</th>\n",
       "      <td>4 Star</td>\n",
       "      <td>1.23</td>\n",
       "      <td>0.38</td>\n",
       "      <td>0.74</td>\n",
       "      <td>1452918</td>\n",
       "      <td>587.50</td>\n",
       "    </tr>\n",
       "    <tr>\n",
       "      <th>4</th>\n",
       "      <td>5 Star</td>\n",
       "      <td>0.97</td>\n",
       "      <td>0.24</td>\n",
       "      <td>0.55</td>\n",
       "      <td>3231627</td>\n",
       "      <td>463.02</td>\n",
       "    </tr>\n",
       "  </tbody>\n",
       "</table>\n",
       "</div>"
      ],
      "text/plain": [
       "   RATING AVG_USEFUL_VOTES AVG_FUNNY_VOTES AVG_COOL_VOTES  TOTAL_REVIEWS  \\\n",
       "0  1 Star             1.67            0.42           0.15        1069561   \n",
       "1  2 Star             1.35            0.43           0.26         544240   \n",
       "2  3 Star             1.18            0.40           0.47         691934   \n",
       "3  4 Star             1.23            0.38           0.74        1452918   \n",
       "4  5 Star             0.97            0.24           0.55        3231627   \n",
       "\n",
       "  AVG_REVIEW_LENGTH  \n",
       "0            713.78  \n",
       "1            721.08  \n",
       "2            669.20  \n",
       "3            587.50  \n",
       "4            463.02  "
      ]
     },
     "metadata": {},
     "output_type": "display_data"
    }
   ],
   "source": [
    "# Comparing engagement on reviews of each star value\n",
    "df = cur.execute('''\n",
    "                WITH review_stats AS (\n",
    "                    SELECT \n",
    "                        CASE\n",
    "                            WHEN stars = 1 THEN '1 Star'\n",
    "                            WHEN stars = 2 THEN '2 Star'\n",
    "                            WHEN stars = 3 THEN '3 Star'\n",
    "                            WHEN stars = 4 THEN '4 Star'\n",
    "                            ELSE '5 Star'\n",
    "                        END AS rating,\n",
    "                        yr.stars,\n",
    "                        yr.useful_votes,\n",
    "                        yr.funny_votes,\n",
    "                        yr.cool_votes,\n",
    "                        yr.user_review\n",
    "                    FROM yelp_reviews yr\n",
    "                )\n",
    "                SELECT \n",
    "                    rating,\n",
    "                    ROUND(AVG(useful_votes), 2) AS avg_useful_votes,\n",
    "                    ROUND(AVG(funny_votes), 2) AS avg_funny_votes,\n",
    "                    ROUND(AVG(cool_votes), 2) AS avg_cool_votes,\n",
    "                    COUNT(*) AS total_reviews,\n",
    "                    ROUND(AVG(LENGTH(user_review)), 2) AS avg_review_length\n",
    "                FROM review_stats\n",
    "                GROUP BY rating\n",
    "                ORDER BY rating\n",
    "                 ''').fetch_pandas_all()\n",
    "\n",
    "display(df)"
   ]
  },
  {
   "cell_type": "code",
   "execution_count": null,
   "id": "7af49a8c",
   "metadata": {},
   "outputs": [
    {
     "data": {
      "text/html": [
       "<div>\n",
       "<style scoped>\n",
       "    .dataframe tbody tr th:only-of-type {\n",
       "        vertical-align: middle;\n",
       "    }\n",
       "\n",
       "    .dataframe tbody tr th {\n",
       "        vertical-align: top;\n",
       "    }\n",
       "\n",
       "    .dataframe thead th {\n",
       "        text-align: right;\n",
       "    }\n",
       "</style>\n",
       "<table border=\"1\" class=\"dataframe\">\n",
       "  <thead>\n",
       "    <tr style=\"text-align: right;\">\n",
       "      <th></th>\n",
       "      <th>USER_ID</th>\n",
       "      <th>ELITE_SIZE</th>\n",
       "      <th>FANS</th>\n",
       "      <th>ACCOUNT_AGE</th>\n",
       "      <th>AVG_RATING</th>\n",
       "      <th>AVG_USEFUL_VOTES</th>\n",
       "      <th>AVG_FUNNY_VOTES</th>\n",
       "      <th>AVG_COOL_VOTES</th>\n",
       "      <th>AVG_REVIEW_LENGTH</th>\n",
       "      <th>TOTAL_REVIEWS</th>\n",
       "    </tr>\n",
       "  </thead>\n",
       "  <tbody>\n",
       "    <tr>\n",
       "      <th>0</th>\n",
       "      <td>b47MFJu3LYjv6xmCRv0dUA</td>\n",
       "      <td>25</td>\n",
       "      <td>17</td>\n",
       "      <td>9.91</td>\n",
       "      <td>3.83</td>\n",
       "      <td>1.38</td>\n",
       "      <td>0.62</td>\n",
       "      <td>0.76</td>\n",
       "      <td>677.72</td>\n",
       "      <td>95</td>\n",
       "    </tr>\n",
       "    <tr>\n",
       "      <th>1</th>\n",
       "      <td>3t_Jf5R5uRllg9ERHnsgRQ</td>\n",
       "      <td>19</td>\n",
       "      <td>18</td>\n",
       "      <td>11.45</td>\n",
       "      <td>3.71</td>\n",
       "      <td>1.37</td>\n",
       "      <td>0.28</td>\n",
       "      <td>0.49</td>\n",
       "      <td>1249.46</td>\n",
       "      <td>126</td>\n",
       "    </tr>\n",
       "    <tr>\n",
       "      <th>2</th>\n",
       "      <td>skdAsWlekOcaA8WvAyYztQ</td>\n",
       "      <td>4</td>\n",
       "      <td>2</td>\n",
       "      <td>10.76</td>\n",
       "      <td>3.67</td>\n",
       "      <td>0.79</td>\n",
       "      <td>0.50</td>\n",
       "      <td>0.56</td>\n",
       "      <td>388.54</td>\n",
       "      <td>48</td>\n",
       "    </tr>\n",
       "    <tr>\n",
       "      <th>3</th>\n",
       "      <td>1U7QQcz5gv4Wu33Og_pKHw</td>\n",
       "      <td>29</td>\n",
       "      <td>17</td>\n",
       "      <td>14.93</td>\n",
       "      <td>3.88</td>\n",
       "      <td>0.79</td>\n",
       "      <td>0.13</td>\n",
       "      <td>0.51</td>\n",
       "      <td>230.70</td>\n",
       "      <td>76</td>\n",
       "    </tr>\n",
       "    <tr>\n",
       "      <th>4</th>\n",
       "      <td>MOLgSNgnkYktFbXrwchbdg</td>\n",
       "      <td>40</td>\n",
       "      <td>34</td>\n",
       "      <td>12.53</td>\n",
       "      <td>4.16</td>\n",
       "      <td>1.39</td>\n",
       "      <td>0.28</td>\n",
       "      <td>0.71</td>\n",
       "      <td>714.17</td>\n",
       "      <td>189</td>\n",
       "    </tr>\n",
       "    <tr>\n",
       "      <th>5</th>\n",
       "      <td>HQTuvMrM4_MIWU1PSoKPDA</td>\n",
       "      <td>44</td>\n",
       "      <td>24</td>\n",
       "      <td>16.72</td>\n",
       "      <td>3.94</td>\n",
       "      <td>0.75</td>\n",
       "      <td>0.06</td>\n",
       "      <td>0.19</td>\n",
       "      <td>663.31</td>\n",
       "      <td>16</td>\n",
       "    </tr>\n",
       "    <tr>\n",
       "      <th>6</th>\n",
       "      <td>fDOmWO4KP03mmtBu1yby7g</td>\n",
       "      <td>4</td>\n",
       "      <td>8</td>\n",
       "      <td>12.92</td>\n",
       "      <td>3.49</td>\n",
       "      <td>2.03</td>\n",
       "      <td>0.69</td>\n",
       "      <td>0.81</td>\n",
       "      <td>614.53</td>\n",
       "      <td>93</td>\n",
       "    </tr>\n",
       "    <tr>\n",
       "      <th>7</th>\n",
       "      <td>dEvFqqQImRAaE1dT5wYMJg</td>\n",
       "      <td>14</td>\n",
       "      <td>23</td>\n",
       "      <td>12.06</td>\n",
       "      <td>3.76</td>\n",
       "      <td>1.15</td>\n",
       "      <td>0.30</td>\n",
       "      <td>0.37</td>\n",
       "      <td>665.13</td>\n",
       "      <td>176</td>\n",
       "    </tr>\n",
       "    <tr>\n",
       "      <th>8</th>\n",
       "      <td>dcFF9akYubn_UIwsXX_JTw</td>\n",
       "      <td>65</td>\n",
       "      <td>85</td>\n",
       "      <td>18.01</td>\n",
       "      <td>2.72</td>\n",
       "      <td>3.72</td>\n",
       "      <td>1.72</td>\n",
       "      <td>1.61</td>\n",
       "      <td>602.39</td>\n",
       "      <td>18</td>\n",
       "    </tr>\n",
       "    <tr>\n",
       "      <th>9</th>\n",
       "      <td>33C5Hrjuya2qUd8rgZSiFw</td>\n",
       "      <td>34</td>\n",
       "      <td>18</td>\n",
       "      <td>17.96</td>\n",
       "      <td>3.80</td>\n",
       "      <td>1.07</td>\n",
       "      <td>0.40</td>\n",
       "      <td>0.20</td>\n",
       "      <td>856.73</td>\n",
       "      <td>15</td>\n",
       "    </tr>\n",
       "    <tr>\n",
       "      <th>10</th>\n",
       "      <td>aWcq9zSmUMbCTGyfrSAoLw</td>\n",
       "      <td>25</td>\n",
       "      <td>26</td>\n",
       "      <td>8.94</td>\n",
       "      <td>4.10</td>\n",
       "      <td>1.46</td>\n",
       "      <td>0.27</td>\n",
       "      <td>0.68</td>\n",
       "      <td>918.58</td>\n",
       "      <td>136</td>\n",
       "    </tr>\n",
       "    <tr>\n",
       "      <th>11</th>\n",
       "      <td>6bdDDaLc8u20iWklkyckrw</td>\n",
       "      <td>9</td>\n",
       "      <td>2</td>\n",
       "      <td>10.22</td>\n",
       "      <td>4.75</td>\n",
       "      <td>0.75</td>\n",
       "      <td>0.50</td>\n",
       "      <td>0.75</td>\n",
       "      <td>517.50</td>\n",
       "      <td>4</td>\n",
       "    </tr>\n",
       "    <tr>\n",
       "      <th>12</th>\n",
       "      <td>J9BFdA19u5OVtoTjue2XTw</td>\n",
       "      <td>35</td>\n",
       "      <td>29</td>\n",
       "      <td>12.70</td>\n",
       "      <td>3.79</td>\n",
       "      <td>1.74</td>\n",
       "      <td>0.21</td>\n",
       "      <td>0.68</td>\n",
       "      <td>780.42</td>\n",
       "      <td>19</td>\n",
       "    </tr>\n",
       "    <tr>\n",
       "      <th>13</th>\n",
       "      <td>h-8N11JWsQ7iPfM0gQ6MJQ</td>\n",
       "      <td>29</td>\n",
       "      <td>21</td>\n",
       "      <td>16.01</td>\n",
       "      <td>4.48</td>\n",
       "      <td>2.43</td>\n",
       "      <td>0.86</td>\n",
       "      <td>1.48</td>\n",
       "      <td>911.19</td>\n",
       "      <td>21</td>\n",
       "    </tr>\n",
       "    <tr>\n",
       "      <th>14</th>\n",
       "      <td>OUD1t1__WFnaodS4y6o28g</td>\n",
       "      <td>14</td>\n",
       "      <td>8</td>\n",
       "      <td>10.57</td>\n",
       "      <td>3.08</td>\n",
       "      <td>1.73</td>\n",
       "      <td>0.33</td>\n",
       "      <td>0.57</td>\n",
       "      <td>962.51</td>\n",
       "      <td>134</td>\n",
       "    </tr>\n",
       "    <tr>\n",
       "      <th>15</th>\n",
       "      <td>oLT9S2KgqVVa1yGA5hx2IQ</td>\n",
       "      <td>14</td>\n",
       "      <td>26</td>\n",
       "      <td>18.09</td>\n",
       "      <td>3.57</td>\n",
       "      <td>0.90</td>\n",
       "      <td>0.29</td>\n",
       "      <td>0.43</td>\n",
       "      <td>329.48</td>\n",
       "      <td>21</td>\n",
       "    </tr>\n",
       "    <tr>\n",
       "      <th>16</th>\n",
       "      <td>WSvMUpT3z8iy49FfMv80tA</td>\n",
       "      <td>70</td>\n",
       "      <td>51</td>\n",
       "      <td>19.02</td>\n",
       "      <td>3.95</td>\n",
       "      <td>1.22</td>\n",
       "      <td>0.51</td>\n",
       "      <td>0.56</td>\n",
       "      <td>580.12</td>\n",
       "      <td>59</td>\n",
       "    </tr>\n",
       "    <tr>\n",
       "      <th>17</th>\n",
       "      <td>vTprcHGBn9asRfI349M1Fg</td>\n",
       "      <td>35</td>\n",
       "      <td>79</td>\n",
       "      <td>11.02</td>\n",
       "      <td>3.96</td>\n",
       "      <td>3.80</td>\n",
       "      <td>0.87</td>\n",
       "      <td>2.95</td>\n",
       "      <td>849.48</td>\n",
       "      <td>323</td>\n",
       "    </tr>\n",
       "    <tr>\n",
       "      <th>18</th>\n",
       "      <td>ASkAJgNv9-UfcGtKfypcgQ</td>\n",
       "      <td>4</td>\n",
       "      <td>30</td>\n",
       "      <td>17.90</td>\n",
       "      <td>5.00</td>\n",
       "      <td>4.00</td>\n",
       "      <td>0.00</td>\n",
       "      <td>5.00</td>\n",
       "      <td>128.00</td>\n",
       "      <td>1</td>\n",
       "    </tr>\n",
       "    <tr>\n",
       "      <th>19</th>\n",
       "      <td>bcHgPhn8sgmgMR-IkmL0Jw</td>\n",
       "      <td>24</td>\n",
       "      <td>27</td>\n",
       "      <td>16.57</td>\n",
       "      <td>3.98</td>\n",
       "      <td>1.55</td>\n",
       "      <td>0.48</td>\n",
       "      <td>0.63</td>\n",
       "      <td>759.18</td>\n",
       "      <td>40</td>\n",
       "    </tr>\n",
       "    <tr>\n",
       "      <th>20</th>\n",
       "      <td>3RuPbLjp9EDWlb1eTiNYsw</td>\n",
       "      <td>29</td>\n",
       "      <td>21</td>\n",
       "      <td>12.60</td>\n",
       "      <td>3.78</td>\n",
       "      <td>1.26</td>\n",
       "      <td>0.32</td>\n",
       "      <td>0.76</td>\n",
       "      <td>470.07</td>\n",
       "      <td>312</td>\n",
       "    </tr>\n",
       "    <tr>\n",
       "      <th>21</th>\n",
       "      <td>4Z-SVhSkhCdT7MjNnoacJA</td>\n",
       "      <td>14</td>\n",
       "      <td>6</td>\n",
       "      <td>14.79</td>\n",
       "      <td>3.83</td>\n",
       "      <td>1.17</td>\n",
       "      <td>0.17</td>\n",
       "      <td>0.25</td>\n",
       "      <td>625.50</td>\n",
       "      <td>12</td>\n",
       "    </tr>\n",
       "    <tr>\n",
       "      <th>22</th>\n",
       "      <td>en9InA1FGqAbbM2-KpqgBA</td>\n",
       "      <td>24</td>\n",
       "      <td>28</td>\n",
       "      <td>12.94</td>\n",
       "      <td>4.06</td>\n",
       "      <td>2.94</td>\n",
       "      <td>1.17</td>\n",
       "      <td>1.44</td>\n",
       "      <td>1181.79</td>\n",
       "      <td>218</td>\n",
       "    </tr>\n",
       "    <tr>\n",
       "      <th>23</th>\n",
       "      <td>9WvMB1HUVkj4DZrey0jE7A</td>\n",
       "      <td>14</td>\n",
       "      <td>10</td>\n",
       "      <td>10.85</td>\n",
       "      <td>4.60</td>\n",
       "      <td>0.42</td>\n",
       "      <td>0.10</td>\n",
       "      <td>0.27</td>\n",
       "      <td>455.90</td>\n",
       "      <td>62</td>\n",
       "    </tr>\n",
       "    <tr>\n",
       "      <th>24</th>\n",
       "      <td>ZOmHHLEYTXxxs3nWJhKoaA</td>\n",
       "      <td>29</td>\n",
       "      <td>18</td>\n",
       "      <td>15.43</td>\n",
       "      <td>3.72</td>\n",
       "      <td>2.68</td>\n",
       "      <td>1.46</td>\n",
       "      <td>1.33</td>\n",
       "      <td>804.76</td>\n",
       "      <td>285</td>\n",
       "    </tr>\n",
       "  </tbody>\n",
       "</table>\n",
       "</div>"
      ],
      "text/plain": [
       "                   USER_ID  ELITE_SIZE  FANS  ACCOUNT_AGE AVG_RATING  \\\n",
       "0   b47MFJu3LYjv6xmCRv0dUA          25    17         9.91       3.83   \n",
       "1   3t_Jf5R5uRllg9ERHnsgRQ          19    18        11.45       3.71   \n",
       "2   skdAsWlekOcaA8WvAyYztQ           4     2        10.76       3.67   \n",
       "3   1U7QQcz5gv4Wu33Og_pKHw          29    17        14.93       3.88   \n",
       "4   MOLgSNgnkYktFbXrwchbdg          40    34        12.53       4.16   \n",
       "5   HQTuvMrM4_MIWU1PSoKPDA          44    24        16.72       3.94   \n",
       "6   fDOmWO4KP03mmtBu1yby7g           4     8        12.92       3.49   \n",
       "7   dEvFqqQImRAaE1dT5wYMJg          14    23        12.06       3.76   \n",
       "8   dcFF9akYubn_UIwsXX_JTw          65    85        18.01       2.72   \n",
       "9   33C5Hrjuya2qUd8rgZSiFw          34    18        17.96       3.80   \n",
       "10  aWcq9zSmUMbCTGyfrSAoLw          25    26         8.94       4.10   \n",
       "11  6bdDDaLc8u20iWklkyckrw           9     2        10.22       4.75   \n",
       "12  J9BFdA19u5OVtoTjue2XTw          35    29        12.70       3.79   \n",
       "13  h-8N11JWsQ7iPfM0gQ6MJQ          29    21        16.01       4.48   \n",
       "14  OUD1t1__WFnaodS4y6o28g          14     8        10.57       3.08   \n",
       "15  oLT9S2KgqVVa1yGA5hx2IQ          14    26        18.09       3.57   \n",
       "16  WSvMUpT3z8iy49FfMv80tA          70    51        19.02       3.95   \n",
       "17  vTprcHGBn9asRfI349M1Fg          35    79        11.02       3.96   \n",
       "18  ASkAJgNv9-UfcGtKfypcgQ           4    30        17.90       5.00   \n",
       "19  bcHgPhn8sgmgMR-IkmL0Jw          24    27        16.57       3.98   \n",
       "20  3RuPbLjp9EDWlb1eTiNYsw          29    21        12.60       3.78   \n",
       "21  4Z-SVhSkhCdT7MjNnoacJA          14     6        14.79       3.83   \n",
       "22  en9InA1FGqAbbM2-KpqgBA          24    28        12.94       4.06   \n",
       "23  9WvMB1HUVkj4DZrey0jE7A          14    10        10.85       4.60   \n",
       "24  ZOmHHLEYTXxxs3nWJhKoaA          29    18        15.43       3.72   \n",
       "\n",
       "   AVG_USEFUL_VOTES AVG_FUNNY_VOTES AVG_COOL_VOTES AVG_REVIEW_LENGTH  \\\n",
       "0              1.38            0.62           0.76            677.72   \n",
       "1              1.37            0.28           0.49           1249.46   \n",
       "2              0.79            0.50           0.56            388.54   \n",
       "3              0.79            0.13           0.51            230.70   \n",
       "4              1.39            0.28           0.71            714.17   \n",
       "5              0.75            0.06           0.19            663.31   \n",
       "6              2.03            0.69           0.81            614.53   \n",
       "7              1.15            0.30           0.37            665.13   \n",
       "8              3.72            1.72           1.61            602.39   \n",
       "9              1.07            0.40           0.20            856.73   \n",
       "10             1.46            0.27           0.68            918.58   \n",
       "11             0.75            0.50           0.75            517.50   \n",
       "12             1.74            0.21           0.68            780.42   \n",
       "13             2.43            0.86           1.48            911.19   \n",
       "14             1.73            0.33           0.57            962.51   \n",
       "15             0.90            0.29           0.43            329.48   \n",
       "16             1.22            0.51           0.56            580.12   \n",
       "17             3.80            0.87           2.95            849.48   \n",
       "18             4.00            0.00           5.00            128.00   \n",
       "19             1.55            0.48           0.63            759.18   \n",
       "20             1.26            0.32           0.76            470.07   \n",
       "21             1.17            0.17           0.25            625.50   \n",
       "22             2.94            1.17           1.44           1181.79   \n",
       "23             0.42            0.10           0.27            455.90   \n",
       "24             2.68            1.46           1.33            804.76   \n",
       "\n",
       "    TOTAL_REVIEWS  \n",
       "0              95  \n",
       "1             126  \n",
       "2              48  \n",
       "3              76  \n",
       "4             189  \n",
       "5              16  \n",
       "6              93  \n",
       "7             176  \n",
       "8              18  \n",
       "9              15  \n",
       "10            136  \n",
       "11              4  \n",
       "12             19  \n",
       "13             21  \n",
       "14            134  \n",
       "15             21  \n",
       "16             59  \n",
       "17            323  \n",
       "18              1  \n",
       "19             40  \n",
       "20            312  \n",
       "21             12  \n",
       "22            218  \n",
       "23             62  \n",
       "24            285  "
      ]
     },
     "metadata": {},
     "output_type": "display_data"
    }
   ],
   "source": [
    "# Exploring stats for elite users\n",
    "df = cur.execute('''\n",
    "                WITH review_stats AS (\n",
    "                    SELECT \n",
    "                        yu.user_id,\n",
    "                        LENGTH(elite) AS elite_size,\n",
    "                        yr.stars,\n",
    "                        yr.useful_votes,\n",
    "                        yr.funny_votes,\n",
    "                        yr.cool_votes,\n",
    "                        yr.user_review,\n",
    "                        yu.fans,\n",
    "                        yu.yelping_since\n",
    "                    FROM yelp_users yu\n",
    "                    JOIN yelp_reviews yr\n",
    "                        ON yu.user_id = yr.user_id\n",
    "                    WHERE elite != ''\n",
    "                )\n",
    "                SELECT \n",
    "                    user_id,\n",
    "                    elite_size,\n",
    "                    fans,\n",
    "                    ROUND((CURRENT_DATE - yelping_since) / 365, 2) AS account_age,\n",
    "                    ROUND(AVG(stars), 2) AS avg_rating,\n",
    "                    ROUND(AVG(useful_votes), 2) AS avg_useful_votes,\n",
    "                    ROUND(AVG(funny_votes), 2) AS avg_funny_votes,\n",
    "                    ROUND(AVG(cool_votes), 2) AS avg_cool_votes,\n",
    "                    ROUND(AVG(LENGTH(user_review)), 2) AS avg_review_length,\n",
    "                    COUNT(*) AS total_reviews\n",
    "                FROM review_stats\n",
    "                GROUP BY user_id, elite_size, fans, yelping_since\n",
    "                LIMIT 25;\n",
    "                 ''').fetch_pandas_all()\n",
    "\n",
    "display(df)"
   ]
  }
 ],
 "metadata": {
  "kernelspec": {
   "display_name": "yelp",
   "language": "python",
   "name": "python3"
  },
  "language_info": {
   "codemirror_mode": {
    "name": "ipython",
    "version": 3
   },
   "file_extension": ".py",
   "mimetype": "text/x-python",
   "name": "python",
   "nbconvert_exporter": "python",
   "pygments_lexer": "ipython3",
   "version": "3.13.3"
  }
 },
 "nbformat": 4,
 "nbformat_minor": 5
}
