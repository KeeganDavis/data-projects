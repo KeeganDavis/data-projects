{
 "cells": [
  {
   "cell_type": "code",
   "execution_count": null,
   "metadata": {},
   "outputs": [],
   "source": [
    "from pymongo import MongoClient"
   ]
  },
  {
   "cell_type": "markdown",
   "metadata": {},
   "source": [
    "### Importing data into MongoDB\n",
    "\n",
    "* start mongodb server in terminal (file path is absolute file path):\n",
    "\n",
    "    \"C:\\Program Files\\MongoDB\\Server\\7.0\\bin\\mongod.exe\" --dbpath=\"c:\\data\\db\"\n",
    "\n",
    "* navigate to folder containing 'emdat_cleaned.json' file, open new terminal, and run the following command:\n",
    "\n",
    "    mongoimport --type json -d project3 -c disasters --drop --jsonArray emdat_cleaned.json"
   ]
  },
  {
   "cell_type": "code",
   "execution_count": null,
   "metadata": {},
   "outputs": [],
   "source": [
    "#initiate instance of pymongo\n",
    "mongo = MongoClient(port=27017)"
   ]
  },
  {
   "cell_type": "code",
   "execution_count": null,
   "metadata": {},
   "outputs": [],
   "source": [
    "#assign database to python variable\n",
    "db = mongo.project3"
   ]
  },
  {
   "cell_type": "code",
   "execution_count": null,
   "metadata": {},
   "outputs": [
    {
     "data": {
      "text/plain": [
       "{'_id': ObjectId('6614478beb3befb6796ea102'),\n",
       " 'Disaster #': '1999-9388',\n",
       " 'Subgroup': 'Climatological',\n",
       " 'Type': 'Drought',\n",
       " 'Subtype': 'Drought',\n",
       " 'Country': 'Djibouti',\n",
       " 'Region': 'Africa',\n",
       " 'Geolocation': 'Bugabira',\n",
       " 'Magnitude': None,\n",
       " 'Lat': -2.43007525,\n",
       " 'Lng': 30.01978072,\n",
       " 'Year': 2001,\n",
       " 'Month': 6.0,\n",
       " 'Deaths': None,\n",
       " 'Injuries': None,\n",
       " 'Total Affected': 100000.0,\n",
       " 'Insured Damage (Adjusted)': None,\n",
       " 'Total Damage (Adjusted)': None}"
      ]
     },
     "metadata": {},
     "output_type": "display_data"
    }
   ],
   "source": [
    "#Query the 'disasters' to confirm correct data import\n",
    "db.disasters.find_one()"
   ]
  }
 ],
 "metadata": {
  "language_info": {
   "name": "python"
  }
 },
 "nbformat": 4,
 "nbformat_minor": 2
}
