{
 "cells": [
  {
   "cell_type": "code",
   "execution_count": null,
   "id": "ff56c5c5",
   "metadata": {},
   "outputs": [],
   "source": [
    "# convert yelp_business.json to csv after splitting attributes into their own columns and converting hours to datetime\n",
    "import pandas as pd\n",
    "\n",
    "input_path  = 'data/json/yelp_business.json'\n",
    "\n",
    "df = pd.read_json(input_path, lines=True)\n",
    "\n",
    "def normalize_time(t):\n",
    "    '''add leading 0s to time values for open and close times'''\n",
    "    if pd.isna(t):\n",
    "        return None\n",
    "    h, m = map(int, t.split(':'))\n",
    "    return f'{h:02d}:{m:02d}'\n",
    "\n",
    "\n",
    "# split dictionary of attributes into their own columns\n",
    "df = pd.concat([df.drop('attributes', axis=1), pd.json_normalize(df['attributes'])], axis=1)\n",
    "\n",
    "hours_df = pd.json_normalize(df['hours'])\n",
    "\n",
    "for col in hours_df.columns:\n",
    "    # split hours into separate columns \n",
    "    hours_df[[f'{col}_open', f'{col}_close']] = hours_df[col].str.split('-', expand=True)\n",
    "\n",
    "    # add leading zeros if necessary and convert to datetime for open and close\n",
    "    hours_df[f'{col}_open'] = hours_df[f'{col}_open'].apply(normalize_time)\n",
    "    hours_df[f'{col}_open'] = pd.to_datetime(hours_df[f'{col}_open'], format='%H:%M').dt.time\n",
    "\n",
    "    hours_df[f'{col}_close'] = hours_df[f'{col}_close'].apply(normalize_time)\n",
    "    hours_df[f'{col}_close'] = pd.to_datetime(hours_df[f'{col}_close'], format='%H:%M').dt.time\n",
    "\n",
    "    hours_df = hours_df.drop(col, axis=1)\n",
    "    \n",
    "# concat opening and closing hours w/ main df\n",
    "df = pd.concat([df.drop('hours', axis=1), hours_df], axis=1)\n",
    "\n",
    "# # explode categories into their own row for each business w/ multiple categories\n",
    "# df['categories'] = df['categories'].dropna().str.split(',')\n",
    "# df_exploded = df.explode('categories').reset_index(drop=True)\n",
    "# df_exploded\n",
    "\n",
    "\n",
    "df.to_csv('data/csv/yelp_business.csv', index=False)"
   ]
  },
  {
   "cell_type": "code",
   "execution_count": 39,
   "id": "0650191d",
   "metadata": {},
   "outputs": [],
   "source": [
    "# convert review jsons to csv\n",
    "import pandas as pd\n",
    "\n",
    "for i in range(1, 11):\n",
    "    input_path  = f'data/json/yelp_review_{i}.json'\n",
    "\n",
    "    df = pd.read_json(input_path, lines=True)\n",
    "    # downcast values to reduce file size\n",
    "    for col in ['stars', 'useful', 'funny', 'cool']:\n",
    "        df[col] = pd.to_numeric(df[col], downcast='integer')\n",
    "    for col in ['review_id', 'user_id', 'business_id', 'text']:\n",
    "        df[col] = df[col].astype('string')\n",
    "    \n",
    "    df.to_csv(f'data/csv/yelp_review_{i}.csv', index=False)"
   ]
  },
  {
   "cell_type": "code",
   "execution_count": 5,
   "id": "a231c926",
   "metadata": {},
   "outputs": [],
   "source": [
    "# convert users json to csv\n",
    "import pandas as pd\n",
    "\n",
    "for i in range(1, 9):\n",
    "    input_path  = f'data/json/yelp_user_{i}.json'\n",
    "\n",
    "    df = pd.read_json(input_path, lines=True)\n",
    "    # downcast values to reduce file size\n",
    "    for col in ['review_count', 'useful', 'funny', 'cool', 'fans', 'compliment_hot', 'compliment_more', 'compliment_profile', 'compliment_cute', 'compliment_list', 'compliment_note',\n",
    "                'compliment_plain', 'compliment_cool', 'compliment_funny', 'compliment_writer', 'compliment_photos']:\n",
    "        df[col] = pd.to_numeric(df[col], downcast='integer')\n",
    "    for col in ['user_id', 'name']:\n",
    "        df[col] = df[col].astype('string')\n",
    "    df['yelping_since'] = pd.to_datetime(df['yelping_since'])\n",
    "    df['average_stars'] = pd.to_numeric(df['average_stars'], downcast='float')\n",
    "    \n",
    "    df.to_csv(f'data/csv/yelp_user_{i}.csv', index=False)"
   ]
  },
  {
   "cell_type": "code",
   "execution_count": 10,
   "id": "00950711",
   "metadata": {},
   "outputs": [],
   "source": [
    "# convert yelp tips json to csv\n",
    "import pandas as pd\n",
    "\n",
    "input_path  = 'data/json/yelp_tip.json'\n",
    "\n",
    "df = pd.read_json(input_path, lines=True)\n",
    "\n",
    "for col in ['user_id', 'business_id', 'text']:\n",
    "    df[col] = df[col].astype('string')\n",
    "df['compliment_count'] = pd.to_numeric(df['compliment_count'], downcast='integer')\n",
    "\n",
    "df.to_csv(f'data/csv/yelp_tip.csv', index=False)"
   ]
  }
 ],
 "metadata": {
  "kernelspec": {
   "display_name": "yelp",
   "language": "python",
   "name": "python3"
  },
  "language_info": {
   "codemirror_mode": {
    "name": "ipython",
    "version": 3
   },
   "file_extension": ".py",
   "mimetype": "text/x-python",
   "name": "python",
   "nbconvert_exporter": "python",
   "pygments_lexer": "ipython3",
   "version": "3.13.3"
  }
 },
 "nbformat": 4,
 "nbformat_minor": 5
}
