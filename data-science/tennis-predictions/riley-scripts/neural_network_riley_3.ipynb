{
 "cells": [
  {
   "cell_type": "markdown",
   "metadata": {},
   "source": [
    "## Neural Network Model to Predict Tennis Outcome, Model 3"
   ]
  },
  {
   "cell_type": "markdown",
   "metadata": {},
   "source": [
    "### Read in csv data"
   ]
  },
  {
   "cell_type": "code",
   "execution_count": 1,
   "metadata": {},
   "outputs": [],
   "source": [
    "import pandas as pd\n"
   ]
  },
  {
   "cell_type": "code",
   "execution_count": 2,
   "metadata": {},
   "outputs": [
    {
     "data": {
      "text/html": [
       "<div>\n",
       "<style scoped>\n",
       "    .dataframe tbody tr th:only-of-type {\n",
       "        vertical-align: middle;\n",
       "    }\n",
       "\n",
       "    .dataframe tbody tr th {\n",
       "        vertical-align: top;\n",
       "    }\n",
       "\n",
       "    .dataframe thead th {\n",
       "        text-align: right;\n",
       "    }\n",
       "</style>\n",
       "<table border=\"1\" class=\"dataframe\">\n",
       "  <thead>\n",
       "    <tr style=\"text-align: right;\">\n",
       "      <th></th>\n",
       "      <th>tourney_id</th>\n",
       "      <th>tourney_name</th>\n",
       "      <th>surface</th>\n",
       "      <th>draw_size</th>\n",
       "      <th>tourney_level</th>\n",
       "      <th>tourney_date</th>\n",
       "      <th>match_num</th>\n",
       "      <th>player_id</th>\n",
       "      <th>player_seed</th>\n",
       "      <th>player_name</th>\n",
       "      <th>...</th>\n",
       "      <th>player_bpSaved</th>\n",
       "      <th>player_bpFaced</th>\n",
       "      <th>player_rank</th>\n",
       "      <th>player_rank_points</th>\n",
       "      <th>set_1_score</th>\n",
       "      <th>set_2_score</th>\n",
       "      <th>set_3_score</th>\n",
       "      <th>set_4_score</th>\n",
       "      <th>set_5_score</th>\n",
       "      <th>winner</th>\n",
       "    </tr>\n",
       "  </thead>\n",
       "  <tbody>\n",
       "    <tr>\n",
       "      <th>0</th>\n",
       "      <td>2023-7696</td>\n",
       "      <td>NextGen Finals</td>\n",
       "      <td>Hard</td>\n",
       "      <td>8</td>\n",
       "      <td>F</td>\n",
       "      <td>2023-11-27</td>\n",
       "      <td>300</td>\n",
       "      <td>209098.0</td>\n",
       "      <td>6.0</td>\n",
       "      <td>Hamad Medjedovic</td>\n",
       "      <td>...</td>\n",
       "      <td>4.0</td>\n",
       "      <td>4.0</td>\n",
       "      <td>110.0</td>\n",
       "      <td>582.0</td>\n",
       "      <td>3.0</td>\n",
       "      <td>4.0</td>\n",
       "      <td>4.0</td>\n",
       "      <td>3.0</td>\n",
       "      <td>4.0</td>\n",
       "      <td>1</td>\n",
       "    </tr>\n",
       "    <tr>\n",
       "      <th>1</th>\n",
       "      <td>2023-7696</td>\n",
       "      <td>NextGen Finals</td>\n",
       "      <td>Hard</td>\n",
       "      <td>8</td>\n",
       "      <td>F</td>\n",
       "      <td>2023-11-27</td>\n",
       "      <td>300</td>\n",
       "      <td>209950.0</td>\n",
       "      <td>1.0</td>\n",
       "      <td>Arthur Fils</td>\n",
       "      <td>...</td>\n",
       "      <td>1.0</td>\n",
       "      <td>4.0</td>\n",
       "      <td>36.0</td>\n",
       "      <td>1158.0</td>\n",
       "      <td>4.0</td>\n",
       "      <td>1.0</td>\n",
       "      <td>2.0</td>\n",
       "      <td>4.0</td>\n",
       "      <td>1.0</td>\n",
       "      <td>0</td>\n",
       "    </tr>\n",
       "    <tr>\n",
       "      <th>2</th>\n",
       "      <td>2023-7696</td>\n",
       "      <td>NextGen Finals</td>\n",
       "      <td>Hard</td>\n",
       "      <td>8</td>\n",
       "      <td>F</td>\n",
       "      <td>2023-11-27</td>\n",
       "      <td>299</td>\n",
       "      <td>209950.0</td>\n",
       "      <td>1.0</td>\n",
       "      <td>Arthur Fils</td>\n",
       "      <td>...</td>\n",
       "      <td>2.0</td>\n",
       "      <td>3.0</td>\n",
       "      <td>36.0</td>\n",
       "      <td>1158.0</td>\n",
       "      <td>2.0</td>\n",
       "      <td>4.0</td>\n",
       "      <td>4.0</td>\n",
       "      <td>4.0</td>\n",
       "      <td>NaN</td>\n",
       "      <td>1</td>\n",
       "    </tr>\n",
       "    <tr>\n",
       "      <th>3</th>\n",
       "      <td>2023-7696</td>\n",
       "      <td>NextGen Finals</td>\n",
       "      <td>Hard</td>\n",
       "      <td>8</td>\n",
       "      <td>F</td>\n",
       "      <td>2023-11-27</td>\n",
       "      <td>299</td>\n",
       "      <td>209414.0</td>\n",
       "      <td>2.0</td>\n",
       "      <td>Luca Van Assche</td>\n",
       "      <td>...</td>\n",
       "      <td>2.0</td>\n",
       "      <td>3.0</td>\n",
       "      <td>70.0</td>\n",
       "      <td>756.0</td>\n",
       "      <td>4.0</td>\n",
       "      <td>1.0</td>\n",
       "      <td>3.0</td>\n",
       "      <td>3.0</td>\n",
       "      <td>NaN</td>\n",
       "      <td>0</td>\n",
       "    </tr>\n",
       "    <tr>\n",
       "      <th>4</th>\n",
       "      <td>2023-7696</td>\n",
       "      <td>NextGen Finals</td>\n",
       "      <td>Hard</td>\n",
       "      <td>8</td>\n",
       "      <td>F</td>\n",
       "      <td>2023-11-27</td>\n",
       "      <td>298</td>\n",
       "      <td>209098.0</td>\n",
       "      <td>6.0</td>\n",
       "      <td>Hamad Medjedovic</td>\n",
       "      <td>...</td>\n",
       "      <td>0.0</td>\n",
       "      <td>0.0</td>\n",
       "      <td>110.0</td>\n",
       "      <td>582.0</td>\n",
       "      <td>4.0</td>\n",
       "      <td>2.0</td>\n",
       "      <td>NaN</td>\n",
       "      <td>NaN</td>\n",
       "      <td>NaN</td>\n",
       "      <td>1</td>\n",
       "    </tr>\n",
       "  </tbody>\n",
       "</table>\n",
       "<p>5 rows × 35 columns</p>\n",
       "</div>"
      ],
      "text/plain": [
       "  tourney_id    tourney_name surface  draw_size tourney_level tourney_date  \\\n",
       "0  2023-7696  NextGen Finals    Hard          8             F   2023-11-27   \n",
       "1  2023-7696  NextGen Finals    Hard          8             F   2023-11-27   \n",
       "2  2023-7696  NextGen Finals    Hard          8             F   2023-11-27   \n",
       "3  2023-7696  NextGen Finals    Hard          8             F   2023-11-27   \n",
       "4  2023-7696  NextGen Finals    Hard          8             F   2023-11-27   \n",
       "\n",
       "   match_num  player_id  player_seed       player_name  ... player_bpSaved  \\\n",
       "0        300   209098.0          6.0  Hamad Medjedovic  ...            4.0   \n",
       "1        300   209950.0          1.0       Arthur Fils  ...            1.0   \n",
       "2        299   209950.0          1.0       Arthur Fils  ...            2.0   \n",
       "3        299   209414.0          2.0   Luca Van Assche  ...            2.0   \n",
       "4        298   209098.0          6.0  Hamad Medjedovic  ...            0.0   \n",
       "\n",
       "   player_bpFaced player_rank  player_rank_points set_1_score  set_2_score  \\\n",
       "0             4.0       110.0               582.0         3.0          4.0   \n",
       "1             4.0        36.0              1158.0         4.0          1.0   \n",
       "2             3.0        36.0              1158.0         2.0          4.0   \n",
       "3             3.0        70.0               756.0         4.0          1.0   \n",
       "4             0.0       110.0               582.0         4.0          2.0   \n",
       "\n",
       "  set_3_score  set_4_score  set_5_score  winner  \n",
       "0         4.0          3.0          4.0       1  \n",
       "1         2.0          4.0          1.0       0  \n",
       "2         4.0          4.0          NaN       1  \n",
       "3         3.0          3.0          NaN       0  \n",
       "4         NaN          NaN          NaN       1  \n",
       "\n",
       "[5 rows x 35 columns]"
      ]
     },
     "execution_count": 2,
     "metadata": {},
     "output_type": "execute_result"
    }
   ],
   "source": [
    "df = pd.read_csv('../Resources/matches_cleaned.csv')\n",
    "df.drop(columns=['Unnamed: 0'], inplace=True)\n",
    "df.head()"
   ]
  },
  {
   "cell_type": "code",
   "execution_count": 3,
   "metadata": {},
   "outputs": [
    {
     "name": "stdout",
     "output_type": "stream",
     "text": [
      "<class 'pandas.core.frame.DataFrame'>\n",
      "RangeIndex: 76434 entries, 0 to 76433\n",
      "Data columns (total 35 columns):\n",
      " #   Column              Non-Null Count  Dtype  \n",
      "---  ------              --------------  -----  \n",
      " 0   tourney_id          76434 non-null  object \n",
      " 1   tourney_name        76434 non-null  object \n",
      " 2   surface             76434 non-null  object \n",
      " 3   draw_size           76434 non-null  int64  \n",
      " 4   tourney_level       76434 non-null  object \n",
      " 5   tourney_date        76434 non-null  object \n",
      " 6   match_num           76434 non-null  int64  \n",
      " 7   player_id           76434 non-null  float64\n",
      " 8   player_seed         27936 non-null  float64\n",
      " 9   player_name         76434 non-null  object \n",
      " 10  player_hand         76434 non-null  object \n",
      " 11  player_ht           75798 non-null  float64\n",
      " 12  player_ioc          76434 non-null  object \n",
      " 13  player_age          76432 non-null  float64\n",
      " 14  score               76434 non-null  object \n",
      " 15  best_of             76434 non-null  int64  \n",
      " 16  round               76434 non-null  object \n",
      " 17  minutes             73082 non-null  float64\n",
      " 18  player_ace          75788 non-null  float64\n",
      " 19  player_df           75788 non-null  float64\n",
      " 20  player_svpt         75788 non-null  float64\n",
      " 21  player_1stIn        75788 non-null  float64\n",
      " 22  player_1stWon       75788 non-null  float64\n",
      " 23  player_2ndWon       75788 non-null  float64\n",
      " 24  player_SvGms        75790 non-null  float64\n",
      " 25  player_bpSaved      75788 non-null  float64\n",
      " 26  player_bpFaced      75788 non-null  float64\n",
      " 27  player_rank         76331 non-null  float64\n",
      " 28  player_rank_points  76331 non-null  float64\n",
      " 29  set_1_score         75948 non-null  float64\n",
      " 30  set_2_score         75370 non-null  float64\n",
      " 31  set_3_score         36261 non-null  float64\n",
      " 32  set_4_score         7370 non-null   float64\n",
      " 33  set_5_score         2560 non-null   float64\n",
      " 34  winner              76434 non-null  int64  \n",
      "dtypes: float64(21), int64(4), object(10)\n",
      "memory usage: 20.4+ MB\n"
     ]
    }
   ],
   "source": [
    "df.info()"
   ]
  },
  {
   "cell_type": "markdown",
   "metadata": {},
   "source": [
    "### Select Features and Target(s)"
   ]
  },
  {
   "cell_type": "code",
   "execution_count": 4,
   "metadata": {},
   "outputs": [],
   "source": [
    "#if we want to restrict features columns later: \n",
    "\n",
    "# %% OPTIMIZATION AND EVALUATION %%\n",
    "# Dropping even more columns: best_of and round\n",
    "\n",
    "\n",
    "# next time we can try dropping a lot of the game numerical data and seeing what happens to accuracy\n",
    "\n",
    "#drop unwanted columns\n",
    "columns_to_drop = ['tourney_id', 'tourney_date', 'tourney_name', 'match_num', 'score', 'player_name', 'player_ioc', 'best_of', 'round']\n",
    "df.drop(columns=columns_to_drop, inplace=True)"
   ]
  },
  {
   "cell_type": "code",
   "execution_count": 5,
   "metadata": {},
   "outputs": [
    {
     "data": {
      "text/html": [
       "<div>\n",
       "<style scoped>\n",
       "    .dataframe tbody tr th:only-of-type {\n",
       "        vertical-align: middle;\n",
       "    }\n",
       "\n",
       "    .dataframe tbody tr th {\n",
       "        vertical-align: top;\n",
       "    }\n",
       "\n",
       "    .dataframe thead th {\n",
       "        text-align: right;\n",
       "    }\n",
       "</style>\n",
       "<table border=\"1\" class=\"dataframe\">\n",
       "  <thead>\n",
       "    <tr style=\"text-align: right;\">\n",
       "      <th></th>\n",
       "      <th>surface</th>\n",
       "      <th>draw_size</th>\n",
       "      <th>tourney_level</th>\n",
       "      <th>player_id</th>\n",
       "      <th>player_seed</th>\n",
       "      <th>player_hand</th>\n",
       "      <th>player_ht</th>\n",
       "      <th>player_age</th>\n",
       "      <th>minutes</th>\n",
       "      <th>player_ace</th>\n",
       "      <th>...</th>\n",
       "      <th>player_SvGms</th>\n",
       "      <th>player_bpSaved</th>\n",
       "      <th>player_bpFaced</th>\n",
       "      <th>player_rank</th>\n",
       "      <th>player_rank_points</th>\n",
       "      <th>set_1_score</th>\n",
       "      <th>set_2_score</th>\n",
       "      <th>set_3_score</th>\n",
       "      <th>set_4_score</th>\n",
       "      <th>set_5_score</th>\n",
       "    </tr>\n",
       "  </thead>\n",
       "  <tbody>\n",
       "    <tr>\n",
       "      <th>0</th>\n",
       "      <td>Hard</td>\n",
       "      <td>8</td>\n",
       "      <td>F</td>\n",
       "      <td>209098.0</td>\n",
       "      <td>6.0</td>\n",
       "      <td>R</td>\n",
       "      <td>185.0</td>\n",
       "      <td>20.3</td>\n",
       "      <td>131.0</td>\n",
       "      <td>19.0</td>\n",
       "      <td>...</td>\n",
       "      <td>15.0</td>\n",
       "      <td>4.0</td>\n",
       "      <td>4.0</td>\n",
       "      <td>110.0</td>\n",
       "      <td>582.0</td>\n",
       "      <td>3.0</td>\n",
       "      <td>4.0</td>\n",
       "      <td>4.0</td>\n",
       "      <td>3.0</td>\n",
       "      <td>4.0</td>\n",
       "    </tr>\n",
       "    <tr>\n",
       "      <th>1</th>\n",
       "      <td>Hard</td>\n",
       "      <td>8</td>\n",
       "      <td>F</td>\n",
       "      <td>209950.0</td>\n",
       "      <td>1.0</td>\n",
       "      <td>R</td>\n",
       "      <td>185.0</td>\n",
       "      <td>19.4</td>\n",
       "      <td>131.0</td>\n",
       "      <td>11.0</td>\n",
       "      <td>...</td>\n",
       "      <td>13.0</td>\n",
       "      <td>1.0</td>\n",
       "      <td>4.0</td>\n",
       "      <td>36.0</td>\n",
       "      <td>1158.0</td>\n",
       "      <td>4.0</td>\n",
       "      <td>1.0</td>\n",
       "      <td>2.0</td>\n",
       "      <td>4.0</td>\n",
       "      <td>1.0</td>\n",
       "    </tr>\n",
       "    <tr>\n",
       "      <th>2</th>\n",
       "      <td>Hard</td>\n",
       "      <td>8</td>\n",
       "      <td>F</td>\n",
       "      <td>209950.0</td>\n",
       "      <td>1.0</td>\n",
       "      <td>R</td>\n",
       "      <td>185.0</td>\n",
       "      <td>19.4</td>\n",
       "      <td>97.0</td>\n",
       "      <td>9.0</td>\n",
       "      <td>...</td>\n",
       "      <td>12.0</td>\n",
       "      <td>2.0</td>\n",
       "      <td>3.0</td>\n",
       "      <td>36.0</td>\n",
       "      <td>1158.0</td>\n",
       "      <td>2.0</td>\n",
       "      <td>4.0</td>\n",
       "      <td>4.0</td>\n",
       "      <td>4.0</td>\n",
       "      <td>NaN</td>\n",
       "    </tr>\n",
       "    <tr>\n",
       "      <th>3</th>\n",
       "      <td>Hard</td>\n",
       "      <td>8</td>\n",
       "      <td>F</td>\n",
       "      <td>209414.0</td>\n",
       "      <td>2.0</td>\n",
       "      <td>R</td>\n",
       "      <td>NaN</td>\n",
       "      <td>19.5</td>\n",
       "      <td>97.0</td>\n",
       "      <td>6.0</td>\n",
       "      <td>...</td>\n",
       "      <td>11.0</td>\n",
       "      <td>2.0</td>\n",
       "      <td>3.0</td>\n",
       "      <td>70.0</td>\n",
       "      <td>756.0</td>\n",
       "      <td>4.0</td>\n",
       "      <td>1.0</td>\n",
       "      <td>3.0</td>\n",
       "      <td>3.0</td>\n",
       "      <td>NaN</td>\n",
       "    </tr>\n",
       "    <tr>\n",
       "      <th>4</th>\n",
       "      <td>Hard</td>\n",
       "      <td>8</td>\n",
       "      <td>F</td>\n",
       "      <td>209098.0</td>\n",
       "      <td>6.0</td>\n",
       "      <td>R</td>\n",
       "      <td>185.0</td>\n",
       "      <td>20.3</td>\n",
       "      <td>32.0</td>\n",
       "      <td>5.0</td>\n",
       "      <td>...</td>\n",
       "      <td>4.0</td>\n",
       "      <td>0.0</td>\n",
       "      <td>0.0</td>\n",
       "      <td>110.0</td>\n",
       "      <td>582.0</td>\n",
       "      <td>4.0</td>\n",
       "      <td>2.0</td>\n",
       "      <td>NaN</td>\n",
       "      <td>NaN</td>\n",
       "      <td>NaN</td>\n",
       "    </tr>\n",
       "  </tbody>\n",
       "</table>\n",
       "<p>5 rows × 25 columns</p>\n",
       "</div>"
      ],
      "text/plain": [
       "  surface  draw_size tourney_level  player_id  player_seed player_hand  \\\n",
       "0    Hard          8             F   209098.0          6.0           R   \n",
       "1    Hard          8             F   209950.0          1.0           R   \n",
       "2    Hard          8             F   209950.0          1.0           R   \n",
       "3    Hard          8             F   209414.0          2.0           R   \n",
       "4    Hard          8             F   209098.0          6.0           R   \n",
       "\n",
       "   player_ht  player_age  minutes  player_ace  ...  player_SvGms  \\\n",
       "0      185.0        20.3    131.0        19.0  ...          15.0   \n",
       "1      185.0        19.4    131.0        11.0  ...          13.0   \n",
       "2      185.0        19.4     97.0         9.0  ...          12.0   \n",
       "3        NaN        19.5     97.0         6.0  ...          11.0   \n",
       "4      185.0        20.3     32.0         5.0  ...           4.0   \n",
       "\n",
       "   player_bpSaved  player_bpFaced  player_rank  player_rank_points  \\\n",
       "0             4.0             4.0        110.0               582.0   \n",
       "1             1.0             4.0         36.0              1158.0   \n",
       "2             2.0             3.0         36.0              1158.0   \n",
       "3             2.0             3.0         70.0               756.0   \n",
       "4             0.0             0.0        110.0               582.0   \n",
       "\n",
       "   set_1_score  set_2_score  set_3_score  set_4_score  set_5_score  \n",
       "0          3.0          4.0          4.0          3.0          4.0  \n",
       "1          4.0          1.0          2.0          4.0          1.0  \n",
       "2          2.0          4.0          4.0          4.0          NaN  \n",
       "3          4.0          1.0          3.0          3.0          NaN  \n",
       "4          4.0          2.0          NaN          NaN          NaN  \n",
       "\n",
       "[5 rows x 25 columns]"
      ]
     },
     "execution_count": 5,
     "metadata": {},
     "output_type": "execute_result"
    }
   ],
   "source": [
    "X = df.copy()\n",
    "X.drop('winner', axis=1, inplace=True)\n",
    "\n",
    "X.head()"
   ]
  },
  {
   "cell_type": "code",
   "execution_count": 6,
   "metadata": {},
   "outputs": [
    {
     "data": {
      "text/plain": [
       "0    1\n",
       "1    0\n",
       "2    1\n",
       "3    0\n",
       "4    1\n",
       "Name: winner, dtype: int64"
      ]
     },
     "execution_count": 6,
     "metadata": {},
     "output_type": "execute_result"
    }
   ],
   "source": [
    "y = df['winner']\n",
    "y.head()"
   ]
  },
  {
   "cell_type": "markdown",
   "metadata": {},
   "source": [
    "### Set Up Preprocessing Pipeline\n",
    "\n",
    "Potential optimization steps: can try to not standardize the different set scores, because those should be really strong indicators. \n",
    "\n",
    "Target column is just a 1/0  at a 50/50 split by definition so it shouldn't need standardization - it makes no sense to convert something binary into something continuous. "
   ]
  },
  {
   "cell_type": "code",
   "execution_count": 7,
   "metadata": {},
   "outputs": [],
   "source": [
    "from sklearn.preprocessing import StandardScaler, OneHotEncoder\n",
    "from sklearn.compose import ColumnTransformer\n",
    "from sklearn.pipeline import Pipeline\n",
    "from sklearn.impute import SimpleImputer"
   ]
  },
  {
   "cell_type": "code",
   "execution_count": 8,
   "metadata": {},
   "outputs": [],
   "source": [
    "categorical_columns = ['surface', 'tourney_level', 'player_hand' ]  \n",
    "numerical_columns = X.columns.difference(categorical_columns)"
   ]
  },
  {
   "cell_type": "code",
   "execution_count": 9,
   "metadata": {},
   "outputs": [],
   "source": [
    "#potential to change/drop set columns later/modify imputing strategy for optimization in the future\n",
    "\n",
    "# Preprocessing pipeline\n",
    "preprocessor = ColumnTransformer(\n",
    "    transformers=[\n",
    "        ('num', Pipeline([\n",
    "            ('imputer', SimpleImputer(strategy='mean')),  # Impute missing values for numerical columns\n",
    "            ('scaler', StandardScaler())  # Standardize numerical columns\n",
    "        ]), numerical_columns),\n",
    "        ('cat', Pipeline([\n",
    "            ('imputer', SimpleImputer(strategy='most_frequent')),  # Impute missing values for categorical columns\n",
    "            ('onehot', OneHotEncoder(handle_unknown='ignore'))  # One-hot encode categorical columns\n",
    "        ]), categorical_columns)\n",
    "    ])"
   ]
  },
  {
   "cell_type": "markdown",
   "metadata": {},
   "source": [
    "### Confirm Separation of Dataframe into Features/Target"
   ]
  },
  {
   "cell_type": "code",
   "execution_count": 10,
   "metadata": {},
   "outputs": [],
   "source": [
    "from sklearn.model_selection import train_test_split\n"
   ]
  },
  {
   "cell_type": "code",
   "execution_count": 11,
   "metadata": {},
   "outputs": [],
   "source": [
    "X_train, X_test, y_train, y_test = train_test_split(X, y, test_size=0.2, random_state=42)\n"
   ]
  },
  {
   "cell_type": "markdown",
   "metadata": {},
   "source": [
    "### Run Preprocessor Fit/Transform "
   ]
  },
  {
   "cell_type": "code",
   "execution_count": 12,
   "metadata": {},
   "outputs": [],
   "source": [
    "\n",
    "# Fit and transform the training data, transform the testing data\n",
    "X_train = preprocessor.fit_transform(X_train)\n",
    "X_test = preprocessor.transform(X_test)"
   ]
  },
  {
   "cell_type": "markdown",
   "metadata": {},
   "source": [
    "### Creating the Model"
   ]
  },
  {
   "cell_type": "code",
   "execution_count": 13,
   "metadata": {},
   "outputs": [],
   "source": [
    "import tensorflow as tf\n",
    "from tensorflow.keras.models import Sequential\n",
    "from tensorflow.keras.layers import Dense, Dropout\n"
   ]
  },
  {
   "cell_type": "code",
   "execution_count": 14,
   "metadata": {},
   "outputs": [],
   "source": [
    "#note I had to pip install scikeras \n",
    "\n",
    "from scikeras.wrappers import KerasClassifier\n",
    "from sklearn.model_selection import GridSearchCV\n"
   ]
  },
  {
   "cell_type": "code",
   "execution_count": 15,
   "metadata": {},
   "outputs": [],
   "source": [
    "# Define the neural network model\n",
    "#room for optimization here - GridSearchCV should help us find the optimal parameters. Or we can use keras-tuner\n",
    "\n",
    "def create_model(optimizer='adam', dropout_rate=0.5):\n",
    "    model = Sequential()\n",
    "    model.add(Dense(128, input_dim=X_train.shape[1], activation='relu'))\n",
    "    model.add(Dropout(dropout_rate))\n",
    "    model.add(Dense(64, activation='relu'))\n",
    "    model.add(Dense(1, activation='sigmoid'))  # Assuming binary classification\n",
    "    model.compile(optimizer=optimizer, loss='binary_crossentropy', metrics=['accuracy'])\n",
    "    return model\n"
   ]
  },
  {
   "cell_type": "code",
   "execution_count": 16,
   "metadata": {},
   "outputs": [
    {
     "name": "stderr",
     "output_type": "stream",
     "text": [
      "c:\\Users\\rttay\\anaconda3\\envs\\dev\\lib\\site-packages\\scikeras\\wrappers.py:925: UserWarning: ``build_fn`` will be renamed to ``model`` in a future release, at which point use of ``build_fn`` will raise an Error instead.\n",
      "  X, y = self._initialize(X, y)\n",
      "c:\\Users\\rttay\\anaconda3\\envs\\dev\\lib\\site-packages\\keras\\src\\layers\\core\\dense.py:87: UserWarning: Do not pass an `input_shape`/`input_dim` argument to a layer. When using Sequential models, prefer using an `Input(shape)` object as the first layer in the model instead.\n",
      "  super().__init__(activity_regularizer=activity_regularizer, **kwargs)\n"
     ]
    },
    {
     "name": "stdout",
     "output_type": "stream",
     "text": [
      "Test accuracy: 0.9795250866749525\n"
     ]
    }
   ],
   "source": [
    "# Use KerasClassifier wrapper\n",
    "model = KerasClassifier(build_fn=create_model, verbose=0)\n",
    "\n",
    "# Training and Evaluating the Model\n",
    "model.fit(X_train, y_train, epochs=50, batch_size=32, validation_split=0.2)\n",
    "score = model.score(X_test, y_test)\n",
    "print(f\"Test accuracy: {score}\")"
   ]
  },
  {
   "cell_type": "markdown",
   "metadata": {},
   "source": [
    "### Evaluate Model"
   ]
  },
  {
   "cell_type": "code",
   "execution_count": 17,
   "metadata": {},
   "outputs": [],
   "source": [
    "from sklearn.metrics import confusion_matrix, accuracy_score, classification_report\n",
    "from sklearn.metrics import precision_score, recall_score, f1_score, roc_auc_score"
   ]
  },
  {
   "cell_type": "code",
   "execution_count": 18,
   "metadata": {},
   "outputs": [],
   "source": [
    "# Make predictions\n",
    "predictions = model.predict(X_test)\n",
    "y_pred_proba = model.predict_proba(X_test)[:, 1]  # Probability estimates for ROC AUC\n"
   ]
  },
  {
   "cell_type": "code",
   "execution_count": 19,
   "metadata": {},
   "outputs": [
    {
     "name": "stdout",
     "output_type": "stream",
     "text": [
      "Accuracy: 0.98\n",
      "Precision: 0.98\n",
      "Recall: 0.98\n",
      "F1-Score: 0.98\n",
      "Confusion Matrix:\n",
      "[[7404  165]\n",
      " [ 148 7570]]\n",
      "\n",
      "Classification Report:\n",
      "              precision    recall  f1-score   support\n",
      "\n",
      "           0       0.98      0.98      0.98      7569\n",
      "           1       0.98      0.98      0.98      7718\n",
      "\n",
      "    accuracy                           0.98     15287\n",
      "   macro avg       0.98      0.98      0.98     15287\n",
      "weighted avg       0.98      0.98      0.98     15287\n",
      "\n",
      "ROC AUC Score: 0.9981660474519793\n"
     ]
    }
   ],
   "source": [
    "\n",
    "accuracy = accuracy_score(y_test, predictions)\n",
    "precision = precision_score(y_test, predictions)\n",
    "recall = recall_score(y_test, predictions)\n",
    "f1 = f1_score(y_test, predictions)\n",
    "conf_matrix = confusion_matrix(y_test, predictions)\n",
    "roc_auc = roc_auc_score(y_test, y_pred_proba)\n",
    "class_report = classification_report(y_test, predictions)\n",
    "\n",
    "\n",
    "print(f'Accuracy: {accuracy:.2f}')\n",
    "print(f'Precision: {precision:.2f}')\n",
    "print(f'Recall: {recall:.2f}')\n",
    "print(f'F1-Score: {f1:.2f}')\n",
    "print(f'Confusion Matrix:\\n{conf_matrix}')\n",
    "print(f'\\nClassification Report:\\n{classification_report(y_test, predictions)}')\n",
    "print(f\"ROC AUC Score: {roc_auc}\")"
   ]
  },
  {
   "cell_type": "markdown",
   "metadata": {},
   "source": [
    "### Hyperparameter Tuning"
   ]
  },
  {
   "cell_type": "code",
   "execution_count": 20,
   "metadata": {},
   "outputs": [
    {
     "name": "stderr",
     "output_type": "stream",
     "text": [
      "c:\\Users\\rttay\\anaconda3\\envs\\dev\\lib\\site-packages\\scikeras\\wrappers.py:925: UserWarning: ``build_fn`` will be renamed to ``model`` in a future release, at which point use of ``build_fn`` will raise an Error instead.\n",
      "  X, y = self._initialize(X, y)\n",
      "c:\\Users\\rttay\\anaconda3\\envs\\dev\\lib\\site-packages\\keras\\src\\layers\\core\\dense.py:87: UserWarning: Do not pass an `input_shape`/`input_dim` argument to a layer. When using Sequential models, prefer using an `Input(shape)` object as the first layer in the model instead.\n",
      "  super().__init__(activity_regularizer=activity_regularizer, **kwargs)\n"
     ]
    },
    {
     "name": "stdout",
     "output_type": "stream",
     "text": [
      "Best parameters: {'batch_size': 32, 'epochs': 100, 'model__dropout_rate': 0.5, 'model__optimizer': 'adam'}\n",
      "Best model test accuracy: 0.9803100673775103\n"
     ]
    }
   ],
   "source": [
    "# Hyperparameter Tuning with GridSearchCV\n",
    "param_grid = {\n",
    "    'model__optimizer': ['adam', 'rmsprop'],\n",
    "    'model__dropout_rate': [0.5],\n",
    "    'epochs': [100],\n",
    "    'batch_size': [32]\n",
    "}\n",
    "\n",
    "grid = GridSearchCV(estimator=model, param_grid=param_grid, n_jobs=-1, cv=3)\n",
    "grid_result = grid.fit(X_train, y_train)\n",
    "\n",
    "# Best model and parameters\n",
    "best_model = grid_result.best_estimator_\n",
    "best_params = grid_result.best_params_\n",
    "print(f\"Best parameters: {best_params}\")\n",
    "\n",
    "# Evaluate the best model on the test set\n",
    "best_score = best_model.score(X_test, y_test)\n",
    "print(f\"Best model test accuracy: {best_score}\")"
   ]
  },
  {
   "cell_type": "markdown",
   "metadata": {},
   "source": []
  },
  {
   "cell_type": "markdown",
   "metadata": {},
   "source": [
    "### Best Model Evaluation"
   ]
  },
  {
   "cell_type": "code",
   "execution_count": null,
   "metadata": {},
   "outputs": [],
   "source": [
    "#an improvement over model 1, almost 1 percent"
   ]
  }
 ],
 "metadata": {
  "kernelspec": {
   "display_name": "dev",
   "language": "python",
   "name": "python3"
  },
  "language_info": {
   "codemirror_mode": {
    "name": "ipython",
    "version": 3
   },
   "file_extension": ".py",
   "mimetype": "text/x-python",
   "name": "python",
   "nbconvert_exporter": "python",
   "pygments_lexer": "ipython3",
   "version": "3.10.13"
  }
 },
 "nbformat": 4,
 "nbformat_minor": 2
}
